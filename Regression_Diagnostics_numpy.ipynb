{
 "cells": [
  {
   "cell_type": "code",
   "execution_count": 1,
   "id": "80d6c50f",
   "metadata": {},
   "outputs": [],
   "source": [
    "import numpy as np \n",
    "import pandas as pd\n",
    "import matplotlib.pyplot as plt\n",
    "import scipy as sp\n",
    "import statsmodels.api as sm\n",
    "\n",
    "from scipy.optimize import curve_fit\n",
    "from sklearn.linear_model import LinearRegression\n",
    "\n",
    "coeffs = ['IP', 'BT', 'NEL', 'PLTH', 'RGEO', 'KAREA', 'EPS', 'MEFF']"
   ]
  },
  {
   "cell_type": "markdown",
   "id": "90d6dc7c",
   "metadata": {},
   "source": [
    "* Thermal energy confinement time: $\\tau_{E,th} = W_{th}/P_{l,th}$ [s]\n",
    "    - Thermal stored energy: $W_{th}$\n",
    "* Intercept of the regression: $\\alpha_0$    \n",
    "* Plasma current: $I_P$ [MA]\n",
    "* Vacuum toroidal magnetic field: $B_t$ [T]\n",
    "* Central line-averaged electron density: $\\bar{n}_e$ [$\\cdot$10$^{19}$ m $^{-3}$] \n",
    "* Thermal power lost due to the transport through the LCFS: $P_{l,th}$ [MW]\n",
    "* Major radius: $R_{geo}$ [m]\n",
    "* Elongation of the last-closed flux surface: $\\kappa = V/(2\\pi R_{geo}\\pi a^2)$ \n",
    "    - Plasma volume inside the LCFS: V [m$^{3}$]\n",
    "    - Minor radius: $a$ [m] \n",
    "* Inverse aspect ration: $\\epsilon = a/R_{geo}$ \n",
    "    - large $\\epsilon$ = spherical tokamak (NSTX and MAST)\n",
    "* Effective atomic mass of the plasma $M_{eff}$\n",
    "\n",
    "$$\n",
    "    \\tau_{E,th} = \\alpha_0\\cdot I_P^{\\alpha_I}\\cdot B^{\\alpha_B}_t\\cdot \\bar{n}^{\\alpha_n}_e  \\cdot P^{\\alpha_P}_{l,th}\\cdot R^{\\alpha_R}_{geo}\\cdot \\kappa^{\\alpha_\\kappa}_a\\cdot \\epsilon^{\\alpha_\\epsilon}\\cdot M^{\\alpha_M}_{eff}\n",
    "$$"
   ]
  },
  {
   "cell_type": "code",
   "execution_count": 2,
   "id": "23c00a66",
   "metadata": {},
   "outputs": [],
   "source": [
    "DB2P8 = pd.read_csv(\"data/DB2P8.csv\")\n",
    "DB5 = pd.read_csv(\"data/DB5.csv\")\n",
    "\n",
    "DB2P8 = DB2P8[DB5.columns]\n",
    "\n",
    "# How was this chosen? Is this a form of removing outliers or noise to the new regression?\n",
    "# Why not simply use the whole DB5?\n",
    "new_ids = pd.read_csv(\"data/new_point_ids.csv\")\n",
    "\n",
    "data = pd.read_csv(\"data/data.csv\")\n",
    "                  \n",
    "Re_DB5 = pd.read_csv(\"data/R.csv\")#DB5[DB5.id.isin(new_ids.id.values)] #reintroduce dataset"
   ]
  },
  {
   "cell_type": "code",
   "execution_count": 3,
   "id": "4d6ec759",
   "metadata": {},
   "outputs": [
    {
     "data": {
      "text/plain": [
       "(6250, 6250)"
      ]
     },
     "execution_count": 3,
     "metadata": {},
     "output_type": "execute_result"
    }
   ],
   "source": [
    "len(DB5.id.unique()),len(DB5)"
   ]
  },
  {
   "cell_type": "code",
   "execution_count": 4,
   "id": "62dbd1ae",
   "metadata": {},
   "outputs": [
    {
     "data": {
      "text/plain": [
       "(1310, 1310)"
      ]
     },
     "execution_count": 4,
     "metadata": {},
     "output_type": "execute_result"
    }
   ],
   "source": [
    "len(DB2P8.id.unique()),len(DB2P8)"
   ]
  },
  {
   "cell_type": "code",
   "execution_count": 5,
   "id": "80f6dbe7",
   "metadata": {},
   "outputs": [],
   "source": [
    "Y = DB2P8[[\"TAUTH\"]].apply(np.log).to_numpy()\n",
    "\n",
    "# Adding a column for the intercept\n",
    "x_df = DB2P8[coeffs].apply(np.abs).apply(np.log)\n",
    "x_df.insert(loc = 0, column = \"intercept\", value = np.ones(len(x_df)))\n",
    "X = x_df.to_numpy()"
   ]
  },
  {
   "cell_type": "markdown",
   "id": "853f5678",
   "metadata": {},
   "source": [
    "$\\hat{\\beta} = (X^TX)^{-1}X^TY$;  $\\qquad H = X(X^TX)^{-1}X^T $"
   ]
  },
  {
   "cell_type": "code",
   "execution_count": 17,
   "id": "f38e2b37",
   "metadata": {},
   "outputs": [
    {
     "data": {
      "text/plain": [
       "array([[-3.00427156],\n",
       "       [ 0.78118806],\n",
       "       [ 0.32007666],\n",
       "       [ 0.4351609 ],\n",
       "       [-0.66818611],\n",
       "       [ 2.22296166],\n",
       "       [ 0.39007376],\n",
       "       [ 0.57561255],\n",
       "       [ 0.17980018]])"
      ]
     },
     "execution_count": 17,
     "metadata": {},
     "output_type": "execute_result"
    }
   ],
   "source": [
    "B = np.matmul( np.linalg.inv( np.matmul(X.T,X) ) ,  np.matmul(X.T,Y))\n",
    "B"
   ]
  },
  {
   "cell_type": "markdown",
   "id": "9f60c63e",
   "metadata": {},
   "source": [
    "Leverage of the $i$-th case: the diagonal element of the hat matrix\n",
    "\n",
    "$h_{ii} = x^T_i(X^TX)^{-1}x_i$ \n",
    "\n",
    "The residuals: $E = Y- \\hat{\\beta}X$\n",
    "\n",
    "MSE: $s^2 = \\sum^n_{i=1}\\frac{E^2_i}{n-p}$\n",
    "\n",
    "Studentized residual $r_i = E_i/s_{e_i}$\n",
    "\n",
    "$$\n",
    "    s_{e_i} = \\sqrt{s^2(1-h_{ii})} \\:\\: \\rightarrow \\:\\: r^*_i = \\frac{e_i}{s(i)\\sqrt{1-h_{ii}}}\n",
    "$$\n",
    "\n",
    "With $s^2(i)$ is the mean squared error when the $i-th$ case is omitted in fitting the regressio function. This follows the t-distribution with $n-p-1$ degrees of freedom; with assumptions."
   ]
  },
  {
   "cell_type": "code",
   "execution_count": 7,
   "id": "2dc8143c",
   "metadata": {},
   "outputs": [
    {
     "data": {
      "text/plain": [
       "array([[ 0.14691444],\n",
       "       [ 0.17744197],\n",
       "       [ 0.08069352],\n",
       "       ...,\n",
       "       [-0.20543691],\n",
       "       [-0.14763166],\n",
       "       [-0.13609172]])"
      ]
     },
     "execution_count": 7,
     "metadata": {},
     "output_type": "execute_result"
    }
   ],
   "source": [
    "E = Y - np.matmul(X,B)\n",
    "E"
   ]
  },
  {
   "cell_type": "markdown",
   "id": "040f8ea3",
   "metadata": {},
   "source": [
    "---\n",
    "\n",
    "### How does it change with DB5?"
   ]
  },
  {
   "cell_type": "markdown",
   "id": "6f3e5e7c",
   "metadata": {},
   "source": [
    "`pd.concat([df1, df2], axis=0, ignore_index=True)`"
   ]
  },
  {
   "cell_type": "code",
   "execution_count": 8,
   "id": "e33dc2c8",
   "metadata": {},
   "outputs": [
    {
     "data": {
      "text/html": [
       "<div>\n",
       "<style scoped>\n",
       "    .dataframe tbody tr th:only-of-type {\n",
       "        vertical-align: middle;\n",
       "    }\n",
       "\n",
       "    .dataframe tbody tr th {\n",
       "        vertical-align: top;\n",
       "    }\n",
       "\n",
       "    .dataframe thead th {\n",
       "        text-align: right;\n",
       "    }\n",
       "</style>\n",
       "<table border=\"1\" class=\"dataframe\">\n",
       "  <thead>\n",
       "    <tr style=\"text-align: right;\">\n",
       "      <th></th>\n",
       "      <th>TAUTH</th>\n",
       "      <th>IP</th>\n",
       "      <th>BT</th>\n",
       "      <th>NEL</th>\n",
       "      <th>PLTH</th>\n",
       "      <th>RGEO</th>\n",
       "      <th>KAREA</th>\n",
       "      <th>EPS</th>\n",
       "      <th>MEFF</th>\n",
       "      <th>id</th>\n",
       "    </tr>\n",
       "  </thead>\n",
       "  <tbody>\n",
       "    <tr>\n",
       "      <th>0</th>\n",
       "      <td>-2.975930</td>\n",
       "      <td>-1.217734</td>\n",
       "      <td>0.790728</td>\n",
       "      <td>1.332102</td>\n",
       "      <td>0.625938</td>\n",
       "      <td>0.527093</td>\n",
       "      <td>-0.025523</td>\n",
       "      <td>-1.418447</td>\n",
       "      <td>0.405465</td>\n",
       "      <td>HDULEH</td>\n",
       "    </tr>\n",
       "    <tr>\n",
       "      <th>1</th>\n",
       "      <td>-3.015527</td>\n",
       "      <td>-1.220102</td>\n",
       "      <td>0.790728</td>\n",
       "      <td>1.317480</td>\n",
       "      <td>0.705076</td>\n",
       "      <td>0.521172</td>\n",
       "      <td>-0.027988</td>\n",
       "      <td>-1.409604</td>\n",
       "      <td>0.405465</td>\n",
       "      <td>NAC6N1</td>\n",
       "    </tr>\n",
       "    <tr>\n",
       "      <th>2</th>\n",
       "      <td>-2.752786</td>\n",
       "      <td>-1.213686</td>\n",
       "      <td>0.790728</td>\n",
       "      <td>1.226712</td>\n",
       "      <td>0.123986</td>\n",
       "      <td>0.526502</td>\n",
       "      <td>-0.010556</td>\n",
       "      <td>-1.432100</td>\n",
       "      <td>0.405465</td>\n",
       "      <td>U2T1C7</td>\n",
       "    </tr>\n",
       "    <tr>\n",
       "      <th>3</th>\n",
       "      <td>-2.660547</td>\n",
       "      <td>-1.217734</td>\n",
       "      <td>0.790728</td>\n",
       "      <td>1.328400</td>\n",
       "      <td>0.319181</td>\n",
       "      <td>0.526502</td>\n",
       "      <td>-0.025933</td>\n",
       "      <td>-1.417369</td>\n",
       "      <td>0.405465</td>\n",
       "      <td>422XQB</td>\n",
       "    </tr>\n",
       "    <tr>\n",
       "      <th>4</th>\n",
       "      <td>-2.965979</td>\n",
       "      <td>-1.223495</td>\n",
       "      <td>0.790274</td>\n",
       "      <td>1.347294</td>\n",
       "      <td>0.709513</td>\n",
       "      <td>0.521766</td>\n",
       "      <td>-0.031387</td>\n",
       "      <td>-1.406800</td>\n",
       "      <td>0.405465</td>\n",
       "      <td>WZ9FED</td>\n",
       "    </tr>\n",
       "    <tr>\n",
       "      <th>...</th>\n",
       "      <td>...</td>\n",
       "      <td>...</td>\n",
       "      <td>...</td>\n",
       "      <td>...</td>\n",
       "      <td>...</td>\n",
       "      <td>...</td>\n",
       "      <td>...</td>\n",
       "      <td>...</td>\n",
       "      <td>...</td>\n",
       "      <td>...</td>\n",
       "    </tr>\n",
       "    <tr>\n",
       "      <th>6247</th>\n",
       "      <td>-4.094745</td>\n",
       "      <td>-1.515037</td>\n",
       "      <td>0.674474</td>\n",
       "      <td>1.593105</td>\n",
       "      <td>-0.486946</td>\n",
       "      <td>-0.189467</td>\n",
       "      <td>0.102557</td>\n",
       "      <td>-1.347185</td>\n",
       "      <td>0.693147</td>\n",
       "      <td>NGC85H</td>\n",
       "    </tr>\n",
       "    <tr>\n",
       "      <th>6248</th>\n",
       "      <td>-4.068677</td>\n",
       "      <td>-1.514582</td>\n",
       "      <td>0.668854</td>\n",
       "      <td>1.631004</td>\n",
       "      <td>-0.452871</td>\n",
       "      <td>-0.179605</td>\n",
       "      <td>0.096219</td>\n",
       "      <td>-1.354725</td>\n",
       "      <td>0.693147</td>\n",
       "      <td>ID1IP4</td>\n",
       "    </tr>\n",
       "    <tr>\n",
       "      <th>6249</th>\n",
       "      <td>-3.671826</td>\n",
       "      <td>-1.515037</td>\n",
       "      <td>0.668342</td>\n",
       "      <td>1.674664</td>\n",
       "      <td>-0.977634</td>\n",
       "      <td>-0.180324</td>\n",
       "      <td>0.098034</td>\n",
       "      <td>-1.355399</td>\n",
       "      <td>0.693147</td>\n",
       "      <td>K19A5H</td>\n",
       "    </tr>\n",
       "    <tr>\n",
       "      <th>6250</th>\n",
       "      <td>-1.753886</td>\n",
       "      <td>-0.020815</td>\n",
       "      <td>1.567574</td>\n",
       "      <td>1.252763</td>\n",
       "      <td>1.631591</td>\n",
       "      <td>0.897719</td>\n",
       "      <td>-0.000300</td>\n",
       "      <td>-1.116746</td>\n",
       "      <td>0.693147</td>\n",
       "      <td>D26CA1</td>\n",
       "    </tr>\n",
       "    <tr>\n",
       "      <th>6251</th>\n",
       "      <td>-1.703749</td>\n",
       "      <td>-0.028399</td>\n",
       "      <td>1.566739</td>\n",
       "      <td>1.231393</td>\n",
       "      <td>1.608037</td>\n",
       "      <td>0.898534</td>\n",
       "      <td>-0.001601</td>\n",
       "      <td>-1.115199</td>\n",
       "      <td>0.693147</td>\n",
       "      <td>UPV67I</td>\n",
       "    </tr>\n",
       "  </tbody>\n",
       "</table>\n",
       "<p>6252 rows × 10 columns</p>\n",
       "</div>"
      ],
      "text/plain": [
       "         TAUTH        IP        BT       NEL      PLTH      RGEO     KAREA  \\\n",
       "0    -2.975930 -1.217734  0.790728  1.332102  0.625938  0.527093 -0.025523   \n",
       "1    -3.015527 -1.220102  0.790728  1.317480  0.705076  0.521172 -0.027988   \n",
       "2    -2.752786 -1.213686  0.790728  1.226712  0.123986  0.526502 -0.010556   \n",
       "3    -2.660547 -1.217734  0.790728  1.328400  0.319181  0.526502 -0.025933   \n",
       "4    -2.965979 -1.223495  0.790274  1.347294  0.709513  0.521766 -0.031387   \n",
       "...        ...       ...       ...       ...       ...       ...       ...   \n",
       "6247 -4.094745 -1.515037  0.674474  1.593105 -0.486946 -0.189467  0.102557   \n",
       "6248 -4.068677 -1.514582  0.668854  1.631004 -0.452871 -0.179605  0.096219   \n",
       "6249 -3.671826 -1.515037  0.668342  1.674664 -0.977634 -0.180324  0.098034   \n",
       "6250 -1.753886 -0.020815  1.567574  1.252763  1.631591  0.897719 -0.000300   \n",
       "6251 -1.703749 -0.028399  1.566739  1.231393  1.608037  0.898534 -0.001601   \n",
       "\n",
       "           EPS      MEFF      id  \n",
       "0    -1.418447  0.405465  HDULEH  \n",
       "1    -1.409604  0.405465  NAC6N1  \n",
       "2    -1.432100  0.405465  U2T1C7  \n",
       "3    -1.417369  0.405465  422XQB  \n",
       "4    -1.406800  0.405465  WZ9FED  \n",
       "...        ...       ...     ...  \n",
       "6247 -1.347185  0.693147  NGC85H  \n",
       "6248 -1.354725  0.693147  ID1IP4  \n",
       "6249 -1.355399  0.693147  K19A5H  \n",
       "6250 -1.116746  0.693147  D26CA1  \n",
       "6251 -1.115199  0.693147  UPV67I  \n",
       "\n",
       "[6252 rows x 10 columns]"
      ]
     },
     "execution_count": 8,
     "metadata": {},
     "output_type": "execute_result"
    }
   ],
   "source": [
    "# Getting both DataFrames together\n",
    "\n",
    "DB2 = DB2P8[[\"TAUTH\"] + coeffs].apply(np.abs).apply(np.log)\n",
    "DB2[\"id\"] = DB2P8[\"id\"]\n",
    "\n",
    "R = Re_DB5[[\"TAUTH\"] + coeffs + [\"id\"]] \n",
    "\n",
    "complete_data = pd.concat([DB2, R], axis=0, ignore_index=True)\n",
    "complete_data"
   ]
  },
  {
   "cell_type": "code",
   "execution_count": 9,
   "id": "1505ec4f",
   "metadata": {},
   "outputs": [
    {
     "data": {
      "text/plain": [
       "array([[-2.51853114],\n",
       "       [ 1.13432954],\n",
       "       [ 0.0723885 ],\n",
       "       [ 0.17489654],\n",
       "       [-0.6827009 ],\n",
       "       [ 1.44790891],\n",
       "       [ 0.28022651],\n",
       "       [ 0.06355416],\n",
       "       [ 0.21401782]])"
      ]
     },
     "execution_count": 9,
     "metadata": {},
     "output_type": "execute_result"
    }
   ],
   "source": [
    "Y_DB5 = complete_data[[\"TAUTH\"]].to_numpy()\n",
    "\n",
    "# Adding a column for the intercept\n",
    "x_df = complete_data[coeffs]\n",
    "x_df.insert(loc = 0, column = \"intercept\", value = np.ones(len(x_df)))\n",
    "X_DB5 = x_df.to_numpy()\n",
    "\n",
    "n, p = X_DB5.shape\n",
    "\n",
    "B_DB5 = np.matmul( np.linalg.inv( np.matmul(X_DB5.T, X_DB5) ) ,  np.matmul(X_DB5.T, Y_DB5))\n",
    "B_DB5"
   ]
  },
  {
   "cell_type": "markdown",
   "id": "d4b7f620",
   "metadata": {},
   "source": [
    "# Why has $\\alpha_R$ decreased?\n",
    "\n",
    "## DFBETA\n",
    "\n",
    "This is the parameter estimate after deleting the $i$-th observation; namely\n",
    "\n",
    "$$\n",
    "    \\text{DFBETA} = \\hat{\\beta} - \\hat{\\beta}_i = \\frac{X^TXx_iE_i}{1 - h_{ii}}\n",
    "$$\n",
    "\n",
    "with $C = (X^TX)^{-1}X^T$. If the x's are uniformly distributed then $c_{ij} = \\mathcal{O}(n^{-1})$. The DFBETA$_j$ vector is \n",
    "\n",
    "$$\n",
    "    \\text{DFBETA}_j = b_j - b_{ji} = \\frac{c_{ji}E_i}{1 - h_{ii}}\n",
    "$$\n",
    "\n",
    "\n",
    "With $j=1,\\ldots,p$ and $b_j$ being the $j$-th element of the $\\hat{\\beta}$ parameter. When studying relative to the parameters, a scaled measure of the change can be done by \n",
    "\n",
    "$$\n",
    "    \\text{DFBETAS}_{ij} = \\frac{b_j - b_{ji}}{s(i)\\sqrt{(X^TX)^{-1}_{jj}}} = \\frac{c_{ij}}{\\sqrt{\\sum_{k=1}^n c^2_{ij}}}\\cdot\\frac{r^*_i}{\\sqrt{1-h_{ii}}}\n",
    "$$\n",
    "\n",
    "The denominator of DFBETAS$_{ij}$ is similar to the estimated standard deviation of $\\hat{\\beta}$ with the sample standard error $s$ replaced by the deleted-one version $s(i)$. BKW proposed a cutoff: $2\\cdot n ^{-1/2}$\n"
   ]
  },
  {
   "cell_type": "code",
   "execution_count": 10,
   "id": "719260c1",
   "metadata": {},
   "outputs": [],
   "source": [
    "#H = np.matmul(np.matmul( X_DB5,  np.linalg.inv( np.matmul(X_DB5.T, X_DB5) )),  X_DB5.T)\n",
    "\n",
    "residuals = Y_DB5 - np.matmul(X_DB5, B_DB5)\n",
    "red_sqr = np.dot(residuals.T,residuals)[0][0]\n",
    "S_sqr = red_sqr / (n-p)"
   ]
  },
  {
   "cell_type": "code",
   "execution_count": 21,
   "id": "f98bb597",
   "metadata": {},
   "outputs": [],
   "source": [
    "def compute_OLS_alphaR_s2(data):\n",
    "    y = data[[\"TAUTH\"]].to_numpy()\n",
    "\n",
    "    # Adding a column for the intercept\n",
    "    x_df = data[coeffs]\n",
    "    x_df.insert(loc = 0, column = \"intercept\", value = np.ones(len(x_df)))\n",
    "    x = x_df.to_numpy()\n",
    "\n",
    "    b = np.matmul( np.linalg.inv( np.matmul(X_DB5.T, X_DB5) ) ,  np.matmul(X_DB5.T, Y_DB5))\n",
    "    # obtaining the bj from the parameter of interest\n",
    "    alpha_R = b[5][0] \n",
    "    \n",
    "    N, P = x.shape\n",
    "    \n",
    "    residuals = y - np.matmul(x, b)\n",
    "    red_sqr = np.dot(residuals.T,residuals)[0][0]\n",
    "    s = np.sqrt(red_sqr / (N-P))  # standard error\n",
    "    \n",
    "    return alpha_R, s"
   ]
  },
  {
   "cell_type": "code",
   "execution_count": 22,
   "id": "32a468bc",
   "metadata": {},
   "outputs": [],
   "source": [
    "b_ji, s_i = np.zeros(len(R)), np.zeros(len(R))\n",
    "\n",
    "for i in range(len(R)):\n",
    "    df = complete_data[~complete_data.id.isin( [R[\"id\"].loc[i]] )]\n",
    "    b_ji[i], s_i[i] = compute_OLS_alphaR_s2(df)"
   ]
  },
  {
   "cell_type": "code",
   "execution_count": 27,
   "id": "68b235a7",
   "metadata": {},
   "outputs": [],
   "source": [
    "db_betas_threshold = 2/np.sqrt(n)\n",
    "\n",
    "DFBETA_j = ( B_DB5[5][0] - b_ji ) / ( s_i * np.sqrt( np.linalg.inv(np.matmul(X.T, X))[5][5] ) )\n",
    "\n",
    "pts_added_DB5 = list(range(1,len(R) + 1))"
   ]
  },
  {
   "cell_type": "code",
   "execution_count": 36,
   "id": "eec3f98a",
   "metadata": {},
   "outputs": [
    {
     "data": {
      "image/png": "[encoded data removed]",
      "text/plain": [
       "<Figure size 640x480 with 1 Axes>"
      ]
     },
     "metadata": {},
     "output_type": "display_data"
    }
   ],
   "source": [
    "plt.scatter( pts_added_DB5, DFBETA_j  );"
   ]
  },
  {
   "cell_type": "code",
   "execution_count": 30,
   "id": "20324e8f",
   "metadata": {},
   "outputs": [
    {
     "data": {
      "text/plain": [
       "array([0., 0., 0., ..., 0., 0., 0.])"
      ]
     },
     "execution_count": 30,
     "metadata": {},
     "output_type": "execute_result"
    }
   ],
   "source": [
    "DFBETA_j"
   ]
  },
  {
   "cell_type": "code",
   "execution_count": 31,
   "id": "e9dacec0",
   "metadata": {
    "scrolled": true
   },
   "outputs": [
    {
     "data": {
      "text/plain": [
       "array([0.20170816, 0.20172389, 0.20172265, ..., 0.20169821, 0.20171289,\n",
       "       0.2017051 ])"
      ]
     },
     "execution_count": 31,
     "metadata": {},
     "output_type": "execute_result"
    }
   ],
   "source": [
    "s_i"
   ]
  },
  {
   "cell_type": "code",
   "execution_count": 32,
   "id": "6c88ef8f",
   "metadata": {},
   "outputs": [
    {
     "data": {
      "text/plain": [
       "0.3154307378720393"
      ]
     },
     "execution_count": 32,
     "metadata": {},
     "output_type": "execute_result"
    }
   ],
   "source": [
    " np.sqrt( np.linalg.inv(np.matmul(X.T, X))[5][5] ) "
   ]
  },
  {
   "cell_type": "code",
   "execution_count": 35,
   "id": "70835817",
   "metadata": {},
   "outputs": [
    {
     "data": {
      "text/plain": [
       "1.4479089086806756"
      ]
     },
     "execution_count": 35,
     "metadata": {},
     "output_type": "execute_result"
    }
   ],
   "source": [
    "B_DB5[5][0] "
   ]
  },
  {
   "cell_type": "code",
   "execution_count": 34,
   "id": "a48cd1e9",
   "metadata": {},
   "outputs": [
    {
     "data": {
      "text/plain": [
       "array([1.44790891, 1.44790891, 1.44790891, ..., 1.44790891, 1.44790891,\n",
       "       1.44790891])"
      ]
     },
     "execution_count": 34,
     "metadata": {},
     "output_type": "execute_result"
    }
   ],
   "source": [
    "b_ji"
   ]
  },
  {
   "cell_type": "code",
   "execution_count": null,
   "id": "a73fc6b8",
   "metadata": {},
   "outputs": [],
   "source": []
  }
 ],
 "metadata": {
  "kernelspec": {
   "display_name": "Python 3 (ipykernel)",
   "language": "python",
   "name": "python3"
  },
  "language_info": {
   "codemirror_mode": {
    "name": "ipython",
    "version": 3
   },
   "file_extension": ".py",
   "mimetype": "text/x-python",
   "name": "python",
   "nbconvert_exporter": "python",
   "pygments_lexer": "ipython3",
   "version": "3.10.7"
  }
 },
 "nbformat": 4,
 "nbformat_minor": 5
}
