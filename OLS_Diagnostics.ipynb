{
 "cells": [
  {
   "cell_type": "markdown",
   "id": "74b2a58a",
   "metadata": {},
   "source": [
    "### Regression Diagnostics | Traditional Techniques"
   ]
  },
  {
   "cell_type": "code",
   "execution_count": 1,
   "id": "736b608f",
   "metadata": {},
   "outputs": [],
   "source": [
    "import numpy as np \n",
    "import pandas as pd\n",
    "import matplotlib.pyplot as plt\n",
    "import scipy as sp\n",
    "\n",
    "from scipy.optimize import curve_fit\n",
    "from sklearn.linear_model import LinearRegression\n",
    "\n",
    "coeffs = ['IP', 'BT', 'NEL', 'PLTH', 'RGEO', 'KAREA', 'EPS', 'MEFF']"
   ]
  },
  {
   "cell_type": "code",
   "execution_count": 2,
   "id": "8d206b9d",
   "metadata": {},
   "outputs": [],
   "source": [
    "DB2P8 = pd.read_csv(\"data/DB2P8.csv\")\n",
    "DB5 = pd.read_csv(\"data/DB5.csv\")\n",
    "\n",
    "DB2P8 = DB2P8[DB5.columns]\n",
    "\n",
    "# How was this chosen? Is this a form of removing outliers or noise to the new regression?\n",
    "# Why not simply use the whole DB5?\n",
    "new_ids = pd.read_csv(\"data/new_point_ids.csv\")\n",
    "\n",
    "data = pd.read_csv(\"data/data.csv\")\n",
    "                  \n",
    "r = pd.read_csv(\"data/R.csv\")#DB5[DB5.id.isin(new_ids.id.values)] #reintroduce dataset"
   ]
  },
  {
   "cell_type": "code",
   "execution_count": 3,
   "id": "f904cf19",
   "metadata": {},
   "outputs": [
    {
     "data": {
      "text/html": [
       "<div>\n",
       "<style scoped>\n",
       "    .dataframe tbody tr th:only-of-type {\n",
       "        vertical-align: middle;\n",
       "    }\n",
       "\n",
       "    .dataframe tbody tr th {\n",
       "        vertical-align: top;\n",
       "    }\n",
       "\n",
       "    .dataframe thead th {\n",
       "        text-align: right;\n",
       "    }\n",
       "</style>\n",
       "<table border=\"1\" class=\"dataframe\">\n",
       "  <thead>\n",
       "    <tr style=\"text-align: right;\">\n",
       "      <th></th>\n",
       "      <th>IP</th>\n",
       "      <th>BT</th>\n",
       "      <th>NEL</th>\n",
       "      <th>PLTH</th>\n",
       "      <th>RGEO</th>\n",
       "      <th>KAREA</th>\n",
       "      <th>EPS</th>\n",
       "      <th>MEFF</th>\n",
       "    </tr>\n",
       "  </thead>\n",
       "  <tbody>\n",
       "    <tr>\n",
       "      <th>0</th>\n",
       "      <td>-1.217734</td>\n",
       "      <td>0.790728</td>\n",
       "      <td>1.332102</td>\n",
       "      <td>0.625938</td>\n",
       "      <td>0.527093</td>\n",
       "      <td>-0.025523</td>\n",
       "      <td>-1.418447</td>\n",
       "      <td>0.405465</td>\n",
       "    </tr>\n",
       "    <tr>\n",
       "      <th>1</th>\n",
       "      <td>-1.220102</td>\n",
       "      <td>0.790728</td>\n",
       "      <td>1.317480</td>\n",
       "      <td>0.705076</td>\n",
       "      <td>0.521172</td>\n",
       "      <td>-0.027988</td>\n",
       "      <td>-1.409604</td>\n",
       "      <td>0.405465</td>\n",
       "    </tr>\n",
       "    <tr>\n",
       "      <th>2</th>\n",
       "      <td>-1.213686</td>\n",
       "      <td>0.790728</td>\n",
       "      <td>1.226712</td>\n",
       "      <td>0.123986</td>\n",
       "      <td>0.526502</td>\n",
       "      <td>-0.010556</td>\n",
       "      <td>-1.432100</td>\n",
       "      <td>0.405465</td>\n",
       "    </tr>\n",
       "    <tr>\n",
       "      <th>3</th>\n",
       "      <td>-1.217734</td>\n",
       "      <td>0.790728</td>\n",
       "      <td>1.328400</td>\n",
       "      <td>0.319181</td>\n",
       "      <td>0.526502</td>\n",
       "      <td>-0.025933</td>\n",
       "      <td>-1.417369</td>\n",
       "      <td>0.405465</td>\n",
       "    </tr>\n",
       "    <tr>\n",
       "      <th>4</th>\n",
       "      <td>-1.223495</td>\n",
       "      <td>0.790274</td>\n",
       "      <td>1.347294</td>\n",
       "      <td>0.709513</td>\n",
       "      <td>0.521766</td>\n",
       "      <td>-0.031387</td>\n",
       "      <td>-1.406800</td>\n",
       "      <td>0.405465</td>\n",
       "    </tr>\n",
       "    <tr>\n",
       "      <th>...</th>\n",
       "      <td>...</td>\n",
       "      <td>...</td>\n",
       "      <td>...</td>\n",
       "      <td>...</td>\n",
       "      <td>...</td>\n",
       "      <td>...</td>\n",
       "      <td>...</td>\n",
       "      <td>...</td>\n",
       "    </tr>\n",
       "    <tr>\n",
       "      <th>1305</th>\n",
       "      <td>-0.973390</td>\n",
       "      <td>0.098940</td>\n",
       "      <td>1.370165</td>\n",
       "      <td>0.506215</td>\n",
       "      <td>0.336472</td>\n",
       "      <td>0.014889</td>\n",
       "      <td>-1.252763</td>\n",
       "      <td>0.693147</td>\n",
       "    </tr>\n",
       "    <tr>\n",
       "      <th>1306</th>\n",
       "      <td>-1.037047</td>\n",
       "      <td>0.051643</td>\n",
       "      <td>1.484328</td>\n",
       "      <td>0.536493</td>\n",
       "      <td>0.336472</td>\n",
       "      <td>0.014889</td>\n",
       "      <td>-1.203973</td>\n",
       "      <td>0.693147</td>\n",
       "    </tr>\n",
       "    <tr>\n",
       "      <th>1307</th>\n",
       "      <td>-1.284821</td>\n",
       "      <td>0.049742</td>\n",
       "      <td>1.436987</td>\n",
       "      <td>0.366031</td>\n",
       "      <td>0.336472</td>\n",
       "      <td>0.012916</td>\n",
       "      <td>-1.203973</td>\n",
       "      <td>0.693147</td>\n",
       "    </tr>\n",
       "    <tr>\n",
       "      <th>1308</th>\n",
       "      <td>-1.369241</td>\n",
       "      <td>0.049742</td>\n",
       "      <td>1.301009</td>\n",
       "      <td>0.123986</td>\n",
       "      <td>0.336472</td>\n",
       "      <td>0.012916</td>\n",
       "      <td>-1.203973</td>\n",
       "      <td>0.693147</td>\n",
       "    </tr>\n",
       "    <tr>\n",
       "      <th>1309</th>\n",
       "      <td>-1.339029</td>\n",
       "      <td>0.050693</td>\n",
       "      <td>1.387793</td>\n",
       "      <td>0.220741</td>\n",
       "      <td>0.336472</td>\n",
       "      <td>0.012916</td>\n",
       "      <td>-1.203973</td>\n",
       "      <td>0.693147</td>\n",
       "    </tr>\n",
       "  </tbody>\n",
       "</table>\n",
       "<p>1310 rows × 8 columns</p>\n",
       "</div>"
      ],
      "text/plain": [
       "            IP        BT       NEL      PLTH      RGEO     KAREA       EPS  \\\n",
       "0    -1.217734  0.790728  1.332102  0.625938  0.527093 -0.025523 -1.418447   \n",
       "1    -1.220102  0.790728  1.317480  0.705076  0.521172 -0.027988 -1.409604   \n",
       "2    -1.213686  0.790728  1.226712  0.123986  0.526502 -0.010556 -1.432100   \n",
       "3    -1.217734  0.790728  1.328400  0.319181  0.526502 -0.025933 -1.417369   \n",
       "4    -1.223495  0.790274  1.347294  0.709513  0.521766 -0.031387 -1.406800   \n",
       "...        ...       ...       ...       ...       ...       ...       ...   \n",
       "1305 -0.973390  0.098940  1.370165  0.506215  0.336472  0.014889 -1.252763   \n",
       "1306 -1.037047  0.051643  1.484328  0.536493  0.336472  0.014889 -1.203973   \n",
       "1307 -1.284821  0.049742  1.436987  0.366031  0.336472  0.012916 -1.203973   \n",
       "1308 -1.369241  0.049742  1.301009  0.123986  0.336472  0.012916 -1.203973   \n",
       "1309 -1.339029  0.050693  1.387793  0.220741  0.336472  0.012916 -1.203973   \n",
       "\n",
       "          MEFF  \n",
       "0     0.405465  \n",
       "1     0.405465  \n",
       "2     0.405465  \n",
       "3     0.405465  \n",
       "4     0.405465  \n",
       "...        ...  \n",
       "1305  0.693147  \n",
       "1306  0.693147  \n",
       "1307  0.693147  \n",
       "1308  0.693147  \n",
       "1309  0.693147  \n",
       "\n",
       "[1310 rows x 8 columns]"
      ]
     },
     "execution_count": 3,
     "metadata": {},
     "output_type": "execute_result"
    }
   ],
   "source": [
    "y = DB2P8[[\"TAUTH\"]].apply(np.log)\n",
    "x = DB2P8[coeffs].apply(np.abs).apply(np.log)\n",
    "\n",
    "x"
   ]
  },
  {
   "cell_type": "code",
   "execution_count": 4,
   "id": "4e6c812a",
   "metadata": {},
   "outputs": [
    {
     "data": {
      "text/plain": [
       "array([[-1.21773372,  0.79072751,  1.33210213, ..., -0.02552296,\n",
       "        -1.41844684,  0.40546511],\n",
       "       [-1.22010219,  0.79072751,  1.31748005, ..., -0.02798804,\n",
       "        -1.40960432,  0.40546511],\n",
       "       [-1.2136865 ,  0.79072751,  1.22671229, ..., -0.01055551,\n",
       "        -1.43210021,  0.40546511],\n",
       "       ...,\n",
       "       [-1.28482139,  0.04974209,  1.43698748, ...,  0.01291623,\n",
       "        -1.2039728 ,  0.69314718],\n",
       "       [-1.36924061,  0.04974209,  1.30100877, ...,  0.01291623,\n",
       "        -1.2039728 ,  0.69314718],\n",
       "       [-1.33902917,  0.05069311,  1.38779324, ...,  0.01291623,\n",
       "        -1.2039728 ,  0.69314718]])"
      ]
     },
     "execution_count": 4,
     "metadata": {},
     "output_type": "execute_result"
    }
   ],
   "source": [
    "Y = y.to_numpy()\n",
    "X = x.to_numpy()\n",
    "\n",
    "X"
   ]
  },
  {
   "cell_type": "markdown",
   "id": "554b3ec0",
   "metadata": {},
   "source": [
    "$\\hat{\\beta} = (X^TX)^{-1}X^TY$"
   ]
  },
  {
   "cell_type": "code",
   "execution_count": 5,
   "id": "d9392b98",
   "metadata": {},
   "outputs": [
    {
     "data": {
      "text/plain": [
       "array([[ 1.03959183],\n",
       "       [ 0.07364086],\n",
       "       [-0.07179592],\n",
       "       [-0.68552627],\n",
       "       [ 1.1544161 ],\n",
       "       [ 0.31242674],\n",
       "       [ 1.33504963],\n",
       "       [-0.38127031]])"
      ]
     },
     "execution_count": 5,
     "metadata": {},
     "output_type": "execute_result"
    }
   ],
   "source": [
    "# Using Numpy\n",
    "np.matmul( np.linalg.inv( np.matmul(X.T,X) ) ,  np.matmul(X.T,Y))"
   ]
  },
  {
   "cell_type": "code",
   "execution_count": 6,
   "id": "e6583704",
   "metadata": {},
   "outputs": [
    {
     "data": {
      "text/plain": [
       "[0.7811880648207693,\n",
       " 0.3200766625186886,\n",
       " 0.4351609022028758,\n",
       " -0.6681861059730426,\n",
       " 2.22296166452915,\n",
       " 0.39007375568487695,\n",
       " 0.5756125462728638,\n",
       " 0.17980017582925945]"
      ]
     },
     "execution_count": 6,
     "metadata": {},
     "output_type": "execute_result"
    }
   ],
   "source": [
    "# Ordinary least squares Linear Regression.\n",
    "regressor = LinearRegression()\n",
    "regressor.fit(X,Y)\n",
    "\n",
    "list(regressor.coef_[0]) # num 5 is alpha_R"
   ]
  },
  {
   "cell_type": "markdown",
   "id": "593990e0",
   "metadata": {},
   "source": [
    "---\n",
    "\n",
    "[`sp.linag.lstsq(a,b)`](https://docs.scipy.org/doc/scipy/reference/generated/scipy.linalg.lstsq.html)\n",
    "\n",
    "Solution to Ax= B"
   ]
  },
  {
   "cell_type": "code",
   "execution_count": 7,
   "id": "acc57dc6",
   "metadata": {},
   "outputs": [
    {
     "data": {
      "text/plain": [
       "(array([[ 1.03959183],\n",
       "        [ 0.07364086],\n",
       "        [-0.07179592],\n",
       "        [-0.68552627],\n",
       "        [ 1.1544161 ],\n",
       "        [ 0.31242674],\n",
       "        [ 1.33504963],\n",
       "        [-0.38127031]]),\n",
       " array([], dtype=float64),\n",
       " 8,\n",
       " array([9.18546354e+03, 1.68208059e+03, 2.64371947e+02, 1.29019887e+02,\n",
       "        7.79171184e+01, 2.86886140e+01, 1.78106475e+01, 4.15422579e+00]))"
      ]
     },
     "execution_count": 7,
     "metadata": {},
     "output_type": "execute_result"
    }
   ],
   "source": [
    "# Using scipy\n",
    "A = np.matmul(X.T,X); B = np.matmul(X.T,Y)\n",
    "sp.linalg.lstsq(A,B)"
   ]
  },
  {
   "cell_type": "code",
   "execution_count": 8,
   "id": "12633b55",
   "metadata": {},
   "outputs": [
    {
     "data": {
      "text/plain": [
       "(array([[ 1.03959183],\n",
       "        [ 0.07364086],\n",
       "        [-0.07179592],\n",
       "        [-0.68552627],\n",
       "        [ 1.1544161 ],\n",
       "        [ 0.31242674],\n",
       "        [ 1.33504963],\n",
       "        [-0.38127031]]),\n",
       " array([127.56550985]),\n",
       " 8,\n",
       " array([95.84082396, 41.01317582, 16.25951866, 11.35869213,  8.82706737,\n",
       "         5.35617532,  4.22026628,  2.03819179]))"
      ]
     },
     "execution_count": 8,
     "metadata": {},
     "output_type": "execute_result"
    }
   ],
   "source": [
    "sp.linalg.lstsq(X,Y)"
   ]
  },
  {
   "cell_type": "markdown",
   "id": "d418c52d",
   "metadata": {},
   "source": [
    "---\n",
    "\n",
    "[`curve_fit`](https://docs.scipy.org/doc/scipy/reference/generated/scipy.optimize.curve_fit.html)\n",
    "\n",
    "[`source`](https://github.com/scipy/scipy/blob/v1.10.0/scipy/optimize/_minpack_py.py#L549-L912)\n",
    "\n",
    "Use non-linear least squares to fit a function, f, to data."
   ]
  },
  {
   "cell_type": "code",
   "execution_count": 9,
   "id": "0796c790",
   "metadata": {},
   "outputs": [],
   "source": [
    "def τ_lth(X, lα0, αI, αB, αn, αP, αR, αk, αε, αM):\n",
    "    I, B, n, P, R, k, ε, M = X\n",
    "    return lα0 + (I*αI) + (B*αB) + (n*αn) + (P*αP) + (R*αR) + (k*αk) + (ε*αε) + (M*αM)\n",
    "\n",
    "data = DB2P8[[\"TAUTH\"]+coeffs].apply(np.abs).apply(np.log)\n",
    "\n",
    "Y_ = data.TAUTH.values\n",
    "X_ = (\n",
    "    data.IP.values, data.BT.values, data.NEL.values, data.PLTH.values, \n",
    "    data.RGEO.values, data.KAREA.values, data.EPS.values, data.MEFF.values\n",
    ")\n",
    "\n",
    "popt, pcov = curve_fit(τ_lth, X_, Y_)"
   ]
  },
  {
   "cell_type": "code",
   "execution_count": 10,
   "id": "b3fad876",
   "metadata": {},
   "outputs": [
    {
     "data": {
      "text/plain": [
       "[-3.0042715614095066,\n",
       " 0.781188099527849,\n",
       " 0.32007661931102366,\n",
       " 0.4351608937185124,\n",
       " -0.6681861004577895,\n",
       " 2.222961611203896,\n",
       " 0.39007370662740415,\n",
       " 0.5756124820859031,\n",
       " 0.17980019309583797]"
      ]
     },
     "execution_count": 10,
     "metadata": {},
     "output_type": "execute_result"
    }
   ],
   "source": [
    "list(popt)"
   ]
  },
  {
   "cell_type": "markdown",
   "id": "4b7ae341",
   "metadata": {},
   "source": [
    "---\n",
    "\n",
    "Using `statmodels`"
   ]
  },
  {
   "cell_type": "code",
   "execution_count": 12,
   "id": "a33aed5c",
   "metadata": {},
   "outputs": [
    {
     "data": {
      "text/plain": [
       "[1.039591834019291,\n",
       " 0.07364086377111047,\n",
       " -0.07179592098552395,\n",
       " -0.6855262744983007,\n",
       " 1.154416098024112,\n",
       " 0.3124267421485935,\n",
       " 1.3350496323035508,\n",
       " -0.38127031013927654]"
      ]
     },
     "execution_count": 12,
     "metadata": {},
     "output_type": "execute_result"
    }
   ],
   "source": [
    "import statsmodels.api as sm\n",
    "\n",
    "model = sm.OLS(Y,X)\n",
    "regression = model.fit()\n",
    "\n",
    "list(regression.params)"
   ]
  },
  {
   "cell_type": "code",
   "execution_count": null,
   "id": "ea7ba6b3",
   "metadata": {},
   "outputs": [],
   "source": []
  }
 ],
 "metadata": {
  "kernelspec": {
   "display_name": "Python 3 (ipykernel)",
   "language": "python",
   "name": "python3"
  },
  "language_info": {
   "codemirror_mode": {
    "name": "ipython",
    "version": 3
   },
   "file_extension": ".py",
   "mimetype": "text/x-python",
   "name": "python",
   "nbconvert_exporter": "python",
   "pygments_lexer": "ipython3",
   "version": "3.10.7"
  }
 },
 "nbformat": 4,
 "nbformat_minor": 5
}
