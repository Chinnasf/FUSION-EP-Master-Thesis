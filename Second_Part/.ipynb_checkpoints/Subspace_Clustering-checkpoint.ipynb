{
 "cells": [
  {
   "cell_type": "code",
   "execution_count": 1,
   "id": "5abf808d",
   "metadata": {},
   "outputs": [],
   "source": [
    "%load_ext autoreload\n",
    "%autoreload 2\n",
    "\n",
    "import numpy as np \n",
    "import pandas as pd\n",
    "import matplotlib.pyplot as plt\n",
    "import scipy as sp\n",
    "import statsmodels.api as sm\n",
    "\n",
    "import matplotlib.patches as mpatches\n",
    "\n",
    "from scipy.optimize import curve_fit\n",
    "from sklearn.linear_model import LinearRegression\n",
    "\n",
    "coeffs = ['IP', 'BT', 'NEL', 'PLTH', 'RGEO', 'KAREA', 'EPS', 'MEFF']"
   ]
  },
  {
   "cell_type": "code",
   "execution_count": null,
   "id": "6ecb7e6b",
   "metadata": {},
   "outputs": [],
   "source": []
  },
  {
   "cell_type": "code",
   "execution_count": 2,
   "id": "ca40756b",
   "metadata": {},
   "outputs": [],
   "source": [
    "# REMARK: There are no spherical TOKAMAKs in these analyses.  \n",
    "\n",
    "DB2P8 = pd.read_csv(\"../data/DB2P8.csv\")\n",
    "DB5 = pd.read_csv(\"../data/DB5.csv\")\n",
    "\n",
    "DB2P8 = DB2P8[DB5.columns]\n",
    "\n",
    "# How was this chosen? Is this a form of removing outliers or noise to the new regression?\n",
    "# Why not simply use the whole DB5?\n",
    "new_ids = pd.read_csv(\"../data/new_point_ids.csv\")\n",
    "\n",
    "data = pd.read_csv(\"../data/data.csv\")\n",
    "                  \n",
    "R = pd.read_csv(\"../data/R.csv\")#DB5[DB5.id.isin(new_ids.id.values)] #reintroduce dataset\n",
    "\n",
    "DB2 = DB2P8[[\"TAUTH\"] + coeffs].apply(np.abs).apply(np.log)\n",
    "DB2[\"id\"] = DB2P8[\"id\"]\n",
    "\n",
    "baselie = pd.read_csv(\"../data/baseline_regression_values.csv\")\n",
    "\n",
    "subset_ids = pd.read_csv(\"../data/R_ids_alpha_0.9576.csv\")"
   ]
  },
  {
   "cell_type": "code",
   "execution_count": null,
   "id": "2316e7d2",
   "metadata": {},
   "outputs": [],
   "source": []
  }
 ],
 "metadata": {
  "kernelspec": {
   "display_name": "Python 3 (ipykernel)",
   "language": "python",
   "name": "python3"
  },
  "language_info": {
   "codemirror_mode": {
    "name": "ipython",
    "version": 3
   },
   "file_extension": ".py",
   "mimetype": "text/x-python",
   "name": "python",
   "nbconvert_exporter": "python",
   "pygments_lexer": "ipython3",
   "version": "3.10.7"
  }
 },
 "nbformat": 4,
 "nbformat_minor": 5
}
