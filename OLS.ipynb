{
 "cells": [
  {
   "cell_type": "code",
   "execution_count": 1,
   "id": "42465835",
   "metadata": {},
   "outputs": [],
   "source": [
    "import numpy as np \n",
    "import pandas as pd\n",
    "import matplotlib.pyplot as plt\n",
    "\n",
    "from scipy.optimize import curve_fit"
   ]
  },
  {
   "cell_type": "markdown",
   "id": "d7fa6d8b",
   "metadata": {},
   "source": [
    "### Using Scipy\n",
    "\n",
    "[`curve_fit` documentation](https://docs.scipy.org/doc/scipy/reference/generated/scipy.optimize.curve_fit.html)\n",
    "\n",
    "Use non-linear least squares to fit a function, f, to data.\n",
    "\n",
    "Assumes `ydata = f(xdata, *params) + eps`.\n",
    "\n"
   ]
  },
  {
   "cell_type": "code",
   "execution_count": 2,
   "id": "0f64d373",
   "metadata": {},
   "outputs": [],
   "source": [
    "def τ_lth(X, lα0, αI, αB, αn, αP, αR, αk, αε, αM):\n",
    "    I, B, n, P, R, k, ε, M = X\n",
    "    return lα0 + (I*αI) + (B*αB) + (n*αn) + (P*αP) + (R*αR) + (k*αk) + (ε*αε) + (M*αM)"
   ]
  },
  {
   "cell_type": "code",
   "execution_count": 3,
   "id": "dbbd3da2",
   "metadata": {},
   "outputs": [
    {
     "data": {
      "text/html": [
       "<div>\n",
       "<style scoped>\n",
       "    .dataframe tbody tr th:only-of-type {\n",
       "        vertical-align: middle;\n",
       "    }\n",
       "\n",
       "    .dataframe tbody tr th {\n",
       "        vertical-align: top;\n",
       "    }\n",
       "\n",
       "    .dataframe thead th {\n",
       "        text-align: right;\n",
       "    }\n",
       "</style>\n",
       "<table border=\"1\" class=\"dataframe\">\n",
       "  <thead>\n",
       "    <tr style=\"text-align: right;\">\n",
       "      <th></th>\n",
       "      <th>TAUTH</th>\n",
       "      <th>IP</th>\n",
       "      <th>BT</th>\n",
       "      <th>NEL</th>\n",
       "      <th>PLTH</th>\n",
       "      <th>RGEO</th>\n",
       "      <th>KAREA</th>\n",
       "      <th>EPS</th>\n",
       "      <th>MEFF</th>\n",
       "      <th>TOK</th>\n",
       "      <th>SHOT</th>\n",
       "      <th>DATE</th>\n",
       "      <th>TIME</th>\n",
       "      <th>ind</th>\n",
       "    </tr>\n",
       "  </thead>\n",
       "  <tbody>\n",
       "    <tr>\n",
       "      <th>0</th>\n",
       "      <td>-2.378171</td>\n",
       "      <td>0.001998</td>\n",
       "      <td>0.737164</td>\n",
       "      <td>2.294855</td>\n",
       "      <td>1.515786</td>\n",
       "      <td>0.500169</td>\n",
       "      <td>0.491191</td>\n",
       "      <td>-1.202761</td>\n",
       "      <td>0.693147</td>\n",
       "      <td>AUG</td>\n",
       "      <td>6483</td>\n",
       "      <td>19950518</td>\n",
       "      <td>4.000</td>\n",
       "      <td>1515</td>\n",
       "    </tr>\n",
       "    <tr>\n",
       "      <th>1</th>\n",
       "      <td>-2.254748</td>\n",
       "      <td>-0.002303</td>\n",
       "      <td>0.915891</td>\n",
       "      <td>1.904642</td>\n",
       "      <td>1.525839</td>\n",
       "      <td>0.499562</td>\n",
       "      <td>0.487890</td>\n",
       "      <td>-1.210263</td>\n",
       "      <td>0.693147</td>\n",
       "      <td>AUG</td>\n",
       "      <td>7555</td>\n",
       "      <td>19960223</td>\n",
       "      <td>2.498</td>\n",
       "      <td>1529</td>\n",
       "    </tr>\n",
       "    <tr>\n",
       "      <th>2</th>\n",
       "      <td>-2.546186</td>\n",
       "      <td>-0.228030</td>\n",
       "      <td>0.749055</td>\n",
       "      <td>1.835138</td>\n",
       "      <td>1.521481</td>\n",
       "      <td>0.498955</td>\n",
       "      <td>0.480396</td>\n",
       "      <td>-1.184928</td>\n",
       "      <td>0.693147</td>\n",
       "      <td>AUG</td>\n",
       "      <td>7634</td>\n",
       "      <td>19960301</td>\n",
       "      <td>3.499</td>\n",
       "      <td>1532</td>\n",
       "    </tr>\n",
       "    <tr>\n",
       "      <th>3</th>\n",
       "      <td>-2.486628</td>\n",
       "      <td>-0.226273</td>\n",
       "      <td>0.701115</td>\n",
       "      <td>1.852384</td>\n",
       "      <td>1.527143</td>\n",
       "      <td>0.500169</td>\n",
       "      <td>0.484045</td>\n",
       "      <td>-1.189324</td>\n",
       "      <td>0.693147</td>\n",
       "      <td>AUG</td>\n",
       "      <td>7639</td>\n",
       "      <td>19960301</td>\n",
       "      <td>3.500</td>\n",
       "      <td>1533</td>\n",
       "    </tr>\n",
       "    <tr>\n",
       "      <th>4</th>\n",
       "      <td>-2.511949</td>\n",
       "      <td>-0.228156</td>\n",
       "      <td>0.701611</td>\n",
       "      <td>1.853482</td>\n",
       "      <td>1.554348</td>\n",
       "      <td>0.500169</td>\n",
       "      <td>0.482850</td>\n",
       "      <td>-1.188727</td>\n",
       "      <td>0.693147</td>\n",
       "      <td>AUG</td>\n",
       "      <td>7640</td>\n",
       "      <td>19960301</td>\n",
       "      <td>3.501</td>\n",
       "      <td>1534</td>\n",
       "    </tr>\n",
       "  </tbody>\n",
       "</table>\n",
       "</div>"
      ],
      "text/plain": [
       "      TAUTH        IP        BT       NEL      PLTH      RGEO     KAREA  \\\n",
       "0 -2.378171  0.001998  0.737164  2.294855  1.515786  0.500169  0.491191   \n",
       "1 -2.254748 -0.002303  0.915891  1.904642  1.525839  0.499562  0.487890   \n",
       "2 -2.546186 -0.228030  0.749055  1.835138  1.521481  0.498955  0.480396   \n",
       "3 -2.486628 -0.226273  0.701115  1.852384  1.527143  0.500169  0.484045   \n",
       "4 -2.511949 -0.228156  0.701611  1.853482  1.554348  0.500169  0.482850   \n",
       "\n",
       "        EPS      MEFF  TOK  SHOT      DATE   TIME   ind  \n",
       "0 -1.202761  0.693147  AUG  6483  19950518  4.000  1515  \n",
       "1 -1.210263  0.693147  AUG  7555  19960223  2.498  1529  \n",
       "2 -1.184928  0.693147  AUG  7634  19960301  3.499  1532  \n",
       "3 -1.189324  0.693147  AUG  7639  19960301  3.500  1533  \n",
       "4 -1.188727  0.693147  AUG  7640  19960301  3.501  1534  "
      ]
     },
     "execution_count": 3,
     "metadata": {},
     "output_type": "execute_result"
    }
   ],
   "source": [
    "r = pd.read_csv(\"data/R.csv\") # logarithmic data \n",
    "r.head()"
   ]
  },
  {
   "cell_type": "code",
   "execution_count": 4,
   "id": "2a8c0148",
   "metadata": {},
   "outputs": [],
   "source": [
    "y = r.TAUTH.values\n",
    "X = (\n",
    "    r.IP.values, r.BT.values, r.NEL.values, r.PLTH.values, \n",
    "    r.RGEO.values, r.KAREA.values, r.EPS.values, r.MEFF.values\n",
    ")"
   ]
  },
  {
   "cell_type": "markdown",
   "id": "e75c0b8b",
   "metadata": {},
   "source": [
    "`popt`: Optimal values for the parameters so that the sum of the squared residuals of f(xdata, *popt) – ydata is minimized.\n",
    "\n",
    "`pcov`: The estimated covariance of popt. The diagonals provide the variance of the parameter estimate. "
   ]
  },
  {
   "cell_type": "code",
   "execution_count": 5,
   "id": "e8378edb",
   "metadata": {},
   "outputs": [],
   "source": [
    "popt, pcov = curve_fit(τ_lth, X, y)"
   ]
  },
  {
   "cell_type": "code",
   "execution_count": 6,
   "id": "b175301d",
   "metadata": {},
   "outputs": [
    {
     "data": {
      "text/html": [
       "<div>\n",
       "<style scoped>\n",
       "    .dataframe tbody tr th:only-of-type {\n",
       "        vertical-align: middle;\n",
       "    }\n",
       "\n",
       "    .dataframe tbody tr th {\n",
       "        vertical-align: top;\n",
       "    }\n",
       "\n",
       "    .dataframe thead th {\n",
       "        text-align: right;\n",
       "    }\n",
       "</style>\n",
       "<table border=\"1\" class=\"dataframe\">\n",
       "  <thead>\n",
       "    <tr style=\"text-align: right;\">\n",
       "      <th></th>\n",
       "      <th>α0</th>\n",
       "      <th>αI</th>\n",
       "      <th>αB</th>\n",
       "      <th>αP</th>\n",
       "      <th>αn</th>\n",
       "      <th>αM</th>\n",
       "      <th>αR</th>\n",
       "      <th>αe</th>\n",
       "      <th>αk</th>\n",
       "    </tr>\n",
       "  </thead>\n",
       "  <tbody>\n",
       "    <tr>\n",
       "      <th>0</th>\n",
       "      <td>0.105675</td>\n",
       "      <td>0.770171</td>\n",
       "      <td>0.238516</td>\n",
       "      <td>-0.608801</td>\n",
       "      <td>0.383818</td>\n",
       "      <td>0.184438</td>\n",
       "      <td>1.99426</td>\n",
       "      <td>0.715733</td>\n",
       "      <td>0.432187</td>\n",
       "    </tr>\n",
       "  </tbody>\n",
       "</table>\n",
       "</div>"
      ],
      "text/plain": [
       "         α0        αI        αB        αP        αn        αM       αR  \\\n",
       "0  0.105675  0.770171  0.238516 -0.608801  0.383818  0.184438  1.99426   \n",
       "\n",
       "         αe        αk  \n",
       "0  0.715733  0.432187  "
      ]
     },
     "execution_count": 6,
     "metadata": {},
     "output_type": "execute_result"
    }
   ],
   "source": [
    "baseline = pd.read_csv(\"data/Baseline_regression_values.csv\")\n",
    "baseline"
   ]
  },
  {
   "cell_type": "code",
   "execution_count": 7,
   "id": "6c1ec9cf",
   "metadata": {},
   "outputs": [
    {
     "data": {
      "text/plain": [
       "0.03759822711978881"
      ]
     },
     "execution_count": 7,
     "metadata": {},
     "output_type": "execute_result"
    }
   ],
   "source": [
    "# Intercept\n",
    "np.exp(popt[0])"
   ]
  },
  {
   "cell_type": "code",
   "execution_count": 8,
   "id": "ee118063",
   "metadata": {},
   "outputs": [
    {
     "data": {
      "text/plain": [
       "array([ 1.55162488, -0.22349474,  0.07325017, -0.73538245,  0.89097562,\n",
       "        0.2366993 , -1.30103608,  0.22162034])"
      ]
     },
     "execution_count": 8,
     "metadata": {},
     "output_type": "execute_result"
    }
   ],
   "source": [
    "# Exponents\n",
    "popt[1:]"
   ]
  },
  {
   "cell_type": "markdown",
   "id": "d6a0f488",
   "metadata": {},
   "source": [
    "### Using SKlearn"
   ]
  },
  {
   "cell_type": "code",
   "execution_count": 9,
   "id": "7af9eb2d",
   "metadata": {},
   "outputs": [
    {
     "data": {
      "text/html": [
       "<div>\n",
       "<style scoped>\n",
       "    .dataframe tbody tr th:only-of-type {\n",
       "        vertical-align: middle;\n",
       "    }\n",
       "\n",
       "    .dataframe tbody tr th {\n",
       "        vertical-align: top;\n",
       "    }\n",
       "\n",
       "    .dataframe thead th {\n",
       "        text-align: right;\n",
       "    }\n",
       "</style>\n",
       "<table border=\"1\" class=\"dataframe\">\n",
       "  <thead>\n",
       "    <tr style=\"text-align: right;\">\n",
       "      <th></th>\n",
       "      <th>Attribute</th>\n",
       "      <th>Coefficient</th>\n",
       "    </tr>\n",
       "  </thead>\n",
       "  <tbody>\n",
       "    <tr>\n",
       "      <th>0</th>\n",
       "      <td>IP</td>\n",
       "      <td>1.551625</td>\n",
       "    </tr>\n",
       "    <tr>\n",
       "      <th>1</th>\n",
       "      <td>BT</td>\n",
       "      <td>-0.223495</td>\n",
       "    </tr>\n",
       "    <tr>\n",
       "      <th>2</th>\n",
       "      <td>NEL</td>\n",
       "      <td>0.073250</td>\n",
       "    </tr>\n",
       "    <tr>\n",
       "      <th>3</th>\n",
       "      <td>PLTH</td>\n",
       "      <td>-0.735382</td>\n",
       "    </tr>\n",
       "    <tr>\n",
       "      <th>4</th>\n",
       "      <td>RGEO</td>\n",
       "      <td>0.890976</td>\n",
       "    </tr>\n",
       "    <tr>\n",
       "      <th>5</th>\n",
       "      <td>KAREA</td>\n",
       "      <td>0.236699</td>\n",
       "    </tr>\n",
       "    <tr>\n",
       "      <th>6</th>\n",
       "      <td>EPS</td>\n",
       "      <td>-1.301036</td>\n",
       "    </tr>\n",
       "    <tr>\n",
       "      <th>7</th>\n",
       "      <td>MEFF</td>\n",
       "      <td>0.221620</td>\n",
       "    </tr>\n",
       "  </tbody>\n",
       "</table>\n",
       "</div>"
      ],
      "text/plain": [
       "  Attribute  Coefficient\n",
       "0        IP     1.551625\n",
       "1        BT    -0.223495\n",
       "2       NEL     0.073250\n",
       "3      PLTH    -0.735382\n",
       "4      RGEO     0.890976\n",
       "5     KAREA     0.236699\n",
       "6       EPS    -1.301036\n",
       "7      MEFF     0.221620"
      ]
     },
     "execution_count": 9,
     "metadata": {},
     "output_type": "execute_result"
    }
   ],
   "source": [
    "from sklearn.linear_model import LinearRegression\n",
    "\n",
    "y = r[[\"TAUTH\"]]\n",
    "X = r[r.columns[1:9]]\n",
    "\n",
    "regressor = LinearRegression()\n",
    "regressor.fit(X,y)\n",
    "\n",
    "v = pd.DataFrame(regressor.coef_, index=[\"Coefficient\"]).transpose()\n",
    "w = pd.DataFrame(X.columns, columns=[\"Attribute\"])\n",
    "coeff_df = pd.concat([w,v], axis=1, join=\"inner\")\n",
    "coeff_df"
   ]
  },
  {
   "cell_type": "code",
   "execution_count": 10,
   "id": "84ec4068",
   "metadata": {},
   "outputs": [
    {
     "data": {
      "text/plain": [
       "array([0.03759823])"
      ]
     },
     "execution_count": 10,
     "metadata": {},
     "output_type": "execute_result"
    }
   ],
   "source": [
    "np.exp(regressor.intercept_)"
   ]
  },
  {
   "cell_type": "code",
   "execution_count": null,
   "id": "f623d22f",
   "metadata": {},
   "outputs": [],
   "source": []
  }
 ],
 "metadata": {
  "kernelspec": {
   "display_name": "Python 3 (ipykernel)",
   "language": "python",
   "name": "python3"
  },
  "language_info": {
   "codemirror_mode": {
    "name": "ipython",
    "version": 3
   },
   "file_extension": ".py",
   "mimetype": "text/x-python",
   "name": "python",
   "nbconvert_exporter": "python",
   "pygments_lexer": "ipython3",
   "version": "3.10.7"
  }
 },
 "nbformat": 4,
 "nbformat_minor": 5
}
