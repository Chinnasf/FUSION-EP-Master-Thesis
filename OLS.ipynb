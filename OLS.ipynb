{
 "cells": [
  {
   "cell_type": "code",
   "execution_count": 1,
   "id": "42465835",
   "metadata": {},
   "outputs": [],
   "source": [
    "import numpy as np \n",
    "import pandas as pd\n",
    "import matplotlib.pyplot as plt\n",
    "\n",
    "from scipy.optimize import curve_fit"
   ]
  },
  {
   "cell_type": "markdown",
   "id": "d7fa6d8b",
   "metadata": {},
   "source": [
    "### Using Scipy\n",
    "\n",
    "[`curve_fit` documentation](https://docs.scipy.org/doc/scipy/reference/generated/scipy.optimize.curve_fit.html)\n",
    "\n",
    "Use non-linear least squares to fit a function, f, to data.\n",
    "\n",
    "Assumes `ydata = f(xdata, *params) + eps`.\n",
    "\n"
   ]
  },
  {
   "cell_type": "code",
   "execution_count": 2,
   "id": "0f64d373",
   "metadata": {},
   "outputs": [],
   "source": [
    "def τ_lth(X, lα0, αI, αB, αn, αP, αR, αk, αε, αM):\n",
    "    I, B, n, P, R, k, ε, M = X\n",
    "    return lα0 + (I*αI) + (B*αB) + (n*αn) + (P*αP) + (R*αR) + (k*αk) + (ε*αε) + (M*αM)"
   ]
  },
  {
   "cell_type": "code",
   "execution_count": 3,
   "id": "dbbd3da2",
   "metadata": {},
   "outputs": [
    {
     "data": {
      "text/html": [
       "<div>\n",
       "<style scoped>\n",
       "    .dataframe tbody tr th:only-of-type {\n",
       "        vertical-align: middle;\n",
       "    }\n",
       "\n",
       "    .dataframe tbody tr th {\n",
       "        vertical-align: top;\n",
       "    }\n",
       "\n",
       "    .dataframe thead th {\n",
       "        text-align: right;\n",
       "    }\n",
       "</style>\n",
       "<table border=\"1\" class=\"dataframe\">\n",
       "  <thead>\n",
       "    <tr style=\"text-align: right;\">\n",
       "      <th></th>\n",
       "      <th>TAUTH</th>\n",
       "      <th>IP</th>\n",
       "      <th>BT</th>\n",
       "      <th>NEL</th>\n",
       "      <th>PLTH</th>\n",
       "      <th>RGEO</th>\n",
       "      <th>KAREA</th>\n",
       "      <th>EPS</th>\n",
       "      <th>MEFF</th>\n",
       "      <th>TOK</th>\n",
       "      <th>SHOT</th>\n",
       "      <th>DATE</th>\n",
       "      <th>TIME</th>\n",
       "      <th>ind</th>\n",
       "    </tr>\n",
       "  </thead>\n",
       "  <tbody>\n",
       "    <tr>\n",
       "      <th>0</th>\n",
       "      <td>-2.975930</td>\n",
       "      <td>-1.217734</td>\n",
       "      <td>0.790728</td>\n",
       "      <td>1.332102</td>\n",
       "      <td>0.625938</td>\n",
       "      <td>0.527093</td>\n",
       "      <td>-0.025523</td>\n",
       "      <td>-1.418447</td>\n",
       "      <td>0.405465</td>\n",
       "      <td>ASDEX</td>\n",
       "      <td>5980</td>\n",
       "      <td>19820622</td>\n",
       "      <td>1.205</td>\n",
       "      <td>6</td>\n",
       "    </tr>\n",
       "    <tr>\n",
       "      <th>1</th>\n",
       "      <td>-3.015527</td>\n",
       "      <td>-1.220102</td>\n",
       "      <td>0.790728</td>\n",
       "      <td>1.317480</td>\n",
       "      <td>0.705076</td>\n",
       "      <td>0.521172</td>\n",
       "      <td>-0.027988</td>\n",
       "      <td>-1.409604</td>\n",
       "      <td>0.405465</td>\n",
       "      <td>ASDEX</td>\n",
       "      <td>5980</td>\n",
       "      <td>19820622</td>\n",
       "      <td>1.224</td>\n",
       "      <td>7</td>\n",
       "    </tr>\n",
       "    <tr>\n",
       "      <th>2</th>\n",
       "      <td>-2.752786</td>\n",
       "      <td>-1.213686</td>\n",
       "      <td>0.790728</td>\n",
       "      <td>1.226712</td>\n",
       "      <td>0.123986</td>\n",
       "      <td>0.526502</td>\n",
       "      <td>-0.010556</td>\n",
       "      <td>-1.432100</td>\n",
       "      <td>0.405465</td>\n",
       "      <td>ASDEX</td>\n",
       "      <td>5982</td>\n",
       "      <td>19820622</td>\n",
       "      <td>1.188</td>\n",
       "      <td>12</td>\n",
       "    </tr>\n",
       "    <tr>\n",
       "      <th>3</th>\n",
       "      <td>-2.660547</td>\n",
       "      <td>-1.217734</td>\n",
       "      <td>0.790728</td>\n",
       "      <td>1.328400</td>\n",
       "      <td>0.319181</td>\n",
       "      <td>0.526502</td>\n",
       "      <td>-0.025933</td>\n",
       "      <td>-1.417369</td>\n",
       "      <td>0.405465</td>\n",
       "      <td>ASDEX</td>\n",
       "      <td>5982</td>\n",
       "      <td>19820622</td>\n",
       "      <td>1.216</td>\n",
       "      <td>13</td>\n",
       "    </tr>\n",
       "    <tr>\n",
       "      <th>4</th>\n",
       "      <td>-2.965979</td>\n",
       "      <td>-1.223495</td>\n",
       "      <td>0.790274</td>\n",
       "      <td>1.347294</td>\n",
       "      <td>0.709513</td>\n",
       "      <td>0.521766</td>\n",
       "      <td>-0.031387</td>\n",
       "      <td>-1.406800</td>\n",
       "      <td>0.405465</td>\n",
       "      <td>ASDEX</td>\n",
       "      <td>5982</td>\n",
       "      <td>19820622</td>\n",
       "      <td>1.244</td>\n",
       "      <td>14</td>\n",
       "    </tr>\n",
       "  </tbody>\n",
       "</table>\n",
       "</div>"
      ],
      "text/plain": [
       "      TAUTH        IP        BT       NEL      PLTH      RGEO     KAREA  \\\n",
       "0 -2.975930 -1.217734  0.790728  1.332102  0.625938  0.527093 -0.025523   \n",
       "1 -3.015527 -1.220102  0.790728  1.317480  0.705076  0.521172 -0.027988   \n",
       "2 -2.752786 -1.213686  0.790728  1.226712  0.123986  0.526502 -0.010556   \n",
       "3 -2.660547 -1.217734  0.790728  1.328400  0.319181  0.526502 -0.025933   \n",
       "4 -2.965979 -1.223495  0.790274  1.347294  0.709513  0.521766 -0.031387   \n",
       "\n",
       "        EPS      MEFF    TOK  SHOT      DATE   TIME  ind  \n",
       "0 -1.418447  0.405465  ASDEX  5980  19820622  1.205    6  \n",
       "1 -1.409604  0.405465  ASDEX  5980  19820622  1.224    7  \n",
       "2 -1.432100  0.405465  ASDEX  5982  19820622  1.188   12  \n",
       "3 -1.417369  0.405465  ASDEX  5982  19820622  1.216   13  \n",
       "4 -1.406800  0.405465  ASDEX  5982  19820622  1.244   14  "
      ]
     },
     "execution_count": 3,
     "metadata": {},
     "output_type": "execute_result"
    }
   ],
   "source": [
    "data = pd.read_csv(\"data/O.csv\") # logarithmic data \n",
    "data.head()"
   ]
  },
  {
   "cell_type": "code",
   "execution_count": 4,
   "id": "07104093",
   "metadata": {},
   "outputs": [],
   "source": [
    "## Removing the spherical TOKAMAKS\n",
    "#data = data[~data.TOK.isin(['MAST', 'NSTX'])]"
   ]
  },
  {
   "cell_type": "code",
   "execution_count": 5,
   "id": "2a8c0148",
   "metadata": {},
   "outputs": [],
   "source": [
    "y = data.TAUTH.values\n",
    "X = (\n",
    "    data.IP.values, data.BT.values, data.NEL.values, data.PLTH.values, \n",
    "    data.RGEO.values, data.KAREA.values, data.EPS.values, data.MEFF.values\n",
    ")"
   ]
  },
  {
   "cell_type": "markdown",
   "id": "e75c0b8b",
   "metadata": {},
   "source": [
    "`popt`: Optimal values for the parameters so that the sum of the squared residuals of f(xdata, *popt) – ydata is minimized.\n",
    "\n",
    "`pcov`: The estimated covariance of popt. The diagonals provide the variance of the parameter estimate. "
   ]
  },
  {
   "cell_type": "code",
   "execution_count": 6,
   "id": "e8378edb",
   "metadata": {},
   "outputs": [],
   "source": [
    "popt, pcov = curve_fit(τ_lth, X, y)"
   ]
  },
  {
   "cell_type": "code",
   "execution_count": 7,
   "id": "b175301d",
   "metadata": {},
   "outputs": [
    {
     "data": {
      "text/html": [
       "<div>\n",
       "<style scoped>\n",
       "    .dataframe tbody tr th:only-of-type {\n",
       "        vertical-align: middle;\n",
       "    }\n",
       "\n",
       "    .dataframe tbody tr th {\n",
       "        vertical-align: top;\n",
       "    }\n",
       "\n",
       "    .dataframe thead th {\n",
       "        text-align: right;\n",
       "    }\n",
       "</style>\n",
       "<table border=\"1\" class=\"dataframe\">\n",
       "  <thead>\n",
       "    <tr style=\"text-align: right;\">\n",
       "      <th></th>\n",
       "      <th>α0</th>\n",
       "      <th>αI</th>\n",
       "      <th>αB</th>\n",
       "      <th>αP</th>\n",
       "      <th>αn</th>\n",
       "      <th>αM</th>\n",
       "      <th>αR</th>\n",
       "      <th>αe</th>\n",
       "      <th>αk</th>\n",
       "    </tr>\n",
       "  </thead>\n",
       "  <tbody>\n",
       "    <tr>\n",
       "      <th>0</th>\n",
       "      <td>0.105675</td>\n",
       "      <td>0.770171</td>\n",
       "      <td>0.238516</td>\n",
       "      <td>-0.608801</td>\n",
       "      <td>0.383818</td>\n",
       "      <td>0.184438</td>\n",
       "      <td>1.99426</td>\n",
       "      <td>0.715733</td>\n",
       "      <td>0.432187</td>\n",
       "    </tr>\n",
       "  </tbody>\n",
       "</table>\n",
       "</div>"
      ],
      "text/plain": [
       "         α0        αI        αB        αP        αn        αM       αR  \\\n",
       "0  0.105675  0.770171  0.238516 -0.608801  0.383818  0.184438  1.99426   \n",
       "\n",
       "         αe        αk  \n",
       "0  0.715733  0.432187  "
      ]
     },
     "execution_count": 7,
     "metadata": {},
     "output_type": "execute_result"
    }
   ],
   "source": [
    "baseline = pd.read_csv(\"data/Baseline_regression_values.csv\")\n",
    "baseline"
   ]
  },
  {
   "cell_type": "code",
   "execution_count": 8,
   "id": "6c1ec9cf",
   "metadata": {},
   "outputs": [
    {
     "data": {
      "text/plain": [
       "0.07116439643743085"
      ]
     },
     "execution_count": 8,
     "metadata": {},
     "output_type": "execute_result"
    }
   ],
   "source": [
    "# Intercept\n",
    "np.exp(popt[0])"
   ]
  },
  {
   "cell_type": "code",
   "execution_count": 9,
   "id": "ee118063",
   "metadata": {},
   "outputs": [
    {
     "data": {
      "text/plain": [
       "array([ 0.77017136,  0.2385164 ,  0.38381842, -0.60880113,  1.9942594 ,\n",
       "        0.43218689,  0.7157326 ,  0.18443849])"
      ]
     },
     "execution_count": 9,
     "metadata": {},
     "output_type": "execute_result"
    }
   ],
   "source": [
    "# Exponents\n",
    "popt[1:]"
   ]
  },
  {
   "cell_type": "markdown",
   "id": "d6a0f488",
   "metadata": {},
   "source": [
    "### Using SKlearn"
   ]
  },
  {
   "cell_type": "code",
   "execution_count": 10,
   "id": "7af9eb2d",
   "metadata": {},
   "outputs": [
    {
     "data": {
      "text/html": [
       "<div>\n",
       "<style scoped>\n",
       "    .dataframe tbody tr th:only-of-type {\n",
       "        vertical-align: middle;\n",
       "    }\n",
       "\n",
       "    .dataframe tbody tr th {\n",
       "        vertical-align: top;\n",
       "    }\n",
       "\n",
       "    .dataframe thead th {\n",
       "        text-align: right;\n",
       "    }\n",
       "</style>\n",
       "<table border=\"1\" class=\"dataframe\">\n",
       "  <thead>\n",
       "    <tr style=\"text-align: right;\">\n",
       "      <th></th>\n",
       "      <th>Attribute</th>\n",
       "      <th>Coefficient</th>\n",
       "    </tr>\n",
       "  </thead>\n",
       "  <tbody>\n",
       "    <tr>\n",
       "      <th>0</th>\n",
       "      <td>IP</td>\n",
       "      <td>0.770171</td>\n",
       "    </tr>\n",
       "    <tr>\n",
       "      <th>1</th>\n",
       "      <td>BT</td>\n",
       "      <td>0.238516</td>\n",
       "    </tr>\n",
       "    <tr>\n",
       "      <th>2</th>\n",
       "      <td>NEL</td>\n",
       "      <td>0.383818</td>\n",
       "    </tr>\n",
       "    <tr>\n",
       "      <th>3</th>\n",
       "      <td>PLTH</td>\n",
       "      <td>-0.608801</td>\n",
       "    </tr>\n",
       "    <tr>\n",
       "      <th>4</th>\n",
       "      <td>RGEO</td>\n",
       "      <td>1.994259</td>\n",
       "    </tr>\n",
       "    <tr>\n",
       "      <th>5</th>\n",
       "      <td>KAREA</td>\n",
       "      <td>0.432187</td>\n",
       "    </tr>\n",
       "    <tr>\n",
       "      <th>6</th>\n",
       "      <td>EPS</td>\n",
       "      <td>0.715733</td>\n",
       "    </tr>\n",
       "    <tr>\n",
       "      <th>7</th>\n",
       "      <td>MEFF</td>\n",
       "      <td>0.184438</td>\n",
       "    </tr>\n",
       "  </tbody>\n",
       "</table>\n",
       "</div>"
      ],
      "text/plain": [
       "  Attribute  Coefficient\n",
       "0        IP     0.770171\n",
       "1        BT     0.238516\n",
       "2       NEL     0.383818\n",
       "3      PLTH    -0.608801\n",
       "4      RGEO     1.994259\n",
       "5     KAREA     0.432187\n",
       "6       EPS     0.715733\n",
       "7      MEFF     0.184438"
      ]
     },
     "execution_count": 10,
     "metadata": {},
     "output_type": "execute_result"
    }
   ],
   "source": [
    "from sklearn.linear_model import LinearRegression\n",
    "\n",
    "y = data[[\"TAUTH\"]]\n",
    "X = data[data.columns[1:9]]\n",
    "\n",
    "regressor = LinearRegression()\n",
    "regressor.fit(X,y)\n",
    "\n",
    "v = pd.DataFrame(regressor.coef_, index=[\"Coefficient\"]).transpose()\n",
    "w = pd.DataFrame(X.columns, columns=[\"Attribute\"])\n",
    "coeff_df = pd.concat([w,v], axis=1, join=\"inner\")\n",
    "coeff_df"
   ]
  },
  {
   "cell_type": "code",
   "execution_count": 11,
   "id": "84ec4068",
   "metadata": {},
   "outputs": [
    {
     "data": {
      "text/plain": [
       "array([0.0711644])"
      ]
     },
     "execution_count": 11,
     "metadata": {},
     "output_type": "execute_result"
    }
   ],
   "source": [
    "np.exp(regressor.intercept_)"
   ]
  },
  {
   "cell_type": "code",
   "execution_count": 12,
   "id": "f623d22f",
   "metadata": {},
   "outputs": [
    {
     "data": {
      "text/html": [
       "<div>\n",
       "<style scoped>\n",
       "    .dataframe tbody tr th:only-of-type {\n",
       "        vertical-align: middle;\n",
       "    }\n",
       "\n",
       "    .dataframe tbody tr th {\n",
       "        vertical-align: top;\n",
       "    }\n",
       "\n",
       "    .dataframe thead th {\n",
       "        text-align: right;\n",
       "    }\n",
       "</style>\n",
       "<table border=\"1\" class=\"dataframe\">\n",
       "  <thead>\n",
       "    <tr style=\"text-align: right;\">\n",
       "      <th></th>\n",
       "      <th>α0</th>\n",
       "      <th>αI</th>\n",
       "      <th>αB</th>\n",
       "      <th>αP</th>\n",
       "      <th>αn</th>\n",
       "      <th>αM</th>\n",
       "      <th>αR</th>\n",
       "      <th>αe</th>\n",
       "      <th>αk</th>\n",
       "    </tr>\n",
       "  </thead>\n",
       "  <tbody>\n",
       "    <tr>\n",
       "      <th>0</th>\n",
       "      <td>0.105675</td>\n",
       "      <td>0.770171</td>\n",
       "      <td>0.238516</td>\n",
       "      <td>-0.608801</td>\n",
       "      <td>0.383818</td>\n",
       "      <td>0.184438</td>\n",
       "      <td>1.99426</td>\n",
       "      <td>0.715733</td>\n",
       "      <td>0.432187</td>\n",
       "    </tr>\n",
       "  </tbody>\n",
       "</table>\n",
       "</div>"
      ],
      "text/plain": [
       "         α0        αI        αB        αP        αn        αM       αR  \\\n",
       "0  0.105675  0.770171  0.238516 -0.608801  0.383818  0.184438  1.99426   \n",
       "\n",
       "         αe        αk  \n",
       "0  0.715733  0.432187  "
      ]
     },
     "execution_count": 12,
     "metadata": {},
     "output_type": "execute_result"
    }
   ],
   "source": [
    "baseline"
   ]
  },
  {
   "cell_type": "code",
   "execution_count": null,
   "id": "81f87a91",
   "metadata": {},
   "outputs": [],
   "source": []
  }
 ],
 "metadata": {
  "kernelspec": {
   "display_name": "Python 3 (ipykernel)",
   "language": "python",
   "name": "python3"
  },
  "language_info": {
   "codemirror_mode": {
    "name": "ipython",
    "version": 3
   },
   "file_extension": ".py",
   "mimetype": "text/x-python",
   "name": "python",
   "nbconvert_exporter": "python",
   "pygments_lexer": "ipython3",
   "version": "3.10.7"
  }
 },
 "nbformat": 4,
 "nbformat_minor": 5
}
