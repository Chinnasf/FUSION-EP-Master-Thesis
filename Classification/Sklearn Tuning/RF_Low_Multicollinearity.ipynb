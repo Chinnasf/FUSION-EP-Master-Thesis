{
 "cells": [
  {
   "cell_type": "code",
   "execution_count": 1,
   "id": "3f691e30",
   "metadata": {},
   "outputs": [],
   "source": [
    "%load_ext autoreload\n",
    "%autoreload 2"
   ]
  },
  {
   "cell_type": "markdown",
   "id": "88b471bc",
   "metadata": {},
   "source": [
    "# TUNED | RANDOM FOREST | LOW MULTICOLLINEARITY\n",
    "\n",
    "MAX VIF ~ 6 with \"PLTH\"\n",
    "\n",
    "VIF < 5, else"
   ]
  },
  {
   "cell_type": "code",
   "execution_count": 2,
   "id": "4f834bdc",
   "metadata": {},
   "outputs": [],
   "source": [
    "import sys\n",
    "sys.path.append('../../')\n",
    "import tokamakTK\n",
    "\n",
    "import pydotplus\n",
    "import numpy as np \n",
    "import pandas as pd\n",
    "import matplotlib.pyplot as plt\n",
    "import scipy as sp\n",
    "import statsmodels.api as sm\n",
    "import matplotlib.patches as mpatches\n",
    "\n",
    "from sklearn.tree import plot_tree\n",
    "from sklearn.tree import export_graphviz\n",
    "from sklearn.ensemble import RandomForestClassifier\n",
    "from sklearn.model_selection import train_test_split\n",
    "from sklearn.metrics import precision_recall_curve, precision_recall_fscore_support\n",
    "\n",
    "pd.set_option('display.max_columns', None)\n",
    "path = \"../../data/\"\n",
    "fig_path = \"../../../../LATEX/Latex Images/\""
   ]
  },
  {
   "cell_type": "code",
   "execution_count": 3,
   "id": "b09db631",
   "metadata": {},
   "outputs": [
    {
     "name": "stdout",
     "output_type": "stream",
     "text": [
      "24.37% of the data decreased alpha_R\n",
      "75.63% of the data did not decrease alpha_R\n"
     ]
    }
   ],
   "source": [
    "# Obtained from Optimization\n",
    "\n",
    "min_subset_ids = pd.read_csv(path+\"R_ids_alpha_0.6357.csv\")\n",
    "\n",
    "DB2 = pd.read_csv(path+\"DB2P8.csv\")\n",
    "DB5 = pd.read_csv(path+\"SELDB5_SVD.csv\", low_memory=False) \n",
    "\n",
    "# Setting ELMy Dataset\n",
    "DB5 = DB5[DB5[\"PHASE\"].isin(['HGELM', 'HSELM', 'HGELMH', 'HSELMH'])]\n",
    "\n",
    "# REMOVING SPHERICAL TOKAMAKS\n",
    "DB5 = DB5[~DB5.TOK.isin(['MAST', 'NSTX', 'START'])]\n",
    "\n",
    "\n",
    "# There is two shots from DB2P8 missing in DB5\n",
    "missing_shots = DB2[~DB2.id.isin( DB5.id.values )].reset_index(drop=True)\n",
    "DB5 = pd.concat([DB5, missing_shots], axis=0, ignore_index=True)\n",
    "\n",
    "# Labeling shots that had great impact in decreasing alpha_R\n",
    "DB5.insert(loc=2,column=\"label\",value=[0]*len(DB5))\n",
    "DB5.loc[(DB5[DB5.id.isin(min_subset_ids.id)].index), \"label\"] = 1\n",
    "\n",
    "\n",
    "print(\n",
    "    f\"{ round( (len(min_subset_ids)/len(DB5))*100     ,2)  }% of the data decreased alpha_R\\n\" + \n",
    "    f\"{ round( (1 - len(min_subset_ids)/len(DB5))*100 ,2)  }% of the data did not decrease alpha_R\"\n",
    ")"
   ]
  },
  {
   "cell_type": "markdown",
   "id": "0adc6e00",
   "metadata": {},
   "source": [
    "Class distribution can be considered is skewed.\n",
    "\n",
    "## Treatment to Categorical and Numerical Data\n",
    "\n",
    "```Python\n",
    "# MAX VIF ~ 6 with \"PLTH\"\n",
    "#VIF < 5, else\n",
    "\n",
    "features = ['BETASTAR','BT','DWDIA','ENBI','HYBRID','IP','KAREA','LHTIME',\n",
    "            'MEFF','NEL','NUSTAR','PECRH','PFLOSS','PICRH','PLTH','POHM','PRAD',\n",
    "            'Q95','RHOSTAR','TAV','WFICFORM']\n",
    "\n",
    "# n_estimators = 93, max_depth=20\n",
    "(array([0.87267905, 0.94047619]),\n",
    " array([0.79468599, 0.96549245]),\n",
    " array([0.83185841, 0.95282015]),\n",
    " array([ 414, 1391]))\n",
    "\n",
    "#['RHOSTAR', 'TAV', 'NUSTAR', 'LHTIME', 'BETASTAR'] | Impurity\n",
    "#['RHOSTAR', 'TAV', 'LHTIME', 'BETASTAR', 'NUSTAR'] | Permutation\n",
    "\n",
    "# ---------------------------------------------------------------------------------\n",
    "\n",
    "# MAX VIF ~ 4.5 with \"RHOSTAR\"\n",
    "\n",
    "features = ['AUXHEAT','BETASTAR','BT','DIVNAME','ECHMODE','ELMFREQ','ELMTYPE',\n",
    "            'ENBI','HYBRID','IP','KAREA','LHTIME','MEFF','NUSTAR','PECRH',\n",
    "            'PELLET','PNBI','POHM','PREMAG','Q95','RHOSTAR',\n",
    "            'TAV','TEV','TORQ','WFFORM','ZEFFNEO']\n",
    "\n",
    "# n_estimators = 93, max_depth=20\n",
    "(array([0.89095745, 0.94471659]),\n",
    " array([0.80917874, 0.9705248 ]),\n",
    " array([0.84810127, 0.95744681]),\n",
    " array([ 414, 1391]))\n",
    "# ['RHOSTAR', 'TAV', 'NUSTAR', 'LHTIME', 'BETASTAR'] | Impurity\n",
    "# ['RHOSTAR', 'TAV', 'LHTIME', 'BETASTAR', 'NUSTAR'] | Permutation\n",
    "```"
   ]
  },
  {
   "cell_type": "code",
   "execution_count": 4,
   "id": "820873ca",
   "metadata": {},
   "outputs": [],
   "source": [
    "features = ['AUXHEAT','BETASTAR','BT','DIVNAME','ECHMODE','ELMFREQ','ELMTYPE',\n",
    "            'ENBI','HYBRID','IP','KAREA','LHTIME','MEFF','NUSTAR','PECRH',\n",
    "            'PELLET','PNBI','POHM','PREMAG','Q95','RHOSTAR',\n",
    "            'TAV','TEV','TORQ','WFFORM','ZEFFNEO']"
   ]
  },
  {
   "cell_type": "code",
   "execution_count": 5,
   "id": "cd2d96e9",
   "metadata": {},
   "outputs": [],
   "source": [
    "DB5 = tokamakTK.clean_categorical_data(DB5)\n",
    "\n",
    "# Needed to respectively clean each dtype\n",
    "num_features = DB5[features].select_dtypes(include=['int', 'float']).columns.tolist()\n",
    "cat_features = DB5[features].select_dtypes(include=['object']).columns.tolist()\n",
    "\n",
    "data_num = DB5[num_features+[\"TOK\",\"DATE\"]]\n",
    "data_cat = DB5[cat_features]\n",
    "\n",
    "data_num = tokamakTK.clean_numerical_data(data_num)\n",
    "\n",
    "data_ = pd.concat([data_num,\n",
    "                  (pd.concat([\n",
    "                       DB5[[\"label\"]], \n",
    "                       tokamakTK.encode_categorical_ohe(data_cat)\n",
    "                      ], axis=1)\n",
    "                  )],\n",
    "                  axis=1\n",
    "                 )"
   ]
  },
  {
   "cell_type": "code",
   "execution_count": 6,
   "id": "9b7052ec",
   "metadata": {},
   "outputs": [],
   "source": [
    "X = data_.drop(\"label\", axis=1)\n",
    "y = data_[\"label\"]\n",
    "\n",
    "# split data\n",
    "X_train, X_test, y_train, y_test = train_test_split(X, y, test_size=0.3, random_state=71, stratify=y)"
   ]
  },
  {
   "cell_type": "code",
   "execution_count": 22,
   "id": "46467d7e",
   "metadata": {},
   "outputs": [],
   "source": [
    "# Define random forest classifier with preprocessor as a pipeline\n",
    "rf = RandomForestClassifier(min_samples_split=2,  \n",
    "                            min_samples_leaf=1,\n",
    "                            min_impurity_decrease=0.0007,\n",
    "                            n_estimators = 93,\n",
    "                            max_depth = 20,\n",
    "                            criterion='entropy',\n",
    "                            max_features=None,\n",
    "                            random_state=71,\n",
    "                            n_jobs=-1,\n",
    "                           )\n",
    "\"\"\"\n",
    "    features = ['BETASTAR','BT','DWDIA','ENBI','HYBRID','IP','KAREA','LHTIME',\n",
    "            'MEFF','NEL','NUSTAR','PECRH','PFLOSS','PICRH','PLTH','POHM','PRAD',\n",
    "            'Q95','RHOSTAR','TAV','WFICFORM']\n",
    "\n",
    "entropy\n",
    "(array([0.87267905, 0.94047619]),\n",
    " array([0.79468599, 0.96549245]),\n",
    " array([0.83185841, 0.95282015]),\n",
    " array([ 414, 1391]))\n",
    " \n",
    "gini\n",
    "(array([0.88150289, 0.9252913 ]),\n",
    " array([0.73671498, 0.9705248 ]),\n",
    " array([0.80263158, 0.94736842]),\n",
    " array([ 414, 1391]))\n",
    " \n",
    "It would be nice to compare best features with gini vs entropy\n",
    " \n",
    "log_loss\n",
    "(array([0.87267905, 0.94047619]),\n",
    " array([0.79468599, 0.96549245]),\n",
    " array([0.83185841, 0.95282015]),\n",
    " array([ 414, 1391]))\n",
    " \n",
    "     features = ['AUXHEAT','BETASTAR','BT','DIVNAME','ECHMODE','ELMFREQ','ELMTYPE',\n",
    "            'ENBI','HYBRID','IP','KAREA','LHTIME','MEFF','NUSTAR','PECRH',\n",
    "            'PELLET','PNBI','POHM','PREMAG','Q95','RHOSTAR',\n",
    "            'TAV','TEV','TORQ','WFFORM','ZEFFNEO']\n",
    "entropy\n",
    "(array([0.88739946, 0.94203911]),\n",
    " array([0.79951691, 0.9698059 ]),\n",
    " array([0.841169  , 0.95572086]),\n",
    " array([ 414, 1391]))\n",
    "\n",
    "gini\n",
    "(array([0.89014085, 0.93241379]),\n",
    " array([0.76328502, 0.97196262]),\n",
    " array([0.82184655, 0.95177754]),\n",
    " array([ 414, 1391]))\n",
    " \n",
    "log_loss\n",
    "(array([0.88739946, 0.94203911]),\n",
    " array([0.79951691, 0.9698059 ]),\n",
    " array([0.841169  , 0.95572086]),\n",
    " array([ 414, 1391]))\n",
    "\"\"\"\n",
    "\n",
    "\n",
    "rf.fit(X_train, y_train)\n",
    "y_pred= rf.predict_proba(X_test)"
   ]
  },
  {
   "cell_type": "code",
   "execution_count": 23,
   "id": "2f793027",
   "metadata": {},
   "outputs": [
    {
     "data": {
      "image/png": "[encoded data removed]",
      "text/plain": [
       "<Figure size 500x400 with 1 Axes>"
      ]
     },
     "metadata": {},
     "output_type": "display_data"
    }
   ],
   "source": [
    "plt.figure(figsize=(5,4))\n",
    "\n",
    "# keep probabilities for the positive outcome only\n",
    "y_pred = y_pred[:, 1]\n",
    "# calculate pr-curve\n",
    "precision, recall, thresholds = precision_recall_curve(y_test, y_pred)\n",
    "# plot the roc curve for the model\n",
    "no_skill = len(y_test[y_test==1]) / len(y_test)\n",
    "plt.plot(recall, precision, marker='.', label='Random Forest', color=\"r\")\n",
    "plt.plot([0,1], [no_skill,no_skill], linestyle='--', label='No Skill', color=\"k\")\n",
    "plt.xlabel('Recall')\n",
    "plt.ylabel('Precision')\n",
    "plt.title(\"Low Multicollinearity Variables\")\n",
    "plt.legend();"
   ]
  },
  {
   "cell_type": "code",
   "execution_count": 24,
   "id": "f0aa30d7",
   "metadata": {
    "scrolled": true
   },
   "outputs": [
    {
     "data": {
      "text/plain": [
       "(array([0.8847185 , 0.94134078]),\n",
       " array([0.79710145, 0.96908699]),\n",
       " array([0.8386277, 0.9550124]),\n",
       " array([ 414, 1391]))"
      ]
     },
     "execution_count": 24,
     "metadata": {},
     "output_type": "execute_result"
    }
   ],
   "source": [
    "y_pred_ = rf.predict(X_test)\n",
    "precision_recall_fscore_support(y_test, y_pred_, labels=[1,0])"
   ]
  },
  {
   "cell_type": "code",
   "execution_count": 25,
   "id": "1d4ffb47",
   "metadata": {},
   "outputs": [
    {
     "data": {
      "text/plain": [
       "'import os\\nimport imageio\\n\\n# Directory containing the saved decision tree images\\nimage_directory = fig_path+\"RF/\"\\n\\n# List all image files in the directory\\nimage_files = sorted([f for f in os.listdir(image_directory) if f.endswith(\".png\")])\\n\\n# Create a list to store the images\\nimages = []\\nfor image_file in image_files:\\n    image_path = os.path.join(image_directory, image_file)\\n    image = imageio.imread(image_path)\\n    images.append(image)\\n\\n# Output GIF file path\\noutput_gif_path = image_directory + \"Low_Multicollinearity.gif\"\\n\\n# Save the images as a GIF\\nimageio.mimsave(output_gif_path, images, duration=1)  # Adjust the duration parameter to control the frame delay\\n\\nprint(\"GIF created successfully.\")'"
      ]
     },
     "execution_count": 25,
     "metadata": {},
     "output_type": "execute_result"
    }
   ],
   "source": [
    "\"\"\"for i in range(len(rf.estimators_)):\n",
    "    decision_tree = rf.estimators_[i]\n",
    "    plt.figure(figsize=(20, 17))\n",
    "    plot_tree(decision_tree, filled=True, rounded=True, feature_names=X.columns, class_names=True)\n",
    "    plt.title(f\"Low Multicollinearity #{i}\", fontsize=25)\n",
    "    plt.savefig(fig_path+f\"RF/RF_T{i}_Low_multicollinearity.png\", format=\"png\");\"\"\"\n",
    "\n",
    "\"\"\"import os\n",
    "import imageio\n",
    "\n",
    "# Directory containing the saved decision tree images\n",
    "image_directory = fig_path+\"RF/\"\n",
    "\n",
    "# List all image files in the directory\n",
    "image_files = sorted([f for f in os.listdir(image_directory) if f.endswith(\".png\")])\n",
    "\n",
    "# Create a list to store the images\n",
    "images = []\n",
    "for image_file in image_files:\n",
    "    image_path = os.path.join(image_directory, image_file)\n",
    "    image = imageio.imread(image_path)\n",
    "    images.append(image)\n",
    "\n",
    "# Output GIF file path\n",
    "output_gif_path = image_directory + \"Low_Multicollinearity.gif\"\n",
    "\n",
    "# Save the images as a GIF\n",
    "imageio.mimsave(output_gif_path, images, duration=1)  # Adjust the duration parameter to control the frame delay\n",
    "\n",
    "print(\"GIF created successfully.\")\"\"\"\n"
   ]
  },
  {
   "cell_type": "markdown",
   "id": "d9ada672",
   "metadata": {},
   "source": [
    "## [Feature Importance Based on Mean Decrease in Impurity](https://scikit-learn.org/stable/auto_examples/ensemble/plot_forest_importances.html)\n",
    "\n",
    "Feature importances are provided by the fitted attribute `feature_importances_` and they are computed as the mean and standard deviation of accumulation of the impurity decrease within each tree.\n",
    "\n",
    "**WARNING**:  Impurity-based feature importances can be misleading for high cardinality features (many unique values). See Permutation feature importance."
   ]
  },
  {
   "cell_type": "code",
   "execution_count": null,
   "id": "e18a6b1d",
   "metadata": {},
   "outputs": [],
   "source": [
    "importances = rf.feature_importances_\n",
    "\n",
    "feature_importances = pd.DataFrame({\"feature\": X.columns, \"importance\": importances})\n",
    "feature_importances = feature_importances.sort_values(\"importance\", ascending=False).reset_index(drop=True)\n",
    "\n",
    "df = pd.DataFrame(feature_importances)\n",
    "\n",
    "df[\"feature\"][:5].values"
   ]
  },
  {
   "cell_type": "code",
   "execution_count": null,
   "id": "d9bc36f8",
   "metadata": {},
   "outputs": [],
   "source": [
    "plt.figure(figsize=(11,4))\n",
    "plt.bar(df[df.importance > 0.5e-2].feature, df[df.importance > 0.5e-2].importance, color=\"gray\")\n",
    "plt.xticks(rotation=90);"
   ]
  },
  {
   "cell_type": "markdown",
   "id": "1adda254",
   "metadata": {},
   "source": [
    "# Permutation Feature Importance"
   ]
  },
  {
   "cell_type": "code",
   "execution_count": null,
   "id": "35e0dbbd",
   "metadata": {},
   "outputs": [],
   "source": [
    "n_permutations = 100\n",
    "feature_importance = np.zeros(X_train.shape[1])\n",
    "\n",
    "recall = precision_recall_fscore_support(y_test, y_pred_, labels=[1,0])[1][0]\n",
    "\n",
    "for i in range(X_train.shape[1]):\n",
    "    recall_diffs = np.zeros(n_permutations)\n",
    "    for j in range(n_permutations):\n",
    "        X_test_permuted = X_test.copy()\n",
    "        X_test_permuted.iloc[:, i] = np.random.permutation(X_test.iloc[:, i])\n",
    "        y_pred_permuted = rf.predict(X_test_permuted)\n",
    "        recall_permuted = precision_recall_fscore_support(y_test, y_pred_permuted, labels=[1,0])[1][0]\n",
    "        recall_diffs[j] = recall_permuted - recall\n",
    "    feature_importance[i] = np.mean(recall_diffs)"
   ]
  },
  {
   "cell_type": "code",
   "execution_count": null,
   "id": "be0db6eb",
   "metadata": {},
   "outputs": [],
   "source": [
    "sorted_idx = np.argsort(abs(feature_importance))[::-1][:30]\n",
    "plt.bar(range(len(sorted_idx)), abs(feature_importance[sorted_idx]))\n",
    "plt.xticks(range(len(sorted_idx)), X_train.columns[sorted_idx], rotation=90)\n",
    "plt.ylabel('Feature importance')\n",
    "plt.show()"
   ]
  },
  {
   "cell_type": "code",
   "execution_count": null,
   "id": "3ddcbbc5",
   "metadata": {},
   "outputs": [],
   "source": [
    "X_train.columns[sorted_idx]"
   ]
  },
  {
   "cell_type": "code",
   "execution_count": null,
   "id": "3d5867df",
   "metadata": {},
   "outputs": [],
   "source": [
    "sorted_idx = np.argsort(abs(feature_importance))[::-1][:7]\n",
    "plt.bar(range(len(sorted_idx)), abs(feature_importance[sorted_idx]))\n",
    "plt.xticks(range(len(sorted_idx)), X_train.columns[sorted_idx], rotation=90)\n",
    "plt.ylabel('Feature importance')\n",
    "plt.show()"
   ]
  },
  {
   "cell_type": "code",
   "execution_count": null,
   "id": "c03b815b",
   "metadata": {},
   "outputs": [],
   "source": [
    "X_train.columns[sorted_idx]"
   ]
  },
  {
   "cell_type": "code",
   "execution_count": null,
   "id": "add0aced",
   "metadata": {},
   "outputs": [],
   "source": []
  },
  {
   "cell_type": "code",
   "execution_count": null,
   "id": "7bfb15f9",
   "metadata": {},
   "outputs": [],
   "source": []
  }
 ],
 "metadata": {
  "kernelspec": {
   "display_name": "Python 3 (ipykernel)",
   "language": "python",
   "name": "python3"
  },
  "language_info": {
   "codemirror_mode": {
    "name": "ipython",
    "version": 3
   },
   "file_extension": ".py",
   "mimetype": "text/x-python",
   "name": "python",
   "nbconvert_exporter": "python",
   "pygments_lexer": "ipython3",
   "version": "3.10.11"
  }
 },
 "nbformat": 4,
 "nbformat_minor": 5
}
