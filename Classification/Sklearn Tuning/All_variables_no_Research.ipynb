{
 "cells": [
  {
   "cell_type": "code",
   "execution_count": 1,
   "id": "3f691e30",
   "metadata": {},
   "outputs": [],
   "source": [
    "%load_ext autoreload\n",
    "%autoreload 2"
   ]
  },
  {
   "cell_type": "markdown",
   "id": "88b471bc",
   "metadata": {},
   "source": [
    "# TUNED | RANDOM FOREST | ALL VARIABLES WITHOUT RESEARCH\n",
    "\n",
    "### Is it still possible to predict which observations decrease $\\alpha_R$ without the strongest influence of research variables?"
   ]
  },
  {
   "cell_type": "code",
   "execution_count": 2,
   "id": "4f834bdc",
   "metadata": {},
   "outputs": [],
   "source": [
    "import sys\n",
    "sys.path.append('../../')\n",
    "import tokamakTK\n",
    "\n",
    "\n",
    "import numpy as np \n",
    "import pandas as pd\n",
    "import matplotlib.pyplot as plt\n",
    "import scipy as sp\n",
    "import statsmodels.api as sm\n",
    "import matplotlib.patches as mpatches\n",
    "\n",
    "from sklearn.ensemble import RandomForestClassifier\n",
    "from sklearn.impute import SimpleImputer\n",
    "from sklearn.compose import ColumnTransformer\n",
    "from sklearn.preprocessing import OneHotEncoder, StandardScaler\n",
    "from sklearn.pipeline import Pipeline\n",
    "from sklearn.model_selection import train_test_split\n",
    "from sklearn.metrics import precision_recall_curve, precision_recall_fscore_support\n",
    "\n",
    "\n",
    "pd.set_option('display.max_columns', None)\n",
    "path = \"../../data/\""
   ]
  },
  {
   "cell_type": "code",
   "execution_count": 3,
   "id": "b09db631",
   "metadata": {},
   "outputs": [
    {
     "name": "stdout",
     "output_type": "stream",
     "text": [
      "23.45% of the data decreased alpha_R\n",
      "76.55% of the data did not decrease alpha_R\n"
     ]
    }
   ],
   "source": [
    "# Obtained from Optimization\n",
    "\n",
    "min_subset_ids = pd.read_csv(path+\"R_ids_alpha_0.6357.csv\")\n",
    "\n",
    "DB2 = pd.read_csv(path+\"DB2P8.csv\")\n",
    "DB5 = pd.read_csv(path+\"SELDB5_SVD.csv\", low_memory=False) \n",
    "\n",
    "# Setting ELMy Dataset\n",
    "DB5 = DB5[DB5[\"PHASE\"].isin(['HGELM', 'HSELM', 'HGELMH', 'HSELMH'])]\n",
    "\n",
    "# There is two shots from DB2P8 missing in DB5\n",
    "missing_shots = DB2[~DB2.id.isin( DB5.id.values )].reset_index(drop=True)\n",
    "DB5 = pd.concat([DB5, missing_shots], axis=0, ignore_index=True)\n",
    "\n",
    "# Labeling shots that had great impact in decreasing alpha_R\n",
    "DB5.insert(loc=2,column=\"label\",value=[0]*len(DB5))\n",
    "DB5.loc[(DB5[DB5.id.isin(min_subset_ids.id)].index), \"label\"] = 1\n",
    "\n",
    "\n",
    "print(\n",
    "    f\"{ round( (len(min_subset_ids)/len(DB5))*100     ,2)  }% of the data decreased alpha_R\\n\" + \n",
    "    f\"{ round( (1 - len(min_subset_ids)/len(DB5))*100 ,2)  }% of the data did not decrease alpha_R\"\n",
    ")"
   ]
  },
  {
   "cell_type": "markdown",
   "id": "0adc6e00",
   "metadata": {},
   "source": [
    "Class distribution can be considered is skewed.\n",
    "\n",
    "## Treatment to Categorical and Numerical Data"
   ]
  },
  {
   "cell_type": "code",
   "execution_count": 4,
   "id": "cd2d96e9",
   "metadata": {},
   "outputs": [],
   "source": [
    "features = ['ZEFFNEO', 'EPS', 'WFICFORM', 'DWDIA', 'KAREA', \n",
    "            'OMEGACYCL', 'ENBI', 'WMHD', 'AMIN', 'WFFORM', 'PICRH', 'PLTH', 'MEFF', \n",
    "            'QCYL5', 'PNBI', 'VOL', 'LCOULOMB', 'LHTIME', 'PFLOSS', 'BEIMHD', \n",
    "            'POHM', 'ZEFF', 'PECRH', 'ELMFREQ', 'PRAD', 'NESOL', 'TORQ', 'TOK', 'WALMAT', 'DIVNAME', \n",
    "            'LIMMAT', 'HYBRID', 'EVAP', 'ECHMODE', 'PREMAG', 'DIVMAT', 'PELLET', 'ELMTYPE', 'AUXHEAT', 'CONFIG']\n",
    "\n",
    "\n",
    "DB5 = tokamakTK.clean_categorical_data(DB5)\n",
    "\n",
    "\n",
    "# Needed to respectively clean each dtype\n",
    "num_features = DB5[features].select_dtypes(include=['int', 'float']).columns.tolist()\n",
    "cat_features = DB5[features].select_dtypes(include=['object']).columns.tolist()\n",
    "\n",
    "\n",
    "data_num = DB5[num_features+[\"TOK\",\"DATE\"]]\n",
    "data_cat = DB5[cat_features]\n",
    "\n",
    "data_num = tokamakTK.clean_numerical_data(data_num)\n",
    "\n",
    "data_ = pd.concat([data_num,\n",
    "                  (pd.concat([\n",
    "                       DB5[[\"label\"]], \n",
    "                       tokamakTK.encode_categorical_ohe(data_cat)\n",
    "                      ], axis=1)\n",
    "                  )],\n",
    "                  axis=1)"
   ]
  },
  {
   "cell_type": "code",
   "execution_count": 5,
   "id": "9b7052ec",
   "metadata": {},
   "outputs": [],
   "source": [
    "X = data_.drop(\"label\", axis=1)\n",
    "y = data_[\"label\"]\n",
    "\n",
    "# split data\n",
    "X_train, X_test, y_train, y_test = train_test_split(X, y, test_size=0.3, random_state=71, stratify=y)"
   ]
  },
  {
   "cell_type": "code",
   "execution_count": 6,
   "id": "46467d7e",
   "metadata": {},
   "outputs": [],
   "source": [
    "# Define random forest classifier with preprocessor as a pipeline\n",
    "\n",
    "rf = RandomForestClassifier(min_samples_split=2,\n",
    "                            min_samples_leaf=1,\n",
    "                            n_estimators = 200,\n",
    "                            max_depth = 25,\n",
    "                            criterion='entropy',\n",
    "                            max_features=None,\n",
    "                            random_state=71,\n",
    "                            n_jobs=-1\n",
    "                           )\n",
    "\n",
    "rf.fit(X_train, y_train)\n",
    "y_pred= rf.predict_proba(X_test)"
   ]
  },
  {
   "cell_type": "code",
   "execution_count": 7,
   "id": "2f793027",
   "metadata": {},
   "outputs": [
    {
     "data": {
      "image/png": "[encoded data removed]",
      "text/plain": [
       "<Figure size 500x400 with 1 Axes>"
      ]
     },
     "metadata": {},
     "output_type": "display_data"
    }
   ],
   "source": [
    "plt.figure(figsize=(5,4))\n",
    "\n",
    "# keep probabilities for the positive outcome only\n",
    "y_pred = y_pred[:, 1]\n",
    "# calculate pr-curve\n",
    "precision, recall, thresholds = precision_recall_curve(y_test, y_pred)\n",
    "# plot the roc curve for the model\n",
    "no_skill = len(y_test[y_test==1]) / len(y_test)\n",
    "plt.plot(recall, precision, marker='.', label='Default Random Forest', color=\"r\")\n",
    "plt.plot([0,1], [no_skill,no_skill], linestyle='--', label='No Skill', color=\"k\")\n",
    "plt.xlabel('Recall')\n",
    "plt.ylabel('Precision')\n",
    "plt.title(\"Research Variables\")\n",
    "plt.legend();"
   ]
  },
  {
   "cell_type": "code",
   "execution_count": 8,
   "id": "f0aa30d7",
   "metadata": {
    "scrolled": true
   },
   "outputs": [
    {
     "data": {
      "text/plain": [
       "(array([0.8622449 , 0.93126685]),\n",
       " array([0.76818182, 0.96239554]),\n",
       " array([0.8125    , 0.94657534]),\n",
       " array([ 440, 1436]))"
      ]
     },
     "execution_count": 8,
     "metadata": {},
     "output_type": "execute_result"
    }
   ],
   "source": [
    "y_pred_ = rf.predict(X_test)\n",
    "precision_recall_fscore_support(y_test, y_pred_, labels=[1,0])"
   ]
  },
  {
   "cell_type": "markdown",
   "id": "d9ada672",
   "metadata": {},
   "source": [
    "## [Feature Importance Based on Mean Decrease in Impurity](https://scikit-learn.org/stable/auto_examples/ensemble/plot_forest_importances.html)\n",
    "\n",
    "Feature importances are provided by the fitted attribute `feature_importances_` and they are computed as the mean and standard deviation of accumulation of the impurity decrease within each tree.\n",
    "\n",
    "**WARNING**:  Impurity-based feature importances can be misleading for high cardinality features (many unique values). See Permutation feature importance."
   ]
  },
  {
   "cell_type": "code",
   "execution_count": 9,
   "id": "e18a6b1d",
   "metadata": {},
   "outputs": [
    {
     "name": "stdout",
     "output_type": "stream",
     "text": [
      "            feature  importance\n",
      "0          LCOULOMB    0.146742\n",
      "1             QCYL5    0.092925\n",
      "2            LHTIME    0.091196\n",
      "3              POHM    0.054552\n",
      "4              WMHD    0.052751\n",
      "..              ...         ...\n",
      "133  PELLET_UNKNOWN    0.000000\n",
      "134         TOK_PDX    0.000000\n",
      "135  DIVMAT_UNKNOWN    0.000000\n",
      "136       TOK_START    0.000000\n",
      "137       DIVMAT_SS    0.000000\n",
      "\n",
      "[138 rows x 2 columns]\n"
     ]
    }
   ],
   "source": [
    "importances = rf.feature_importances_\n",
    "\n",
    "feature_importances = pd.DataFrame({\"feature\": X.columns, \"importance\": importances})\n",
    "feature_importances = feature_importances.sort_values(\"importance\", ascending=False).reset_index(drop=True)\n",
    "\n",
    "print(feature_importances)"
   ]
  },
  {
   "cell_type": "code",
   "execution_count": 10,
   "id": "c991b672",
   "metadata": {},
   "outputs": [
    {
     "data": {
      "text/plain": [
       "array(['LCOULOMB', 'QCYL5', 'LHTIME', 'POHM', 'WMHD', 'WFFORM',\n",
       "       'OMEGACYCL', 'NESOL', 'AMIN', 'PFLOSS', 'BEIMHD', 'VOL', 'ENBI',\n",
       "       'KAREA', 'PLTH', 'PRAD', 'ZEFF', 'EPS', 'PELLET_NONE', 'PNBI',\n",
       "       'WFICFORM', 'DWDIA', 'HYBRID_YES', 'MEFF', 'CONFIG_SN(U)', 'TORQ',\n",
       "       'ELMFREQ', 'EVAP_NONE', 'ZEFFNEO', 'HYBRID_UNKNOWN',\n",
       "       'ECHMODE_NONE', 'PICRH', 'PELLET_GAS-FUEL', 'DIVNAME_RDP', 'PECRH',\n",
       "       'PREMAG_UNKNOWN', 'PREMAG_YES', 'ELMTYPE_TYPE-I', 'CONFIG_SN(L)',\n",
       "       'ELMTYPE_TYPE-III', 'CONFIG_SN', 'ELMTYPE_UNKNOWN', 'PELLET_D',\n",
       "       'HYBRID_NO', 'WALMAT_IN', 'WALMAT_C-W', 'PREMAG_NO',\n",
       "       'ECHMODE_UNKNOWN', 'AUXHEAT_NBIC', 'TOK_AUG', 'AUXHEAT_NB',\n",
       "       'TOK_D3D', 'DIVMAT_C/BE', 'WALMAT_C', 'EVAP_SILICON',\n",
       "       'DIVNAME_MARK', 'CONFIG_DN', 'ELMTYPE_TYPE-II', 'EVAP_BO',\n",
       "       'DIVNAME_MARKSR', 'DIVMAT_C', 'WALMAT_W', 'LIMMAT_C',\n",
       "       'DIVNAME_DV-II', 'DIVMAT_W', 'ELMTYPE_TYPE-V', 'LIMMAT_BE',\n",
       "       'EVAP_BE', 'AUXHEAT_NBEC', 'WALMAT_IN/C', 'ELMTYPE_TYPE-1+5',\n",
       "       'DIVMAT_C-W', 'DIVNAME_DV-III', 'LIMMAT_W', 'TOK_AUGW',\n",
       "       'LIMMAT_C-W', 'DIVNAME_ILW', 'TOK_JETILW', 'DIVNAME_MARKIA',\n",
       "       'PELLET_H', 'TOK_JET', 'DIVNAME_MARKIAP', 'ECHMODE_X',\n",
       "       'AUXHEAT_IC', 'LIMMAT_MO', 'DIVNAME_UNKNOWN', 'DIVNAME_RIB',\n",
       "       'EVAP_C-BO', 'WALMAT_AL', 'DIVNAME_ADP', 'ELMTYPE_TYPE-1+2',\n",
       "       'AUXHEAT_NBECIC', 'TOK_MAST', 'TOK_CMOD', 'DIVMAT_MO',\n",
       "       'DIVNAME_DV-I', 'LIMMAT_NONE', 'TOK_JT60U', 'WALMAT_CSS',\n",
       "       'TOK_NSTX', 'DIVNAME_OPEN', 'WALMAT_SS', 'AUXHEAT_NONE',\n",
       "       'ELMTYPE_TYPE-RF', 'CONFIG_UNKNOWN', 'TOK_TCV', 'TOK_COMPASS',\n",
       "       'DIVNAME_PLATES1', 'CONFIG_DND', 'EVAP_DECABOA', 'EVAP_C-H',\n",
       "       'EVAP_C', 'AUXHEAT_UNKNOWN', 'CONFIG_BOT', 'TOK_TDEV',\n",
       "       'DIVNAME_DIV1', 'CONFIG_LIM', 'CONFIG_MAR', 'LIMMAT_UNKNOWN',\n",
       "       'TOK_ASDEX', 'CONFIG_TOP', 'CONFIG_IW', 'EVAP_TI', 'EVAP_UNKNOWN',\n",
       "       'AUXHEAT_EC', 'TOK_JFT2M', 'ECHMODE_O', 'WALMAT_UNKNOWN',\n",
       "       'TOK_TFTR', 'DIVMAT_IN', 'TOK_PBXM', 'DIVMAT_NONE', 'DIVMAT_TI12',\n",
       "       'PELLET_UNKNOWN', 'TOK_PDX', 'DIVMAT_UNKNOWN', 'TOK_START',\n",
       "       'DIVMAT_SS'], dtype=object)"
      ]
     },
     "execution_count": 10,
     "metadata": {},
     "output_type": "execute_result"
    }
   ],
   "source": [
    "df = pd.DataFrame(feature_importances)\n",
    "df.feature.unique()"
   ]
  },
  {
   "cell_type": "code",
   "execution_count": 11,
   "id": "d9bc36f8",
   "metadata": {},
   "outputs": [
    {
     "data": {
      "image/png": "[encoded data removed]",
      "text/plain": [
       "<Figure size 1100x400 with 1 Axes>"
      ]
     },
     "metadata": {},
     "output_type": "display_data"
    }
   ],
   "source": [
    "plt.figure(figsize=(11,4))\n",
    "plt.bar(df[df.importance > 0.5e-2].feature, df[df.importance > 0.5e-2].importance, color=\"gray\")\n",
    "plt.xticks(rotation=90);"
   ]
  },
  {
   "cell_type": "code",
   "execution_count": 12,
   "id": "59710410",
   "metadata": {},
   "outputs": [
    {
     "data": {
      "text/plain": [
       "array(['LCOULOMB', 'QCYL5', 'LHTIME', 'POHM', 'WMHD', 'WFFORM',\n",
       "       'OMEGACYCL', 'NESOL', 'AMIN', 'PFLOSS', 'BEIMHD', 'VOL', 'ENBI',\n",
       "       'KAREA', 'PLTH', 'PRAD', 'ZEFF', 'EPS', 'PELLET_NONE', 'PNBI',\n",
       "       'WFICFORM', 'DWDIA', 'HYBRID_YES', 'MEFF', 'CONFIG_SN(U)', 'TORQ',\n",
       "       'ELMFREQ', 'EVAP_NONE', 'ZEFFNEO'], dtype=object)"
      ]
     },
     "execution_count": 12,
     "metadata": {},
     "output_type": "execute_result"
    }
   ],
   "source": [
    "# Quite Important\n",
    "df[df.importance > 0.005].feature.values"
   ]
  },
  {
   "cell_type": "code",
   "execution_count": 13,
   "id": "c2b46ed3",
   "metadata": {},
   "outputs": [
    {
     "data": {
      "text/html": [
       "<div>\n",
       "<style scoped>\n",
       "    .dataframe tbody tr th:only-of-type {\n",
       "        vertical-align: middle;\n",
       "    }\n",
       "\n",
       "    .dataframe tbody tr th {\n",
       "        vertical-align: top;\n",
       "    }\n",
       "\n",
       "    .dataframe thead th {\n",
       "        text-align: right;\n",
       "    }\n",
       "</style>\n",
       "<table border=\"1\" class=\"dataframe\">\n",
       "  <thead>\n",
       "    <tr style=\"text-align: right;\">\n",
       "      <th></th>\n",
       "      <th>feature</th>\n",
       "      <th>importance</th>\n",
       "    </tr>\n",
       "  </thead>\n",
       "  <tbody>\n",
       "    <tr>\n",
       "      <th>46</th>\n",
       "      <td>PREMAG_NO</td>\n",
       "      <td>0.000942</td>\n",
       "    </tr>\n",
       "    <tr>\n",
       "      <th>47</th>\n",
       "      <td>ECHMODE_UNKNOWN</td>\n",
       "      <td>0.000886</td>\n",
       "    </tr>\n",
       "    <tr>\n",
       "      <th>48</th>\n",
       "      <td>AUXHEAT_NBIC</td>\n",
       "      <td>0.000883</td>\n",
       "    </tr>\n",
       "    <tr>\n",
       "      <th>49</th>\n",
       "      <td>TOK_AUG</td>\n",
       "      <td>0.000868</td>\n",
       "    </tr>\n",
       "    <tr>\n",
       "      <th>50</th>\n",
       "      <td>AUXHEAT_NB</td>\n",
       "      <td>0.000867</td>\n",
       "    </tr>\n",
       "    <tr>\n",
       "      <th>...</th>\n",
       "      <td>...</td>\n",
       "      <td>...</td>\n",
       "    </tr>\n",
       "    <tr>\n",
       "      <th>133</th>\n",
       "      <td>PELLET_UNKNOWN</td>\n",
       "      <td>0.000000</td>\n",
       "    </tr>\n",
       "    <tr>\n",
       "      <th>134</th>\n",
       "      <td>TOK_PDX</td>\n",
       "      <td>0.000000</td>\n",
       "    </tr>\n",
       "    <tr>\n",
       "      <th>135</th>\n",
       "      <td>DIVMAT_UNKNOWN</td>\n",
       "      <td>0.000000</td>\n",
       "    </tr>\n",
       "    <tr>\n",
       "      <th>136</th>\n",
       "      <td>TOK_START</td>\n",
       "      <td>0.000000</td>\n",
       "    </tr>\n",
       "    <tr>\n",
       "      <th>137</th>\n",
       "      <td>DIVMAT_SS</td>\n",
       "      <td>0.000000</td>\n",
       "    </tr>\n",
       "  </tbody>\n",
       "</table>\n",
       "<p>92 rows × 2 columns</p>\n",
       "</div>"
      ],
      "text/plain": [
       "             feature  importance\n",
       "46         PREMAG_NO    0.000942\n",
       "47   ECHMODE_UNKNOWN    0.000886\n",
       "48      AUXHEAT_NBIC    0.000883\n",
       "49           TOK_AUG    0.000868\n",
       "50        AUXHEAT_NB    0.000867\n",
       "..               ...         ...\n",
       "133   PELLET_UNKNOWN    0.000000\n",
       "134          TOK_PDX    0.000000\n",
       "135   DIVMAT_UNKNOWN    0.000000\n",
       "136        TOK_START    0.000000\n",
       "137        DIVMAT_SS    0.000000\n",
       "\n",
       "[92 rows x 2 columns]"
      ]
     },
     "execution_count": 13,
     "metadata": {},
     "output_type": "execute_result"
    }
   ],
   "source": [
    "# Not so important\n",
    "df[df.importance < 1e-3]"
   ]
  },
  {
   "cell_type": "code",
   "execution_count": 15,
   "id": "3ba1aef3",
   "metadata": {},
   "outputs": [
    {
     "data": {
      "text/html": [
       "<div>\n",
       "<style scoped>\n",
       "    .dataframe tbody tr th:only-of-type {\n",
       "        vertical-align: middle;\n",
       "    }\n",
       "\n",
       "    .dataframe tbody tr th {\n",
       "        vertical-align: top;\n",
       "    }\n",
       "\n",
       "    .dataframe thead th {\n",
       "        text-align: right;\n",
       "    }\n",
       "</style>\n",
       "<table border=\"1\" class=\"dataframe\">\n",
       "  <thead>\n",
       "    <tr style=\"text-align: right;\">\n",
       "      <th></th>\n",
       "      <th>feature</th>\n",
       "      <th>importance</th>\n",
       "    </tr>\n",
       "  </thead>\n",
       "  <tbody>\n",
       "    <tr>\n",
       "      <th>108</th>\n",
       "      <td>CONFIG_DND</td>\n",
       "      <td>0.0</td>\n",
       "    </tr>\n",
       "    <tr>\n",
       "      <th>109</th>\n",
       "      <td>EVAP_DECABOA</td>\n",
       "      <td>0.0</td>\n",
       "    </tr>\n",
       "    <tr>\n",
       "      <th>110</th>\n",
       "      <td>EVAP_C-H</td>\n",
       "      <td>0.0</td>\n",
       "    </tr>\n",
       "    <tr>\n",
       "      <th>111</th>\n",
       "      <td>EVAP_C</td>\n",
       "      <td>0.0</td>\n",
       "    </tr>\n",
       "    <tr>\n",
       "      <th>112</th>\n",
       "      <td>AUXHEAT_UNKNOWN</td>\n",
       "      <td>0.0</td>\n",
       "    </tr>\n",
       "    <tr>\n",
       "      <th>113</th>\n",
       "      <td>CONFIG_BOT</td>\n",
       "      <td>0.0</td>\n",
       "    </tr>\n",
       "    <tr>\n",
       "      <th>114</th>\n",
       "      <td>TOK_TDEV</td>\n",
       "      <td>0.0</td>\n",
       "    </tr>\n",
       "    <tr>\n",
       "      <th>115</th>\n",
       "      <td>DIVNAME_DIV1</td>\n",
       "      <td>0.0</td>\n",
       "    </tr>\n",
       "    <tr>\n",
       "      <th>116</th>\n",
       "      <td>CONFIG_LIM</td>\n",
       "      <td>0.0</td>\n",
       "    </tr>\n",
       "    <tr>\n",
       "      <th>117</th>\n",
       "      <td>CONFIG_MAR</td>\n",
       "      <td>0.0</td>\n",
       "    </tr>\n",
       "    <tr>\n",
       "      <th>118</th>\n",
       "      <td>LIMMAT_UNKNOWN</td>\n",
       "      <td>0.0</td>\n",
       "    </tr>\n",
       "    <tr>\n",
       "      <th>119</th>\n",
       "      <td>TOK_ASDEX</td>\n",
       "      <td>0.0</td>\n",
       "    </tr>\n",
       "    <tr>\n",
       "      <th>120</th>\n",
       "      <td>CONFIG_TOP</td>\n",
       "      <td>0.0</td>\n",
       "    </tr>\n",
       "    <tr>\n",
       "      <th>121</th>\n",
       "      <td>CONFIG_IW</td>\n",
       "      <td>0.0</td>\n",
       "    </tr>\n",
       "    <tr>\n",
       "      <th>122</th>\n",
       "      <td>EVAP_TI</td>\n",
       "      <td>0.0</td>\n",
       "    </tr>\n",
       "    <tr>\n",
       "      <th>123</th>\n",
       "      <td>EVAP_UNKNOWN</td>\n",
       "      <td>0.0</td>\n",
       "    </tr>\n",
       "    <tr>\n",
       "      <th>124</th>\n",
       "      <td>AUXHEAT_EC</td>\n",
       "      <td>0.0</td>\n",
       "    </tr>\n",
       "    <tr>\n",
       "      <th>125</th>\n",
       "      <td>TOK_JFT2M</td>\n",
       "      <td>0.0</td>\n",
       "    </tr>\n",
       "    <tr>\n",
       "      <th>126</th>\n",
       "      <td>ECHMODE_O</td>\n",
       "      <td>0.0</td>\n",
       "    </tr>\n",
       "    <tr>\n",
       "      <th>127</th>\n",
       "      <td>WALMAT_UNKNOWN</td>\n",
       "      <td>0.0</td>\n",
       "    </tr>\n",
       "    <tr>\n",
       "      <th>128</th>\n",
       "      <td>TOK_TFTR</td>\n",
       "      <td>0.0</td>\n",
       "    </tr>\n",
       "    <tr>\n",
       "      <th>129</th>\n",
       "      <td>DIVMAT_IN</td>\n",
       "      <td>0.0</td>\n",
       "    </tr>\n",
       "    <tr>\n",
       "      <th>130</th>\n",
       "      <td>TOK_PBXM</td>\n",
       "      <td>0.0</td>\n",
       "    </tr>\n",
       "    <tr>\n",
       "      <th>131</th>\n",
       "      <td>DIVMAT_NONE</td>\n",
       "      <td>0.0</td>\n",
       "    </tr>\n",
       "    <tr>\n",
       "      <th>132</th>\n",
       "      <td>DIVMAT_TI12</td>\n",
       "      <td>0.0</td>\n",
       "    </tr>\n",
       "    <tr>\n",
       "      <th>133</th>\n",
       "      <td>PELLET_UNKNOWN</td>\n",
       "      <td>0.0</td>\n",
       "    </tr>\n",
       "    <tr>\n",
       "      <th>134</th>\n",
       "      <td>TOK_PDX</td>\n",
       "      <td>0.0</td>\n",
       "    </tr>\n",
       "    <tr>\n",
       "      <th>135</th>\n",
       "      <td>DIVMAT_UNKNOWN</td>\n",
       "      <td>0.0</td>\n",
       "    </tr>\n",
       "    <tr>\n",
       "      <th>136</th>\n",
       "      <td>TOK_START</td>\n",
       "      <td>0.0</td>\n",
       "    </tr>\n",
       "    <tr>\n",
       "      <th>137</th>\n",
       "      <td>DIVMAT_SS</td>\n",
       "      <td>0.0</td>\n",
       "    </tr>\n",
       "  </tbody>\n",
       "</table>\n",
       "</div>"
      ],
      "text/plain": [
       "             feature  importance\n",
       "108       CONFIG_DND         0.0\n",
       "109     EVAP_DECABOA         0.0\n",
       "110         EVAP_C-H         0.0\n",
       "111           EVAP_C         0.0\n",
       "112  AUXHEAT_UNKNOWN         0.0\n",
       "113       CONFIG_BOT         0.0\n",
       "114         TOK_TDEV         0.0\n",
       "115     DIVNAME_DIV1         0.0\n",
       "116       CONFIG_LIM         0.0\n",
       "117       CONFIG_MAR         0.0\n",
       "118   LIMMAT_UNKNOWN         0.0\n",
       "119        TOK_ASDEX         0.0\n",
       "120       CONFIG_TOP         0.0\n",
       "121        CONFIG_IW         0.0\n",
       "122          EVAP_TI         0.0\n",
       "123     EVAP_UNKNOWN         0.0\n",
       "124       AUXHEAT_EC         0.0\n",
       "125        TOK_JFT2M         0.0\n",
       "126        ECHMODE_O         0.0\n",
       "127   WALMAT_UNKNOWN         0.0\n",
       "128         TOK_TFTR         0.0\n",
       "129        DIVMAT_IN         0.0\n",
       "130         TOK_PBXM         0.0\n",
       "131      DIVMAT_NONE         0.0\n",
       "132      DIVMAT_TI12         0.0\n",
       "133   PELLET_UNKNOWN         0.0\n",
       "134          TOK_PDX         0.0\n",
       "135   DIVMAT_UNKNOWN         0.0\n",
       "136        TOK_START         0.0\n",
       "137        DIVMAT_SS         0.0"
      ]
     },
     "execution_count": 15,
     "metadata": {},
     "output_type": "execute_result"
    }
   ],
   "source": [
    "df[df.importance == 0]"
   ]
  },
  {
   "cell_type": "code",
   "execution_count": null,
   "id": "e1914179",
   "metadata": {},
   "outputs": [],
   "source": []
  }
 ],
 "metadata": {
  "kernelspec": {
   "display_name": "Python 3 (ipykernel)",
   "language": "python",
   "name": "python3"
  },
  "language_info": {
   "codemirror_mode": {
    "name": "ipython",
    "version": 3
   },
   "file_extension": ".py",
   "mimetype": "text/x-python",
   "name": "python",
   "nbconvert_exporter": "python",
   "pygments_lexer": "ipython3",
   "version": "3.10.11"
  }
 },
 "nbformat": 4,
 "nbformat_minor": 5
}
