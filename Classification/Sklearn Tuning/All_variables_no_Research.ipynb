{
 "cells": [
  {
   "cell_type": "code",
   "execution_count": 1,
   "id": "3f691e30",
   "metadata": {},
   "outputs": [],
   "source": [
    "%load_ext autoreload\n",
    "%autoreload 2"
   ]
  },
  {
   "cell_type": "markdown",
   "id": "88b471bc",
   "metadata": {},
   "source": [
    "# TUNED | RANDOM FOREST | ALL VARIABLES WITHOUT RESEARCH\n",
    "\n",
    "### Is it still possible to predict which observations decrease $\\alpha_R$ without the strongest influence of research variables?"
   ]
  },
  {
   "cell_type": "code",
   "execution_count": 2,
   "id": "4f834bdc",
   "metadata": {},
   "outputs": [],
   "source": [
    "import sys\n",
    "sys.path.append('../../')\n",
    "import tokamakTK\n",
    "\n",
    "\n",
    "import numpy as np \n",
    "import pandas as pd\n",
    "import matplotlib.pyplot as plt\n",
    "import scipy as sp\n",
    "import statsmodels.api as sm\n",
    "import matplotlib.patches as mpatches\n",
    "\n",
    "from sklearn.ensemble import RandomForestClassifier\n",
    "from sklearn.impute import SimpleImputer\n",
    "from sklearn.compose import ColumnTransformer\n",
    "from sklearn.preprocessing import OneHotEncoder, StandardScaler\n",
    "from sklearn.pipeline import Pipeline\n",
    "from sklearn.model_selection import train_test_split\n",
    "from sklearn.metrics import precision_recall_curve, precision_recall_fscore_support\n",
    "\n",
    "\n",
    "pd.set_option('display.max_columns', None)\n",
    "path = \"../../data/\""
   ]
  },
  {
   "cell_type": "code",
   "execution_count": 3,
   "id": "b09db631",
   "metadata": {},
   "outputs": [
    {
     "name": "stdout",
     "output_type": "stream",
     "text": [
      "23.45% of the data decreased alpha_R\n",
      "76.55% of the data did not decrease alpha_R\n"
     ]
    }
   ],
   "source": [
    "# Obtained from Optimization\n",
    "\n",
    "min_subset_ids = pd.read_csv(path+\"R_ids_alpha_0.6357.csv\")\n",
    "\n",
    "DB2 = pd.read_csv(path+\"DB2P8.csv\")\n",
    "DB5 = pd.read_csv(path+\"SELDB5_SVD.csv\", low_memory=False) \n",
    "\n",
    "# Setting ELMy Dataset\n",
    "DB5 = DB5[DB5[\"PHASE\"].isin(['HGELM', 'HSELM', 'HGELMH', 'HSELMH'])]\n",
    "\n",
    "# There is two shots from DB2P8 missing in DB5\n",
    "missing_shots = DB2[~DB2.id.isin( DB5.id.values )].reset_index(drop=True)\n",
    "DB5 = pd.concat([DB5, missing_shots], axis=0, ignore_index=True)\n",
    "\n",
    "# Labeling shots that had great impact in decreasing alpha_R\n",
    "DB5.insert(loc=2,column=\"label\",value=[0]*len(DB5))\n",
    "DB5.loc[(DB5[DB5.id.isin(min_subset_ids.id)].index), \"label\"] = 1\n",
    "\n",
    "\n",
    "print(\n",
    "    f\"{ round( (len(min_subset_ids)/len(DB5))*100     ,2)  }% of the data decreased alpha_R\\n\" + \n",
    "    f\"{ round( (1 - len(min_subset_ids)/len(DB5))*100 ,2)  }% of the data did not decrease alpha_R\"\n",
    ")"
   ]
  },
  {
   "cell_type": "markdown",
   "id": "0adc6e00",
   "metadata": {},
   "source": [
    "Class distribution can be considered is skewed.\n",
    "\n",
    "## Treatment to Categorical and Numerical Data"
   ]
  },
  {
   "cell_type": "code",
   "execution_count": 4,
   "id": "cd2d96e9",
   "metadata": {},
   "outputs": [],
   "source": [
    "features = ['ZEFFNEO', 'EPS', 'WFICFORM', 'DWDIA', 'KAREA', \n",
    "            'OMEGACYCL', 'ENBI', 'WMHD', 'AMIN', 'WFFORM', 'PICRH', 'PLTH', 'MEFF', \n",
    "            'QCYL5', 'PNBI', 'VOL', 'LCOULOMB', 'LHTIME', 'PFLOSS', 'BEIMHD', \n",
    "            'POHM', 'ZEFF', 'PECRH', 'ELMFREQ', 'PRAD', 'NESOL', 'TORQ', 'TOK', 'WALMAT', 'DIVNAME', \n",
    "            'LIMMAT', 'HYBRID', 'EVAP', 'ECHMODE', 'PREMAG', 'DIVMAT', 'PELLET', 'ELMTYPE', 'AUXHEAT', 'CONFIG']\n",
    "\n",
    "\n",
    "DB5 = tokamakTK.clean_categorical_data(DB5)\n",
    "\n",
    "\n",
    "# Needed to respectively clean each dtype\n",
    "num_features = DB5[features].select_dtypes(include=['int', 'float']).columns.tolist()\n",
    "cat_features = DB5[features].select_dtypes(include=['object']).columns.tolist()\n",
    "\n",
    "\n",
    "data_num = DB5[num_features+[\"TOK\",\"DATE\"]]\n",
    "data_cat = DB5[cat_features]\n",
    "\n",
    "data_num = tokamakTK.clean_numerical_data(data_num)\n",
    "\n",
    "data_ = pd.concat([data_num,\n",
    "                  (pd.concat([\n",
    "                       DB5[[\"label\"]], \n",
    "                       tokamakTK.encode_categorical_ohe(data_cat)\n",
    "                      ], axis=1)\n",
    "                  )],\n",
    "                  axis=1)"
   ]
  },
  {
   "cell_type": "code",
   "execution_count": 5,
   "id": "9b7052ec",
   "metadata": {},
   "outputs": [],
   "source": [
    "X = data_.drop(\"label\", axis=1)\n",
    "y = data_[\"label\"]\n",
    "\n",
    "# split data\n",
    "X_train, X_test, y_train, y_test = train_test_split(X, y, test_size=0.3, random_state=71, stratify=y)"
   ]
  },
  {
   "cell_type": "code",
   "execution_count": 6,
   "id": "46467d7e",
   "metadata": {},
   "outputs": [],
   "source": [
    "# Define random forest classifier with preprocessor as a pipeline\n",
    "\n",
    "rf = RandomForestClassifier(min_samples_split=2,\n",
    "                            min_samples_leaf=1,\n",
    "                            n_estimators = 200,\n",
    "                            max_depth = 25,\n",
    "                            criterion='entropy',\n",
    "                            max_features=None,\n",
    "                            random_state=71\n",
    "                           )\n",
    "\n",
    "rf.fit(X_train, y_train)\n",
    "y_pred= rf.predict_proba(X_test)"
   ]
  },
  {
   "cell_type": "code",
   "execution_count": 7,
   "id": "2f793027",
   "metadata": {},
   "outputs": [
    {
     "data": {
      "image/png": "[encoded data removed]",
      "text/plain": [
       "<Figure size 500x400 with 1 Axes>"
      ]
     },
     "metadata": {},
     "output_type": "display_data"
    }
   ],
   "source": [
    "plt.figure(figsize=(5,4))\n",
    "\n",
    "# keep probabilities for the positive outcome only\n",
    "y_pred = y_pred[:, 1]\n",
    "# calculate pr-curve\n",
    "precision, recall, thresholds = precision_recall_curve(y_test, y_pred)\n",
    "# plot the roc curve for the model\n",
    "no_skill = len(y_test[y_test==1]) / len(y_test)\n",
    "plt.plot(recall, precision, marker='.', label='Default Random Forest', color=\"r\")\n",
    "plt.plot([0,1], [no_skill,no_skill], linestyle='--', label='No Skill', color=\"k\")\n",
    "plt.xlabel('Recall')\n",
    "plt.ylabel('Precision')\n",
    "plt.title(\"Research Variables\")\n",
    "plt.legend();"
   ]
  },
  {
   "cell_type": "code",
   "execution_count": 8,
   "id": "f0aa30d7",
   "metadata": {
    "scrolled": true
   },
   "outputs": [
    {
     "data": {
      "text/plain": [
       "(array([0.85384615, 0.92799462]),\n",
       " array([0.75681818, 0.96030641]),\n",
       " array([0.80240964, 0.94387406]),\n",
       " array([ 440, 1436]))"
      ]
     },
     "execution_count": 8,
     "metadata": {},
     "output_type": "execute_result"
    }
   ],
   "source": [
    "y_pred_ = rf.predict(X_test)\n",
    "precision_recall_fscore_support(y_test, y_pred_, labels=[1,0])"
   ]
  },
  {
   "cell_type": "markdown",
   "id": "d9ada672",
   "metadata": {},
   "source": [
    "## [Feature Importance Based on Mean Decrease in Impurity](https://scikit-learn.org/stable/auto_examples/ensemble/plot_forest_importances.html)\n",
    "\n",
    "Feature importances are provided by the fitted attribute `feature_importances_` and they are computed as the mean and standard deviation of accumulation of the impurity decrease within each tree.\n",
    "\n",
    "**WARNING**:  Impurity-based feature importances can be misleading for high cardinality features (many unique values). See Permutation feature importance."
   ]
  },
  {
   "cell_type": "code",
   "execution_count": 9,
   "id": "e18a6b1d",
   "metadata": {},
   "outputs": [
    {
     "name": "stdout",
     "output_type": "stream",
     "text": [
      "            feature  importance\n",
      "0          LCOULOMB    0.171809\n",
      "1             QCYL5    0.103994\n",
      "2              ENBI    0.075552\n",
      "3              POHM    0.070191\n",
      "4         OMEGACYCL    0.049277\n",
      "..              ...         ...\n",
      "134       DIVMAT_IN    0.000000\n",
      "135     DIVMAT_NONE    0.000000\n",
      "136       DIVMAT_SS    0.000000\n",
      "137        TOK_PBXM    0.000000\n",
      "138  CONFIG_UNKNOWN    0.000000\n",
      "\n",
      "[139 rows x 2 columns]\n"
     ]
    }
   ],
   "source": [
    "importances = rf.feature_importances_\n",
    "\n",
    "feature_importances = pd.DataFrame({\"feature\": X.columns, \"importance\": importances})\n",
    "feature_importances = feature_importances.sort_values(\"importance\", ascending=False).reset_index(drop=True)\n",
    "\n",
    "print(feature_importances)"
   ]
  },
  {
   "cell_type": "code",
   "execution_count": 10,
   "id": "c991b672",
   "metadata": {},
   "outputs": [
    {
     "data": {
      "text/plain": [
       "array(['LCOULOMB', 'QCYL5', 'ENBI', 'POHM', 'OMEGACYCL', 'VOL', 'PFLOSS',\n",
       "       'AMIN', 'PLTH', 'KAREA', 'PNBI', 'NESOL', 'EPS', 'HYBRID_HYBRID',\n",
       "       'MEFF', 'WFFORM', 'DWDIA', 'HYBRID_UNKNOWN', 'PICRH', 'BEIMHD',\n",
       "       'PECRH', 'HYBRID_YES', 'WMHD', 'ELMTYPE_TYPE-II', 'ZEFFNEO',\n",
       "       'WFICFORM', 'ECHMODE_NONE', 'ZEFF', 'PELLET_D', 'PELLET_NONE',\n",
       "       'EVAP_NONE', 'LHTIME', 'PRAD', 'ELMTYPE_TYPE-III', 'TOK_AUG',\n",
       "       'HYBRID_NO', 'ECHMODE_UNKNOWN', 'AUXHEAT_NB', 'PELLET_GAS-FUEL',\n",
       "       'DIVMAT_C/BE', 'ELMTYPE_TYPE-I', 'TORQ', 'CONFIG_SN(U)',\n",
       "       'AUXHEAT_NBIC', 'ELMFREQ', 'CONFIG_SN(L)', 'EVAP_BO',\n",
       "       'ELMTYPE_UNKNOWN', 'PREMAG_YES', 'DIVNAME_DV-II', 'WALMAT_C',\n",
       "       'DIVMAT_C', 'CONFIG_DN', 'LIMMAT_BE', 'LIMMAT_C', 'DIVNAME_MARK',\n",
       "       'PELLET_H', 'DIVNAME_DV-III', 'EVAP_BE', 'TOK_D3D', 'PREMAG_NO',\n",
       "       'WALMAT_IN', 'TOK_JETILW', 'WALMAT_C-W', 'PREMAG_UNKNOWN',\n",
       "       'DIVNAME_MARKSR', 'DIVNAME_MARKIAP', 'DIVNAME_ILW', 'AUXHEAT_NBEC',\n",
       "       'WALMAT_IN/C', 'ELMTYPE_TYPE-1+5', 'DIVNAME_RDP', 'AUXHEAT_NBECIC',\n",
       "       'WALMAT_W', 'ECHMODE_X', 'EVAP_SILICON', 'TOK_JET', 'DIVMAT_W',\n",
       "       'LIMMAT_W', 'LIMMAT_C-W', 'ELMTYPE_TYPE-V', 'CONFIG_SN',\n",
       "       'WALMAT_SS', 'TOK_AUGW', 'AUXHEAT_IC', 'ELMTYPE_TYPE-1+2',\n",
       "       'DIVNAME_UNKNOWN', 'TOK_CMOD', 'ELMTYPE_TYPE-RF', 'DIVNAME_RIB',\n",
       "       'EVAP_C-BO', 'DIVMAT_C-W', 'DIVMAT_MO', 'LIMMAT_MO', 'TOK_MAST',\n",
       "       'AUXHEAT_NONE', 'DIVNAME_ADP', 'DIVNAME_DV-I', 'DIVNAME_OPEN',\n",
       "       'TOK_JT60U', 'DIVNAME_PLATES1', 'TOK_NSTX', 'AUXHEAT_EC',\n",
       "       'DIVNAME_DIV1', 'TOK_TCV', 'WALMAT_CSS', 'LIMMAT_NONE',\n",
       "       'DIVMAT_UNKNOWN', 'CONFIG_DND', 'TOK_COMPASS', 'LIMMAT_UNKNOWN',\n",
       "       'AUXHEAT_UNKNOWN', 'CONFIG_BOT', 'CONFIG_IW', 'DIVMAT_TI12',\n",
       "       'CONFIG_LIM', 'CONFIG_MAR', 'WALMAT_UNKNOWN', 'DIVNAME_MARKIA',\n",
       "       'TOK_ASDEX', 'CONFIG_TOP', 'EVAP_C', 'EVAP_C-H', 'EVAP_DECABOA',\n",
       "       'WALMAT_AL', 'EVAP_TI', 'EVAP_UNKNOWN', 'TOK_TFTR', 'ECHMODE_O',\n",
       "       'TOK_JFT2M', 'TOK_TDEV', 'TOK_START', 'TOK_PDX', 'PELLET_UNKNOWN',\n",
       "       'DIVMAT_IN', 'DIVMAT_NONE', 'DIVMAT_SS', 'TOK_PBXM',\n",
       "       'CONFIG_UNKNOWN'], dtype=object)"
      ]
     },
     "execution_count": 10,
     "metadata": {},
     "output_type": "execute_result"
    }
   ],
   "source": [
    "df = pd.DataFrame(feature_importances)\n",
    "df.feature.unique()"
   ]
  },
  {
   "cell_type": "code",
   "execution_count": 11,
   "id": "d9bc36f8",
   "metadata": {},
   "outputs": [
    {
     "data": {
      "image/png": "[encoded data removed]",
      "text/plain": [
       "<Figure size 1100x400 with 1 Axes>"
      ]
     },
     "metadata": {},
     "output_type": "display_data"
    }
   ],
   "source": [
    "plt.figure(figsize=(11,4))\n",
    "plt.bar(df[df.importance > 0.5e-2].feature, df[df.importance > 0.5e-2].importance, color=\"gray\")\n",
    "plt.xticks(rotation=90);"
   ]
  },
  {
   "cell_type": "code",
   "execution_count": 17,
   "id": "59710410",
   "metadata": {},
   "outputs": [
    {
     "data": {
      "text/plain": [
       "array(['LCOULOMB', 'QCYL5', 'ENBI', 'POHM', 'OMEGACYCL', 'VOL', 'PFLOSS',\n",
       "       'AMIN', 'PLTH', 'KAREA', 'PNBI', 'NESOL', 'EPS', 'HYBRID_HYBRID',\n",
       "       'MEFF', 'WFFORM', 'DWDIA', 'HYBRID_UNKNOWN', 'PICRH', 'BEIMHD',\n",
       "       'PECRH', 'HYBRID_YES', 'WMHD', 'ELMTYPE_TYPE-II', 'ZEFFNEO'],\n",
       "      dtype=object)"
      ]
     },
     "execution_count": 17,
     "metadata": {},
     "output_type": "execute_result"
    }
   ],
   "source": [
    "# Quite Important\n",
    "df[df.importance > 0.005].feature.values"
   ]
  },
  {
   "cell_type": "code",
   "execution_count": 13,
   "id": "c2b46ed3",
   "metadata": {},
   "outputs": [
    {
     "data": {
      "text/html": [
       "<div>\n",
       "<style scoped>\n",
       "    .dataframe tbody tr th:only-of-type {\n",
       "        vertical-align: middle;\n",
       "    }\n",
       "\n",
       "    .dataframe tbody tr th {\n",
       "        vertical-align: top;\n",
       "    }\n",
       "\n",
       "    .dataframe thead th {\n",
       "        text-align: right;\n",
       "    }\n",
       "</style>\n",
       "<table border=\"1\" class=\"dataframe\">\n",
       "  <thead>\n",
       "    <tr style=\"text-align: right;\">\n",
       "      <th></th>\n",
       "      <th>feature</th>\n",
       "      <th>importance</th>\n",
       "    </tr>\n",
       "  </thead>\n",
       "  <tbody>\n",
       "    <tr>\n",
       "      <th>50</th>\n",
       "      <td>WALMAT_C</td>\n",
       "      <td>0.000971</td>\n",
       "    </tr>\n",
       "    <tr>\n",
       "      <th>51</th>\n",
       "      <td>DIVMAT_C</td>\n",
       "      <td>0.000954</td>\n",
       "    </tr>\n",
       "    <tr>\n",
       "      <th>52</th>\n",
       "      <td>CONFIG_DN</td>\n",
       "      <td>0.000939</td>\n",
       "    </tr>\n",
       "    <tr>\n",
       "      <th>53</th>\n",
       "      <td>LIMMAT_BE</td>\n",
       "      <td>0.000756</td>\n",
       "    </tr>\n",
       "    <tr>\n",
       "      <th>54</th>\n",
       "      <td>LIMMAT_C</td>\n",
       "      <td>0.000698</td>\n",
       "    </tr>\n",
       "    <tr>\n",
       "      <th>...</th>\n",
       "      <td>...</td>\n",
       "      <td>...</td>\n",
       "    </tr>\n",
       "    <tr>\n",
       "      <th>134</th>\n",
       "      <td>DIVMAT_IN</td>\n",
       "      <td>0.000000</td>\n",
       "    </tr>\n",
       "    <tr>\n",
       "      <th>135</th>\n",
       "      <td>DIVMAT_NONE</td>\n",
       "      <td>0.000000</td>\n",
       "    </tr>\n",
       "    <tr>\n",
       "      <th>136</th>\n",
       "      <td>DIVMAT_SS</td>\n",
       "      <td>0.000000</td>\n",
       "    </tr>\n",
       "    <tr>\n",
       "      <th>137</th>\n",
       "      <td>TOK_PBXM</td>\n",
       "      <td>0.000000</td>\n",
       "    </tr>\n",
       "    <tr>\n",
       "      <th>138</th>\n",
       "      <td>CONFIG_UNKNOWN</td>\n",
       "      <td>0.000000</td>\n",
       "    </tr>\n",
       "  </tbody>\n",
       "</table>\n",
       "<p>89 rows × 2 columns</p>\n",
       "</div>"
      ],
      "text/plain": [
       "            feature  importance\n",
       "50         WALMAT_C    0.000971\n",
       "51         DIVMAT_C    0.000954\n",
       "52        CONFIG_DN    0.000939\n",
       "53        LIMMAT_BE    0.000756\n",
       "54         LIMMAT_C    0.000698\n",
       "..              ...         ...\n",
       "134       DIVMAT_IN    0.000000\n",
       "135     DIVMAT_NONE    0.000000\n",
       "136       DIVMAT_SS    0.000000\n",
       "137        TOK_PBXM    0.000000\n",
       "138  CONFIG_UNKNOWN    0.000000\n",
       "\n",
       "[89 rows x 2 columns]"
      ]
     },
     "execution_count": 13,
     "metadata": {},
     "output_type": "execute_result"
    }
   ],
   "source": [
    "# Not so important\n",
    "df[df.importance < 1e-3]"
   ]
  },
  {
   "cell_type": "code",
   "execution_count": 14,
   "id": "3ba1aef3",
   "metadata": {},
   "outputs": [
    {
     "data": {
      "text/html": [
       "<div>\n",
       "<style scoped>\n",
       "    .dataframe tbody tr th:only-of-type {\n",
       "        vertical-align: middle;\n",
       "    }\n",
       "\n",
       "    .dataframe tbody tr th {\n",
       "        vertical-align: top;\n",
       "    }\n",
       "\n",
       "    .dataframe thead th {\n",
       "        text-align: right;\n",
       "    }\n",
       "</style>\n",
       "<table border=\"1\" class=\"dataframe\">\n",
       "  <thead>\n",
       "    <tr style=\"text-align: right;\">\n",
       "      <th></th>\n",
       "      <th>feature</th>\n",
       "      <th>importance</th>\n",
       "    </tr>\n",
       "  </thead>\n",
       "  <tbody>\n",
       "    <tr>\n",
       "      <th>107</th>\n",
       "      <td>DIVMAT_UNKNOWN</td>\n",
       "      <td>0.0</td>\n",
       "    </tr>\n",
       "    <tr>\n",
       "      <th>108</th>\n",
       "      <td>CONFIG_DND</td>\n",
       "      <td>0.0</td>\n",
       "    </tr>\n",
       "    <tr>\n",
       "      <th>109</th>\n",
       "      <td>TOK_COMPASS</td>\n",
       "      <td>0.0</td>\n",
       "    </tr>\n",
       "    <tr>\n",
       "      <th>110</th>\n",
       "      <td>LIMMAT_UNKNOWN</td>\n",
       "      <td>0.0</td>\n",
       "    </tr>\n",
       "    <tr>\n",
       "      <th>111</th>\n",
       "      <td>AUXHEAT_UNKNOWN</td>\n",
       "      <td>0.0</td>\n",
       "    </tr>\n",
       "    <tr>\n",
       "      <th>112</th>\n",
       "      <td>CONFIG_BOT</td>\n",
       "      <td>0.0</td>\n",
       "    </tr>\n",
       "    <tr>\n",
       "      <th>113</th>\n",
       "      <td>CONFIG_IW</td>\n",
       "      <td>0.0</td>\n",
       "    </tr>\n",
       "    <tr>\n",
       "      <th>114</th>\n",
       "      <td>DIVMAT_TI12</td>\n",
       "      <td>0.0</td>\n",
       "    </tr>\n",
       "    <tr>\n",
       "      <th>115</th>\n",
       "      <td>CONFIG_LIM</td>\n",
       "      <td>0.0</td>\n",
       "    </tr>\n",
       "    <tr>\n",
       "      <th>116</th>\n",
       "      <td>CONFIG_MAR</td>\n",
       "      <td>0.0</td>\n",
       "    </tr>\n",
       "    <tr>\n",
       "      <th>117</th>\n",
       "      <td>WALMAT_UNKNOWN</td>\n",
       "      <td>0.0</td>\n",
       "    </tr>\n",
       "    <tr>\n",
       "      <th>118</th>\n",
       "      <td>DIVNAME_MARKIA</td>\n",
       "      <td>0.0</td>\n",
       "    </tr>\n",
       "    <tr>\n",
       "      <th>119</th>\n",
       "      <td>TOK_ASDEX</td>\n",
       "      <td>0.0</td>\n",
       "    </tr>\n",
       "    <tr>\n",
       "      <th>120</th>\n",
       "      <td>CONFIG_TOP</td>\n",
       "      <td>0.0</td>\n",
       "    </tr>\n",
       "    <tr>\n",
       "      <th>121</th>\n",
       "      <td>EVAP_C</td>\n",
       "      <td>0.0</td>\n",
       "    </tr>\n",
       "    <tr>\n",
       "      <th>122</th>\n",
       "      <td>EVAP_C-H</td>\n",
       "      <td>0.0</td>\n",
       "    </tr>\n",
       "    <tr>\n",
       "      <th>123</th>\n",
       "      <td>EVAP_DECABOA</td>\n",
       "      <td>0.0</td>\n",
       "    </tr>\n",
       "    <tr>\n",
       "      <th>124</th>\n",
       "      <td>WALMAT_AL</td>\n",
       "      <td>0.0</td>\n",
       "    </tr>\n",
       "    <tr>\n",
       "      <th>125</th>\n",
       "      <td>EVAP_TI</td>\n",
       "      <td>0.0</td>\n",
       "    </tr>\n",
       "    <tr>\n",
       "      <th>126</th>\n",
       "      <td>EVAP_UNKNOWN</td>\n",
       "      <td>0.0</td>\n",
       "    </tr>\n",
       "    <tr>\n",
       "      <th>127</th>\n",
       "      <td>TOK_TFTR</td>\n",
       "      <td>0.0</td>\n",
       "    </tr>\n",
       "    <tr>\n",
       "      <th>128</th>\n",
       "      <td>ECHMODE_O</td>\n",
       "      <td>0.0</td>\n",
       "    </tr>\n",
       "    <tr>\n",
       "      <th>129</th>\n",
       "      <td>TOK_JFT2M</td>\n",
       "      <td>0.0</td>\n",
       "    </tr>\n",
       "    <tr>\n",
       "      <th>130</th>\n",
       "      <td>TOK_TDEV</td>\n",
       "      <td>0.0</td>\n",
       "    </tr>\n",
       "    <tr>\n",
       "      <th>131</th>\n",
       "      <td>TOK_START</td>\n",
       "      <td>0.0</td>\n",
       "    </tr>\n",
       "    <tr>\n",
       "      <th>132</th>\n",
       "      <td>TOK_PDX</td>\n",
       "      <td>0.0</td>\n",
       "    </tr>\n",
       "    <tr>\n",
       "      <th>133</th>\n",
       "      <td>PELLET_UNKNOWN</td>\n",
       "      <td>0.0</td>\n",
       "    </tr>\n",
       "    <tr>\n",
       "      <th>134</th>\n",
       "      <td>DIVMAT_IN</td>\n",
       "      <td>0.0</td>\n",
       "    </tr>\n",
       "    <tr>\n",
       "      <th>135</th>\n",
       "      <td>DIVMAT_NONE</td>\n",
       "      <td>0.0</td>\n",
       "    </tr>\n",
       "    <tr>\n",
       "      <th>136</th>\n",
       "      <td>DIVMAT_SS</td>\n",
       "      <td>0.0</td>\n",
       "    </tr>\n",
       "    <tr>\n",
       "      <th>137</th>\n",
       "      <td>TOK_PBXM</td>\n",
       "      <td>0.0</td>\n",
       "    </tr>\n",
       "    <tr>\n",
       "      <th>138</th>\n",
       "      <td>CONFIG_UNKNOWN</td>\n",
       "      <td>0.0</td>\n",
       "    </tr>\n",
       "  </tbody>\n",
       "</table>\n",
       "</div>"
      ],
      "text/plain": [
       "             feature  importance\n",
       "107   DIVMAT_UNKNOWN         0.0\n",
       "108       CONFIG_DND         0.0\n",
       "109      TOK_COMPASS         0.0\n",
       "110   LIMMAT_UNKNOWN         0.0\n",
       "111  AUXHEAT_UNKNOWN         0.0\n",
       "112       CONFIG_BOT         0.0\n",
       "113        CONFIG_IW         0.0\n",
       "114      DIVMAT_TI12         0.0\n",
       "115       CONFIG_LIM         0.0\n",
       "116       CONFIG_MAR         0.0\n",
       "117   WALMAT_UNKNOWN         0.0\n",
       "118   DIVNAME_MARKIA         0.0\n",
       "119        TOK_ASDEX         0.0\n",
       "120       CONFIG_TOP         0.0\n",
       "121           EVAP_C         0.0\n",
       "122         EVAP_C-H         0.0\n",
       "123     EVAP_DECABOA         0.0\n",
       "124        WALMAT_AL         0.0\n",
       "125          EVAP_TI         0.0\n",
       "126     EVAP_UNKNOWN         0.0\n",
       "127         TOK_TFTR         0.0\n",
       "128        ECHMODE_O         0.0\n",
       "129        TOK_JFT2M         0.0\n",
       "130         TOK_TDEV         0.0\n",
       "131        TOK_START         0.0\n",
       "132          TOK_PDX         0.0\n",
       "133   PELLET_UNKNOWN         0.0\n",
       "134        DIVMAT_IN         0.0\n",
       "135      DIVMAT_NONE         0.0\n",
       "136        DIVMAT_SS         0.0\n",
       "137         TOK_PBXM         0.0\n",
       "138   CONFIG_UNKNOWN         0.0"
      ]
     },
     "execution_count": 14,
     "metadata": {},
     "output_type": "execute_result"
    }
   ],
   "source": [
    "df[df.importance == 0]"
   ]
  },
  {
   "cell_type": "code",
   "execution_count": null,
   "id": "e1914179",
   "metadata": {},
   "outputs": [],
   "source": []
  }
 ],
 "metadata": {
  "kernelspec": {
   "display_name": "Python 3 (ipykernel)",
   "language": "python",
   "name": "python3"
  },
  "language_info": {
   "codemirror_mode": {
    "name": "ipython",
    "version": 3
   },
   "file_extension": ".py",
   "mimetype": "text/x-python",
   "name": "python",
   "nbconvert_exporter": "python",
   "pygments_lexer": "ipython3",
   "version": "3.10.10"
  }
 },
 "nbformat": 4,
 "nbformat_minor": 5
}
