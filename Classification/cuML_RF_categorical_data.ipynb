{
 "cells": [
  {
   "cell_type": "code",
   "execution_count": 1,
   "id": "3f691e30",
   "metadata": {},
   "outputs": [],
   "source": [
    "%load_ext autoreload\n",
    "%autoreload 2"
   ]
  },
  {
   "cell_type": "markdown",
   "id": "9a9ebacf",
   "metadata": {},
   "source": [
    "# `cuML` Implementation - GPU Machine Learning Algorithms\n",
    "\n",
    "[Source](https://github.com/rapidsai/cuml)\n",
    "\n",
    "\"cuML is a suite of libraries that implement machine learning algorithms and mathematical primitives functions that share compatible APIs with other RAPIDS projects.\n",
    "\n",
    "cuML enables data scientists, researchers, and software engineers to run traditional tabular ML tasks on GPUs without going into the details of CUDA programming. In most cases, cuML's Python API matches the API from scikit-learn.\"\n",
    "\n",
    "\n",
    "Why do I want to implement this? because, the normal version takes above two hourse to run. "
   ]
  },
  {
   "cell_type": "code",
   "execution_count": 2,
   "id": "4f834bdc",
   "metadata": {},
   "outputs": [],
   "source": [
    "import numpy as np \n",
    "import pandas as pd\n",
    "import matplotlib.pyplot as plt\n",
    "import scipy as sp\n",
    "import statsmodels.api as sm\n",
    "import matplotlib.patches as mpatches\n",
    "\n",
    "import cudf\n",
    "import cupy as cp\n",
    "\n",
    "from cuml.ensemble import RandomForestClassifier\n",
    "from cuml.model_selection import train_test_split, GridSearchCV, StratifiedKFold\n",
    "\n",
    "from sklearn.preprocessing import StandardScaler, OneHotEncoder, LabelBinarizer\n",
    "from cuml.metrics import precision_recall_curve\n",
    "from sklearn.metrics import precision_recall_fscore_support\n",
    "\n",
    "\n",
    "from IPython.core.debugger import Pdb #Pdb().set_trace()\n",
    "\n",
    "\n",
    "pd.set_option('display.max_columns', None)\n",
    "path = \"../data/\""
   ]
  },
  {
   "cell_type": "code",
   "execution_count": 3,
   "id": "b09db631",
   "metadata": {},
   "outputs": [
    {
     "name": "stdout",
     "output_type": "stream",
     "text": [
      "40.69% of the data decreased alpha_R\n",
      "59.31% of the data did not decrease alpha_R\n"
     ]
    }
   ],
   "source": [
    "# Obtained from Optimization\n",
    "\n",
    "min_subset_ids = pd.read_csv(path+\"id_vs_frequency_decreasing_ds.csv\")\n",
    "#min_subset_ids = pd.read_csv(path+\"R_ids_alpha_0.6357.csv\")\n",
    "\n",
    "DB2 = pd.read_csv(path+\"DB2P8.csv\")\n",
    "DB5 = pd.read_csv(path+\"SELDB5_SVD.csv\", low_memory=False) \n",
    "DB5 = DB5[DB5[\"PHASE\"].isin(['HGELM', 'HSELM', 'HGELMH', 'HSELMH'])]\n",
    "\n",
    "# There is two shots from DB2P8 missing in DB5\n",
    "missing_shots = DB2[~DB2.id.isin( DB5.id.values )].reset_index(drop=True)\n",
    "DB5 = pd.concat([DB5, missing_shots], axis=0, ignore_index=True)\n",
    "\n",
    "# Labeling shots that had great impact in decreasing alpha_R\n",
    "DB5.insert(loc=2,column=\"label\",value=[0]*len(DB5))\n",
    "DB5.loc[(DB5[DB5.id.isin(min_subset_ids.id)].index), \"label\"] = 1\n",
    "\n",
    "print(\n",
    "    f\"{ round( (len(min_subset_ids)/len(DB5))*100     ,2)  }% of the data decreased alpha_R\\n\" + \n",
    "    f\"{ round( (1 - len(min_subset_ids)/len(DB5))*100 ,2)  }% of the data did not decrease alpha_R\"\n",
    ")"
   ]
  },
  {
   "cell_type": "markdown",
   "id": "0adc6e00",
   "metadata": {},
   "source": [
    "Class distribution can be considered is skewed.\n",
    "\n",
    "## Treatment to Categorical Data"
   ]
  },
  {
   "cell_type": "code",
   "execution_count": 4,
   "id": "cd2d96e9",
   "metadata": {},
   "outputs": [],
   "source": [
    "research_features = ['NEL','TAV','BT','RHOSTAR','NUSTAR','BETASTAR']\n",
    "\n",
    "TOK_characteristics = [\"DIVNAME\",\"WALMAT\",\"DIVMAT\",\"LIMMAT\"]\n",
    "categorical = [\"PREMAG\",\"HYBRID\",\"CONFIG\",\"ELMTYPE\",\"ECHMODE\",\n",
    "               \"ICSCHEME\",\"AUXHEAT\",\"EVAP\",\"PELLET\"] + TOK_characteristics \n",
    "\n",
    "DB5[categorical] = DB5[categorical].fillna('UNKNOWN')\n",
    "DB5[\"DIVNAME\"]   = DB5[\"DIVNAME\"].str.replace(\"NONAME\",\"UNKNOWN\",regex=False)\n",
    "\n",
    "DB5[\"DIVMAT\"] = DB5[\"DIVMAT\"].str.replace(\"CC\",\"C\",regex=False)\n",
    "DB5[\"DIVMAT\"] = DB5[\"DIVMAT\"].str.replace(\"TI1\",\"TI12\",regex=False)\n",
    "DB5[\"DIVMAT\"] = DB5[\"DIVMAT\"].str.replace(\"TI2\",\"TI12\",regex=False)\n",
    "\n",
    "DB5[\"DIVNAME\"] = DB5[\"DIVNAME\"].str.replace(\"(DIV-I)|(DV-IPRE)|(DV-IPOST)\",\n",
    "                                            \"DV-I\",regex=True)\n",
    "DB5[\"DIVNAME\"] = DB5[\"DIVNAME\"].str.replace(\"(DIV-II)|(DV-IIc)|(DV-II-C)|(DV-IIb)|(DV-IIc)|(DV-IId)|(DV-IId)\",\n",
    "                                            \"DV-II\",regex=True)\n",
    "DB5[\"DIVNAME\"] = DB5[\"DIVNAME\"].str.replace(\"(MARK0)|(MARKI)|(MARKIIA)|(MARKGB)|(MARKGBSR)|\"+\n",
    "                                            \"(MARKIA)|(MARKIAP)|(MARKSR)|(MARKA)|(MARKP)\",\n",
    "                                            \"MARK\",regex=True)\n",
    "\n",
    "DB5[\"ICSCHEME\"]   = DB5[\"ICSCHEME\"].str.replace(\"OFF\",\"NONE\",regex=False)\n",
    "\n",
    "# Removing noise on heating scheme | the removed coluns are shots from 1996\n",
    "DB5 = DB5[~DB5[\"AUXHEAT\"].isin([\"UNKNOWN\"])]\n",
    "\n",
    "DB5[\"EVAP\"] = DB5[\"EVAP\"].str.replace(\"CARBH\",\"C-H\",regex=True)\n",
    "DB5[\"EVAP\"] = DB5[\"EVAP\"].str.replace(\"CARB\",\"C\",regex=True)\n",
    "DB5[\"EVAP\"] = DB5[\"EVAP\"].str.replace(\"BOROC\",\"C-BO\",regex=True)\n",
    "DB5[\"EVAP\"] = DB5[\"EVAP\"].str.replace(\"(BOROA)|(BOROB)|(BOROX)|(BOR)\",\"BO\",regex=True)\n",
    "\n",
    "DB5[\"PELLET\"] = DB5[\"PELLET\"].str.replace(\"GP_D\",\"D\",regex=False)\n",
    "DB5[\"PELLET\"] = DB5[\"PELLET\"].str.replace(\"GP_H\",\"H\",regex=False)"
   ]
  },
  {
   "cell_type": "markdown",
   "id": "ba8d7aec",
   "metadata": {},
   "source": [
    "## Treatment to Numerical Data | `DB5`"
   ]
  },
  {
   "cell_type": "code",
   "execution_count": 5,
   "id": "b5b5dd56",
   "metadata": {},
   "outputs": [],
   "source": [
    "plasma_characteristics = [\"QCYL5\",\"BEIMHD\",\"PREMAG\",\"LHTIME\",\"HYBRID\",\n",
    "                          \"CONFIG\",\"DWDIA\",\"WMHD\",\"TORQ\"\n",
    "                         ] \n",
    "TOK_characteristics = [\"TOK\",\"DIVNAME\",\"WALMAT\",\"DIVMAT\",\"LIMMAT\"]\n",
    "ELM = [\"ELMTYPE\",\"ELMFREQ\"]\n",
    "heating = [\"PECRH\", \"PICRH\", \"ICSCHEME\",\"AUXHEAT\"]\n",
    "impurities = [\"EVAP\",\"ZEFF\",\"ZEFFNEO\",\"PRAD\",\"POHM\",\"ENBI\"]\n",
    " # corrections on power loss | NBI Power lost by unconfined orbits\n",
    "power = [\"PLTH\",\"PFLOSS\"]\n",
    "temperatures = [\"TAV\",\"TEV\",\"TIV\"]\n",
    "# e-density in SOL | total due to NBI| total due to ICRH\n",
    "fast_particles = [\"NESOL\",\"WFFORM\",\"WFICFORM\"] \n",
    "research_features = ['NEL','TAV','BT','RHOSTAR','NUSTAR','BETASTAR']\n",
    "\n",
    "interesting_features = set(plasma_characteristics + TOK_characteristics + ELM + heating + \\\n",
    "                       impurities + power  + fast_particles)\n",
    "\n",
    "data_ = DB5.copy()\n",
    "data_ = data_[list(interesting_features)]\n",
    "\n",
    "num_features = data_.select_dtypes(include=['int', 'float']).columns.tolist()"
   ]
  },
  {
   "cell_type": "markdown",
   "id": "f3044ccd",
   "metadata": {},
   "source": [
    "This is what I had before to join comlumns.\n",
    "\n",
    "```Python\n",
    "DB5_ = pd.DataFrame(StandardScaler().fit_transform( DB5[num_features] ), columns = num_features)\n",
    "data = pd.concat([DB5_,DB5[categorical]], axis=1, join=\"inner\")\n",
    "```"
   ]
  },
  {
   "cell_type": "code",
   "execution_count": 6,
   "id": "eb6664e6",
   "metadata": {},
   "outputs": [],
   "source": [
    "data = DB5.copy()\n",
    "data = data[num_features + categorical + [\"label\",\"TOK\"]]"
   ]
  },
  {
   "cell_type": "markdown",
   "id": "573827db",
   "metadata": {},
   "source": [
    "### Treatment to Numerical Data and One Hot Encoding | `data`"
   ]
  },
  {
   "cell_type": "code",
   "execution_count": 7,
   "id": "033329be",
   "metadata": {},
   "outputs": [],
   "source": [
    "def impute_with_median(series):\n",
    "    return series.fillna(series.median())\n",
    "\n",
    "for tokamak in data[\"TOK\"].unique():\n",
    "    indx_tok = data[data['TOK'] == tokamak].index\n",
    "    data.loc[indx_tok, num_features] = data[num_features].apply(impute_with_median)\n",
    "\n",
    "data[num_features] = StandardScaler().fit_transform(data[num_features])\n",
    "\n",
    "encoder = OneHotEncoder()\n",
    "transformed = encoder.fit_transform(data[categorical])\n",
    "ohe_df = pd.DataFrame(transformed.toarray(),\n",
    "                     columns=encoder.get_feature_names_out(categorical)\n",
    "                     )\n",
    "data_ = pd.concat([data[num_features + [\"label\"]], ohe_df], axis=1)"
   ]
  },
  {
   "cell_type": "code",
   "execution_count": 8,
   "id": "9b787f68",
   "metadata": {},
   "outputs": [],
   "source": [
    "X = cudf.DataFrame(data_.drop(\"label\", axis=1))\n",
    "y = cudf.Series(data_[\"label\"])\n",
    "\n",
    "# split data\n",
    "X_train, X_val, y_train, y_val = train_test_split(X, y, test_size=0.3, random_state=71, stratify=y)\n",
    "\n",
    "# Convert cuDF dataframes to cuPy arrays\n",
    "X_train_cupy = X_train.astype('float32').to_cupy().get()\n",
    "y_train_cupy = y_train.astype('float32').to_cupy().get()"
   ]
  },
  {
   "cell_type": "code",
   "execution_count": 9,
   "id": "eb211e9d",
   "metadata": {
    "scrolled": false
   },
   "outputs": [
    {
     "name": "stderr",
     "output_type": "stream",
     "text": [
      "/home/chinas/.local/lib/python3.10/site-packages/sklearn/model_selection/_validation.py:378: FitFailedWarning: \n",
      "1080 fits failed out of a total of 2160.\n",
      "The score on these train-test partitions for these parameters will be set to nan.\n",
      "If these failures are not expected, you can try to debug them by setting error_score='raise'.\n",
      "\n",
      "Below are more details about the failures:\n",
      "--------------------------------------------------------------------------------\n",
      "360 fits failed with the following error:\n",
      "Traceback (most recent call last):\n",
      "  File \"/home/chinas/.local/lib/python3.10/site-packages/sklearn/model_selection/_validation.py\", line 686, in _fit_and_score\n",
      "    estimator.fit(X_train, y_train, **fit_params)\n",
      "  File \"/home/chinas/miniconda3/envs/thesis/lib/python3.10/contextlib.py\", line 79, in inner\n",
      "    return func(*args, **kwds)\n",
      "  File \"/home/chinas/miniconda3/envs/thesis/lib/python3.10/site-packages/cuml/internals/api_decorators.py\", line 188, in wrapper\n",
      "    ret = func(*args, **kwargs)\n",
      "  File \"randomforestclassifier.pyx\", line 461, in cuml.ensemble.randomforestclassifier.RandomForestClassifier.fit\n",
      "TypeError: an integer is required\n",
      "\n",
      "--------------------------------------------------------------------------------\n",
      "720 fits failed with the following error:\n",
      "Traceback (most recent call last):\n",
      "  File \"/home/chinas/.local/lib/python3.10/site-packages/sklearn/model_selection/_validation.py\", line 686, in _fit_and_score\n",
      "    estimator.fit(X_train, y_train, **fit_params)\n",
      "  File \"/home/chinas/miniconda3/envs/thesis/lib/python3.10/contextlib.py\", line 79, in inner\n",
      "    return func(*args, **kwds)\n",
      "  File \"/home/chinas/miniconda3/envs/thesis/lib/python3.10/site-packages/cuml/internals/api_decorators.py\", line 188, in wrapper\n",
      "    ret = func(*args, **kwargs)\n",
      "  File \"randomforestclassifier.pyx\", line 437, in cuml.ensemble.randomforestclassifier.RandomForestClassifier.fit\n",
      "  File \"/home/chinas/miniconda3/envs/thesis/lib/python3.10/site-packages/cuml/internals/api_decorators.py\", line 188, in wrapper\n",
      "    ret = func(*args, **kwargs)\n",
      "  File \"randomforest_common.pyx\", line 306, in cuml.ensemble.randomforest_common.BaseRandomForestModel._dataset_setup_for_fit\n",
      "  File \"randomforest_common.pyx\", line 175, in cuml.ensemble.randomforest_common.BaseRandomForestModel._get_max_feat_val\n",
      "ValueError: Wrong value passed in for max_features please read the documentation present at (https://docs.rapids.ai/api/cuml/nightly/api.html#random-forest)\n",
      "\n",
      "  warnings.warn(some_fits_failed_message, FitFailedWarning)\n",
      "/home/chinas/.local/lib/python3.10/site-packages/sklearn/model_selection/_search.py:953: UserWarning: One or more of the test scores are non-finite: [       nan        nan        nan        nan        nan        nan\n",
      "        nan        nan        nan        nan        nan        nan\n",
      "        nan        nan        nan        nan        nan        nan\n",
      "        nan        nan        nan        nan        nan        nan\n",
      "        nan        nan        nan        nan        nan        nan\n",
      "        nan        nan        nan        nan        nan        nan\n",
      "        nan        nan        nan        nan        nan        nan\n",
      "        nan        nan        nan        nan        nan        nan\n",
      "        nan        nan        nan        nan        nan        nan\n",
      "        nan        nan        nan        nan        nan        nan\n",
      "        nan        nan        nan        nan        nan        nan\n",
      "        nan        nan        nan        nan        nan        nan\n",
      "        nan        nan        nan        nan        nan        nan\n",
      "        nan        nan        nan        nan        nan        nan\n",
      "        nan        nan        nan        nan        nan        nan\n",
      "        nan        nan        nan        nan        nan        nan\n",
      "        nan        nan        nan        nan        nan        nan\n",
      "        nan        nan        nan        nan        nan        nan\n",
      " 0.77260725 0.79337488 0.79393982 0.7950587  0.75632455 0.78495421\n",
      " 0.78383218 0.78776477 0.75856545 0.78383061 0.78271331 0.78158499\n",
      " 0.75856702 0.78664275 0.7804614  0.785516   0.76362005 0.7866396\n",
      " 0.78664117 0.7860778  0.7535077  0.77990117 0.78383533 0.78439713\n",
      " 0.74508545 0.77428162 0.77260252 0.78046612 0.74508545 0.77428162\n",
      " 0.77260252 0.78046612 0.75520253 0.76979354 0.77541151 0.78046297\n",
      " 0.7445205  0.76922859 0.7664259  0.76867938 0.74453782 0.76698927\n",
      " 0.76530545 0.77036792 0.75295691 0.76418185 0.76586567 0.75912725\n",
      " 0.73330658 0.76586567 0.76867151 0.76306613 0.74172253 0.76417556\n",
      " 0.76530073 0.76249961 0.73609511 0.75575961 0.75913039 0.75913511\n",
      " 0.72373871 0.75183017 0.75688792 0.75296006 0.72373871 0.75183017\n",
      " 0.75688792 0.75296006 0.72993579 0.7563214  0.7540868  0.75577062\n",
      "        nan        nan        nan        nan        nan        nan\n",
      "        nan        nan        nan        nan        nan        nan\n",
      "        nan        nan        nan        nan        nan        nan\n",
      "        nan        nan        nan        nan        nan        nan\n",
      "        nan        nan        nan        nan        nan        nan\n",
      "        nan        nan        nan        nan        nan        nan\n",
      " 0.84559689 0.85400655 0.8568234  0.8590643  0.83100116 0.85457307\n",
      " 0.85625531 0.85401284 0.84109779 0.84726969 0.85401441 0.8506452\n",
      " 0.84334655 0.8455906  0.85457779 0.84671419 0.83773015 0.84502408\n",
      " 0.85120228 0.84952003 0.82819375 0.84559217 0.84783621 0.84558902\n",
      " 0.824247   0.83491959 0.84334498 0.83829037 0.824247   0.83491959\n",
      " 0.84334498 0.83829037 0.82312655 0.83716992 0.83604475 0.83941712\n",
      " 0.8090879  0.82761779 0.83323734 0.82818116 0.81413936 0.83155509\n",
      " 0.8321106  0.8321106  0.80909263 0.82649734 0.82481037 0.81751172\n",
      " 0.79898341 0.8236915  0.82537532 0.82256476 0.80851824 0.81807195\n",
      " 0.82368835 0.8236852  0.79617128 0.81189847 0.8163897  0.8113351\n",
      " 0.782696   0.80459824 0.81020993 0.80291128 0.782696   0.80459824\n",
      " 0.81020993 0.80291128 0.79280049 0.80347307 0.8085324  0.80572656\n",
      "        nan        nan        nan        nan        nan        nan\n",
      "        nan        nan        nan        nan        nan        nan\n",
      "        nan        nan        nan        nan        nan        nan\n",
      "        nan        nan        nan        nan        nan        nan\n",
      "        nan        nan        nan        nan        nan        nan\n",
      "        nan        nan        nan        nan        nan        nan\n",
      " 0.85121172 0.85625531 0.86075284 0.86131149 0.83043937 0.85625688\n",
      " 0.85625531 0.85738363 0.84559217 0.84783149 0.85738205 0.85625846\n",
      " 0.84558902 0.84783621 0.85626318 0.84839958 0.8366097  0.8455843\n",
      " 0.85457307 0.85289082 0.83212319 0.84559374 0.84839801 0.84615082\n",
      " 0.824247   0.83491801 0.844467   0.83941397 0.824247   0.83491801\n",
      " 0.844467   0.83941397 0.82593397 0.83885374 0.83829195 0.83997891\n",
      " 0.80965128 0.82930161 0.83436094 0.83042678 0.81526296 0.83211847\n",
      " 0.83323419 0.83267239 0.80909263 0.82649734 0.82481195 0.82144116\n",
      " 0.80010544 0.82481352 0.82593712 0.82312655 0.80739936 0.82200296\n",
      " 0.82537375 0.82593082 0.79617128 0.81414566 0.8163897  0.81246027\n",
      " 0.7821342  0.80684543 0.81077172 0.80403487 0.7821342  0.80684543\n",
      " 0.81077172 0.80403487 0.79336229 0.8045951  0.81021779 0.80628836\n",
      "        nan        nan        nan        nan        nan        nan\n",
      "        nan        nan        nan        nan        nan        nan\n",
      "        nan        nan        nan        nan        nan        nan\n",
      "        nan        nan        nan        nan        nan        nan\n",
      "        nan        nan        nan        nan        nan        nan\n",
      "        nan        nan        nan        nan        nan        nan]\n",
      "  warnings.warn(\n"
     ]
    },
    {
     "data": {
      "text/html": [
       "<style>#sk-container-id-1 {color: black;background-color: white;}#sk-container-id-1 pre{padding: 0;}#sk-container-id-1 div.sk-toggleable {background-color: white;}#sk-container-id-1 label.sk-toggleable__label {cursor: pointer;display: block;width: 100%;margin-bottom: 0;padding: 0.3em;box-sizing: border-box;text-align: center;}#sk-container-id-1 label.sk-toggleable__label-arrow:before {content: \"▸\";float: left;margin-right: 0.25em;color: #696969;}#sk-container-id-1 label.sk-toggleable__label-arrow:hover:before {color: black;}#sk-container-id-1 div.sk-estimator:hover label.sk-toggleable__label-arrow:before {color: black;}#sk-container-id-1 div.sk-toggleable__content {max-height: 0;max-width: 0;overflow: hidden;text-align: left;background-color: #f0f8ff;}#sk-container-id-1 div.sk-toggleable__content pre {margin: 0.2em;color: black;border-radius: 0.25em;background-color: #f0f8ff;}#sk-container-id-1 input.sk-toggleable__control:checked~div.sk-toggleable__content {max-height: 200px;max-width: 100%;overflow: auto;}#sk-container-id-1 input.sk-toggleable__control:checked~label.sk-toggleable__label-arrow:before {content: \"▾\";}#sk-container-id-1 div.sk-estimator input.sk-toggleable__control:checked~label.sk-toggleable__label {background-color: #d4ebff;}#sk-container-id-1 div.sk-label input.sk-toggleable__control:checked~label.sk-toggleable__label {background-color: #d4ebff;}#sk-container-id-1 input.sk-hidden--visually {border: 0;clip: rect(1px 1px 1px 1px);clip: rect(1px, 1px, 1px, 1px);height: 1px;margin: -1px;overflow: hidden;padding: 0;position: absolute;width: 1px;}#sk-container-id-1 div.sk-estimator {font-family: monospace;background-color: #f0f8ff;border: 1px dotted black;border-radius: 0.25em;box-sizing: border-box;margin-bottom: 0.5em;}#sk-container-id-1 div.sk-estimator:hover {background-color: #d4ebff;}#sk-container-id-1 div.sk-parallel-item::after {content: \"\";width: 100%;border-bottom: 1px solid gray;flex-grow: 1;}#sk-container-id-1 div.sk-label:hover label.sk-toggleable__label {background-color: #d4ebff;}#sk-container-id-1 div.sk-serial::before {content: \"\";position: absolute;border-left: 1px solid gray;box-sizing: border-box;top: 0;bottom: 0;left: 50%;z-index: 0;}#sk-container-id-1 div.sk-serial {display: flex;flex-direction: column;align-items: center;background-color: white;padding-right: 0.2em;padding-left: 0.2em;position: relative;}#sk-container-id-1 div.sk-item {position: relative;z-index: 1;}#sk-container-id-1 div.sk-parallel {display: flex;align-items: stretch;justify-content: center;background-color: white;position: relative;}#sk-container-id-1 div.sk-item::before, #sk-container-id-1 div.sk-parallel-item::before {content: \"\";position: absolute;border-left: 1px solid gray;box-sizing: border-box;top: 0;bottom: 0;left: 50%;z-index: -1;}#sk-container-id-1 div.sk-parallel-item {display: flex;flex-direction: column;z-index: 1;position: relative;background-color: white;}#sk-container-id-1 div.sk-parallel-item:first-child::after {align-self: flex-end;width: 50%;}#sk-container-id-1 div.sk-parallel-item:last-child::after {align-self: flex-start;width: 50%;}#sk-container-id-1 div.sk-parallel-item:only-child::after {width: 0;}#sk-container-id-1 div.sk-dashed-wrapped {border: 1px dashed gray;margin: 0 0.4em 0.5em 0.4em;box-sizing: border-box;padding-bottom: 0.4em;background-color: white;}#sk-container-id-1 div.sk-label label {font-family: monospace;font-weight: bold;display: inline-block;line-height: 1.2em;}#sk-container-id-1 div.sk-label-container {text-align: center;}#sk-container-id-1 div.sk-container {/* jupyter's `normalize.less` sets `[hidden] { display: none; }` but bootstrap.min.css set `[hidden] { display: none !important; }` so we also need the `!important` here to be able to override the default hidden behavior on the sphinx rendered scikit-learn.org. See: https://github.com/scikit-learn/scikit-learn/issues/21755 */display: inline-block !important;position: relative;}#sk-container-id-1 div.sk-text-repr-fallback {display: none;}</style><div id=\"sk-container-id-1\" class=\"sk-top-container\"><div class=\"sk-text-repr-fallback\"><pre>GridSearchCV(cv=5, estimator=RandomForestClassifier(), n_jobs=1,\n",
       "             param_grid={&#x27;max_depth&#x27;: [None, 10, 20, 30],\n",
       "                         &#x27;max_features&#x27;: [&#x27;sqrt&#x27;, &#x27;log2&#x27;, None],\n",
       "                         &#x27;min_samples_leaf&#x27;: [1, 2, 4],\n",
       "                         &#x27;min_samples_split&#x27;: [2, 5, 10],\n",
       "                         &#x27;n_estimators&#x27;: [10, 50, 100, 200]},\n",
       "             scoring=&#x27;recall&#x27;)</pre><b>In a Jupyter environment, please rerun this cell to show the HTML representation or trust the notebook. <br />On GitHub, the HTML representation is unable to render, please try loading this page with nbviewer.org.</b></div><div class=\"sk-container\" hidden><div class=\"sk-item sk-dashed-wrapped\"><div class=\"sk-label-container\"><div class=\"sk-label sk-toggleable\"><input class=\"sk-toggleable__control sk-hidden--visually\" id=\"sk-estimator-id-1\" type=\"checkbox\" ><label for=\"sk-estimator-id-1\" class=\"sk-toggleable__label sk-toggleable__label-arrow\">GridSearchCV</label><div class=\"sk-toggleable__content\"><pre>GridSearchCV(cv=5, estimator=RandomForestClassifier(), n_jobs=1,\n",
       "             param_grid={&#x27;max_depth&#x27;: [None, 10, 20, 30],\n",
       "                         &#x27;max_features&#x27;: [&#x27;sqrt&#x27;, &#x27;log2&#x27;, None],\n",
       "                         &#x27;min_samples_leaf&#x27;: [1, 2, 4],\n",
       "                         &#x27;min_samples_split&#x27;: [2, 5, 10],\n",
       "                         &#x27;n_estimators&#x27;: [10, 50, 100, 200]},\n",
       "             scoring=&#x27;recall&#x27;)</pre></div></div></div><div class=\"sk-parallel\"><div class=\"sk-parallel-item\"><div class=\"sk-item\"><div class=\"sk-label-container\"><div class=\"sk-label sk-toggleable\"><input class=\"sk-toggleable__control sk-hidden--visually\" id=\"sk-estimator-id-2\" type=\"checkbox\" ><label for=\"sk-estimator-id-2\" class=\"sk-toggleable__label sk-toggleable__label-arrow\">estimator: RandomForestClassifier</label><div class=\"sk-toggleable__content\"><pre>RandomForestClassifier()</pre></div></div></div><div class=\"sk-serial\"><div class=\"sk-item\"><div class=\"sk-estimator sk-toggleable\"><input class=\"sk-toggleable__control sk-hidden--visually\" id=\"sk-estimator-id-3\" type=\"checkbox\" ><label for=\"sk-estimator-id-3\" class=\"sk-toggleable__label sk-toggleable__label-arrow\">RandomForestClassifier</label><div class=\"sk-toggleable__content\"><pre>RandomForestClassifier()</pre></div></div></div></div></div></div></div></div></div></div>"
      ],
      "text/plain": [
       "GridSearchCV(cv=5, estimator=RandomForestClassifier(), n_jobs=1,\n",
       "             param_grid={'max_depth': [None, 10, 20, 30],\n",
       "                         'max_features': ['sqrt', 'log2', None],\n",
       "                         'min_samples_leaf': [1, 2, 4],\n",
       "                         'min_samples_split': [2, 5, 10],\n",
       "                         'n_estimators': [10, 50, 100, 200]},\n",
       "             scoring='recall')"
      ]
     },
     "execution_count": 9,
     "metadata": {},
     "output_type": "execute_result"
    }
   ],
   "source": [
    "# Define the hyperparameter grid for Random Forest\n",
    "param_grid = {\n",
    "    'n_estimators': [10, 50, 100, 200],\n",
    "    'max_depth': [None, 10, 20, 30],\n",
    "    'min_samples_split': [2, 5, 10],\n",
    "    'min_samples_leaf': [1, 2, 4],\n",
    "    'max_features': ['sqrt', 'log2', None],\n",
    "#    'criterion': ['gini', 'entropy'] not supported in cuML\n",
    "}\n",
    "\n",
    "rf = RandomForestClassifier()\n",
    "grid_search = GridSearchCV(rf, \n",
    "                           param_grid, \n",
    "                           cv= 5, #StratifiedKFold(n_splits=10, shuffle=True, random_state=71), \n",
    "                           scoring='recall', \n",
    "                           n_jobs=1, \n",
    "                           refit=True\n",
    "                          )\n",
    "# Fit the GridSearchCV object to your training data\n",
    "grid_search.fit(X_train_cupy, y_train_cupy)\n",
    "\n",
    "\n",
    "\n",
    "# Takes less than 10 min to run"
   ]
  },
  {
   "cell_type": "code",
   "execution_count": 12,
   "id": "58e3d89a",
   "metadata": {},
   "outputs": [],
   "source": [
    "# Get the best hyperparameters and best model from the GridSearchCV\n",
    "best_params = grid_search.best_params_\n",
    "best_model = grid_search.best_estimator_\n",
    "\n",
    "# Train the best model on the entire training set\n",
    "best_model.fit(X_train_cupy, y_train_cupy)\n",
    "\n",
    "# Make predictions on the test set\n",
    "y_pred = best_model.predict_proba(X_val)"
   ]
  },
  {
   "cell_type": "code",
   "execution_count": 16,
   "id": "2f793027",
   "metadata": {},
   "outputs": [
    {
     "data": {
      "image/png": "[encoded data removed]",
      "text/plain": [
       "<Figure size 500x400 with 1 Axes>"
      ]
     },
     "metadata": {},
     "output_type": "display_data"
    }
   ],
   "source": [
    "plt.figure(figsize=(5,4))\n",
    "\n",
    "# keep probabilities for the positive outcome only\n",
    "y_pred = y_pred[1]\n",
    "# calculate pr-curve\n",
    "precision, recall, thresholds = precision_recall_curve(y_val, y_pred)\n",
    "# plot the roc curve for the model\n",
    "no_skill = len(y_val[y_val==1]) / len(y_val)\n",
    "plt.plot(recall, precision, marker='.', label='Default Random Forest', color=\"r\")\n",
    "plt.plot([0,1], [no_skill,no_skill], linestyle='--', label='No Skill', color=\"k\")\n",
    "plt.xlabel('Recall')\n",
    "plt.ylabel('Precision')\n",
    "plt.title(\"Research Variables\")\n",
    "plt.legend();"
   ]
  },
  {
   "cell_type": "code",
   "execution_count": 18,
   "id": "f0aa30d7",
   "metadata": {},
   "outputs": [
    {
     "data": {
      "text/plain": [
       "(array([0.92776204, 0.90761334]),\n",
       " array([0.85845347, 0.95413669]),\n",
       " array([0.8917631 , 0.93029373]),\n",
       " array([ 763, 1112]))"
      ]
     },
     "execution_count": 18,
     "metadata": {},
     "output_type": "execute_result"
    }
   ],
   "source": [
    "y_pred_ = best_model.predict(X_val)\n",
    "precision_recall_fscore_support(y_val.to_numpy(), y_pred_.to_numpy(), labels=[1,0])"
   ]
  },
  {
   "cell_type": "markdown",
   "id": "d9ada672",
   "metadata": {},
   "source": [
    "## [Feature Importance Based on Mean Decrease in Impurity](https://scikit-learn.org/stable/auto_examples/ensemble/plot_forest_importances.html)\n",
    "\n",
    "Feature importances are provided by the fitted attribute `feature_importances_` and they are computed as the mean and standard deviation of accumulation of the impurity decrease within each tree.\n",
    "\n",
    "**WARNING**:  Impurity-based feature importances can be misleading for high cardinality features (many unique values). See Permutation feature importance."
   ]
  },
  {
   "cell_type": "code",
   "execution_count": 23,
   "id": "e18a6b1d",
   "metadata": {},
   "outputs": [
    {
     "ename": "AttributeError",
     "evalue": "feature_importances_",
     "output_type": "error",
     "traceback": [
      "\u001b[0;31m---------------------------------------------------------------------------\u001b[0m",
      "\u001b[0;31mAttributeError\u001b[0m                            Traceback (most recent call last)",
      "Cell \u001b[0;32mIn[23], line 2\u001b[0m\n\u001b[1;32m      1\u001b[0m \u001b[38;5;66;03m# Get feature importances from trained RF classifier\u001b[39;00m\n\u001b[0;32m----> 2\u001b[0m importances \u001b[38;5;241m=\u001b[39m \u001b[43mbest_model\u001b[49m\u001b[38;5;241;43m.\u001b[39;49m\u001b[43mfeature_importances_\u001b[49m\n\u001b[1;32m      4\u001b[0m \u001b[38;5;66;03m# Get feature names from column transformer\u001b[39;00m\n\u001b[1;32m      5\u001b[0m cat_encoder \u001b[38;5;241m=\u001b[39m best_model\u001b[38;5;241m.\u001b[39mnamed_transformers_[\u001b[38;5;124m\"\u001b[39m\u001b[38;5;124mcat\u001b[39m\u001b[38;5;124m\"\u001b[39m]\u001b[38;5;241m.\u001b[39mnamed_steps[\u001b[38;5;124m\"\u001b[39m\u001b[38;5;124monehot\u001b[39m\u001b[38;5;124m\"\u001b[39m]\n",
      "File \u001b[0;32mbase.pyx:314\u001b[0m, in \u001b[0;36mcuml.internals.base.Base.__getattr__\u001b[0;34m()\u001b[0m\n",
      "\u001b[0;31mAttributeError\u001b[0m: feature_importances_"
     ]
    }
   ],
   "source": [
    "# Get feature importances from trained RF classifier\n",
    "importances = best_model.feature_importances_\n",
    "\n",
    "# Get feature names from column transformer\n",
    "cat_encoder = best_model.named_transformers_[\"cat\"].named_steps[\"onehot\"]\n",
    "feature_names = cat_encoder.get_feature_names_out(cat_features).tolist() + num_features\n",
    "\n",
    "# Create a pandas dataframe to display feature importances\n",
    "feature_importances = pd.DataFrame({\"feature\": feature_names, \"importance\": importances})\n",
    "feature_importances = feature_importances.sort_values(\"importance\", ascending=False).reset_index(drop=True)\n",
    "\n",
    "print(feature_importances)"
   ]
  },
  {
   "cell_type": "code",
   "execution_count": null,
   "id": "c991b672",
   "metadata": {},
   "outputs": [],
   "source": [
    "df = pd.DataFrame(feature_importances)\n",
    "df.feature.unique()"
   ]
  },
  {
   "cell_type": "code",
   "execution_count": null,
   "id": "d9bc36f8",
   "metadata": {},
   "outputs": [],
   "source": [
    "plt.figure(figsize=(11,4))\n",
    "plt.bar(df[df.importance > 0.5e-2].feature, df[df.importance > 0.5e-2].importance, color=\"gray\")\n",
    "plt.xticks(rotation=90);"
   ]
  },
  {
   "cell_type": "code",
   "execution_count": null,
   "id": "59710410",
   "metadata": {},
   "outputs": [],
   "source": [
    "# Quite Important\n",
    "df[df.importance > 1e-3]"
   ]
  },
  {
   "cell_type": "code",
   "execution_count": null,
   "id": "c2b46ed3",
   "metadata": {},
   "outputs": [],
   "source": [
    "# Not so important\n",
    "df[df.importance < 1e-3]"
   ]
  },
  {
   "cell_type": "code",
   "execution_count": null,
   "id": "e2f69e4f",
   "metadata": {},
   "outputs": [],
   "source": [
    "data[\"CONFIG\"].unique()"
   ]
  },
  {
   "cell_type": "code",
   "execution_count": null,
   "id": "2dc7633d",
   "metadata": {},
   "outputs": [],
   "source": []
  }
 ],
 "metadata": {
  "kernelspec": {
   "display_name": "Python 3 (ipykernel)",
   "language": "python",
   "name": "python3"
  },
  "language_info": {
   "codemirror_mode": {
    "name": "ipython",
    "version": 3
   },
   "file_extension": ".py",
   "mimetype": "text/x-python",
   "name": "python",
   "nbconvert_exporter": "python",
   "pygments_lexer": "ipython3",
   "version": "3.10.10"
  }
 },
 "nbformat": 4,
 "nbformat_minor": 5
}
