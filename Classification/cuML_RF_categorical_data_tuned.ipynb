{
 "cells": [
  {
   "cell_type": "code",
   "execution_count": 1,
   "id": "3f691e30",
   "metadata": {},
   "outputs": [],
   "source": [
    "%load_ext autoreload\n",
    "%autoreload 2"
   ]
  },
  {
   "cell_type": "markdown",
   "id": "9a9ebacf",
   "metadata": {},
   "source": [
    "# `cuML` Implementation - GPU Machine Learning Algorithms\n",
    "\n",
    "[Source](https://github.com/rapidsai/cuml)\n",
    "\n",
    "\"cuML is a suite of libraries that implement machine learning algorithms and mathematical primitives functions that share compatible APIs with other RAPIDS projects.\n",
    "\n",
    "cuML enables data scientists, researchers, and software engineers to run traditional tabular ML tasks on GPUs without going into the details of CUDA programming. In most cases, cuML's Python API matches the API from scikit-learn.\"\n",
    "\n",
    "\n",
    "Why do I want to implement this? because, the normal version takes above two hourse to run. "
   ]
  },
  {
   "cell_type": "code",
   "execution_count": 2,
   "id": "4f834bdc",
   "metadata": {},
   "outputs": [],
   "source": [
    "import numpy as np \n",
    "import pandas as pd\n",
    "import matplotlib.pyplot as plt\n",
    "import scipy as sp\n",
    "import statsmodels.api as sm\n",
    "import matplotlib.patches as mpatches\n",
    "\n",
    "import cudf\n",
    "import cupy as cp\n",
    "\n",
    "from cuml.ensemble import RandomForestClassifier\n",
    "from cuml.model_selection import train_test_split, GridSearchCV, StratifiedKFold\n",
    "\n",
    "from sklearn.preprocessing import StandardScaler, OneHotEncoder, LabelBinarizer\n",
    "from cuml.metrics import precision_recall_curve\n",
    "from sklearn.metrics import precision_recall_fscore_support\n",
    "\n",
    "\n",
    "from IPython.core.debugger import Pdb #Pdb().set_trace()\n",
    "\n",
    "\n",
    "pd.set_option('display.max_columns', None)\n",
    "path = \"../data/\""
   ]
  },
  {
   "cell_type": "code",
   "execution_count": 3,
   "id": "b09db631",
   "metadata": {},
   "outputs": [
    {
     "name": "stdout",
     "output_type": "stream",
     "text": [
      "40.69% of the data decreased alpha_R\n",
      "59.31% of the data did not decrease alpha_R\n"
     ]
    }
   ],
   "source": [
    "# Obtained from Optimization\n",
    "\n",
    "min_subset_ids = pd.read_csv(path+\"id_vs_frequency_decreasing_ds.csv\")\n",
    "#min_subset_ids = pd.read_csv(path+\"R_ids_alpha_0.6357.csv\")\n",
    "\n",
    "DB2 = pd.read_csv(path+\"DB2P8.csv\")\n",
    "DB5 = pd.read_csv(path+\"SELDB5_SVD.csv\", low_memory=False) \n",
    "DB5 = DB5[DB5[\"PHASE\"].isin(['HGELM', 'HSELM', 'HGELMH', 'HSELMH'])]\n",
    "\n",
    "# There is two shots from DB2P8 missing in DB5\n",
    "missing_shots = DB2[~DB2.id.isin( DB5.id.values )].reset_index(drop=True)\n",
    "DB5 = pd.concat([DB5, missing_shots], axis=0, ignore_index=True)\n",
    "\n",
    "# Labeling shots that had great impact in decreasing alpha_R\n",
    "DB5.insert(loc=2,column=\"label\",value=[0]*len(DB5))\n",
    "DB5.loc[(DB5[DB5.id.isin(min_subset_ids.id)].index), \"label\"] = 1\n",
    "\n",
    "print(\n",
    "    f\"{ round( (len(min_subset_ids)/len(DB5))*100     ,2)  }% of the data decreased alpha_R\\n\" + \n",
    "    f\"{ round( (1 - len(min_subset_ids)/len(DB5))*100 ,2)  }% of the data did not decrease alpha_R\"\n",
    ")"
   ]
  },
  {
   "cell_type": "markdown",
   "id": "0adc6e00",
   "metadata": {},
   "source": [
    "Class distribution can be considered is skewed.\n",
    "\n",
    "## Treatment to Categorical Data"
   ]
  },
  {
   "cell_type": "code",
   "execution_count": 4,
   "id": "cd2d96e9",
   "metadata": {},
   "outputs": [],
   "source": [
    "research_features = ['NEL','TAV','BT','RHOSTAR','NUSTAR','BETASTAR']\n",
    "\n",
    "TOK_characteristics = [\"DIVNAME\",\"WALMAT\",\"DIVMAT\",\"LIMMAT\"]\n",
    "categorical = [\"PREMAG\",\"HYBRID\",\"CONFIG\",\"ELMTYPE\",\"ECHMODE\",\n",
    "               \"ICSCHEME\",\"AUXHEAT\",\"EVAP\",\"PELLET\"] + TOK_characteristics \n",
    "\n",
    "DB5[categorical] = DB5[categorical].fillna('UNKNOWN')\n",
    "DB5[\"DIVNAME\"]   = DB5[\"DIVNAME\"].str.replace(\"NONAME\",\"UNKNOWN\",regex=False)\n",
    "\n",
    "DB5[\"DIVMAT\"] = DB5[\"DIVMAT\"].str.replace(\"CC\",\"C\",regex=False)\n",
    "DB5[\"DIVMAT\"] = DB5[\"DIVMAT\"].str.replace(\"TI1\",\"TI12\",regex=False)\n",
    "DB5[\"DIVMAT\"] = DB5[\"DIVMAT\"].str.replace(\"TI2\",\"TI12\",regex=False)\n",
    "\n",
    "DB5[\"DIVNAME\"] = DB5[\"DIVNAME\"].str.replace(\"(DIV-I)|(DV-IPRE)|(DV-IPOST)\",\n",
    "                                            \"DV-I\",regex=True)\n",
    "DB5[\"DIVNAME\"] = DB5[\"DIVNAME\"].str.replace(\"(DIV-II)|(DV-IIc)|(DV-II-C)|(DV-IIb)|(DV-IIc)|(DV-IId)|(DV-IId)\",\n",
    "                                            \"DV-II\",regex=True)\n",
    "DB5[\"DIVNAME\"] = DB5[\"DIVNAME\"].str.replace(\"(MARK0)|(MARKI)|(MARKIIA)|(MARKGB)|(MARKGBSR)|\"+\n",
    "                                            \"(MARKIA)|(MARKIAP)|(MARKSR)|(MARKA)|(MARKP)\",\n",
    "                                            \"MARK\",regex=True)\n",
    "\n",
    "DB5[\"ICSCHEME\"]   = DB5[\"ICSCHEME\"].str.replace(\"OFF\",\"NONE\",regex=False)\n",
    "\n",
    "# Removing noise on heating scheme | the removed coluns are shots from 1996\n",
    "DB5 = DB5[~DB5[\"AUXHEAT\"].isin([\"UNKNOWN\"])]\n",
    "\n",
    "DB5[\"EVAP\"] = DB5[\"EVAP\"].str.replace(\"CARBH\",\"C-H\",regex=True)\n",
    "DB5[\"EVAP\"] = DB5[\"EVAP\"].str.replace(\"CARB\",\"C\",regex=True)\n",
    "DB5[\"EVAP\"] = DB5[\"EVAP\"].str.replace(\"BOROC\",\"C-BO\",regex=True)\n",
    "DB5[\"EVAP\"] = DB5[\"EVAP\"].str.replace(\"(BOROA)|(BOROB)|(BOROX)|(BOR)\",\"BO\",regex=True)\n",
    "\n",
    "DB5[\"PELLET\"] = DB5[\"PELLET\"].str.replace(\"GP_D\",\"D\",regex=False)\n",
    "DB5[\"PELLET\"] = DB5[\"PELLET\"].str.replace(\"GP_H\",\"H\",regex=False)"
   ]
  },
  {
   "cell_type": "markdown",
   "id": "ba8d7aec",
   "metadata": {},
   "source": [
    "## Treatment to Numerical Data | `DB5`"
   ]
  },
  {
   "cell_type": "code",
   "execution_count": 5,
   "id": "b5b5dd56",
   "metadata": {},
   "outputs": [],
   "source": [
    "plasma_characteristics = [\"QCYL5\",\"BEIMHD\",\"PREMAG\",\"LHTIME\",\"HYBRID\",\n",
    "                          \"CONFIG\",\"DWDIA\",\"WMHD\",\"TORQ\"\n",
    "                         ] \n",
    "TOK_characteristics = [\"TOK\",\"DIVNAME\",\"WALMAT\",\"DIVMAT\",\"LIMMAT\"]\n",
    "ELM = [\"ELMTYPE\",\"ELMFREQ\"]\n",
    "heating = [\"PECRH\", \"PICRH\", \"ICSCHEME\",\"AUXHEAT\"]\n",
    "impurities = [\"EVAP\",\"ZEFF\",\"ZEFFNEO\",\"PRAD\",\"POHM\",\"ENBI\"]\n",
    " # corrections on power loss | NBI Power lost by unconfined orbits\n",
    "power = [\"PLTH\",\"PFLOSS\"]\n",
    "temperatures = [\"TAV\",\"TEV\",\"TIV\"]\n",
    "# e-density in SOL | total due to NBI| total due to ICRH\n",
    "fast_particles = [\"NESOL\",\"WFFORM\",\"WFICFORM\"] \n",
    "research_features = ['NEL','TAV','BT','RHOSTAR','NUSTAR','BETASTAR']\n",
    "\n",
    "interesting_features = set(plasma_characteristics + TOK_characteristics + ELM + heating + \\\n",
    "                       impurities + power  + fast_particles)\n",
    "\n",
    "data_ = DB5.copy()\n",
    "data_ = data_[list(interesting_features)]\n",
    "\n",
    "num_features = data_.select_dtypes(include=['int', 'float']).columns.tolist()"
   ]
  },
  {
   "cell_type": "markdown",
   "id": "f3044ccd",
   "metadata": {},
   "source": [
    "This is what I had before to join comlumns.\n",
    "\n",
    "```Python\n",
    "DB5_ = pd.DataFrame(StandardScaler().fit_transform( DB5[num_features] ), columns = num_features)\n",
    "data = pd.concat([DB5_,DB5[categorical]], axis=1, join=\"inner\")\n",
    "```"
   ]
  },
  {
   "cell_type": "code",
   "execution_count": 6,
   "id": "eb6664e6",
   "metadata": {},
   "outputs": [],
   "source": [
    "data = DB5.copy()\n",
    "data = data[num_features + categorical + [\"label\",\"TOK\"]]"
   ]
  },
  {
   "cell_type": "markdown",
   "id": "573827db",
   "metadata": {},
   "source": [
    "### Treatment to Numerical Data and One Hot Encoding | `data`"
   ]
  },
  {
   "cell_type": "code",
   "execution_count": 7,
   "id": "033329be",
   "metadata": {},
   "outputs": [],
   "source": [
    "def impute_with_median(series):\n",
    "    return series.fillna(series.median())\n",
    "\n",
    "for tokamak in data[\"TOK\"].unique():\n",
    "    indx_tok = data[data['TOK'] == tokamak].index\n",
    "    data.loc[indx_tok, num_features] = data[num_features].apply(impute_with_median)\n",
    "\n",
    "data[num_features] = StandardScaler().fit_transform(data[num_features])\n",
    "\n",
    "encoder = OneHotEncoder()\n",
    "transformed = encoder.fit_transform(data[categorical])\n",
    "ohe_df = pd.DataFrame(transformed.toarray(),\n",
    "                     columns=encoder.get_feature_names_out(categorical)\n",
    "                     )\n",
    "data_ = pd.concat([data[num_features + [\"label\"]], ohe_df], axis=1)"
   ]
  },
  {
   "cell_type": "code",
   "execution_count": 8,
   "id": "9b787f68",
   "metadata": {},
   "outputs": [],
   "source": [
    "X = cudf.DataFrame(data_.drop(\"label\", axis=1))\n",
    "y = cudf.Series(data_[\"label\"])\n",
    "\n",
    "# split data\n",
    "X_train, X_val, y_train, y_val = train_test_split(X, y, test_size=0.3, random_state=71, stratify=y)\n",
    "\n",
    "# Convert cuDF dataframes to cuPy arrays\n",
    "X_train_cupy = X_train.astype('float32').to_cupy().get()\n",
    "y_train_cupy = y_train.astype('float32').to_cupy().get()"
   ]
  },
  {
   "cell_type": "code",
   "execution_count": 9,
   "id": "eb211e9d",
   "metadata": {
    "scrolled": false
   },
   "outputs": [
    {
     "name": "stderr",
     "output_type": "stream",
     "text": [
      "/home/chinas/.local/lib/python3.10/site-packages/sklearn/model_selection/_validation.py:378: FitFailedWarning: \n",
      "810 fits failed out of a total of 1620.\n",
      "The score on these train-test partitions for these parameters will be set to nan.\n",
      "If these failures are not expected, you can try to debug them by setting error_score='raise'.\n",
      "\n",
      "Below are more details about the failures:\n",
      "--------------------------------------------------------------------------------\n",
      "270 fits failed with the following error:\n",
      "Traceback (most recent call last):\n",
      "  File \"/home/chinas/.local/lib/python3.10/site-packages/sklearn/model_selection/_validation.py\", line 686, in _fit_and_score\n",
      "    estimator.fit(X_train, y_train, **fit_params)\n",
      "  File \"/home/chinas/miniconda3/envs/thesis/lib/python3.10/contextlib.py\", line 79, in inner\n",
      "    return func(*args, **kwds)\n",
      "  File \"/home/chinas/miniconda3/envs/thesis/lib/python3.10/site-packages/cuml/internals/api_decorators.py\", line 188, in wrapper\n",
      "    ret = func(*args, **kwargs)\n",
      "  File \"randomforestclassifier.pyx\", line 461, in cuml.ensemble.randomforestclassifier.RandomForestClassifier.fit\n",
      "RuntimeError: exception occurred! file=/opt/conda/conda-bld/work/cpp/src/decisiontree/decisiontree.cu line=41: Invalid value for min_samples_split: 1. Should be >= 2.\n",
      "Obtained 64 stack frames\n",
      "#0 in /home/chinas/miniconda3/envs/thesis/lib/python3.10/site-packages/cuml/internals/../../../../libcuml++.so(_ZN4raft9exception18collect_call_stackEv+0x84) [0x7fdde847dfc4]\n",
      "#1 in /home/chinas/miniconda3/envs/thesis/lib/python3.10/site-packages/cuml/internals/../../../../libcuml++.so(+0x2e64be) [0x7fdde82e64be]\n",
      "#2 in /home/chinas/miniconda3/envs/thesis/lib/python3.10/site-packages/cuml/internals/../../../../libcuml++.so(_ZN2ML2DT15set_tree_paramsERNS0_18DecisionTreeParamsEiifiiifNS_9CRITERIONEi+0x61) [0x7fdde85a0431]\n",
      "#3 in /home/chinas/miniconda3/envs/thesis/lib/python3.10/site-packages/cuml/internals/../../../../libcuml++.so(_ZN2ML13set_rf_paramsEiifiiifbifmNS_9CRITERIONEii+0x45) [0x7fdde909a4f5]\n",
      "#4 in /home/chinas/miniconda3/envs/thesis/lib/python3.10/site-packages/cuml/ensemble/randomforestclassifier.cpython-310-x86_64-linux-gnu.so(+0x31bf8) [0x7fddbffbcbf8]\n",
      "#5 in /home/chinas/miniconda3/envs/thesis/bin/python(PyObject_Call+0x209) [0x50cdc9]\n",
      "#6 in /home/chinas/miniconda3/envs/thesis/bin/python(_PyEval_EvalFrameDefault+0x2de4) [0x4f3644]\n",
      "#7 in /home/chinas/miniconda3/envs/thesis/bin/python(_PyFunction_Vectorcall+0x6f) [0x5008cf]\n",
      "#8 in /home/chinas/miniconda3/envs/thesis/bin/python(_PyEval_EvalFrameDefault+0x2de4) [0x4f3644]\n",
      "#9 in /home/chinas/miniconda3/envs/thesis/bin/python() [0x50c2a6]\n",
      "#10 in /home/chinas/miniconda3/envs/thesis/bin/python(_PyEval_EvalFrameDefault+0x2de4) [0x4f3644]\n",
      "#11 in /home/chinas/miniconda3/envs/thesis/bin/python(_PyFunction_Vectorcall+0x6f) [0x5008cf]\n",
      "#12 in /home/chinas/miniconda3/envs/thesis/bin/python(PyObject_Call+0xb8) [0x50cc78]\n",
      "#13 in /home/chinas/miniconda3/envs/thesis/bin/python(_PyEval_EvalFrameDefault+0x2de4) [0x4f3644]\n",
      "#14 in /home/chinas/miniconda3/envs/thesis/bin/python(_PyFunction_Vectorcall+0x6f) [0x5008cf]\n",
      "#15 in /home/chinas/miniconda3/envs/thesis/bin/python(_PyObject_FastCallDictTstate+0x17d) [0x4f8fdd]\n",
      "#16 in /home/chinas/miniconda3/envs/thesis/bin/python(_PyObject_Call_Prepend+0x66) [0x50a6b6]\n",
      "#17 in /home/chinas/miniconda3/envs/thesis/bin/python() [0x5d41b3]\n",
      "#18 in /home/chinas/miniconda3/envs/thesis/bin/python(PyObject_Call+0x209) [0x50cdc9]\n",
      "#19 in /home/chinas/miniconda3/envs/thesis/bin/python(_PyEval_EvalFrameDefault+0x2de4) [0x4f3644]\n",
      "#20 in /home/chinas/miniconda3/envs/thesis/bin/python(_PyFunction_Vectorcall+0x6f) [0x5008cf]\n",
      "#21 in /home/chinas/miniconda3/envs/thesis/bin/python(_PyEval_EvalFrameDefault+0x31f) [0x4f0b7f]\n",
      "#22 in /home/chinas/miniconda3/envs/thesis/bin/python(_PyObject_FastCallDictTstate+0xcd) [0x4f8f2d]\n",
      "#23 in /home/chinas/miniconda3/envs/thesis/bin/python(_PyObject_Call_Prepend+0x66) [0x50a6b6]\n",
      "#24 in /home/chinas/miniconda3/envs/thesis/bin/python() [0x5d41b3]\n",
      "#25 in /home/chinas/miniconda3/envs/thesis/bin/python(_PyObject_MakeTpCall+0x25b) [0x4f9bdb]\n",
      "#26 in /home/chinas/miniconda3/envs/thesis/bin/python(_PyEval_EvalFrameDefault+0x4ddb) [0x4f563b]\n",
      "#27 in /home/chinas/miniconda3/envs/thesis/bin/python(_PyObject_FastCallDictTstate+0xcd) [0x4f8f2d]\n",
      "#28 in /home/chinas/miniconda3/envs/thesis/bin/python() [0x509d08]\n",
      "#29 in /home/chinas/miniconda3/envs/thesis/bin/python(_PyObject_MakeTpCall+0x2ab) [0x4f9c2b]\n",
      "#30 in /home/chinas/miniconda3/envs/thesis/bin/python(_PyEval_EvalFrameDefault+0x4ddb) [0x4f563b]\n",
      "#31 in /home/chinas/miniconda3/envs/thesis/bin/python() [0x50c14e]\n",
      "#32 in /home/chinas/miniconda3/envs/thesis/bin/python(_PyEval_EvalFrameDefault+0x13b2) [0x4f1c12]\n",
      "#33 in /home/chinas/miniconda3/envs/thesis/bin/python(_PyFunction_Vectorcall+0x6f) [0x5008cf]\n",
      "#34 in /home/chinas/miniconda3/envs/thesis/bin/python(_PyEval_EvalFrameDefault+0x731) [0x4f0f91]\n",
      "#35 in /home/chinas/miniconda3/envs/thesis/bin/python(_PyFunction_Vectorcall+0x6f) [0x5008cf]\n",
      "#36 in /home/chinas/miniconda3/envs/thesis/bin/python(_PyEval_EvalFrameDefault+0x731) [0x4f0f91]\n",
      "#37 in /home/chinas/miniconda3/envs/thesis/bin/python(_PyObject_FastCallDictTstate+0xcd) [0x4f8f2d]\n",
      "#38 in /home/chinas/miniconda3/envs/thesis/bin/python(_PyObject_Call_Prepend+0x66) [0x50a6b6]\n",
      "#39 in /home/chinas/miniconda3/envs/thesis/bin/python() [0x5d41b3]\n",
      "#40 in /home/chinas/miniconda3/envs/thesis/bin/python(_PyObject_MakeTpCall+0x25b) [0x4f9bdb]\n",
      "#41 in /home/chinas/miniconda3/envs/thesis/bin/python(_PyEval_EvalFrameDefault+0x4ddb) [0x4f563b]\n",
      "#42 in /home/chinas/miniconda3/envs/thesis/bin/python(_PyFunction_Vectorcall+0x6f) [0x5008cf]\n",
      "#43 in /home/chinas/miniconda3/envs/thesis/bin/python(_PyEval_EvalFrameDefault+0x31f) [0x4f0b7f]\n",
      "#44 in /home/chinas/miniconda3/envs/thesis/bin/python(_PyFunction_Vectorcall+0x6f) [0x5008cf]\n",
      "#45 in /home/chinas/miniconda3/envs/thesis/bin/python(_PyEval_EvalFrameDefault+0x731) [0x4f0f91]\n",
      "#46 in /home/chinas/miniconda3/envs/thesis/bin/python(_PyFunction_Vectorcall+0x6f) [0x5008cf]\n",
      "#47 in /home/chinas/miniconda3/envs/thesis/bin/python(_PyEval_EvalFrameDefault+0x731) [0x4f0f91]\n",
      "#48 in /home/chinas/miniconda3/envs/thesis/bin/python() [0x5987e2]\n",
      "#49 in /home/chinas/miniconda3/envs/thesis/bin/python(PyEval_EvalCode+0x87) [0x598727]\n",
      "#50 in /home/chinas/miniconda3/envs/thesis/bin/python() [0x59fc1d]\n",
      "#51 in /home/chinas/miniconda3/envs/thesis/bin/python() [0x500ab4]\n",
      "#52 in /home/chinas/miniconda3/envs/thesis/bin/python(_PyEval_EvalFrameDefault+0x31f) [0x4f0b7f]\n",
      "#53 in /home/chinas/miniconda3/envs/thesis/bin/python() [0x5a2239]\n",
      "#54 in /home/chinas/miniconda3/envs/thesis/bin/python(_PyEval_EvalFrameDefault+0x1b68) [0x4f23c8]\n",
      "#55 in /home/chinas/miniconda3/envs/thesis/bin/python() [0x5a2239]\n",
      "#56 in /home/chinas/miniconda3/envs/thesis/bin/python(_PyEval_EvalFrameDefault+0x1b68) [0x4f23c8]\n",
      "#57 in /home/chinas/miniconda3/envs/thesis/bin/python() [0x5a2239]\n",
      "#58 in /home/chinas/miniconda3/envs/thesis/bin/python() [0x5b7386]\n",
      "#59 in /home/chinas/miniconda3/envs/thesis/bin/python() [0x50afcf]\n",
      "#60 in /home/chinas/miniconda3/envs/thesis/bin/python(_PyEval_EvalFrameDefault+0x731) [0x4f0f91]\n",
      "#61 in /home/chinas/miniconda3/envs/thesis/bin/python(_PyFunction_Vectorcall+0x6f) [0x5008cf]\n",
      "#62 in /home/chinas/miniconda3/envs/thesis/bin/python(_PyEval_EvalFrameDefault+0x31f) [0x4f0b7f]\n",
      "#63 in /home/chinas/miniconda3/envs/thesis/bin/python(_PyFunction_Vectorcall+0x6f) [0x5008cf]\n",
      "\n",
      "\n",
      "--------------------------------------------------------------------------------\n",
      "540 fits failed with the following error:\n",
      "Traceback (most recent call last):\n",
      "  File \"/home/chinas/.local/lib/python3.10/site-packages/sklearn/model_selection/_validation.py\", line 686, in _fit_and_score\n",
      "    estimator.fit(X_train, y_train, **fit_params)\n",
      "  File \"/home/chinas/miniconda3/envs/thesis/lib/python3.10/contextlib.py\", line 79, in inner\n",
      "    return func(*args, **kwds)\n",
      "  File \"/home/chinas/miniconda3/envs/thesis/lib/python3.10/site-packages/cuml/internals/api_decorators.py\", line 188, in wrapper\n",
      "    ret = func(*args, **kwargs)\n",
      "  File \"randomforestclassifier.pyx\", line 437, in cuml.ensemble.randomforestclassifier.RandomForestClassifier.fit\n",
      "  File \"/home/chinas/miniconda3/envs/thesis/lib/python3.10/site-packages/cuml/internals/api_decorators.py\", line 188, in wrapper\n",
      "    ret = func(*args, **kwargs)\n",
      "  File \"randomforest_common.pyx\", line 306, in cuml.ensemble.randomforest_common.BaseRandomForestModel._dataset_setup_for_fit\n",
      "  File \"randomforest_common.pyx\", line 175, in cuml.ensemble.randomforest_common.BaseRandomForestModel._get_max_feat_val\n",
      "ValueError: Wrong value passed in for max_features please read the documentation present at (https://docs.rapids.ai/api/cuml/nightly/api.html#random-forest)\n",
      "\n",
      "  warnings.warn(some_fits_failed_message, FitFailedWarning)\n",
      "/home/chinas/.local/lib/python3.10/site-packages/sklearn/model_selection/_search.py:953: UserWarning: One or more of the test scores are non-finite: [       nan        nan        nan 0.85738363 0.8601879  0.86075284\n",
      " 0.8579407  0.85738048 0.85513329 0.85962924 0.86187329 0.85794385\n",
      "        nan        nan        nan 0.85289554 0.85457464 0.85400969\n",
      " 0.85289554 0.85457464 0.85400969 0.85289554 0.85457464 0.85400969\n",
      "        nan        nan        nan 0.83773644 0.83773487 0.83548768\n",
      " 0.83773644 0.83773487 0.83548768 0.83773644 0.83773487 0.83548768\n",
      "        nan        nan        nan 0.83266767 0.83378812 0.83041891\n",
      " 0.83042363 0.8304252  0.83210588 0.82986498 0.8304252  0.82817801\n",
      "        nan        nan        nan 0.82874296 0.82986655 0.83042835\n",
      " 0.82874296 0.82986655 0.83042835 0.82874296 0.82986655 0.83042835\n",
      "        nan        nan        nan 0.80797218 0.80853555 0.80628993\n",
      " 0.80797218 0.80853555 0.80628993 0.80797218 0.80853555 0.80628993\n",
      "        nan        nan        nan        nan        nan        nan\n",
      "        nan        nan        nan        nan        nan        nan\n",
      "        nan        nan        nan        nan        nan        nan\n",
      "        nan        nan        nan        nan        nan        nan\n",
      "        nan        nan        nan        nan        nan        nan\n",
      "        nan        nan        nan        nan        nan        nan\n",
      "        nan        nan        nan 0.85794228 0.86074969 0.86075127\n",
      " 0.85850408 0.85906587 0.85682026 0.86187644 0.8658043  0.86243666\n",
      "        nan        nan        nan 0.85345576 0.85738205 0.85513329\n",
      " 0.85345576 0.85738205 0.85513329 0.85345576 0.85738205 0.85513329\n",
      "        nan        nan        nan 0.83773644 0.83941869 0.8360479\n",
      " 0.83773644 0.83941869 0.8360479  0.83773644 0.83941869 0.8360479\n",
      "        nan        nan        nan 0.83547666 0.83435149 0.8315425\n",
      " 0.83266767 0.83323105 0.8337897  0.83210902 0.83210588 0.82817644\n",
      "        nan        nan        nan 0.82986655 0.83211374 0.83042835\n",
      " 0.82986655 0.83211374 0.83042835 0.82986655 0.83211374 0.83042835\n",
      "        nan        nan        nan 0.80797375 0.80909892 0.80797532\n",
      " 0.80797375 0.80909892 0.80797532 0.80797375 0.80909892 0.80797532\n",
      "        nan        nan        nan        nan        nan        nan\n",
      "        nan        nan        nan        nan        nan        nan\n",
      "        nan        nan        nan        nan        nan        nan\n",
      "        nan        nan        nan        nan        nan        nan\n",
      "        nan        nan        nan        nan        nan        nan\n",
      "        nan        nan        nan        nan        nan        nan\n",
      "        nan        nan        nan 0.85794228 0.86187171 0.86075127\n",
      " 0.8590643  0.85906587 0.85738048 0.86243823 0.8652425  0.86299688\n",
      "        nan        nan        nan 0.85401599 0.85738205 0.85513329\n",
      " 0.85401599 0.85738205 0.85513329 0.85401599 0.85738205 0.85513329\n",
      "        nan        nan        nan 0.83773644 0.83941869 0.8360479\n",
      " 0.83773644 0.83941869 0.8360479  0.83773644 0.83941869 0.8360479\n",
      "        nan        nan        nan 0.83603846 0.83435149 0.8321043\n",
      " 0.8326661  0.83435464 0.8337897  0.83154723 0.83210588 0.82817644\n",
      "        nan        nan        nan 0.82986655 0.83211374 0.83098858\n",
      " 0.82986655 0.83211374 0.83098858 0.82986655 0.83211374 0.83098858\n",
      "        nan        nan        nan 0.80853555 0.80909892 0.80741353\n",
      " 0.80853555 0.80909892 0.80741353 0.80853555 0.80909892 0.80741353\n",
      "        nan        nan        nan        nan        nan        nan\n",
      "        nan        nan        nan        nan        nan        nan\n",
      "        nan        nan        nan        nan        nan        nan\n",
      "        nan        nan        nan        nan        nan        nan\n",
      "        nan        nan        nan        nan        nan        nan\n",
      "        nan        nan        nan        nan        nan        nan]\n",
      "  warnings.warn(\n"
     ]
    },
    {
     "data": {
      "text/html": [
       "<style>#sk-container-id-1 {color: black;background-color: white;}#sk-container-id-1 pre{padding: 0;}#sk-container-id-1 div.sk-toggleable {background-color: white;}#sk-container-id-1 label.sk-toggleable__label {cursor: pointer;display: block;width: 100%;margin-bottom: 0;padding: 0.3em;box-sizing: border-box;text-align: center;}#sk-container-id-1 label.sk-toggleable__label-arrow:before {content: \"▸\";float: left;margin-right: 0.25em;color: #696969;}#sk-container-id-1 label.sk-toggleable__label-arrow:hover:before {color: black;}#sk-container-id-1 div.sk-estimator:hover label.sk-toggleable__label-arrow:before {color: black;}#sk-container-id-1 div.sk-toggleable__content {max-height: 0;max-width: 0;overflow: hidden;text-align: left;background-color: #f0f8ff;}#sk-container-id-1 div.sk-toggleable__content pre {margin: 0.2em;color: black;border-radius: 0.25em;background-color: #f0f8ff;}#sk-container-id-1 input.sk-toggleable__control:checked~div.sk-toggleable__content {max-height: 200px;max-width: 100%;overflow: auto;}#sk-container-id-1 input.sk-toggleable__control:checked~label.sk-toggleable__label-arrow:before {content: \"▾\";}#sk-container-id-1 div.sk-estimator input.sk-toggleable__control:checked~label.sk-toggleable__label {background-color: #d4ebff;}#sk-container-id-1 div.sk-label input.sk-toggleable__control:checked~label.sk-toggleable__label {background-color: #d4ebff;}#sk-container-id-1 input.sk-hidden--visually {border: 0;clip: rect(1px 1px 1px 1px);clip: rect(1px, 1px, 1px, 1px);height: 1px;margin: -1px;overflow: hidden;padding: 0;position: absolute;width: 1px;}#sk-container-id-1 div.sk-estimator {font-family: monospace;background-color: #f0f8ff;border: 1px dotted black;border-radius: 0.25em;box-sizing: border-box;margin-bottom: 0.5em;}#sk-container-id-1 div.sk-estimator:hover {background-color: #d4ebff;}#sk-container-id-1 div.sk-parallel-item::after {content: \"\";width: 100%;border-bottom: 1px solid gray;flex-grow: 1;}#sk-container-id-1 div.sk-label:hover label.sk-toggleable__label {background-color: #d4ebff;}#sk-container-id-1 div.sk-serial::before {content: \"\";position: absolute;border-left: 1px solid gray;box-sizing: border-box;top: 0;bottom: 0;left: 50%;z-index: 0;}#sk-container-id-1 div.sk-serial {display: flex;flex-direction: column;align-items: center;background-color: white;padding-right: 0.2em;padding-left: 0.2em;position: relative;}#sk-container-id-1 div.sk-item {position: relative;z-index: 1;}#sk-container-id-1 div.sk-parallel {display: flex;align-items: stretch;justify-content: center;background-color: white;position: relative;}#sk-container-id-1 div.sk-item::before, #sk-container-id-1 div.sk-parallel-item::before {content: \"\";position: absolute;border-left: 1px solid gray;box-sizing: border-box;top: 0;bottom: 0;left: 50%;z-index: -1;}#sk-container-id-1 div.sk-parallel-item {display: flex;flex-direction: column;z-index: 1;position: relative;background-color: white;}#sk-container-id-1 div.sk-parallel-item:first-child::after {align-self: flex-end;width: 50%;}#sk-container-id-1 div.sk-parallel-item:last-child::after {align-self: flex-start;width: 50%;}#sk-container-id-1 div.sk-parallel-item:only-child::after {width: 0;}#sk-container-id-1 div.sk-dashed-wrapped {border: 1px dashed gray;margin: 0 0.4em 0.5em 0.4em;box-sizing: border-box;padding-bottom: 0.4em;background-color: white;}#sk-container-id-1 div.sk-label label {font-family: monospace;font-weight: bold;display: inline-block;line-height: 1.2em;}#sk-container-id-1 div.sk-label-container {text-align: center;}#sk-container-id-1 div.sk-container {/* jupyter's `normalize.less` sets `[hidden] { display: none; }` but bootstrap.min.css set `[hidden] { display: none !important; }` so we also need the `!important` here to be able to override the default hidden behavior on the sphinx rendered scikit-learn.org. See: https://github.com/scikit-learn/scikit-learn/issues/21755 */display: inline-block !important;position: relative;}#sk-container-id-1 div.sk-text-repr-fallback {display: none;}</style><div id=\"sk-container-id-1\" class=\"sk-top-container\"><div class=\"sk-text-repr-fallback\"><pre>GridSearchCV(cv=5, estimator=RandomForestClassifier(), n_jobs=1,\n",
       "             param_grid={&#x27;max_depth&#x27;: [20, 25, 30],\n",
       "                         &#x27;max_features&#x27;: [&#x27;sqrt&#x27;, &#x27;log2&#x27;, None],\n",
       "                         &#x27;min_samples_leaf&#x27;: [1, 2, 4],\n",
       "                         &#x27;min_samples_split&#x27;: [1, 2, 3, 4],\n",
       "                         &#x27;n_estimators&#x27;: [90, 100, 110]},\n",
       "             scoring=&#x27;recall&#x27;)</pre><b>In a Jupyter environment, please rerun this cell to show the HTML representation or trust the notebook. <br />On GitHub, the HTML representation is unable to render, please try loading this page with nbviewer.org.</b></div><div class=\"sk-container\" hidden><div class=\"sk-item sk-dashed-wrapped\"><div class=\"sk-label-container\"><div class=\"sk-label sk-toggleable\"><input class=\"sk-toggleable__control sk-hidden--visually\" id=\"sk-estimator-id-1\" type=\"checkbox\" ><label for=\"sk-estimator-id-1\" class=\"sk-toggleable__label sk-toggleable__label-arrow\">GridSearchCV</label><div class=\"sk-toggleable__content\"><pre>GridSearchCV(cv=5, estimator=RandomForestClassifier(), n_jobs=1,\n",
       "             param_grid={&#x27;max_depth&#x27;: [20, 25, 30],\n",
       "                         &#x27;max_features&#x27;: [&#x27;sqrt&#x27;, &#x27;log2&#x27;, None],\n",
       "                         &#x27;min_samples_leaf&#x27;: [1, 2, 4],\n",
       "                         &#x27;min_samples_split&#x27;: [1, 2, 3, 4],\n",
       "                         &#x27;n_estimators&#x27;: [90, 100, 110]},\n",
       "             scoring=&#x27;recall&#x27;)</pre></div></div></div><div class=\"sk-parallel\"><div class=\"sk-parallel-item\"><div class=\"sk-item\"><div class=\"sk-label-container\"><div class=\"sk-label sk-toggleable\"><input class=\"sk-toggleable__control sk-hidden--visually\" id=\"sk-estimator-id-2\" type=\"checkbox\" ><label for=\"sk-estimator-id-2\" class=\"sk-toggleable__label sk-toggleable__label-arrow\">estimator: RandomForestClassifier</label><div class=\"sk-toggleable__content\"><pre>RandomForestClassifier()</pre></div></div></div><div class=\"sk-serial\"><div class=\"sk-item\"><div class=\"sk-estimator sk-toggleable\"><input class=\"sk-toggleable__control sk-hidden--visually\" id=\"sk-estimator-id-3\" type=\"checkbox\" ><label for=\"sk-estimator-id-3\" class=\"sk-toggleable__label sk-toggleable__label-arrow\">RandomForestClassifier</label><div class=\"sk-toggleable__content\"><pre>RandomForestClassifier()</pre></div></div></div></div></div></div></div></div></div></div>"
      ],
      "text/plain": [
       "GridSearchCV(cv=5, estimator=RandomForestClassifier(), n_jobs=1,\n",
       "             param_grid={'max_depth': [20, 25, 30],\n",
       "                         'max_features': ['sqrt', 'log2', None],\n",
       "                         'min_samples_leaf': [1, 2, 4],\n",
       "                         'min_samples_split': [1, 2, 3, 4],\n",
       "                         'n_estimators': [90, 100, 110]},\n",
       "             scoring='recall')"
      ]
     },
     "execution_count": 9,
     "metadata": {},
     "output_type": "execute_result"
    }
   ],
   "source": [
    "# Define the hyperparameter grid for Random Forest\n",
    "param_grid = {\n",
    "    'n_estimators': [90, 100, 110],\n",
    "    'max_depth': [20, 25, 30],\n",
    "    'min_samples_split': [1, 2],\n",
    "    'min_samples_leaf': [1, 2],\n",
    "    'max_features': ['sqrt', 'log2', None],\n",
    "#    'criterion': ['gini', 'entropy'] not supported in cuML\n",
    "}\n",
    "\n",
    "rf = RandomForestClassifier()\n",
    "grid_search = GridSearchCV(rf, \n",
    "                           param_grid, \n",
    "                           cv= 5, #StratifiedKFold(n_splits=10, shuffle=True, random_state=71), \n",
    "                           scoring='recall', \n",
    "                           n_jobs=1, \n",
    "                           refit=True\n",
    "                          )\n",
    "# Fit the GridSearchCV object to your training data\n",
    "grid_search.fit(X_train_cupy, y_train_cupy)\n",
    "\n",
    "\n",
    "# Takes less than 10 min to run"
   ]
  },
  {
   "cell_type": "code",
   "execution_count": 10,
   "id": "58e3d89a",
   "metadata": {},
   "outputs": [],
   "source": [
    "# Get the best hyperparameters and best model from the GridSearchCV\n",
    "best_params = grid_search.best_params_\n",
    "best_model = grid_search.best_estimator_\n",
    "\n",
    "# Train the best model on the entire training set\n",
    "best_model.fit(X_train_cupy, y_train_cupy)\n",
    "\n",
    "# Make predictions on the test set\n",
    "y_pred = best_model.predict_proba(X_val)"
   ]
  },
  {
   "cell_type": "code",
   "execution_count": 11,
   "id": "2f793027",
   "metadata": {},
   "outputs": [
    {
     "data": {
      "image/png": "[encoded data removed]",
      "text/plain": [
       "<Figure size 500x400 with 1 Axes>"
      ]
     },
     "metadata": {},
     "output_type": "display_data"
    }
   ],
   "source": [
    "plt.figure(figsize=(5,4))\n",
    "\n",
    "# keep probabilities for the positive outcome only\n",
    "y_pred = y_pred[1]\n",
    "# calculate pr-curve\n",
    "precision, recall, thresholds = precision_recall_curve(y_val, y_pred)\n",
    "# plot the roc curve for the model\n",
    "no_skill = len(y_val[y_val==1]) / len(y_val)\n",
    "plt.plot(recall, precision, marker='.', label='Default Random Forest', color=\"r\")\n",
    "plt.plot([0,1], [no_skill,no_skill], linestyle='--', label='No Skill', color=\"k\")\n",
    "plt.xlabel('Recall')\n",
    "plt.ylabel('Precision')\n",
    "plt.title(\"Research Variables\")\n",
    "plt.legend();"
   ]
  },
  {
   "cell_type": "code",
   "execution_count": 12,
   "id": "f0aa30d7",
   "metadata": {},
   "outputs": [
    {
     "data": {
      "text/plain": [
       "(array([0.92947814, 0.91080617]),\n",
       " array([0.86369594, 0.95503597]),\n",
       " array([0.89538043, 0.93239684]),\n",
       " array([ 763, 1112]))"
      ]
     },
     "execution_count": 12,
     "metadata": {},
     "output_type": "execute_result"
    }
   ],
   "source": [
    "y_pred_ = best_model.predict(X_val)\n",
    "precision_recall_fscore_support(y_val.to_numpy(), y_pred_.to_numpy(), labels=[1,0])"
   ]
  },
  {
   "cell_type": "code",
   "execution_count": 13,
   "id": "2dc7633d",
   "metadata": {},
   "outputs": [
    {
     "data": {
      "text/plain": [
       "{'max_depth': 25,\n",
       " 'max_features': 'sqrt',\n",
       " 'min_samples_leaf': 1,\n",
       " 'min_samples_split': 4,\n",
       " 'n_estimators': 100}"
      ]
     },
     "execution_count": 13,
     "metadata": {},
     "output_type": "execute_result"
    }
   ],
   "source": [
    "best_params"
   ]
  },
  {
   "cell_type": "code",
   "execution_count": null,
   "id": "2dd07be2",
   "metadata": {},
   "outputs": [],
   "source": []
  }
 ],
 "metadata": {
  "kernelspec": {
   "display_name": "Python 3 (ipykernel)",
   "language": "python",
   "name": "python3"
  },
  "language_info": {
   "codemirror_mode": {
    "name": "ipython",
    "version": 3
   },
   "file_extension": ".py",
   "mimetype": "text/x-python",
   "name": "python",
   "nbconvert_exporter": "python",
   "pygments_lexer": "ipython3",
   "version": "3.10.7"
  }
 },
 "nbformat": 4,
 "nbformat_minor": 5
}
