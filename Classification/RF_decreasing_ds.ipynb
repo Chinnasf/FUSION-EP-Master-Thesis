{
 "cells": [
  {
   "cell_type": "code",
   "execution_count": null,
   "id": "3f691e30",
   "metadata": {},
   "outputs": [],
   "source": [
    "%load_ext autoreload\n",
    "%autoreload 2"
   ]
  },
  {
   "cell_type": "code",
   "execution_count": null,
   "id": "4f834bdc",
   "metadata": {},
   "outputs": [],
   "source": [
    "import numpy as np \n",
    "import pandas as pd\n",
    "import matplotlib.pyplot as plt\n",
    "import scipy as sp\n",
    "import statsmodels.api as sm\n",
    "import matplotlib.patches as mpatches\n",
    "\n",
    "from sklearn.ensemble import RandomForestClassifier\n",
    "from sklearn.model_selection import train_test_split, cross_val_score, RepeatedStratifiedKFold\n",
    "from sklearn.preprocessing import StandardScaler\n",
    "from sklearn.metrics import precision_recall_curve, precision_recall_fscore_support\n",
    "\n",
    "pd.set_option('display.max_columns', None)\n",
    "path = \"../data/\""
   ]
  },
  {
   "cell_type": "code",
   "execution_count": null,
   "id": "b09db631",
   "metadata": {},
   "outputs": [],
   "source": [
    "# Obtained from Optimization\n",
    "min_subset_ids = pd.read_csv(path+\"id_vs_frequency_decreasing_ds.csv\")\n",
    "\n",
    "DB2 = pd.read_csv(path+\"DB2P8.csv\")\n",
    "DB5 = pd.read_csv(path+\"STDB5_all_cols.csv\", low_memory=False) \n",
    "\n",
    "# There are shots missing in DB5 from DB2P8\n",
    "missing_shots = DB2[~DB2.id.isin( DB5.id.values )].reset_index(drop=True)\n",
    "DB5 = pd.concat([DB5, missing_shots], axis=0, ignore_index=True)\n",
    "\n",
    "# Labeling shots that had great impact in decreasing alpha_R\n",
    "DB5.insert(loc=2,column=\"label\",value=[0]*len(DB5))\n",
    "DB5.loc[(DB5[DB5.id.isin(min_subset_ids.id)].index), \"label\"] = 1\n",
    "\n",
    "print(\n",
    "    f\"{ round( (len(min_subset_ids)/len(DB5))*100     ,2)  }% of the data decreased alpha_R\\n\" + \n",
    "    f\"{ round( (1 - len(min_subset_ids)/len(DB5))*100 ,2)  }% of the data did not decrease alpha_R\"\n",
    ")"
   ]
  },
  {
   "cell_type": "markdown",
   "id": "e728ee14",
   "metadata": {},
   "source": [
    "### INFORMATION IN THE DATABASE"
   ]
  },
  {
   "cell_type": "code",
   "execution_count": null,
   "id": "9ae01609",
   "metadata": {},
   "outputs": [],
   "source": [
    "# DWMHD = DWDIA\n",
    "plasma_characteristics = [\"QCYL5\",\"FBS\",\"BEIMHD\",\"PREMAG\",\"LHTIME\",\"HYBRID\",\n",
    "                          \"CONFIG\",\"DWDIA\",\"WMHD\",\"WROT\",\"TORQ\"\n",
    "                         ] \n",
    "TOK_characteristics = [\"TOK_ID\",\"DIVNAME\",\"WALMAT\",\"DIVMAT\",\"LIMMAT\",\"PMAIN\",\"PDIV\"]\n",
    "transport = [\"ITBTYPE\"] # Description of transport barrier\n",
    "ELM = [\"ELMTYPE\",\"ELMFREQ\"]\n",
    "heating = [\"PECRH\", \"PICRH\", \"ICSCHEME\",\"AUXHEAT\"]\n",
    "impurities = [\"EVAP\",\"ZEFF\",\"ZEFFNEO\",\"PRAD\",\"POHM\",\"ENBI\",\"OMGAIMP0\"]\n",
    "power = [\"PLTH\",\"PFLOSS\"] # corrections on power loss | NBI Power lost by unconfined orbits\n",
    "physical_variables = [\"RHOSTAR\",\"BETASTAR\",\"NUSTAR\"]\n",
    "engineering_variables = [\"KAREA\",\"EPS\",\"NEL\",\"IP\",\"MEFF\",\"BT\",\"PLTH\",\"RGEO\"]\n",
    "temperatures = [\"TAV\",\"TEV\",\"TIV\"]\n",
    "# electron density in SOL | perpendicular | parallel | total | total calcs fast ions\n",
    "fast_particles = [\"NESOL\",\"WFPER\",\"WFPAR\",\"WFFORM\",\"WFICFORM\",\"WFANIIC\"] "
   ]
  },
  {
   "cell_type": "code",
   "execution_count": null,
   "id": "ecce5188",
   "metadata": {},
   "outputs": [],
   "source": [
    "entropy_features = ['RHOSTAR', 'BETASTAR', 'KAREA', 'EPS', 'NEL', 'TAV', 'QCYL5', 'NUSTAR']\n",
    "research_features = ['TAUTH','NEL','TAV','BT','RHOSTAR','NUSTAR','BETASTAR']"
   ]
  },
  {
   "cell_type": "markdown",
   "id": "fedcecbc",
   "metadata": {},
   "source": [
    "### TREATMENT TO CATEGORICAL DATA"
   ]
  },
  {
   "cell_type": "code",
   "execution_count": null,
   "id": "dc3e6ef9",
   "metadata": {},
   "outputs": [],
   "source": []
  },
  {
   "cell_type": "code",
   "execution_count": null,
   "id": "2efa7146",
   "metadata": {},
   "outputs": [],
   "source": []
  },
  {
   "cell_type": "markdown",
   "id": "9cbe96d2",
   "metadata": {},
   "source": [
    "### RANDOM FOREST IMPLEMENTATION"
   ]
  },
  {
   "cell_type": "code",
   "execution_count": null,
   "id": "b29cd8a3",
   "metadata": {},
   "outputs": [],
   "source": [
    "DB5_ = pd.DataFrame(StandardScaler().fit_transform( DB5[features] ), columns = features)\n",
    "\n",
    "X = DB5_[features].to_numpy() # Getting scaled dataset\n",
    "y = DB5[[\"label\"]].to_numpy().reshape(-1)\n",
    "\n",
    "# create the model | Default Configuration\n",
    "model = RandomForestClassifier(random_state=71)\n",
    "\n",
    "# split data\n",
    "X_train, X_test, y_train, y_test = train_test_split(X, y, test_size=0.3, random_state=71, stratify=y)\n",
    "\n",
    "model.fit(X_train, y_train)\n",
    "y_pred= model.predict_proba(X_test)"
   ]
  },
  {
   "cell_type": "code",
   "execution_count": null,
   "id": "bbd048c7",
   "metadata": {},
   "outputs": [],
   "source": [
    "# Accuracy\n",
    "print(model.score(X_train,y_train))\n",
    "print(model.score(X_test,y_test))"
   ]
  },
  {
   "cell_type": "code",
   "execution_count": null,
   "id": "03780f31",
   "metadata": {},
   "outputs": [],
   "source": [
    "# keep probabilities for the positive outcome only\n",
    "y_pred = y_pred[:, 1]\n",
    "# calculate pr-curve\n",
    "precision, recall, thresholds = precision_recall_curve(y_test, y_pred)\n",
    "# plot the roc curve for the model\n",
    "no_skill = len(y_test[y_test==1]) / len(y_test)\n",
    "plt.plot([0,1], [no_skill,no_skill], linestyle='--', label='No Skill')\n",
    "plt.plot(recall, precision, marker='.', label='Default Random Forest', c=\"g\")\n",
    "plt.xlabel('Recall')\n",
    "plt.ylabel('Precision')\n",
    "plt.title(\"Updated Entropy Variables\")\n",
    "plt.legend();"
   ]
  },
  {
   "cell_type": "code",
   "execution_count": null,
   "id": "67775ffb",
   "metadata": {},
   "outputs": [],
   "source": [
    "y_pred_ = model.predict(X_test)\n",
    "precision_recall_fscore_support(y_test, y_pred_, labels=[1,0])"
   ]
  },
  {
   "cell_type": "code",
   "execution_count": null,
   "id": "e18a6b1d",
   "metadata": {},
   "outputs": [],
   "source": []
  }
 ],
 "metadata": {
  "kernelspec": {
   "display_name": "Python 3 (ipykernel)",
   "language": "python",
   "name": "python3"
  },
  "language_info": {
   "codemirror_mode": {
    "name": "ipython",
    "version": 3
   },
   "file_extension": ".py",
   "mimetype": "text/x-python",
   "name": "python",
   "nbconvert_exporter": "python",
   "pygments_lexer": "ipython3",
   "version": "3.10.7"
  }
 },
 "nbformat": 4,
 "nbformat_minor": 5
}
