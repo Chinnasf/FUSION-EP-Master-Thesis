{
 "cells": [
  {
   "cell_type": "code",
   "execution_count": 1,
   "id": "3f691e30",
   "metadata": {},
   "outputs": [],
   "source": [
    "%load_ext autoreload\n",
    "%autoreload 2"
   ]
  },
  {
   "cell_type": "markdown",
   "id": "113d44c8",
   "metadata": {},
   "source": [
    "# UNTUNED | RANDOM FOREST\n",
    "\n",
    "### WARNING: Something _wrong_ about this pipeline is in the cleaning: it is taken the median of all values to fill in NaN; this might make no sense since different tokamaks have different parameters. This logic is fixed in the tuned notebook."
   ]
  },
  {
   "cell_type": "code",
   "execution_count": 2,
   "id": "4f834bdc",
   "metadata": {},
   "outputs": [],
   "source": [
    "import numpy as np \n",
    "import pandas as pd\n",
    "import matplotlib.pyplot as plt\n",
    "import scipy as sp\n",
    "import statsmodels.api as sm\n",
    "import matplotlib.patches as mpatches\n",
    "\n",
    "from sklearn.ensemble import RandomForestClassifier\n",
    "from sklearn.impute import SimpleImputer\n",
    "from sklearn.compose import ColumnTransformer\n",
    "from sklearn.preprocessing import OneHotEncoder, StandardScaler\n",
    "from sklearn.pipeline import Pipeline\n",
    "from sklearn.model_selection import train_test_split\n",
    "from sklearn.metrics import precision_recall_curve, precision_recall_fscore_support\n",
    "\n",
    "\n",
    "pd.set_option('display.max_columns', None)\n",
    "path = \"../data/\""
   ]
  },
  {
   "cell_type": "code",
   "execution_count": 3,
   "id": "b09db631",
   "metadata": {},
   "outputs": [
    {
     "name": "stdout",
     "output_type": "stream",
     "text": [
      "40.69% of the data decreased alpha_R\n",
      "59.31% of the data did not decrease alpha_R\n"
     ]
    }
   ],
   "source": [
    "# Obtained from Optimization\n",
    "\n",
    "min_subset_ids = pd.read_csv(path+\"id_vs_frequency_decreasing_ds.csv\")\n",
    "#min_subset_ids = pd.read_csv(path+\"R_ids_alpha_0.6357.csv\")\n",
    "\n",
    "DB2 = pd.read_csv(path+\"DB2P8.csv\")\n",
    "DB5 = pd.read_csv(path+\"SELDB5_SVD.csv\", low_memory=False) \n",
    "DB5 = DB5[DB5[\"PHASE\"].isin(['HGELM', 'HSELM', 'HGELMH', 'HSELMH'])]\n",
    "\n",
    "# There is two shots from DB2P8 missing in DB5\n",
    "missing_shots = DB2[~DB2.id.isin( DB5.id.values )].reset_index(drop=True)\n",
    "DB5 = pd.concat([DB5, missing_shots], axis=0, ignore_index=True)\n",
    "\n",
    "# Labeling shots that had great impact in decreasing alpha_R\n",
    "DB5.insert(loc=2,column=\"label\",value=[0]*len(DB5))\n",
    "DB5.loc[(DB5[DB5.id.isin(min_subset_ids.id)].index), \"label\"] = 1\n",
    "\n",
    "print(\n",
    "    f\"{ round( (len(min_subset_ids)/len(DB5))*100     ,2)  }% of the data decreased alpha_R\\n\" + \n",
    "    f\"{ round( (1 - len(min_subset_ids)/len(DB5))*100 ,2)  }% of the data did not decrease alpha_R\"\n",
    ")"
   ]
  },
  {
   "cell_type": "markdown",
   "id": "0adc6e00",
   "metadata": {},
   "source": [
    "Class distribution can be considered is skewed.\n",
    "\n",
    "## Treatment to Categorical Data"
   ]
  },
  {
   "cell_type": "code",
   "execution_count": 4,
   "id": "cd2d96e9",
   "metadata": {},
   "outputs": [],
   "source": [
    "research_features = ['NEL','TAV','BT','RHOSTAR','NUSTAR','BETASTAR']\n",
    "\n",
    "TOK_characteristics = [\"DIVNAME\",\"WALMAT\",\"DIVMAT\",\"LIMMAT\"]\n",
    "categorical = [\"PREMAG\",\"HYBRID\",\"CONFIG\",\"ELMTYPE\",\"ECHMODE\",\n",
    "               \"ICSCHEME\",\"AUXHEAT\",\"EVAP\",\"PELLET\"] + TOK_characteristics \n",
    "\n",
    "DB5[categorical] = DB5[categorical].fillna('UNKNOWN')\n",
    "DB5[\"DIVNAME\"]   = DB5[\"DIVNAME\"].str.replace(\"NONAME\",\"UNKNOWN\",regex=False)\n",
    "\n",
    "DB5[\"DIVMAT\"] = DB5[\"DIVMAT\"].str.replace(\"CC\",\"C\",regex=False)\n",
    "DB5[\"DIVMAT\"] = DB5[\"DIVMAT\"].str.replace(\"TI1\",\"TI12\",regex=False)\n",
    "DB5[\"DIVMAT\"] = DB5[\"DIVMAT\"].str.replace(\"TI2\",\"TI12\",regex=False)\n",
    "\n",
    "DB5[\"DIVNAME\"] = DB5[\"DIVNAME\"].str.replace(\"(DIV-I)|(DV-IPRE)|(DV-IPOST)\",\n",
    "                                            \"DV-I\",regex=True)\n",
    "DB5[\"DIVNAME\"] = DB5[\"DIVNAME\"].str.replace(\"(DIV-II)|(DV-IIc)|(DV-II-C)|(DV-IIb)|(DV-IIc)|(DV-IId)|(DV-IId)\",\n",
    "                                            \"DV-II\",regex=True)\n",
    "DB5[\"DIVNAME\"] = DB5[\"DIVNAME\"].str.replace(\"(MARK0)|(MARKI)|(MARKIIA)|(MARKGB)|(MARKGBSR)|\"+\n",
    "                                            \"(MARKIA)|(MARKIAP)|(MARKSR)|(MARKA)|(MARKP)\",\n",
    "                                            \"MARK\",regex=True)\n",
    "\n",
    "DB5[\"ICSCHEME\"]   = DB5[\"ICSCHEME\"].str.replace(\"OFF\",\"NONE\",regex=False)\n",
    "\n",
    "# Removing noise on heating scheme | the removed coluns are shots from 1996\n",
    "DB5 = DB5[~DB5[\"AUXHEAT\"].isin([\"UNKNOWN\"])]\n",
    "\n",
    "DB5[\"EVAP\"] = DB5[\"EVAP\"].str.replace(\"CARBH\",\"C-H\",regex=True)\n",
    "DB5[\"EVAP\"] = DB5[\"EVAP\"].str.replace(\"CARB\",\"C\",regex=True)\n",
    "DB5[\"EVAP\"] = DB5[\"EVAP\"].str.replace(\"BOROC\",\"C-BO\",regex=True)\n",
    "DB5[\"EVAP\"] = DB5[\"EVAP\"].str.replace(\"(BOROA)|(BOROB)|(BOROX)|(BOR)\",\"BO\",regex=True)\n",
    "\n",
    "DB5[\"PELLET\"] = DB5[\"PELLET\"].str.replace(\"GP_D\",\"D\",regex=False)\n",
    "DB5[\"PELLET\"] = DB5[\"PELLET\"].str.replace(\"GP_H\",\"H\",regex=False)"
   ]
  },
  {
   "cell_type": "markdown",
   "id": "ba8d7aec",
   "metadata": {},
   "source": [
    "## Treatment to Numerical Data"
   ]
  },
  {
   "cell_type": "code",
   "execution_count": 5,
   "id": "b5b5dd56",
   "metadata": {},
   "outputs": [],
   "source": [
    "plasma_characteristics = [\"QCYL5\",\"BEIMHD\",\"PREMAG\",\"LHTIME\",\"HYBRID\",\n",
    "                          \"CONFIG\",\"DWDIA\",\"WMHD\",\"TORQ\"\n",
    "                         ] \n",
    "TOK_characteristics = [\"TOK\",\"DIVNAME\",\"WALMAT\",\"DIVMAT\",\"LIMMAT\"]\n",
    "ELM = [\"ELMTYPE\",\"ELMFREQ\"]\n",
    "heating = [\"PECRH\", \"PICRH\", \"ICSCHEME\",\"AUXHEAT\"]\n",
    "impurities = [\"EVAP\",\"ZEFF\",\"ZEFFNEO\",\"PRAD\",\"POHM\",\"ENBI\"]\n",
    " # corrections on power loss | NBI Power lost by unconfined orbits\n",
    "power = [\"PLTH\",\"PFLOSS\"]\n",
    "temperatures = [\"TAV\",\"TEV\",\"TIV\"]\n",
    "# e-density in SOL | total due to NBI| total due to ICRH\n",
    "fast_particles = [\"NESOL\",\"WFFORM\",\"WFICFORM\"] \n",
    "research_features = ['NEL','TAV','BT','RHOSTAR','NUSTAR','BETASTAR']\n",
    "\n",
    "interesting_features = set(plasma_characteristics + TOK_characteristics + ELM + heating + \\\n",
    "                       impurities + power  + fast_particles)\n",
    "\n",
    "data_ = DB5.copy()\n",
    "data_ = data_[list(interesting_features)]\n",
    "\n",
    "num_features = data_.select_dtypes(include=['int', 'float']).columns.tolist()"
   ]
  },
  {
   "cell_type": "markdown",
   "id": "f3044ccd",
   "metadata": {},
   "source": [
    "This is what I had before to join comlumns.\n",
    "\n",
    "```Python\n",
    "DB5_ = pd.DataFrame(StandardScaler().fit_transform( DB5[num_features] ), columns = num_features)\n",
    "data = pd.concat([DB5_,DB5[categorical]], axis=1, join=\"inner\")\n",
    "```"
   ]
  },
  {
   "cell_type": "code",
   "execution_count": 6,
   "id": "eb6664e6",
   "metadata": {},
   "outputs": [],
   "source": [
    "data = DB5.copy()\n",
    "data = data[num_features + categorical + [\"label\"]]"
   ]
  },
  {
   "cell_type": "markdown",
   "id": "3ccdfae7",
   "metadata": {},
   "source": [
    "### Implementation of RF\n",
    "\n",
    "[`sklearn.impute.SimpleImputer`](https://scikit-learn.org/stable/modules/generated/sklearn.impute.SimpleImputer.html)\n",
    "\n",
    "Univariate imputer for completing missing values with simple strategies. Replace missing values using a descriptive statistic (e.g. mean, median, or most frequent) along each column, or using a constant value."
   ]
  },
  {
   "cell_type": "code",
   "execution_count": 7,
   "id": "9b7052ec",
   "metadata": {},
   "outputs": [],
   "source": [
    "X = data.drop(\"label\", axis=1)\n",
    "y = data[\"label\"]\n",
    "\n",
    "# Identify categorical and numerical features\n",
    "cat_features = X.select_dtypes(include=[\"object\"]).columns.tolist()\n",
    "num_features = X.select_dtypes(include=[\"int\", \"float\"]).columns.tolist()\n",
    "\n",
    "# Define preprocessing steps for categorical and numerical features\n",
    "cat_preprocessor = Pipeline(steps=[\n",
    "    (\"imputer\", SimpleImputer(strategy=\"constant\", fill_value=\"UNKNOWN\")),\n",
    "    (\"onehot\", OneHotEncoder(handle_unknown=\"ignore\"))\n",
    "])\n",
    "\n",
    "num_preprocessor = Pipeline(steps=[\n",
    "    (\"imputer\", SimpleImputer(strategy='median')),\n",
    "    (\"scaler\", StandardScaler())\n",
    "])\n",
    "\n",
    "# Combine preprocessing steps for all features using ColumnTransformer\n",
    "preprocessor = ColumnTransformer(transformers=[\n",
    "    ('cat', cat_preprocessor, cat_features),\n",
    "    ('num', num_preprocessor, num_features)\n",
    "])\n",
    "\n",
    "# split data\n",
    "X_train, X_test, y_train, y_test = train_test_split(X, y, test_size=0.3, random_state=71, stratify=y)"
   ]
  },
  {
   "cell_type": "code",
   "execution_count": 8,
   "id": "46467d7e",
   "metadata": {},
   "outputs": [],
   "source": [
    "# Define random forest classifier with preprocessor as a pipeline\n",
    "model = Pipeline(steps=[\n",
    "    (\"preprocessor\", preprocessor),\n",
    "    (\"classifier\", RandomForestClassifier(random_state=71))\n",
    "])\n",
    "\n",
    "model.fit(X_train, y_train)\n",
    "y_pred= model.predict_proba(X_test)"
   ]
  },
  {
   "cell_type": "code",
   "execution_count": 9,
   "id": "2f793027",
   "metadata": {},
   "outputs": [
    {
     "data": {
      "image/png": "[encoded data removed]",
      "text/plain": [
       "<Figure size 500x400 with 1 Axes>"
      ]
     },
     "metadata": {},
     "output_type": "display_data"
    }
   ],
   "source": [
    "plt.figure(figsize=(5,4))\n",
    "\n",
    "# keep probabilities for the positive outcome only\n",
    "y_pred = y_pred[:, 1]\n",
    "# calculate pr-curve\n",
    "precision, recall, thresholds = precision_recall_curve(y_test, y_pred)\n",
    "# plot the roc curve for the model\n",
    "no_skill = len(y_test[y_test==1]) / len(y_test)\n",
    "plt.plot(recall, precision, marker='.', label='Default Random Forest', color=\"r\")\n",
    "plt.plot([0,1], [no_skill,no_skill], linestyle='--', label='No Skill', color=\"k\")\n",
    "plt.xlabel('Recall')\n",
    "plt.ylabel('Precision')\n",
    "plt.title(\"Research Variables\")\n",
    "plt.legend();"
   ]
  },
  {
   "cell_type": "code",
   "execution_count": 10,
   "id": "f0aa30d7",
   "metadata": {},
   "outputs": [
    {
     "data": {
      "text/plain": [
       "(array([0.91917808, 0.91965066]),\n",
       " array([0.87942333, 0.94694245]),\n",
       " array([0.89886135, 0.93309703]),\n",
       " array([ 763, 1112]))"
      ]
     },
     "execution_count": 10,
     "metadata": {},
     "output_type": "execute_result"
    }
   ],
   "source": [
    "y_pred_ = model.predict(X_test)\n",
    "precision_recall_fscore_support(y_test, y_pred_, labels=[1,0])"
   ]
  },
  {
   "cell_type": "markdown",
   "id": "d9ada672",
   "metadata": {},
   "source": [
    "## [Feature Importance Based on Mean Decrease in Impurity](https://scikit-learn.org/stable/auto_examples/ensemble/plot_forest_importances.html)\n",
    "\n",
    "Feature importances are provided by the fitted attribute `feature_importances_` and they are computed as the mean and standard deviation of accumulation of the impurity decrease within each tree.\n",
    "\n",
    "**WARNING**:  Impurity-based feature importances can be misleading for high cardinality features (many unique values). See Permutation feature importance."
   ]
  },
  {
   "cell_type": "code",
   "execution_count": 11,
   "id": "e18a6b1d",
   "metadata": {},
   "outputs": [
    {
     "name": "stdout",
     "output_type": "stream",
     "text": [
      "          feature    importance\n",
      "0          WFFORM  7.510947e-02\n",
      "1            WMHD  6.390314e-02\n",
      "2           QCYL5  5.717486e-02\n",
      "3            ENBI  5.654429e-02\n",
      "4            PLTH  5.609190e-02\n",
      "..            ...           ...\n",
      "106  EVAP_UNKNOWN  4.405347e-06\n",
      "107    AUXHEAT_EC  2.906414e-06\n",
      "108    CONFIG_TOP  5.275441e-09\n",
      "109      EVAP_C-H  0.000000e+00\n",
      "110    CONFIG_BOT  0.000000e+00\n",
      "\n",
      "[111 rows x 2 columns]\n"
     ]
    }
   ],
   "source": [
    "# Get feature importances from trained RF classifier\n",
    "importances = model.named_steps[\"classifier\"].feature_importances_\n",
    "\n",
    "# Get feature names from column transformer\n",
    "cat_encoder = model.named_steps[\"preprocessor\"].named_transformers_[\"cat\"].named_steps[\"onehot\"]\n",
    "feature_names = cat_encoder.get_feature_names_out(cat_features).tolist() + num_features\n",
    "\n",
    "# Create a pandas dataframe to display feature importances\n",
    "feature_importances = pd.DataFrame({\"feature\": feature_names, \"importance\": importances})\n",
    "feature_importances = feature_importances.sort_values(\"importance\", ascending=False).reset_index(drop=True)\n",
    "\n",
    "print(feature_importances)"
   ]
  },
  {
   "cell_type": "code",
   "execution_count": 12,
   "id": "c991b672",
   "metadata": {},
   "outputs": [
    {
     "data": {
      "text/plain": [
       "array(['WFFORM', 'WMHD', 'QCYL5', 'ENBI', 'PLTH', 'PRAD', 'POHM',\n",
       "       'PFLOSS', 'ZEFF', 'LHTIME', 'PELLET_GAS-FUEL', 'BEIMHD', 'DWDIA',\n",
       "       'NESOL', 'ZEFFNEO', 'PICRH', 'TORQ', 'CONFIG_SN', 'WFICFORM',\n",
       "       'PELLET_NONE', 'LIMMAT_C', 'WALMAT_SS', 'EVAP_NONE', 'WALMAT_C',\n",
       "       'HYBRID_UNKNOWN', 'HYBRID_YES', 'PREMAG_UNKNOWN', 'HYBRID_NO',\n",
       "       'PECRH', 'ELMTYPE_TYPE-I', 'ELMTYPE_UNKNOWN', 'ELMFREQ',\n",
       "       'ICSCHEME_HMIN', 'DIVMAT_W', 'LIMMAT_W', 'LIMMAT_NONE',\n",
       "       'ICSCHEME_NONE', 'AUXHEAT_NBIC', 'AUXHEAT_NB', 'DIVNAME_RDP',\n",
       "       'DIVNAME_UNKNOWN', 'HYBRID_HYBRID', 'ELMTYPE_TYPE-II',\n",
       "       'CONFIG_SN(L)', 'PELLET_D', 'WALMAT_W', 'DIVMAT_C', 'WALMAT_C-W',\n",
       "       'ELMTYPE_TYPE-III', 'DIVNAME_DV-I', 'WALMAT_IN', 'DIVNAME_MARKSR',\n",
       "       'DIVNAME_PLATES1', 'PREMAG_NO', 'ECHMODE_NONE', 'PREMAG_YES',\n",
       "       'LIMMAT_BE', 'DIVNAME_ILW', 'EVAP_BE', 'CONFIG_DN', 'WALMAT_IN/C',\n",
       "       'ICSCHEME_UNKNOWN', 'CONFIG_SN(U)', 'DIVNAME_MARK',\n",
       "       'DIVNAME_DV-II', 'AUXHEAT_NBEC', 'ECHMODE_UNKNOWN', 'EVAP_BO',\n",
       "       'ECHMODE_X', 'LIMMAT_C-W', 'DIVNAME_DV-III', 'DIVNAME_MARKIAP',\n",
       "       'DIVMAT_TI12', 'DIVMAT_C-W', 'EVAP_C-BO', 'EVAP_TI',\n",
       "       'DIVNAME_OPEN', 'EVAP_SILICON', 'ELMTYPE_TYPE-V', 'DIVNAME_ADP',\n",
       "       'DIVNAME_RIB', 'ICSCHEME_H2NDHARM', 'AUXHEAT_IC', 'PELLET_H',\n",
       "       'WALMAT_AL', 'AUXHEAT_NBECIC', 'DIVMAT_IN', 'AUXHEAT_NONE',\n",
       "       'CONFIG_DND', 'DIVMAT_SS', 'ELMTYPE_TYPE-1+2', 'DIVNAME_MARKIA',\n",
       "       'ELMTYPE_TYPE-RF', 'ICSCHEME_HE3MIN-T', 'LIMMAT_MO', 'DIVMAT_C/BE',\n",
       "       'EVAP_C', 'WALMAT_CSS', 'EVAP_DECABOA', 'DIVNAME_DIV1',\n",
       "       'DIVMAT_NONE', 'ELMTYPE_TYPE-1+5', 'CONFIG_LIM', 'DIVMAT_MO',\n",
       "       'CONFIG_MAR', 'CONFIG_IW', 'EVAP_UNKNOWN', 'AUXHEAT_EC',\n",
       "       'CONFIG_TOP', 'EVAP_C-H', 'CONFIG_BOT'], dtype=object)"
      ]
     },
     "execution_count": 12,
     "metadata": {},
     "output_type": "execute_result"
    }
   ],
   "source": [
    "df = pd.DataFrame(feature_importances)\n",
    "df.feature.unique()"
   ]
  },
  {
   "cell_type": "code",
   "execution_count": 13,
   "id": "d9bc36f8",
   "metadata": {},
   "outputs": [
    {
     "data": {
      "image/png": "[encoded data removed]",
      "text/plain": [
       "<Figure size 1100x400 with 1 Axes>"
      ]
     },
     "metadata": {},
     "output_type": "display_data"
    }
   ],
   "source": [
    "plt.figure(figsize=(11,4))\n",
    "plt.bar(df[df.importance > 0.5e-2].feature, df[df.importance > 0.5e-2].importance, color=\"gray\")\n",
    "plt.xticks(rotation=90);"
   ]
  },
  {
   "cell_type": "code",
   "execution_count": 14,
   "id": "59710410",
   "metadata": {},
   "outputs": [
    {
     "data": {
      "text/html": [
       "<div>\n",
       "<style scoped>\n",
       "    .dataframe tbody tr th:only-of-type {\n",
       "        vertical-align: middle;\n",
       "    }\n",
       "\n",
       "    .dataframe tbody tr th {\n",
       "        vertical-align: top;\n",
       "    }\n",
       "\n",
       "    .dataframe thead th {\n",
       "        text-align: right;\n",
       "    }\n",
       "</style>\n",
       "<table border=\"1\" class=\"dataframe\">\n",
       "  <thead>\n",
       "    <tr style=\"text-align: right;\">\n",
       "      <th></th>\n",
       "      <th>feature</th>\n",
       "      <th>importance</th>\n",
       "    </tr>\n",
       "  </thead>\n",
       "  <tbody>\n",
       "    <tr>\n",
       "      <th>0</th>\n",
       "      <td>WFFORM</td>\n",
       "      <td>0.075109</td>\n",
       "    </tr>\n",
       "    <tr>\n",
       "      <th>1</th>\n",
       "      <td>WMHD</td>\n",
       "      <td>0.063903</td>\n",
       "    </tr>\n",
       "    <tr>\n",
       "      <th>2</th>\n",
       "      <td>QCYL5</td>\n",
       "      <td>0.057175</td>\n",
       "    </tr>\n",
       "    <tr>\n",
       "      <th>3</th>\n",
       "      <td>ENBI</td>\n",
       "      <td>0.056544</td>\n",
       "    </tr>\n",
       "    <tr>\n",
       "      <th>4</th>\n",
       "      <td>PLTH</td>\n",
       "      <td>0.056092</td>\n",
       "    </tr>\n",
       "    <tr>\n",
       "      <th>...</th>\n",
       "      <td>...</td>\n",
       "      <td>...</td>\n",
       "    </tr>\n",
       "    <tr>\n",
       "      <th>73</th>\n",
       "      <td>DIVMAT_C-W</td>\n",
       "      <td>0.001604</td>\n",
       "    </tr>\n",
       "    <tr>\n",
       "      <th>74</th>\n",
       "      <td>EVAP_C-BO</td>\n",
       "      <td>0.001445</td>\n",
       "    </tr>\n",
       "    <tr>\n",
       "      <th>75</th>\n",
       "      <td>EVAP_TI</td>\n",
       "      <td>0.001361</td>\n",
       "    </tr>\n",
       "    <tr>\n",
       "      <th>76</th>\n",
       "      <td>DIVNAME_OPEN</td>\n",
       "      <td>0.001255</td>\n",
       "    </tr>\n",
       "    <tr>\n",
       "      <th>77</th>\n",
       "      <td>EVAP_SILICON</td>\n",
       "      <td>0.001084</td>\n",
       "    </tr>\n",
       "  </tbody>\n",
       "</table>\n",
       "<p>78 rows × 2 columns</p>\n",
       "</div>"
      ],
      "text/plain": [
       "         feature  importance\n",
       "0         WFFORM    0.075109\n",
       "1           WMHD    0.063903\n",
       "2          QCYL5    0.057175\n",
       "3           ENBI    0.056544\n",
       "4           PLTH    0.056092\n",
       "..           ...         ...\n",
       "73    DIVMAT_C-W    0.001604\n",
       "74     EVAP_C-BO    0.001445\n",
       "75       EVAP_TI    0.001361\n",
       "76  DIVNAME_OPEN    0.001255\n",
       "77  EVAP_SILICON    0.001084\n",
       "\n",
       "[78 rows x 2 columns]"
      ]
     },
     "execution_count": 14,
     "metadata": {},
     "output_type": "execute_result"
    }
   ],
   "source": [
    "# Quite Important\n",
    "df[df.importance > 1e-3]"
   ]
  },
  {
   "cell_type": "code",
   "execution_count": 15,
   "id": "c2b46ed3",
   "metadata": {},
   "outputs": [
    {
     "data": {
      "text/html": [
       "<div>\n",
       "<style scoped>\n",
       "    .dataframe tbody tr th:only-of-type {\n",
       "        vertical-align: middle;\n",
       "    }\n",
       "\n",
       "    .dataframe tbody tr th {\n",
       "        vertical-align: top;\n",
       "    }\n",
       "\n",
       "    .dataframe thead th {\n",
       "        text-align: right;\n",
       "    }\n",
       "</style>\n",
       "<table border=\"1\" class=\"dataframe\">\n",
       "  <thead>\n",
       "    <tr style=\"text-align: right;\">\n",
       "      <th></th>\n",
       "      <th>feature</th>\n",
       "      <th>importance</th>\n",
       "    </tr>\n",
       "  </thead>\n",
       "  <tbody>\n",
       "    <tr>\n",
       "      <th>78</th>\n",
       "      <td>ELMTYPE_TYPE-V</td>\n",
       "      <td>8.126114e-04</td>\n",
       "    </tr>\n",
       "    <tr>\n",
       "      <th>79</th>\n",
       "      <td>DIVNAME_ADP</td>\n",
       "      <td>7.030220e-04</td>\n",
       "    </tr>\n",
       "    <tr>\n",
       "      <th>80</th>\n",
       "      <td>DIVNAME_RIB</td>\n",
       "      <td>6.594162e-04</td>\n",
       "    </tr>\n",
       "    <tr>\n",
       "      <th>81</th>\n",
       "      <td>ICSCHEME_H2NDHARM</td>\n",
       "      <td>5.705726e-04</td>\n",
       "    </tr>\n",
       "    <tr>\n",
       "      <th>82</th>\n",
       "      <td>AUXHEAT_IC</td>\n",
       "      <td>5.297819e-04</td>\n",
       "    </tr>\n",
       "    <tr>\n",
       "      <th>83</th>\n",
       "      <td>PELLET_H</td>\n",
       "      <td>4.413729e-04</td>\n",
       "    </tr>\n",
       "    <tr>\n",
       "      <th>84</th>\n",
       "      <td>WALMAT_AL</td>\n",
       "      <td>4.393727e-04</td>\n",
       "    </tr>\n",
       "    <tr>\n",
       "      <th>85</th>\n",
       "      <td>AUXHEAT_NBECIC</td>\n",
       "      <td>3.761003e-04</td>\n",
       "    </tr>\n",
       "    <tr>\n",
       "      <th>86</th>\n",
       "      <td>DIVMAT_IN</td>\n",
       "      <td>3.527408e-04</td>\n",
       "    </tr>\n",
       "    <tr>\n",
       "      <th>87</th>\n",
       "      <td>AUXHEAT_NONE</td>\n",
       "      <td>2.877940e-04</td>\n",
       "    </tr>\n",
       "    <tr>\n",
       "      <th>88</th>\n",
       "      <td>CONFIG_DND</td>\n",
       "      <td>2.606045e-04</td>\n",
       "    </tr>\n",
       "    <tr>\n",
       "      <th>89</th>\n",
       "      <td>DIVMAT_SS</td>\n",
       "      <td>2.379569e-04</td>\n",
       "    </tr>\n",
       "    <tr>\n",
       "      <th>90</th>\n",
       "      <td>ELMTYPE_TYPE-1+2</td>\n",
       "      <td>2.258977e-04</td>\n",
       "    </tr>\n",
       "    <tr>\n",
       "      <th>91</th>\n",
       "      <td>DIVNAME_MARKIA</td>\n",
       "      <td>2.132080e-04</td>\n",
       "    </tr>\n",
       "    <tr>\n",
       "      <th>92</th>\n",
       "      <td>ELMTYPE_TYPE-RF</td>\n",
       "      <td>2.110780e-04</td>\n",
       "    </tr>\n",
       "    <tr>\n",
       "      <th>93</th>\n",
       "      <td>ICSCHEME_HE3MIN-T</td>\n",
       "      <td>2.049906e-04</td>\n",
       "    </tr>\n",
       "    <tr>\n",
       "      <th>94</th>\n",
       "      <td>LIMMAT_MO</td>\n",
       "      <td>1.629265e-04</td>\n",
       "    </tr>\n",
       "    <tr>\n",
       "      <th>95</th>\n",
       "      <td>DIVMAT_C/BE</td>\n",
       "      <td>1.331446e-04</td>\n",
       "    </tr>\n",
       "    <tr>\n",
       "      <th>96</th>\n",
       "      <td>EVAP_C</td>\n",
       "      <td>1.165704e-04</td>\n",
       "    </tr>\n",
       "    <tr>\n",
       "      <th>97</th>\n",
       "      <td>WALMAT_CSS</td>\n",
       "      <td>1.152569e-04</td>\n",
       "    </tr>\n",
       "    <tr>\n",
       "      <th>98</th>\n",
       "      <td>EVAP_DECABOA</td>\n",
       "      <td>1.142896e-04</td>\n",
       "    </tr>\n",
       "    <tr>\n",
       "      <th>99</th>\n",
       "      <td>DIVNAME_DIV1</td>\n",
       "      <td>9.015275e-05</td>\n",
       "    </tr>\n",
       "    <tr>\n",
       "      <th>100</th>\n",
       "      <td>DIVMAT_NONE</td>\n",
       "      <td>5.378961e-05</td>\n",
       "    </tr>\n",
       "    <tr>\n",
       "      <th>101</th>\n",
       "      <td>ELMTYPE_TYPE-1+5</td>\n",
       "      <td>3.404590e-05</td>\n",
       "    </tr>\n",
       "    <tr>\n",
       "      <th>102</th>\n",
       "      <td>CONFIG_LIM</td>\n",
       "      <td>3.311141e-05</td>\n",
       "    </tr>\n",
       "    <tr>\n",
       "      <th>103</th>\n",
       "      <td>DIVMAT_MO</td>\n",
       "      <td>2.781029e-05</td>\n",
       "    </tr>\n",
       "    <tr>\n",
       "      <th>104</th>\n",
       "      <td>CONFIG_MAR</td>\n",
       "      <td>1.149863e-05</td>\n",
       "    </tr>\n",
       "    <tr>\n",
       "      <th>105</th>\n",
       "      <td>CONFIG_IW</td>\n",
       "      <td>5.006480e-06</td>\n",
       "    </tr>\n",
       "    <tr>\n",
       "      <th>106</th>\n",
       "      <td>EVAP_UNKNOWN</td>\n",
       "      <td>4.405347e-06</td>\n",
       "    </tr>\n",
       "    <tr>\n",
       "      <th>107</th>\n",
       "      <td>AUXHEAT_EC</td>\n",
       "      <td>2.906414e-06</td>\n",
       "    </tr>\n",
       "    <tr>\n",
       "      <th>108</th>\n",
       "      <td>CONFIG_TOP</td>\n",
       "      <td>5.275441e-09</td>\n",
       "    </tr>\n",
       "    <tr>\n",
       "      <th>109</th>\n",
       "      <td>EVAP_C-H</td>\n",
       "      <td>0.000000e+00</td>\n",
       "    </tr>\n",
       "    <tr>\n",
       "      <th>110</th>\n",
       "      <td>CONFIG_BOT</td>\n",
       "      <td>0.000000e+00</td>\n",
       "    </tr>\n",
       "  </tbody>\n",
       "</table>\n",
       "</div>"
      ],
      "text/plain": [
       "               feature    importance\n",
       "78      ELMTYPE_TYPE-V  8.126114e-04\n",
       "79         DIVNAME_ADP  7.030220e-04\n",
       "80         DIVNAME_RIB  6.594162e-04\n",
       "81   ICSCHEME_H2NDHARM  5.705726e-04\n",
       "82          AUXHEAT_IC  5.297819e-04\n",
       "83            PELLET_H  4.413729e-04\n",
       "84           WALMAT_AL  4.393727e-04\n",
       "85      AUXHEAT_NBECIC  3.761003e-04\n",
       "86           DIVMAT_IN  3.527408e-04\n",
       "87        AUXHEAT_NONE  2.877940e-04\n",
       "88          CONFIG_DND  2.606045e-04\n",
       "89           DIVMAT_SS  2.379569e-04\n",
       "90    ELMTYPE_TYPE-1+2  2.258977e-04\n",
       "91      DIVNAME_MARKIA  2.132080e-04\n",
       "92     ELMTYPE_TYPE-RF  2.110780e-04\n",
       "93   ICSCHEME_HE3MIN-T  2.049906e-04\n",
       "94           LIMMAT_MO  1.629265e-04\n",
       "95         DIVMAT_C/BE  1.331446e-04\n",
       "96              EVAP_C  1.165704e-04\n",
       "97          WALMAT_CSS  1.152569e-04\n",
       "98        EVAP_DECABOA  1.142896e-04\n",
       "99        DIVNAME_DIV1  9.015275e-05\n",
       "100        DIVMAT_NONE  5.378961e-05\n",
       "101   ELMTYPE_TYPE-1+5  3.404590e-05\n",
       "102         CONFIG_LIM  3.311141e-05\n",
       "103          DIVMAT_MO  2.781029e-05\n",
       "104         CONFIG_MAR  1.149863e-05\n",
       "105          CONFIG_IW  5.006480e-06\n",
       "106       EVAP_UNKNOWN  4.405347e-06\n",
       "107         AUXHEAT_EC  2.906414e-06\n",
       "108         CONFIG_TOP  5.275441e-09\n",
       "109           EVAP_C-H  0.000000e+00\n",
       "110         CONFIG_BOT  0.000000e+00"
      ]
     },
     "execution_count": 15,
     "metadata": {},
     "output_type": "execute_result"
    }
   ],
   "source": [
    "# Not so important\n",
    "df[df.importance < 1e-3]"
   ]
  },
  {
   "cell_type": "code",
   "execution_count": 16,
   "id": "e2f69e4f",
   "metadata": {},
   "outputs": [
    {
     "data": {
      "text/plain": [
       "array(['DN', 'SN', 'SN(L)', 'SN(U)', 'MAR', 'TOP', 'BOT', 'IW', 'DND',\n",
       "       'LIM'], dtype=object)"
      ]
     },
     "execution_count": 16,
     "metadata": {},
     "output_type": "execute_result"
    }
   ],
   "source": [
    "data[\"CONFIG\"].unique()"
   ]
  },
  {
   "cell_type": "code",
   "execution_count": null,
   "id": "2dc7633d",
   "metadata": {},
   "outputs": [],
   "source": []
  }
 ],
 "metadata": {
  "kernelspec": {
   "display_name": "Python 3 (ipykernel)",
   "language": "python",
   "name": "python3"
  },
  "language_info": {
   "codemirror_mode": {
    "name": "ipython",
    "version": 3
   },
   "file_extension": ".py",
   "mimetype": "text/x-python",
   "name": "python",
   "nbconvert_exporter": "python",
   "pygments_lexer": "ipython3",
   "version": "3.10.10"
  }
 },
 "nbformat": 4,
 "nbformat_minor": 5
}
