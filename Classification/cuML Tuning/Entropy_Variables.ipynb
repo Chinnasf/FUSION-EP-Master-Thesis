{
 "cells": [
  {
   "cell_type": "code",
   "execution_count": 1,
   "id": "3f691e30",
   "metadata": {},
   "outputs": [],
   "source": [
    "%load_ext autoreload\n",
    "%autoreload 2"
   ]
  },
  {
   "cell_type": "markdown",
   "id": "9a9ebacf",
   "metadata": {},
   "source": [
    "# Entropy Variables\n",
    "## `cuML` Implementation - GPU Machine Learning Algorithms\n",
    "\n",
    "[Source](https://github.com/rapidsai/cuml)\n",
    "\n",
    "\"cuML is a suite of libraries that implement machine learning algorithms and mathematical primitives functions that share compatible APIs with other RAPIDS projects.\n",
    "\n",
    "cuML enables data scientists, researchers, and software engineers to run traditional tabular ML tasks on GPUs without going into the details of CUDA programming. In most cases, cuML's Python API matches the API from scikit-learn.\"\n",
    "\n",
    "\n",
    "Why do I want to implement this? because, the normal version takes above two hourse to run. "
   ]
  },
  {
   "cell_type": "code",
   "execution_count": 2,
   "id": "4f834bdc",
   "metadata": {},
   "outputs": [],
   "source": [
    "import sys\n",
    "sys.path.append('../../')\n",
    "import tokamakTK\n",
    "\n",
    "import numpy as np \n",
    "import pandas as pd\n",
    "import matplotlib.pyplot as plt\n",
    "import scipy as sp\n",
    "import statsmodels.api as sm\n",
    "import matplotlib.patches as mpatches\n",
    "\n",
    "import cudf\n",
    "import cupy as cp\n",
    "\n",
    "from cuml.ensemble import RandomForestClassifier\n",
    "from cuml.model_selection import train_test_split, GridSearchCV, StratifiedKFold\n",
    "\n",
    "from sklearn.preprocessing import StandardScaler, OneHotEncoder, LabelBinarizer\n",
    "from cuml.metrics import precision_recall_curve\n",
    "from sklearn.metrics import precision_recall_fscore_support\n",
    "\n",
    "\n",
    "from IPython.core.debugger import Pdb #Pdb().set_trace()\n",
    "\n",
    "\n",
    "pd.set_option('display.max_columns', None)\n",
    "path = \"../../data/\""
   ]
  },
  {
   "cell_type": "code",
   "execution_count": 3,
   "id": "b09db631",
   "metadata": {},
   "outputs": [
    {
     "name": "stdout",
     "output_type": "stream",
     "text": [
      "23.45% of the data decreased alpha_R\n",
      "76.55% of the data did not decrease alpha_R\n"
     ]
    }
   ],
   "source": [
    "# Obtained from Optimization\n",
    "\n",
    "min_subset_ids = pd.read_csv(path+\"R_ids_alpha_0.6357.csv\")\n",
    "\n",
    "DB2 = pd.read_csv(path+\"DB2P8.csv\")\n",
    "DB5 = pd.read_csv(path+\"SELDB5_SVD.csv\", low_memory=False) \n",
    "\n",
    "# Setting ELMy Dataset\n",
    "DB5 = DB5[DB5[\"PHASE\"].isin(['HGELM', 'HSELM', 'HGELMH', 'HSELMH'])]\n",
    "\n",
    "# There is two shots from DB2P8 missing in DB5\n",
    "missing_shots = DB2[~DB2.id.isin( DB5.id.values )].reset_index(drop=True)\n",
    "DB5 = pd.concat([DB5, missing_shots], axis=0, ignore_index=True)\n",
    "\n",
    "# Labeling shots that had great impact in decreasing alpha_R\n",
    "DB5.insert(loc=2,column=\"label\",value=[0]*len(DB5))\n",
    "DB5.loc[(DB5[DB5.id.isin(min_subset_ids.id)].index), \"label\"] = 1\n",
    "\n",
    "\n",
    "print(\n",
    "    f\"{ round( (len(min_subset_ids)/len(DB5))*100     ,2)  }% of the data decreased alpha_R\\n\" + \n",
    "    f\"{ round( (1 - len(min_subset_ids)/len(DB5))*100 ,2)  }% of the data did not decrease alpha_R\"\n",
    ")"
   ]
  },
  {
   "cell_type": "markdown",
   "id": "0adc6e00",
   "metadata": {},
   "source": [
    "Class distribution can be considered is skewed.\n",
    "\n",
    "## Setting Features of Interest and Treatment to Categorical and Numerical Data"
   ]
  },
  {
   "cell_type": "code",
   "execution_count": 4,
   "id": "b5b5dd56",
   "metadata": {},
   "outputs": [],
   "source": [
    "entropy_features = ['ZEFFNEO', 'WFICFORM', 'DWDIA', 'RHOSTAR', 'NEL', \n",
    "                    'ENBI', 'WMHD', 'TAV', 'BETASTAR', 'WFFORM', 'NUSTAR', \n",
    "                    'PICRH', 'QCYL5', 'PECRH', 'ZEFF', 'BEIMHD', 'PFLOSS', 'BT', \n",
    "                    'PLTH', 'POHM', 'PRAD', 'LHTIME', 'ELMFREQ', 'WALMAT', \n",
    "                    'DIVNAME', 'NESOL', 'TORQ', 'LIMMAT', 'HYBRID', 'EVAP', \n",
    "                    'ECHMODE', 'PREMAG', 'DIVMAT']\n",
    "\n",
    "DB5 = tokamakTK.clean_categorical_data(DB5)\n",
    "\n",
    "\n",
    "# Needed to respectively clean each dtype\n",
    "num_features = DB5[entropy_features].select_dtypes(include=['int', 'float']).columns.tolist()\n",
    "cat_features = DB5[entropy_features].select_dtypes(include=['object']).columns.tolist()\n",
    "\n",
    "\n",
    "data_num = DB5[num_features+[\"TOK\",\"DATE\"]]\n",
    "data_cat = DB5[cat_features]\n",
    "\n",
    "\n",
    "data_num = tokamakTK.clean_numerical_data(data_num)\n",
    "\n",
    "\n",
    "data_ = pd.concat([data_num,\n",
    "                  (pd.concat([\n",
    "                       DB5[[\"label\"]], \n",
    "                       tokamakTK.encode_categorical_ohe(data_cat)\n",
    "                      ], axis=1)\n",
    "                  )],\n",
    "                  axis=1)"
   ]
  },
  {
   "cell_type": "markdown",
   "id": "f3044ccd",
   "metadata": {},
   "source": [
    "This is what I had before to join comlumns.\n",
    "\n",
    "```Python\n",
    "DB5_ = pd.DataFrame(StandardScaler().fit_transform( DB5[num_features] ), columns = num_features)\n",
    "data = pd.concat([DB5_,DB5[categorical]], axis=1, join=\"inner\")\n",
    "```"
   ]
  },
  {
   "cell_type": "code",
   "execution_count": 5,
   "id": "9b787f68",
   "metadata": {
    "scrolled": false
   },
   "outputs": [],
   "source": [
    "X = cudf.DataFrame(data_.drop(\"label\", axis=\"columns\"))\n",
    "y = cudf.Series( data_[\"label\"] )\n",
    "\n",
    "# split data\n",
    "X_train, X_val, y_train, y_val = train_test_split(X, y, test_size=0.3, random_state=71, stratify=y)\n",
    "\n",
    "# Convert cuDF dataframes to cuPy arrays\n",
    "X_train_cupy = X_train.astype('float32').to_cupy().get()\n",
    "y_train_cupy = y_train.astype('float32').to_cupy().get()"
   ]
  },
  {
   "cell_type": "code",
   "execution_count": 6,
   "id": "eb211e9d",
   "metadata": {
    "scrolled": false
   },
   "outputs": [
    {
     "name": "stderr",
     "output_type": "stream",
     "text": [
      "/home/chinas/.local/lib/python3.10/site-packages/sklearn/model_selection/_validation.py:378: FitFailedWarning: \n",
      "600 fits failed out of a total of 2400.\n",
      "The score on these train-test partitions for these parameters will be set to nan.\n",
      "If these failures are not expected, you can try to debug them by setting error_score='raise'.\n",
      "\n",
      "Below are more details about the failures:\n",
      "--------------------------------------------------------------------------------\n",
      "600 fits failed with the following error:\n",
      "Traceback (most recent call last):\n",
      "  File \"/home/chinas/.local/lib/python3.10/site-packages/sklearn/model_selection/_validation.py\", line 686, in _fit_and_score\n",
      "    estimator.fit(X_train, y_train, **fit_params)\n",
      "  File \"/home/chinas/miniconda3/envs/thesis/lib/python3.10/contextlib.py\", line 79, in inner\n",
      "    return func(*args, **kwds)\n",
      "  File \"/home/chinas/miniconda3/envs/thesis/lib/python3.10/site-packages/cuml/internals/api_decorators.py\", line 188, in wrapper\n",
      "    ret = func(*args, **kwargs)\n",
      "  File \"randomforestclassifier.pyx\", line 461, in cuml.ensemble.randomforestclassifier.RandomForestClassifier.fit\n",
      "RuntimeError: exception occurred! file=/opt/conda/conda-bld/work/cpp/src/decisiontree/decisiontree.cu line=41: Invalid value for min_samples_split: 1. Should be >= 2.\n",
      "Obtained 64 stack frames\n",
      "#0 in /home/chinas/miniconda3/envs/thesis/lib/python3.10/site-packages/cuml/internals/../../../../libcuml++.so(_ZN4raft9exception18collect_call_stackEv+0x84) [0x7ff5ba47dfc4]\n",
      "#1 in /home/chinas/miniconda3/envs/thesis/lib/python3.10/site-packages/cuml/internals/../../../../libcuml++.so(+0x2e64be) [0x7ff5ba2e64be]\n",
      "#2 in /home/chinas/miniconda3/envs/thesis/lib/python3.10/site-packages/cuml/internals/../../../../libcuml++.so(_ZN2ML2DT15set_tree_paramsERNS0_18DecisionTreeParamsEiifiiifNS_9CRITERIONEi+0x61) [0x7ff5ba5a0431]\n",
      "#3 in /home/chinas/miniconda3/envs/thesis/lib/python3.10/site-packages/cuml/internals/../../../../libcuml++.so(_ZN2ML13set_rf_paramsEiifiiifbifmNS_9CRITERIONEii+0x45) [0x7ff5bb09a4f5]\n",
      "#4 in /home/chinas/miniconda3/envs/thesis/lib/python3.10/site-packages/cuml/ensemble/randomforestclassifier.cpython-310-x86_64-linux-gnu.so(+0x31bf8) [0x7ff5ec3bcbf8]\n",
      "#5 in /home/chinas/miniconda3/envs/thesis/bin/python(PyObject_Call+0x209) [0x50cdc9]\n",
      "#6 in /home/chinas/miniconda3/envs/thesis/bin/python(_PyEval_EvalFrameDefault+0x2de4) [0x4f3644]\n",
      "#7 in /home/chinas/miniconda3/envs/thesis/bin/python(_PyFunction_Vectorcall+0x6f) [0x5008cf]\n",
      "#8 in /home/chinas/miniconda3/envs/thesis/bin/python(_PyEval_EvalFrameDefault+0x2de4) [0x4f3644]\n",
      "#9 in /home/chinas/miniconda3/envs/thesis/bin/python() [0x50c2a6]\n",
      "#10 in /home/chinas/miniconda3/envs/thesis/bin/python(_PyEval_EvalFrameDefault+0x2de4) [0x4f3644]\n",
      "#11 in /home/chinas/miniconda3/envs/thesis/bin/python(_PyFunction_Vectorcall+0x6f) [0x5008cf]\n",
      "#12 in /home/chinas/miniconda3/envs/thesis/bin/python(PyObject_Call+0xb8) [0x50cc78]\n",
      "#13 in /home/chinas/miniconda3/envs/thesis/bin/python(_PyEval_EvalFrameDefault+0x2de4) [0x4f3644]\n",
      "#14 in /home/chinas/miniconda3/envs/thesis/bin/python(_PyFunction_Vectorcall+0x6f) [0x5008cf]\n",
      "#15 in /home/chinas/miniconda3/envs/thesis/bin/python(_PyObject_FastCallDictTstate+0x17d) [0x4f8fdd]\n",
      "#16 in /home/chinas/miniconda3/envs/thesis/bin/python(_PyObject_Call_Prepend+0x66) [0x50a6b6]\n",
      "#17 in /home/chinas/miniconda3/envs/thesis/bin/python() [0x5d41b3]\n",
      "#18 in /home/chinas/miniconda3/envs/thesis/bin/python(PyObject_Call+0x209) [0x50cdc9]\n",
      "#19 in /home/chinas/miniconda3/envs/thesis/bin/python(_PyEval_EvalFrameDefault+0x2de4) [0x4f3644]\n",
      "#20 in /home/chinas/miniconda3/envs/thesis/bin/python(_PyFunction_Vectorcall+0x6f) [0x5008cf]\n",
      "#21 in /home/chinas/miniconda3/envs/thesis/bin/python(_PyEval_EvalFrameDefault+0x31f) [0x4f0b7f]\n",
      "#22 in /home/chinas/miniconda3/envs/thesis/bin/python(_PyObject_FastCallDictTstate+0xcd) [0x4f8f2d]\n",
      "#23 in /home/chinas/miniconda3/envs/thesis/bin/python(_PyObject_Call_Prepend+0x66) [0x50a6b6]\n",
      "#24 in /home/chinas/miniconda3/envs/thesis/bin/python() [0x5d41b3]\n",
      "#25 in /home/chinas/miniconda3/envs/thesis/bin/python(_PyObject_MakeTpCall+0x25b) [0x4f9bdb]\n",
      "#26 in /home/chinas/miniconda3/envs/thesis/bin/python(_PyEval_EvalFrameDefault+0x4ddb) [0x4f563b]\n",
      "#27 in /home/chinas/miniconda3/envs/thesis/bin/python(_PyObject_FastCallDictTstate+0xcd) [0x4f8f2d]\n",
      "#28 in /home/chinas/miniconda3/envs/thesis/bin/python() [0x509d08]\n",
      "#29 in /home/chinas/miniconda3/envs/thesis/bin/python(_PyObject_MakeTpCall+0x2ab) [0x4f9c2b]\n",
      "#30 in /home/chinas/miniconda3/envs/thesis/bin/python(_PyEval_EvalFrameDefault+0x4ddb) [0x4f563b]\n",
      "#31 in /home/chinas/miniconda3/envs/thesis/bin/python() [0x50c14e]\n",
      "#32 in /home/chinas/miniconda3/envs/thesis/bin/python(_PyEval_EvalFrameDefault+0x13b2) [0x4f1c12]\n",
      "#33 in /home/chinas/miniconda3/envs/thesis/bin/python(_PyFunction_Vectorcall+0x6f) [0x5008cf]\n",
      "#34 in /home/chinas/miniconda3/envs/thesis/bin/python(_PyEval_EvalFrameDefault+0x731) [0x4f0f91]\n",
      "#35 in /home/chinas/miniconda3/envs/thesis/bin/python(_PyFunction_Vectorcall+0x6f) [0x5008cf]\n",
      "#36 in /home/chinas/miniconda3/envs/thesis/bin/python(_PyEval_EvalFrameDefault+0x731) [0x4f0f91]\n",
      "#37 in /home/chinas/miniconda3/envs/thesis/bin/python(_PyObject_FastCallDictTstate+0xcd) [0x4f8f2d]\n",
      "#38 in /home/chinas/miniconda3/envs/thesis/bin/python(_PyObject_Call_Prepend+0x66) [0x50a6b6]\n",
      "#39 in /home/chinas/miniconda3/envs/thesis/bin/python() [0x5d41b3]\n",
      "#40 in /home/chinas/miniconda3/envs/thesis/bin/python(_PyObject_MakeTpCall+0x25b) [0x4f9bdb]\n",
      "#41 in /home/chinas/miniconda3/envs/thesis/bin/python(_PyEval_EvalFrameDefault+0x4ddb) [0x4f563b]\n",
      "#42 in /home/chinas/miniconda3/envs/thesis/bin/python(_PyFunction_Vectorcall+0x6f) [0x5008cf]\n",
      "#43 in /home/chinas/miniconda3/envs/thesis/bin/python(_PyEval_EvalFrameDefault+0x31f) [0x4f0b7f]\n",
      "#44 in /home/chinas/miniconda3/envs/thesis/bin/python(_PyFunction_Vectorcall+0x6f) [0x5008cf]\n",
      "#45 in /home/chinas/miniconda3/envs/thesis/bin/python(_PyEval_EvalFrameDefault+0x731) [0x4f0f91]\n",
      "#46 in /home/chinas/miniconda3/envs/thesis/bin/python(_PyFunction_Vectorcall+0x6f) [0x5008cf]\n",
      "#47 in /home/chinas/miniconda3/envs/thesis/bin/python(_PyEval_EvalFrameDefault+0x731) [0x4f0f91]\n",
      "#48 in /home/chinas/miniconda3/envs/thesis/bin/python() [0x5987e2]\n",
      "#49 in /home/chinas/miniconda3/envs/thesis/bin/python(PyEval_EvalCode+0x87) [0x598727]\n",
      "#50 in /home/chinas/miniconda3/envs/thesis/bin/python() [0x59fc1d]\n",
      "#51 in /home/chinas/miniconda3/envs/thesis/bin/python() [0x500ab4]\n",
      "#52 in /home/chinas/miniconda3/envs/thesis/bin/python(_PyEval_EvalFrameDefault+0x31f) [0x4f0b7f]\n",
      "#53 in /home/chinas/miniconda3/envs/thesis/bin/python() [0x5a2239]\n",
      "#54 in /home/chinas/miniconda3/envs/thesis/bin/python(_PyEval_EvalFrameDefault+0x1b68) [0x4f23c8]\n",
      "#55 in /home/chinas/miniconda3/envs/thesis/bin/python() [0x5a2239]\n",
      "#56 in /home/chinas/miniconda3/envs/thesis/bin/python(_PyEval_EvalFrameDefault+0x1b68) [0x4f23c8]\n",
      "#57 in /home/chinas/miniconda3/envs/thesis/bin/python() [0x5a2239]\n",
      "#58 in /home/chinas/miniconda3/envs/thesis/bin/python() [0x5b7386]\n",
      "#59 in /home/chinas/miniconda3/envs/thesis/bin/python() [0x50afcf]\n",
      "#60 in /home/chinas/miniconda3/envs/thesis/bin/python(_PyEval_EvalFrameDefault+0x731) [0x4f0f91]\n",
      "#61 in /home/chinas/miniconda3/envs/thesis/bin/python(_PyFunction_Vectorcall+0x6f) [0x5008cf]\n",
      "#62 in /home/chinas/miniconda3/envs/thesis/bin/python(_PyEval_EvalFrameDefault+0x31f) [0x4f0b7f]\n",
      "#63 in /home/chinas/miniconda3/envs/thesis/bin/python(_PyFunction_Vectorcall+0x6f) [0x5008cf]\n",
      "\n",
      "\n",
      "  warnings.warn(some_fits_failed_message, FitFailedWarning)\n",
      "/home/chinas/.local/lib/python3.10/site-packages/sklearn/model_selection/_search.py:953: UserWarning: One or more of the test scores are non-finite: [       nan        nan        nan 0.7291167  0.7339901  0.7320198\n",
      " 0.72228251 0.72130211 0.72519513 0.71546735 0.71837997 0.71840853\n",
      "        nan        nan        nan 0.71744717 0.71939844 0.72134019\n",
      " 0.71744717 0.71939844 0.72134019 0.71643823 0.71643823 0.71644774\n",
      "        nan        nan        nan 0.71449648 0.71643823 0.72033124\n",
      " 0.71449648 0.71643823 0.72033124 0.71449648 0.71643823 0.72033124\n",
      "        nan        nan        nan 0.69010089 0.69012945 0.68817818\n",
      " 0.69010089 0.69012945 0.68817818 0.69010089 0.69012945 0.68817818\n",
      "        nan        nan        nan 0.74276604 0.74374643 0.7447173\n",
      " 0.74178565 0.74373691 0.74177613 0.72717495 0.7281363  0.72717495\n",
      "        nan        nan        nan 0.72427184 0.7223301  0.72425281\n",
      " 0.72427184 0.7223301  0.72425281 0.72522368 0.72620407 0.72814582\n",
      "        nan        nan        nan 0.72814582 0.72716543 0.7281363\n",
      " 0.72814582 0.72716543 0.7281363  0.72814582 0.72716543 0.7281363\n",
      "        nan        nan        nan 0.6949743  0.69500286 0.69597373\n",
      " 0.6949743  0.69500286 0.69597373 0.6949743  0.69500286 0.69597373\n",
      "        nan        nan        nan 0.74373691 0.7447173  0.74665905\n",
      " 0.74373691 0.7447173  0.74567866 0.72814582 0.72814582 0.72717495\n",
      "        nan        nan        nan 0.72817438 0.72524272 0.72719398\n",
      " 0.72817438 0.72524272 0.72719398 0.72814582 0.72717495 0.7291167\n",
      "        nan        nan        nan 0.72814582 0.73204835 0.7291167\n",
      " 0.72814582 0.73204835 0.7291167  0.72814582 0.73204835 0.7291167\n",
      "        nan        nan        nan 0.69594517 0.69500286 0.69500286\n",
      " 0.69594517 0.69500286 0.69500286 0.69594517 0.69500286 0.69500286\n",
      "        nan        nan        nan 0.74373691 0.7447173  0.74665905\n",
      " 0.74373691 0.74568818 0.74567866 0.72912621 0.72814582 0.72717495\n",
      "        nan        nan        nan 0.72817438 0.72622311 0.72719398\n",
      " 0.72817438 0.72622311 0.72719398 0.72814582 0.72814582 0.73008757\n",
      "        nan        nan        nan 0.72814582 0.73204835 0.7291167\n",
      " 0.72814582 0.73204835 0.7291167  0.72814582 0.73204835 0.7291167\n",
      "        nan        nan        nan 0.69594517 0.69500286 0.69500286\n",
      " 0.69594517 0.69500286 0.69500286 0.69594517 0.69500286 0.69500286\n",
      "        nan        nan        nan 0.74373691 0.7447173  0.74665905\n",
      " 0.74373691 0.74568818 0.74567866 0.72912621 0.72814582 0.72717495\n",
      "        nan        nan        nan 0.72817438 0.72622311 0.72719398\n",
      " 0.72817438 0.72622311 0.72719398 0.72717495 0.72717495 0.73008757\n",
      "        nan        nan        nan 0.72814582 0.73204835 0.73008757\n",
      " 0.72814582 0.73204835 0.73008757 0.72814582 0.73204835 0.73008757\n",
      "        nan        nan        nan 0.69594517 0.69500286 0.69597373\n",
      " 0.69594517 0.69500286 0.69597373 0.69594517 0.69500286 0.69597373]\n",
      "  warnings.warn(\n"
     ]
    },
    {
     "data": {
      "text/html": [
       "<style>#sk-container-id-1 {color: black;background-color: white;}#sk-container-id-1 pre{padding: 0;}#sk-container-id-1 div.sk-toggleable {background-color: white;}#sk-container-id-1 label.sk-toggleable__label {cursor: pointer;display: block;width: 100%;margin-bottom: 0;padding: 0.3em;box-sizing: border-box;text-align: center;}#sk-container-id-1 label.sk-toggleable__label-arrow:before {content: \"▸\";float: left;margin-right: 0.25em;color: #696969;}#sk-container-id-1 label.sk-toggleable__label-arrow:hover:before {color: black;}#sk-container-id-1 div.sk-estimator:hover label.sk-toggleable__label-arrow:before {color: black;}#sk-container-id-1 div.sk-toggleable__content {max-height: 0;max-width: 0;overflow: hidden;text-align: left;background-color: #f0f8ff;}#sk-container-id-1 div.sk-toggleable__content pre {margin: 0.2em;color: black;border-radius: 0.25em;background-color: #f0f8ff;}#sk-container-id-1 input.sk-toggleable__control:checked~div.sk-toggleable__content {max-height: 200px;max-width: 100%;overflow: auto;}#sk-container-id-1 input.sk-toggleable__control:checked~label.sk-toggleable__label-arrow:before {content: \"▾\";}#sk-container-id-1 div.sk-estimator input.sk-toggleable__control:checked~label.sk-toggleable__label {background-color: #d4ebff;}#sk-container-id-1 div.sk-label input.sk-toggleable__control:checked~label.sk-toggleable__label {background-color: #d4ebff;}#sk-container-id-1 input.sk-hidden--visually {border: 0;clip: rect(1px 1px 1px 1px);clip: rect(1px, 1px, 1px, 1px);height: 1px;margin: -1px;overflow: hidden;padding: 0;position: absolute;width: 1px;}#sk-container-id-1 div.sk-estimator {font-family: monospace;background-color: #f0f8ff;border: 1px dotted black;border-radius: 0.25em;box-sizing: border-box;margin-bottom: 0.5em;}#sk-container-id-1 div.sk-estimator:hover {background-color: #d4ebff;}#sk-container-id-1 div.sk-parallel-item::after {content: \"\";width: 100%;border-bottom: 1px solid gray;flex-grow: 1;}#sk-container-id-1 div.sk-label:hover label.sk-toggleable__label {background-color: #d4ebff;}#sk-container-id-1 div.sk-serial::before {content: \"\";position: absolute;border-left: 1px solid gray;box-sizing: border-box;top: 0;bottom: 0;left: 50%;z-index: 0;}#sk-container-id-1 div.sk-serial {display: flex;flex-direction: column;align-items: center;background-color: white;padding-right: 0.2em;padding-left: 0.2em;position: relative;}#sk-container-id-1 div.sk-item {position: relative;z-index: 1;}#sk-container-id-1 div.sk-parallel {display: flex;align-items: stretch;justify-content: center;background-color: white;position: relative;}#sk-container-id-1 div.sk-item::before, #sk-container-id-1 div.sk-parallel-item::before {content: \"\";position: absolute;border-left: 1px solid gray;box-sizing: border-box;top: 0;bottom: 0;left: 50%;z-index: -1;}#sk-container-id-1 div.sk-parallel-item {display: flex;flex-direction: column;z-index: 1;position: relative;background-color: white;}#sk-container-id-1 div.sk-parallel-item:first-child::after {align-self: flex-end;width: 50%;}#sk-container-id-1 div.sk-parallel-item:last-child::after {align-self: flex-start;width: 50%;}#sk-container-id-1 div.sk-parallel-item:only-child::after {width: 0;}#sk-container-id-1 div.sk-dashed-wrapped {border: 1px dashed gray;margin: 0 0.4em 0.5em 0.4em;box-sizing: border-box;padding-bottom: 0.4em;background-color: white;}#sk-container-id-1 div.sk-label label {font-family: monospace;font-weight: bold;display: inline-block;line-height: 1.2em;}#sk-container-id-1 div.sk-label-container {text-align: center;}#sk-container-id-1 div.sk-container {/* jupyter's `normalize.less` sets `[hidden] { display: none; }` but bootstrap.min.css set `[hidden] { display: none !important; }` so we also need the `!important` here to be able to override the default hidden behavior on the sphinx rendered scikit-learn.org. See: https://github.com/scikit-learn/scikit-learn/issues/21755 */display: inline-block !important;position: relative;}#sk-container-id-1 div.sk-text-repr-fallback {display: none;}</style><div id=\"sk-container-id-1\" class=\"sk-top-container\"><div class=\"sk-text-repr-fallback\"><pre>GridSearchCV(cv=10, estimator=RandomForestClassifier(), n_jobs=1,\n",
       "             param_grid={&#x27;max_depth&#x27;: [15, 20, 23, 25, 27],\n",
       "                         &#x27;min_samples_leaf&#x27;: [1, 2, 3, 5],\n",
       "                         &#x27;min_samples_split&#x27;: [1, 2, 3, 5],\n",
       "                         &#x27;n_estimators&#x27;: [97, 100, 105]},\n",
       "             scoring=&#x27;recall&#x27;)</pre><b>In a Jupyter environment, please rerun this cell to show the HTML representation or trust the notebook. <br />On GitHub, the HTML representation is unable to render, please try loading this page with nbviewer.org.</b></div><div class=\"sk-container\" hidden><div class=\"sk-item sk-dashed-wrapped\"><div class=\"sk-label-container\"><div class=\"sk-label sk-toggleable\"><input class=\"sk-toggleable__control sk-hidden--visually\" id=\"sk-estimator-id-1\" type=\"checkbox\" ><label for=\"sk-estimator-id-1\" class=\"sk-toggleable__label sk-toggleable__label-arrow\">GridSearchCV</label><div class=\"sk-toggleable__content\"><pre>GridSearchCV(cv=10, estimator=RandomForestClassifier(), n_jobs=1,\n",
       "             param_grid={&#x27;max_depth&#x27;: [15, 20, 23, 25, 27],\n",
       "                         &#x27;min_samples_leaf&#x27;: [1, 2, 3, 5],\n",
       "                         &#x27;min_samples_split&#x27;: [1, 2, 3, 5],\n",
       "                         &#x27;n_estimators&#x27;: [97, 100, 105]},\n",
       "             scoring=&#x27;recall&#x27;)</pre></div></div></div><div class=\"sk-parallel\"><div class=\"sk-parallel-item\"><div class=\"sk-item\"><div class=\"sk-label-container\"><div class=\"sk-label sk-toggleable\"><input class=\"sk-toggleable__control sk-hidden--visually\" id=\"sk-estimator-id-2\" type=\"checkbox\" ><label for=\"sk-estimator-id-2\" class=\"sk-toggleable__label sk-toggleable__label-arrow\">estimator: RandomForestClassifier</label><div class=\"sk-toggleable__content\"><pre>RandomForestClassifier()</pre></div></div></div><div class=\"sk-serial\"><div class=\"sk-item\"><div class=\"sk-estimator sk-toggleable\"><input class=\"sk-toggleable__control sk-hidden--visually\" id=\"sk-estimator-id-3\" type=\"checkbox\" ><label for=\"sk-estimator-id-3\" class=\"sk-toggleable__label sk-toggleable__label-arrow\">RandomForestClassifier</label><div class=\"sk-toggleable__content\"><pre>RandomForestClassifier()</pre></div></div></div></div></div></div></div></div></div></div>"
      ],
      "text/plain": [
       "GridSearchCV(cv=10, estimator=RandomForestClassifier(), n_jobs=1,\n",
       "             param_grid={'max_depth': [15, 20, 23, 25, 27],\n",
       "                         'min_samples_leaf': [1, 2, 3, 5],\n",
       "                         'min_samples_split': [1, 2, 3, 5],\n",
       "                         'n_estimators': [97, 100, 105]},\n",
       "             scoring='recall')"
      ]
     },
     "execution_count": 6,
     "metadata": {},
     "output_type": "execute_result"
    }
   ],
   "source": [
    "# Define the hyperparameter grid for Random Forest\n",
    "param_grid = {\n",
    "    'n_estimators': [97, 100, 105],\n",
    "    'max_depth': [15, 20, 23, 25, 27],\n",
    "    'min_samples_split': [1,2,3, 5,],\n",
    "    'min_samples_leaf': [1,2,3, 5,],\n",
    "#    'max_features': ['sqrt', 'log2', None], # \n",
    "#    'criterion': ['gini', 'entropy'] not supported in cuML\n",
    "}\n",
    "\n",
    "\"\"\"\n",
    "{'max_depth': 23,\n",
    " 'max_features': 'sqrt',\n",
    " 'min_samples_leaf': 3,\n",
    " 'min_samples_split': 3,\n",
    " 'n_estimators': 100}\n",
    "\n",
    "\n",
    "(array([0.87052342, 0.91798942]),\n",
    " array([0.71818182, 0.96724739]),\n",
    " array([0.78704857, 0.94197489]),\n",
    " array([ 440, 1435]))\n",
    "\n",
    "---------------------------------\n",
    "\n",
    "{'max_depth': 23,\n",
    " 'min_samples_leaf': 1,\n",
    " 'min_samples_split': 2,\n",
    " 'n_estimators': 105}\n",
    " \n",
    "(array([0.86052632, 0.92441472]),\n",
    " array([0.74318182, 0.9630662 ]),\n",
    " array([0.79756098, 0.94334471]),\n",
    " array([ 440, 1435]))\n",
    "\n",
    "\"\"\"\n",
    "\n",
    "rf = RandomForestClassifier(max_features = \"sqrt\")\n",
    "grid_search = GridSearchCV(rf, \n",
    "                           param_grid, \n",
    "                           cv= 10, #StratifiedKFold(n_splits=10, shuffle=True, random_state=71), \n",
    "                           scoring='recall', \n",
    "                           n_jobs=1, \n",
    "                           refit=True\n",
    "                          )\n",
    "# Fit the GridSearchCV object to your training data\n",
    "grid_search.fit(X_train_cupy, y_train_cupy)\n",
    "\n",
    "\n",
    "# Takes less than 10 min to run"
   ]
  },
  {
   "cell_type": "code",
   "execution_count": 7,
   "id": "58e3d89a",
   "metadata": {},
   "outputs": [],
   "source": [
    "# Get the best hyperparameters and best model from the GridSearchCV\n",
    "best_params = grid_search.best_params_\n",
    "best_model = grid_search.best_estimator_\n",
    "\n",
    "# Train the best model on the entire training set\n",
    "best_model.fit(X_train_cupy, y_train_cupy)\n",
    "\n",
    "# Make predictions on the test set\n",
    "y_pred = best_model.predict_proba(X_val)"
   ]
  },
  {
   "cell_type": "code",
   "execution_count": 8,
   "id": "2f793027",
   "metadata": {},
   "outputs": [
    {
     "data": {
      "image/png": "[encoded data removed]",
      "text/plain": [
       "<Figure size 500x400 with 1 Axes>"
      ]
     },
     "metadata": {},
     "output_type": "display_data"
    }
   ],
   "source": [
    "plt.figure(figsize=(5,4))\n",
    "\n",
    "# keep probabilities for the positive outcome only\n",
    "y_pred = y_pred[1]\n",
    "# calculate pr-curve\n",
    "precision, recall, thresholds = precision_recall_curve(y_val, y_pred)\n",
    "# plot the roc curve for the model\n",
    "no_skill = len(y_val[y_val==1]) / len(y_val)\n",
    "plt.plot(recall, precision, marker='.', label='Default Random Forest', color=\"r\")\n",
    "plt.plot([0,1], [no_skill,no_skill], linestyle='--', label='No Skill', color=\"k\")\n",
    "plt.xlabel('Recall')\n",
    "plt.ylabel('Precision')\n",
    "plt.title(\"Entropy Variables\")\n",
    "plt.legend();"
   ]
  },
  {
   "cell_type": "code",
   "execution_count": 9,
   "id": "f0aa30d7",
   "metadata": {},
   "outputs": [
    {
     "data": {
      "text/plain": [
       "(array([0.86052632, 0.92441472]),\n",
       " array([0.74318182, 0.9630662 ]),\n",
       " array([0.79756098, 0.94334471]),\n",
       " array([ 440, 1435]))"
      ]
     },
     "execution_count": 9,
     "metadata": {},
     "output_type": "execute_result"
    }
   ],
   "source": [
    "y_pred_ = best_model.predict(X_val)\n",
    "precision_recall_fscore_support(y_val.to_numpy(), y_pred_.to_numpy(), labels=[1,0])"
   ]
  },
  {
   "cell_type": "code",
   "execution_count": 10,
   "id": "2dc7633d",
   "metadata": {},
   "outputs": [
    {
     "data": {
      "text/plain": [
       "{'max_depth': 23,\n",
       " 'min_samples_leaf': 1,\n",
       " 'min_samples_split': 2,\n",
       " 'n_estimators': 105}"
      ]
     },
     "execution_count": 10,
     "metadata": {},
     "output_type": "execute_result"
    }
   ],
   "source": [
    "best_params"
   ]
  },
  {
   "cell_type": "code",
   "execution_count": null,
   "id": "2dd07be2",
   "metadata": {},
   "outputs": [],
   "source": []
  }
 ],
 "metadata": {
  "kernelspec": {
   "display_name": "Python 3 (ipykernel)",
   "language": "python",
   "name": "python3"
  },
  "language_info": {
   "codemirror_mode": {
    "name": "ipython",
    "version": 3
   },
   "file_extension": ".py",
   "mimetype": "text/x-python",
   "name": "python",
   "nbconvert_exporter": "python",
   "pygments_lexer": "ipython3",
   "version": "3.10.10"
  }
 },
 "nbformat": 4,
 "nbformat_minor": 5
}
