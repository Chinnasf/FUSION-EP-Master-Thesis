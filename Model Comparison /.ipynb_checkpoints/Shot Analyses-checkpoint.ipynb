{
 "cells": [
  {
   "cell_type": "code",
   "execution_count": 1,
   "id": "284a3ae8",
   "metadata": {},
   "outputs": [],
   "source": [
    "%load_ext autoreload\n",
    "%autoreload 2"
   ]
  },
  {
   "cell_type": "code",
   "execution_count": 4,
   "id": "71c74598",
   "metadata": {},
   "outputs": [],
   "source": [
    "import sys\n",
    "sys.path.append('../')\n",
    "import tokamakTK\n",
    "from tokamakTK import get_ECT_regression, HUEOrder, get_pi_matrix, clean_numerical_data, MyCounter\n",
    "\n",
    "import numpy as np \n",
    "import pandas as pd\n",
    "import matplotlib.pyplot as plt\n",
    "import scipy as sp\n",
    "import statsmodels.api as sm\n",
    "import matplotlib.patches as mpatches\n",
    "import matplotlib.colors as mcolors\n",
    "import seaborn as sns\n",
    "import plotly.express as px\n",
    "from mpl_toolkits.mplot3d import Axes3D\n",
    "import plotly.subplots as plsp\n",
    "import plotly.graph_objects as go\n",
    "from plotly.subplots import make_subplots\n",
    "import matplotlib.ticker as ticker\n",
    "\n",
    "\n",
    "\n",
    "from collections import Counter\n",
    "\n",
    "pd.set_option('display.max_columns', None)\n",
    "plt.rc('font',family = 'serif')\n",
    "plt.rc('axes', axisbelow=True)\n",
    "\n",
    "path = \"../data/\"\n",
    "fig_path = \"../../../LATEX/Latex Images/\"\n",
    "plt.rcParams[\"mathtext.fontset\"] = \"cm\""
   ]
  },
  {
   "cell_type": "code",
   "execution_count": 6,
   "id": "ec9e7295",
   "metadata": {},
   "outputs": [
    {
     "name": "stdout",
     "output_type": "stream",
     "text": [
      "  Subset that decrease alpha-R to 0.6357\n",
      "--------\n",
      "23.45% affected alpha_R\n",
      "76.55% did not affect alpha_R\n",
      "\n",
      "\n",
      "  Subset that decrease alpha-R to 0.9998\n",
      "--------\n",
      "9.88% affected alpha_R\n",
      "90.12% did not affect alpha_R\n",
      "\n",
      "\n",
      "  Subset given by Joseph Hall           \n",
      "--------\n",
      "18.46% affected alpha_R\n",
      "81.54% did not affect alpha_R\n"
     ]
    }
   ],
   "source": [
    "# Obtained from Optimization\n",
    "\n",
    "min_subset_ids_6357 = pd.read_csv(path+\"R_ids_alpha_0.6357.csv\")\n",
    "min_subset_ids_9998 = pd.read_csv(path+\"R_ids_alpha_0.9998.csv\")\n",
    "min_subset_ids_joe  = pd.read_csv(path+\"deviation_id.csv\")\n",
    "\n",
    "DB2 = pd.read_csv(path+\"DB2P8.csv\")\n",
    "DB5 = pd.read_csv(path+\"SELDB5_SVD.csv\", low_memory=False) \n",
    "\n",
    "# Setting ELMy Dataset\n",
    "DB5 = DB5[DB5[\"PHASE\"].isin(['HGELM', 'HSELM', 'HGELMH', 'HSELMH'])]\n",
    "\n",
    "# Removing Spherical TOKAMAKS\n",
    "#DB5 = DB5[~DB5[\"TOK\"].isin(['START','MAST','NSTX'])]\n",
    "\n",
    "# There is two shots from DB2P8 missing in DB5\n",
    "missing_shots = DB2[~DB2.id.isin( DB5.id.values )].reset_index(drop=True)\n",
    "DB5 = pd.concat([DB5, missing_shots], axis=0, ignore_index=True)\n",
    "\n",
    "# Labeling shots that had great impact in decreasing alpha_R\n",
    "DB5.insert(loc=2,column=\"label_6357\",value=[\"Unaffected\"]*len(DB5))\n",
    "DB5.loc[(DB5[DB5.id.isin(min_subset_ids_6357.id)].index), \"label_6357\"] = \"Decreasing\"\n",
    "\n",
    "DB5.insert(loc=2,column=\"label_9998\",value=[\"Unaffected\"]*len(DB5))\n",
    "DB5.loc[(DB5[DB5.id.isin(min_subset_ids_9998.id)].index), \"label_9998\"] = \"Decreasing\"\n",
    "\n",
    "DB5.insert(loc=2,column=\"label_joe\",value=[\"Unaffected\"]*len(DB5))\n",
    "DB5.loc[(DB5[DB5.id.isin(min_subset_ids_joe.id)].index), \"label_joe\"] = \"Decreasing\"\n",
    "\n",
    "DB5.insert(loc=2,column=\"Spherical\",value=[\"False\"]*len(DB5))\n",
    "DB5.loc[(DB5[DB5.TOK.isin(['START','MAST','NSTX'])].index), \"Spherical\"] = \"True\"\n",
    "\n",
    "DB5.insert(0, 'intercept', np.ones(len(DB5)))\n",
    "\n",
    "\n",
    "print(\n",
    "    \"  Subset that decrease alpha-R to 0.6357\\n--------\\n\" +\n",
    "    f\"{ round( (len(min_subset_ids_6357)/len(DB5))*100     ,2)  }% affected alpha_R\\n\" + \n",
    "    f\"{ round( (1 - len(min_subset_ids_6357)/len(DB5))*100 ,2)  }% did not affect alpha_R\" +\n",
    "    \"\\n\\n\\n  Subset that decrease alpha-R to 0.9998\\n--------\\n\" +\n",
    "    f\"{ round( (len(min_subset_ids_9998)/len(DB5))*100     ,2)  }% affected alpha_R\\n\" + \n",
    "    f\"{ round( (1 - len(min_subset_ids_9998)/len(DB5))*100 ,2)  }% did not affect alpha_R\"\n",
    "    \"\\n\\n\\n  Subset given by Joseph Hall           \\n--------\\n\" +\n",
    "    f\"{ round( (len(min_subset_ids_joe)/len(DB5))*100     ,2)  }% affected alpha_R\\n\" + \n",
    "    f\"{ round( (1 - len(min_subset_ids_joe)/len(DB5))*100 ,2)  }% did not affect alpha_R\"\n",
    ")"
   ]
  },
  {
   "cell_type": "code",
   "execution_count": 7,
   "id": "8a31b55d",
   "metadata": {},
   "outputs": [],
   "source": [
    "DB5 = tokamakTK.clean_categorical_data(DB5)\n",
    "# Needed for Improved Visualization: 2D and 3D Plots\n",
    "HUE_ORDER, PX_ORDER = tokamakTK.get_colors_per_category(DB5)\n",
    "hue_order = HUEOrder(HUE_ORDER)\n",
    "\n",
    "# ---------------------------------------------------\n",
    "\n",
    "# SPECIAL PARAMETERS\n",
    "colors_ = sns.color_palette('tab20', 20)\n",
    "HUE_ORDER[\"Spherical\"] = dict(zip(sorted(DB5[\"Spherical\"].unique()), colors_[:len(DB5[\"Spherical\"].unique())]))\n",
    "HUE_ORDER[\"label_joe\"] = dict(zip(sorted(DB5[\"label_joe\"].unique()), colors_[:len(DB5[\"label_joe\"].unique())]))"
   ]
  },
  {
   "cell_type": "code",
   "execution_count": 8,
   "id": "614519fc",
   "metadata": {},
   "outputs": [],
   "source": [
    "DB5[\"DATE\"] = DB5[\"DATE\"].astype(str).replace(r\"(\\d{6})00\", r\"\\g<1>01\", regex=True)\n",
    "DB5[\"DATE\"] = pd.to_datetime(DB5[\"DATE\"], format=\"%Y%m%d\")\n",
    "DB5[\"YEAR\"] = DB5[\"DATE\"].dt.year"
   ]
  },
  {
   "cell_type": "code",
   "execution_count": 46,
   "id": "52467a0c",
   "metadata": {},
   "outputs": [],
   "source": [
    "# DECREASING\n",
    "data1_64 = DB5[DB5.label_6357.isin([\"Decreasing\"])].reset_index(drop=True)\n",
    "data1_99 = DB5[DB5.label_6357.isin([\"Decreasing\"])].reset_index(drop=True)\n",
    "\n",
    "# UNAFFECTED\n",
    "data2_64 = DB5[DB5.label_6357.isin([\"Unaffected\"])].reset_index(drop=True)\n",
    "data2_99 = DB5[DB5.label_6357.isin([\"Unaffected\"])].reset_index(drop=True)"
   ]
  },
  {
   "cell_type": "code",
   "execution_count": 47,
   "id": "d399b197",
   "metadata": {},
   "outputs": [],
   "source": [
    "df = pd.DataFrame(DB5[\"YEAR\"].value_counts()).rename(columns={\"YEAR\":\"DB5\"}).sort_index()\n",
    "\n",
    "df = df.join(pd.DataFrame(data1_64[\"YEAR\"].value_counts().sort_index()).rename(columns={\"YEAR\":\"Tau_0.64\"}))\n",
    "df = df.join(pd.DataFrame(data2_64[\"YEAR\"].value_counts().sort_index()).rename(columns={\"YEAR\":\"Tau_2.16\"}))\n",
    "df = df.join(pd.DataFrame(data1_99[\"YEAR\"].value_counts().sort_index()).rename(columns={\"YEAR\":\"Tau_0.99\"}))\n",
    "df = df.join(pd.DataFrame(data2_99[\"YEAR\"].value_counts().sort_index()).rename(columns={\"YEAR\":\"Tau_1.71\"}))\n"
   ]
  },
  {
   "cell_type": "code",
   "execution_count": 48,
   "id": "eae52f13",
   "metadata": {},
   "outputs": [],
   "source": [
    "df90s = df[:18].sum()\n",
    "df20s = df[18:27].sum()\n",
    "df_else = df[27:].sum()\n",
    "\n",
    "df90s = pd.DataFrame(df90s).T\n",
    "df90s.index = [\"date $\\leq$ 1999\"]\n",
    "\n",
    "df20s = pd.DataFrame(df20s).T\n",
    "df20s.index = [\"1999 $<$ date $\\leq$ 2009\"] \n",
    "\n",
    "df_else = pd.DataFrame(df_else).T\n",
    "df_else.index = [\"2011 $\\leq$ date $\\leq$ 2017\"]"
   ]
  },
  {
   "cell_type": "code",
   "execution_count": 49,
   "id": "a0cb20f4",
   "metadata": {},
   "outputs": [],
   "source": [
    "df = pd.concat([df90s,df20s,df_else])\n",
    "df = df.astype(int)"
   ]
  },
  {
   "cell_type": "code",
   "execution_count": 50,
   "id": "e9ffdca8",
   "metadata": {},
   "outputs": [],
   "source": [
    "df = df[['Tau_0.64', 'Tau_2.16', 'DB5', 'Tau_0.99', 'Tau_1.71']]\n",
    "df.columns=['$\\\\tau_{E,0.64}$', '$\\\\tau_{E,2.16}$', 'DB5', '$\\\\tau_{E,0.99}$', '$\\\\tau_{E,1.71}$']"
   ]
  },
  {
   "cell_type": "code",
   "execution_count": 58,
   "id": "1ae8fe09",
   "metadata": {},
   "outputs": [
    {
     "data": {
      "image/png": "[encoded data removed]",
      "text/plain": [
       "<Figure size 900x500 with 1 Axes>"
      ]
     },
     "metadata": {},
     "output_type": "display_data"
    }
   ],
   "source": [
    " \n",
    "colors = sns.color_palette(\"light:#A84547\", n_colors=100)[:]\n",
    "my_colors = [colors[30], colors[60], (0, 0, 0), colors[80], colors[99]]\n",
    "\n",
    "ax = df.plot(kind='bar', stacked=False, figsize=(9, 5), color=my_colors, width=0.8)\n",
    "\n",
    "ax.set_xticklabels(df.index, rotation=0, fontsize=13)\n",
    "\n",
    "# Set the legend\n",
    "ax.legend(loc=0, frameon=False, fontsize=13, handlelength=0.9)\n",
    "\n",
    "ax.spines['top'].set_visible(False)\n",
    "ax.spines['right'].set_visible(False)\n",
    "\n",
    "ax.set_yticks(ax.get_yticks())\n",
    "ax.set_yticklabels(ax.get_yticks(), fontsize=12)\n",
    "ax.yaxis.set_major_formatter(ticker.FormatStrFormatter('%d'))\n",
    "\n",
    "# Set the labels and title\n",
    "ax.set_xlabel('\\nShot Date', fontsize=15)\n",
    "ax.set_ylabel('Counts', fontsize=15)\n",
    "\n",
    "ax.grid(alpha=0.5, axis='y', linestyle='--')\n",
    "\n",
    "# Show the plot\n",
    "plt.tight_layout()\n",
    "plt.show()\n",
    "\n"
   ]
  },
  {
   "cell_type": "code",
   "execution_count": null,
   "id": "f253c921",
   "metadata": {},
   "outputs": [],
   "source": []
  },
  {
   "cell_type": "code",
   "execution_count": null,
   "id": "5e65a68b",
   "metadata": {},
   "outputs": [],
   "source": []
  },
  {
   "cell_type": "code",
   "execution_count": null,
   "id": "b56009bb",
   "metadata": {},
   "outputs": [],
   "source": []
  }
 ],
 "metadata": {
  "kernelspec": {
   "display_name": "Python 3 (ipykernel)",
   "language": "python",
   "name": "python3"
  },
  "language_info": {
   "codemirror_mode": {
    "name": "ipython",
    "version": 3
   },
   "file_extension": ".py",
   "mimetype": "text/x-python",
   "name": "python",
   "nbconvert_exporter": "python",
   "pygments_lexer": "ipython3",
   "version": "3.10.11"
  }
 },
 "nbformat": 4,
 "nbformat_minor": 5
}
