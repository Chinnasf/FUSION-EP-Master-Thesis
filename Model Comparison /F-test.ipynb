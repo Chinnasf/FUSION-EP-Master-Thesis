{
 "cells": [
  {
   "cell_type": "code",
   "execution_count": 117,
   "id": "919e1f41",
   "metadata": {},
   "outputs": [
    {
     "name": "stdout",
     "output_type": "stream",
     "text": [
      "The autoreload extension is already loaded. To reload it, use:\n",
      "  %reload_ext autoreload\n"
     ]
    }
   ],
   "source": [
    "%load_ext autoreload\n",
    "%autoreload 2"
   ]
  },
  {
   "cell_type": "code",
   "execution_count": 3,
   "id": "c8cce4e3",
   "metadata": {},
   "outputs": [],
   "source": [
    "import sys\n",
    "sys.path.append('../')\n",
    "import tokamakTK\n",
    "from tokamakTK import get_ECT_regression\n",
    "\n",
    "import numpy as np \n",
    "import pandas as pd\n",
    "import seaborn as sns\n",
    "import matplotlib.pyplot as plt\n",
    "import scipy as sp\n",
    "import statsmodels.api as sm\n",
    "import matplotlib.patches as mpatches\n",
    "\n",
    "\n",
    "from collections import Counter\n",
    "from scipy.stats import f\n",
    "from sklearn.preprocessing import StandardScaler\n",
    "from sklearn.cluster import KMeans\n",
    "from yellowbrick.cluster import KElbowVisualizer\n",
    "from yellowbrick.cluster import SilhouetteVisualizer\n",
    "\n",
    "pd.set_option('display.max_columns', None)\n",
    "path = \"../data/\"\n",
    "fig_path = \"../../../LATEX/Latex Images/\"\n",
    "\n",
    "plt.rc('font',family = 'serif')\n",
    "\n",
    "features = ['IP', 'BT', 'NEL', 'PLTH', 'RGEO', 'KAREA', 'EPS', 'MEFF']"
   ]
  },
  {
   "cell_type": "code",
   "execution_count": 2,
   "id": "f2d4efad",
   "metadata": {},
   "outputs": [
    {
     "name": "stdout",
     "output_type": "stream",
     "text": [
      "  Subset that decrease alpha-R to 0.6357\n",
      "--------\n",
      "23.45% affected alpha_R\n",
      "76.55% did not affect alpha_R\n",
      "\n",
      "\n",
      "  Subset that decrease alpha-R to 0.9998\n",
      "--------\n",
      "9.88% affected alpha_R\n",
      "90.12% did not affect alpha_R\n"
     ]
    }
   ],
   "source": [
    "# Obtained from Optimization\n",
    "\n",
    "min_subset_ids_6357 = pd.read_csv(path+\"R_ids_alpha_0.6357.csv\")\n",
    "min_subset_ids_9998 = pd.read_csv(path+\"R_ids_alpha_0.9998.csv\")\n",
    "\n",
    "DB2 = pd.read_csv(path+\"DB2P8.csv\")\n",
    "DB5 = pd.read_csv(path+\"SELDB5_SVD.csv\", low_memory=False) \n",
    "\n",
    "# Setting ELMy Dataset\n",
    "DB5 = DB5[DB5[\"PHASE\"].isin(['HGELM', 'HSELM', 'HGELMH', 'HSELMH'])]\n",
    "\n",
    "# There is two shots from DB2P8 missing in DB5\n",
    "missing_shots = DB2[~DB2.id.isin( DB5.id.values )].reset_index(drop=True)\n",
    "DB5 = pd.concat([DB5, missing_shots], axis=0, ignore_index=True)\n",
    "\n",
    "# Labeling shots that had great impact in decreasing alpha_R\n",
    "DB5.insert(loc=2,column=\"label_6357\",value=[0]*len(DB5))\n",
    "DB5.loc[(DB5[DB5.id.isin(min_subset_ids_6357.id)].index), \"label_6357\"] = 1\n",
    "\n",
    "DB5.insert(loc=2,column=\"label_9998\",value=[0]*len(DB5))\n",
    "DB5.loc[(DB5[DB5.id.isin(min_subset_ids_9998.id)].index), \"label_9998\"] = 1\n",
    "\n",
    "DB5.insert(0, 'intercept', np.ones(len(DB5)))\n",
    "\n",
    "\n",
    "print(\n",
    "    \"  Subset that decrease alpha-R to 0.6357\\n--------\\n\" +\n",
    "    f\"{ round( (len(min_subset_ids_6357)/len(DB5))*100     ,2)  }% affected alpha_R\\n\" + \n",
    "    f\"{ round( (1 - len(min_subset_ids_6357)/len(DB5))*100 ,2)  }% did not affect alpha_R\" +\n",
    "    \"\\n\\n\\n  Subset that decrease alpha-R to 0.9998\\n--------\\n\" +\n",
    "    f\"{ round( (len(min_subset_ids_9998)/len(DB5))*100     ,2)  }% affected alpha_R\\n\" + \n",
    "    f\"{ round( (1 - len(min_subset_ids_9998)/len(DB5))*100 ,2)  }% did not affect alpha_R\"\n",
    ")"
   ]
  },
  {
   "cell_type": "code",
   "execution_count": 120,
   "id": "806d7161",
   "metadata": {},
   "outputs": [],
   "source": [
    "# Data for alpha-R ~ 0.64\n",
    "\n",
    "complete_data = DB5.copy()\n",
    "decreased_ds  = DB5[DB5.label_6357.isin([1]) | DB5.id.isin(DB2.id.values)]\n",
    "unaffected_ds = DB5[DB5.label_6357.isin([0])]\n",
    "\n",
    "all_cases = [complete_data, decreased_ds, unaffected_ds]"
   ]
  },
  {
   "cell_type": "markdown",
   "id": "efafda39",
   "metadata": {},
   "source": [
    "# F - Test\n",
    "\n",
    "* SSR: sum opf squared residuals; FULL model (f), REDUCED model (r)\n",
    "\n",
    "$$\n",
    "    F_{stat} = \\frac{SSR_{r}- SSR_{f}}{SSR_{f}} \\cdot \\frac{n-M-1}{M}\n",
    "$$\n",
    "\n",
    "where\n",
    "\n",
    "$$\n",
    "    SSR = \\sum^n_i \\left( y_i - \\hat{y}_i \\right)^2 = \\sum^n_i \\left( y_i - [X\\beta]_i \\right)^2 \n",
    "$$"
   ]
  },
  {
   "cell_type": "code",
   "execution_count": 125,
   "id": "88de3198",
   "metadata": {},
   "outputs": [],
   "source": [
    "import pdb # For debugging || pdb.set_trace()\n",
    "\n",
    "def get_SSR(y, y_hat):\n",
    "    \"\"\"\n",
    "    Returns the Sum of Squared Residuals\n",
    "    \"\"\"\n",
    "    return np.sum( (y - y_hat)**2 )\n",
    "\n",
    "def get_y_yhat_beta(data, features_):\n",
    "    \"\"\"\n",
    "    Expecting DataFrame in ORIGINAL SPACE\n",
    "    Returns: y, y_hat, and beta\n",
    "    \"\"\"\n",
    "    X = data[features_].apply(np.abs).apply(np.log)\n",
    "    X[\"intercept\"] = np.ones(len(data))*100\n",
    "    X = X.to_numpy()\n",
    "    y = data[[\"TAUTH\"]].apply(np.log).to_numpy()\n",
    "    β = np.matmul( np.linalg.inv( np.matmul(X.T,X) ) ,  np.matmul(X.T,y))\n",
    "    return y, np.matmul(X, β), β\n",
    "\n",
    "def F_test(data, features, removed_feature):\n",
    "    \"\"\"\n",
    "    data (pd.DataFrame): data does not necessarily contains only the features.\n",
    "                         It is also in the original space. \n",
    "    Returns (float): F-test\n",
    "    \"\"\"\n",
    "    reduced_features = features.copy()\n",
    "    reduced_features.remove(removed_feature)\n",
    "    \n",
    "    complete_model = data.copy()\n",
    "    reduced_model  = data[reduced_features + [\"TAUTH\"]]\n",
    "    \n",
    "    y_f, yh_f, _ = get_y_yhat_beta(complete_model, features)\n",
    "    y_r, yh_r, _ = get_y_yhat_beta(reduced_model, reduced_features)\n",
    "    \n",
    "    SSR_r = get_SSR(y_r, yh_r)\n",
    "    SSR_f = get_SSR(y_f, yh_f)\n",
    "    \n",
    "    factor = (len(features) - len(reduced_features))/(len(data) - len(features))\n",
    "    F = factor * ( (SSR_r - SSR_f) / SSR_f )\n",
    "    \n",
    "    variance_reduced  = tokamakTK.get_ECT_regression(reduced_model, features=reduced_features).scale\n",
    "    variance_complete = tokamakTK.get_ECT_regression(complete_model).scale\n",
    "    \n",
    "    return F, variance_reduced/variance_complete"
   ]
  },
  {
   "cell_type": "code",
   "execution_count": 129,
   "id": "4bcec405",
   "metadata": {},
   "outputs": [],
   "source": [
    "# Creating table with F-test and P-test values per case\n",
    "TEST = pd.DataFrame(np.zeros((len(features), len(all_cases)*2)), \n",
    "                    columns=[\"FV1\",\"FV2\",\"FV3\",\"ratio1\",\"ratio2\",\"ratio3\"],\n",
    "                    index=features)\n",
    "\n",
    "for i, data_ in enumerate(all_cases):\n",
    "    for f in features:\n",
    "        TEST.loc[f, f\"FV{i+1}\"] = np.round(F_test(data_, features, f)[0], 5)\n",
    "        TEST.loc[f, f\"ratio{i+1}\"] = np.round(F_test(data_, features, f)[1], 5)"
   ]
  },
  {
   "cell_type": "code",
   "execution_count": 130,
   "id": "9f7372ba",
   "metadata": {},
   "outputs": [
    {
     "data": {
      "text/html": [
       "<div>\n",
       "<style scoped>\n",
       "    .dataframe tbody tr th:only-of-type {\n",
       "        vertical-align: middle;\n",
       "    }\n",
       "\n",
       "    .dataframe tbody tr th {\n",
       "        vertical-align: top;\n",
       "    }\n",
       "\n",
       "    .dataframe thead th {\n",
       "        text-align: right;\n",
       "    }\n",
       "</style>\n",
       "<table border=\"1\" class=\"dataframe\">\n",
       "  <thead>\n",
       "    <tr style=\"text-align: right;\">\n",
       "      <th></th>\n",
       "      <th>FV1</th>\n",
       "      <th>FV2</th>\n",
       "      <th>FV3</th>\n",
       "      <th>ratio1</th>\n",
       "      <th>ratio2</th>\n",
       "      <th>ratio3</th>\n",
       "    </tr>\n",
       "  </thead>\n",
       "  <tbody>\n",
       "    <tr>\n",
       "      <th>IP</th>\n",
       "      <td>0.00012</td>\n",
       "      <td>0.00054</td>\n",
       "      <td>0.00010</td>\n",
       "      <td>1.77011</td>\n",
       "      <td>2.50438</td>\n",
       "      <td>1.49584</td>\n",
       "    </tr>\n",
       "    <tr>\n",
       "      <th>BT</th>\n",
       "      <td>0.00000</td>\n",
       "      <td>0.00000</td>\n",
       "      <td>0.00001</td>\n",
       "      <td>1.00397</td>\n",
       "      <td>1.00000</td>\n",
       "      <td>1.06268</td>\n",
       "    </tr>\n",
       "    <tr>\n",
       "      <th>NEL</th>\n",
       "      <td>0.00001</td>\n",
       "      <td>0.00001</td>\n",
       "      <td>0.00009</td>\n",
       "      <td>1.05317</td>\n",
       "      <td>1.03059</td>\n",
       "      <td>1.41236</td>\n",
       "    </tr>\n",
       "    <tr>\n",
       "      <th>PLTH</th>\n",
       "      <td>0.00026</td>\n",
       "      <td>0.00026</td>\n",
       "      <td>0.00065</td>\n",
       "      <td>2.60532</td>\n",
       "      <td>1.72847</td>\n",
       "      <td>4.12615</td>\n",
       "    </tr>\n",
       "    <tr>\n",
       "      <th>RGEO</th>\n",
       "      <td>0.00008</td>\n",
       "      <td>0.00004</td>\n",
       "      <td>0.00033</td>\n",
       "      <td>1.51575</td>\n",
       "      <td>1.10599</td>\n",
       "      <td>2.55917</td>\n",
       "    </tr>\n",
       "    <tr>\n",
       "      <th>KAREA</th>\n",
       "      <td>0.00000</td>\n",
       "      <td>0.00000</td>\n",
       "      <td>0.00002</td>\n",
       "      <td>1.01501</td>\n",
       "      <td>0.99964</td>\n",
       "      <td>1.07312</td>\n",
       "    </tr>\n",
       "    <tr>\n",
       "      <th>EPS</th>\n",
       "      <td>0.00000</td>\n",
       "      <td>0.00002</td>\n",
       "      <td>0.00002</td>\n",
       "      <td>1.00031</td>\n",
       "      <td>1.04911</td>\n",
       "      <td>1.10603</td>\n",
       "    </tr>\n",
       "    <tr>\n",
       "      <th>MEFF</th>\n",
       "      <td>0.00000</td>\n",
       "      <td>0.00000</td>\n",
       "      <td>0.00001</td>\n",
       "      <td>1.02503</td>\n",
       "      <td>1.00885</td>\n",
       "      <td>1.03803</td>\n",
       "    </tr>\n",
       "  </tbody>\n",
       "</table>\n",
       "</div>"
      ],
      "text/plain": [
       "           FV1      FV2      FV3   ratio1   ratio2   ratio3\n",
       "IP     0.00012  0.00054  0.00010  1.77011  2.50438  1.49584\n",
       "BT     0.00000  0.00000  0.00001  1.00397  1.00000  1.06268\n",
       "NEL    0.00001  0.00001  0.00009  1.05317  1.03059  1.41236\n",
       "PLTH   0.00026  0.00026  0.00065  2.60532  1.72847  4.12615\n",
       "RGEO   0.00008  0.00004  0.00033  1.51575  1.10599  2.55917\n",
       "KAREA  0.00000  0.00000  0.00002  1.01501  0.99964  1.07312\n",
       "EPS    0.00000  0.00002  0.00002  1.00031  1.04911  1.10603\n",
       "MEFF   0.00000  0.00000  0.00001  1.02503  1.00885  1.03803"
      ]
     },
     "execution_count": 130,
     "metadata": {},
     "output_type": "execute_result"
    }
   ],
   "source": [
    "TEST"
   ]
  },
  {
   "cell_type": "code",
   "execution_count": 131,
   "id": "b64faa72",
   "metadata": {},
   "outputs": [
    {
     "data": {
      "image/png": "[encoded data removed]",
      "text/plain": [
       "<Figure size 800x550 with 2 Axes>"
      ]
     },
     "metadata": {},
     "output_type": "display_data"
    }
   ],
   "source": [
    "# Analaysis for Log space.\n",
    "ax = sns.heatmap(TEST[[\"ratio1\",\"ratio2\",\"ratio3\"]], \n",
    "                 cmap=\"plasma\", linecolor=\"lightgray\", linewidth=0.73)\n",
    "ax.set_yticklabels(ax.get_yticklabels(), rotation=0)\n",
    "ax.set_xticklabels(ax.get_xticklabels(), rotation=40);"
   ]
  },
  {
   "cell_type": "code",
   "execution_count": 132,
   "id": "57c5e3c5",
   "metadata": {},
   "outputs": [],
   "source": [
    "def get_SSR(y, y_hat):\n",
    "    \"\"\"\n",
    "    Returns the Sum of Squared Residuals\n",
    "    \"\"\"\n",
    "    return np.sum((y - y_hat)**2)\n",
    "\n",
    "def F_test(data, features, removed_feature):\n",
    "    \"\"\"\n",
    "    data (pd.DataFrame): data does not necessarily contain only the features.\n",
    "                         It is also in the original space. \n",
    "    Returns (float): F-test\n",
    "    \"\"\"\n",
    "    reduced_features = features.copy()\n",
    "    reduced_features.remove(removed_feature)\n",
    "    \n",
    "    complete_model = data.copy()\n",
    "    reduced_model = data[reduced_features + [\"TAUTH\"]]\n",
    "    \n",
    "    X_f = sm.add_constant(np.log(complete_model[features].apply(np.abs)))\n",
    "    y_f = np.log(complete_model[\"TAUTH\"])\n",
    "    \n",
    "    model_f = sm.OLS(y_f, X_f)\n",
    "    results_f = model_f.fit()\n",
    "    yh_f = results_f.predict(X_f)\n",
    "    SSR_f = get_SSR(y_f, yh_f)\n",
    "    \n",
    "    # --------\n",
    "    \n",
    "    X_r = sm.add_constant(np.log(reduced_model[reduced_features].apply(np.abs)))\n",
    "    y_r = np.log(reduced_model[\"TAUTH\"])\n",
    "    \n",
    "    model_r = sm.OLS(y_r, X_r)\n",
    "    results_r = model_r.fit()\n",
    "    yh_r = results_r.predict(X_r)\n",
    "    SSR_r = get_SSR(y_r, yh_r)\n",
    "    \n",
    "    factor = (len(features) - len(reduced_features)) / (len(data) - len(features))\n",
    "    F = factor * ((SSR_r - SSR_f) / SSR_f)\n",
    "    \n",
    "    variance_reduced = results_r.scale\n",
    "    variance_complete = results_f.scale\n",
    "    \n",
    "    return F, variance_reduced / variance_complete"
   ]
  },
  {
   "cell_type": "code",
   "execution_count": 133,
   "id": "f4350fe0",
   "metadata": {},
   "outputs": [
    {
     "data": {
      "text/plain": [
       "(0.0001233815236556653, 1.7701106984347215)"
      ]
     },
     "execution_count": 133,
     "metadata": {},
     "output_type": "execute_result"
    }
   ],
   "source": [
    "F_test(all_cases[0], features, \"IP\")"
   ]
  },
  {
   "cell_type": "code",
   "execution_count": 134,
   "id": "3228aaaf",
   "metadata": {},
   "outputs": [],
   "source": [
    "def F_test(data, features, removed_feature):\n",
    "    \"\"\"\n",
    "    data (pd.DataFrame): data does not necessarily contain only the features.\n",
    "                         It is also in the original space. \n",
    "    Returns (float, float): F-test statistic, ratio of variances\n",
    "    \"\"\"\n",
    "    reduced_features = features.copy()\n",
    "    reduced_features.remove(removed_feature)\n",
    "    \n",
    "    complete_model = data.copy()\n",
    "    reduced_model = data[reduced_features + [\"TAUTH\"]]\n",
    "    \n",
    "    X_f = sm.add_constant(np.log(complete_model[features].apply(np.abs)))\n",
    "    y_f = np.log(complete_model[\"TAUTH\"])\n",
    "    model_f = sm.OLS(y_f, X_f)\n",
    "    results_f = model_f.fit()\n",
    "    yh_f = results_f.predict(X_f)\n",
    "    SSR_f = get_SSR(y_f, yh_f)\n",
    "    \n",
    "    X_r = sm.add_constant(np.log(reduced_model[reduced_features].apply(np.abs)))\n",
    "    y_r = np.log(reduced_model[\"TAUTH\"])\n",
    "    model_r = sm.OLS(y_r, X_r)\n",
    "    results_r = model_r.fit()\n",
    "    yh_r = results_r.predict(X_r)\n",
    "    SSR_r = get_SSR(y_r, yh_r)\n",
    "    \n",
    "    factor = (len(features) - len(reduced_features)) / (len(data) - len(features))\n",
    "    F = factor * ((SSR_r - SSR_f) / SSR_f)\n",
    "    \n",
    "    variance_reduced = SSR_r / (len(data) - len(reduced_features) - 1)\n",
    "    variance_complete = SSR_f / (len(data) - len(features) - 1)\n",
    "    \n",
    "    return F, variance_reduced / variance_complete, variance_reduced"
   ]
  },
  {
   "cell_type": "code",
   "execution_count": 135,
   "id": "2d6d86aa",
   "metadata": {},
   "outputs": [
    {
     "data": {
      "text/plain": [
       "(0.0001233815236556653, 1.7701106984347208, 0.07202138615809162)"
      ]
     },
     "execution_count": 135,
     "metadata": {},
     "output_type": "execute_result"
    }
   ],
   "source": [
    "F_test(all_cases[0], features, \"IP\")"
   ]
  },
  {
   "cell_type": "code",
   "execution_count": null,
   "id": "4b3cc00d",
   "metadata": {},
   "outputs": [],
   "source": []
  }
 ],
 "metadata": {
  "kernelspec": {
   "display_name": "Python 3 (ipykernel)",
   "language": "python",
   "name": "python3"
  },
  "language_info": {
   "codemirror_mode": {
    "name": "ipython",
    "version": 3
   },
   "file_extension": ".py",
   "mimetype": "text/x-python",
   "name": "python",
   "nbconvert_exporter": "python",
   "pygments_lexer": "ipython3",
   "version": "3.10.11"
  }
 },
 "nbformat": 4,
 "nbformat_minor": 5
}
