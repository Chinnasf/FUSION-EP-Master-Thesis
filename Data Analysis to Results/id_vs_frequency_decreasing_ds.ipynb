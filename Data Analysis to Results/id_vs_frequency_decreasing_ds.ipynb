{
 "cells": [
  {
   "cell_type": "code",
   "execution_count": 1,
   "id": "0c335181",
   "metadata": {},
   "outputs": [],
   "source": [
    "import numpy as np \n",
    "import pandas as pd\n",
    "import matplotlib.pyplot as plt\n",
    "import scipy as sp\n",
    "import statsmodels.api as sm\n",
    "import matplotlib.patches as mpatches\n",
    "\n",
    "from sklearn.ensemble import RandomForestClassifier\n",
    "from sklearn.model_selection import train_test_split, cross_val_score, RepeatedStratifiedKFold\n",
    "from sklearn.preprocessing import StandardScaler\n",
    "from sklearn.metrics import precision_recall_curve, precision_recall_fscore_support\n",
    "\n",
    "\n",
    "pd.set_option('display.max_columns', None)\n",
    "\n",
    "coeffs = ['IP', 'BT', 'NEL', 'PLTH', 'RGEO', 'KAREA', 'EPS', 'MEFF']\n",
    "path = \"../data/\""
   ]
  },
  {
   "cell_type": "code",
   "execution_count": 14,
   "id": "27a95ec4",
   "metadata": {},
   "outputs": [],
   "source": [
    "ids = pd.read_csv(path+\"id_vs_frequency_decreasing_ds.csv\")\n",
    "#DB5 = pd.read_csv(path+\"DB5.csv\")\n",
    "DB5 = pd.read_csv(path+\"SELDB5_SVD.csv\", low_memory=False)\n",
    "DB5 = DB5[DB5[\"PHASE\"].isin(['HGELM', 'HSELM', 'HGELMH', 'HSELMH'])]\n",
    "\n",
    "DB2 = pd.read_csv(path+\"DB2P8.csv\")\n",
    "\n",
    "# There are shots missing in DB5 from DB2P8\n",
    "missing_shots = DB2[~DB2.id.isin( DB5.id.values )].reset_index(drop=True)\n",
    "DB5 = pd.concat([DB5, missing_shots], axis=0, ignore_index=True)"
   ]
  },
  {
   "cell_type": "code",
   "execution_count": 15,
   "id": "8973d9e4",
   "metadata": {},
   "outputs": [],
   "source": [
    "data = DB5[DB5.id.isin(ids.id.values)]"
   ]
  },
  {
   "cell_type": "code",
   "execution_count": 16,
   "id": "71556ca8",
   "metadata": {},
   "outputs": [
    {
     "data": {
      "text/plain": [
       "array(['ASDEX', 'JFT2M', 'PBXM', 'PDX', 'TCV', 'TDEV'], dtype=object)"
      ]
     },
     "execution_count": 16,
     "metadata": {},
     "output_type": "execute_result"
    }
   ],
   "source": [
    "# TOKAMAKS NOT IN THE DATAFRAME\n",
    "DB5[~DB5.TOK.isin(data.TOK.unique())][\"TOK\"].unique()"
   ]
  },
  {
   "cell_type": "code",
   "execution_count": 17,
   "id": "cb777416",
   "metadata": {},
   "outputs": [
    {
     "data": {
      "text/plain": [
       "array(['AUG', 'AUGW', 'CMOD', 'COMPASS', 'D3D', 'JET', 'JETILW', 'JT60U',\n",
       "       'MAST', 'NSTX', 'START', 'TFTR'], dtype=object)"
      ]
     },
     "execution_count": 17,
     "metadata": {},
     "output_type": "execute_result"
    }
   ],
   "source": [
    "# TOKAMAKS IN DATAFRAME\n",
    "data.TOK.unique()"
   ]
  },
  {
   "cell_type": "code",
   "execution_count": 18,
   "id": "aeb2a63e",
   "metadata": {},
   "outputs": [],
   "source": [
    "# When using Joe's file: len(data) = 2315\n",
    "# When using previous DB5 file: len(data) = 2544\n",
    "\n",
    "# Missing: 229\n",
    "\n",
    "# -------------------------------------------------\n",
    "# -------------------------------------------------\n",
    "\n",
    "# len(DB5_joe) = 6014 \n",
    "# len(DB5) = 6250 ---------------> MISSING 2 FROM DB2"
   ]
  },
  {
   "cell_type": "code",
   "execution_count": 19,
   "id": "dbb5c3ed",
   "metadata": {},
   "outputs": [
    {
     "data": {
      "text/plain": [
       "6252"
      ]
     },
     "execution_count": 19,
     "metadata": {},
     "output_type": "execute_result"
    }
   ],
   "source": [
    "len(DB5)"
   ]
  },
  {
   "cell_type": "code",
   "execution_count": 20,
   "id": "cae0f94d",
   "metadata": {},
   "outputs": [
    {
     "data": {
      "text/plain": [
       "2544"
      ]
     },
     "execution_count": 20,
     "metadata": {},
     "output_type": "execute_result"
    }
   ],
   "source": [
    "len(data)"
   ]
  },
  {
   "cell_type": "code",
   "execution_count": null,
   "id": "e3632110",
   "metadata": {},
   "outputs": [],
   "source": []
  }
 ],
 "metadata": {
  "kernelspec": {
   "display_name": "Python 3 (ipykernel)",
   "language": "python",
   "name": "python3"
  },
  "language_info": {
   "codemirror_mode": {
    "name": "ipython",
    "version": 3
   },
   "file_extension": ".py",
   "mimetype": "text/x-python",
   "name": "python",
   "nbconvert_exporter": "python",
   "pygments_lexer": "ipython3",
   "version": "3.10.7"
  }
 },
 "nbformat": 4,
 "nbformat_minor": 5
}
