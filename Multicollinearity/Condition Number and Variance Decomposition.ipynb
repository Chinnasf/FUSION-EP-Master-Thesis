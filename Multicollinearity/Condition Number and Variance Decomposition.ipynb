{
 "cells": [
  {
   "cell_type": "code",
   "execution_count": 1,
   "id": "e5f75fff",
   "metadata": {},
   "outputs": [],
   "source": [
    "%load_ext autoreload\n",
    "%autoreload 2"
   ]
  },
  {
   "cell_type": "code",
   "execution_count": 2,
   "id": "803b7778",
   "metadata": {},
   "outputs": [
    {
     "name": "stderr",
     "output_type": "stream",
     "text": [
      "/tmp/ipykernel_9551/4012704369.py:26: MatplotlibDeprecationWarning: The get_cmap function was deprecated in Matplotlib 3.7 and will be removed two minor releases later. Use ``matplotlib.colormaps[name]`` or ``matplotlib.colormaps.get_cmap(obj)`` instead.\n",
      "  TD_colors = plt.cm.get_cmap('flag', 20) #Paired, flag\n"
     ]
    }
   ],
   "source": [
    "import sys\n",
    "sys.path.append('../')\n",
    "import tokamakTK\n",
    "\n",
    "import numpy as np \n",
    "import pandas as pd\n",
    "import matplotlib.pyplot as plt\n",
    "import scipy as sp\n",
    "import statsmodels.api as sm\n",
    "import matplotlib.patches as mpatches\n",
    "import matplotlib.colors as mcolors\n",
    "import seaborn as sns\n",
    "import plotly.express as px\n",
    "import plotly.subplots as plsp\n",
    "import plotly.graph_objects as go\n",
    "\n",
    "from sklearn.decomposition import PCA\n",
    "from plotly.subplots import make_subplots\n",
    "from tokamakTK import MyCounter, HUEOrder\n",
    "from collections import Counter\n",
    "from statsmodels.stats.outliers_influence import variance_inflation_factor\n",
    "\n",
    "\n",
    "pd.set_option('display.max_columns', None)\n",
    "plt.rc('font',family = 'serif')\n",
    "TD_colors = plt.cm.get_cmap('flag', 20) #Paired, flag\n",
    "colors_ = sns.color_palette('viridis', 20)\n",
    "CSS_colors = [mcolors.to_hex(TD_colors(i)) for i in range(20)]\n",
    "path = \"../data/\""
   ]
  },
  {
   "cell_type": "code",
   "execution_count": 3,
   "id": "d5f45144",
   "metadata": {},
   "outputs": [
    {
     "name": "stdout",
     "output_type": "stream",
     "text": [
      "23.45% of the data decreased alpha_R\n",
      "76.55% of the data did not decrease alpha_R\n"
     ]
    }
   ],
   "source": [
    "# Obtained from Optimization\n",
    "min_subset_ids = pd.read_csv(path+\"R_ids_alpha_0.6357.csv\")\n",
    "\n",
    "DB2 = pd.read_csv(path+\"DB2P8.csv\")\n",
    "DB5 = pd.read_csv(path+\"SELDB5_SVD.csv\", low_memory=False) \n",
    "\n",
    "# Setting ELMy Dataset\n",
    "DB5 = DB5[DB5[\"PHASE\"].isin(['HGELM', 'HSELM', 'HGELMH', 'HSELMH'])]\n",
    "\n",
    "# REMOVING SPHERICAL TOKAMAKS\n",
    "#DB5 = DB5[~DB5.TOK.isin(['MAST', 'NSTX', 'START'])]\n",
    "\n",
    "# There is two shots from DB2P8 missing in DB5\n",
    "missing_shots = DB2[~DB2.id.isin( DB5.id.values )].reset_index(drop=True)\n",
    "DB5 = pd.concat([DB5, missing_shots], axis=0, ignore_index=True)\n",
    "\n",
    "# Labeling shots that had great impact in decreasing alpha_R\n",
    "DB5.insert(loc=2,column=\"label\",value=[0]*len(DB5))\n",
    "DB5.insert(loc=2,column=\"label_str\",value=[\"Unaffected\"]*len(DB5))\n",
    "DB5.loc[(DB5[DB5.id.isin(min_subset_ids.id)].index), \"label\"] = 1\n",
    "DB5.loc[(DB5[DB5.id.isin(min_subset_ids.id)].index), \"label_str\"] = \"Decreasing\"\n",
    "\n",
    "print(\n",
    "    f\"{ round( (len(min_subset_ids)/len(DB5))*100     ,2)  }% of the data decreased alpha_R\\n\" + \n",
    "    f\"{ round( (1 - len(min_subset_ids)/len(DB5))*100 ,2)  }% of the data did not decrease alpha_R\"\n",
    ")"
   ]
  },
  {
   "cell_type": "code",
   "execution_count": 4,
   "id": "f7ac4f42",
   "metadata": {},
   "outputs": [],
   "source": [
    "features = ['IP', 'BT', 'NEL', 'PLTH', 'RGEO', 'KAREA', 'EPS', 'MEFF']"
   ]
  },
  {
   "cell_type": "code",
   "execution_count": 5,
   "id": "0c3fff4f",
   "metadata": {},
   "outputs": [
    {
     "data": {
      "text/html": [
       "<table class=\"simpletable\">\n",
       "<caption>OLS Regression Results</caption>\n",
       "<tr>\n",
       "  <th>Dep. Variable:</th>            <td>y</td>        <th>  R-squared:         </th> <td>   0.941</td> \n",
       "</tr>\n",
       "<tr>\n",
       "  <th>Model:</th>                   <td>OLS</td>       <th>  Adj. R-squared:    </th> <td>   0.941</td> \n",
       "</tr>\n",
       "<tr>\n",
       "  <th>Method:</th>             <td>Least Squares</td>  <th>  F-statistic:       </th> <td>1.251e+04</td>\n",
       "</tr>\n",
       "<tr>\n",
       "  <th>Date:</th>             <td>Mon, 22 May 2023</td> <th>  Prob (F-statistic):</th>  <td>  0.00</td>  \n",
       "</tr>\n",
       "<tr>\n",
       "  <th>Time:</th>                 <td>14:39:57</td>     <th>  Log-Likelihood:    </th> <td>  1142.2</td> \n",
       "</tr>\n",
       "<tr>\n",
       "  <th>No. Observations:</th>      <td>  6252</td>      <th>  AIC:               </th> <td>  -2266.</td> \n",
       "</tr>\n",
       "<tr>\n",
       "  <th>Df Residuals:</th>          <td>  6243</td>      <th>  BIC:               </th> <td>  -2206.</td> \n",
       "</tr>\n",
       "<tr>\n",
       "  <th>Df Model:</th>              <td>     8</td>      <th>                     </th>     <td> </td>    \n",
       "</tr>\n",
       "<tr>\n",
       "  <th>Covariance Type:</th>      <td>nonrobust</td>    <th>                     </th>     <td> </td>    \n",
       "</tr>\n",
       "</table>\n",
       "<table class=\"simpletable\">\n",
       "<tr>\n",
       "    <td></td>       <th>coef</th>     <th>std err</th>      <th>t</th>      <th>P>|t|</th>  <th>[0.025</th>    <th>0.975]</th>  \n",
       "</tr>\n",
       "<tr>\n",
       "  <th>const</th> <td>   -2.5185</td> <td>    0.029</td> <td>  -88.250</td> <td> 0.000</td> <td>   -2.574</td> <td>   -2.463</td>\n",
       "</tr>\n",
       "<tr>\n",
       "  <th>x1</th>    <td>    1.1343</td> <td>    0.016</td> <td>   69.351</td> <td> 0.000</td> <td>    1.102</td> <td>    1.166</td>\n",
       "</tr>\n",
       "<tr>\n",
       "  <th>x2</th>    <td>    0.0724</td> <td>    0.014</td> <td>    5.079</td> <td> 0.000</td> <td>    0.044</td> <td>    0.100</td>\n",
       "</tr>\n",
       "<tr>\n",
       "  <th>x3</th>    <td>    0.1749</td> <td>    0.010</td> <td>   18.248</td> <td> 0.000</td> <td>    0.156</td> <td>    0.194</td>\n",
       "</tr>\n",
       "<tr>\n",
       "  <th>x4</th>    <td>   -0.6827</td> <td>    0.007</td> <td> -100.123</td> <td> 0.000</td> <td>   -0.696</td> <td>   -0.669</td>\n",
       "</tr>\n",
       "<tr>\n",
       "  <th>x5</th>    <td>    1.4479</td> <td>    0.026</td> <td>   56.757</td> <td> 0.000</td> <td>    1.398</td> <td>    1.498</td>\n",
       "</tr>\n",
       "<tr>\n",
       "  <th>x6</th>    <td>    0.2802</td> <td>    0.029</td> <td>    9.731</td> <td> 0.000</td> <td>    0.224</td> <td>    0.337</td>\n",
       "</tr>\n",
       "<tr>\n",
       "  <th>x7</th>    <td>    0.0636</td> <td>    0.037</td> <td>    1.720</td> <td> 0.085</td> <td>   -0.009</td> <td>    0.136</td>\n",
       "</tr>\n",
       "<tr>\n",
       "  <th>x8</th>    <td>    0.2140</td> <td>    0.017</td> <td>   12.541</td> <td> 0.000</td> <td>    0.181</td> <td>    0.247</td>\n",
       "</tr>\n",
       "</table>\n",
       "<table class=\"simpletable\">\n",
       "<tr>\n",
       "  <th>Omnibus:</th>       <td>104.112</td> <th>  Durbin-Watson:     </th> <td>   0.571</td>\n",
       "</tr>\n",
       "<tr>\n",
       "  <th>Prob(Omnibus):</th> <td> 0.000</td>  <th>  Jarque-Bera (JB):  </th> <td> 170.550</td>\n",
       "</tr>\n",
       "<tr>\n",
       "  <th>Skew:</th>          <td>-0.149</td>  <th>  Prob(JB):          </th> <td>9.24e-38</td>\n",
       "</tr>\n",
       "<tr>\n",
       "  <th>Kurtosis:</th>      <td> 3.753</td>  <th>  Cond. No.          </th> <td>    64.7</td>\n",
       "</tr>\n",
       "</table><br/><br/>Notes:<br/>[1] Standard Errors assume that the covariance matrix of the errors is correctly specified."
      ],
      "text/plain": [
       "<class 'statsmodels.iolib.summary.Summary'>\n",
       "\"\"\"\n",
       "                            OLS Regression Results                            \n",
       "==============================================================================\n",
       "Dep. Variable:                      y   R-squared:                       0.941\n",
       "Model:                            OLS   Adj. R-squared:                  0.941\n",
       "Method:                 Least Squares   F-statistic:                 1.251e+04\n",
       "Date:                Mon, 22 May 2023   Prob (F-statistic):               0.00\n",
       "Time:                        14:39:57   Log-Likelihood:                 1142.2\n",
       "No. Observations:                6252   AIC:                            -2266.\n",
       "Df Residuals:                    6243   BIC:                            -2206.\n",
       "Df Model:                           8                                         \n",
       "Covariance Type:            nonrobust                                         \n",
       "==============================================================================\n",
       "                 coef    std err          t      P>|t|      [0.025      0.975]\n",
       "------------------------------------------------------------------------------\n",
       "const         -2.5185      0.029    -88.250      0.000      -2.574      -2.463\n",
       "x1             1.1343      0.016     69.351      0.000       1.102       1.166\n",
       "x2             0.0724      0.014      5.079      0.000       0.044       0.100\n",
       "x3             0.1749      0.010     18.248      0.000       0.156       0.194\n",
       "x4            -0.6827      0.007   -100.123      0.000      -0.696      -0.669\n",
       "x5             1.4479      0.026     56.757      0.000       1.398       1.498\n",
       "x6             0.2802      0.029      9.731      0.000       0.224       0.337\n",
       "x7             0.0636      0.037      1.720      0.085      -0.009       0.136\n",
       "x8             0.2140      0.017     12.541      0.000       0.181       0.247\n",
       "==============================================================================\n",
       "Omnibus:                      104.112   Durbin-Watson:                   0.571\n",
       "Prob(Omnibus):                  0.000   Jarque-Bera (JB):              170.550\n",
       "Skew:                          -0.149   Prob(JB):                     9.24e-38\n",
       "Kurtosis:                       3.753   Cond. No.                         64.7\n",
       "==============================================================================\n",
       "\n",
       "Notes:\n",
       "[1] Standard Errors assume that the covariance matrix of the errors is correctly specified.\n",
       "\"\"\""
      ]
     },
     "execution_count": 5,
     "metadata": {},
     "output_type": "execute_result"
    }
   ],
   "source": [
    "tokamakTK.get_regression(DB5, DB2, withDB2=True)[1].summary()"
   ]
  },
  {
   "cell_type": "markdown",
   "id": "3a62ea70",
   "metadata": {},
   "source": [
    "### OLS"
   ]
  },
  {
   "cell_type": "code",
   "execution_count": 6,
   "id": "426603f3",
   "metadata": {},
   "outputs": [],
   "source": [
    "X = DB5[features].apply(np.abs).apply(np.log)\n",
    "X.insert(0,\"intercept\",np.ones(len(X))); X = X.to_numpy()\n",
    "y = DB5[[\"TAUTH\"]].apply(np.log).to_numpy()"
   ]
  },
  {
   "cell_type": "code",
   "execution_count": 7,
   "id": "65de56c6",
   "metadata": {},
   "outputs": [],
   "source": [
    "B = np.matmul( np.linalg.inv( np.matmul(X.T,X) ) ,  np.matmul(X.T,y))"
   ]
  },
  {
   "cell_type": "code",
   "execution_count": 8,
   "id": "b745305c",
   "metadata": {},
   "outputs": [
    {
     "data": {
      "text/plain": [
       "array([[-2.51853114],\n",
       "       [ 1.13432954],\n",
       "       [ 0.0723885 ],\n",
       "       [ 0.17489654],\n",
       "       [-0.6827009 ],\n",
       "       [ 1.44790891],\n",
       "       [ 0.28022651],\n",
       "       [ 0.06355416],\n",
       "       [ 0.21401782]])"
      ]
     },
     "execution_count": 8,
     "metadata": {},
     "output_type": "execute_result"
    }
   ],
   "source": [
    "B"
   ]
  },
  {
   "cell_type": "code",
   "execution_count": null,
   "id": "c28493d3",
   "metadata": {},
   "outputs": [],
   "source": []
  }
 ],
 "metadata": {
  "kernelspec": {
   "display_name": "Python 3 (ipykernel)",
   "language": "python",
   "name": "python3"
  },
  "language_info": {
   "codemirror_mode": {
    "name": "ipython",
    "version": 3
   },
   "file_extension": ".py",
   "mimetype": "text/x-python",
   "name": "python",
   "nbconvert_exporter": "python",
   "pygments_lexer": "ipython3",
   "version": "3.10.11"
  }
 },
 "nbformat": 4,
 "nbformat_minor": 5
}
