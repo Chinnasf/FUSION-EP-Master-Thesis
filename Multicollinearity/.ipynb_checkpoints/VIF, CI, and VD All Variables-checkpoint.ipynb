{
 "cells": [
  {
   "cell_type": "code",
   "execution_count": 1,
   "id": "8da1e4a9",
   "metadata": {},
   "outputs": [],
   "source": [
    "%load_ext autoreload\n",
    "%autoreload 2"
   ]
  },
  {
   "cell_type": "markdown",
   "id": "39ad4fd8",
   "metadata": {},
   "source": [
    "# Assessing Multicollinearity | All Variables"
   ]
  },
  {
   "cell_type": "code",
   "execution_count": 2,
   "id": "44947076",
   "metadata": {},
   "outputs": [],
   "source": [
    "import sys\n",
    "sys.path.append('../')\n",
    "import tokamakTK\n",
    "from tokamakTK import get_ECT_regression, prepare_data, get_pi_matrix, get_condition_number\n",
    "\n",
    "import matplotlib\n",
    "import numpy as np \n",
    "import pandas as pd\n",
    "import seaborn as sns\n",
    "import matplotlib.pyplot as plt\n",
    "import scipy as sp\n",
    "import statsmodels.api as sm\n",
    "import matplotlib.patches as mpatches\n",
    "\n",
    "from collections import Counter\n",
    "from scipy.stats import f\n",
    "from statsmodels.stats.anova import anova_lm\n",
    "from statsmodels.stats.outliers_influence import variance_inflation_factor\n",
    "\n",
    "\n",
    "pd.set_option('display.max_columns', None)\n",
    "path = \"../data/\"\n",
    "fig_path = \"../../../LATEX/Latex Images/\"\n",
    "\n",
    "plt.rc('font',family = 'serif')\n",
    "plt.rcParams[\"mathtext.fontset\"] = \"cm\""
   ]
  },
  {
   "cell_type": "code",
   "execution_count": 3,
   "id": "09f0a77b",
   "metadata": {},
   "outputs": [
    {
     "name": "stdout",
     "output_type": "stream",
     "text": [
      "  Subset that decrease alpha-R to 0.6357\n",
      "--------\n",
      "23.45% affected alpha_R\n",
      "76.55% did not affect alpha_R\n",
      "\n",
      "\n",
      "  Subset that decrease alpha-R to 0.9998\n",
      "--------\n",
      "9.88% affected alpha_R\n",
      "90.12% did not affect alpha_R\n"
     ]
    }
   ],
   "source": [
    "# Obtained from Optimization\n",
    "\n",
    "min_subset_ids_6357 = pd.read_csv(path+\"R_ids_alpha_0.6357.csv\")\n",
    "min_subset_ids_9998 = pd.read_csv(path+\"R_ids_alpha_0.9998.csv\")\n",
    "\n",
    "DB2 = pd.read_csv(path+\"DB2P8.csv\")\n",
    "DB5 = pd.read_csv(path+\"SELDB5_SVD.csv\", low_memory=False) \n",
    "\n",
    "# Setting ELMy Dataset\n",
    "DB5 = DB5[DB5[\"PHASE\"].isin(['HGELM', 'HSELM', 'HGELMH', 'HSELMH'])]\n",
    "\n",
    "# Removing Spherical TOKAMAKS\n",
    "#DB5 = DB5[~DB5[\"TOK\"].isin(['START','MAST','NSTX'])]\n",
    "\n",
    "# There is two shots from DB2P8 missing in DB5\n",
    "missing_shots = DB2[~DB2.id.isin( DB5.id.values )].reset_index(drop=True)\n",
    "DB5 = pd.concat([DB5, missing_shots], axis=0, ignore_index=True)\n",
    "\n",
    "# Labeling shots that had great impact in decreasing alpha_R\n",
    "DB5.insert(loc=2,column=\"label_6357\",value=[0]*len(DB5))\n",
    "DB5.loc[(DB5[DB5.id.isin(min_subset_ids_6357.id)].index), \"label_6357\"] = 1\n",
    "\n",
    "DB5.insert(loc=2,column=\"label_9998\",value=[0]*len(DB5))\n",
    "DB5.loc[(DB5[DB5.id.isin(min_subset_ids_9998.id)].index), \"label_9998\"] = 1\n",
    "\n",
    "DB5.insert(0, 'intercept', np.ones(len(DB5)))\n",
    "\n",
    "\n",
    "print(\n",
    "    \"  Subset that decrease alpha-R to 0.6357\\n--------\\n\" +\n",
    "    f\"{ round( (len(min_subset_ids_6357)/len(DB5))*100     ,2)  }% affected alpha_R\\n\" + \n",
    "    f\"{ round( (1 - len(min_subset_ids_6357)/len(DB5))*100 ,2)  }% did not affect alpha_R\" +\n",
    "    \"\\n\\n\\n  Subset that decrease alpha-R to 0.9998\\n--------\\n\" +\n",
    "    f\"{ round( (len(min_subset_ids_9998)/len(DB5))*100     ,2)  }% affected alpha_R\\n\" + \n",
    "    f\"{ round( (1 - len(min_subset_ids_9998)/len(DB5))*100 ,2)  }% did not affect alpha_R\"\n",
    ")"
   ]
  },
  {
   "cell_type": "code",
   "execution_count": 4,
   "id": "5c7999d2",
   "metadata": {},
   "outputs": [],
   "source": [
    "plasma_characteristics = [\"Q95\",\"BEIMHD\",\"PREMAG\",\n",
    "                          \"CONFIG\",\"DWDIA\",\"WMHD\",\"TORQ\",\"KAREA\", \"EPS\",\"MEFF\",\"VOL\",\"LCOULOMB\",\n",
    "                          \"IP\",\"RHOSTAR\",\"NUSTAR\",\"BETASTAR\"] \n",
    "TOK_characteristics = [\"TOK\",\"WALMAT\",\"DIVMAT\",\"LIMMAT\",\"AMIN\",\"BT\"]\n",
    "ELM = [\"ELMTYPE\",\"ELMFREQ\"]\n",
    "heating = [\"PECRH\", \"PICRH\", \"ICSCHEME\",\"AUXHEAT\",\"ECHMODE\",\"PELLET\"]\n",
    "impurities = [\"EVAP\",\"ZEFF\",\"ZEFFNEO\",\"PRAD\",\"POHM\",\"ENBI\",\"PNBI\"]\n",
    "power = [\"PLTH\",\"PFLOSS\"]\n",
    "temperatures = [\"TAV\",\"TEV\",\"TIV\"]\n",
    "fast_particles = [\"NESOL\",\"WFFORM\",\"WFICFORM\",\"OMEGACYCL\",\"NEL\"] \n",
    "\n",
    "features = plasma_characteristics + TOK_characteristics + ELM + \\\n",
    "           heating + impurities + power + temperatures + fast_particles\n",
    "\n",
    "num_features = DB5[features].select_dtypes(include=['int', 'float']).columns.tolist()"
   ]
  },
  {
   "cell_type": "markdown",
   "id": "3e308ca3",
   "metadata": {},
   "source": [
    "```Python\n",
    ">>> print(sorted(features))\n",
    "\n",
    "['AMIN', 'AUXHEAT', 'BEIMHD', 'BETASTAR', 'BT', 'CONFIG', 'DIVMAT', 'DWDIA', 'ECHMODE', 'ELMFREQ', 'ELMTYPE', 'ENBI', 'EPS', 'EVAP', 'ICSCHEME', 'IP', 'KAREA', 'LCOULOMB', 'LIMMAT', 'MEFF', 'NEL', 'NESOL', 'NUSTAR', 'OMEGACYCL', 'PECRH', 'PELLET', 'PFLOSS', 'PICRH', 'PLTH', 'PNBI', 'POHM', 'PRAD', 'PREMAG', 'Q95', 'RHOSTAR', 'TAV', 'TEV', 'TIV', 'TOK', 'TORQ', 'VOL', 'WALMAT', 'WFFORM', 'WFICFORM', 'WMHD', 'ZEFF', 'ZEFFNEO']\n",
    "\n",
    "```"
   ]
  },
  {
   "cell_type": "markdown",
   "id": "e00c284a",
   "metadata": {},
   "source": [
    "### OLD SUBSET WITH GOOD PERFORMANCE IN RF\n",
    "\n",
    "```Python\n",
    "# MAX VIF ~ 4.5 with \"RHOSTAR\" | With old code\n",
    "\n",
    "features = ['AUXHEAT','BETASTAR','BT','DIVNAME','ECHMODE','ELMFREQ','ELMTYPE',\n",
    "            'ENBI','HYBRID','IP','KAREA','LHTIME','MEFF','NUSTAR','PECRH',\n",
    "            'PELLET','PNBI','POHM','PREMAG','Q95','RHOSTAR',\n",
    "            'TAV','TEV','TORQ','WFFORM','ZEFFNEO']\n",
    "\n",
    "# n_estimators = 93, max_depth=20\n",
    "(array([0.89095745, 0.94471659]),\n",
    " array([0.80917874, 0.9705248 ]),\n",
    " array([0.84810127, 0.95744681]),\n",
    " array([ 414, 1391]))\n",
    "# Most important features: ['RHOSTAR', 'TAV', 'NUSTAR', 'LHTIME', 'BETASTAR'] | Impurity\n",
    "# Most important features: ['RHOSTAR', 'TAV', 'LHTIME', 'BETASTAR', 'NUSTAR'] | Permutation\n",
    "\n",
    "```"
   ]
  },
  {
   "cell_type": "markdown",
   "id": "5d5567f6",
   "metadata": {},
   "source": [
    "# Updated Analysis | Results\n",
    "\n",
    "```Python\n",
    "features = ['AUXHEAT', 'BEIMHD', 'BETASTAR', 'BT', 'CONFIG', 'DIVMAT', 'DWDIA', 'ECHMODE', \n",
    "            'ELMFREQ', 'ELMTYPE', 'EVAP', 'ICSCHEME', 'IP', \n",
    "            'LIMMAT', 'NEL', 'NESOL', 'NUSTAR', 'PECRH', 'PELLET', 'PFLOSS', \n",
    "            'PICRH', 'POHM', 'PRAD', 'PREMAG', 'Q95', 'RHOSTAR', \n",
    "            'TIV', 'TOK', 'TORQ', 'WALMAT', 'WFFORM', 'WFICFORM', 'ZEFF', 'ZEFFNEO']\n",
    "\n",
    "# All features condition number: 404.89256324590554\n",
    "# After removing PLTH, AMIN, and LCOULOMB; condition number: 67.44506605351036\n",
    "# After removing previous + KAREA, EPS, MEFF; condition number: 28.065937093415247\n",
    "\n",
    "# Removed: PLTH, AMIN, LCOULOMB, KAREA, EPS, MEFF, TAV, ENBI, PNBI, OMEGACYCL, TEV, VOL, WMHD\n",
    "# Resultant condition number: 13.07. \n",
    "\n",
    "# PLTH, 4200\n",
    "# AMIN, 1600\n",
    "# LCOULOMB, 600\n",
    "# KAREA, 180\n",
    "# EPS, 110\n",
    "# MEFF, 70\n",
    "# TAV, 31\n",
    "# ENBI, 29\n",
    "# PNBI, 26\n",
    "# OMEGACYCL, 23\n",
    "# TEV, 19\n",
    "# VOL, 16\n",
    "# WMHD, 14\n",
    "```"
   ]
  },
  {
   "cell_type": "code",
   "execution_count": 5,
   "id": "8ab9d9ba",
   "metadata": {},
   "outputs": [],
   "source": [
    "features = ['AUXHEAT', 'BEIMHD', 'BETASTAR', 'BT', 'CONFIG', 'DIVMAT', 'DWDIA', 'ECHMODE', \n",
    "            'ELMFREQ', 'ELMTYPE', 'EVAP', 'ICSCHEME', 'IP', \n",
    "            'LIMMAT', 'NEL', 'NESOL', 'NUSTAR', 'PECRH', 'PELLET', 'PFLOSS', \n",
    "            'PICRH', 'POHM', 'PRAD', 'PREMAG', 'Q95', 'RHOSTAR', \n",
    "            'TIV', 'TOK', 'TORQ', 'WALMAT', 'WFFORM', 'WFICFORM', 'ZEFF', 'ZEFFNEO']"
   ]
  },
  {
   "cell_type": "markdown",
   "id": "a09d14eb",
   "metadata": {},
   "source": [
    "# See functions inside `tokamakTK`"
   ]
  },
  {
   "cell_type": "code",
   "execution_count": 6,
   "id": "16c08392",
   "metadata": {},
   "outputs": [],
   "source": [
    "DB5 = tokamakTK.clean_categorical_data(DB5)\n",
    "\n",
    "# Needed to respectively clean each dtype\n",
    "num_features = DB5[features].select_dtypes(include=['int', 'float']).columns.tolist()\n",
    "cat_features = DB5[features].select_dtypes(include=['object']).columns.tolist()\n",
    "\n",
    "data_num = DB5[num_features+[\"TOK\",\"DATE\"]]\n",
    "data_cat = DB5[cat_features]\n",
    "\n",
    "data_num = tokamakTK.clean_numerical_data(data_num, SS_scaling=False, UL_scale=True)\n",
    "#data = pd.concat([data_cat, data_num], axis=1)"
   ]
  },
  {
   "cell_type": "code",
   "execution_count": 7,
   "id": "be215c8a",
   "metadata": {},
   "outputs": [
    {
     "name": "stdout",
     "output_type": "stream",
     "text": [
      "Condition index: [ 1.          1.86470938  2.15770861  2.80056135  2.82790953  3.16064139\n",
      "  3.39769241  3.6324398   3.94143765  4.31620171  4.9965548   5.41251022\n",
      "  5.51122631  5.86091006  6.58061487  6.88704     7.56525764  7.85150016\n",
      "  8.91849581 10.9915239  12.67681506 13.07404552]\n"
     ]
    }
   ],
   "source": [
    "Π = get_pi_matrix(data_num, num_features, scale=False, intercept=False)"
   ]
  },
  {
   "cell_type": "code",
   "execution_count": 8,
   "id": "90d6be49",
   "metadata": {},
   "outputs": [
    {
     "data": {
      "image/png": "[encoded data removed]",
      "text/plain": [
       "<Figure size 700x700 with 2 Axes>"
      ]
     },
     "metadata": {},
     "output_type": "display_data"
    }
   ],
   "source": [
    "# Create the figure and subplots\n",
    "fig, ax1 = plt.subplots(1, 1, figsize=(7,7))\n",
    "\n",
    "# Plotting subplot 1\n",
    "sns.heatmap(Π, vmin=0, vmax=1,  linecolor=\"white\", linewidth=0.1, ax=ax1, cmap=sns.color_palette(\"light:#A84547\", as_cmap=True))\n",
    "ax1.set_title(f\" STDB5 | $c($X$)$ = {round(get_condition_number(data_num),2)}\")\n",
    "ax1.set_yticklabels(ax1.get_yticklabels(), rotation=0)\n",
    "\n",
    "# Adjust the layout and spacing between subplots\n",
    "plt.tight_layout()\n",
    "#plt.savefig(fig_path+\"VD_STDB599.pdf\", format=\"pdf\", dpi=800, bbox_inches='tight');"
   ]
  },
  {
   "cell_type": "markdown",
   "id": "47b23da2",
   "metadata": {},
   "source": [
    "## Variance Inflation Factor (VIF) and Tolerance\n",
    "\n",
    "The Variation Inflation Factor (VIF) is a measure of multicollinearity in a linear regression model. It quantifies the degree to which the variance of the estimated regression coefficient is inflated due to collinearity in the predictors.\n",
    "\n",
    "\"One recommendation is that **if VIF is greater than 5**, then the explanatory variable given by exog_idx is highly collinear with the other explanatory variables, and the parameter estimates will have large standard errors because of this.\" [[statsmodels]](https://www.statsmodels.org/dev/generated/statsmodels.stats.outliers_influence.variance_inflation_factor.html)\n",
    "\n",
    "$$\n",
    "    \\text{VIF}_j = \\frac{1}{1-R^2_j}.\n",
    "$$\n",
    "\n",
    "With $R^2_j$ being the coefficient of determination for the regression of $x_j$ on the remaining variables; namely, \n",
    "\n",
    "$$\n",
    "    R^2 = 1 - \\frac{RSS}{TSS}.\n",
    "$$\n",
    "\n",
    "With $RSS$ being the sum of squares of residuals; and, $TSS$ the total sum of squares;\n",
    "\n",
    "$$\n",
    "    SSR = \\sum_i\\left( \\hat{y} - \\bar{y} \\right)^2; \\quad \\text{and} \\quad TSS = \\sum_i\\left( y - \\bar{y} \\right)^2\n",
    "$$\n",
    "\n",
    "**Tolerance** is the inverse of VIF and relates to the proportion of variance in a predictor variable. A **tolerance value less than 0.1** is generally considered to be indicative of problematic multicollinearity.|"
   ]
  },
  {
   "cell_type": "code",
   "execution_count": null,
   "id": "06c3c471",
   "metadata": {},
   "outputs": [],
   "source": [
    "VIF = pd.DataFrame()\n",
    "VIF[\"STDB5\"]=[variance_inflation_factor(data_num.values, f) for f in range(len(data_num.columns))]\n",
    "VIF.index = data_num.columns"
   ]
  },
  {
   "cell_type": "code",
   "execution_count": null,
   "id": "a6566f7d",
   "metadata": {},
   "outputs": [],
   "source": [
    "plt.figure(figsize=(7,8))\n",
    "ax = sns.heatmap(VIF, annot=True,\n",
    "                 cmap=sns.color_palette(\"light:#A84547\", as_cmap=True), linecolor=\"white\", linewidth=0.73)\n",
    "#plt.savefig(fig_path+\"VIF_all_datasets_noIP.pdf\", format=\"pdf\", dpi=800, bbox_inches='tight');"
   ]
  },
  {
   "cell_type": "code",
   "execution_count": null,
   "id": "0f903692",
   "metadata": {},
   "outputs": [],
   "source": []
  },
  {
   "cell_type": "code",
   "execution_count": null,
   "id": "fbd630a0",
   "metadata": {},
   "outputs": [],
   "source": []
  },
  {
   "cell_type": "code",
   "execution_count": null,
   "id": "2acbca8a",
   "metadata": {},
   "outputs": [],
   "source": []
  },
  {
   "cell_type": "code",
   "execution_count": null,
   "id": "360202d6",
   "metadata": {},
   "outputs": [],
   "source": []
  }
 ],
 "metadata": {
  "kernelspec": {
   "display_name": "Python 3 (ipykernel)",
   "language": "python",
   "name": "python3"
  },
  "language_info": {
   "codemirror_mode": {
    "name": "ipython",
    "version": 3
   },
   "file_extension": ".py",
   "mimetype": "text/x-python",
   "name": "python",
   "nbconvert_exporter": "python",
   "pygments_lexer": "ipython3",
   "version": "3.10.11"
  }
 },
 "nbformat": 4,
 "nbformat_minor": 5
}
