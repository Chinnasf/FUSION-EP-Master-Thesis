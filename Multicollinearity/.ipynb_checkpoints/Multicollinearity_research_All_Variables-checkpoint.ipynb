{
 "cells": [
  {
   "cell_type": "code",
   "execution_count": 1,
   "id": "45bdcb26",
   "metadata": {},
   "outputs": [],
   "source": [
    "%load_ext autoreload\n",
    "%autoreload 2"
   ]
  },
  {
   "cell_type": "markdown",
   "id": "5b6f0407",
   "metadata": {},
   "source": [
    "# Multicollinearity | All Variables"
   ]
  },
  {
   "cell_type": "code",
   "execution_count": 2,
   "id": "613f22a7",
   "metadata": {},
   "outputs": [
    {
     "name": "stderr",
     "output_type": "stream",
     "text": [
      "/tmp/ipykernel_287436/4012704369.py:26: MatplotlibDeprecationWarning: The get_cmap function was deprecated in Matplotlib 3.7 and will be removed two minor releases later. Use ``matplotlib.colormaps[name]`` or ``matplotlib.colormaps.get_cmap(obj)`` instead.\n",
      "  TD_colors = plt.cm.get_cmap('flag', 20) #Paired, flag\n"
     ]
    }
   ],
   "source": [
    "import sys\n",
    "sys.path.append('../')\n",
    "import tokamakTK\n",
    "\n",
    "import numpy as np \n",
    "import pandas as pd\n",
    "import matplotlib.pyplot as plt\n",
    "import scipy as sp\n",
    "import statsmodels.api as sm\n",
    "import matplotlib.patches as mpatches\n",
    "import matplotlib.colors as mcolors\n",
    "import seaborn as sns\n",
    "import plotly.express as px\n",
    "import plotly.subplots as plsp\n",
    "import plotly.graph_objects as go\n",
    "\n",
    "from sklearn.decomposition import PCA\n",
    "from plotly.subplots import make_subplots\n",
    "from tokamakTK import MyCounter, HUEOrder\n",
    "from collections import Counter\n",
    "from statsmodels.stats.outliers_influence import variance_inflation_factor\n",
    "\n",
    "\n",
    "pd.set_option('display.max_columns', None)\n",
    "plt.rc('font',family = 'serif')\n",
    "TD_colors = plt.cm.get_cmap('flag', 20) #Paired, flag\n",
    "colors_ = sns.color_palette('viridis', 20)\n",
    "CSS_colors = [mcolors.to_hex(TD_colors(i)) for i in range(20)]\n",
    "path = \"../data/\""
   ]
  },
  {
   "cell_type": "code",
   "execution_count": 3,
   "id": "7d7bb2dd",
   "metadata": {},
   "outputs": [
    {
     "name": "stdout",
     "output_type": "stream",
     "text": [
      "23.45% of the data decreased alpha_R\n",
      "76.55% of the data did not decrease alpha_R\n"
     ]
    }
   ],
   "source": [
    "# Obtained from Optimization\n",
    "min_subset_ids = pd.read_csv(path+\"R_ids_alpha_0.6357.csv\")\n",
    "\n",
    "DB2 = pd.read_csv(path+\"DB2P8.csv\")\n",
    "DB5 = pd.read_csv(path+\"SELDB5_SVD.csv\", low_memory=False) \n",
    "\n",
    "# Setting ELMy Dataset\n",
    "DB5 = DB5[DB5[\"PHASE\"].isin(['HGELM', 'HSELM', 'HGELMH', 'HSELMH'])]\n",
    "\n",
    "# REMOVING SPHERICAL TOKAMAKS\n",
    "#DB5 = DB5[~DB5.TOK.isin(['MAST', 'NSTX', 'START'])]\n",
    "\n",
    "# There is two shots from DB2P8 missing in DB5\n",
    "missing_shots = DB2[~DB2.id.isin( DB5.id.values )].reset_index(drop=True)\n",
    "DB5 = pd.concat([DB5, missing_shots], axis=0, ignore_index=True)\n",
    "\n",
    "# Labeling shots that had great impact in decreasing alpha_R\n",
    "DB5.insert(loc=2,column=\"label\",value=[0]*len(DB5))\n",
    "DB5.insert(loc=2,column=\"label_str\",value=[\"Unaffected\"]*len(DB5))\n",
    "DB5.loc[(DB5[DB5.id.isin(min_subset_ids.id)].index), \"label\"] = 1\n",
    "DB5.loc[(DB5[DB5.id.isin(min_subset_ids.id)].index), \"label_str\"] = \"Decreasing\"\n",
    "\n",
    "print(\n",
    "    f\"{ round( (len(min_subset_ids)/len(DB5))*100     ,2)  }% of the data decreased alpha_R\\n\" + \n",
    "    f\"{ round( (1 - len(min_subset_ids)/len(DB5))*100 ,2)  }% of the data did not decrease alpha_R\"\n",
    ")"
   ]
  },
  {
   "cell_type": "markdown",
   "id": "a9399cb4",
   "metadata": {},
   "source": [
    "# Different subset of features with low VIF\n",
    "\n",
    "\n",
    "```Python \n",
    "\n",
    "plasma_characteristics = [\"QCYL5\",\"BEIMHD\",\"PREMAG\",\"LHTIME\",\"HYBRID\",\n",
    "                          \"CONFIG\",\"DWDIA\",\"WMHD\",\"TORQ\",\"KAREA\", \"EPS\",\"MEFF\",\"VOL\",\"LCOULOMB\",\n",
    "                          \"IP\",\"RHOSTAR\",\"NUSTAR\",\"BETASTAR\"] \n",
    "TOK_characteristics = [\"TOK\",\"DIVNAME\",\"WALMAT\",\"DIVMAT\",\"LIMMAT\",\"AMIN\",\"BT\"]\n",
    "ELM = [\"ELMTYPE\",\"ELMFREQ\"]\n",
    "heating = [\"PECRH\", \"PICRH\", \"ICSCHEME\",\"AUXHEAT\",\"ECHMODE\",\"PELLET\"]\n",
    "impurities = [\"EVAP\",\"ZEFF\",\"ZEFFNEO\",\"PRAD\",\"POHM\",\"ENBI\",\"PNBI\"]\n",
    "power = [\"PLTH\",\"PFLOSS\"]\n",
    "temperatures = [\"TAV\",\"TEV\",\"TIV\"]\n",
    "fast_particles = [\"NESOL\",\"WFFORM\",\"WFICFORM\",\"OMEGACYCL\",\"NEL\"] \n",
    "\n",
    "features = plasma_characteristics + TOK_characteristics + ELM + \\\n",
    "           heating + impurities + power + temperatures + fast_particles\n",
    "\n",
    "```"
   ]
  },
  {
   "cell_type": "code",
   "execution_count": 12,
   "id": "52c371fa",
   "metadata": {},
   "outputs": [],
   "source": [
    "# All below 5 VIF\n",
    "features = ['AUXHEAT','BEIMHD','BETASTAR','BT','CONFIG','DIVMAT','DIVNAME','DWDIA',\n",
    "            'ECHMODE','ELMFREQ','ELMTYPE','ENBI','EVAP','HYBRID','ICSCHEME','IP',\n",
    "            'KAREA','LHTIME','LIMMAT','MEFF','NEL','NESOL','NUSTAR',\n",
    "            'PECRH','PELLET','PFLOSS','PICRH','POHM','PRAD','PREMAG','QCYL5',\n",
    "            'RHOSTAR','TAV','TIV','TOK','TORQ','WALMAT','WFFORM','WFICFORM',\n",
    "            'ZEFF','ZEFFNEO'\n",
    "           ]\n",
    "\n",
    "# Removing due to high VIF\n",
    "# PLTH(1302), AMIN(169), LCOULOMB(45), VOL(17), WMHD(11), TEV(7), EPS(7), OMEGACYCL(6), PNBI(7)\n",
    "\n",
    "\n",
    "# PLTH with VIF ~ 5\n",
    "features = ['NUSTAR', 'LHTIME', 'BETASTAR', 'QCYL5', 'HYBRID', 'BT', 'ENBI', 'POHM', 'TAV', 'RHOSTAR',\n",
    "            'DWDIA', 'NEL', 'PFLOSS', 'KAREA', 'MEFF', 'WFICFORM', 'IP', 'PRAD', 'PICRH', 'PECRH']\n",
    "\n",
    "\"\"\"# ENBI with VIF ~ 5\n",
    "features =  ['NUSTAR', 'BETASTAR', 'QCYL5', 'HYBRID', 'ENBI', 'POHM', 'TAV', 'RHOSTAR', 'PRAD', 'LHTIME',\n",
    "            'PNBI', 'DWDIA', 'BT', 'NEL', 'PFLOSS', 'KAREA', 'MEFF', 'WFICFORM', 'IP']\"\"\";"
   ]
  },
  {
   "cell_type": "code",
   "execution_count": 13,
   "id": "eb4cb02a",
   "metadata": {},
   "outputs": [],
   "source": [
    "DB5 = tokamakTK.clean_categorical_data(DB5)\n",
    "\n",
    "\n",
    "# Needed to respectively clean each dtype\n",
    "num_features = DB5[features].select_dtypes(include=['int', 'float']).columns.tolist()\n",
    "cat_features = DB5[features].select_dtypes(include=['object']).columns.tolist()\n",
    "\n",
    "\n",
    "data_num = DB5[num_features+[\"TOK\",\"DATE\"]]\n",
    "data_cat = DB5[cat_features]\n",
    "\n",
    "data_num = tokamakTK.clean_numerical_data(data_num)\n",
    "\n",
    "data = data_num.copy()#pd.concat([data_num, tokamakTK.encode_categorical_ohe(data_cat)], axis=1)"
   ]
  },
  {
   "cell_type": "code",
   "execution_count": 14,
   "id": "e55769ae",
   "metadata": {},
   "outputs": [
    {
     "data": {
      "text/plain": [
       "(6252, 19)"
      ]
     },
     "execution_count": 14,
     "metadata": {},
     "output_type": "execute_result"
    }
   ],
   "source": [
    "data.shape"
   ]
  },
  {
   "cell_type": "markdown",
   "id": "35227af8",
   "metadata": {},
   "source": [
    "## Correlation Matrix\n",
    "\n",
    "A bivariate correlation of 0.8 or 0.9 is commonly used as a cut-ff to indicate a high correlation between two regressors. Nevertheless, high correlation does not imply multicollinearity, as they are not the same [[Chan, J. Y., et al, 2022]](https://doi.org/10.3390/math10081283). "
   ]
  },
  {
   "cell_type": "code",
   "execution_count": 15,
   "id": "f0a8cf2c",
   "metadata": {},
   "outputs": [
    {
     "data": {
      "image/png": "[encoded data removed]",
      "text/plain": [
       "<Figure size 640x480 with 2 Axes>"
      ]
     },
     "metadata": {},
     "output_type": "display_data"
    }
   ],
   "source": [
    "sns.heatmap(data.corr(), cmap=\"vlag\", annot=False);"
   ]
  },
  {
   "cell_type": "markdown",
   "id": "37b66e74",
   "metadata": {},
   "source": [
    "## Variance Inflation Factor (VIF) and Tolerance\n",
    "\n",
    "The Variation Inflation Factor (VIF) is a measure of multicollinearity in a linear regression model. It quantifies the degree to which the variance of the estimated regression coefficient is inflated due to collinearity in the predictors.\n",
    "\n",
    "\"One recommendation is that **if VIF is greater than 5**, then the explanatory variable given by exog_idx is highly collinear with the other explanatory variables, and the parameter estimates will have large standard errors because of this.\" [[statsmodels]](https://www.statsmodels.org/dev/generated/statsmodels.stats.outliers_influence.variance_inflation_factor.html)\n",
    "\n",
    "$$\n",
    "    \\text{VIF}_j = \\frac{1}{1-R^2_j}.\n",
    "$$\n",
    "\n",
    "With $R^2_j$ being the coefficient of determination for the regression of $x_j$ on the remaining variables; namely, \n",
    "\n",
    "$$\n",
    "    R^2 = 1 - \\frac{RSS}{TSS}.\n",
    "$$\n",
    "\n",
    "With $RSS$ being the sum of squares of residuals; and, $TSS$ the total sum of squares;\n",
    "\n",
    "$$\n",
    "    SSR = \\sum_i\\left( \\hat{y} - \\bar{y} \\right)^2; \\quad \\text{and} \\quad TSS = \\sum_i\\left( y - \\bar{y} \\right)^2\n",
    "$$\n",
    "\n",
    "**Tolerance** is the inverse of VIF and relates to the proportion of variance in a predictor variable. A **tolerance value less than 0.1** is generally considered to be indicative of problematic multicollinearity."
   ]
  },
  {
   "cell_type": "code",
   "execution_count": 16,
   "id": "0332bb37",
   "metadata": {},
   "outputs": [
    {
     "data": {
      "text/html": [
       "<div>\n",
       "<style scoped>\n",
       "    .dataframe tbody tr th:only-of-type {\n",
       "        vertical-align: middle;\n",
       "    }\n",
       "\n",
       "    .dataframe tbody tr th {\n",
       "        vertical-align: top;\n",
       "    }\n",
       "\n",
       "    .dataframe thead th {\n",
       "        text-align: right;\n",
       "    }\n",
       "</style>\n",
       "<table border=\"1\" class=\"dataframe\">\n",
       "  <thead>\n",
       "    <tr style=\"text-align: right;\">\n",
       "      <th>feature</th>\n",
       "      <th>NUSTAR</th>\n",
       "      <th>LHTIME</th>\n",
       "      <th>BETASTAR</th>\n",
       "      <th>QCYL5</th>\n",
       "      <th>BT</th>\n",
       "      <th>ENBI</th>\n",
       "      <th>POHM</th>\n",
       "      <th>TAV</th>\n",
       "      <th>RHOSTAR</th>\n",
       "      <th>DWDIA</th>\n",
       "      <th>NEL</th>\n",
       "      <th>PFLOSS</th>\n",
       "      <th>KAREA</th>\n",
       "      <th>MEFF</th>\n",
       "      <th>WFICFORM</th>\n",
       "      <th>IP</th>\n",
       "      <th>PRAD</th>\n",
       "      <th>PICRH</th>\n",
       "      <th>PECRH</th>\n",
       "    </tr>\n",
       "  </thead>\n",
       "  <tbody>\n",
       "    <tr>\n",
       "      <th>VIF</th>\n",
       "      <td>1.911269</td>\n",
       "      <td>1.398757</td>\n",
       "      <td>3.942278</td>\n",
       "      <td>1.755937</td>\n",
       "      <td>2.352226</td>\n",
       "      <td>2.902597</td>\n",
       "      <td>2.141142</td>\n",
       "      <td>2.72928</td>\n",
       "      <td>4.554887</td>\n",
       "      <td>1.190791</td>\n",
       "      <td>2.181611</td>\n",
       "      <td>1.336435</td>\n",
       "      <td>2.076101</td>\n",
       "      <td>1.440963</td>\n",
       "      <td>2.553908</td>\n",
       "      <td>3.977659</td>\n",
       "      <td>2.66166</td>\n",
       "      <td>2.729295</td>\n",
       "      <td>1.185676</td>\n",
       "    </tr>\n",
       "    <tr>\n",
       "      <th>Tolerance</th>\n",
       "      <td>0.523213</td>\n",
       "      <td>0.71492</td>\n",
       "      <td>0.25366</td>\n",
       "      <td>0.569496</td>\n",
       "      <td>0.425129</td>\n",
       "      <td>0.344519</td>\n",
       "      <td>0.467041</td>\n",
       "      <td>0.366397</td>\n",
       "      <td>0.219544</td>\n",
       "      <td>0.839778</td>\n",
       "      <td>0.458377</td>\n",
       "      <td>0.748259</td>\n",
       "      <td>0.481672</td>\n",
       "      <td>0.693981</td>\n",
       "      <td>0.391557</td>\n",
       "      <td>0.251404</td>\n",
       "      <td>0.375705</td>\n",
       "      <td>0.366395</td>\n",
       "      <td>0.843401</td>\n",
       "    </tr>\n",
       "  </tbody>\n",
       "</table>\n",
       "</div>"
      ],
      "text/plain": [
       "feature      NUSTAR    LHTIME  BETASTAR     QCYL5        BT      ENBI  \\\n",
       "VIF        1.911269  1.398757  3.942278  1.755937  2.352226  2.902597   \n",
       "Tolerance  0.523213   0.71492   0.25366  0.569496  0.425129  0.344519   \n",
       "\n",
       "feature        POHM       TAV   RHOSTAR     DWDIA       NEL    PFLOSS  \\\n",
       "VIF        2.141142   2.72928  4.554887  1.190791  2.181611  1.336435   \n",
       "Tolerance  0.467041  0.366397  0.219544  0.839778  0.458377  0.748259   \n",
       "\n",
       "feature       KAREA      MEFF  WFICFORM        IP      PRAD     PICRH  \\\n",
       "VIF        2.076101  1.440963  2.553908  3.977659   2.66166  2.729295   \n",
       "Tolerance  0.481672  0.693981  0.391557  0.251404  0.375705  0.366395   \n",
       "\n",
       "feature       PECRH  \n",
       "VIF        1.185676  \n",
       "Tolerance  0.843401  "
      ]
     },
     "execution_count": 16,
     "metadata": {},
     "output_type": "execute_result"
    }
   ],
   "source": [
    "# VIF dataframe\n",
    "vif_data = pd.DataFrame()\n",
    "vif_data[\"feature\"] = data.columns\n",
    "  \n",
    "# calculating VIF for each feature\n",
    "vif_data[\"VIF\"] = [variance_inflation_factor(data.values, col_indx) for col_indx in range(len(data.columns))]\n",
    "vif_data[\"Tolerance\"] = 1/vif_data[\"VIF\"]\n",
    "vif_data = vif_data.T; vif_data.columns = vif_data.iloc[0]; vif_data.drop(\"feature\", inplace=True)\n",
    "\n",
    "vif_data"
   ]
  },
  {
   "cell_type": "code",
   "execution_count": 17,
   "id": "aa50eae7",
   "metadata": {},
   "outputs": [
    {
     "data": {
      "text/html": [
       "<div>\n",
       "<style scoped>\n",
       "    .dataframe tbody tr th:only-of-type {\n",
       "        vertical-align: middle;\n",
       "    }\n",
       "\n",
       "    .dataframe tbody tr th {\n",
       "        vertical-align: top;\n",
       "    }\n",
       "\n",
       "    .dataframe thead th {\n",
       "        text-align: right;\n",
       "    }\n",
       "</style>\n",
       "<table border=\"1\" class=\"dataframe\">\n",
       "  <thead>\n",
       "    <tr style=\"text-align: right;\">\n",
       "      <th></th>\n",
       "      <th>VIF</th>\n",
       "      <th>Tolerance</th>\n",
       "    </tr>\n",
       "    <tr>\n",
       "      <th>feature</th>\n",
       "      <th></th>\n",
       "      <th></th>\n",
       "    </tr>\n",
       "  </thead>\n",
       "  <tbody>\n",
       "    <tr>\n",
       "      <th>NUSTAR</th>\n",
       "      <td>1.911269</td>\n",
       "      <td>0.523213</td>\n",
       "    </tr>\n",
       "    <tr>\n",
       "      <th>LHTIME</th>\n",
       "      <td>1.398757</td>\n",
       "      <td>0.71492</td>\n",
       "    </tr>\n",
       "    <tr>\n",
       "      <th>BETASTAR</th>\n",
       "      <td>3.942278</td>\n",
       "      <td>0.25366</td>\n",
       "    </tr>\n",
       "    <tr>\n",
       "      <th>QCYL5</th>\n",
       "      <td>1.755937</td>\n",
       "      <td>0.569496</td>\n",
       "    </tr>\n",
       "    <tr>\n",
       "      <th>BT</th>\n",
       "      <td>2.352226</td>\n",
       "      <td>0.425129</td>\n",
       "    </tr>\n",
       "    <tr>\n",
       "      <th>ENBI</th>\n",
       "      <td>2.902597</td>\n",
       "      <td>0.344519</td>\n",
       "    </tr>\n",
       "    <tr>\n",
       "      <th>POHM</th>\n",
       "      <td>2.141142</td>\n",
       "      <td>0.467041</td>\n",
       "    </tr>\n",
       "    <tr>\n",
       "      <th>TAV</th>\n",
       "      <td>2.72928</td>\n",
       "      <td>0.366397</td>\n",
       "    </tr>\n",
       "    <tr>\n",
       "      <th>RHOSTAR</th>\n",
       "      <td>4.554887</td>\n",
       "      <td>0.219544</td>\n",
       "    </tr>\n",
       "    <tr>\n",
       "      <th>DWDIA</th>\n",
       "      <td>1.190791</td>\n",
       "      <td>0.839778</td>\n",
       "    </tr>\n",
       "    <tr>\n",
       "      <th>NEL</th>\n",
       "      <td>2.181611</td>\n",
       "      <td>0.458377</td>\n",
       "    </tr>\n",
       "    <tr>\n",
       "      <th>PFLOSS</th>\n",
       "      <td>1.336435</td>\n",
       "      <td>0.748259</td>\n",
       "    </tr>\n",
       "    <tr>\n",
       "      <th>KAREA</th>\n",
       "      <td>2.076101</td>\n",
       "      <td>0.481672</td>\n",
       "    </tr>\n",
       "    <tr>\n",
       "      <th>MEFF</th>\n",
       "      <td>1.440963</td>\n",
       "      <td>0.693981</td>\n",
       "    </tr>\n",
       "    <tr>\n",
       "      <th>WFICFORM</th>\n",
       "      <td>2.553908</td>\n",
       "      <td>0.391557</td>\n",
       "    </tr>\n",
       "    <tr>\n",
       "      <th>IP</th>\n",
       "      <td>3.977659</td>\n",
       "      <td>0.251404</td>\n",
       "    </tr>\n",
       "    <tr>\n",
       "      <th>PRAD</th>\n",
       "      <td>2.66166</td>\n",
       "      <td>0.375705</td>\n",
       "    </tr>\n",
       "    <tr>\n",
       "      <th>PICRH</th>\n",
       "      <td>2.729295</td>\n",
       "      <td>0.366395</td>\n",
       "    </tr>\n",
       "    <tr>\n",
       "      <th>PECRH</th>\n",
       "      <td>1.185676</td>\n",
       "      <td>0.843401</td>\n",
       "    </tr>\n",
       "  </tbody>\n",
       "</table>\n",
       "</div>"
      ],
      "text/plain": [
       "               VIF Tolerance\n",
       "feature                     \n",
       "NUSTAR    1.911269  0.523213\n",
       "LHTIME    1.398757   0.71492\n",
       "BETASTAR  3.942278   0.25366\n",
       "QCYL5     1.755937  0.569496\n",
       "BT        2.352226  0.425129\n",
       "ENBI      2.902597  0.344519\n",
       "POHM      2.141142  0.467041\n",
       "TAV        2.72928  0.366397\n",
       "RHOSTAR   4.554887  0.219544\n",
       "DWDIA     1.190791  0.839778\n",
       "NEL       2.181611  0.458377\n",
       "PFLOSS    1.336435  0.748259\n",
       "KAREA     2.076101  0.481672\n",
       "MEFF      1.440963  0.693981\n",
       "WFICFORM  2.553908  0.391557\n",
       "IP        3.977659  0.251404\n",
       "PRAD       2.66166  0.375705\n",
       "PICRH     2.729295  0.366395\n",
       "PECRH     1.185676  0.843401"
      ]
     },
     "execution_count": 17,
     "metadata": {},
     "output_type": "execute_result"
    }
   ],
   "source": [
    "vif_data.T[vif_data.T[\"VIF\"] < 10 ]"
   ]
  },
  {
   "cell_type": "code",
   "execution_count": 18,
   "id": "7b833d10",
   "metadata": {},
   "outputs": [
    {
     "data": {
      "text/html": [
       "<div>\n",
       "<style scoped>\n",
       "    .dataframe tbody tr th:only-of-type {\n",
       "        vertical-align: middle;\n",
       "    }\n",
       "\n",
       "    .dataframe tbody tr th {\n",
       "        vertical-align: top;\n",
       "    }\n",
       "\n",
       "    .dataframe thead th {\n",
       "        text-align: right;\n",
       "    }\n",
       "</style>\n",
       "<table border=\"1\" class=\"dataframe\">\n",
       "  <thead>\n",
       "    <tr style=\"text-align: right;\">\n",
       "      <th></th>\n",
       "      <th>VIF</th>\n",
       "      <th>Tolerance</th>\n",
       "    </tr>\n",
       "    <tr>\n",
       "      <th>feature</th>\n",
       "      <th></th>\n",
       "      <th></th>\n",
       "    </tr>\n",
       "  </thead>\n",
       "  <tbody>\n",
       "  </tbody>\n",
       "</table>\n",
       "</div>"
      ],
      "text/plain": [
       "Empty DataFrame\n",
       "Columns: [VIF, Tolerance]\n",
       "Index: []"
      ]
     },
     "execution_count": 18,
     "metadata": {},
     "output_type": "execute_result"
    }
   ],
   "source": [
    "vif_data.T[vif_data.T[\"VIF\"] >= 5 ]"
   ]
  },
  {
   "cell_type": "code",
   "execution_count": 19,
   "id": "c4d5332b",
   "metadata": {},
   "outputs": [
    {
     "data": {
      "text/plain": [
       "Index(['NUSTAR', 'LHTIME', 'BETASTAR', 'QCYL5', 'BT', 'ENBI', 'POHM', 'TAV',\n",
       "       'RHOSTAR', 'DWDIA', 'NEL', 'PFLOSS', 'KAREA', 'MEFF', 'WFICFORM', 'IP',\n",
       "       'PRAD', 'PICRH', 'PECRH'],\n",
       "      dtype='object', name='feature')"
      ]
     },
     "execution_count": 19,
     "metadata": {},
     "output_type": "execute_result"
    }
   ],
   "source": [
    "vif_data.T[vif_data.T[\"VIF\"] < 5 ].index"
   ]
  },
  {
   "cell_type": "markdown",
   "id": "94351f24",
   "metadata": {},
   "source": [
    "## Condition Index (or Condition Number)\n",
    "\n",
    "Tthe ratio of the largest to the smallest eigenvalue of the correlation matrix. A condition number greater than 30 or 100 is often considered to be indicative of problematic multicollinearity."
   ]
  },
  {
   "cell_type": "code",
   "execution_count": null,
   "id": "2effc26e",
   "metadata": {},
   "outputs": [],
   "source": [
    "#1. Compute the covatiance matrix of the data\n",
    "cov = np.cov(data, rowvar=False)\n",
    "#2. Get the eigenvalues of the covariance matrix.\n",
    "eigenvals, _ = np.linalg.eig(cov)\n",
    "#3. Compute the condition number\n",
    "\n",
    "cond_num = max(eigenvals) / min(eigenvals)\n",
    "print('Condition number:', cond_num)"
   ]
  },
  {
   "cell_type": "markdown",
   "id": "594018be",
   "metadata": {},
   "source": [
    "In this case, the condition number is sligtly greater than 5, which indicates that there may be some degree of multicollinearity in the dataset; but, not severe "
   ]
  },
  {
   "cell_type": "markdown",
   "id": "80a0fbb1",
   "metadata": {},
   "source": [
    "## Exploratory Data Analysis"
   ]
  },
  {
   "cell_type": "code",
   "execution_count": null,
   "id": "cd8b6043",
   "metadata": {
    "scrolled": false
   },
   "outputs": [],
   "source": [
    "data[\"Label\"] = DB5[\"label_str\"]\n",
    "\n",
    "g = sns.pairplot(data, \n",
    "             plot_kws=dict(marker=\"+\", linewidth=1),\n",
    "             diag_kws=dict(fill=False),\n",
    "             hue=\"Label\",\n",
    "             palette=\"Set2\"\n",
    "            );\n",
    "for ax in g.axes.flat:\n",
    "    ax.set_ylabel(ax.get_ylabel(), rotation = 0)\n",
    "    ax.set_xlabel(ax.get_xlabel(), rotation = 45)\n",
    "    ax.yaxis.set_label_coords(-3, 0.5)\n",
    "    ax.xaxis.set_label_coords(0.3, -1.5)\n",
    "sns.move_legend(g, \"upper left\", bbox_to_anchor=(1, 1))\n",
    "g.fig.set_size_inches(7,5)"
   ]
  },
  {
   "cell_type": "markdown",
   "id": "774e7cd6",
   "metadata": {},
   "source": [
    "## Principal Component Analysis (PCA)"
   ]
  },
  {
   "cell_type": "code",
   "execution_count": null,
   "id": "da11c814",
   "metadata": {},
   "outputs": [],
   "source": [
    "#1. Standarize data: this is already done by tokamakTK\n",
    "data = data.drop(\"Label\", axis=\"columns\")\n",
    "\n",
    "#2. Perform the PCA\n",
    "pca = PCA()\n",
    "pca.fit(data)\n",
    "\n",
    "#3. Examine the variance explained by each PC\n",
    "variance_ratio = pca.explained_variance_ratio_\n",
    "cumulative_variance_ratio = np.cumsum(variance_ratio)"
   ]
  },
  {
   "cell_type": "code",
   "execution_count": null,
   "id": "0eba9547",
   "metadata": {},
   "outputs": [],
   "source": [
    "# Print the results\n",
    "print(\"Variance explained by each PC:\\n\")\n",
    "pd.DataFrame([variance_ratio], columns=data.columns, index=[\"Variance\"]).T"
   ]
  },
  {
   "cell_type": "code",
   "execution_count": null,
   "id": "4dce4c20",
   "metadata": {},
   "outputs": [],
   "source": [
    "print(\"Cumulative variance explained by each PC:\\n\")\n",
    "pd.DataFrame([cumulative_variance_ratio], columns=data.columns, index=[\"Cum Variance\"]).T"
   ]
  },
  {
   "cell_type": "code",
   "execution_count": null,
   "id": "8f606144",
   "metadata": {},
   "outputs": [],
   "source": []
  },
  {
   "cell_type": "code",
   "execution_count": null,
   "id": "357d7b06",
   "metadata": {},
   "outputs": [],
   "source": []
  }
 ],
 "metadata": {
  "kernelspec": {
   "display_name": "Python 3 (ipykernel)",
   "language": "python",
   "name": "python3"
  },
  "language_info": {
   "codemirror_mode": {
    "name": "ipython",
    "version": 3
   },
   "file_extension": ".py",
   "mimetype": "text/x-python",
   "name": "python",
   "nbconvert_exporter": "python",
   "pygments_lexer": "ipython3",
   "version": "3.10.11"
  }
 },
 "nbformat": 4,
 "nbformat_minor": 5
}
