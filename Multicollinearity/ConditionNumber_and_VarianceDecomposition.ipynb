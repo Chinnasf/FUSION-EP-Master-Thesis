{
 "cells": [
  {
   "cell_type": "code",
   "execution_count": 1,
   "id": "60b4c85e",
   "metadata": {},
   "outputs": [],
   "source": [
    "%load_ext autoreload\n",
    "%autoreload 2"
   ]
  },
  {
   "cell_type": "markdown",
   "id": "1759f182",
   "metadata": {},
   "source": [
    "# Assessing Multicollinearity\n",
    "\n",
    "[Notes](https://eviews.com/help/helpintro.html#page/content%2Ftesting-Coefficient_Diagnostics.html%23ww182212)"
   ]
  },
  {
   "cell_type": "code",
   "execution_count": 2,
   "id": "f97c665e",
   "metadata": {},
   "outputs": [
    {
     "name": "stderr",
     "output_type": "stream",
     "text": [
      "/tmp/ipykernel_11944/3500145619.py:27: MatplotlibDeprecationWarning: The get_cmap function was deprecated in Matplotlib 3.7 and will be removed two minor releases later. Use ``matplotlib.colormaps[name]`` or ``matplotlib.colormaps.get_cmap(obj)`` instead.\n",
      "  TD_colors = plt.cm.get_cmap('flag', 20) #Paired, flag\n"
     ]
    }
   ],
   "source": [
    "import sys\n",
    "sys.path.append('../')\n",
    "import tokamakTK\n",
    "\n",
    "import numpy as np \n",
    "import pandas as pd\n",
    "import matplotlib.pyplot as plt\n",
    "import scipy as sp\n",
    "import statsmodels.api as sm\n",
    "import matplotlib.patches as mpatches\n",
    "import matplotlib.colors as mcolors\n",
    "import seaborn as sns\n",
    "import plotly.express as px\n",
    "import plotly.subplots as plsp\n",
    "import plotly.graph_objects as go\n",
    "\n",
    "from sklearn.preprocessing import StandardScaler\n",
    "from sklearn.decomposition import PCA\n",
    "from plotly.subplots import make_subplots\n",
    "from tokamakTK import MyCounter, HUEOrder\n",
    "from collections import Counter\n",
    "from statsmodels.stats.outliers_influence import variance_inflation_factor\n",
    "\n",
    "\n",
    "pd.set_option('display.max_columns', None)\n",
    "plt.rc('font',family = 'serif')\n",
    "TD_colors = plt.cm.get_cmap('flag', 20) #Paired, flag\n",
    "colors_ = sns.color_palette('viridis', 20)\n",
    "CSS_colors = [mcolors.to_hex(TD_colors(i)) for i in range(20)]\n",
    "path = \"../data/\""
   ]
  },
  {
   "cell_type": "code",
   "execution_count": 3,
   "id": "a79712e7",
   "metadata": {},
   "outputs": [
    {
     "name": "stdout",
     "output_type": "stream",
     "text": [
      "23.45% of the data decreased alpha_R\n",
      "76.55% of the data did not decrease alpha_R\n"
     ]
    }
   ],
   "source": [
    "# Obtained from Optimization\n",
    "min_subset_ids = pd.read_csv(path+\"R_ids_alpha_0.6357.csv\")\n",
    "\n",
    "DB2 = pd.read_csv(path+\"DB2P8.csv\")\n",
    "DB5 = pd.read_csv(path+\"SELDB5_SVD.csv\", low_memory=False) \n",
    "\n",
    "# Setting ELMy Dataset\n",
    "DB5 = DB5[DB5[\"PHASE\"].isin(['HGELM', 'HSELM', 'HGELMH', 'HSELMH'])]\n",
    "\n",
    "# REMOVING SPHERICAL TOKAMAKS\n",
    "#DB5 = DB5[~DB5.TOK.isin(['MAST', 'NSTX', 'START'])]\n",
    "\n",
    "# There is two shots from DB2P8 missing in DB5\n",
    "missing_shots = DB2[~DB2.id.isin( DB5.id.values )].reset_index(drop=True)\n",
    "DB5 = pd.concat([DB5, missing_shots], axis=0, ignore_index=True)\n",
    "\n",
    "# Labeling shots that had great impact in decreasing alpha_R\n",
    "DB5.insert(loc=2,column=\"label\",value=[0]*len(DB5))\n",
    "DB5.insert(loc=2,column=\"label_str\",value=[\"Unaffected\"]*len(DB5))\n",
    "DB5.loc[(DB5[DB5.id.isin(min_subset_ids.id)].index), \"label\"] = 1\n",
    "DB5.loc[(DB5[DB5.id.isin(min_subset_ids.id)].index), \"label_str\"] = \"Decreasing\"\n",
    "\n",
    "print(\n",
    "    f\"{ round( (len(min_subset_ids)/len(DB5))*100     ,2)  }% of the data decreased alpha_R\\n\" + \n",
    "    f\"{ round( (1 - len(min_subset_ids)/len(DB5))*100 ,2)  }% of the data did not decrease alpha_R\"\n",
    ")"
   ]
  },
  {
   "cell_type": "code",
   "execution_count": 4,
   "id": "ddd805b2",
   "metadata": {},
   "outputs": [],
   "source": [
    "features = ['IP', 'BT', 'NEL', 'PLTH', 'RGEO', 'KAREA', 'EPS', 'MEFF']"
   ]
  },
  {
   "cell_type": "markdown",
   "id": "b124879c",
   "metadata": {},
   "source": [
    "###  `log(abs(X))` | With Spherical DS | complete DB5"
   ]
  },
  {
   "cell_type": "code",
   "execution_count": 5,
   "id": "a42ba82f",
   "metadata": {},
   "outputs": [],
   "source": [
    "X = DB5[features].apply(np.abs).apply(np.log)\n",
    "X.insert(0,\"intercept\", np.ones(len(X)))\n",
    "X = X.to_numpy()\n",
    "y = DB5[[\"TAUTH\"]].apply(np.log).to_numpy()\n",
    "\n",
    "β = np.matmul( np.linalg.inv( np.matmul(X.T,X) ) ,  np.matmul(X.T,y))"
   ]
  },
  {
   "cell_type": "code",
   "execution_count": 6,
   "id": "1dd4f313",
   "metadata": {},
   "outputs": [
    {
     "data": {
      "text/html": [
       "<div>\n",
       "<style scoped>\n",
       "    .dataframe tbody tr th:only-of-type {\n",
       "        vertical-align: middle;\n",
       "    }\n",
       "\n",
       "    .dataframe tbody tr th {\n",
       "        vertical-align: top;\n",
       "    }\n",
       "\n",
       "    .dataframe thead th {\n",
       "        text-align: right;\n",
       "    }\n",
       "</style>\n",
       "<table border=\"1\" class=\"dataframe\">\n",
       "  <thead>\n",
       "    <tr style=\"text-align: right;\">\n",
       "      <th></th>\n",
       "      <th>alpha_x</th>\n",
       "    </tr>\n",
       "  </thead>\n",
       "  <tbody>\n",
       "    <tr>\n",
       "      <th>intercept</th>\n",
       "      <td>-2.518531</td>\n",
       "    </tr>\n",
       "    <tr>\n",
       "      <th>IP</th>\n",
       "      <td>1.134330</td>\n",
       "    </tr>\n",
       "    <tr>\n",
       "      <th>BT</th>\n",
       "      <td>0.072389</td>\n",
       "    </tr>\n",
       "    <tr>\n",
       "      <th>NEL</th>\n",
       "      <td>0.174897</td>\n",
       "    </tr>\n",
       "    <tr>\n",
       "      <th>PLTH</th>\n",
       "      <td>-0.682701</td>\n",
       "    </tr>\n",
       "    <tr>\n",
       "      <th>RGEO</th>\n",
       "      <td>1.447909</td>\n",
       "    </tr>\n",
       "    <tr>\n",
       "      <th>KAREA</th>\n",
       "      <td>0.280227</td>\n",
       "    </tr>\n",
       "    <tr>\n",
       "      <th>EPS</th>\n",
       "      <td>0.063554</td>\n",
       "    </tr>\n",
       "    <tr>\n",
       "      <th>MEFF</th>\n",
       "      <td>0.214018</td>\n",
       "    </tr>\n",
       "  </tbody>\n",
       "</table>\n",
       "</div>"
      ],
      "text/plain": [
       "            alpha_x\n",
       "intercept -2.518531\n",
       "IP         1.134330\n",
       "BT         0.072389\n",
       "NEL        0.174897\n",
       "PLTH      -0.682701\n",
       "RGEO       1.447909\n",
       "KAREA      0.280227\n",
       "EPS        0.063554\n",
       "MEFF       0.214018"
      ]
     },
     "execution_count": 6,
     "metadata": {},
     "output_type": "execute_result"
    }
   ],
   "source": [
    "pd.DataFrame(β, index=[\"intercept\"] + features, columns=[\"alpha_x\"])"
   ]
  },
  {
   "cell_type": "code",
   "execution_count": 7,
   "id": "9e28c7df",
   "metadata": {},
   "outputs": [
    {
     "data": {
      "text/plain": [
       "1.1502860169217888"
      ]
     },
     "execution_count": 7,
     "metadata": {},
     "output_type": "execute_result"
    }
   ],
   "source": [
    "np.var(β)"
   ]
  },
  {
   "cell_type": "code",
   "execution_count": 8,
   "id": "b3e6795b",
   "metadata": {},
   "outputs": [
    {
     "data": {
      "text/plain": [
       "(6252, 9)"
      ]
     },
     "execution_count": 8,
     "metadata": {},
     "output_type": "execute_result"
    }
   ],
   "source": [
    "X.shape"
   ]
  },
  {
   "cell_type": "code",
   "execution_count": 9,
   "id": "b9a8922a",
   "metadata": {},
   "outputs": [],
   "source": [
    "# REMOVING INTERCEPT\n",
    "\n",
    "X = X[:,1:]"
   ]
  },
  {
   "cell_type": "code",
   "execution_count": 10,
   "id": "b3366fd8",
   "metadata": {},
   "outputs": [],
   "source": [
    "X = StandardScaler().fit_transform(X) # Q???????????\n",
    "A = np.matmul(X.T, X)\n",
    "\n",
    "# Correlation Matrix\n",
    "R = 1/A"
   ]
  },
  {
   "cell_type": "code",
   "execution_count": 11,
   "id": "6a1548fe",
   "metadata": {},
   "outputs": [
    {
     "data": {
      "text/plain": [
       "array([[ 0.00015995,  0.00046729,  0.00190505,  0.00019492,  0.00023336,\n",
       "         0.0003168 ,  0.00053049,  0.00048386],\n",
       "       [ 0.00046729,  0.00015995,  0.00058293,  0.00046705,  0.0004286 ,\n",
       "        -0.00076201, -0.00029473,  0.00089822],\n",
       "       [ 0.00190505,  0.00058293,  0.00015995,  0.00080755, -0.00044862,\n",
       "         0.00065211,  0.00225102,  0.00049322],\n",
       "       [ 0.00019492,  0.00046705,  0.00080755,  0.00015995,  0.00025956,\n",
       "         0.00035022,  0.0008825 ,  0.00059571],\n",
       "       [ 0.00023336,  0.0004286 , -0.00044862,  0.00025956,  0.00015995,\n",
       "         0.00278908, -0.0005991 ,  0.01271353],\n",
       "       [ 0.0003168 , -0.00076201,  0.00065211,  0.00035022,  0.00278908,\n",
       "         0.00015995,  0.00032034,  0.00049209],\n",
       "       [ 0.00053049, -0.00029473,  0.00225102,  0.0008825 , -0.0005991 ,\n",
       "         0.00032034,  0.00015995,  0.0007273 ],\n",
       "       [ 0.00048386,  0.00089822,  0.00049322,  0.00059571,  0.01271353,\n",
       "         0.00049209,  0.0007273 ,  0.00015995]])"
      ]
     },
     "execution_count": 11,
     "metadata": {},
     "output_type": "execute_result"
    }
   ],
   "source": [
    "R"
   ]
  },
  {
   "cell_type": "markdown",
   "id": "f8af21a5",
   "metadata": {},
   "source": [
    "[`np.linalg.svd`](https://numpy.org/doc/stable/reference/generated/numpy.linalg.svd.html)"
   ]
  },
  {
   "cell_type": "code",
   "execution_count": 13,
   "id": "13259140",
   "metadata": {},
   "outputs": [],
   "source": [
    "# Singular Value Decomposition of Scaled X\n",
    "U,D,VT = np.linalg.svd( X )\n",
    "V = VT.T"
   ]
  },
  {
   "cell_type": "code",
   "execution_count": 14,
   "id": "d54daf23",
   "metadata": {},
   "outputs": [
    {
     "data": {
      "text/plain": [
       "array([136.36717315, 113.26930451,  95.01041752,  64.91116621,\n",
       "        51.6575547 ,  39.22381573,  31.30783684,  12.74474325])"
      ]
     },
     "execution_count": 14,
     "metadata": {},
     "output_type": "execute_result"
    }
   ],
   "source": [
    "D"
   ]
  },
  {
   "cell_type": "code",
   "execution_count": 15,
   "id": "e2b57e06",
   "metadata": {},
   "outputs": [
    {
     "data": {
      "text/plain": [
       "array([136.36717315, 113.26930451,  95.01041752,  64.91116621,\n",
       "        51.6575547 ,  39.22381573,  31.30783684,  12.74474325])"
      ]
     },
     "execution_count": 15,
     "metadata": {},
     "output_type": "execute_result"
    }
   ],
   "source": [
    "sp.linalg.svd(X)[1]"
   ]
  },
  {
   "cell_type": "markdown",
   "id": "f2c840fa",
   "metadata": {},
   "source": [
    "### Condition Number of a Matrx\n",
    "\n",
    "$$\n",
    "    k = \\frac{\\mu_{max}}{\\mu_{min}}\n",
    "$$\n",
    "\n",
    "$A$ is ill conditioned if $\\alpha\\sim 1$. p103. \n",
    "\n",
    "$$\n",
    "    ||A||\\cdot||A^{-1}|| = (1+\\alpha)\\cdot (1+\\alpha)^{-1}\n",
    "$$\n",
    "\n",
    "The product explodes $\\rightarrow$ numerical stability. "
   ]
  },
  {
   "cell_type": "code",
   "execution_count": 16,
   "id": "c7a4f52e",
   "metadata": {},
   "outputs": [
    {
     "data": {
      "text/plain": [
       "10.699876059002447"
      ]
     },
     "execution_count": 16,
     "metadata": {},
     "output_type": "execute_result"
    }
   ],
   "source": [
    "μ_max, μ_min = max(D), min(D)\n",
    "k = μ_max/μ_min\n",
    "\n",
    "k"
   ]
  },
  {
   "cell_type": "markdown",
   "id": "6bc742bd",
   "metadata": {},
   "source": [
    "Largest value in $\\eta_k$ is also the condition number of the matrix $X$"
   ]
  },
  {
   "cell_type": "code",
   "execution_count": 17,
   "id": "b67be86c",
   "metadata": {},
   "outputs": [
    {
     "data": {
      "text/plain": [
       "136.36717315434439"
      ]
     },
     "execution_count": 17,
     "metadata": {},
     "output_type": "execute_result"
    }
   ],
   "source": [
    "μ_max"
   ]
  },
  {
   "cell_type": "code",
   "execution_count": 18,
   "id": "e38e4b47",
   "metadata": {},
   "outputs": [
    {
     "data": {
      "text/plain": [
       "array([ 1.        ,  1.20391993,  1.43528654,  2.10082766,  2.6398302 ,\n",
       "        3.4766422 ,  4.35568812, 10.69987606])"
      ]
     },
     "execution_count": 18,
     "metadata": {},
     "output_type": "execute_result"
    }
   ],
   "source": [
    "# Maximum is 64.71 when StandardScaler is not applied\n",
    "\n",
    "η_k = μ_max/D\n",
    "η_k"
   ]
  },
  {
   "cell_type": "markdown",
   "id": "67c9b9f4",
   "metadata": {},
   "source": [
    "* $\\eta_k\\in\\:\\:[5, 10]$: Moderate collinearity\n",
    "* $\\eta_k\\in\\:\\:[30, 100]$: Stron collinearity\n",
    "\n",
    "Several large $\\eta_k$'s, keys the simultaneous presence of more than one near dependency. "
   ]
  },
  {
   "cell_type": "markdown",
   "id": "d6313139",
   "metadata": {},
   "source": [
    "### Variance Decomposition\n",
    "\n",
    "\"The estimated variance of each regressor coefficient may be decomposed into a sum of terms each of which is associated with a singular value; thereby providinf means for determining the extent to which near dependencies degrade eacg variance.\" [Belsley, Kuh, Welsch](https://onlinelibrary.wiley.com/doi/book/10.1002/0471725153) p.118 (ebook)\n",
    "\n",
    "This is the link between numerical analysis and regression analysis. \n",
    "\n",
    "* NUMERICAL ANALYSIS: application of singular-value decomposition of $X$ \n",
    "* REGRESSION ANALYSIS: variance-covariance matrix of $\\hat{\\beta}$\n",
    "\n",
    "Variance-Covariance Matrix of $\\hat{\\beta} = \\sigma^2\\cdot A$; where $\\sigma$ is the common standard deviation of the $\\mathbf{\\varepsilon}$, in the linear model. \n",
    "\n",
    "$$\n",
    "    Var[\\hat{\\beta}] = \\sigma^2 \\sum_j\\frac{V^2_{ij}}{\\mu_j^2}\n",
    "$$\n",
    "\n",
    "The variance decomposition proportions are:\n",
    "\n",
    "$$\n",
    "    \\pi_{jk} = \\frac{\\phi_{kj}}{\\phi_k}\n",
    "$$\n",
    "\n",
    "where\n",
    "\n",
    "$$\n",
    "    \\phi_{kj} = \\frac{V^2_{ij}}{\\mu_j^2} \\text{  and,  } \\: \\phi_k = \\sum_j \\phi_{kj}\n",
    "$$"
   ]
  },
  {
   "cell_type": "code",
   "execution_count": 21,
   "id": "28bfe4ce",
   "metadata": {},
   "outputs": [],
   "source": [
    "V_sq = np.square(V); mu_sq = np.square(D)"
   ]
  },
  {
   "cell_type": "code",
   "execution_count": 56,
   "id": "e88dcbfe",
   "metadata": {},
   "outputs": [],
   "source": [
    "φ_kj = np.zeros((len(features),len(features)))\n",
    "φ_k  = np.zeros(len(features))\n",
    "pi_jk  = np.zeros((len(features),len(features)))\n",
    "\n",
    "for k in range(len(features)):\n",
    "    φ_kj[k,:] = V_sq[k,:] / mu_sq\n",
    "    φ_k[k] = φ_kj[k,:].sum()\n",
    "    pi_jk[:,k]  = φ_kj[k,:] / φ_k[k]\n",
    "                                  \n",
    "# Pi-Matrix\n",
    "Π = pd.DataFrame(pi_jk, \n",
    "                 index=[f\"μ{i}\" for i in range(len(features))], \n",
    "                 columns=[f\"var[{f}]\" for f in features])              "
   ]
  },
  {
   "cell_type": "code",
   "execution_count": 57,
   "id": "3e278f7c",
   "metadata": {},
   "outputs": [
    {
     "data": {
      "text/html": [
       "<div>\n",
       "<style scoped>\n",
       "    .dataframe tbody tr th:only-of-type {\n",
       "        vertical-align: middle;\n",
       "    }\n",
       "\n",
       "    .dataframe tbody tr th {\n",
       "        vertical-align: top;\n",
       "    }\n",
       "\n",
       "    .dataframe thead th {\n",
       "        text-align: right;\n",
       "    }\n",
       "</style>\n",
       "<table border=\"1\" class=\"dataframe\">\n",
       "  <thead>\n",
       "    <tr style=\"text-align: right;\">\n",
       "      <th></th>\n",
       "      <th>var[IP]</th>\n",
       "      <th>var[BT]</th>\n",
       "      <th>var[NEL]</th>\n",
       "      <th>var[PLTH]</th>\n",
       "      <th>var[RGEO]</th>\n",
       "      <th>var[KAREA]</th>\n",
       "      <th>var[EPS]</th>\n",
       "      <th>var[MEFF]</th>\n",
       "    </tr>\n",
       "  </thead>\n",
       "  <tbody>\n",
       "    <tr>\n",
       "      <th>μ0</th>\n",
       "      <td>0.006112</td>\n",
       "      <td>0.003179</td>\n",
       "      <td>0.002282</td>\n",
       "      <td>0.022772</td>\n",
       "      <td>0.003376</td>\n",
       "      <td>0.015423</td>\n",
       "      <td>0.000842</td>\n",
       "      <td>0.020084</td>\n",
       "    </tr>\n",
       "    <tr>\n",
       "      <th>μ1</th>\n",
       "      <td>0.000038</td>\n",
       "      <td>0.021423</td>\n",
       "      <td>0.007091</td>\n",
       "      <td>0.000469</td>\n",
       "      <td>0.006532</td>\n",
       "      <td>0.031195</td>\n",
       "      <td>0.019384</td>\n",
       "      <td>0.014287</td>\n",
       "    </tr>\n",
       "    <tr>\n",
       "      <th>μ2</th>\n",
       "      <td>0.000854</td>\n",
       "      <td>0.024782</td>\n",
       "      <td>0.121021</td>\n",
       "      <td>0.000512</td>\n",
       "      <td>0.006522</td>\n",
       "      <td>0.001316</td>\n",
       "      <td>0.004057</td>\n",
       "      <td>0.069645</td>\n",
       "    </tr>\n",
       "    <tr>\n",
       "      <th>μ3</th>\n",
       "      <td>0.000102</td>\n",
       "      <td>0.000173</td>\n",
       "      <td>0.098934</td>\n",
       "      <td>0.020178</td>\n",
       "      <td>0.000932</td>\n",
       "      <td>0.020835</td>\n",
       "      <td>0.000035</td>\n",
       "      <td>0.798238</td>\n",
       "    </tr>\n",
       "    <tr>\n",
       "      <th>μ4</th>\n",
       "      <td>0.006245</td>\n",
       "      <td>0.009734</td>\n",
       "      <td>0.003501</td>\n",
       "      <td>0.012243</td>\n",
       "      <td>0.002269</td>\n",
       "      <td>0.475317</td>\n",
       "      <td>0.096180</td>\n",
       "      <td>0.011236</td>\n",
       "    </tr>\n",
       "    <tr>\n",
       "      <th>μ5</th>\n",
       "      <td>0.017873</td>\n",
       "      <td>0.293154</td>\n",
       "      <td>0.145373</td>\n",
       "      <td>0.209532</td>\n",
       "      <td>0.021743</td>\n",
       "      <td>0.152005</td>\n",
       "      <td>0.022465</td>\n",
       "      <td>0.078343</td>\n",
       "    </tr>\n",
       "    <tr>\n",
       "      <th>μ6</th>\n",
       "      <td>0.066796</td>\n",
       "      <td>0.071201</td>\n",
       "      <td>0.383235</td>\n",
       "      <td>0.656652</td>\n",
       "      <td>0.084739</td>\n",
       "      <td>0.018860</td>\n",
       "      <td>0.000021</td>\n",
       "      <td>0.004934</td>\n",
       "    </tr>\n",
       "    <tr>\n",
       "      <th>μ7</th>\n",
       "      <td>0.901981</td>\n",
       "      <td>0.576355</td>\n",
       "      <td>0.238564</td>\n",
       "      <td>0.077641</td>\n",
       "      <td>0.873886</td>\n",
       "      <td>0.285051</td>\n",
       "      <td>0.857017</td>\n",
       "      <td>0.003233</td>\n",
       "    </tr>\n",
       "  </tbody>\n",
       "</table>\n",
       "</div>"
      ],
      "text/plain": [
       "     var[IP]   var[BT]  var[NEL]  var[PLTH]  var[RGEO]  var[KAREA]  var[EPS]  \\\n",
       "μ0  0.006112  0.003179  0.002282   0.022772   0.003376    0.015423  0.000842   \n",
       "μ1  0.000038  0.021423  0.007091   0.000469   0.006532    0.031195  0.019384   \n",
       "μ2  0.000854  0.024782  0.121021   0.000512   0.006522    0.001316  0.004057   \n",
       "μ3  0.000102  0.000173  0.098934   0.020178   0.000932    0.020835  0.000035   \n",
       "μ4  0.006245  0.009734  0.003501   0.012243   0.002269    0.475317  0.096180   \n",
       "μ5  0.017873  0.293154  0.145373   0.209532   0.021743    0.152005  0.022465   \n",
       "μ6  0.066796  0.071201  0.383235   0.656652   0.084739    0.018860  0.000021   \n",
       "μ7  0.901981  0.576355  0.238564   0.077641   0.873886    0.285051  0.857017   \n",
       "\n",
       "    var[MEFF]  \n",
       "μ0   0.020084  \n",
       "μ1   0.014287  \n",
       "μ2   0.069645  \n",
       "μ3   0.798238  \n",
       "μ4   0.011236  \n",
       "μ5   0.078343  \n",
       "μ6   0.004934  \n",
       "μ7   0.003233  "
      ]
     },
     "execution_count": 57,
     "metadata": {},
     "output_type": "execute_result"
    }
   ],
   "source": [
    "Π"
   ]
  },
  {
   "cell_type": "markdown",
   "id": "3e085a83",
   "metadata": {},
   "source": [
    "### Large variance-decomposition proportions are greater than 0.5. "
   ]
  },
  {
   "cell_type": "markdown",
   "id": "9f07b11a",
   "metadata": {},
   "source": [
    "### Interpretation\n",
    "\n",
    "* The component associated to $\\mu_7$ (MEFF) accounts for most of the variance in IP, RGEO, and EPS; and almost half of BT.\n",
    "* $\\mu_3$ (PLTH) on MEFF $\\sim$ 0.8\n",
    "* $\\mu_5$ (KAREA) on BT $\\sim$ 0.3\n",
    "* $\\mu_6$ (EPS) on NEL $\\sim$ 0.4, on PLTH $\\sim$ 0.7\n",
    "\n",
    "$\\rightarrow$ 4 separate near dependencies in $X$, 3 strong, 1 moderate.\n",
    "\n",
    "**IMPORTANT**: The $\\Pi$-Matrix displays all such near\n",
    "dependencies, treating all columns of X symmetrically and requiring no\n",
    "prior information on the numbers of near dependencies or their\n",
    "composition."
   ]
  },
  {
   "cell_type": "markdown",
   "id": "50a89300",
   "metadata": {},
   "source": [
    "The $\\Pi-$Matrix helps assessing the damage that collinearity has caused to regression estimates. Example:\n",
    "\n",
    "<p align=\"center\">\n",
    "    <img src=\"example.png\" width=700\" />\n",
    "</p>\n",
    "\n"
   ]
  },
  {
   "cell_type": "markdown",
   "id": "c42cd263",
   "metadata": {},
   "source": [
    "# DIAGNOSTIC PROCEDURE\n",
    "\n",
    "1. **Condition Index**\n",
    "2. **Variance Decomposition**\n",
    "\n",
    "The magnitude of these two proportions measure a degree to which the corresponding regression estimate has been degraded by the presence of collinearity. \n",
    "\n",
    "* Examine the near dependencies: p.126 (ebook)\n",
    "* See also computational and Statistical problems for a good introduction. \n",
    "* 3.4 SUMMARY,INTERPRETATION, AND EXAMPLES OF DIAGNOSING ACTUAL DATA FOR COLLINEARITY. p.165"
   ]
  },
  {
   "cell_type": "code",
   "execution_count": null,
   "id": "43390670",
   "metadata": {},
   "outputs": [],
   "source": []
  }
 ],
 "metadata": {
  "kernelspec": {
   "display_name": "Python 3 (ipykernel)",
   "language": "python",
   "name": "python3"
  },
  "language_info": {
   "codemirror_mode": {
    "name": "ipython",
    "version": 3
   },
   "file_extension": ".py",
   "mimetype": "text/x-python",
   "name": "python",
   "nbconvert_exporter": "python",
   "pygments_lexer": "ipython3",
   "version": "3.10.11"
  }
 },
 "nbformat": 4,
 "nbformat_minor": 5
}
