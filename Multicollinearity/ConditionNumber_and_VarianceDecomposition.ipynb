{
 "cells": [
  {
   "cell_type": "code",
   "execution_count": 56,
   "id": "60b4c85e",
   "metadata": {},
   "outputs": [
    {
     "name": "stdout",
     "output_type": "stream",
     "text": [
      "The autoreload extension is already loaded. To reload it, use:\n",
      "  %reload_ext autoreload\n"
     ]
    }
   ],
   "source": [
    "%load_ext autoreload\n",
    "%autoreload 2"
   ]
  },
  {
   "cell_type": "markdown",
   "id": "1759f182",
   "metadata": {},
   "source": [
    "# Assessing Multicollinearity\n",
    "\n",
    "[Notes](https://eviews.com/help/helpintro.html#page/content%2Ftesting-Coefficient_Diagnostics.html%23ww182212)"
   ]
  },
  {
   "cell_type": "code",
   "execution_count": 57,
   "id": "f97c665e",
   "metadata": {},
   "outputs": [
    {
     "name": "stderr",
     "output_type": "stream",
     "text": [
      "/tmp/ipykernel_6286/3500145619.py:27: MatplotlibDeprecationWarning: The get_cmap function was deprecated in Matplotlib 3.7 and will be removed two minor releases later. Use ``matplotlib.colormaps[name]`` or ``matplotlib.colormaps.get_cmap(obj)`` instead.\n",
      "  TD_colors = plt.cm.get_cmap('flag', 20) #Paired, flag\n"
     ]
    }
   ],
   "source": [
    "import sys\n",
    "sys.path.append('../')\n",
    "import tokamakTK\n",
    "\n",
    "import numpy as np \n",
    "import pandas as pd\n",
    "import matplotlib.pyplot as plt\n",
    "import scipy as sp\n",
    "import statsmodels.api as sm\n",
    "import matplotlib.patches as mpatches\n",
    "import matplotlib.colors as mcolors\n",
    "import seaborn as sns\n",
    "import plotly.express as px\n",
    "import plotly.subplots as plsp\n",
    "import plotly.graph_objects as go\n",
    "\n",
    "from sklearn.preprocessing import StandardScaler\n",
    "from sklearn.decomposition import PCA\n",
    "from plotly.subplots import make_subplots\n",
    "from tokamakTK import MyCounter, HUEOrder\n",
    "from collections import Counter\n",
    "from statsmodels.stats.outliers_influence import variance_inflation_factor\n",
    "\n",
    "\n",
    "pd.set_option('display.max_columns', None)\n",
    "plt.rc('font',family = 'serif')\n",
    "TD_colors = plt.cm.get_cmap('flag', 20) #Paired, flag\n",
    "colors_ = sns.color_palette('viridis', 20)\n",
    "CSS_colors = [mcolors.to_hex(TD_colors(i)) for i in range(20)]\n",
    "path = \"../data/\""
   ]
  },
  {
   "cell_type": "code",
   "execution_count": 58,
   "id": "a79712e7",
   "metadata": {},
   "outputs": [
    {
     "name": "stdout",
     "output_type": "stream",
     "text": [
      "24.37% of the data decreased alpha_R\n",
      "75.63% of the data did not decrease alpha_R\n"
     ]
    }
   ],
   "source": [
    "# Obtained from Optimization\n",
    "min_subset_ids = pd.read_csv(path+\"R_ids_alpha_0.6357.csv\")\n",
    "\n",
    "DB2 = pd.read_csv(path+\"DB2P8.csv\")\n",
    "DB5 = pd.read_csv(path+\"SELDB5_SVD.csv\", low_memory=False) \n",
    "\n",
    "# Setting ELMy Dataset\n",
    "DB5 = DB5[DB5[\"PHASE\"].isin(['HGELM', 'HSELM', 'HGELMH', 'HSELMH'])]\n",
    "\n",
    "# REMOVING SPHERICAL TOKAMAKS\n",
    "DB5 = DB5[~DB5.TOK.isin(['MAST', 'NSTX', 'START'])]\n",
    "\n",
    "# There is two shots from DB2P8 missing in DB5\n",
    "missing_shots = DB2[~DB2.id.isin( DB5.id.values )].reset_index(drop=True)\n",
    "DB5 = pd.concat([DB5, missing_shots], axis=0, ignore_index=True)\n",
    "\n",
    "# Labeling shots that had great impact in decreasing alpha_R\n",
    "DB5.insert(loc=2,column=\"label\",value=[0]*len(DB5))\n",
    "DB5.insert(loc=2,column=\"label_str\",value=[\"Unaffected\"]*len(DB5))\n",
    "DB5.loc[(DB5[DB5.id.isin(min_subset_ids.id)].index), \"label\"] = 1\n",
    "DB5.loc[(DB5[DB5.id.isin(min_subset_ids.id)].index), \"label_str\"] = \"Decreasing\"\n",
    "\n",
    "print(\n",
    "    f\"{ round( (len(min_subset_ids)/len(DB5))*100     ,2)  }% of the data decreased alpha_R\\n\" + \n",
    "    f\"{ round( (1 - len(min_subset_ids)/len(DB5))*100 ,2)  }% of the data did not decrease alpha_R\"\n",
    ")"
   ]
  },
  {
   "cell_type": "code",
   "execution_count": 59,
   "id": "ddd805b2",
   "metadata": {},
   "outputs": [],
   "source": [
    "features = ['IP', 'BT', 'NEL', 'PLTH', 'RGEO', 'KAREA', 'EPS', 'MEFF']"
   ]
  },
  {
   "cell_type": "markdown",
   "id": "b124879c",
   "metadata": {},
   "source": [
    "###  `log(abs(X))` | With Spherical DS | complete DB5"
   ]
  },
  {
   "cell_type": "code",
   "execution_count": 60,
   "id": "a42ba82f",
   "metadata": {},
   "outputs": [],
   "source": [
    "X = DB5[features].apply(np.abs).apply(np.log)\n",
    "X.insert(0,\"intercept\", np.ones(len(X)))\n",
    "X = X.to_numpy()\n",
    "y = DB5[[\"TAUTH\"]].apply(np.log).to_numpy()\n",
    "\n",
    "β = np.matmul( np.linalg.inv( np.matmul(X.T,X) ) ,  np.matmul(X.T,y))"
   ]
  },
  {
   "cell_type": "code",
   "execution_count": 61,
   "id": "4db2625d",
   "metadata": {},
   "outputs": [
    {
     "data": {
      "text/html": [
       "<div>\n",
       "<style scoped>\n",
       "    .dataframe tbody tr th:only-of-type {\n",
       "        vertical-align: middle;\n",
       "    }\n",
       "\n",
       "    .dataframe tbody tr th {\n",
       "        vertical-align: top;\n",
       "    }\n",
       "\n",
       "    .dataframe thead th {\n",
       "        text-align: right;\n",
       "    }\n",
       "</style>\n",
       "<table border=\"1\" class=\"dataframe\">\n",
       "  <thead>\n",
       "    <tr style=\"text-align: right;\">\n",
       "      <th></th>\n",
       "      <th>alpha_x</th>\n",
       "    </tr>\n",
       "  </thead>\n",
       "  <tbody>\n",
       "    <tr>\n",
       "      <th>intercept</th>\n",
       "      <td>-2.338070</td>\n",
       "    </tr>\n",
       "    <tr>\n",
       "      <th>IP</th>\n",
       "      <td>1.227854</td>\n",
       "    </tr>\n",
       "    <tr>\n",
       "      <th>BT</th>\n",
       "      <td>-0.037783</td>\n",
       "    </tr>\n",
       "    <tr>\n",
       "      <th>NEL</th>\n",
       "      <td>0.146285</td>\n",
       "    </tr>\n",
       "    <tr>\n",
       "      <th>PLTH</th>\n",
       "      <td>-0.669058</td>\n",
       "    </tr>\n",
       "    <tr>\n",
       "      <th>RGEO</th>\n",
       "      <td>1.281766</td>\n",
       "    </tr>\n",
       "    <tr>\n",
       "      <th>KAREA</th>\n",
       "      <td>0.112734</td>\n",
       "    </tr>\n",
       "    <tr>\n",
       "      <th>EPS</th>\n",
       "      <td>-0.013563</td>\n",
       "    </tr>\n",
       "    <tr>\n",
       "      <th>MEFF</th>\n",
       "      <td>0.233486</td>\n",
       "    </tr>\n",
       "  </tbody>\n",
       "</table>\n",
       "</div>"
      ],
      "text/plain": [
       "            alpha_x\n",
       "intercept -2.338070\n",
       "IP         1.227854\n",
       "BT        -0.037783\n",
       "NEL        0.146285\n",
       "PLTH      -0.669058\n",
       "RGEO       1.281766\n",
       "KAREA      0.112734\n",
       "EPS       -0.013563\n",
       "MEFF       0.233486"
      ]
     },
     "execution_count": 61,
     "metadata": {},
     "output_type": "execute_result"
    }
   ],
   "source": [
    "pd.DataFrame(β, index=[\"intercept\"] + features, columns=[\"alpha_x\"])"
   ]
  },
  {
   "cell_type": "code",
   "execution_count": 62,
   "id": "9e28c7df",
   "metadata": {},
   "outputs": [
    {
     "data": {
      "text/plain": [
       "1.0171824842891721"
      ]
     },
     "execution_count": 62,
     "metadata": {},
     "output_type": "execute_result"
    }
   ],
   "source": [
    "np.var(β)"
   ]
  },
  {
   "cell_type": "code",
   "execution_count": 63,
   "id": "f3fbcfe2",
   "metadata": {},
   "outputs": [
    {
     "data": {
      "text/plain": [
       "(6016, 9)"
      ]
     },
     "execution_count": 63,
     "metadata": {},
     "output_type": "execute_result"
    }
   ],
   "source": [
    "X.shape"
   ]
  },
  {
   "cell_type": "code",
   "execution_count": 64,
   "id": "206d6d49",
   "metadata": {},
   "outputs": [],
   "source": [
    "# REMOVING INTERCEPT\n",
    "#X = X[:,1:]\n",
    "\n",
    "df = pd.DataFrame(X, columns = [\"intercept\"]+features)\n",
    "# centered\n",
    "#df = df - df.describe().loc[\"mean\"]\n",
    "# scaled to norm\n",
    "X = (df / df.apply(lambda x: np.linalg.norm(x))).to_numpy()"
   ]
  },
  {
   "cell_type": "markdown",
   "id": "d4763bc0",
   "metadata": {},
   "source": [
    "[`np.linalg.svd`](https://numpy.org/doc/stable/reference/generated/numpy.linalg.svd.html)"
   ]
  },
  {
   "cell_type": "code",
   "execution_count": 67,
   "id": "13259140",
   "metadata": {},
   "outputs": [],
   "source": [
    "# Singular Value Decomposition of Scaled X\n"
   ]
  },
  {
   "cell_type": "code",
   "execution_count": 68,
   "id": "6a9199c1",
   "metadata": {},
   "outputs": [
    {
     "data": {
      "text/plain": [
       "array([2.76326954, 0.99673896, 0.38825946, 0.32505169, 0.22699796,\n",
       "       0.18084891, 0.15359219, 0.06594174, 0.04770324])"
      ]
     },
     "execution_count": 68,
     "metadata": {},
     "output_type": "execute_result"
    }
   ],
   "source": [
    "# Singular Values\n",
    "D"
   ]
  },
  {
   "cell_type": "code",
   "execution_count": 69,
   "id": "46bc5553",
   "metadata": {},
   "outputs": [
    {
     "data": {
      "text/plain": [
       "array([2.76326954, 0.99673896, 0.38825946, 0.32505169, 0.22699796,\n",
       "       0.18084891, 0.15359219, 0.06594174, 0.04770324])"
      ]
     },
     "execution_count": 69,
     "metadata": {},
     "output_type": "execute_result"
    }
   ],
   "source": [
    "sp.linalg.svd(X)[1]"
   ]
  },
  {
   "cell_type": "markdown",
   "id": "0b250516",
   "metadata": {},
   "source": [
    "### Condition Number of a Matrx\n",
    "\n",
    "$$\n",
    "    k = \\frac{\\mu_{max}}{\\mu_{min}}\n",
    "$$\n",
    "\n",
    "$A$ is ill conditioned if $\\alpha\\sim 1$. p103. \n",
    "\n",
    "$$\n",
    "    ||A||\\cdot||A^{-1}|| = (1+\\alpha)\\cdot (1+\\alpha)^{-1}\n",
    "$$\n",
    "\n",
    "The product explodes $\\rightarrow$ numerical stability. "
   ]
  },
  {
   "cell_type": "code",
   "execution_count": 70,
   "id": "176d0c75",
   "metadata": {},
   "outputs": [
    {
     "data": {
      "text/plain": [
       "57.92625044313085"
      ]
     },
     "execution_count": 70,
     "metadata": {},
     "output_type": "execute_result"
    }
   ],
   "source": [
    "μ_max, μ_min = max(D), min(D)\n",
    "k = μ_max/μ_min\n",
    "\n",
    "k"
   ]
  },
  {
   "cell_type": "markdown",
   "id": "af5a9dde",
   "metadata": {},
   "source": [
    "Largest value in $\\eta_k$ is also the condition number of the matrix $X$"
   ]
  },
  {
   "cell_type": "code",
   "execution_count": 71,
   "id": "3835bf1d",
   "metadata": {},
   "outputs": [
    {
     "data": {
      "text/plain": [
       "2.7632695410193358"
      ]
     },
     "execution_count": 71,
     "metadata": {},
     "output_type": "execute_result"
    }
   ],
   "source": [
    "μ_max"
   ]
  },
  {
   "cell_type": "code",
   "execution_count": 72,
   "id": "2147182c",
   "metadata": {},
   "outputs": [
    {
     "data": {
      "text/plain": [
       "array([ 1.        ,  2.77231014,  7.11706938,  8.50101582, 12.17310313,\n",
       "       15.2794374 , 17.99095124, 41.90471126, 57.92625044])"
      ]
     },
     "execution_count": 72,
     "metadata": {},
     "output_type": "execute_result"
    }
   ],
   "source": [
    "# Maximum is 64.71 when StandardScaler is not applied\n",
    "# Condition Index\n",
    "η_k = μ_max/D\n",
    "η_k"
   ]
  },
  {
   "cell_type": "markdown",
   "id": "568a050b",
   "metadata": {},
   "source": [
    "* $\\eta_k\\in\\:\\:[5, 10]$: Moderate collinearity\n",
    "* $\\eta_k\\in\\:\\:[30, 100]$: Stron collinearity\n",
    "\n",
    "Several large $\\eta_k$'s, keys the simultaneous presence of more than one near dependency. "
   ]
  },
  {
   "cell_type": "markdown",
   "id": "abc247c2",
   "metadata": {},
   "source": [
    "### Variance Decomposition\n",
    "\n",
    "\"The estimated variance of each regressor coefficient may be decomposed into a sum of terms each of which is associated with a singular value; thereby providinf means for determining the extent to which near dependencies degrade eacg variance.\" [Belsley, Kuh, Welsch](https://onlinelibrary.wiley.com/doi/book/10.1002/0471725153) p.118 (ebook)\n",
    "\n",
    "This is the link between numerical analysis and regression analysis. \n",
    "\n",
    "* NUMERICAL ANALYSIS: application of singular-value decomposition of $X$ \n",
    "* REGRESSION ANALYSIS: variance-covariance matrix of $\\hat{\\beta}$\n",
    "\n",
    "Variance-Covariance Matrix of $\\hat{\\beta} = \\sigma^2\\cdot A$; where $\\sigma$ is the common standard deviation of the $\\mathbf{\\varepsilon}$, in the linear model. \n",
    "\n",
    "$$\n",
    "    Var[\\hat{\\beta}] = \\sigma^2 \\sum_j\\frac{V^2_{ij}}{\\mu_j^2}\n",
    "$$\n",
    "\n",
    "The variance decomposition proportions are:\n",
    "\n",
    "$$\n",
    "    \\pi_{jk} = \\frac{\\phi_{kj}}{\\phi_k}\n",
    "$$\n",
    "\n",
    "where\n",
    "\n",
    "$$\n",
    "    \\phi_{kj} = \\frac{V^2_{ij}}{\\mu_j^2} \\text{  and,  } \\: \\phi_k = \\sum_j \\phi_{kj}\n",
    "$$"
   ]
  },
  {
   "cell_type": "code",
   "execution_count": 73,
   "id": "d527d43f",
   "metadata": {},
   "outputs": [],
   "source": [
    "V_sq = np.square(V); mu_sq = np.square(D)"
   ]
  },
  {
   "cell_type": "code",
   "execution_count": 74,
   "id": "d55325c4",
   "metadata": {},
   "outputs": [],
   "source": [
    "φ_kj = np.zeros((len(features)+1,len(features)+1))\n",
    "φ_k  = np.zeros(len(features)+1)\n",
    "pi_jk  = np.zeros((len(features)+1,len(features)+1))\n",
    "\n",
    "for k in range(len(features)):\n",
    "    φ_kj[k,:] = V_sq[k,:] / mu_sq\n",
    "    φ_k[k] = φ_kj[k,:].sum()\n",
    "    pi_jk[:,k]  = φ_kj[k,:] / φ_k[k]\n",
    "                                  \n",
    "# Pi-Matrix\n",
    "Π = pd.DataFrame(pi_jk, \n",
    "                 index=[f\"μ{i}\" for i in range(len(features)+1)], \n",
    "                 columns=[\"intrcp\"]+features)              "
   ]
  },
  {
   "cell_type": "code",
   "execution_count": 75,
   "id": "345a606c",
   "metadata": {},
   "outputs": [
    {
     "data": {
      "text/html": [
       "<div>\n",
       "<style scoped>\n",
       "    .dataframe tbody tr th:only-of-type {\n",
       "        vertical-align: middle;\n",
       "    }\n",
       "\n",
       "    .dataframe tbody tr th {\n",
       "        vertical-align: top;\n",
       "    }\n",
       "\n",
       "    .dataframe thead th {\n",
       "        text-align: right;\n",
       "    }\n",
       "</style>\n",
       "<table border=\"1\" class=\"dataframe\">\n",
       "  <thead>\n",
       "    <tr style=\"text-align: right;\">\n",
       "      <th></th>\n",
       "      <th>intrcp</th>\n",
       "      <th>IP</th>\n",
       "      <th>BT</th>\n",
       "      <th>NEL</th>\n",
       "      <th>PLTH</th>\n",
       "      <th>RGEO</th>\n",
       "      <th>KAREA</th>\n",
       "      <th>EPS</th>\n",
       "      <th>MEFF</th>\n",
       "    </tr>\n",
       "  </thead>\n",
       "  <tbody>\n",
       "    <tr>\n",
       "      <th>μ0</th>\n",
       "      <td>7.356934e-05</td>\n",
       "      <td>0.000144</td>\n",
       "      <td>0.000531</td>\n",
       "      <td>0.000371</td>\n",
       "      <td>0.000545</td>\n",
       "      <td>0.000193</td>\n",
       "      <td>0.000584</td>\n",
       "      <td>0.000052</td>\n",
       "      <td>0.0</td>\n",
       "    </tr>\n",
       "    <tr>\n",
       "      <th>μ1</th>\n",
       "      <td>1.273604e-04</td>\n",
       "      <td>0.043196</td>\n",
       "      <td>0.000069</td>\n",
       "      <td>0.000605</td>\n",
       "      <td>0.000796</td>\n",
       "      <td>0.000275</td>\n",
       "      <td>0.000010</td>\n",
       "      <td>0.000181</td>\n",
       "      <td>0.0</td>\n",
       "    </tr>\n",
       "    <tr>\n",
       "      <th>μ2</th>\n",
       "      <td>5.734592e-04</td>\n",
       "      <td>0.008308</td>\n",
       "      <td>0.056688</td>\n",
       "      <td>0.023010</td>\n",
       "      <td>0.001047</td>\n",
       "      <td>0.040267</td>\n",
       "      <td>0.000185</td>\n",
       "      <td>0.000834</td>\n",
       "      <td>0.0</td>\n",
       "    </tr>\n",
       "    <tr>\n",
       "      <th>μ3</th>\n",
       "      <td>2.928554e-05</td>\n",
       "      <td>0.000033</td>\n",
       "      <td>0.106360</td>\n",
       "      <td>0.006187</td>\n",
       "      <td>0.000031</td>\n",
       "      <td>0.009483</td>\n",
       "      <td>0.182115</td>\n",
       "      <td>0.000515</td>\n",
       "      <td>0.0</td>\n",
       "    </tr>\n",
       "    <tr>\n",
       "      <th>μ4</th>\n",
       "      <td>9.898254e-07</td>\n",
       "      <td>0.007381</td>\n",
       "      <td>0.001245</td>\n",
       "      <td>0.036511</td>\n",
       "      <td>0.154829</td>\n",
       "      <td>0.001544</td>\n",
       "      <td>0.004535</td>\n",
       "      <td>0.000056</td>\n",
       "      <td>0.0</td>\n",
       "    </tr>\n",
       "    <tr>\n",
       "      <th>μ5</th>\n",
       "      <td>4.225305e-03</td>\n",
       "      <td>0.027030</td>\n",
       "      <td>0.117646</td>\n",
       "      <td>0.022623</td>\n",
       "      <td>0.432287</td>\n",
       "      <td>0.000405</td>\n",
       "      <td>0.197057</td>\n",
       "      <td>0.004575</td>\n",
       "      <td>0.0</td>\n",
       "    </tr>\n",
       "    <tr>\n",
       "      <th>μ6</th>\n",
       "      <td>2.752184e-03</td>\n",
       "      <td>0.089205</td>\n",
       "      <td>0.169387</td>\n",
       "      <td>0.480647</td>\n",
       "      <td>0.245008</td>\n",
       "      <td>0.013516</td>\n",
       "      <td>0.179179</td>\n",
       "      <td>0.002199</td>\n",
       "      <td>0.0</td>\n",
       "    </tr>\n",
       "    <tr>\n",
       "      <th>μ7</th>\n",
       "      <td>5.831558e-01</td>\n",
       "      <td>0.402437</td>\n",
       "      <td>0.312585</td>\n",
       "      <td>0.338581</td>\n",
       "      <td>0.097544</td>\n",
       "      <td>0.587720</td>\n",
       "      <td>0.392742</td>\n",
       "      <td>0.021723</td>\n",
       "      <td>0.0</td>\n",
       "    </tr>\n",
       "    <tr>\n",
       "      <th>μ8</th>\n",
       "      <td>4.090620e-01</td>\n",
       "      <td>0.422266</td>\n",
       "      <td>0.235489</td>\n",
       "      <td>0.091466</td>\n",
       "      <td>0.067914</td>\n",
       "      <td>0.346597</td>\n",
       "      <td>0.043594</td>\n",
       "      <td>0.969866</td>\n",
       "      <td>0.0</td>\n",
       "    </tr>\n",
       "  </tbody>\n",
       "</table>\n",
       "</div>"
      ],
      "text/plain": [
       "          intrcp        IP        BT       NEL      PLTH      RGEO     KAREA  \\\n",
       "μ0  7.356934e-05  0.000144  0.000531  0.000371  0.000545  0.000193  0.000584   \n",
       "μ1  1.273604e-04  0.043196  0.000069  0.000605  0.000796  0.000275  0.000010   \n",
       "μ2  5.734592e-04  0.008308  0.056688  0.023010  0.001047  0.040267  0.000185   \n",
       "μ3  2.928554e-05  0.000033  0.106360  0.006187  0.000031  0.009483  0.182115   \n",
       "μ4  9.898254e-07  0.007381  0.001245  0.036511  0.154829  0.001544  0.004535   \n",
       "μ5  4.225305e-03  0.027030  0.117646  0.022623  0.432287  0.000405  0.197057   \n",
       "μ6  2.752184e-03  0.089205  0.169387  0.480647  0.245008  0.013516  0.179179   \n",
       "μ7  5.831558e-01  0.402437  0.312585  0.338581  0.097544  0.587720  0.392742   \n",
       "μ8  4.090620e-01  0.422266  0.235489  0.091466  0.067914  0.346597  0.043594   \n",
       "\n",
       "         EPS  MEFF  \n",
       "μ0  0.000052   0.0  \n",
       "μ1  0.000181   0.0  \n",
       "μ2  0.000834   0.0  \n",
       "μ3  0.000515   0.0  \n",
       "μ4  0.000056   0.0  \n",
       "μ5  0.004575   0.0  \n",
       "μ6  0.002199   0.0  \n",
       "μ7  0.021723   0.0  \n",
       "μ8  0.969866   0.0  "
      ]
     },
     "execution_count": 75,
     "metadata": {},
     "output_type": "execute_result"
    }
   ],
   "source": [
    "Π"
   ]
  },
  {
   "cell_type": "code",
   "execution_count": 76,
   "id": "9de08079",
   "metadata": {},
   "outputs": [
    {
     "data": {
      "image/png": "[encoded data removed]",
      "text/plain": [
       "<Figure size 640x480 with 2 Axes>"
      ]
     },
     "metadata": {},
     "output_type": "display_data"
    }
   ],
   "source": [
    "# Analaysis for Log space.\n",
    "ax = sns.heatmap(Π, vmin=0, vmax=1, linecolor=\"lightgray\", linewidth=0.73)\n",
    "ax.set_yticklabels(ax.get_yticklabels(), rotation=0)\n",
    "ax.set_xticklabels(ax.get_xticklabels(), rotation=40);"
   ]
  },
  {
   "cell_type": "markdown",
   "id": "0d795f5a",
   "metadata": {},
   "source": [
    "### Large variance-decomposition proportions are greater than 0.5. "
   ]
  },
  {
   "cell_type": "markdown",
   "id": "65aafb6c",
   "metadata": {},
   "source": [
    "### Interpretation || StandardScaler() || old analysis\n",
    "\n",
    "* The component associated to $\\mu_7$ (MEFF) accounts for most of the variance in IP, RGEO, and EPS; and almost half of BT.\n",
    "* $\\mu_3$ (PLTH) on MEFF $\\sim$ 0.8\n",
    "* $\\mu_5$ (KAREA) on BT $\\sim$ 0.3\n",
    "* $\\mu_6$ (EPS) on NEL $\\sim$ 0.4, on PLTH $\\sim$ 0.7\n",
    "\n",
    "$\\rightarrow$ 4 separate near dependencies in $X$, 3 strong, 1 moderate.\n",
    "\n",
    "**IMPORTANT**: The $\\Pi$-Matrix displays all such near\n",
    "dependencies, treating all columns of X symmetrically and requiring no\n",
    "prior information on the numbers of near dependencies or their\n",
    "composition."
   ]
  },
  {
   "cell_type": "markdown",
   "id": "4a3ea632",
   "metadata": {},
   "source": [
    "The $\\Pi-$Matrix helps assessing the damage that collinearity has caused to regression estimates. Example:\n",
    "\n",
    "<p align=\"center\">\n",
    "    <img src=\"example.png\" width=700\" />\n",
    "</p>\n",
    "\n"
   ]
  },
  {
   "cell_type": "markdown",
   "id": "ed16363c",
   "metadata": {},
   "source": [
    "# DIAGNOSTIC PROCEDURE\n",
    "\n",
    "1. **Condition Index**\n",
    "2. **Variance Decomposition**\n",
    "\n",
    "The magnitude of these two proportions measure a degree to which the corresponding regression estimate has been degraded by the presence of collinearity. \n",
    "\n",
    "* Examine the near dependencies: p.126 (ebook)\n",
    "* See also computational and Statistical problems for a good introduction. \n",
    "* 3.4 SUMMARY,INTERPRETATION, AND EXAMPLES OF DIAGNOSING ACTUAL DATA FOR COLLINEARITY. p.165"
   ]
  },
  {
   "cell_type": "code",
   "execution_count": null,
   "id": "2a31d943",
   "metadata": {},
   "outputs": [],
   "source": []
  },
  {
   "cell_type": "code",
   "execution_count": null,
   "id": "b5341b0b",
   "metadata": {},
   "outputs": [],
   "source": []
  },
  {
   "cell_type": "code",
   "execution_count": null,
   "id": "925a4a77",
   "metadata": {},
   "outputs": [],
   "source": []
  }
 ],
 "metadata": {
  "kernelspec": {
   "display_name": "Python 3 (ipykernel)",
   "language": "python",
   "name": "python3"
  },
  "language_info": {
   "codemirror_mode": {
    "name": "ipython",
    "version": 3
   },
   "file_extension": ".py",
   "mimetype": "text/x-python",
   "name": "python",
   "nbconvert_exporter": "python",
   "pygments_lexer": "ipython3",
   "version": "3.10.11"
  }
 },
 "nbformat": 4,
 "nbformat_minor": 5
}
