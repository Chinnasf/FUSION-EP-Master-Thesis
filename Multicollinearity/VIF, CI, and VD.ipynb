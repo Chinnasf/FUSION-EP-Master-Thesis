{
 "cells": [
  {
   "cell_type": "code",
   "execution_count": 1,
   "id": "8da1e4a9",
   "metadata": {},
   "outputs": [],
   "source": [
    "%load_ext autoreload\n",
    "%autoreload 2"
   ]
  },
  {
   "cell_type": "markdown",
   "id": "39ad4fd8",
   "metadata": {},
   "source": [
    "# Assessing Multicollinearity"
   ]
  },
  {
   "cell_type": "code",
   "execution_count": 2,
   "id": "44947076",
   "metadata": {},
   "outputs": [],
   "source": [
    "import sys\n",
    "sys.path.append('../')\n",
    "import tokamakTK\n",
    "from tokamakTK import get_ECT_regression, prepare_data, get_pi_matrix, get_condition_number\n",
    "\n",
    "import numpy as np \n",
    "import pandas as pd\n",
    "import seaborn as sns\n",
    "import matplotlib.pyplot as plt\n",
    "import scipy as sp\n",
    "import statsmodels.api as sm\n",
    "import matplotlib.patches as mpatches\n",
    "\n",
    "from collections import Counter\n",
    "from scipy.stats import f\n",
    "from statsmodels.stats.anova import anova_lm\n",
    "from statsmodels.stats.outliers_influence import variance_inflation_factor\n",
    "\n",
    "\n",
    "pd.set_option('display.max_columns', None)\n",
    "path = \"../data/\"\n",
    "fig_path = \"../../../LATEX/Latex Images/\"\n",
    "\n",
    "plt.rc('font',family = 'serif')\n",
    "plt.rcParams[\"mathtext.fontset\"] = \"cm\"\n",
    "\n",
    "\n",
    "features = ['IP', 'BT', 'NEL', 'PLTH', 'RGEO', 'KAREA', 'EPS', 'MEFF']"
   ]
  },
  {
   "cell_type": "code",
   "execution_count": 3,
   "id": "247d0c8d",
   "metadata": {},
   "outputs": [],
   "source": [
    "features_latex = [\"$I_p$\",\"$B_t$\",\"$\\\\bar{n}_e$\",\"$P_{l,th}$\",\"$R_{geo}$\",\"$\\\\kappa_a$\",\"$\\\\epsilon$\",\"$M_{eff}$\"]"
   ]
  },
  {
   "cell_type": "code",
   "execution_count": 4,
   "id": "09f0a77b",
   "metadata": {},
   "outputs": [
    {
     "name": "stdout",
     "output_type": "stream",
     "text": [
      "  Subset that decrease alpha-R to 0.6357\n",
      "--------\n",
      "23.45% affected alpha_R\n",
      "76.55% did not affect alpha_R\n",
      "\n",
      "\n",
      "  Subset that decrease alpha-R to 0.9998\n",
      "--------\n",
      "9.88% affected alpha_R\n",
      "90.12% did not affect alpha_R\n"
     ]
    }
   ],
   "source": [
    "# Obtained from Optimization\n",
    "\n",
    "min_subset_ids_6357 = pd.read_csv(path+\"R_ids_alpha_0.6357.csv\")\n",
    "min_subset_ids_9998 = pd.read_csv(path+\"R_ids_alpha_0.9998.csv\")\n",
    "\n",
    "DB2 = pd.read_csv(path+\"DB2P8.csv\")\n",
    "DB5 = pd.read_csv(path+\"SELDB5_SVD.csv\", low_memory=False) \n",
    "\n",
    "# Setting ELMy Dataset\n",
    "DB5 = DB5[DB5[\"PHASE\"].isin(['HGELM', 'HSELM', 'HGELMH', 'HSELMH'])]\n",
    "\n",
    "# Removing Spherical TOKAMAKS\n",
    "#DB5 = DB5[~DB5[\"TOK\"].isin(['START','MAST','NSTX'])]\n",
    "\n",
    "# There is two shots from DB2P8 missing in DB5\n",
    "missing_shots = DB2[~DB2.id.isin( DB5.id.values )].reset_index(drop=True)\n",
    "DB5 = pd.concat([DB5, missing_shots], axis=0, ignore_index=True)\n",
    "\n",
    "# Labeling shots that had great impact in decreasing alpha_R\n",
    "DB5.insert(loc=2,column=\"label_6357\",value=[0]*len(DB5))\n",
    "DB5.loc[(DB5[DB5.id.isin(min_subset_ids_6357.id)].index), \"label_6357\"] = 1\n",
    "\n",
    "DB5.insert(loc=2,column=\"label_9998\",value=[0]*len(DB5))\n",
    "DB5.loc[(DB5[DB5.id.isin(min_subset_ids_9998.id)].index), \"label_9998\"] = 1\n",
    "\n",
    "DB5.insert(0, 'intercept', np.ones(len(DB5)))\n",
    "\n",
    "\n",
    "print(\n",
    "    \"  Subset that decrease alpha-R to 0.6357\\n--------\\n\" +\n",
    "    f\"{ round( (len(min_subset_ids_6357)/len(DB5))*100     ,2)  }% affected alpha_R\\n\" + \n",
    "    f\"{ round( (1 - len(min_subset_ids_6357)/len(DB5))*100 ,2)  }% did not affect alpha_R\" +\n",
    "    \"\\n\\n\\n  Subset that decrease alpha-R to 0.9998\\n--------\\n\" +\n",
    "    f\"{ round( (len(min_subset_ids_9998)/len(DB5))*100     ,2)  }% affected alpha_R\\n\" + \n",
    "    f\"{ round( (1 - len(min_subset_ids_9998)/len(DB5))*100 ,2)  }% did not affect alpha_R\"\n",
    ")"
   ]
  },
  {
   "cell_type": "markdown",
   "id": "a09d14eb",
   "metadata": {},
   "source": [
    "# See functions inside `tokamakTK`\n",
    "\n",
    "```Python\n",
    "columns=['IP', 'BT', 'NEL', 'PLTH', 'RGEO', 'KAREA', 'EPS', 'MEFF'],\n",
    "```"
   ]
  },
  {
   "cell_type": "code",
   "execution_count": 5,
   "id": "16c08392",
   "metadata": {},
   "outputs": [],
   "source": [
    "all_cases = [prepare_data(DB2.copy(), features,True),  #0 DB2\n",
    "             prepare_data(DB5.copy(), features,True),  #1 DB5\n",
    "             prepare_data(DB5[DB5.label_6357.isin([1]) | DB5.id.isin(DB2.id.values)], features,True),  #2 Decreasing DB5 ~ 0.64\n",
    "             prepare_data(DB5[DB5.label_6357.isin([0])], features,True),                               #3 Unaffected DB5 ~ 2.16\n",
    "             prepare_data(DB5[DB5.label_9998.isin([1]) | DB5.id.isin(DB2.id.values)], features,True),  #4 Decreasing DB5 ~ 0.99\n",
    "             prepare_data(DB5[DB5.label_9998.isin([0])], features,True)                                #5 Unaffected DB5 ~ 1.71\n",
    "]\n",
    "\n",
    "ECT_cases = [DB2.copy(),  #0 DB2\n",
    "             DB5.copy(),  #1 DB5\n",
    "             DB5[DB5.label_6357.isin([1]) | DB5.id.isin(DB2.id.values)],  #2 Decreasing DB5 ~ 0.64\n",
    "             DB5[DB5.label_6357.isin([0])],                               #3 Unaffected DB5 ~ 2.16\n",
    "             DB5[DB5.label_9998.isin([1]) | DB5.id.isin(DB2.id.values)],  #4 Decreasing DB5 ~ 0.99\n",
    "             DB5[DB5.label_9998.isin([0])]                                #5 Unaffected DB5 ~ 1.71\n",
    "]\n",
    "\n",
    "# INTERESTING: when removing spherical TOKAMAKs alpha_R ~ 0.59 with 0.64 dataset. "
   ]
  },
  {
   "cell_type": "code",
   "execution_count": 6,
   "id": "276ebf80",
   "metadata": {},
   "outputs": [],
   "source": [
    "#get_ECT_regression(ECT_cases[3]).summary()"
   ]
  },
  {
   "cell_type": "code",
   "execution_count": 7,
   "id": "be215c8a",
   "metadata": {},
   "outputs": [
    {
     "name": "stdout",
     "output_type": "stream",
     "text": [
      "Condition Number: 46.69899094841035\n",
      "Condition Number: 55.45915012296385\n",
      "Condition Number: 46.81059954475682\n",
      "Condition Number: 57.1952878337015\n",
      "Condition Number: 46.046863668018766\n",
      "Condition Number: 55.7920406472854\n"
     ]
    }
   ],
   "source": [
    "Π = [get_pi_matrix(x, features, scale=True, intercept=True) for x in all_cases]\n",
    "for pi in Π:\n",
    "    pi.columns = [\"$\\\\alpha_0$\"] + features_latex"
   ]
  },
  {
   "cell_type": "code",
   "execution_count": 8,
   "id": "00942680",
   "metadata": {},
   "outputs": [
    {
     "name": "stdout",
     "output_type": "stream",
     "text": [
      "CI (DB2): [ 1.    2.28  5.28  5.8  10.52 11.14 17.7  33.15 46.7 ]\n",
      "CI (DB5): [ 1.    2.72  5.43  7.1  12.13 14.31 17.68 29.59 55.46]\n"
     ]
    },
    {
     "data": {
      "image/png": "[encoded data removed]",
      "text/plain": [
       "<Figure size 1000x400 with 4 Axes>"
      ]
     },
     "metadata": {},
     "output_type": "display_data"
    }
   ],
   "source": [
    "print(f\"CI (DB2): {np.round(tokamakTK.get_condition_index(all_cases[0]),2)}\")\n",
    "print(f\"CI (DB5): {np.round(tokamakTK.get_condition_index(all_cases[1]),2)}\")\n",
    "# Create the figure and subplots\n",
    "fig, (ax1, ax2) = plt.subplots(1, 2, figsize=(10, 4))\n",
    "\n",
    "# Plotting subplot 1\n",
    "sns.heatmap(Π[0], vmin=0, vmax=1, linecolor=\"white\", linewidth=0.1, ax=ax1, cmap=sns.color_palette(\"light:#A84547\", as_cmap=True))\n",
    "ax1.set_title(f\"DB2 | CN = {round(get_condition_number(all_cases[0]),2)} \")\n",
    "ax1.set_yticklabels(ax1.get_yticklabels(), rotation=0)\n",
    "\n",
    "# Plotting subplot 2\n",
    "sns.heatmap(Π[1], vmin=0, vmax=1, linecolor=\"white\", linewidth=0.1, ax=ax2, cmap=sns.color_palette(\"light:#A84547\", as_cmap=True))\n",
    "ax2.set_title(f\"STDB5 | CN = {round(get_condition_number(all_cases[1]),2)} \")\n",
    "ax2.set_yticklabels(ax2.get_yticklabels(), rotation=0)\n",
    "\n",
    "size = 14\n",
    "ax1.set_xticklabels(ax1.get_xticklabels(), fontsize=size)\n",
    "ax1.set_yticklabels(ax1.get_yticklabels(), fontsize=size)\n",
    "ax2.set_xticklabels(ax2.get_xticklabels(), fontsize=size)\n",
    "ax2.set_yticklabels(ax2.get_yticklabels(), fontsize=size)\n",
    "\n",
    "# Adjust the layout and spacing between subplots\n",
    "plt.tight_layout()\n",
    "plt.savefig(fig_path+\"VD_DB2_DB5.pdf\", format=\"pdf\", dpi=800, bbox_inches='tight');"
   ]
  },
  {
   "cell_type": "code",
   "execution_count": 9,
   "id": "24208bfb",
   "metadata": {},
   "outputs": [
    {
     "name": "stdout",
     "output_type": "stream",
     "text": [
      "Case: alpha-R 0.6357\n",
      "CI (DB5 | d)label=1 + DB2: [ 1.    2.46  5.11  6.53 11.45 12.55 16.42 26.79 46.81]\n",
      "CI (DB5 | u): [ 1.    2.67  5.44  7.02 11.81 13.56 17.7  29.45 57.2 ]\n"
     ]
    },
    {
     "data": {
      "image/png": "[encoded data removed]",
      "text/plain": [
       "<Figure size 1000x400 with 4 Axes>"
      ]
     },
     "metadata": {},
     "output_type": "display_data"
    }
   ],
   "source": [
    "print(\"Case: alpha-R 0.6357\")\n",
    "print(f\"CI (DB5 | d)label=1 + DB2: {np.round(tokamakTK.get_condition_index(all_cases[2]),2)}\")\n",
    "print(f\"CI (DB5 | u): {np.round(tokamakTK.get_condition_index(all_cases[3]),2)}\")\n",
    "# Create the figure and subplots\n",
    "fig, (ax1, ax2) = plt.subplots(1, 2, figsize=(10, 4))\n",
    "\n",
    "# Plotting subplot 1\n",
    "sns.heatmap(Π[2], vmin=0, vmax=1, linecolor=\"white\", linewidth=0.1, ax=ax1, cmap=sns.color_palette(\"light:#A84547\", as_cmap=True))\n",
    "ax1.set_title(f\"$\\\\subset$ STDB5, $\\\\alpha_R \\\\sim 0.64$ | CN = {round(get_condition_number(all_cases[2]),2)}\\nDecreasing\")\n",
    "ax1.set_yticklabels(ax1.get_yticklabels(), rotation=0)\n",
    "\n",
    "# Plotting subplot 2\n",
    "sns.heatmap(Π[3], vmin=0, vmax=1, linecolor=\"white\", linewidth=0.1, ax=ax2, cmap=sns.color_palette(\"light:#A84547\", as_cmap=True))\n",
    "ax2.set_title(f\"$\\\\subset$ STDB5, $\\\\alpha_R \\\\sim 2.16$ | CN = {round(get_condition_number(all_cases[3]),2)}\\nUnaffected\")\n",
    "ax2.set_yticklabels(ax2.get_yticklabels(), rotation=0)\n",
    "\n",
    "size = 14\n",
    "ax1.set_xticklabels(ax1.get_xticklabels(), fontsize=size)\n",
    "ax1.set_yticklabels(ax1.get_yticklabels(), fontsize=size)\n",
    "ax2.set_xticklabels(ax2.get_xticklabels(), fontsize=size)\n",
    "ax2.set_yticklabels(ax2.get_yticklabels(), fontsize=size)\n",
    "\n",
    "# Adjust the layout and spacing between subplots\n",
    "plt.tight_layout()\n",
    "plt.savefig(fig_path+\"VD_STDB564.pdf\", format=\"pdf\", dpi=800, bbox_inches='tight');"
   ]
  },
  {
   "cell_type": "code",
   "execution_count": null,
   "id": "90d6be49",
   "metadata": {},
   "outputs": [
    {
     "name": "stdout",
     "output_type": "stream",
     "text": [
      "Case: alpha-R 0.9998\n",
      "CI (DB5 | d): [ 1.    2.36  5.32  6.16 10.86 11.68 16.47 27.23 46.05]\n",
      "CI (DB5 | u): [ 1.    2.7   5.4   7.1  12.05 14.01 17.61 29.45 55.79]\n"
     ]
    }
   ],
   "source": [
    "print(\"Case: alpha-R 0.9998\")\n",
    "print(f\"CI (DB5 | d): {np.round(tokamakTK.get_condition_index(all_cases[4]),2)}\")\n",
    "print(f\"CI (DB5 | u): {np.round(tokamakTK.get_condition_index(all_cases[5]),2)}\")\n",
    "# Create the figure and subplots\n",
    "fig, (ax1, ax2) = plt.subplots(1, 2, figsize=(10, 4))\n",
    "\n",
    "# Plotting subplot 1\n",
    "sns.heatmap(Π[4], vmin=0, vmax=1, linecolor=\"white\", linewidth=0.1, ax=ax1, cmap=sns.color_palette(\"light:#A84547\", as_cmap=True))\n",
    "ax1.set_title(f\"$\\\\subset$ STDB5, $\\\\alpha_R \\\\sim 0.99$ | CN = {round(get_condition_number(all_cases[4]),2)}\\nDecreasing\")\n",
    "ax1.set_yticklabels(ax1.get_yticklabels(), rotation=0)\n",
    "\n",
    "# Plotting subplot 2\n",
    "sns.heatmap(Π[5], vmin=0, vmax=1, linecolor=\"white\", linewidth=0.1, ax=ax2, cmap=sns.color_palette(\"light:#A84547\", as_cmap=True))\n",
    "ax2.set_title(f\"$\\\\subset$ STDB5, $\\\\alpha_R \\\\sim 1.71$ | CN = {round(get_condition_number(all_cases[5]),2)}\\nUnaffected\")\n",
    "ax2.set_yticklabels(ax2.get_yticklabels(), rotation=0)\n",
    "\n",
    "size = 14\n",
    "ax1.set_xticklabels(ax1.get_xticklabels(), fontsize=size)\n",
    "ax1.set_yticklabels(ax1.get_yticklabels(), fontsize=size)\n",
    "ax2.set_xticklabels(ax2.get_xticklabels(), fontsize=size)\n",
    "ax2.set_yticklabels(ax2.get_yticklabels(), fontsize=size)\n",
    "\n",
    "# Adjust the layout and spacing between subplots\n",
    "plt.tight_layout()\n",
    "plt.savefig(fig_path+\"VD_STDB599.pdf\", format=\"pdf\", dpi=800, bbox_inches='tight');"
   ]
  },
  {
   "cell_type": "markdown",
   "id": "47b23da2",
   "metadata": {},
   "source": [
    "## Variance Inflation Factor (VIF) and Tolerance\n",
    "\n",
    "The Variation Inflation Factor (VIF) is a measure of multicollinearity in a linear regression model. It quantifies the degree to which the variance of the estimated regression coefficient is inflated due to collinearity in the predictors.\n",
    "\n",
    "\"One recommendation is that **if VIF is greater than 5**, then the explanatory variable given by exog_idx is highly collinear with the other explanatory variables, and the parameter estimates will have large standard errors because of this.\" [[statsmodels]](https://www.statsmodels.org/dev/generated/statsmodels.stats.outliers_influence.variance_inflation_factor.html)\n",
    "\n",
    "$$\n",
    "    \\text{VIF}_j = \\frac{1}{1-R^2_j}.\n",
    "$$\n",
    "\n",
    "With $R^2_j$ being the coefficient of determination for the regression of $x_j$ on the remaining variables; namely, \n",
    "\n",
    "$$\n",
    "    R^2 = 1 - \\frac{RSS}{TSS}.\n",
    "$$\n",
    "\n",
    "With $RSS$ being the sum of squares of residuals; and, $TSS$ the total sum of squares;\n",
    "\n",
    "$$\n",
    "    SSR = \\sum_i\\left( \\hat{y} - \\bar{y} \\right)^2; \\quad \\text{and} \\quad TSS = \\sum_i\\left( y - \\bar{y} \\right)^2\n",
    "$$\n",
    "\n",
    "**Tolerance** is the inverse of VIF and relates to the proportion of variance in a predictor variable. A **tolerance value less than 0.1** is generally considered to be indicative of problematic multicollinearity.|"
   ]
  },
  {
   "cell_type": "code",
   "execution_count": null,
   "id": "77f9fc46",
   "metadata": {},
   "outputs": [],
   "source": [
    "all_cases = [prepare_data(DB2.copy(), features, False),  #0 DB2\n",
    "             prepare_data(DB5.copy(), features, False),  #1 DB2\n",
    "             prepare_data(DB5[DB5.label_6357.isin([1]) | DB5.id.isin(DB2.id.values)], features, False),  #2 Decreasing DB5 ~ 0.64\n",
    "             prepare_data(DB5[DB5.label_6357.isin([0])], features, False),                               #3 Unaffected DB5 ~ 0.64\n",
    "             prepare_data(DB5[DB5.label_9998.isin([1]) | DB5.id.isin(DB2.id.values)], features, False),  #4 Decreasing DB5 ~ 0.99\n",
    "             prepare_data(DB5[DB5.label_9998.isin([0])], features, False)                                #5 Unaffected DB5 ~ 0.99\n",
    "]\n",
    "\n",
    "all_cases = [tokamakTK.scale_data(case, add_intercept=True) for case in all_cases]"
   ]
  },
  {
   "cell_type": "code",
   "execution_count": null,
   "id": "06c3c471",
   "metadata": {},
   "outputs": [],
   "source": [
    "VIF = pd.DataFrame()\n",
    "for c,case in enumerate(all_cases):\n",
    "    VIF[f\"C{c}\"]=[variance_inflation_factor(case.values, f) for f in range(len(features)+1)]\n",
    "VIF.index = [\"const\"] + features\n",
    "VIF.columns = [\"DB2\", \"DB5\", \"DB5_0.64d\", \"DB5_0.64u\", \"DB5_0.99d\", \"DB5_0.99u\"]"
   ]
  },
  {
   "cell_type": "code",
   "execution_count": null,
   "id": "a6566f7d",
   "metadata": {},
   "outputs": [],
   "source": [
    "plt.figure(figsize=(5,3.5))\n",
    "ax = sns.heatmap(VIF.loc[features], vmin=0, vmax=26, annot=True,\n",
    "                 cmap=sns.color_palette(\"light:#A84547\", as_cmap=True), linecolor=\"white\", linewidth=0.73)\n",
    "ax.set_xticklabels(ax.get_xticklabels(), rotation=40);\n",
    "#plt.savefig(fig_path+\"VIF_all_datasets.pdf\", format=\"pdf\", dpi=800, bbox_inches='tight');"
   ]
  },
  {
   "cell_type": "code",
   "execution_count": null,
   "id": "0f903692",
   "metadata": {},
   "outputs": [],
   "source": []
  },
  {
   "cell_type": "code",
   "execution_count": null,
   "id": "2b16b8ea",
   "metadata": {},
   "outputs": [],
   "source": []
  },
  {
   "cell_type": "code",
   "execution_count": null,
   "id": "a50edaff",
   "metadata": {},
   "outputs": [],
   "source": []
  }
 ],
 "metadata": {
  "kernelspec": {
   "display_name": "Python 3 (ipykernel)",
   "language": "python",
   "name": "python3"
  },
  "language_info": {
   "codemirror_mode": {
    "name": "ipython",
    "version": 3
   },
   "file_extension": ".py",
   "mimetype": "text/x-python",
   "name": "python",
   "nbconvert_exporter": "python",
   "pygments_lexer": "ipython3",
   "version": "3.10.11"
  }
 },
 "nbformat": 4,
 "nbformat_minor": 5
}
