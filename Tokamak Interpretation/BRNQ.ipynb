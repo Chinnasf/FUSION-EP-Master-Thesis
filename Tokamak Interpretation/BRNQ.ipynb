{
 "cells": [
  {
   "cell_type": "code",
   "execution_count": 1,
   "id": "898a73b9",
   "metadata": {},
   "outputs": [],
   "source": [
    "import sys\n",
    "sys.path.append('../')\n",
    "import tokamakTK\n",
    "\n",
    "from tokamakTK import get_ECT_regression\n",
    "\n",
    "import numpy as np \n",
    "import pandas as pd\n",
    "import matplotlib.pyplot as plt\n",
    "import scipy as sp\n",
    "import statsmodels.api as sm\n",
    "import matplotlib.patches as mpatches\n",
    "\n",
    "pd.set_option('display.max_columns', None)\n",
    "plt.rc('font',family = 'serif')\n",
    "plt.rc('axes', axisbelow=True)\n",
    "\n",
    "path = \"../data/\"\n",
    "fig_path = \"../../../LATEX/Latex Images/\"\n",
    "plt.rcParams[\"mathtext.fontset\"] = \"cm\""
   ]
  },
  {
   "cell_type": "markdown",
   "id": "be4088f8",
   "metadata": {},
   "source": [
    "[Notes based on: Sarazin, et al. 2019](https://iopscience.iop.org/article/10.1088/1741-4326/ab48a5/meta)"
   ]
  },
  {
   "cell_type": "code",
   "execution_count": 2,
   "id": "66ee799d",
   "metadata": {},
   "outputs": [],
   "source": [
    "esqueleto = {\n",
    "    \"TAUTH\":None, \n",
    "    \"BETASTAR\":None,        \n",
    "    \"RGEO\":None,  \n",
    "    \"BT\":None,    \n",
    "    \"NEL\":None,   \n",
    "    \"TAV\":None,  \n",
    "    \"IP\":None,   \n",
    "    \"PLTH\":None,\n",
    "    \"Q95\":None,\n",
    "    \"KAREA\":None,\n",
    "    \"EPS\":None,\n",
    "    \"MEFF\":None\n",
    "}\n",
    "\n",
    "\n",
    "# IPB98(y,2)\n",
    "DEMO = {\"TAUTH\":4.6, # s\n",
    "        \"BETASTAR\":2.2, # 2.2\n",
    "        \"RGEO\":9.1,  # m # Some say 7.5\n",
    "        \"BT\":5.6,    # T\n",
    "        \"NEL\":8.7,   # 10^19\n",
    "        \"TAV\":12.9,  # keV\n",
    "        \"IP\":19.6,   # MA\n",
    "        \"PLTH\":157.5,# MW\n",
    "        \"Q95\":3.2,\n",
    "        \"KAREA\":1.59,\n",
    "        \"EPS\":3.1,\n",
    "        \"MEFF\":6.27\n",
    "       }\n",
    "\n",
    "ITER = {\"TAUTH\":3.1, # s\n",
    "        \"BETASTAR\":2.43,# 2.2\n",
    "        \"RGEO\":6.2,  # m\n",
    "        \"BT\":4.42,   # T\n",
    "        \"NEL\":8.4,   # 10^19\n",
    "        \"TAV\":10.7,  # keV\n",
    "        \"IP\":12.5,   # MA\n",
    "        \"PLTH\": 106, # MW\n",
    "        \"Q95\":3,\n",
    "        \"KAREA\":1.7,\n",
    "        \"EPS\":3.1,\n",
    "        \"MEFF\":2.554\n",
    "       }\n",
    "\n",
    "# NBI-LHW Database\n",
    "EAST = {\"TAUTH\":0.05647, # s\n",
    "        \"BETASTAR\":None,# 2.2\n",
    "        \"RGEO\":1.86,  # m\n",
    "        \"BT\":1.97,   # T\n",
    "        \"NEL\":3.36,   # 10^19\n",
    "        \"TAV\":None,  # keV\n",
    "        \"IP\":0.42,   # MA\n",
    "        \"PLTH\":2.26, # MW\n",
    "        \"Q95\":5.06,\n",
    "        \"KAREA\":1.51,\n",
    "        \"EPS\":0.44/1.86,\n",
    "        \"MEFF\": 2.5 # THIS IS MY GUESSSSSSSSSSSSSSSSSSSSSSSSSS\n",
    "       }\n",
    "\n",
    "ST40 = {\n",
    "    \"TAUTH\":None, \n",
    "    \"BETASTAR\":None,        \n",
    "    \"RGEO\":0.4,  \n",
    "    \"BT\":3,    \n",
    "    \"NEL\":None,   \n",
    "    \"TAV\":None,  \n",
    "    \"IP\":2,   \n",
    "    \"PLTH\":None,\n",
    "    \"Q95\":1.8,\n",
    "    \"KAREA\":2.6,\n",
    "    \"EPS\":0.2/0.4,\n",
    "    \"MEFF\":None,\n",
    "    \"Greewald\":0.8,\n",
    "    \"MDG_beta\":0.9\n",
    "    \n",
    "}\n",
    "\n",
    "\n",
    "MAST_U = {\n",
    "    \"TAUTH\":5,    # Changed to 2 in 2020\n",
    "    \"BETASTAR\":None,        \n",
    "    \"RGEO\":0.85,  \n",
    "    \"BT\":0.75,  # Changed to 0.6 in 2020  \n",
    "    \"NEL\":None,   \n",
    "    \"TAV\":None,  \n",
    "    \"IP\":2, # Changed to 1 in 2020\n",
    "    \"PLTH\":None,\n",
    "    \"Q95\":None,\n",
    "    \"KAREA\":None,\n",
    "    \"EPS\":0.65/0.85,\n",
    "    \"MEFF\":None\n",
    "}\n",
    "\n",
    "MASTU_ICTP = {\n",
    "    \"TAUTH\":0.055,    # Changed to 2 in 2020\n",
    "    \"BETASTAR\":3.7,        \n",
    "    \"RGEO\":0.85,  \n",
    "    \"BT\":0.75,  # Changed to 0.6 in 2020  \n",
    "    \"NEL\":4.55,   \n",
    "    \"TAV\":1.41,  \n",
    "    \"IP\":0.53, # Changed to 1 in 2020\n",
    "    \"PLTH\":None,\n",
    "    \"Q95\":None, #B_θ = 0.44T\n",
    "    \"KAREA\":2.01,\n",
    "    \"EPS\":0.65/0.85,\n",
    "    \"MEFF\":None\n",
    "}\n",
    "\n",
    "ST_CTF = {\n",
    "    \"TAUTH\":None,\n",
    "    \"BETASTAR\":None,        \n",
    "    \"RGEO\":0.84,  \n",
    "    \"BT\":2.5,    \n",
    "    \"NEL\":None,   \n",
    "    \"TAV\":None,  \n",
    "    \"IP\":6.5,   \n",
    "    \"PLTH\":None,\n",
    "    \"Q95\":None,\n",
    "    \"KAREA\":None,\n",
    "    \"EPS\":None,\n",
    "    \"MEFF\":None\n",
    "}"
   ]
  },
  {
   "cell_type": "code",
   "execution_count": 3,
   "id": "5696ebce",
   "metadata": {},
   "outputs": [
    {
     "name": "stdout",
     "output_type": "stream",
     "text": [
      "  Subset that decrease alpha-R to 0.6357\n",
      "--------\n",
      "23.45% affected alpha_R\n",
      "76.55% did not affect alpha_R\n",
      "\n",
      "\n",
      "  Subset that decrease alpha-R to 0.9998\n",
      "--------\n",
      "9.88% affected alpha_R\n",
      "90.12% did not affect alpha_R\n",
      "\n",
      "\n",
      "  Subset given by Joseph Hall           \n",
      "--------\n",
      "18.46% affected alpha_R\n",
      "81.54% did not affect alpha_R\n"
     ]
    }
   ],
   "source": [
    "# Obtained from Optimization\n",
    "\n",
    "min_subset_ids_6357 = pd.read_csv(path+\"R_ids_alpha_0.6357.csv\")\n",
    "min_subset_ids_9998 = pd.read_csv(path+\"R_ids_alpha_0.9998.csv\")\n",
    "min_subset_ids_joe  = pd.read_csv(path+\"deviation_id.csv\")\n",
    "\n",
    "DB2 = pd.read_csv(path+\"DB2P8.csv\")\n",
    "DB5 = pd.read_csv(path+\"SELDB5_SVD.csv\", low_memory=False) \n",
    "\n",
    "# Setting ELMy Dataset\n",
    "DB5 = DB5[DB5[\"PHASE\"].isin(['HGELM', 'HSELM', 'HGELMH', 'HSELMH'])]\n",
    "\n",
    "# Removing Spherical TOKAMAKS\n",
    "#DB5 = DB5[~DB5[\"TOK\"].isin(['START','MAST','NSTX'])]\n",
    "\n",
    "# There is two shots from DB2P8 missing in DB5\n",
    "missing_shots = DB2[~DB2.id.isin( DB5.id.values )].reset_index(drop=True)\n",
    "DB5 = pd.concat([DB5, missing_shots], axis=0, ignore_index=True)\n",
    "\n",
    "# Labeling shots that had great impact in decreasing alpha_R\n",
    "DB5.insert(loc=2,column=\"label_6357\",value=[\"Unaffected\"]*len(DB5))\n",
    "DB5.loc[(DB5[DB5.id.isin(min_subset_ids_6357.id)].index), \"label_6357\"] = \"Decreasing\"\n",
    "\n",
    "DB5.insert(loc=2,column=\"label_9998\",value=[\"Unaffected\"]*len(DB5))\n",
    "DB5.loc[(DB5[DB5.id.isin(min_subset_ids_9998.id)].index), \"label_9998\"] = \"Decreasing\"\n",
    "\n",
    "DB5.insert(loc=2,column=\"label_joe\",value=[\"Unaffected\"]*len(DB5))\n",
    "DB5.loc[(DB5[DB5.id.isin(min_subset_ids_joe.id)].index), \"label_joe\"] = \"Decreasing\"\n",
    "\n",
    "DB5.insert(loc=2,column=\"Spherical\",value=[\"False\"]*len(DB5))\n",
    "DB5.loc[(DB5[DB5.TOK.isin(['START','MAST','NSTX'])].index), \"Spherical\"] = \"True\"\n",
    "\n",
    "DB5.insert(0, 'intercept', np.ones(len(DB5)))\n",
    "\n",
    "\n",
    "print(\n",
    "    \"  Subset that decrease alpha-R to 0.6357\\n--------\\n\" +\n",
    "    f\"{ round( (len(min_subset_ids_6357)/len(DB5))*100     ,2)  }% affected alpha_R\\n\" + \n",
    "    f\"{ round( (1 - len(min_subset_ids_6357)/len(DB5))*100 ,2)  }% did not affect alpha_R\" +\n",
    "    \"\\n\\n\\n  Subset that decrease alpha-R to 0.9998\\n--------\\n\" +\n",
    "    f\"{ round( (len(min_subset_ids_9998)/len(DB5))*100     ,2)  }% affected alpha_R\\n\" + \n",
    "    f\"{ round( (1 - len(min_subset_ids_9998)/len(DB5))*100 ,2)  }% did not affect alpha_R\"\n",
    "    \"\\n\\n\\n  Subset given by Joseph Hall           \\n--------\\n\" +\n",
    "    f\"{ round( (len(min_subset_ids_joe)/len(DB5))*100     ,2)  }% affected alpha_R\\n\" + \n",
    "    f\"{ round( (1 - len(min_subset_ids_joe)/len(DB5))*100 ,2)  }% did not affect alpha_R\"\n",
    ")"
   ]
  },
  {
   "cell_type": "code",
   "execution_count": 4,
   "id": "a980a877",
   "metadata": {},
   "outputs": [
    {
     "data": {
      "text/plain": [
       "{'TAUTH': 3.1,\n",
       " 'BETASTAR': 2.43,\n",
       " 'RGEO': 6.2,\n",
       " 'BT': 4.42,\n",
       " 'NEL': 8.4,\n",
       " 'TAV': 10.7,\n",
       " 'IP': 12.5,\n",
       " 'PLTH': 106,\n",
       " 'Q95': 3,\n",
       " 'KAREA': 1.7,\n",
       " 'EPS': 3.1,\n",
       " 'MEFF': 2.554}"
      ]
     },
     "execution_count": 4,
     "metadata": {},
     "output_type": "execute_result"
    }
   ],
   "source": [
    "ITER"
   ]
  },
  {
   "cell_type": "code",
   "execution_count": 5,
   "id": "cf9ded9e",
   "metadata": {},
   "outputs": [],
   "source": [
    "DB2prms = get_ECT_regression(DB2).params.to_dict()\n",
    "DB2prms['const'] = np.exp(DB2prms['const'])"
   ]
  },
  {
   "cell_type": "code",
   "execution_count": 6,
   "id": "b7c57dea",
   "metadata": {},
   "outputs": [],
   "source": [
    "DB5prms = get_ECT_regression(DB5).params.to_dict()\n",
    "DB5prms['const'] = np.exp(DB5prms['const'])"
   ]
  },
  {
   "cell_type": "code",
   "execution_count": 7,
   "id": "247aeef5",
   "metadata": {},
   "outputs": [],
   "source": [
    "DDsprms = get_ECT_regression(DB5[DB5.id.isin(min_subset_ids_6357.id.values) | \n",
    "                                 DB5.id.isin(DB2.id.values)\n",
    "                                ]).params.to_dict()\n",
    "DDsprms['const'] = np.exp(DDsprms['const'])\n",
    "\n",
    "UDsprms = get_ECT_regression(DB5[~DB5.id.isin(min_subset_ids_6357.id.values)]).params.to_dict()\n",
    "UDsprms['const'] = np.exp(UDsprms['const'])"
   ]
  },
  {
   "cell_type": "code",
   "execution_count": 8,
   "id": "6453e1ba",
   "metadata": {},
   "outputs": [],
   "source": [
    "DDsprms_9 = get_ECT_regression(DB5[DB5.id.isin(min_subset_ids_9998.id.values) | \n",
    "                                 DB5.id.isin(DB2.id.values)\n",
    "                                ]).params.to_dict()\n",
    "DDsprms_9['const'] = np.exp(DDsprms_9['const'])\n",
    "\n",
    "UDsprms_9 = get_ECT_regression(DB5[~DB5.id.isin(min_subset_ids_9998.id.values)]).params.to_dict()\n",
    "UDsprms_9['const'] = np.exp(UDsprms_9['const'])"
   ]
  },
  {
   "cell_type": "code",
   "execution_count": 9,
   "id": "34052697",
   "metadata": {},
   "outputs": [],
   "source": [
    "DB2ITERy2 = {'const':0.0562,\n",
    "             'IP':0.93,\n",
    "             'BT':0.15,\n",
    "             'NEL':0.41,\n",
    "             'PLTH':-0.69,\n",
    "             'RGEO':1.97,\n",
    "             'KAREA':0.78,\n",
    "             'EPS':0.58,\n",
    "             'MEFF':0.19\n",
    "            }"
   ]
  },
  {
   "cell_type": "code",
   "execution_count": 10,
   "id": "c2230609",
   "metadata": {},
   "outputs": [
    {
     "data": {
      "text/plain": [
       "{'const': 0.07543874049968176,\n",
       " 'IP': 0.7818564549785937,\n",
       " 'BT': 0.24388542411978847,\n",
       " 'NEL': 0.41145103200443656,\n",
       " 'PLTH': -0.7532206371481888,\n",
       " 'RGEO': 2.155963618372499,\n",
       " 'KAREA': 0.5002957204679769,\n",
       " 'EPS': 0.7989791985662811,\n",
       " 'MEFF': 0.2189922745716312}"
      ]
     },
     "execution_count": 10,
     "metadata": {},
     "output_type": "execute_result"
    }
   ],
   "source": [
    "UDsprms"
   ]
  },
  {
   "cell_type": "markdown",
   "id": "bf264993",
   "metadata": {},
   "source": [
    "$$\n",
    "    \\tau_{E,th} = \\alpha_0\\cdot I_P^{\\alpha_I}\\cdot B^{\\alpha_B}_t\\cdot \\bar{n}^{\\alpha_n}_e  \\cdot P^{\\alpha_P}_{l,th}\\cdot R^{\\alpha_R}_{geo}\\cdot \\kappa^{\\alpha_\\kappa}_a\\cdot \\epsilon^{\\alpha_\\epsilon}\\cdot M^{\\alpha_M}_{eff}\n",
    "$$"
   ]
  },
  {
   "cell_type": "code",
   "execution_count": 11,
   "id": "91dd702a",
   "metadata": {},
   "outputs": [],
   "source": [
    "def predict_TauE(Mprms, Dprms):\n",
    "    tau = (Mprms['const'] * (Dprms[\"IP\"]**Mprms[\"IP\"]) * (Dprms[\"BT\"]**Mprms[\"BT\"]) *\n",
    "          (Dprms[\"NEL\"]**Mprms[\"NEL\"]) * (Dprms[\"PLTH\"]**Mprms[\"PLTH\"]) * (Dprms[\"RGEO\"]**Mprms[\"RGEO\"]) *\n",
    "          (Dprms[\"KAREA\"]**Mprms[\"KAREA\"]) * (Dprms[\"EPS\"]**Mprms[\"EPS\"]) * (Dprms[\"MEFF\"]**Mprms[\"MEFF\"])\n",
    "          )\n",
    "    return tau\n",
    "\n",
    "def get_rho_exponent(Mprms):\n",
    "    const, Ip, Bt, ne, Pl, R, k, e, M = (Mprms['const'], Mprms[\"IP\"], Mprms[\"BT\"], Mprms[\"NEL\"], \n",
    "                                         Mprms[\"PLTH\"],Mprms[\"RGEO\"], Mprms[\"KAREA\"], Mprms[\"EPS\"], \n",
    "                                         Mprms[\"MEFF\"]\n",
    "                                        )\n",
    "    return (2*(-3*R - 3*Ip -9*Pl + ne)) / (5*(1+Pl))"
   ]
  },
  {
   "cell_type": "code",
   "execution_count": 12,
   "id": "8a6ff096",
   "metadata": {},
   "outputs": [
    {
     "data": {
      "text/plain": [
       "(-3.09, -1.8)"
      ]
     },
     "execution_count": 12,
     "metadata": {},
     "output_type": "execute_result"
    }
   ],
   "source": [
    "np.round(get_rho_exponent(DB2prms),2), np.round(get_rho_exponent(DB5prms),3)"
   ]
  },
  {
   "cell_type": "code",
   "execution_count": 13,
   "id": "eb2bd9e5",
   "metadata": {},
   "outputs": [
    {
     "data": {
      "text/plain": [
       "(-1.31, -2.63)"
      ]
     },
     "execution_count": 13,
     "metadata": {},
     "output_type": "execute_result"
    }
   ],
   "source": [
    "np.round(get_rho_exponent(DDsprms),2), np.round(get_rho_exponent(UDsprms),2)"
   ]
  },
  {
   "cell_type": "code",
   "execution_count": 14,
   "id": "8e32560b",
   "metadata": {},
   "outputs": [
    {
     "data": {
      "text/plain": [
       "(-1.5, -2.08)"
      ]
     },
     "execution_count": 14,
     "metadata": {},
     "output_type": "execute_result"
    }
   ],
   "source": [
    "np.round(get_rho_exponent(DDsprms_9),2), np.round(get_rho_exponent(UDsprms_9),2)"
   ]
  },
  {
   "cell_type": "code",
   "execution_count": 15,
   "id": "5a8b4aa2",
   "metadata": {},
   "outputs": [
    {
     "data": {
      "text/plain": [
       "10.353061437233006"
      ]
     },
     "execution_count": 15,
     "metadata": {},
     "output_type": "execute_result"
    }
   ],
   "source": [
    "predict_TauE(DB2prms, ITER)"
   ]
  },
  {
   "cell_type": "code",
   "execution_count": 16,
   "id": "ea1f3828",
   "metadata": {},
   "outputs": [
    {
     "data": {
      "text/plain": [
       "2.0250652668660973"
      ]
     },
     "execution_count": 16,
     "metadata": {},
     "output_type": "execute_result"
    }
   ],
   "source": [
    "predict_TauE(DB5prms, ITER)"
   ]
  },
  {
   "cell_type": "code",
   "execution_count": 17,
   "id": "a89031ba",
   "metadata": {},
   "outputs": [
    {
     "data": {
      "text/plain": [
       "5.462009737878593"
      ]
     },
     "execution_count": 17,
     "metadata": {},
     "output_type": "execute_result"
    }
   ],
   "source": [
    "predict_TauE(DB5prms, DEMO)"
   ]
  },
  {
   "cell_type": "code",
   "execution_count": 18,
   "id": "8349d56c",
   "metadata": {},
   "outputs": [
    {
     "data": {
      "text/plain": [
       "33.230622092876644"
      ]
     },
     "execution_count": 18,
     "metadata": {},
     "output_type": "execute_result"
    }
   ],
   "source": [
    "predict_TauE(DB2prms, DEMO)"
   ]
  },
  {
   "cell_type": "code",
   "execution_count": 19,
   "id": "25ae2dcd",
   "metadata": {},
   "outputs": [
    {
     "data": {
      "text/plain": [
       "0.47509334787359064"
      ]
     },
     "execution_count": 19,
     "metadata": {},
     "output_type": "execute_result"
    }
   ],
   "source": [
    "predict_TauE(DDsprms, ITER)"
   ]
  },
  {
   "cell_type": "code",
   "execution_count": 20,
   "id": "25a040a7",
   "metadata": {},
   "outputs": [
    {
     "data": {
      "text/plain": [
       "11.294043186126423"
      ]
     },
     "execution_count": 20,
     "metadata": {},
     "output_type": "execute_result"
    }
   ],
   "source": [
    "predict_TauE(UDsprms, ITER)"
   ]
  },
  {
   "cell_type": "code",
   "execution_count": 21,
   "id": "8890451a",
   "metadata": {},
   "outputs": [
    {
     "data": {
      "text/plain": [
       "1.0473879890614215"
      ]
     },
     "execution_count": 21,
     "metadata": {},
     "output_type": "execute_result"
    }
   ],
   "source": [
    "predict_TauE(DDsprms, DEMO)"
   ]
  },
  {
   "cell_type": "code",
   "execution_count": 22,
   "id": "5a59a6e8",
   "metadata": {},
   "outputs": [
    {
     "data": {
      "text/plain": [
       "34.478956423240135"
      ]
     },
     "execution_count": 22,
     "metadata": {},
     "output_type": "execute_result"
    }
   ],
   "source": [
    "predict_TauE(UDsprms, DEMO)"
   ]
  },
  {
   "cell_type": "code",
   "execution_count": 23,
   "id": "0c8fb48a",
   "metadata": {},
   "outputs": [
    {
     "data": {
      "text/html": [
       "<div>\n",
       "<style scoped>\n",
       "    .dataframe tbody tr th:only-of-type {\n",
       "        vertical-align: middle;\n",
       "    }\n",
       "\n",
       "    .dataframe tbody tr th {\n",
       "        vertical-align: top;\n",
       "    }\n",
       "\n",
       "    .dataframe thead th {\n",
       "        text-align: right;\n",
       "    }\n",
       "</style>\n",
       "<table border=\"1\" class=\"dataframe\">\n",
       "  <thead>\n",
       "    <tr style=\"text-align: right;\">\n",
       "      <th></th>\n",
       "      <th>Q95</th>\n",
       "    </tr>\n",
       "  </thead>\n",
       "  <tbody>\n",
       "    <tr>\n",
       "      <th>count</th>\n",
       "      <td>6237.000000</td>\n",
       "    </tr>\n",
       "    <tr>\n",
       "      <th>mean</th>\n",
       "      <td>3.966204</td>\n",
       "    </tr>\n",
       "    <tr>\n",
       "      <th>std</th>\n",
       "      <td>1.148390</td>\n",
       "    </tr>\n",
       "    <tr>\n",
       "      <th>min</th>\n",
       "      <td>1.873000</td>\n",
       "    </tr>\n",
       "    <tr>\n",
       "      <th>25%</th>\n",
       "      <td>3.232000</td>\n",
       "    </tr>\n",
       "    <tr>\n",
       "      <th>50%</th>\n",
       "      <td>3.678000</td>\n",
       "    </tr>\n",
       "    <tr>\n",
       "      <th>75%</th>\n",
       "      <td>4.373000</td>\n",
       "    </tr>\n",
       "    <tr>\n",
       "      <th>max</th>\n",
       "      <td>11.310000</td>\n",
       "    </tr>\n",
       "  </tbody>\n",
       "</table>\n",
       "</div>"
      ],
      "text/plain": [
       "               Q95\n",
       "count  6237.000000\n",
       "mean      3.966204\n",
       "std       1.148390\n",
       "min       1.873000\n",
       "25%       3.232000\n",
       "50%       3.678000\n",
       "75%       4.373000\n",
       "max      11.310000"
      ]
     },
     "execution_count": 23,
     "metadata": {},
     "output_type": "execute_result"
    }
   ],
   "source": [
    "DB5[[\"Q95\"]].describe()"
   ]
  },
  {
   "cell_type": "code",
   "execution_count": 24,
   "id": "e235d07a",
   "metadata": {},
   "outputs": [
    {
     "data": {
      "text/plain": [
       "array(['2002', '2003', '2004', '2005'], dtype=object)"
      ]
     },
     "execution_count": 24,
     "metadata": {},
     "output_type": "execute_result"
    }
   ],
   "source": [
    "DB5[DB5.TOK.isin(['MAST'])].DATE.astype(str).apply(lambda x: x[:4]).unique()"
   ]
  },
  {
   "cell_type": "code",
   "execution_count": 25,
   "id": "db2e085b",
   "metadata": {},
   "outputs": [
    {
     "data": {
      "text/plain": [
       "0        68.191075\n",
       "1        71.132696\n",
       "2        52.337839\n",
       "3        68.784538\n",
       "4        74.820934\n",
       "           ...    \n",
       "6247     56.847550\n",
       "6248     23.479353\n",
       "6249     24.045566\n",
       "6250    133.171660\n",
       "6251    116.170734\n",
       "Length: 6252, dtype: float64"
      ]
     },
     "execution_count": 25,
     "metadata": {},
     "output_type": "execute_result"
    }
   ],
   "source": [
    "(8.05e-21*(DB5[\"NEL\"]*1e19)*DB5[\"TAV\"])/(DB5[\"BT\"]**2)"
   ]
  },
  {
   "cell_type": "code",
   "execution_count": 26,
   "id": "e493cf71",
   "metadata": {},
   "outputs": [
    {
     "data": {
      "text/plain": [
       "0       0.601125\n",
       "1       0.627056\n",
       "2       0.461374\n",
       "3       0.606357\n",
       "4       0.659569\n",
       "          ...   \n",
       "6247    0.501128\n",
       "6248    0.206978\n",
       "6249    0.211969\n",
       "6250    1.173949\n",
       "6251    1.024080\n",
       "Name: BETASTAR, Length: 6252, dtype: float64"
      ]
     },
     "execution_count": 26,
     "metadata": {},
     "output_type": "execute_result"
    }
   ],
   "source": [
    "DB5[\"BETASTAR\"]"
   ]
  },
  {
   "cell_type": "markdown",
   "id": "e72e13a0",
   "metadata": {},
   "source": [
    "$$\n",
    "    \\nu_* = 5\\times10^{-11} Ln(\\Lambda)n B_t R^2_{geo} \\epsilon^{1/2} \\kappa_a I_p^{-1} T^{-2}\n",
    "$$"
   ]
  },
  {
   "cell_type": "code",
   "execution_count": 27,
   "id": "8e97ef8d",
   "metadata": {},
   "outputs": [
    {
     "data": {
      "text/plain": [
       "0       253367.189376\n",
       "1       222104.100090\n",
       "2       312259.248507\n",
       "3       246231.949117\n",
       "4       220467.002536\n",
       "            ...      \n",
       "6247   -527486.032277\n",
       "6248    128726.195749\n",
       "6249    116803.197494\n",
       "6250    -97077.333322\n",
       "6251   -328119.745728\n",
       "Length: 6252, dtype: float64"
      ]
     },
     "execution_count": 27,
     "metadata": {},
     "output_type": "execute_result"
    }
   ],
   "source": [
    "((5e-11)*DB5[\"LCOULOMB\"]*(DB5[\"NEL\"]*1e19)*DB5[\"BT\"]*(DB5[\"RGEO\"]**2)*(DB5[\"EPS\"]**0.5)*DB5[\"KAREA\"]\n",
    " /\n",
    " (DB5[\"IP\"]*DB5[\"TAV\"]**2))"
   ]
  },
  {
   "cell_type": "code",
   "execution_count": 28,
   "id": "75d3dd8d",
   "metadata": {},
   "outputs": [
    {
     "data": {
      "text/plain": [
       "0       0.223030\n",
       "1       0.195418\n",
       "2       0.274718\n",
       "3       0.216753\n",
       "4       0.193993\n",
       "          ...   \n",
       "6247    0.471050\n",
       "6248    0.105809\n",
       "6249    0.094721\n",
       "6250    0.086448\n",
       "6251    0.291492\n",
       "Name: NUSTAR, Length: 6252, dtype: float64"
      ]
     },
     "execution_count": 28,
     "metadata": {},
     "output_type": "execute_result"
    }
   ],
   "source": [
    "DB5[\"NUSTAR\"]"
   ]
  },
  {
   "cell_type": "code",
   "execution_count": 29,
   "id": "89373497",
   "metadata": {},
   "outputs": [
    {
     "data": {
      "text/plain": [
       "0       15.406717\n",
       "1       15.470883\n",
       "2       15.300207\n",
       "3       15.420935\n",
       "4       15.475806\n",
       "          ...    \n",
       "6247    14.466163\n",
       "6248    16.013226\n",
       "6249    16.067440\n",
       "6250    15.618913\n",
       "6251    14.991418\n",
       "Name: LCOULOMB, Length: 6252, dtype: float64"
      ]
     },
     "execution_count": 29,
     "metadata": {},
     "output_type": "execute_result"
    }
   ],
   "source": [
    "DB5[\"LCOULOMB\"]"
   ]
  },
  {
   "cell_type": "code",
   "execution_count": 30,
   "id": "daf99fb3",
   "metadata": {},
   "outputs": [
    {
     "data": {
      "text/plain": [
       "0       1.694\n",
       "1       1.684\n",
       "2       1.693\n",
       "3       1.693\n",
       "4       1.685\n",
       "        ...  \n",
       "6247    0.835\n",
       "6248    2.454\n",
       "6249    2.456\n",
       "6250    1.651\n",
       "6251    1.649\n",
       "Name: RGEO, Length: 6252, dtype: float64"
      ]
     },
     "execution_count": 30,
     "metadata": {},
     "output_type": "execute_result"
    }
   ],
   "source": [
    "DB5[\"RGEO\"]"
   ]
  },
  {
   "cell_type": "code",
   "execution_count": null,
   "id": "5a02a3be",
   "metadata": {},
   "outputs": [],
   "source": []
  },
  {
   "cell_type": "code",
   "execution_count": null,
   "id": "421e3824",
   "metadata": {},
   "outputs": [],
   "source": []
  },
  {
   "cell_type": "code",
   "execution_count": null,
   "id": "c65f39a5",
   "metadata": {},
   "outputs": [],
   "source": []
  },
  {
   "cell_type": "code",
   "execution_count": null,
   "id": "c5781045",
   "metadata": {},
   "outputs": [],
   "source": []
  }
 ],
 "metadata": {
  "kernelspec": {
   "display_name": "Python 3 (ipykernel)",
   "language": "python",
   "name": "python3"
  },
  "language_info": {
   "codemirror_mode": {
    "name": "ipython",
    "version": 3
   },
   "file_extension": ".py",
   "mimetype": "text/x-python",
   "name": "python",
   "nbconvert_exporter": "python",
   "pygments_lexer": "ipython3",
   "version": "3.10.11"
  }
 },
 "nbformat": 4,
 "nbformat_minor": 5
}
