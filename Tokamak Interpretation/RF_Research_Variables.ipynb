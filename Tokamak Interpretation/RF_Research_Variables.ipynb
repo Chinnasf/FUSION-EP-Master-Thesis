{
 "cells": [
  {
   "cell_type": "code",
   "execution_count": 1,
   "id": "80184003",
   "metadata": {},
   "outputs": [],
   "source": [
    "%load_ext autoreload\n",
    "%autoreload 2"
   ]
  },
  {
   "cell_type": "code",
   "execution_count": 2,
   "id": "61d26f46",
   "metadata": {},
   "outputs": [],
   "source": [
    "import sys\n",
    "sys.path.append('../')\n",
    "import tokamakTK\n",
    "from tokamakTK import MyCounter, HUEOrder\n",
    "\n",
    "import numpy as np \n",
    "import pandas as pd\n",
    "import matplotlib.pyplot as plt\n",
    "import scipy as sp\n",
    "import statsmodels.api as sm\n",
    "import matplotlib.patches as mpatches\n",
    "import seaborn as sns\n",
    "\n",
    "from collections import Counter\n",
    "\n",
    "pd.set_option('display.max_columns', None)\n",
    "plt.rc('font',family = 'serif')\n",
    "colors_ = sns.color_palette('viridis', 20)\n",
    "path = \"../data/\""
   ]
  },
  {
   "cell_type": "code",
   "execution_count": 3,
   "id": "ac3a42be",
   "metadata": {},
   "outputs": [
    {
     "name": "stdout",
     "output_type": "stream",
     "text": [
      "23.45% of the data decreased alpha_R\n",
      "76.55% of the data did not decrease alpha_R\n"
     ]
    }
   ],
   "source": [
    "# Obtained from Optimization\n",
    "min_subset_ids = pd.read_csv(path+\"R_ids_alpha_0.6357.csv\")\n",
    "\n",
    "DB2 = pd.read_csv(path+\"DB2P8.csv\")\n",
    "DB5 = pd.read_csv(path+\"SELDB5_SVD.csv\", low_memory=False) \n",
    "\n",
    "# Setting ELMy Dataset\n",
    "DB5 = DB5[DB5[\"PHASE\"].isin(['HGELM', 'HSELM', 'HGELMH', 'HSELMH'])]\n",
    "\n",
    "# There is two shots from DB2P8 missing in DB5\n",
    "missing_shots = DB2[~DB2.id.isin( DB5.id.values )].reset_index(drop=True)\n",
    "DB5 = pd.concat([DB5, missing_shots], axis=0, ignore_index=True)\n",
    "\n",
    "# Labeling shots that had great impact in decreasing alpha_R\n",
    "DB5.insert(loc=2,column=\"label\",value=[0]*len(DB5))\n",
    "DB5.loc[(DB5[DB5.id.isin(min_subset_ids.id)].index), \"label\"] = 1\n",
    "\n",
    "print(\n",
    "    f\"{ round( (len(min_subset_ids)/len(DB5))*100     ,2)  }% of the data decreased alpha_R\\n\" + \n",
    "    f\"{ round( (1 - len(min_subset_ids)/len(DB5))*100 ,2)  }% of the data did not decrease alpha_R\"\n",
    ")"
   ]
  },
  {
   "cell_type": "code",
   "execution_count": 4,
   "id": "7ff685dc",
   "metadata": {},
   "outputs": [],
   "source": [
    "features = ['TAUTH','NEL','TAV','BT','RHOSTAR','NUSTAR','BETASTAR']\n",
    "\n",
    "DB5 = tokamakTK.clean_categorical_data(DB5)"
   ]
  },
  {
   "cell_type": "code",
   "execution_count": 5,
   "id": "6bae8636",
   "metadata": {},
   "outputs": [],
   "source": [
    "# alpha_R -- 0.6358 --> when considering DB2 for calculation\n",
    "data1 = DB5[DB5.label.isin([1])].reset_index(drop=True)\n",
    "# alpha_R -- 2.1246 --> when considering DB2 for calculation\n",
    "data2 = DB5[DB5.label.isin([0])]\n",
    "# Removing DB2, because most of these shots have missing info\n",
    "data2 = data2[~data2.id.isin(DB2.id.values)].reset_index(drop=True)"
   ]
  },
  {
   "cell_type": "code",
   "execution_count": 6,
   "id": "5f3f9105",
   "metadata": {},
   "outputs": [],
   "source": [
    "#tokamakTK.get_regression(data1, DB2)[1].summary()"
   ]
  },
  {
   "cell_type": "code",
   "execution_count": 7,
   "id": "68d93a22",
   "metadata": {},
   "outputs": [],
   "source": [
    "# Needed for Improved Visualization in Plots\n",
    "\n",
    "HUE_ORDER = {}\n",
    "\n",
    "HUE_ORDER[\"ICSCHEME\"] = dict(zip(sorted(data1[\"ICSCHEME\"].unique()), colors_[:len(data1[\"ICSCHEME\"].unique())]))\n",
    "HUE_ORDER[\"ELMTYPE\"] = dict(zip(sorted(data1[\"ELMTYPE\"].unique()), colors_[:len(data1[\"ELMTYPE\"].unique())]))\n",
    "HUE_ORDER[\"HYBRID\"] = dict(zip(sorted(data1[\"HYBRID\"].unique()), colors_[:len(data1[\"HYBRID\"].unique())]))\n",
    "HUE_ORDER[\"AUXHEAT\"] = dict(zip(sorted(data1[\"AUXHEAT\"].unique()), colors_[:len(data1[\"AUXHEAT\"].unique())]))\n",
    "HUE_ORDER[\"DIVMAT\"] = dict(zip(sorted(data1[\"DIVMAT\"].unique()), colors_[:len(data1[\"DIVMAT\"].unique())]))\n",
    "HUE_ORDER[\"WALMAT\"] = dict(zip(sorted(data1[\"WALMAT\"].unique()), colors_[:len(data1[\"WALMAT\"].unique())]))\n",
    "HUE_ORDER[\"EVAP\"] = dict(zip(sorted(data1[\"EVAP\"].unique()), colors_[:len(data1[\"EVAP\"].unique())]))\n",
    "HUE_ORDER[\"ECHMODE\"] = dict(zip(sorted(data1[\"ECHMODE\"].unique()), colors_[:len(data1[\"ECHMODE\"].unique())]))\n",
    "HUE_ORDER[\"PELLET\"] = dict(zip(sorted(data1[\"PELLET\"].unique()), colors_[:len(data1[\"PELLET\"].unique())]))\n",
    "HUE_ORDER[\"CONFIG\"] = dict(zip(sorted(data1[\"CONFIG\"].unique()), colors_[:len(data1[\"CONFIG\"].unique())]))\n",
    "HUE_ORDER[\"LIMMAT\"] = dict(zip(sorted(data1[\"LIMMAT\"].unique()), colors_[:len(data1[\"LIMMAT\"].unique())]))\n",
    "HUE_ORDER[\"TOK\"] = dict(zip(sorted(data1[\"TOK\"].unique()), colors_[:len(data1[\"TOK\"].unique())]))\n",
    "\n",
    "hue_order = HUEOrder(HUE_ORDER)"
   ]
  },
  {
   "cell_type": "code",
   "execution_count": null,
   "id": "fec8f21e",
   "metadata": {},
   "outputs": [],
   "source": []
  }
 ],
 "metadata": {
  "kernelspec": {
   "display_name": "Python 3 (ipykernel)",
   "language": "python",
   "name": "python3"
  },
  "language_info": {
   "codemirror_mode": {
    "name": "ipython",
    "version": 3
   },
   "file_extension": ".py",
   "mimetype": "text/x-python",
   "name": "python",
   "nbconvert_exporter": "python",
   "pygments_lexer": "ipython3",
   "version": "3.10.10"
  }
 },
 "nbformat": 4,
 "nbformat_minor": 5
}
