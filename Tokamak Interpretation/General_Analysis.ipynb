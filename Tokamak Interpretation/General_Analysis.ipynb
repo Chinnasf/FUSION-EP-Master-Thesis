{
 "cells": [
  {
   "cell_type": "code",
   "execution_count": 1,
   "id": "e8b13063",
   "metadata": {},
   "outputs": [],
   "source": [
    "%load_ext autoreload\n",
    "%autoreload 2"
   ]
  },
  {
   "cell_type": "code",
   "execution_count": 2,
   "id": "e8dee487",
   "metadata": {},
   "outputs": [],
   "source": [
    "import sys\n",
    "sys.path.append('../')\n",
    "import tokamakTK\n",
    "from tokamakTK import MyCounter, HUEOrder\n",
    "\n",
    "import numpy as np \n",
    "import pandas as pd\n",
    "import matplotlib.pyplot as plt\n",
    "import scipy as sp\n",
    "import statsmodels.api as sm\n",
    "import matplotlib.patches as mpatches\n",
    "import seaborn as sns\n",
    "\n",
    "from collections import Counter\n",
    "\n",
    "def min_max_date(data_):\n",
    "    dates = sorted(data2.DATE.astype(str).values)\n",
    "    d0 = dates[0]; d1 = dates[-1]\n",
    "    d0 = d0[:4] + \"/\" + d0[4:6] + \"/\" + d0[6:]\n",
    "    d1 = d1[:4] + \"/\" + d1[4:6] + \"/\" + d1[6:]\n",
    "    return (d0,d1)\n",
    "\n",
    "pd.set_option('display.max_columns', None)\n",
    "#plt.rc('font',family = 'serif')\n",
    "colors_ = sns.color_palette('viridis', 20)\n",
    "path = \"../data/\""
   ]
  },
  {
   "cell_type": "code",
   "execution_count": 3,
   "id": "03316a55",
   "metadata": {},
   "outputs": [
    {
     "name": "stdout",
     "output_type": "stream",
     "text": [
      "23.45% of the data decreased alpha_R\n",
      "76.55% of the data did not decrease alpha_R\n"
     ]
    }
   ],
   "source": [
    "# Obtained from Optimization\n",
    "min_subset_ids = pd.read_csv(path+\"R_ids_alpha_0.6357.csv\")\n",
    "\n",
    "DB2 = pd.read_csv(path+\"DB2P8.csv\")\n",
    "DB5 = pd.read_csv(path+\"SELDB5_SVD.csv\", low_memory=False) \n",
    "\n",
    "# Setting ELMy Dataset\n",
    "DB5 = DB5[DB5[\"PHASE\"].isin(['HGELM', 'HSELM', 'HGELMH', 'HSELMH'])]\n",
    "\n",
    "# There is two shots from DB2P8 missing in DB5\n",
    "missing_shots = DB2[~DB2.id.isin( DB5.id.values )].reset_index(drop=True)\n",
    "DB5 = pd.concat([DB5, missing_shots], axis=0, ignore_index=True)\n",
    "\n",
    "# Labeling shots that had great impact in decreasing alpha_R\n",
    "DB5.insert(loc=2,column=\"label\",value=[0]*len(DB5))\n",
    "DB5.loc[(DB5[DB5.id.isin(min_subset_ids.id)].index), \"label\"] = 1\n",
    "\n",
    "print(\n",
    "    f\"{ round( (len(min_subset_ids)/len(DB5))*100     ,2)  }% of the data decreased alpha_R\\n\" + \n",
    "    f\"{ round( (1 - len(min_subset_ids)/len(DB5))*100 ,2)  }% of the data did not decrease alpha_R\"\n",
    ")"
   ]
  },
  {
   "cell_type": "code",
   "execution_count": 4,
   "id": "279b3742",
   "metadata": {},
   "outputs": [],
   "source": [
    "features = ['TAUTH','NEL','TAV','BT','RHOSTAR','NUSTAR','BETASTAR']\n",
    "\n",
    "DB5 = tokamakTK.clean_categorical_data(DB5)"
   ]
  },
  {
   "cell_type": "code",
   "execution_count": 5,
   "id": "11cdc507",
   "metadata": {},
   "outputs": [],
   "source": [
    "# alpha_R -- 0.6358 --> when considering DB2 for calculation\n",
    "data1 = DB5[DB5.label.isin([1])].reset_index(drop=True)\n",
    "# alpha_R -- 2.1246 --> when considering DB2 for calculation\n",
    "data2 = DB5[DB5.label.isin([0])]\n",
    "# Removing DB2, because most of these shots have missing info\n",
    "data2 = data2[~data2.id.isin(DB2.id.values)].reset_index(drop=True)"
   ]
  },
  {
   "cell_type": "code",
   "execution_count": 6,
   "id": "1ec770e6",
   "metadata": {},
   "outputs": [],
   "source": [
    "#tokamakTK.get_regression(data1, DB2)[1].summary()"
   ]
  },
  {
   "cell_type": "code",
   "execution_count": 7,
   "id": "7021557c",
   "metadata": {},
   "outputs": [
    {
     "name": "stdout",
     "output_type": "stream",
     "text": [
      "GROUP 1 | size = 1466 | 1989/06/23 | 2017/10/26\n",
      "Missing Tokamaks: ['ASDEX' 'COMPASS' 'JFT2M' 'PBXM' 'PDX' 'TCV' 'TDEV' 'TFTR']\n",
      "Present Tokamaks: ['AUG' 'AUGW' 'CMOD' 'D3D' 'JET' 'JETILW' 'JT60U' 'MAST' 'NSTX' 'START']\n",
      "\n",
      "\n",
      "ELMTYPE\n",
      "TYPE-1+2: 11\n",
      "TYPE-1+5: 7\n",
      "TYPE-I: 1008\n",
      "TYPE-II: 98\n",
      "TYPE-III: 148\n",
      "TYPE-RF: 5\n",
      "TYPE-V: 31\n",
      "UNKNOWN: 158\n",
      "\n",
      "\n",
      "PHASE\n",
      "HGELM: 867\n",
      "HGELMH: 255\n",
      "HSELM: 322\n",
      "HSELMH: 22\n"
     ]
    }
   ],
   "source": [
    "## GROUP 1 -- Decreasing alpha-R the most\n",
    "print(f\"GROUP 1 | size = {len(data1)} | {min_max_date(data1)[0]} | {min_max_date(data1)[-1]}\")\n",
    "print(f\"Missing Tokamaks: {DB5[~DB5.TOK.isin(data1.TOK.unique())]['TOK'].unique()}\")\n",
    "print(f\"Present Tokamaks: {data1.TOK.unique()}\")\n",
    "print(\"\\n\")\n",
    "print(f\"ELMTYPE\\n{MyCounter(data1['ELMTYPE'])}\")\n",
    "print(\"\\n\")\n",
    "print(f\"PHASE\\n{MyCounter(data1['PHASE'])}\")"
   ]
  },
  {
   "cell_type": "code",
   "execution_count": 8,
   "id": "8250f3ab",
   "metadata": {},
   "outputs": [
    {
     "name": "stdout",
     "output_type": "stream",
     "text": [
      "GROUP 2 | size = 3476 | 1989/06/23 | 2017/10/26\n",
      "Missing Tokamaks: ['ASDEX' 'PBXM' 'PDX']\n",
      "Present Tokamaks: ['AUG' 'AUGW' 'CMOD' 'COMPASS' 'D3D' 'JET' 'JETILW' 'JFT2M' 'JT60U' 'MAST'\n",
      " 'NSTX' 'START' 'TCV' 'TDEV' 'TFTR']\n",
      "\n",
      "\n",
      "ELMTYPE\n",
      "TYPE-1+2: 21\n",
      "TYPE-1+5: 13\n",
      "TYPE-I: 2700\n",
      "TYPE-II: 188\n",
      "TYPE-III: 291\n",
      "TYPE-RF: 25\n",
      "TYPE-V: 34\n",
      "UNKNOWN: 204\n",
      "\n",
      "\n",
      "PHASE\n",
      "HGELM: 2020\n",
      "HGELMH: 622\n",
      "HSELM: 778\n",
      "HSELMH: 56\n"
     ]
    }
   ],
   "source": [
    "print(f\"GROUP 2 | size = {len(data2)} | {min_max_date(data2)[0]} | {min_max_date(data2)[-1]}\")\n",
    "print(f\"Missing Tokamaks: {DB5[~DB5.TOK.isin(data2.TOK.unique())]['TOK'].unique()}\")\n",
    "print(f\"Present Tokamaks: {data2.TOK.unique()}\")\n",
    "print(\"\\n\")\n",
    "print(f\"ELMTYPE\\n{MyCounter(data2['ELMTYPE'])}\")\n",
    "print(\"\\n\")\n",
    "print(f\"PHASE\\n{MyCounter(data2['PHASE'])}\")"
   ]
  },
  {
   "cell_type": "code",
   "execution_count": 9,
   "id": "0534ed46",
   "metadata": {},
   "outputs": [],
   "source": [
    "tokamak = pd.DataFrame([\n",
    "    data1[\"TOK\"].value_counts(),\n",
    "    data2[\"TOK\"].value_counts()\n",
    "], index=[\"data1\",\"data2\"]).T.fillna(0.0)\n",
    "tokamak = tokamak.sort_values(\"data2\", ascending=False)\n",
    "\n",
    "tokamak = (tokamak/len(DB5))*100"
   ]
  },
  {
   "cell_type": "code",
   "execution_count": 13,
   "id": "eccd3b7a",
   "metadata": {
    "scrolled": false
   },
   "outputs": [
    {
     "data": {
      "image/png": "[encoded data removed]",
      "text/plain": [
       "<Figure size 700x400 with 1 Axes>"
      ]
     },
     "metadata": {},
     "output_type": "display_data"
    }
   ],
   "source": [
    "# create a figure with subplots\n",
    "fig, ax = plt.subplots(figsize=(7, 4))\n",
    "\n",
    "# define the x and y values for the bars\n",
    "x = np.arange(len(tokamak.index))\n",
    "width = 0.35\n",
    "ax.bar(x + width/2, tokamak['data1'], width, color='salmon', label='$\\\\bf{Decreasing}\\\\:\\\\bf{Dataset}$')\n",
    "ax.bar(x - width/2, tokamak['data2'], width, color='#A84547', label='Unaffected Dataset')\n",
    "\n",
    "\n",
    "# set the x-axis tick labels\n",
    "ax.set_xticks(x)\n",
    "ax.set_xticklabels(tokamak.index, rotation=90)\n",
    "\n",
    "# Set the font weight of 'AUG' and 'MAST' to bold\n",
    "for label in plt.gca().xaxis.get_ticklabels():\n",
    "    if label.get_text() in data1.TOK.unique():\n",
    "        label.set_fontweight('bold')\n",
    "\n",
    "# set the y-axis label\n",
    "ax.set_ylabel('Relative Counts to STDB5 [%]')\n",
    "\n",
    "# set the plot title and legend\n",
    "ax.set_title('NEW SHOTS IN STDB5')\n",
    "ax.legend()\n",
    "\n",
    "# display the plot\n",
    "plt.show()"
   ]
  },
  {
   "cell_type": "code",
   "execution_count": null,
   "id": "4e613903",
   "metadata": {},
   "outputs": [],
   "source": []
  }
 ],
 "metadata": {
  "kernelspec": {
   "display_name": "Python 3 (ipykernel)",
   "language": "python",
   "name": "python3"
  },
  "language_info": {
   "codemirror_mode": {
    "name": "ipython",
    "version": 3
   },
   "file_extension": ".py",
   "mimetype": "text/x-python",
   "name": "python",
   "nbconvert_exporter": "python",
   "pygments_lexer": "ipython3",
   "version": "3.10.10"
  }
 },
 "nbformat": 4,
 "nbformat_minor": 5
}
