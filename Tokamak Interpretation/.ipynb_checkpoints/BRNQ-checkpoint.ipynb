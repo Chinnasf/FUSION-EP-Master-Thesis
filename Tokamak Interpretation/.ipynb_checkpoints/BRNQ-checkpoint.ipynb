{
 "cells": [
  {
   "cell_type": "code",
   "execution_count": 5,
   "id": "898a73b9",
   "metadata": {},
   "outputs": [],
   "source": [
    "import sys\n",
    "sys.path.append('../')\n",
    "import tokamakTK\n",
    "\n",
    "from tokamakTK import get_ECT_regression\n",
    "\n",
    "import numpy as np \n",
    "import pandas as pd\n",
    "import matplotlib.pyplot as plt\n",
    "import scipy as sp\n",
    "import statsmodels.api as sm\n",
    "import matplotlib.patches as mpatches\n",
    "\n",
    "pd.set_option('display.max_columns', None)\n",
    "plt.rc('font',family = 'serif')\n",
    "plt.rc('axes', axisbelow=True)\n",
    "\n",
    "path = \"../data/\"\n",
    "fig_path = \"../../../LATEX/Latex Images/\"\n",
    "plt.rcParams[\"mathtext.fontset\"] = \"cm\""
   ]
  },
  {
   "cell_type": "markdown",
   "id": "be4088f8",
   "metadata": {},
   "source": [
    "[Notes based on: Sarazin, et al. 2019](https://iopscience.iop.org/article/10.1088/1741-4326/ab48a5/meta)"
   ]
  },
  {
   "cell_type": "code",
   "execution_count": 25,
   "id": "66ee799d",
   "metadata": {},
   "outputs": [],
   "source": [
    "# IPB98(y,2)\n",
    "DEMO = {\"TAUTH\":4.6, # s\n",
    "        \"BETASTAR\":2.2, # 2.2\n",
    "        \"RGEO\":9.1,  # m\n",
    "        \"BT\":5.6,    # T\n",
    "        \"NEL\":8.7,   # 10^19\n",
    "        \"TAV\":12.9,  # keV\n",
    "        \"IP\":19.6,   # MA\n",
    "        \"PLTH\":157.5,# MW\n",
    "        \"Q95\":3.2,\n",
    "        \"KAREA\":1.59,\n",
    "        \"EPS\":3.1,\n",
    "        \"MEFF\":6.27\n",
    "       }\n",
    "\n",
    "ITER = {\"TAUTH\":3.1, # s\n",
    "        \"BETASTAR\":2.43,# 2.2\n",
    "        \"RGEO\":6.2,  # m\n",
    "        \"BT\":4.42,   # T\n",
    "        \"NEL\":8.4,   # 10^19\n",
    "        \"TAV\":10.7,  # keV\n",
    "        \"IP\":12.5,   # MA\n",
    "        \"PLTH\": 106, # MW\n",
    "        \"Q95\":3,\n",
    "        \"KAREA\":1.7,\n",
    "        \"EPS\":3.1,\n",
    "        \"MEFF\":2.554\n",
    "       }"
   ]
  },
  {
   "cell_type": "code",
   "execution_count": 3,
   "id": "5696ebce",
   "metadata": {},
   "outputs": [
    {
     "name": "stdout",
     "output_type": "stream",
     "text": [
      "  Subset that decrease alpha-R to 0.6357\n",
      "--------\n",
      "23.45% affected alpha_R\n",
      "76.55% did not affect alpha_R\n",
      "\n",
      "\n",
      "  Subset that decrease alpha-R to 0.9998\n",
      "--------\n",
      "9.88% affected alpha_R\n",
      "90.12% did not affect alpha_R\n",
      "\n",
      "\n",
      "  Subset given by Joseph Hall           \n",
      "--------\n",
      "18.46% affected alpha_R\n",
      "81.54% did not affect alpha_R\n"
     ]
    }
   ],
   "source": [
    "# Obtained from Optimization\n",
    "\n",
    "min_subset_ids_6357 = pd.read_csv(path+\"R_ids_alpha_0.6357.csv\")\n",
    "min_subset_ids_9998 = pd.read_csv(path+\"R_ids_alpha_0.9998.csv\")\n",
    "min_subset_ids_joe  = pd.read_csv(path+\"deviation_id.csv\")\n",
    "\n",
    "DB2 = pd.read_csv(path+\"DB2P8.csv\")\n",
    "DB5 = pd.read_csv(path+\"SELDB5_SVD.csv\", low_memory=False) \n",
    "\n",
    "# Setting ELMy Dataset\n",
    "DB5 = DB5[DB5[\"PHASE\"].isin(['HGELM', 'HSELM', 'HGELMH', 'HSELMH'])]\n",
    "\n",
    "# Removing Spherical TOKAMAKS\n",
    "#DB5 = DB5[~DB5[\"TOK\"].isin(['START','MAST','NSTX'])]\n",
    "\n",
    "# There is two shots from DB2P8 missing in DB5\n",
    "missing_shots = DB2[~DB2.id.isin( DB5.id.values )].reset_index(drop=True)\n",
    "DB5 = pd.concat([DB5, missing_shots], axis=0, ignore_index=True)\n",
    "\n",
    "# Labeling shots that had great impact in decreasing alpha_R\n",
    "DB5.insert(loc=2,column=\"label_6357\",value=[\"Unaffected\"]*len(DB5))\n",
    "DB5.loc[(DB5[DB5.id.isin(min_subset_ids_6357.id)].index), \"label_6357\"] = \"Decreasing\"\n",
    "\n",
    "DB5.insert(loc=2,column=\"label_9998\",value=[\"Unaffected\"]*len(DB5))\n",
    "DB5.loc[(DB5[DB5.id.isin(min_subset_ids_9998.id)].index), \"label_9998\"] = \"Decreasing\"\n",
    "\n",
    "DB5.insert(loc=2,column=\"label_joe\",value=[\"Unaffected\"]*len(DB5))\n",
    "DB5.loc[(DB5[DB5.id.isin(min_subset_ids_joe.id)].index), \"label_joe\"] = \"Decreasing\"\n",
    "\n",
    "DB5.insert(loc=2,column=\"Spherical\",value=[\"False\"]*len(DB5))\n",
    "DB5.loc[(DB5[DB5.TOK.isin(['START','MAST','NSTX'])].index), \"Spherical\"] = \"True\"\n",
    "\n",
    "DB5.insert(0, 'intercept', np.ones(len(DB5)))\n",
    "\n",
    "\n",
    "print(\n",
    "    \"  Subset that decrease alpha-R to 0.6357\\n--------\\n\" +\n",
    "    f\"{ round( (len(min_subset_ids_6357)/len(DB5))*100     ,2)  }% affected alpha_R\\n\" + \n",
    "    f\"{ round( (1 - len(min_subset_ids_6357)/len(DB5))*100 ,2)  }% did not affect alpha_R\" +\n",
    "    \"\\n\\n\\n  Subset that decrease alpha-R to 0.9998\\n--------\\n\" +\n",
    "    f\"{ round( (len(min_subset_ids_9998)/len(DB5))*100     ,2)  }% affected alpha_R\\n\" + \n",
    "    f\"{ round( (1 - len(min_subset_ids_9998)/len(DB5))*100 ,2)  }% did not affect alpha_R\"\n",
    "    \"\\n\\n\\n  Subset given by Joseph Hall           \\n--------\\n\" +\n",
    "    f\"{ round( (len(min_subset_ids_joe)/len(DB5))*100     ,2)  }% affected alpha_R\\n\" + \n",
    "    f\"{ round( (1 - len(min_subset_ids_joe)/len(DB5))*100 ,2)  }% did not affect alpha_R\"\n",
    ")"
   ]
  },
  {
   "cell_type": "code",
   "execution_count": 4,
   "id": "a980a877",
   "metadata": {},
   "outputs": [
    {
     "data": {
      "text/plain": [
       "{'tau_E': 3.1,\n",
       " 'beta': 2.43,\n",
       " 'R_geo': 6.2,\n",
       " 'B_t': 4.42,\n",
       " 'n_e': 8.4,\n",
       " 'T': 10.7,\n",
       " 'Ip': 12.5,\n",
       " 'q95': 3,\n",
       " 'kappa': 1.7,\n",
       " 'eps': 3.1}"
      ]
     },
     "execution_count": 4,
     "metadata": {},
     "output_type": "execute_result"
    }
   ],
   "source": [
    "ITER"
   ]
  },
  {
   "cell_type": "code",
   "execution_count": 9,
   "id": "cf9ded9e",
   "metadata": {},
   "outputs": [],
   "source": [
    "DB2prms = get_ECT_regression(DB2).params.to_dict()\n",
    "DB2prms['const'] = np.exp(DB2prms['const'])"
   ]
  },
  {
   "cell_type": "code",
   "execution_count": 11,
   "id": "b7c57dea",
   "metadata": {},
   "outputs": [],
   "source": [
    "DB5prms = get_ECT_regression(DB5).params.to_dict()\n",
    "DB5prms['const'] = np.exp(DB5prms['const'])"
   ]
  },
  {
   "cell_type": "code",
   "execution_count": 14,
   "id": "247aeef5",
   "metadata": {},
   "outputs": [],
   "source": [
    "DDsprms = get_ECT_regression(DB5[DB5.id.isin(min_subset_ids_6357.id.values) | \n",
    "                                 DB5.id.isin(DB2.id.values)\n",
    "                                ]).params.to_dict()\n",
    "DDsprms['const'] = np.exp(DDsprms['const'])"
   ]
  },
  {
   "cell_type": "code",
   "execution_count": 15,
   "id": "6453e1ba",
   "metadata": {},
   "outputs": [],
   "source": [
    "UDsprms = get_ECT_regression(DB5[~DB5.id.isin(min_subset_ids_6357.id.values)]).params.to_dict()\n",
    "UDsprms['const'] = np.exp(UDsprms['const'])"
   ]
  },
  {
   "cell_type": "code",
   "execution_count": 17,
   "id": "c2230609",
   "metadata": {},
   "outputs": [
    {
     "data": {
      "text/plain": [
       "{'const': 0.07543874049968176,\n",
       " 'IP': 0.7818564549785937,\n",
       " 'BT': 0.24388542411978847,\n",
       " 'NEL': 0.41145103200443656,\n",
       " 'PLTH': -0.7532206371481888,\n",
       " 'RGEO': 2.155963618372499,\n",
       " 'KAREA': 0.5002957204679769,\n",
       " 'EPS': 0.7989791985662811,\n",
       " 'MEFF': 0.2189922745716312}"
      ]
     },
     "execution_count": 17,
     "metadata": {},
     "output_type": "execute_result"
    }
   ],
   "source": [
    "UDsprms"
   ]
  },
  {
   "cell_type": "markdown",
   "id": "bf264993",
   "metadata": {},
   "source": [
    "$$\n",
    "    \\tau_{E,th} = \\alpha_0\\cdot I_P^{\\alpha_I}\\cdot B^{\\alpha_B}_t\\cdot \\bar{n}^{\\alpha_n}_e  \\cdot P^{\\alpha_P}_{l,th}\\cdot R^{\\alpha_R}_{geo}\\cdot \\kappa^{\\alpha_\\kappa}_a\\cdot \\epsilon^{\\alpha_\\epsilon}\\cdot M^{\\alpha_M}_{eff}\n",
    "$$"
   ]
  },
  {
   "cell_type": "code",
   "execution_count": 18,
   "id": "91dd702a",
   "metadata": {},
   "outputs": [],
   "source": [
    "def predict_TauE(Mprms, Dprms):\n",
    "    tau = (Mprms['const'] * (Dprms[\"IP\"]**Mprms[\"IP\"]) * (Dprms[\"BT\"]**Mprms[\"BT\"]) *\n",
    "          (Dprms[\"NEL\"]**Mprms[\"NEL\"]) * (Dprms[\"PLTH\"]**Mprms[\"PLTH\"]) * (Dprms[\"RGEO\"]**Mprms[\"RGEO\"]) *\n",
    "          (Dprms[\"KAREA\"]**Mprms[\"KAREA\"]) * (Dprms[\"EPS\"]**Mprms[\"EPS\"]) * (Dprms[\"MEFF\"]**Mprms[\"MEFF\"])\n",
    "          )\n",
    "    return tau"
   ]
  },
  {
   "cell_type": "code",
   "execution_count": 26,
   "id": "5a8b4aa2",
   "metadata": {},
   "outputs": [
    {
     "data": {
      "text/plain": [
       "10.353061437233006"
      ]
     },
     "execution_count": 26,
     "metadata": {},
     "output_type": "execute_result"
    }
   ],
   "source": [
    "predict_TauE(DB2prms, ITER)"
   ]
  },
  {
   "cell_type": "code",
   "execution_count": 28,
   "id": "ea1f3828",
   "metadata": {},
   "outputs": [
    {
     "data": {
      "text/plain": [
       "2.0250652668660973"
      ]
     },
     "execution_count": 28,
     "metadata": {},
     "output_type": "execute_result"
    }
   ],
   "source": [
    "predict_TauE(DB5prms, ITER)"
   ]
  },
  {
   "cell_type": "code",
   "execution_count": 29,
   "id": "a89031ba",
   "metadata": {},
   "outputs": [
    {
     "data": {
      "text/plain": [
       "5.462009737878593"
      ]
     },
     "execution_count": 29,
     "metadata": {},
     "output_type": "execute_result"
    }
   ],
   "source": [
    "predict_TauE(DB5prms, DEMO)"
   ]
  },
  {
   "cell_type": "code",
   "execution_count": 30,
   "id": "8349d56c",
   "metadata": {},
   "outputs": [
    {
     "data": {
      "text/plain": [
       "33.230622092876644"
      ]
     },
     "execution_count": 30,
     "metadata": {},
     "output_type": "execute_result"
    }
   ],
   "source": [
    "predict_TauE(DB2prms, DEMO)"
   ]
  },
  {
   "cell_type": "code",
   "execution_count": null,
   "id": "25ae2dcd",
   "metadata": {},
   "outputs": [],
   "source": []
  }
 ],
 "metadata": {
  "kernelspec": {
   "display_name": "Python 3 (ipykernel)",
   "language": "python",
   "name": "python3"
  },
  "language_info": {
   "codemirror_mode": {
    "name": "ipython",
    "version": 3
   },
   "file_extension": ".py",
   "mimetype": "text/x-python",
   "name": "python",
   "nbconvert_exporter": "python",
   "pygments_lexer": "ipython3",
   "version": "3.10.11"
  }
 },
 "nbformat": 4,
 "nbformat_minor": 5
}
