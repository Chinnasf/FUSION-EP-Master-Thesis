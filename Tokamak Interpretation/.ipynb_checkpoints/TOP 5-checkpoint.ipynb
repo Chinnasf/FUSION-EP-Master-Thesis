{
 "cells": [
  {
   "cell_type": "code",
   "execution_count": 1,
   "id": "41a98de2",
   "metadata": {},
   "outputs": [],
   "source": [
    "%load_ext autoreload\n",
    "%autoreload 2"
   ]
  },
  {
   "cell_type": "code",
   "execution_count": 2,
   "id": "93280b9e",
   "metadata": {},
   "outputs": [],
   "source": [
    "import sys\n",
    "sys.path.append('../')\n",
    "import tokamakTK\n",
    "from tokamakTK import get_ECT_regression, HUEOrder, get_pi_matrix, clean_numerical_data\n",
    "\n",
    "import numpy as np \n",
    "import pandas as pd\n",
    "import seaborn as sns\n",
    "import matplotlib.pyplot as plt\n",
    "import scipy as sp\n",
    "import statsmodels.api as sm\n",
    "import matplotlib.patches as mpatches\n",
    "\n",
    "from collections import Counter\n",
    "from scipy.stats import f\n",
    "from statsmodels.formula.api import ols\n",
    "from statsmodels.stats.anova import anova_lm\n",
    "\n",
    "pd.set_option('display.max_columns', None)\n",
    "path = \"../data/\"\n",
    "fig_path = \"../../../LATEX/Latex Images/\"\n",
    "\n",
    "plt.rc('font',family = 'serif')"
   ]
  },
  {
   "cell_type": "code",
   "execution_count": 3,
   "id": "08a29f84",
   "metadata": {},
   "outputs": [
    {
     "name": "stdout",
     "output_type": "stream",
     "text": [
      "  Subset that decrease alpha-R to 0.6357\n",
      "--------\n",
      "23.45% affected alpha_R\n",
      "76.55% did not affect alpha_R\n",
      "\n",
      "\n",
      "  Subset that decrease alpha-R to 0.9998\n",
      "--------\n",
      "9.88% affected alpha_R\n",
      "90.12% did not affect alpha_R\n",
      "\n",
      "\n",
      "  Subset given by Joseph Hall           \n",
      "--------\n",
      "18.46% affected alpha_R\n",
      "81.54% did not affect alpha_R\n"
     ]
    }
   ],
   "source": [
    "# Obtained from Optimization\n",
    "\n",
    "min_subset_ids_6357 = pd.read_csv(path+\"R_ids_alpha_0.6357.csv\")\n",
    "min_subset_ids_9998 = pd.read_csv(path+\"R_ids_alpha_0.9998.csv\")\n",
    "min_subset_ids_joe  = pd.read_csv(path+\"deviation_id.csv\")\n",
    "\n",
    "DB2 = pd.read_csv(path+\"DB2P8.csv\")\n",
    "DB5 = pd.read_csv(path+\"SELDB5_SVD.csv\", low_memory=False) \n",
    "\n",
    "# Setting ELMy Dataset\n",
    "DB5 = DB5[DB5[\"PHASE\"].isin(['HGELM', 'HSELM', 'HGELMH', 'HSELMH'])]\n",
    "\n",
    "# Removing Spherical TOKAMAKS\n",
    "#DB5 = DB5[~DB5[\"TOK\"].isin(['START','MAST','NSTX'])]\n",
    "\n",
    "# There is two shots from DB2P8 missing in DB5\n",
    "missing_shots = DB2[~DB2.id.isin( DB5.id.values )].reset_index(drop=True)\n",
    "DB5 = pd.concat([DB5, missing_shots], axis=0, ignore_index=True)\n",
    "\n",
    "# Labeling shots that had great impact in decreasing alpha_R\n",
    "DB5.insert(loc=2,column=\"label_6357\",value=[0]*len(DB5))\n",
    "DB5.loc[(DB5[DB5.id.isin(min_subset_ids_6357.id)].index), \"label_6357\"] = 1\n",
    "\n",
    "DB5.insert(loc=2,column=\"label_9998\",value=[0]*len(DB5))\n",
    "DB5.loc[(DB5[DB5.id.isin(min_subset_ids_9998.id)].index), \"label_9998\"] = 1\n",
    "\n",
    "DB5.insert(loc=2,column=\"label_joe\",value=[0]*len(DB5))\n",
    "DB5.loc[(DB5[DB5.id.isin(min_subset_ids_joe.id)].index), \"label_joe\"] = 1\n",
    "\n",
    "DB5.insert(0, 'intercept', np.ones(len(DB5)))\n",
    "\n",
    "\n",
    "print(\n",
    "    \"  Subset that decrease alpha-R to 0.6357\\n--------\\n\" +\n",
    "    f\"{ round( (len(min_subset_ids_6357)/len(DB5))*100     ,2)  }% affected alpha_R\\n\" + \n",
    "    f\"{ round( (1 - len(min_subset_ids_6357)/len(DB5))*100 ,2)  }% did not affect alpha_R\" +\n",
    "    \"\\n\\n\\n  Subset that decrease alpha-R to 0.9998\\n--------\\n\" +\n",
    "    f\"{ round( (len(min_subset_ids_9998)/len(DB5))*100     ,2)  }% affected alpha_R\\n\" + \n",
    "    f\"{ round( (1 - len(min_subset_ids_9998)/len(DB5))*100 ,2)  }% did not affect alpha_R\"\n",
    "    \"\\n\\n\\n  Subset given by Joseph Hall           \\n--------\\n\" +\n",
    "    f\"{ round( (len(min_subset_ids_joe)/len(DB5))*100     ,2)  }% affected alpha_R\\n\" + \n",
    "    f\"{ round( (1 - len(min_subset_ids_joe)/len(DB5))*100 ,2)  }% did not affect alpha_R\"\n",
    ")"
   ]
  },
  {
   "cell_type": "code",
   "execution_count": 4,
   "id": "54869efc",
   "metadata": {},
   "outputs": [],
   "source": [
    "DB5 = tokamakTK.clean_categorical_data(DB5)"
   ]
  },
  {
   "cell_type": "code",
   "execution_count": 5,
   "id": "fca15bf8",
   "metadata": {},
   "outputs": [],
   "source": [
    "# alpha_R -- 0.6358 --> when considering DB2 for calculation\n",
    "data1 = DB5[DB5.label_6357.isin([1])].reset_index(drop=True)\n",
    "\n",
    "# alpha_R -- 2.1560 --> when considering DB2 for calculation\n",
    "data2 = DB5[DB5.label_6357.isin([0])].reset_index(drop=True)\n",
    "\n",
    "# Removing DB2, because most of these shots have missing info\n",
    "#data2 = data2[~data2.id.isin(DB2.id.values)].reset_index(drop=True)\n",
    "\n",
    "data = [data1, data2]"
   ]
  },
  {
   "cell_type": "code",
   "execution_count": 6,
   "id": "8f958bd4",
   "metadata": {},
   "outputs": [],
   "source": [
    "# Needed for Improved Visualization: 2D and 3D Plots\n",
    "\n",
    "HUE_ORDER, PX_ORDER = tokamakTK.get_colors_per_category(DB5)\n",
    "hue_order = HUEOrder(HUE_ORDER)"
   ]
  },
  {
   "cell_type": "markdown",
   "id": "f97e8050",
   "metadata": {},
   "source": [
    "## IMPORTANT FEATURES\n",
    "\n",
    "* `RHOSTAR`: Normalized Ion Gyroradius\n",
    "* `NUSTAR`: Normalized Ion Collision Frequency\n",
    "* `Q95`: Plasma safety factor at the 95% poloidal flux surface\n",
    "* `BETASTAR`: normalized plasma beta\n",
    "* `BEIMHD`: Beta Shafranov"
   ]
  },
  {
   "cell_type": "code",
   "execution_count": 7,
   "id": "1ce0817f",
   "metadata": {},
   "outputs": [],
   "source": [
    "features = ['RHOSTAR', 'NUSTAR', 'Q95',get_condition_number 'BETASTAR', 'BEIMHD']"
   ]
  },
  {
   "cell_type": "code",
   "execution_count": 9,
   "id": "9d92061b",
   "metadata": {},
   "outputs": [
    {
     "name": "stdout",
     "output_type": "stream",
     "text": [
      "Condition index: [1.         1.9132849  2.19094533 4.91808782 7.42617271]\n",
      "Condition index: [1.         2.25015625 2.78635201 4.88808565 7.46342132]\n"
     ]
    }
   ],
   "source": [
    "all_cases = [clean_numerical_data(data1[features+[\"DATE\",\"TOK\"]], SS_scaling=False, UL_scale=True),\n",
    "             clean_numerical_data(data2[features+[\"DATE\",\"TOK\"]], SS_scaling=False, UL_scale=True)\n",
    "            ]\n",
    "Π = [get_pi_matrix(x, features, scale=False, intercept=False) for x in all_cases]"
   ]
  },
  {
   "cell_type": "code",
   "execution_count": null,
   "id": "e3778274",
   "metadata": {},
   "outputs": [],
   "source": []
  }
 ],
 "metadata": {
  "kernelspec": {
   "display_name": "Python 3 (ipykernel)",
   "language": "python",
   "name": "python3"
  },
  "language_info": {
   "codemirror_mode": {
    "name": "ipython",
    "version": 3
   },
   "file_extension": ".py",
   "mimetype": "text/x-python",
   "name": "python",
   "nbconvert_exporter": "python",
   "pygments_lexer": "ipython3",
   "version": "3.10.11"
  }
 },
 "nbformat": 4,
 "nbformat_minor": 5
}
