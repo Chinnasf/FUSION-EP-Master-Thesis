{
 "cells": [
  {
   "cell_type": "code",
   "execution_count": 1,
   "id": "b678ed4c",
   "metadata": {},
   "outputs": [],
   "source": [
    "%load_ext autoreload\n",
    "%autoreload 2"
   ]
  },
  {
   "cell_type": "code",
   "execution_count": 2,
   "id": "d243ad3c",
   "metadata": {},
   "outputs": [],
   "source": [
    "import sys\n",
    "sys.path.append('../')\n",
    "import tokamakTK\n",
    "from tokamakTK import get_ECT_regression, HUEOrder, get_pi_matrix, clean_numerical_data, MyCounter\n",
    "\n",
    "import matplotlib.pyplot as plt\n",
    "from mpl_toolkits.mplot3d import Axes3D\n",
    "\n",
    "from PIL import Image\n",
    "#import imageio\n",
    "import imageio.v2 as imageio\n",
    "from matplotlib.lines import Line2D\n",
    "from PIL import Image\n",
    "import os\n",
    "import numpy as np \n",
    "import pandas as pd\n",
    "import matplotlib.pyplot as plt\n",
    "import scipy as sp\n",
    "import statsmodels.api as sm\n",
    "import matplotlib.patches as mpatches\n",
    "import matplotlib.colors as mcolors\n",
    "import seaborn as sns\n",
    "import plotly.express as px\n",
    "import plotly.subplots as plsp\n",
    "import plotly.graph_objects as go\n",
    "from plotly.subplots import make_subplots\n",
    "\n",
    "from collections import Counter\n",
    "\n",
    "pd.set_option('display.max_columns', None)\n",
    "plt.rc('font',family = 'serif')\n",
    "plt.rcParams[\"mathtext.fontset\"] = \"cm\"\n",
    "\n",
    "path = \"../data/\"\n",
    "fig_path = \"../../../LATEX/Latex Images/\"\n",
    "\n",
    "coeffs = ['IP', 'BT', 'NEL', 'PLTH', 'RGEO', 'KAREA', 'EPS', 'MEFF']"
   ]
  },
  {
   "cell_type": "code",
   "execution_count": 3,
   "id": "22f6b747",
   "metadata": {},
   "outputs": [
    {
     "name": "stdout",
     "output_type": "stream",
     "text": [
      "  Subset that decrease alpha-R to 0.6357\n",
      "--------\n",
      "23.45% affected alpha_R\n",
      "76.55% did not affect alpha_R\n",
      "\n",
      "\n",
      "  Subset that decrease alpha-R to 0.9998\n",
      "--------\n",
      "9.88% affected alpha_R\n",
      "90.12% did not affect alpha_R\n",
      "\n",
      "\n",
      "  Subset given by Joseph Hall           \n",
      "--------\n",
      "18.46% affected alpha_R\n",
      "81.54% did not affect alpha_R\n"
     ]
    }
   ],
   "source": [
    "# Obtained from Optimization\n",
    "\n",
    "min_subset_ids_6357 = pd.read_csv(path+\"R_ids_alpha_0.6357.csv\")\n",
    "min_subset_ids_9998 = pd.read_csv(path+\"R_ids_alpha_0.9998.csv\")\n",
    "min_subset_ids_joe  = pd.read_csv(path+\"deviation_id.csv\")\n",
    "\n",
    "DB2 = pd.read_csv(path+\"DB2P8.csv\")\n",
    "DB5 = pd.read_csv(path+\"SELDB5_SVD.csv\", low_memory=False) \n",
    "\n",
    "# Setting ELMy Dataset\n",
    "DB5 = DB5[DB5[\"PHASE\"].isin(['HGELM', 'HSELM', 'HGELMH', 'HSELMH'])]\n",
    "\n",
    "# Removing Spherical TOKAMAKS\n",
    "#DB5 = DB5[~DB5[\"TOK\"].isin(['START','MAST','NSTX'])]\n",
    "\n",
    "# There is two shots from DB2P8 missing in DB5\n",
    "missing_shots = DB2[~DB2.id.isin( DB5.id.values )].reset_index(drop=True)\n",
    "DB5 = pd.concat([DB5, missing_shots], axis=0, ignore_index=True)\n",
    "\n",
    "# Labeling shots that had great impact in decreasing alpha_R\n",
    "DB5.insert(loc=2,column=\"label_6357\",value=[\"Unaffected\"]*len(DB5))\n",
    "DB5.loc[(DB5[DB5.id.isin(min_subset_ids_6357.id)].index), \"label_6357\"] = \"Decreasing\"\n",
    "\n",
    "DB5.insert(loc=2,column=\"label_9998\",value=[\"Unaffected\"]*len(DB5))\n",
    "DB5.loc[(DB5[DB5.id.isin(min_subset_ids_9998.id)].index), \"label_9998\"] = \"Decreasing\"\n",
    "\n",
    "DB5.insert(loc=2,column=\"label_joe\",value=[\"Unaffected\"]*len(DB5))\n",
    "DB5.loc[(DB5[DB5.id.isin(min_subset_ids_joe.id)].index), \"label_joe\"] = \"Decreasing\"\n",
    "\n",
    "DB5.insert(loc=2,column=\"Spherical\",value=[\"No Spherical\"]*len(DB5))\n",
    "DB5.loc[(DB5[DB5.TOK.isin(['START','MAST','NSTX'])].index), \"Spherical\"] = \"Spherical\"\n",
    "\n",
    "DB5.insert(0, 'intercept', np.ones(len(DB5)))\n",
    "\n",
    "\n",
    "print(\n",
    "    \"  Subset that decrease alpha-R to 0.6357\\n--------\\n\" +\n",
    "    f\"{ round( (len(min_subset_ids_6357)/len(DB5))*100     ,2)  }% affected alpha_R\\n\" + \n",
    "    f\"{ round( (1 - len(min_subset_ids_6357)/len(DB5))*100 ,2)  }% did not affect alpha_R\" +\n",
    "    \"\\n\\n\\n  Subset that decrease alpha-R to 0.9998\\n--------\\n\" +\n",
    "    f\"{ round( (len(min_subset_ids_9998)/len(DB5))*100     ,2)  }% affected alpha_R\\n\" + \n",
    "    f\"{ round( (1 - len(min_subset_ids_9998)/len(DB5))*100 ,2)  }% did not affect alpha_R\"\n",
    "    \"\\n\\n\\n  Subset given by Joseph Hall           \\n--------\\n\" +\n",
    "    f\"{ round( (len(min_subset_ids_joe)/len(DB5))*100     ,2)  }% affected alpha_R\\n\" + \n",
    "    f\"{ round( (1 - len(min_subset_ids_joe)/len(DB5))*100 ,2)  }% did not affect alpha_R\"\n",
    ")"
   ]
  },
  {
   "cell_type": "code",
   "execution_count": 4,
   "id": "16d0764a",
   "metadata": {},
   "outputs": [],
   "source": [
    "DB5 = tokamakTK.clean_categorical_data(DB5)\n",
    "\n",
    "\n",
    "def get_HUEORDER(DB5,c=\"tab20\"):\n",
    "    # Needed for Improved Visualization: 2D and 3D Plots\n",
    "    HUE_ORDER, PX_ORDER = tokamakTK.get_colors_per_category(DB5,c)\n",
    "    hue_order = HUEOrder(HUE_ORDER)\n",
    "\n",
    "    # ---------------------------------------------------\n",
    "\n",
    "    # SPECIAL PARAMETERS\n",
    "    colors_ = sns.color_palette(c, 20)\n",
    "    HUE_ORDER[\"Spherical\"] = dict(zip(sorted(DB5[\"Spherical\"].unique()), colors_[:len(DB5[\"Spherical\"].unique())]))\n",
    "    HUE_ORDER[\"label_joe\"] = dict(zip(sorted(DB5[\"label_joe\"].unique()), colors_[:len(DB5[\"label_joe\"].unique())]))\n",
    "    HUE_ORDER[\"TOK\"][\"START\"] = (0.8235, 0.5055, 0.4412)\n",
    "    \n",
    "    return HUE_ORDER, PX_ORDER\n",
    "\n",
    "HUE_ORDER, PX_ORDER = get_HUEORDER(DB5)"
   ]
  },
  {
   "cell_type": "code",
   "execution_count": 5,
   "id": "55a3883b",
   "metadata": {},
   "outputs": [],
   "source": [
    "data1 = DB5[DB5.label_6357.isin([\"Decreasing\"])].reset_index(drop=True)\n",
    "data2 = DB5[DB5.label_6357.isin([\"Unaffected\"])].reset_index(drop=True)\n",
    "data2 = data2[~data2.id.isin(DB2.id.values)].reset_index(drop=True)\n",
    "\n",
    "data = [data1,data2]"
   ]
  },
  {
   "cell_type": "code",
   "execution_count": null,
   "id": "0d4c56da",
   "metadata": {},
   "outputs": [],
   "source": [
    "len(data1)+len(data2)#+len(DB2)"
   ]
  },
  {
   "cell_type": "code",
   "execution_count": null,
   "id": "9b1f2c12",
   "metadata": {},
   "outputs": [],
   "source": [
    "def get_3D_plot_DB5(db5, indxs, parameter, saveFig=False, file_name=\"\", remSPH=False):\n",
    "    # Create a figure and a 3D axis\n",
    "    fig = plt.figure()\n",
    "    ax = fig.add_subplot(111, projection='3d')\n",
    "    alpha = round(\n",
    "        get_ECT_regression(\n",
    "            DB5[DB5.id.isin(DB2.id.values) | DB5.id.isin(indxs.id.values)]\n",
    "        ).params[\"RGEO\"], 2\n",
    "    )\n",
    "    \n",
    "    data = db5.copy()\n",
    "    x, y, z = \"NUSTAR\", \"RHOSTAR\", \"Q95\"\n",
    "    \n",
    "    y_sp = (11, 20, 13)\n",
    "    if remSPH:\n",
    "        data = data[~data.TOK.isin(['START','MAST','NSTX'])]\n",
    "        y_sp = (11, 25, 11)\n",
    "        if parameter==\"TOK\":\n",
    "            HUE_ORDER[parameter].pop('START')\n",
    "            HUE_ORDER[parameter].pop('MAST')\n",
    "            HUE_ORDER[parameter].pop('NSTX')\n",
    "            print(\"Remember to re-run HUE_ORDER\")\n",
    "    \n",
    "    data[\"colors\"] = data[parameter].map(HUE_ORDER[parameter])\n",
    "    \n",
    "    scatter = ax.scatter(data[x], data[y], data[z], c=data[\"colors\"].values)\n",
    "    ax.set_xlabel(x, fontsize=11, labelpad=7)\n",
    "    ax.set_ylabel(y, fontsize=y_sp[0], labelpad=y_sp[1])\n",
    "    ax.set_zlabel(z, fontsize=11, rotation=90)  \n",
    "    ax.tick_params(axis='x', labelsize=13)\n",
    "    ax.tick_params(axis='y', labelsize=y_sp[2])\n",
    "    ax.tick_params(axis='z', labelsize=13)\n",
    "    \n",
    "    #ax.set_title(\"STDB5 without Spherical Tokamaks\")\n",
    "    \n",
    "    ax.set_yticks(ax.get_yticks())\n",
    "    ax.set_yticklabels(ax.get_yticks(), rotation=45)\n",
    "    \n",
    "    # Add a legend\n",
    "    legend_elements = []\n",
    "    for category, color in HUE_ORDER[parameter].items():\n",
    "        legend_elements.append(plt.Line2D([0], [0], marker='o', \n",
    "                                          color='w', label=category, markerfacecolor=color, markersize=7))\n",
    "    legend = ax.legend(handles=legend_elements, frameon=False,\n",
    "                       loc='upper right', bbox_to_anchor=(1.3, 0.9), fontsize=8)\n",
    "\n",
    "    \n",
    "    ax.view_init(elev=15, azim=200)\n",
    "    \n",
    "    if saveFig:\n",
    "        #plt.savefig(path + file_name)\n",
    "        plt.savefig(path + file_name, format=\"pdf\", dpi=800)\n",
    "        plt.close()"
   ]
  },
  {
   "cell_type": "code",
   "execution_count": null,
   "id": "984f1c05",
   "metadata": {},
   "outputs": [],
   "source": [
    "#get_3D_plot_DB5(DB5, min_subset_ids_6357, \"WALMAT\", saveFig=False, file_name=\"\", remSPH=False)"
   ]
  },
  {
   "cell_type": "code",
   "execution_count": null,
   "id": "38017127",
   "metadata": {},
   "outputs": [],
   "source": [
    "#get_3D_plot_DB5(DB5, min_subset_ids_6357, \"DIVMAT\", saveFig=False, file_name=\"\", remSPH=False)"
   ]
  },
  {
   "cell_type": "code",
   "execution_count": null,
   "id": "7b126b63",
   "metadata": {},
   "outputs": [],
   "source": [
    "def get_twoprms3D_plot_DB5(db5, indxs, rotation, parameters, saveFig=False, file_name=\"\", remSPH=False):\n",
    "    # Create a figure and a 3D axis\n",
    "    alpha = round(\n",
    "        get_ECT_regression(\n",
    "            DB5[DB5.id.isin(DB2.id.values) | DB5.id.isin(indxs.id.values)]\n",
    "        ).params[\"RGEO\"], 2\n",
    "    )\n",
    "    \n",
    "    HUE_ORDER_0 = get_HUEORDER(db5, parameter, c=\"tab10\").copy()\n",
    "    HUE_ORDER_1 = get_HUEORDER(db5, parameter, c=\"Set3\").copy()\n",
    "    \n",
    "    data = db5.copy()\n",
    "    data[parameters[0]] = data[parameters[0]].str.replace(\"UNKNOWN\",\"UNK.\", regex=False)\n",
    "    data[parameters[1]] = data[parameters[1]].str.replace(\"UNKNOWN\",\"UNK.\", regex=False)\n",
    "    \n",
    "    HUE_ORDER_0[parameters[0]][\"UNK.\"] = HUE_ORDER_0[parameters[0]][\"UNKNOWN\"]\n",
    "    HUE_ORDER_0[parameters[0]].pop(\"UNKNOWN\")\n",
    "    \n",
    "    HUE_ORDER_1[parameters[1]][\"UNK.\"] = HUE_ORDER_1[parameters[1]][\"UNKNOWN\"]\n",
    "    HUE_ORDER_1[parameters[1]].pop(\"UNKNOWN\")\n",
    "    \n",
    "    HUE_ORDER_0[parameters[0]][\"UNK.\"] = (0, 0, 0)\n",
    "    HUE_ORDER_1[parameters[1]][\"UNK.\"] = (0, 0, 0)\n",
    "    \n",
    "    x, y, z = \"NUSTAR\", \"RHOSTAR\", \"Q95\"\n",
    "    \n",
    "    y_sp = (11, 20, 13)\n",
    "    if remSPH:\n",
    "        data = data[~data.TOK.isin(['START','MAST','NSTX'])]\n",
    "        y_sp = (11, 25, 11)\n",
    "        if parameters[0]==\"TOK\":\n",
    "            HUE_ORDER_0[parameters[0]].pop('START')\n",
    "            HUE_ORDER_0[parameters[0]].pop('MAST')\n",
    "            HUE_ORDER_0[parameters[0]].pop('NSTX')\n",
    "            print(\"Remember to re-run HUE_ORDER\")\n",
    "        elif parameters[1]==\"TOK\":\n",
    "            HUE_ORDER_1[parameters[1]].pop('START')\n",
    "            HUE_ORDER_1[parameters[1]].pop('MAST')\n",
    "            HUE_ORDER_1[parameters[1]].pop('NSTX')\n",
    "            print(\"Remember to re-run HUE_ORDER\")\n",
    "    \n",
    "    data[\"colors1\"] = data[parameters[0]].map(HUE_ORDER_0[parameters[0]])\n",
    "    data[\"colors2\"] = data[parameters[1]].map(HUE_ORDER_1[parameters[1]])\n",
    "    \n",
    "\n",
    "    fig = plt.figure(figsize=(13, 4.5))\n",
    "    ax1 = fig.add_subplot(121, projection='3d')\n",
    "    ax2 = fig.add_subplot(122, projection='3d')\n",
    "    \n",
    "    # Adjust subplot positions\n",
    "    fig.subplots_adjust(wspace=0.05)\n",
    "    \n",
    "    \n",
    "    scatter = ax1.scatter(data[x], data[y], data[z], c=data[\"colors1\"].values)\n",
    "    ax1.set_xlabel(x, fontsize=11, labelpad=7)\n",
    "    ax1.set_ylabel(y, fontsize=y_sp[0], labelpad=y_sp[1])\n",
    "    ax1.set_zlabel(z, fontsize=11, rotation=90)  \n",
    "    ax1.tick_params(axis='x', labelsize=13)\n",
    "    ax1.tick_params(axis='y', labelsize=y_sp[2])\n",
    "    ax1.tick_params(axis='z', labelsize=13)\n",
    "    \n",
    "    ax1.set_yticks(ax1.get_yticks())\n",
    "    ax1.set_yticklabels(ax1.get_yticks(), rotation=45)\n",
    "\n",
    "\n",
    "    ax1.view_init(elev=15, azim=rotation)\n",
    "\n",
    "\n",
    "    # GETTING THE SECOND PLOT\n",
    "\n",
    "\n",
    "    scatter = ax2.scatter(data[x], data[y], data[z], c=data[\"colors2\"].values)\n",
    "    ax2.set_xlabel(x, fontsize=11, labelpad=7)\n",
    "    ax2.set_ylabel(y, fontsize=y_sp[0], labelpad=y_sp[1])\n",
    "    ax2.zaxis.set_label_text(z, fontsize=11, rotation=90)  \n",
    "    ax2.tick_params(axis='x', labelsize=13)\n",
    "    ax2.tick_params(axis='y', labelsize=y_sp[2])\n",
    "    ax2.tick_params(axis='z', labelsize=13)\n",
    "    \n",
    "    ax2.set_yticks(ax2.get_yticks())\n",
    "    ax2.set_yticklabels(ax2.get_yticks(), rotation=45)\n",
    "    \n",
    "    ax2.view_init(elev=15, azim=rotation)\n",
    "    \n",
    "    # Add a legend | COMMENT WHEN ROTATING\n",
    "    \n",
    "    legend_elements = []\n",
    "    for category, color in HUE_ORDER_0[parameters[0]].items():\n",
    "        legend_elements.append(plt.Line2D([0], [0], marker='o', \n",
    "                                          color='w', label=category, markerfacecolor=color, markersize=7))\n",
    "    legend = ax1.legend(handles=legend_elements, frameon=False,\n",
    "                       loc='upper right', bbox_to_anchor=(1.27, 0.9), fontsize=8)\n",
    "    \n",
    "    legend_elements = []\n",
    "    for category, color in HUE_ORDER_1[parameters[1]].items():\n",
    "        legend_elements.append(plt.Line2D([1], [1], marker='o', \n",
    "                                          color='w', label=category, markerfacecolor=color, markersize=7))\n",
    "    legend = ax2.legend(handles=legend_elements, frameon=False,\n",
    "                       loc='upper right', bbox_to_anchor=(1.27, 0.9), fontsize=8)\n",
    "    \n",
    "    ax1.annotate(parameters[0], xy=(1, 0.9), xycoords='axes fraction',\n",
    "                 fontsize=10, fontweight='bold')\n",
    "    ax2.annotate(parameters[1], xy=(1, 0.9), xycoords='axes fraction',\n",
    "                 fontsize=10, fontweight='bold')\n",
    "    \n",
    "    \n",
    "    if saveFig:\n",
    "        plt.savefig(path + file_name)\n",
    "        #plt.savefig(path + file_name, format=\"pdf\", dpi=800)\n",
    "        plt.close()"
   ]
  },
  {
   "cell_type": "code",
   "execution_count": null,
   "id": "9d3544c5",
   "metadata": {},
   "outputs": [],
   "source": [
    "#get_two3D_plot_DB5(DB5, min_subset_ids_6357, 200, [\"WALMAT\", \"DIVMAT\"], \n",
    "#                   saveFig=True, file_name=\"Material_Analysis.pdf\", remSPH=False)"
   ]
  },
  {
   "cell_type": "code",
   "execution_count": null,
   "id": "4d20fb4b",
   "metadata": {},
   "outputs": [],
   "source": [
    "#get_two3D_plot_DB5(DB5, min_subset_ids_6357, 200, [\"WALMAT\", \"DIVMAT\"])"
   ]
  },
  {
   "cell_type": "markdown",
   "id": "9bf05ac2",
   "metadata": {},
   "source": [
    "## Two Params\n",
    "\n",
    "```Python\n",
    "for r in np.linspace(0,360, 360//2):\n",
    "    file_name = f\"GIF_images/image_{int(r)}.png\"\n",
    "    get_two3D_plot_DB5(DB5, min_subset_ids_6357, int(r),\n",
    "                       [\"WALMAT\", \"DIVMAT\"], saveFig=True, file_name=file_name\n",
    "                      )\n",
    "\n",
    "x,y,z = \"NUSTAR\", \"RHOSTAR\", \"Q95\"\n",
    "\n",
    "image_folder = path+\"GIF_images/\"  # Path to the folder containing the images\n",
    "output_file = path+\"/GIFs/\"+f\"roMAT{x[0]}{y[0]}{z[0]}.gif\"  # Output file name\n",
    "\n",
    "# Get a list of PNG files in the folder\n",
    "image_files = [os.path.join(image_folder, file) for file in os.listdir(image_folder) if file.endswith('.png')]\n",
    "# Sort the image files by their numerical values in the filenames\n",
    "image_files.sort(key=lambda x: int(os.path.splitext(os.path.basename(x))[0].split('_')[-1]))\n",
    "\n",
    "# Save the images in the folder as an animated GIF\n",
    "imageio.mimsave(output_file, [imageio.imread(file) for file in image_files], fps=7)\n",
    "```"
   ]
  },
  {
   "cell_type": "code",
   "execution_count": 214,
   "id": "52a64d66",
   "metadata": {},
   "outputs": [],
   "source": [
    "import pdb # For debugging || pdb.set_trace()\n",
    "\n",
    "def get_twods3D_plot_DB5(db5, data, rotation, parameter, stationary=True, saveFig=False, file_name=\"\", remSPH=False):\n",
    "    \n",
    "    \n",
    "    colors_dict = { # LIMMAT\n",
    "        'NONE': '#FF0000',\n",
    "        'BE': '#0000FF',\n",
    "        'C': '#A84547',\n",
    "        'C/W': '#CCCC00',\n",
    "        'MO': '#ADD8E6',\n",
    "        'W': '#FF8C00',\n",
    "        'UNK.': '#000000',\n",
    "    }\n",
    "    \n",
    "    \n",
    "    \"\"\"colors_dict = { # WALMAT\n",
    "        'AL':  '#FF0000',\n",
    "        'C':   '#A84547',\n",
    "        'C/SS':'#800080',\n",
    "        'C/W': '#CCCC00',\n",
    "        'IN':  '#0000FF',\n",
    "        'IN/C':'#ADD8E6',\n",
    "        'SS':  '#FA8072',\n",
    "        'W':   '#FF8C00',\n",
    "        'UNK.':'#000000'\n",
    "    }\n",
    "    \n",
    "    # ['NONE', 'C', 'C/W', 'W', 'MO', 'BE', 'UNKNOWN'] | LIMMAT\n",
    "    \n",
    "    \n",
    "    HUE_ORDER = get_HUEORDER(db5, c=\"tab10\")[0].copy()\n",
    "    colors_dict = HUE_ORDER[parameter]\n",
    "    HUE_ORDER[parameter][\"UNK.\"] = (0,0,0)\n",
    "    HUE_ORDER[parameter].pop(\"UNKNOWN\")\"\"\"\n",
    "    \n",
    "    \n",
    "    db5_  = db5.copy()\n",
    "    data1 = data[0].copy()\n",
    "    data2 = data[1].copy()\n",
    "        \n",
    "    data1[parameter] = data1[parameter].str.replace(\"UNKNOWN\",\"UNK.\", regex=False)\n",
    "    data2[parameter] = data2[parameter].str.replace(\"UNKNOWN\",\"UNK.\", regex=False)\n",
    "    \n",
    "    \n",
    "    x, y, z = \"RHOSTAR\", \"Q95\", \"TAUTH\"\n",
    "    \n",
    "    y_sp = (11, 20, 12)\n",
    "    if remSPH:\n",
    "        data1 = data1[~data1.TOK.isin(['START','MAST','NSTX'])]\n",
    "        data2 = data2[~data2.TOK.isin(['START','MAST','NSTX'])]\n",
    "        y_sp = (11, 25, 11)\n",
    "    \n",
    "    data1[\"colors\"] = data1[parameter].map(colors_dict) \n",
    "    data2[\"colors\"] = data2[parameter].map(colors_dict)\n",
    "    \n",
    "    fig = plt.figure(figsize=(13, 4.5))\n",
    "    ax1 = fig.add_subplot(121, projection='3d')\n",
    "    ax2 = fig.add_subplot(122, projection='3d')\n",
    "    \n",
    "    # Adjust subplot positions\n",
    "    fig.subplots_adjust(wspace=0.05)\n",
    "    \n",
    "    \n",
    "    scatter = ax1.scatter(data1[x], data1[y], data1[z], c=data1[\"colors\"].values)\n",
    "    ax1.set_xlabel(x, fontsize=11, labelpad=11)\n",
    "    ax1.set_ylabel(y, fontsize=y_sp[0], labelpad=y_sp[1])\n",
    "    ax1.set_zlabel(z, fontsize=11, rotation=90)  \n",
    "    ax1.tick_params(axis='x', labelsize=12)\n",
    "    ax1.tick_params(axis='y', labelsize=y_sp[2])\n",
    "    ax1.tick_params(axis='z', labelsize=12)\n",
    "    \n",
    "    \"\"\"ax1.set_xticks(ax1.get_xticks())\n",
    "    ax1.set_xticklabels(ax1.get_xticks(), rotation=-35)\n",
    "    \n",
    "    ax1.set_yticks(ax1.get_yticks())\n",
    "    ax1.set_yticklabels(ax1.get_yticks(), rotation=35)\"\"\"\n",
    "    ax1.view_init(elev=15, azim=rotation)\n",
    "\n",
    "\n",
    "    # GETTING THE SECOND PLOT\n",
    "    scatter = ax2.scatter(data2[x], data2[y], data2[z], c=data2[\"colors\"].values)\n",
    "    ax2.set_xlabel(x, fontsize=11, labelpad=11)\n",
    "    ax2.set_ylabel(y, fontsize=y_sp[0], labelpad=y_sp[1])\n",
    "    ax2.zaxis.set_label_text(z, fontsize=11, rotation=90)  \n",
    "    ax2.tick_params(axis='x', labelsize=12)\n",
    "    ax2.tick_params(axis='y', labelsize=y_sp[2])\n",
    "    ax2.tick_params(axis='z', labelsize=12)\n",
    "    \n",
    "    \"\"\"ax2.set_xticks(ax2.get_xticks())\n",
    "    ax2.set_xticklabels(ax2.get_xticks(), rotation=-35)\n",
    "    \n",
    "    ax2.set_yticks(ax2.get_yticks())\n",
    "    ax2.set_yticklabels(ax2.get_yticks(), rotation=35)\"\"\"\n",
    "    ax2.view_init(elev=15, azim=rotation)\n",
    "    \n",
    "    if stationary:\n",
    "        legend_elements = []\n",
    "        for category, color in colors_dict.items():\n",
    "            legend_elements.append(plt.Line2D([1], [1], marker='o', \n",
    "                                   color='w', label=category, markerfacecolor=color, markersize=7))\n",
    "        legend = ax1.legend(handles=legend_elements, frameon=False,\n",
    "                 loc='upper right', bbox_to_anchor=(1.3, 0.9), fontsize=9)\n",
    "        ax1.annotate(parameter, xy=(1.05, 0.9), xycoords='axes fraction',\n",
    "                 fontsize=10, fontweight='bold')\n",
    "    else:\n",
    "        for i in range(len(colors_dict)):\n",
    "            ax1.annotate(list(colors_dict.keys())[i], xy=(1.12, 0.84-0.05*i), xycoords='axes fraction',\n",
    "                 fontsize=12, fontweight='bold', color=list(colors_dict.values())[i])\n",
    "        ax1.annotate(parameter, xy=(1.1, 0.9), xycoords='axes fraction',\n",
    "                 fontsize=12)\n",
    "        \n",
    "    ax1.annotate(\"DB2\", xy=(0.17, 0.87), xycoords='axes fraction',\n",
    "                 fontsize=12)\n",
    "    ax2.annotate(\"STDB5 New\", xy=(0.6, 0.86), xycoords='axes fraction',\n",
    "                 fontsize=12)\n",
    "        \n",
    "    \"\"\"ax1.annotate(\"Decreasing\\n  $\\\\alpha_R \\\\sim 0.64$\", xy=(0.17, 0.87), xycoords='axes fraction',\n",
    "                 fontsize=12)\n",
    "    ax2.annotate(\"Unaffected\\n  $\\\\alpha_R \\\\sim 2.16$\", xy=(0.6, 0.86), xycoords='axes fraction',\n",
    "                 fontsize=12)\"\"\"\n",
    "    \n",
    "    ax1.set_xlabel(x, fontsize=11, labelpad=11)\n",
    "    ax1.set_ylabel(y, fontsize=11, labelpad=11)\n",
    "    ax1.set_zlabel(z, fontsize=11, labelpad=11)\n",
    "    \n",
    "    ax2.set_xlabel(x, fontsize=11, labelpad=11)\n",
    "    ax2.set_ylabel(y, fontsize=11, labelpad=11)\n",
    "    ax2.set_zlabel(z, fontsize=11, labelpad=11)\n",
    "    \n",
    "    ax2.set_xlim(0, max(data2[x]))\n",
    "    ax1.set_xlim(0, max(data2[x]))\n",
    "    \n",
    "    ax2.set_ylim(0, max(data2[y])+0.7)\n",
    "    ax1.set_ylim(0, max(data2[y])+0.7)\n",
    "    \n",
    "    ax2.set_zlim(0, max(data1[z]))\n",
    "    ax1.set_zlim(0, max(data1[z]))\n",
    "    \n",
    "    ax2.set_xticks(ax2.get_xticks())\n",
    "    ax2.set_xticklabels(ax2.get_xticks(), rotation=-15)\n",
    "    \n",
    "    ax1.set_xticks(ax1.get_xticks())\n",
    "    ax1.set_xticklabels(ax1.get_xticks(), rotation=-15)\n",
    "    \n",
    "    #ax1.set_title(\"Decreasing\\n$\\\\alpha_R \\\\sim 0.64$\")\n",
    "    #ax2.set_title(\"Unaffected\\n$\\\\alpha_R \\\\sim 2.16$\")\n",
    "    \n",
    "    if saveFig:\n",
    "        #plt.savefig(path + file_name, format=\"png\")\n",
    "        plt.savefig(path + file_name, format=\"pdf\", dpi=800)\n",
    "        plt.close()"
   ]
  },
  {
   "cell_type": "code",
   "execution_count": 216,
   "id": "ba50ee2a",
   "metadata": {
    "scrolled": false
   },
   "outputs": [
    {
     "data": {
      "image/png": "[encoded data removed]",
      "text/plain": [
       "<Figure size 1300x450 with 2 Axes>"
      ]
     },
     "metadata": {},
     "output_type": "display_data"
    }
   ],
   "source": [
    "get_twods3D_plot_DB5(DB5, [DB5[DB5.id.isin(DB2.id.values)], \n",
    "                           DB5[~DB5.id.isin(DB2.id.values)]],\n",
    "                     25, \"LIMMAT\", stationary=True, saveFig=False, file_name=\"test\")\n",
    "\n",
    "\"\"\"get_twods3D_plot_DB5(DB5, data,\n",
    "                     35, \"WALMAT\", stationary=True, saveFig=False, file_name=\"test\")\"\"\";"
   ]
  },
  {
   "cell_type": "code",
   "execution_count": null,
   "id": "715ec4b1",
   "metadata": {},
   "outputs": [],
   "source": [
    "for r in np.linspace(0,360, 360//2):\n",
    "    file_name = f\"GIF_images/image_{int(r)}.png\"\n",
    "    get_twods3D_plot_DB5(DB5, data, int(r), \"LIMMAT\", stationary=False, \n",
    "                         saveFig=True, file_name=file_name, remSPH=False\n",
    "                        )"
   ]
  },
  {
   "cell_type": "code",
   "execution_count": null,
   "id": "b91b939e",
   "metadata": {},
   "outputs": [],
   "source": [
    "x,y,z = \"NUSTAR\", \"RHOSTAR\", \"TAUTH\"\n",
    "\n",
    "image_folder = path+\"GIF_images/\"  # Path to the folder containing the images\n",
    "output_file = path+\"/GIFs/\"+f\"roLIM{x[0]}{y[0]}{z[0]}.gif\"  # Output file name\n",
    "\n",
    "# Get a list of PNG files in the folder\n",
    "image_files = [os.path.join(image_folder, file) for file in os.listdir(image_folder) if file.endswith('.png')]\n",
    "# Sort the image files by their numerical values in the filenames\n",
    "image_files.sort(key=lambda x: int(os.path.splitext(os.path.basename(x))[0].split('_')[-1]))\n",
    "\n",
    "# Save the images in the folder as an animated GIF\n",
    "imageio.mimsave(output_file, [imageio.imread(file) for file in image_files], fps=7)"
   ]
  },
  {
   "cell_type": "code",
   "execution_count": null,
   "id": "fc8721ec",
   "metadata": {},
   "outputs": [],
   "source": [
    "DB5[\"WALMAT\"].unique()"
   ]
  },
  {
   "cell_type": "code",
   "execution_count": null,
   "id": "eaccf9bd",
   "metadata": {},
   "outputs": [],
   "source": [
    "df_ = DB5[DB5[\"LIMMAT\"].isin(['UNKNOWN'])]#.DIVMAT.unique()"
   ]
  },
  {
   "cell_type": "code",
   "execution_count": null,
   "id": "f5ff3a4c",
   "metadata": {},
   "outputs": [],
   "source": [
    "df_.TOK.unique()"
   ]
  },
  {
   "cell_type": "code",
   "execution_count": null,
   "id": "3f2ba6da",
   "metadata": {},
   "outputs": [],
   "source": [
    "DB5[DB5.TOK.isin(['JETILW'])].LIMMAT.unique()"
   ]
  },
  {
   "cell_type": "code",
   "execution_count": null,
   "id": "bb5da803",
   "metadata": {},
   "outputs": [],
   "source": [
    "data1[data1[\"WALMAT\"].isin(['IN', 'IN/C'])].DATE.astype(str).apply(lambda x: x[:4]).unique()"
   ]
  },
  {
   "cell_type": "code",
   "execution_count": null,
   "id": "613fce99",
   "metadata": {},
   "outputs": [],
   "source": [
    "data2[data2[\"WALMAT\"].isin(['IN', 'IN/C'])].DATE.astype(str).apply(lambda x: x[:4]).unique()"
   ]
  },
  {
   "cell_type": "code",
   "execution_count": null,
   "id": "ab097578",
   "metadata": {},
   "outputs": [],
   "source": [
    "\"AUG', 'JT60U', 'MAST', 'NSTX', 'TFTR\".replace(\"'\",\"\")"
   ]
  },
  {
   "cell_type": "code",
   "execution_count": null,
   "id": "b28013a6",
   "metadata": {},
   "outputs": [],
   "source": [
    "DB5[DB5.TOK.isin(['JETILW'])][\"LIMMAT\"].unique()"
   ]
  },
  {
   "cell_type": "code",
   "execution_count": null,
   "id": "0693967b",
   "metadata": {},
   "outputs": [],
   "source": [
    "max(DB5[\"TAUTH\"])"
   ]
  },
  {
   "cell_type": "code",
   "execution_count": null,
   "id": "486ba6dd",
   "metadata": {},
   "outputs": [],
   "source": [
    "max(data1[data1.TOK.isin(['JETILW'])][\"TAUTH\"])"
   ]
  },
  {
   "cell_type": "code",
   "execution_count": null,
   "id": "29056325",
   "metadata": {},
   "outputs": [],
   "source": [
    "max(data2[data2.TOK.isin(['JETILW'])][\"TAUTH\"])"
   ]
  },
  {
   "cell_type": "code",
   "execution_count": null,
   "id": "4731285d",
   "metadata": {},
   "outputs": [],
   "source": [
    "max(data1[\"TAUTH\"])"
   ]
  },
  {
   "cell_type": "code",
   "execution_count": null,
   "id": "6c558e61",
   "metadata": {},
   "outputs": [],
   "source": [
    "data1[data1[\"TAUTH\"] > 0.9][\"id\"]"
   ]
  },
  {
   "cell_type": "code",
   "execution_count": null,
   "id": "37f64057",
   "metadata": {},
   "outputs": [],
   "source": [
    "DB5[DB5[\"TAUTH\"] > 1.3][\"id\"]"
   ]
  },
  {
   "cell_type": "code",
   "execution_count": null,
   "id": "11d6f1e0",
   "metadata": {},
   "outputs": [],
   "source": [
    "DB2[DB2.id.isin([\"D30MET\"])]"
   ]
  },
  {
   "cell_type": "code",
   "execution_count": 225,
   "id": "c743202a",
   "metadata": {},
   "outputs": [
    {
     "data": {
      "text/plain": [
       "const   -3.004272\n",
       "IP       0.781188\n",
       "BT       0.320077\n",
       "NEL      0.435161\n",
       "PLTH    -0.668186\n",
       "RGEO     2.222962\n",
       "KAREA    0.390074\n",
       "EPS      0.575613\n",
       "MEFF     0.179800\n",
       "dtype: float64"
      ]
     },
     "execution_count": 225,
     "metadata": {},
     "output_type": "execute_result"
    }
   ],
   "source": [
    "get_ECT_regression(DB2).params"
   ]
  },
  {
   "cell_type": "code",
   "execution_count": 221,
   "id": "b414af38",
   "metadata": {},
   "outputs": [
    {
     "data": {
      "text/plain": [
       "const   -2.518531\n",
       "IP       1.134330\n",
       "BT       0.072389\n",
       "NEL      0.174897\n",
       "PLTH    -0.682701\n",
       "RGEO     1.447909\n",
       "KAREA    0.280227\n",
       "EPS      0.063554\n",
       "MEFF     0.214018\n",
       "dtype: float64"
      ]
     },
     "execution_count": 221,
     "metadata": {},
     "output_type": "execute_result"
    }
   ],
   "source": [
    "get_ECT_regression(DB5).params"
   ]
  },
  {
   "cell_type": "code",
   "execution_count": 222,
   "id": "ec48cc9f",
   "metadata": {},
   "outputs": [
    {
     "data": {
      "text/plain": [
       "0.08057788876871994"
      ]
     },
     "execution_count": 222,
     "metadata": {},
     "output_type": "execute_result"
    }
   ],
   "source": [
    "np.exp(-2.518531)"
   ]
  },
  {
   "cell_type": "code",
   "execution_count": 223,
   "id": "d126f395",
   "metadata": {},
   "outputs": [
    {
     "data": {
      "text/plain": [
       "6252"
      ]
     },
     "execution_count": 223,
     "metadata": {},
     "output_type": "execute_result"
    }
   ],
   "source": [
    "len(DB5)"
   ]
  },
  {
   "cell_type": "code",
   "execution_count": 224,
   "id": "8f866a5f",
   "metadata": {},
   "outputs": [
    {
     "data": {
      "text/plain": [
       "const   -2.338070\n",
       "IP       1.227854\n",
       "BT      -0.037783\n",
       "NEL      0.146285\n",
       "PLTH    -0.669058\n",
       "RGEO     1.281766\n",
       "KAREA    0.112734\n",
       "EPS     -0.013563\n",
       "MEFF     0.233486\n",
       "dtype: float64"
      ]
     },
     "execution_count": 224,
     "metadata": {},
     "output_type": "execute_result"
    }
   ],
   "source": [
    "get_ECT_regression(DB5[~DB5.TOK.isin([\"MAST\",\"NSTX\",\"START\"])]).params"
   ]
  },
  {
   "cell_type": "code",
   "execution_count": 227,
   "id": "aa84a3e7",
   "metadata": {},
   "outputs": [
    {
     "data": {
      "text/plain": [
       "3.7747920665387076"
      ]
     },
     "execution_count": 227,
     "metadata": {},
     "output_type": "execute_result"
    }
   ],
   "source": [
    "(len(DB5[DB5.TOK.isin([\"MAST\",\"NSTX\",\"START\"])])/len(DB5))*100"
   ]
  },
  {
   "cell_type": "code",
   "execution_count": null,
   "id": "03cfc91f",
   "metadata": {},
   "outputs": [],
   "source": []
  }
 ],
 "metadata": {
  "kernelspec": {
   "display_name": "Python 3 (ipykernel)",
   "language": "python",
   "name": "python3"
  },
  "language_info": {
   "codemirror_mode": {
    "name": "ipython",
    "version": 3
   },
   "file_extension": ".py",
   "mimetype": "text/x-python",
   "name": "python",
   "nbconvert_exporter": "python",
   "pygments_lexer": "ipython3",
   "version": "3.10.11"
  }
 },
 "nbformat": 4,
 "nbformat_minor": 5
}
