{
 "cells": [
  {
   "cell_type": "code",
   "execution_count": 1,
   "id": "4efd0b1c",
   "metadata": {},
   "outputs": [],
   "source": [
    "%load_ext autoreload\n",
    "%autoreload 2"
   ]
  },
  {
   "cell_type": "code",
   "execution_count": 2,
   "id": "4f86e982",
   "metadata": {},
   "outputs": [],
   "source": [
    "import numpy as np \n",
    "import pandas as pd\n",
    "import matplotlib.pyplot as plt\n",
    "import scipy as sp\n",
    "import statsmodels.api as sm\n",
    "\n",
    "import matplotlib.patches as mpatches\n",
    "\n",
    "from scipy.optimize import curve_fit\n",
    "from sklearn.linear_model import LinearRegression\n",
    "from sklearn.preprocessing import StandardScaler\n",
    "from sklearn.neighbors import NearestNeighbors\n",
    "from sklearn.cluster import DBSCAN\n",
    "from collections import Counter\n",
    "\n",
    "from kneebow.rotor import Rotor\n",
    "\n",
    "coeffs = ['IP', 'BT', 'NEL', 'PLTH', 'RGEO', 'KAREA', 'EPS', 'MEFF']"
   ]
  },
  {
   "cell_type": "markdown",
   "id": "95c8aa3c",
   "metadata": {},
   "source": [
    "### DBSCAN Applied only to DB5 Observations"
   ]
  },
  {
   "cell_type": "code",
   "execution_count": 3,
   "id": "158fbc26",
   "metadata": {},
   "outputs": [],
   "source": [
    "R = pd.read_csv(\"../data/R.csv\") #reintroduce dataset | log data\n",
    "subset_ids = pd.read_csv(\"../data/R_ids_alpha_0.9153.csv\")\n",
    "\n",
    "data = R[R.id.isin(subset_ids.id.values)]"
   ]
  },
  {
   "cell_type": "code",
   "execution_count": 4,
   "id": "f17f4359",
   "metadata": {},
   "outputs": [
    {
     "data": {
      "text/plain": [
       "array(['AUG', 'AUGW', 'D3D', 'JET', 'JETILW', 'JT60U', 'MAST', 'NSTX'],\n",
       "      dtype=object)"
      ]
     },
     "execution_count": 4,
     "metadata": {},
     "output_type": "execute_result"
    }
   ],
   "source": [
    "# 'MAST', 'NSTX': are spherical tokamaks\n",
    "data.TOK.unique()"
   ]
  },
  {
   "cell_type": "code",
   "execution_count": 5,
   "id": "a8091f6f",
   "metadata": {},
   "outputs": [
    {
     "data": {
      "text/html": [
       "<div>\n",
       "<style scoped>\n",
       "    .dataframe tbody tr th:only-of-type {\n",
       "        vertical-align: middle;\n",
       "    }\n",
       "\n",
       "    .dataframe tbody tr th {\n",
       "        vertical-align: top;\n",
       "    }\n",
       "\n",
       "    .dataframe thead th {\n",
       "        text-align: right;\n",
       "    }\n",
       "</style>\n",
       "<table border=\"1\" class=\"dataframe\">\n",
       "  <thead>\n",
       "    <tr style=\"text-align: right;\">\n",
       "      <th></th>\n",
       "      <th>IP</th>\n",
       "      <th>BT</th>\n",
       "      <th>NEL</th>\n",
       "      <th>PLTH</th>\n",
       "      <th>RGEO</th>\n",
       "      <th>KAREA</th>\n",
       "      <th>EPS</th>\n",
       "      <th>MEFF</th>\n",
       "    </tr>\n",
       "  </thead>\n",
       "  <tbody>\n",
       "    <tr>\n",
       "      <th>0</th>\n",
       "      <td>-0.331526</td>\n",
       "      <td>0.838919</td>\n",
       "      <td>1.287848</td>\n",
       "      <td>-1.486056</td>\n",
       "      <td>-0.673402</td>\n",
       "      <td>0.519328</td>\n",
       "      <td>-0.639600</td>\n",
       "      <td>0.009252</td>\n",
       "    </tr>\n",
       "    <tr>\n",
       "      <th>1</th>\n",
       "      <td>-0.331526</td>\n",
       "      <td>0.838919</td>\n",
       "      <td>1.378730</td>\n",
       "      <td>-1.501955</td>\n",
       "      <td>-0.676666</td>\n",
       "      <td>0.410631</td>\n",
       "      <td>-0.616332</td>\n",
       "      <td>0.009252</td>\n",
       "    </tr>\n",
       "    <tr>\n",
       "      <th>2</th>\n",
       "      <td>-0.329639</td>\n",
       "      <td>0.836696</td>\n",
       "      <td>0.989826</td>\n",
       "      <td>-1.716891</td>\n",
       "      <td>-0.678299</td>\n",
       "      <td>0.519328</td>\n",
       "      <td>-0.632700</td>\n",
       "      <td>0.009252</td>\n",
       "    </tr>\n",
       "    <tr>\n",
       "      <th>3</th>\n",
       "      <td>-1.249247</td>\n",
       "      <td>-0.370778</td>\n",
       "      <td>1.050781</td>\n",
       "      <td>-0.933778</td>\n",
       "      <td>-0.702919</td>\n",
       "      <td>0.268309</td>\n",
       "      <td>-0.470774</td>\n",
       "      <td>0.009252</td>\n",
       "    </tr>\n",
       "    <tr>\n",
       "      <th>4</th>\n",
       "      <td>-1.252649</td>\n",
       "      <td>-0.369496</td>\n",
       "      <td>1.065977</td>\n",
       "      <td>-0.903222</td>\n",
       "      <td>-0.709522</td>\n",
       "      <td>0.102640</td>\n",
       "      <td>-0.419011</td>\n",
       "      <td>0.009252</td>\n",
       "    </tr>\n",
       "    <tr>\n",
       "      <th>...</th>\n",
       "      <td>...</td>\n",
       "      <td>...</td>\n",
       "      <td>...</td>\n",
       "      <td>...</td>\n",
       "      <td>...</td>\n",
       "      <td>...</td>\n",
       "      <td>...</td>\n",
       "      <td>...</td>\n",
       "    </tr>\n",
       "    <tr>\n",
       "      <th>1246</th>\n",
       "      <td>-0.765730</td>\n",
       "      <td>-3.369614</td>\n",
       "      <td>0.043594</td>\n",
       "      <td>-1.253172</td>\n",
       "      <td>-2.465181</td>\n",
       "      <td>3.879360</td>\n",
       "      <td>3.736411</td>\n",
       "      <td>0.009252</td>\n",
       "    </tr>\n",
       "    <tr>\n",
       "      <th>1247</th>\n",
       "      <td>-0.764129</td>\n",
       "      <td>-3.370114</td>\n",
       "      <td>0.291230</td>\n",
       "      <td>-0.860210</td>\n",
       "      <td>-2.399232</td>\n",
       "      <td>3.178814</td>\n",
       "      <td>3.718674</td>\n",
       "      <td>0.009252</td>\n",
       "    </tr>\n",
       "    <tr>\n",
       "      <th>1248</th>\n",
       "      <td>-1.006378</td>\n",
       "      <td>-3.369113</td>\n",
       "      <td>-0.174843</td>\n",
       "      <td>-0.906633</td>\n",
       "      <td>-2.483505</td>\n",
       "      <td>3.003939</td>\n",
       "      <td>3.960551</td>\n",
       "      <td>0.009252</td>\n",
       "    </tr>\n",
       "    <tr>\n",
       "      <th>1249</th>\n",
       "      <td>-1.266881</td>\n",
       "      <td>-3.369614</td>\n",
       "      <td>-0.289471</td>\n",
       "      <td>-2.133162</td>\n",
       "      <td>-2.486677</td>\n",
       "      <td>2.216867</td>\n",
       "      <td>3.717324</td>\n",
       "      <td>0.009252</td>\n",
       "    </tr>\n",
       "    <tr>\n",
       "      <th>1250</th>\n",
       "      <td>-0.692389</td>\n",
       "      <td>-3.371487</td>\n",
       "      <td>0.639902</td>\n",
       "      <td>-0.563742</td>\n",
       "      <td>-2.469391</td>\n",
       "      <td>3.065574</td>\n",
       "      <td>3.873155</td>\n",
       "      <td>0.009252</td>\n",
       "    </tr>\n",
       "  </tbody>\n",
       "</table>\n",
       "<p>1251 rows × 8 columns</p>\n",
       "</div>"
      ],
      "text/plain": [
       "            IP        BT       NEL      PLTH      RGEO     KAREA       EPS  \\\n",
       "0    -0.331526  0.838919  1.287848 -1.486056 -0.673402  0.519328 -0.639600   \n",
       "1    -0.331526  0.838919  1.378730 -1.501955 -0.676666  0.410631 -0.616332   \n",
       "2    -0.329639  0.836696  0.989826 -1.716891 -0.678299  0.519328 -0.632700   \n",
       "3    -1.249247 -0.370778  1.050781 -0.933778 -0.702919  0.268309 -0.470774   \n",
       "4    -1.252649 -0.369496  1.065977 -0.903222 -0.709522  0.102640 -0.419011   \n",
       "...        ...       ...       ...       ...       ...       ...       ...   \n",
       "1246 -0.765730 -3.369614  0.043594 -1.253172 -2.465181  3.879360  3.736411   \n",
       "1247 -0.764129 -3.370114  0.291230 -0.860210 -2.399232  3.178814  3.718674   \n",
       "1248 -1.006378 -3.369113 -0.174843 -0.906633 -2.483505  3.003939  3.960551   \n",
       "1249 -1.266881 -3.369614 -0.289471 -2.133162 -2.486677  2.216867  3.717324   \n",
       "1250 -0.692389 -3.371487  0.639902 -0.563742 -2.469391  3.065574  3.873155   \n",
       "\n",
       "          MEFF  \n",
       "0     0.009252  \n",
       "1     0.009252  \n",
       "2     0.009252  \n",
       "3     0.009252  \n",
       "4     0.009252  \n",
       "...        ...  \n",
       "1246  0.009252  \n",
       "1247  0.009252  \n",
       "1248  0.009252  \n",
       "1249  0.009252  \n",
       "1250  0.009252  \n",
       "\n",
       "[1251 rows x 8 columns]"
      ]
     },
     "execution_count": 5,
     "metadata": {},
     "output_type": "execute_result"
    }
   ],
   "source": [
    "# Scaled data\n",
    "\n",
    "X = StandardScaler().fit_transform(data[coeffs])\n",
    "pd.DataFrame(X, columns=coeffs)"
   ]
  },
  {
   "cell_type": "markdown",
   "id": "2f4cb6c9",
   "metadata": {},
   "source": [
    "## The choosing of the parameters for DBSCAN\n",
    "\n",
    "* It is recommended that $minPts = 2\\cdot d$; where $d$ is the dimension of the data (Sander et al., 1998).\n",
    "* Now one can use this to determine $\\epsilon$.\n",
    "    1. Calculate the average distance between each point and its k-nearest neighbor: with $k = minPts$. \n",
    "    2. Plot the average distance in ascending order, on a k-distance graph. \n",
    "    3. Optimal value of $\\epsilon$ is the point of maximum curvature.\n",
    "        - This point represents the optimization point where diminishing results are no longer worth the additional cost. This reasoning is valid since the increasment of the number of clusters will lead to a tendency of overfitting.  "
   ]
  },
  {
   "cell_type": "code",
   "execution_count": 33,
   "id": "3bdbd1a9",
   "metadata": {
    "scrolled": false
   },
   "outputs": [
    {
     "data": {
      "image/png": "[encoded data removed]",
      "text/plain": [
       "<Figure size 640x480 with 1 Axes>"
      ]
     },
     "metadata": {},
     "output_type": "display_data"
    }
   ],
   "source": [
    "### Computing the optimal epsilon\n",
    "\n",
    "#%matplotlib notebook\n",
    "\n",
    "NNeighbours = 2*X.shape[-1]\n",
    "\n",
    "# getting the average distance\n",
    "neighbors = NearestNeighbors(n_neighbors = NNeighbours)\n",
    "neighbors_fit = neighbors.fit(X)\n",
    "distances, indices = neighbors_fit.kneighbors(X)\n",
    "distances = np.sort(distances, axis=0)\n",
    "distances = distances[:,1]\n",
    "\n",
    "x = list(range(len(distances)))\n",
    "\n",
    "plt.scatter(x, distances, s=1)\n",
    "\n",
    "data_elbow = (pd.DataFrame([x, distances]).T).values.tolist()\n",
    "rotor = Rotor()\n",
    "rotor.fit_rotate( data_elbow )\n",
    "elbow_index = rotor.get_elbow_index()\n",
    "plt.axvline(elbow_index, c=\"k\")\n",
    "#plt.axvline(1204, c=\"r\")\n",
    "\n",
    "#plt.axis([900, max(x), min(distances), max(distances)])\n",
    "\n",
    "plt.ylabel(\"Distance\")\n",
    "plt.xlabel(\"Object\")\n",
    "plt.grid();"
   ]
  },
  {
   "cell_type": "code",
   "execution_count": 7,
   "id": "5eca80f9",
   "metadata": {},
   "outputs": [
    {
     "data": {
      "text/plain": [
       "0.4473339590905177"
      ]
     },
     "execution_count": 7,
     "metadata": {},
     "output_type": "execute_result"
    }
   ],
   "source": [
    "distances[elbow_index]"
   ]
  },
  {
   "cell_type": "code",
   "execution_count": 8,
   "id": "fe6376fc",
   "metadata": {},
   "outputs": [
    {
     "data": {
      "text/plain": [
       "Counter({-1: 570,\n",
       "         4: 22,\n",
       "         0: 71,\n",
       "         1: 148,\n",
       "         2: 22,\n",
       "         3: 16,\n",
       "         5: 66,\n",
       "         6: 198,\n",
       "         7: 117,\n",
       "         8: 21})"
      ]
     },
     "execution_count": 8,
     "metadata": {},
     "output_type": "execute_result"
    }
   ],
   "source": [
    "# Label -1 means noise\n",
    "DB = DBSCAN(eps = distances[elbow_index], min_samples=NNeighbours ).fit(X)\n",
    "labels = DB.labels_\n",
    "data.insert(loc=0, column=\"labels\", value=labels)\n",
    "Counter(labels)"
   ]
  },
  {
   "cell_type": "code",
   "execution_count": 31,
   "id": "05e69919",
   "metadata": {},
   "outputs": [
    {
     "data": {
      "image/png": "[encoded data removed]",
      "text/plain": [
       "<Figure size 640x480 with 1 Axes>"
      ]
     },
     "metadata": {},
     "output_type": "display_data"
    }
   ],
   "source": [
    "data_cl = data[~data.labels.isin([-1])]\n",
    "data_cl_max = data_cl[data_cl.labels.isin([6])]\n",
    "\n",
    "plt.scatter(data_cl_max[\"TAUTH\"].apply(np.exp), data_cl_max[\"IP\"].apply(np.exp), s=7);"
   ]
  },
  {
   "cell_type": "markdown",
   "id": "62f42505",
   "metadata": {},
   "source": [
    "### Possible numbers of clusters in dataset"
   ]
  },
  {
   "cell_type": "code",
   "execution_count": 15,
   "id": "a37eec15",
   "metadata": {},
   "outputs": [
    {
     "data": {
      "text/plain": [
       "25.0099980007996"
      ]
     },
     "execution_count": 15,
     "metadata": {},
     "output_type": "execute_result"
    }
   ],
   "source": [
    "np.sqrt(len(data)/2)"
   ]
  },
  {
   "cell_type": "code",
   "execution_count": 24,
   "id": "1b2ee306",
   "metadata": {},
   "outputs": [
    {
     "data": {
      "text/plain": [
       "Index(['labels', 'ind', 'id', 'PHASE', 'TOK', 'IP', 'BT', 'NEL', 'PLTH',\n",
       "       'RGEO', 'KAREA', 'EPS', 'MEFF', 'TAUTH', 'DATE', 'SHOT', 'TIME', 'Q95',\n",
       "       'ZEFF', 'AMIN', 'VOL', 'POHM', 'PNBI', 'DWDIA', 'DWMHD', 'PICRH',\n",
       "       'PECRH', 'PL', 'PFLOSS', 'TAV', 'LCOULOMB', 'QCYL5', 'TAUBOHM',\n",
       "       'RHOSTAR', 'BETASTAR', 'NUSTAR', 'OMEGACYCL'],\n",
       "      dtype='object')"
      ]
     },
     "execution_count": 24,
     "metadata": {},
     "output_type": "execute_result"
    }
   ],
   "source": [
    "data_cl_max.columns"
   ]
  },
  {
   "cell_type": "code",
   "execution_count": null,
   "id": "88728916",
   "metadata": {},
   "outputs": [],
   "source": []
  }
 ],
 "metadata": {
  "kernelspec": {
   "display_name": "Python 3 (ipykernel)",
   "language": "python",
   "name": "python3"
  },
  "language_info": {
   "codemirror_mode": {
    "name": "ipython",
    "version": 3
   },
   "file_extension": ".py",
   "mimetype": "text/x-python",
   "name": "python",
   "nbconvert_exporter": "python",
   "pygments_lexer": "ipython3",
   "version": "3.10.7"
  }
 },
 "nbformat": 4,
 "nbformat_minor": 5
}
