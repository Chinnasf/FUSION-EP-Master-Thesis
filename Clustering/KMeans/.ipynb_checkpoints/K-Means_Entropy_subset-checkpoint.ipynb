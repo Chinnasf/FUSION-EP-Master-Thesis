{
 "cells": [
  {
   "cell_type": "code",
   "execution_count": 4,
   "id": "dd799a1a",
   "metadata": {},
   "outputs": [
    {
     "name": "stdout",
     "output_type": "stream",
     "text": [
      "The autoreload extension is already loaded. To reload it, use:\n",
      "  %reload_ext autoreload\n"
     ]
    }
   ],
   "source": [
    "%load_ext autoreload\n",
    "%autoreload 2"
   ]
  },
  {
   "cell_type": "code",
   "execution_count": 5,
   "id": "33e3fa13",
   "metadata": {},
   "outputs": [],
   "source": [
    "import numpy as np \n",
    "import pandas as pd\n",
    "import matplotlib.pyplot as plt\n",
    "import scipy as sp\n",
    "import statsmodels.api as sm\n",
    "import matplotlib.patches as mpatches\n",
    "\n",
    "from sklearn.preprocessing import StandardScaler\n",
    "from sklearn.cluster import KMeans\n",
    "from yellowbrick.cluster import KElbowVisualizer\n",
    "from yellowbrick.cluster import SilhouetteVisualizer\n",
    "\n",
    "path = \"../../data/\""
   ]
  },
  {
   "cell_type": "code",
   "execution_count": 6,
   "id": "7bca582d",
   "metadata": {},
   "outputs": [],
   "source": [
    "R = pd.read_csv(path+\"DB5.csv\")\n",
    "subset_ids = pd.read_csv(path+\"R_ids_alpha_0.9998.csv\")\n",
    "#subset_ids = pd.read_csv(path+\"R_ids_alpha_0.6379.csv\")\n",
    "data = R[R.id.isin(subset_ids.id.values)]"
   ]
  },
  {
   "cell_type": "code",
   "execution_count": 7,
   "id": "c531f539",
   "metadata": {},
   "outputs": [],
   "source": [
    "\"\"\"\n",
    "features = ['BETASTAR', 'RHOSTAR', 'EPS', 'TAUBOHM', 'KAREA', 'NEL', \n",
    "            'TAUTH', 'RGEO', 'OMEGACYCL', 'Q95', 'TAV', 'MEFF', 'AMIN', \n",
    "            'QCYL5', 'IP', 'PLTH', 'PICRH', 'PL', 'VOL', 'NUSTAR']\n",
    "\"\"\"\n",
    "\n",
    "features = ['BETASTAR', 'RHOSTAR', 'EPS', 'TAUBOHM', 'KAREA', 'NEL', 'TAUTH', 'RGEO']"
   ]
  },
  {
   "cell_type": "code",
   "execution_count": 8,
   "id": "f4be1ca4",
   "metadata": {},
   "outputs": [
    {
     "data": {
      "text/html": [
       "<div>\n",
       "<style scoped>\n",
       "    .dataframe tbody tr th:only-of-type {\n",
       "        vertical-align: middle;\n",
       "    }\n",
       "\n",
       "    .dataframe tbody tr th {\n",
       "        vertical-align: top;\n",
       "    }\n",
       "\n",
       "    .dataframe thead th {\n",
       "        text-align: right;\n",
       "    }\n",
       "</style>\n",
       "<table border=\"1\" class=\"dataframe\">\n",
       "  <thead>\n",
       "    <tr style=\"text-align: right;\">\n",
       "      <th></th>\n",
       "      <th>BETASTAR</th>\n",
       "      <th>RHOSTAR</th>\n",
       "      <th>EPS</th>\n",
       "      <th>TAUBOHM</th>\n",
       "      <th>KAREA</th>\n",
       "      <th>NEL</th>\n",
       "      <th>TAUTH</th>\n",
       "      <th>RGEO</th>\n",
       "    </tr>\n",
       "  </thead>\n",
       "  <tbody>\n",
       "    <tr>\n",
       "      <th>0</th>\n",
       "      <td>-0.261636</td>\n",
       "      <td>-0.263004</td>\n",
       "      <td>-0.462549</td>\n",
       "      <td>-0.739356</td>\n",
       "      <td>0.328093</td>\n",
       "      <td>0.391788</td>\n",
       "      <td>-0.951174</td>\n",
       "      <td>-0.619589</td>\n",
       "    </tr>\n",
       "    <tr>\n",
       "      <th>1</th>\n",
       "      <td>-0.334174</td>\n",
       "      <td>-0.221984</td>\n",
       "      <td>-0.409604</td>\n",
       "      <td>-0.334182</td>\n",
       "      <td>-0.027194</td>\n",
       "      <td>0.433572</td>\n",
       "      <td>-0.478692</td>\n",
       "      <td>-0.635556</td>\n",
       "    </tr>\n",
       "    <tr>\n",
       "      <th>2</th>\n",
       "      <td>-0.439314</td>\n",
       "      <td>-0.488243</td>\n",
       "      <td>-0.521432</td>\n",
       "      <td>0.277694</td>\n",
       "      <td>0.390790</td>\n",
       "      <td>0.717508</td>\n",
       "      <td>-0.050031</td>\n",
       "      <td>-0.615234</td>\n",
       "    </tr>\n",
       "    <tr>\n",
       "      <th>3</th>\n",
       "      <td>-0.256511</td>\n",
       "      <td>-0.182505</td>\n",
       "      <td>-0.373063</td>\n",
       "      <td>-0.877519</td>\n",
       "      <td>-0.006295</td>\n",
       "      <td>0.794167</td>\n",
       "      <td>-0.923534</td>\n",
       "      <td>-0.642814</td>\n",
       "    </tr>\n",
       "    <tr>\n",
       "      <th>4</th>\n",
       "      <td>-0.172748</td>\n",
       "      <td>0.020284</td>\n",
       "      <td>-0.430586</td>\n",
       "      <td>-0.796792</td>\n",
       "      <td>0.098201</td>\n",
       "      <td>0.624069</td>\n",
       "      <td>-0.861723</td>\n",
       "      <td>-0.631201</td>\n",
       "    </tr>\n",
       "    <tr>\n",
       "      <th>...</th>\n",
       "      <td>...</td>\n",
       "      <td>...</td>\n",
       "      <td>...</td>\n",
       "      <td>...</td>\n",
       "      <td>...</td>\n",
       "      <td>...</td>\n",
       "      <td>...</td>\n",
       "      <td>...</td>\n",
       "    </tr>\n",
       "    <tr>\n",
       "      <th>613</th>\n",
       "      <td>3.847050</td>\n",
       "      <td>3.385285</td>\n",
       "      <td>4.169960</td>\n",
       "      <td>-1.135101</td>\n",
       "      <td>3.778056</td>\n",
       "      <td>-0.399481</td>\n",
       "      <td>-0.995598</td>\n",
       "      <td>-1.753689</td>\n",
       "    </tr>\n",
       "    <tr>\n",
       "      <th>614</th>\n",
       "      <td>4.873270</td>\n",
       "      <td>3.252246</td>\n",
       "      <td>4.104682</td>\n",
       "      <td>-1.138308</td>\n",
       "      <td>3.524318</td>\n",
       "      <td>0.120026</td>\n",
       "      <td>-1.016201</td>\n",
       "      <td>-1.750785</td>\n",
       "    </tr>\n",
       "    <tr>\n",
       "      <th>615</th>\n",
       "      <td>3.955731</td>\n",
       "      <td>3.445957</td>\n",
       "      <td>4.217272</td>\n",
       "      <td>-1.150917</td>\n",
       "      <td>5.306548</td>\n",
       "      <td>-0.256362</td>\n",
       "      <td>-1.097813</td>\n",
       "      <td>-1.812622</td>\n",
       "    </tr>\n",
       "    <tr>\n",
       "      <th>616</th>\n",
       "      <td>5.227779</td>\n",
       "      <td>3.018222</td>\n",
       "      <td>4.093586</td>\n",
       "      <td>-1.149520</td>\n",
       "      <td>5.141408</td>\n",
       "      <td>0.596296</td>\n",
       "      <td>-1.088359</td>\n",
       "      <td>-1.771792</td>\n",
       "    </tr>\n",
       "    <tr>\n",
       "      <th>617</th>\n",
       "      <td>2.479072</td>\n",
       "      <td>9.516607</td>\n",
       "      <td>4.915506</td>\n",
       "      <td>-1.204406</td>\n",
       "      <td>-0.716869</td>\n",
       "      <td>-0.428105</td>\n",
       "      <td>-1.433696</td>\n",
       "      <td>-2.626363</td>\n",
       "    </tr>\n",
       "  </tbody>\n",
       "</table>\n",
       "<p>618 rows × 8 columns</p>\n",
       "</div>"
      ],
      "text/plain": [
       "     BETASTAR   RHOSTAR       EPS   TAUBOHM     KAREA       NEL     TAUTH  \\\n",
       "0   -0.261636 -0.263004 -0.462549 -0.739356  0.328093  0.391788 -0.951174   \n",
       "1   -0.334174 -0.221984 -0.409604 -0.334182 -0.027194  0.433572 -0.478692   \n",
       "2   -0.439314 -0.488243 -0.521432  0.277694  0.390790  0.717508 -0.050031   \n",
       "3   -0.256511 -0.182505 -0.373063 -0.877519 -0.006295  0.794167 -0.923534   \n",
       "4   -0.172748  0.020284 -0.430586 -0.796792  0.098201  0.624069 -0.861723   \n",
       "..        ...       ...       ...       ...       ...       ...       ...   \n",
       "613  3.847050  3.385285  4.169960 -1.135101  3.778056 -0.399481 -0.995598   \n",
       "614  4.873270  3.252246  4.104682 -1.138308  3.524318  0.120026 -1.016201   \n",
       "615  3.955731  3.445957  4.217272 -1.150917  5.306548 -0.256362 -1.097813   \n",
       "616  5.227779  3.018222  4.093586 -1.149520  5.141408  0.596296 -1.088359   \n",
       "617  2.479072  9.516607  4.915506 -1.204406 -0.716869 -0.428105 -1.433696   \n",
       "\n",
       "         RGEO  \n",
       "0   -0.619589  \n",
       "1   -0.635556  \n",
       "2   -0.615234  \n",
       "3   -0.642814  \n",
       "4   -0.631201  \n",
       "..        ...  \n",
       "613 -1.753689  \n",
       "614 -1.750785  \n",
       "615 -1.812622  \n",
       "616 -1.771792  \n",
       "617 -2.626363  \n",
       "\n",
       "[618 rows x 8 columns]"
      ]
     },
     "execution_count": 8,
     "metadata": {},
     "output_type": "execute_result"
    }
   ],
   "source": [
    "# Data\n",
    "X = StandardScaler().fit_transform(data[features])\n",
    "pd.DataFrame(X, columns=features)"
   ]
  },
  {
   "cell_type": "markdown",
   "id": "8e9faa49",
   "metadata": {},
   "source": [
    "Notes based on [[Anmol Tomar, 2022]](https://towardsdatascience.com/elbow-method-is-not-sufficient-to-find-best-k-in-k-means-clustering-fc820da0631d#:~:text=The%20elbow%20method%20is%20a,cluster%20and%20the%20cluster%20centroid.)"
   ]
  },
  {
   "cell_type": "code",
   "execution_count": 9,
   "id": "b92f9c5e",
   "metadata": {},
   "outputs": [],
   "source": [
    "# Instantiate the clustering model and visualizer\n",
    "km = KMeans(random_state=42)\n",
    "visualizer = KElbowVisualizer(km, k=(2,10))"
   ]
  },
  {
   "cell_type": "code",
   "execution_count": 10,
   "id": "348f315b",
   "metadata": {},
   "outputs": [
    {
     "data": {
      "image/png": "[encoded data removed]",
      "text/plain": [
       "<Figure size 800x550 with 2 Axes>"
      ]
     },
     "metadata": {},
     "output_type": "display_data"
    }
   ],
   "source": [
    "visualizer.fit(X)        # Fit the data to the visualizer\n",
    "visualizer.show();       # Finalize and render the figure"
   ]
  },
  {
   "cell_type": "code",
   "execution_count": 11,
   "id": "b63d460f",
   "metadata": {},
   "outputs": [
    {
     "data": {
      "image/png": "[encoded data removed]",
      "text/plain": [
       "<Figure size 1500x800 with 8 Axes>"
      ]
     },
     "metadata": {},
     "output_type": "display_data"
    }
   ],
   "source": [
    "# It is not clear what should be the Elbow point. \n",
    "# Let’s validate the value of K using the Silhouette plot \n",
    "\n",
    "fig, ax = plt.subplots(4, 2, figsize=(15,8))\n",
    "for i in [2, 3, 4, 5, 6, 7, 8, 9]:\n",
    "    '''\n",
    "    Create KMeans instances for different number of clusters\n",
    "    '''\n",
    "    km = KMeans(n_clusters=i, init='k-means++', n_init=10, max_iter=100, random_state=42)\n",
    "    q, mod = divmod(i, 2)\n",
    "    '''\n",
    "    Create SilhouetteVisualizer instance with KMeans instance\n",
    "    Fit the visualizer\n",
    "    '''\n",
    "    visualizer = SilhouetteVisualizer(km, colors='yellowbrick', ax=ax[q-1][mod])\n",
    "    visualizer.fit(X)"
   ]
  },
  {
   "cell_type": "markdown",
   "id": "f06a14ec",
   "metadata": {},
   "source": [
    "According to [[Anmol Tomar, 2022]](https://towardsdatascience.com/elbow-method-is-not-sufficient-to-find-best-k-in-k-means-clustering-fc820da0631d#:~:text=The%20elbow%20method%20is%20a,cluster%20and%20the%20cluster%20centroid.):\n",
    "\n",
    "* \"For a particular K, all the clusters should have a Silhouette score more than the average score of the dataset (represented by a red dotted line). The x-axis represents the Silhouette score.\"\n",
    "\n",
    "* \"There should not be wide fluctuations in the size of the clusters. The width of the clusters represents the number of data points.\"\n",
    "\n",
    "\n",
    "Thus, this might suggest that K=5 is the optimal K. "
   ]
  },
  {
   "cell_type": "code",
   "execution_count": 12,
   "id": "7a69c4d4",
   "metadata": {},
   "outputs": [],
   "source": [
    "## K-means using k = 5\n",
    "n_clusters = 5\n",
    "kmeans = KMeans(n_clusters=n_clusters)\n",
    "kmeans.fit(X)\n",
    "y_kmeans = kmeans.predict(X)\n",
    "data.insert(loc=0, column=\"labels\", value=y_kmeans)"
   ]
  },
  {
   "cell_type": "code",
   "execution_count": 14,
   "id": "77a58f1d",
   "metadata": {},
   "outputs": [],
   "source": [
    "labels_unique = list( range(n_clusters) )\n",
    "TOKs_per_lbl = [0]*len(labels_unique)\n",
    "for i,lbl in enumerate(labels_unique):\n",
    "    df = data[data.labels.isin([lbl])]\n",
    "    TOKs_per_lbl[i] = df.TOK.unique()"
   ]
  },
  {
   "cell_type": "code",
   "execution_count": 15,
   "id": "7ca53c91",
   "metadata": {},
   "outputs": [
    {
     "data": {
      "text/html": [
       "<div>\n",
       "<style scoped>\n",
       "    .dataframe tbody tr th:only-of-type {\n",
       "        vertical-align: middle;\n",
       "    }\n",
       "\n",
       "    .dataframe tbody tr th {\n",
       "        vertical-align: top;\n",
       "    }\n",
       "\n",
       "    .dataframe thead th {\n",
       "        text-align: right;\n",
       "    }\n",
       "</style>\n",
       "<table border=\"1\" class=\"dataframe\">\n",
       "  <thead>\n",
       "    <tr style=\"text-align: right;\">\n",
       "      <th></th>\n",
       "      <th>0</th>\n",
       "      <th>1</th>\n",
       "      <th>2</th>\n",
       "    </tr>\n",
       "  </thead>\n",
       "  <tbody>\n",
       "    <tr>\n",
       "      <th>cluster_0</th>\n",
       "      <td>JET</td>\n",
       "      <td>JETILW</td>\n",
       "      <td>None</td>\n",
       "    </tr>\n",
       "    <tr>\n",
       "      <th>cluster_1</th>\n",
       "      <td>AUG</td>\n",
       "      <td>AUGW</td>\n",
       "      <td>D3D</td>\n",
       "    </tr>\n",
       "    <tr>\n",
       "      <th>cluster_2</th>\n",
       "      <td>MAST</td>\n",
       "      <td>NSTX</td>\n",
       "      <td>START</td>\n",
       "    </tr>\n",
       "    <tr>\n",
       "      <th>cluster_3</th>\n",
       "      <td>JET</td>\n",
       "      <td>JETILW</td>\n",
       "      <td>JT60U</td>\n",
       "    </tr>\n",
       "    <tr>\n",
       "      <th>cluster_4</th>\n",
       "      <td>CMOD</td>\n",
       "      <td>None</td>\n",
       "      <td>None</td>\n",
       "    </tr>\n",
       "  </tbody>\n",
       "</table>\n",
       "</div>"
      ],
      "text/plain": [
       "              0       1      2\n",
       "cluster_0   JET  JETILW   None\n",
       "cluster_1   AUG    AUGW    D3D\n",
       "cluster_2  MAST    NSTX  START\n",
       "cluster_3   JET  JETILW  JT60U\n",
       "cluster_4  CMOD    None   None"
      ]
     },
     "execution_count": 15,
     "metadata": {},
     "output_type": "execute_result"
    }
   ],
   "source": [
    "# *** Unique Tokamaks found per label \n",
    "# *** This will allow to discern wether the clustering happened in obvious parameters\n",
    "# Index of the df is the label / columns names can be ignored\n",
    "pd.DataFrame(TOKs_per_lbl, index=[f\"cluster_{i}\" for i in labels_unique])"
   ]
  },
  {
   "cell_type": "code",
   "execution_count": 16,
   "id": "db85e85d",
   "metadata": {},
   "outputs": [
    {
     "name": "stdout",
     "output_type": "stream",
     "text": [
      "\n",
      "Mean values of each feature per cluster\n"
     ]
    },
    {
     "data": {
      "text/html": [
       "<div>\n",
       "<style scoped>\n",
       "    .dataframe tbody tr th:only-of-type {\n",
       "        vertical-align: middle;\n",
       "    }\n",
       "\n",
       "    .dataframe tbody tr th {\n",
       "        vertical-align: top;\n",
       "    }\n",
       "\n",
       "    .dataframe thead th {\n",
       "        text-align: right;\n",
       "    }\n",
       "</style>\n",
       "<table border=\"1\" class=\"dataframe\">\n",
       "  <thead>\n",
       "    <tr style=\"text-align: right;\">\n",
       "      <th>labels</th>\n",
       "      <th>cluster_0</th>\n",
       "      <th>cluster_1</th>\n",
       "      <th>cluster_2</th>\n",
       "      <th>cluster_3</th>\n",
       "      <th>cluster_4</th>\n",
       "    </tr>\n",
       "  </thead>\n",
       "  <tbody>\n",
       "    <tr>\n",
       "      <th>BETASTAR</th>\n",
       "      <td>1.438883</td>\n",
       "      <td>1.240998</td>\n",
       "      <td>12.362478</td>\n",
       "      <td>1.106861</td>\n",
       "      <td>1.120826</td>\n",
       "    </tr>\n",
       "    <tr>\n",
       "      <th>RHOSTAR</th>\n",
       "      <td>0.003705</td>\n",
       "      <td>0.006395</td>\n",
       "      <td>0.019437</td>\n",
       "      <td>0.004155</td>\n",
       "      <td>0.006301</td>\n",
       "    </tr>\n",
       "    <tr>\n",
       "      <th>EPS</th>\n",
       "      <td>0.316387</td>\n",
       "      <td>0.319736</td>\n",
       "      <td>0.705122</td>\n",
       "      <td>0.314960</td>\n",
       "      <td>0.326814</td>\n",
       "    </tr>\n",
       "    <tr>\n",
       "      <th>TAUBOHM</th>\n",
       "      <td>0.449213</td>\n",
       "      <td>0.109584</td>\n",
       "      <td>0.008914</td>\n",
       "      <td>0.194552</td>\n",
       "      <td>0.200181</td>\n",
       "    </tr>\n",
       "    <tr>\n",
       "      <th>KAREA</th>\n",
       "      <td>1.564082</td>\n",
       "      <td>1.580241</td>\n",
       "      <td>1.877541</td>\n",
       "      <td>1.528813</td>\n",
       "      <td>1.425000</td>\n",
       "    </tr>\n",
       "    <tr>\n",
       "      <th>NEL</th>\n",
       "      <td>7.267206</td>\n",
       "      <td>6.678900</td>\n",
       "      <td>5.697498</td>\n",
       "      <td>4.469202</td>\n",
       "      <td>33.802500</td>\n",
       "    </tr>\n",
       "    <tr>\n",
       "      <th>TAUTH</th>\n",
       "      <td>0.337736</td>\n",
       "      <td>0.096160</td>\n",
       "      <td>0.039800</td>\n",
       "      <td>0.181229</td>\n",
       "      <td>0.075133</td>\n",
       "    </tr>\n",
       "    <tr>\n",
       "      <th>RGEO</th>\n",
       "      <td>2.920753</td>\n",
       "      <td>1.638445</td>\n",
       "      <td>0.833349</td>\n",
       "      <td>2.916765</td>\n",
       "      <td>0.676225</td>\n",
       "    </tr>\n",
       "  </tbody>\n",
       "</table>\n",
       "</div>"
      ],
      "text/plain": [
       "labels    cluster_0  cluster_1  cluster_2  cluster_3  cluster_4\n",
       "BETASTAR   1.438883   1.240998  12.362478   1.106861   1.120826\n",
       "RHOSTAR    0.003705   0.006395   0.019437   0.004155   0.006301\n",
       "EPS        0.316387   0.319736   0.705122   0.314960   0.326814\n",
       "TAUBOHM    0.449213   0.109584   0.008914   0.194552   0.200181\n",
       "KAREA      1.564082   1.580241   1.877541   1.528813   1.425000\n",
       "NEL        7.267206   6.678900   5.697498   4.469202  33.802500\n",
       "TAUTH      0.337736   0.096160   0.039800   0.181229   0.075133\n",
       "RGEO       2.920753   1.638445   0.833349   2.916765   0.676225"
      ]
     },
     "execution_count": 16,
     "metadata": {},
     "output_type": "execute_result"
    }
   ],
   "source": [
    "data_cl = data[[\"labels\"]+features]\n",
    "data_cl_mean = data_cl.groupby(\"labels\").mean().T\n",
    "data_cl_mean.columns = \"cluster_\"+data_cl_mean.columns.astype(str)\n",
    "print(\"\\nMean values of each feature per cluster\")\n",
    "data_cl_mean"
   ]
  },
  {
   "cell_type": "code",
   "execution_count": 17,
   "id": "39cc9cab",
   "metadata": {},
   "outputs": [
    {
     "data": {
      "text/plain": [
       "BETASTAR    1.788227\n",
       "RHOSTAR     0.006117\n",
       "EPS         0.337433\n",
       "TAUBOHM     0.170809\n",
       "KAREA       1.578602\n",
       "NEL         6.301191\n",
       "TAUTH       0.146378\n",
       "RGEO        2.090845\n",
       "dtype: float64"
      ]
     },
     "execution_count": 17,
     "metadata": {},
     "output_type": "execute_result"
    }
   ],
   "source": [
    "global_mean = data[features].mean()\n",
    "global_mean"
   ]
  },
  {
   "cell_type": "code",
   "execution_count": 18,
   "id": "e16fc03e",
   "metadata": {},
   "outputs": [
    {
     "name": "stdout",
     "output_type": "stream",
     "text": [
      "\n",
      "Relative differences (in %) of each feature per cluster to the overall average per feature\n"
     ]
    },
    {
     "data": {
      "text/html": [
       "<div>\n",
       "<style scoped>\n",
       "    .dataframe tbody tr th:only-of-type {\n",
       "        vertical-align: middle;\n",
       "    }\n",
       "\n",
       "    .dataframe tbody tr th {\n",
       "        vertical-align: top;\n",
       "    }\n",
       "\n",
       "    .dataframe thead th {\n",
       "        text-align: right;\n",
       "    }\n",
       "</style>\n",
       "<table border=\"1\" class=\"dataframe\">\n",
       "  <thead>\n",
       "    <tr style=\"text-align: right;\">\n",
       "      <th>labels</th>\n",
       "      <th>cluster_0</th>\n",
       "      <th>cluster_1</th>\n",
       "      <th>cluster_2</th>\n",
       "      <th>cluster_3</th>\n",
       "      <th>cluster_4</th>\n",
       "    </tr>\n",
       "  </thead>\n",
       "  <tbody>\n",
       "    <tr>\n",
       "      <th>BETASTAR</th>\n",
       "      <td>-19.535775</td>\n",
       "      <td>-30.601800</td>\n",
       "      <td>591.325866</td>\n",
       "      <td>-38.102915</td>\n",
       "      <td>-37.321927</td>\n",
       "    </tr>\n",
       "    <tr>\n",
       "      <th>RHOSTAR</th>\n",
       "      <td>-39.428274</td>\n",
       "      <td>4.532365</td>\n",
       "      <td>217.743691</td>\n",
       "      <td>-32.082212</td>\n",
       "      <td>3.007210</td>\n",
       "    </tr>\n",
       "    <tr>\n",
       "      <th>EPS</th>\n",
       "      <td>-6.237078</td>\n",
       "      <td>-5.244800</td>\n",
       "      <td>108.966360</td>\n",
       "      <td>-6.659989</td>\n",
       "      <td>-3.147079</td>\n",
       "    </tr>\n",
       "    <tr>\n",
       "      <th>TAUBOHM</th>\n",
       "      <td>162.991390</td>\n",
       "      <td>-35.844341</td>\n",
       "      <td>-94.781480</td>\n",
       "      <td>13.900539</td>\n",
       "      <td>17.195801</td>\n",
       "    </tr>\n",
       "    <tr>\n",
       "      <th>KAREA</th>\n",
       "      <td>-0.919852</td>\n",
       "      <td>0.103805</td>\n",
       "      <td>18.936882</td>\n",
       "      <td>-3.154044</td>\n",
       "      <td>-9.730279</td>\n",
       "    </tr>\n",
       "    <tr>\n",
       "      <th>NEL</th>\n",
       "      <td>15.330670</td>\n",
       "      <td>5.994239</td>\n",
       "      <td>-9.580629</td>\n",
       "      <td>-29.073691</td>\n",
       "      <td>436.446179</td>\n",
       "    </tr>\n",
       "    <tr>\n",
       "      <th>TAUTH</th>\n",
       "      <td>130.729130</td>\n",
       "      <td>-34.306718</td>\n",
       "      <td>-72.810281</td>\n",
       "      <td>23.809283</td>\n",
       "      <td>-48.672236</td>\n",
       "    </tr>\n",
       "    <tr>\n",
       "      <th>RGEO</th>\n",
       "      <td>39.692442</td>\n",
       "      <td>-21.637201</td>\n",
       "      <td>-60.142970</td>\n",
       "      <td>39.501747</td>\n",
       "      <td>-67.657814</td>\n",
       "    </tr>\n",
       "  </tbody>\n",
       "</table>\n",
       "</div>"
      ],
      "text/plain": [
       "labels     cluster_0  cluster_1   cluster_2  cluster_3   cluster_4\n",
       "BETASTAR  -19.535775 -30.601800  591.325866 -38.102915  -37.321927\n",
       "RHOSTAR   -39.428274   4.532365  217.743691 -32.082212    3.007210\n",
       "EPS        -6.237078  -5.244800  108.966360  -6.659989   -3.147079\n",
       "TAUBOHM   162.991390 -35.844341  -94.781480  13.900539   17.195801\n",
       "KAREA      -0.919852   0.103805   18.936882  -3.154044   -9.730279\n",
       "NEL        15.330670   5.994239   -9.580629 -29.073691  436.446179\n",
       "TAUTH     130.729130 -34.306718  -72.810281  23.809283  -48.672236\n",
       "RGEO       39.692442 -21.637201  -60.142970  39.501747  -67.657814"
      ]
     },
     "execution_count": 18,
     "metadata": {},
     "output_type": "execute_result"
    }
   ],
   "source": [
    "relative_diff = ((data_cl_mean.sub(global_mean, axis=0)).div(global_mean, axis=0)).div(1/100,axis=0)#.apply(np.abs)\n",
    "print(\"\\nRelative differences (in %) of each feature per cluster to the overall average per feature\")\n",
    "relative_diff"
   ]
  },
  {
   "cell_type": "code",
   "execution_count": 20,
   "id": "26e611fa",
   "metadata": {},
   "outputs": [
    {
     "data": {
      "application/vnd.plotly.v1+json": {
       "config": {
        "plotlyServerURL": "https://plot.ly"
       },
       "data": [
        {
         "fill": "toself",
         "name": "Cluster 0",
         "r": [
          1.4388832193369134,
          0.003705365943531577,
          0.31638742218867644,
          0.44921258973670686,
          1.5640816173059051,
          7.267206161708616,
          0.33773644014605614,
          2.9207525455046826
         ],
         "theta": [
          "BETASTAR",
          "RHOSTAR",
          "EPS",
          "TAUBOHM",
          "KAREA",
          "NEL",
          "TAUTH",
          "RGEO"
         ],
         "type": "scatterpolar"
        },
        {
         "fill": "toself",
         "name": "Cluster 1",
         "r": [
          1.2409975347455848,
          0.006394578653803998,
          0.31973570030023946,
          0.10958354903555968,
          1.5802410866941887,
          6.678899767863673,
          0.09616044238125371,
          1.6384447389875938
         ],
         "theta": [
          "BETASTAR",
          "RHOSTAR",
          "EPS",
          "TAUBOHM",
          "KAREA",
          "NEL",
          "TAUTH",
          "RGEO"
         ],
         "type": "scatterpolar"
        },
        {
         "fill": "toself",
         "name": "Cluster 2",
         "r": [
          12.362477681562645,
          0.019437396528441318,
          0.7051223075079645,
          0.008913693911258277,
          1.877540511131071,
          5.697497574193549,
          0.03979973810842479,
          0.8333487419354839
         ],
         "theta": [
          "BETASTAR",
          "RHOSTAR",
          "EPS",
          "TAUBOHM",
          "KAREA",
          "NEL",
          "TAUTH",
          "RGEO"
         ],
         "type": "scatterpolar"
        },
        {
         "fill": "toself",
         "name": "Cluster 3",
         "r": [
          1.1068605521106576,
          0.004154748036297192,
          0.3149603788537872,
          0.19455221004475085,
          1.5288126153735548,
          4.469202447006613,
          0.1812294207607902,
          2.916765419771343
         ],
         "theta": [
          "BETASTAR",
          "RHOSTAR",
          "EPS",
          "TAUBOHM",
          "KAREA",
          "NEL",
          "TAUTH",
          "RGEO"
         ],
         "type": "scatterpolar"
        },
        {
         "fill": "toself",
         "name": "Cluster 4",
         "r": [
          1.1208263941940166,
          0.006301280050939,
          0.3268141116112899,
          0.20018080875,
          1.425,
          33.802499999999995,
          0.0751325,
          0.676225
         ],
         "theta": [
          "BETASTAR",
          "RHOSTAR",
          "EPS",
          "TAUBOHM",
          "KAREA",
          "NEL",
          "TAUTH",
          "RGEO"
         ],
         "type": "scatterpolar"
        }
       ],
       "layout": {
        "template": {
         "data": {
          "bar": [
           {
            "error_x": {
             "color": "#2a3f5f"
            },
            "error_y": {
             "color": "#2a3f5f"
            },
            "marker": {
             "line": {
              "color": "#E5ECF6",
              "width": 0.5
             },
             "pattern": {
              "fillmode": "overlay",
              "size": 10,
              "solidity": 0.2
             }
            },
            "type": "bar"
           }
          ],
          "barpolar": [
           {
            "marker": {
             "line": {
              "color": "#E5ECF6",
              "width": 0.5
             },
             "pattern": {
              "fillmode": "overlay",
              "size": 10,
              "solidity": 0.2
             }
            },
            "type": "barpolar"
           }
          ],
          "carpet": [
           {
            "aaxis": {
             "endlinecolor": "#2a3f5f",
             "gridcolor": "white",
             "linecolor": "white",
             "minorgridcolor": "white",
             "startlinecolor": "#2a3f5f"
            },
            "baxis": {
             "endlinecolor": "#2a3f5f",
             "gridcolor": "white",
             "linecolor": "white",
             "minorgridcolor": "white",
             "startlinecolor": "#2a3f5f"
            },
            "type": "carpet"
           }
          ],
          "choropleth": [
           {
            "colorbar": {
             "outlinewidth": 0,
             "ticks": ""
            },
            "type": "choropleth"
           }
          ],
          "contour": [
           {
            "colorbar": {
             "outlinewidth": 0,
             "ticks": ""
            },
            "colorscale": [
             [
              0,
              "#0d0887"
             ],
             [
              0.1111111111111111,
              "#46039f"
             ],
             [
              0.2222222222222222,
              "#7201a8"
             ],
             [
              0.3333333333333333,
              "#9c179e"
             ],
             [
              0.4444444444444444,
              "#bd3786"
             ],
             [
              0.5555555555555556,
              "#d8576b"
             ],
             [
              0.6666666666666666,
              "#ed7953"
             ],
             [
              0.7777777777777778,
              "#fb9f3a"
             ],
             [
              0.8888888888888888,
              "#fdca26"
             ],
             [
              1,
              "#f0f921"
             ]
            ],
            "type": "contour"
           }
          ],
          "contourcarpet": [
           {
            "colorbar": {
             "outlinewidth": 0,
             "ticks": ""
            },
            "type": "contourcarpet"
           }
          ],
          "heatmap": [
           {
            "colorbar": {
             "outlinewidth": 0,
             "ticks": ""
            },
            "colorscale": [
             [
              0,
              "#0d0887"
             ],
             [
              0.1111111111111111,
              "#46039f"
             ],
             [
              0.2222222222222222,
              "#7201a8"
             ],
             [
              0.3333333333333333,
              "#9c179e"
             ],
             [
              0.4444444444444444,
              "#bd3786"
             ],
             [
              0.5555555555555556,
              "#d8576b"
             ],
             [
              0.6666666666666666,
              "#ed7953"
             ],
             [
              0.7777777777777778,
              "#fb9f3a"
             ],
             [
              0.8888888888888888,
              "#fdca26"
             ],
             [
              1,
              "#f0f921"
             ]
            ],
            "type": "heatmap"
           }
          ],
          "heatmapgl": [
           {
            "colorbar": {
             "outlinewidth": 0,
             "ticks": ""
            },
            "colorscale": [
             [
              0,
              "#0d0887"
             ],
             [
              0.1111111111111111,
              "#46039f"
             ],
             [
              0.2222222222222222,
              "#7201a8"
             ],
             [
              0.3333333333333333,
              "#9c179e"
             ],
             [
              0.4444444444444444,
              "#bd3786"
             ],
             [
              0.5555555555555556,
              "#d8576b"
             ],
             [
              0.6666666666666666,
              "#ed7953"
             ],
             [
              0.7777777777777778,
              "#fb9f3a"
             ],
             [
              0.8888888888888888,
              "#fdca26"
             ],
             [
              1,
              "#f0f921"
             ]
            ],
            "type": "heatmapgl"
           }
          ],
          "histogram": [
           {
            "marker": {
             "pattern": {
              "fillmode": "overlay",
              "size": 10,
              "solidity": 0.2
             }
            },
            "type": "histogram"
           }
          ],
          "histogram2d": [
           {
            "colorbar": {
             "outlinewidth": 0,
             "ticks": ""
            },
            "colorscale": [
             [
              0,
              "#0d0887"
             ],
             [
              0.1111111111111111,
              "#46039f"
             ],
             [
              0.2222222222222222,
              "#7201a8"
             ],
             [
              0.3333333333333333,
              "#9c179e"
             ],
             [
              0.4444444444444444,
              "#bd3786"
             ],
             [
              0.5555555555555556,
              "#d8576b"
             ],
             [
              0.6666666666666666,
              "#ed7953"
             ],
             [
              0.7777777777777778,
              "#fb9f3a"
             ],
             [
              0.8888888888888888,
              "#fdca26"
             ],
             [
              1,
              "#f0f921"
             ]
            ],
            "type": "histogram2d"
           }
          ],
          "histogram2dcontour": [
           {
            "colorbar": {
             "outlinewidth": 0,
             "ticks": ""
            },
            "colorscale": [
             [
              0,
              "#0d0887"
             ],
             [
              0.1111111111111111,
              "#46039f"
             ],
             [
              0.2222222222222222,
              "#7201a8"
             ],
             [
              0.3333333333333333,
              "#9c179e"
             ],
             [
              0.4444444444444444,
              "#bd3786"
             ],
             [
              0.5555555555555556,
              "#d8576b"
             ],
             [
              0.6666666666666666,
              "#ed7953"
             ],
             [
              0.7777777777777778,
              "#fb9f3a"
             ],
             [
              0.8888888888888888,
              "#fdca26"
             ],
             [
              1,
              "#f0f921"
             ]
            ],
            "type": "histogram2dcontour"
           }
          ],
          "mesh3d": [
           {
            "colorbar": {
             "outlinewidth": 0,
             "ticks": ""
            },
            "type": "mesh3d"
           }
          ],
          "parcoords": [
           {
            "line": {
             "colorbar": {
              "outlinewidth": 0,
              "ticks": ""
             }
            },
            "type": "parcoords"
           }
          ],
          "pie": [
           {
            "automargin": true,
            "type": "pie"
           }
          ],
          "scatter": [
           {
            "fillpattern": {
             "fillmode": "overlay",
             "size": 10,
             "solidity": 0.2
            },
            "type": "scatter"
           }
          ],
          "scatter3d": [
           {
            "line": {
             "colorbar": {
              "outlinewidth": 0,
              "ticks": ""
             }
            },
            "marker": {
             "colorbar": {
              "outlinewidth": 0,
              "ticks": ""
             }
            },
            "type": "scatter3d"
           }
          ],
          "scattercarpet": [
           {
            "marker": {
             "colorbar": {
              "outlinewidth": 0,
              "ticks": ""
             }
            },
            "type": "scattercarpet"
           }
          ],
          "scattergeo": [
           {
            "marker": {
             "colorbar": {
              "outlinewidth": 0,
              "ticks": ""
             }
            },
            "type": "scattergeo"
           }
          ],
          "scattergl": [
           {
            "marker": {
             "colorbar": {
              "outlinewidth": 0,
              "ticks": ""
             }
            },
            "type": "scattergl"
           }
          ],
          "scattermapbox": [
           {
            "marker": {
             "colorbar": {
              "outlinewidth": 0,
              "ticks": ""
             }
            },
            "type": "scattermapbox"
           }
          ],
          "scatterpolar": [
           {
            "marker": {
             "colorbar": {
              "outlinewidth": 0,
              "ticks": ""
             }
            },
            "type": "scatterpolar"
           }
          ],
          "scatterpolargl": [
           {
            "marker": {
             "colorbar": {
              "outlinewidth": 0,
              "ticks": ""
             }
            },
            "type": "scatterpolargl"
           }
          ],
          "scatterternary": [
           {
            "marker": {
             "colorbar": {
              "outlinewidth": 0,
              "ticks": ""
             }
            },
            "type": "scatterternary"
           }
          ],
          "surface": [
           {
            "colorbar": {
             "outlinewidth": 0,
             "ticks": ""
            },
            "colorscale": [
             [
              0,
              "#0d0887"
             ],
             [
              0.1111111111111111,
              "#46039f"
             ],
             [
              0.2222222222222222,
              "#7201a8"
             ],
             [
              0.3333333333333333,
              "#9c179e"
             ],
             [
              0.4444444444444444,
              "#bd3786"
             ],
             [
              0.5555555555555556,
              "#d8576b"
             ],
             [
              0.6666666666666666,
              "#ed7953"
             ],
             [
              0.7777777777777778,
              "#fb9f3a"
             ],
             [
              0.8888888888888888,
              "#fdca26"
             ],
             [
              1,
              "#f0f921"
             ]
            ],
            "type": "surface"
           }
          ],
          "table": [
           {
            "cells": {
             "fill": {
              "color": "#EBF0F8"
             },
             "line": {
              "color": "white"
             }
            },
            "header": {
             "fill": {
              "color": "#C8D4E3"
             },
             "line": {
              "color": "white"
             }
            },
            "type": "table"
           }
          ]
         },
         "layout": {
          "annotationdefaults": {
           "arrowcolor": "#2a3f5f",
           "arrowhead": 0,
           "arrowwidth": 1
          },
          "autotypenumbers": "strict",
          "coloraxis": {
           "colorbar": {
            "outlinewidth": 0,
            "ticks": ""
           }
          },
          "colorscale": {
           "diverging": [
            [
             0,
             "#8e0152"
            ],
            [
             0.1,
             "#c51b7d"
            ],
            [
             0.2,
             "#de77ae"
            ],
            [
             0.3,
             "#f1b6da"
            ],
            [
             0.4,
             "#fde0ef"
            ],
            [
             0.5,
             "#f7f7f7"
            ],
            [
             0.6,
             "#e6f5d0"
            ],
            [
             0.7,
             "#b8e186"
            ],
            [
             0.8,
             "#7fbc41"
            ],
            [
             0.9,
             "#4d9221"
            ],
            [
             1,
             "#276419"
            ]
           ],
           "sequential": [
            [
             0,
             "#0d0887"
            ],
            [
             0.1111111111111111,
             "#46039f"
            ],
            [
             0.2222222222222222,
             "#7201a8"
            ],
            [
             0.3333333333333333,
             "#9c179e"
            ],
            [
             0.4444444444444444,
             "#bd3786"
            ],
            [
             0.5555555555555556,
             "#d8576b"
            ],
            [
             0.6666666666666666,
             "#ed7953"
            ],
            [
             0.7777777777777778,
             "#fb9f3a"
            ],
            [
             0.8888888888888888,
             "#fdca26"
            ],
            [
             1,
             "#f0f921"
            ]
           ],
           "sequentialminus": [
            [
             0,
             "#0d0887"
            ],
            [
             0.1111111111111111,
             "#46039f"
            ],
            [
             0.2222222222222222,
             "#7201a8"
            ],
            [
             0.3333333333333333,
             "#9c179e"
            ],
            [
             0.4444444444444444,
             "#bd3786"
            ],
            [
             0.5555555555555556,
             "#d8576b"
            ],
            [
             0.6666666666666666,
             "#ed7953"
            ],
            [
             0.7777777777777778,
             "#fb9f3a"
            ],
            [
             0.8888888888888888,
             "#fdca26"
            ],
            [
             1,
             "#f0f921"
            ]
           ]
          },
          "colorway": [
           "#636efa",
           "#EF553B",
           "#00cc96",
           "#ab63fa",
           "#FFA15A",
           "#19d3f3",
           "#FF6692",
           "#B6E880",
           "#FF97FF",
           "#FECB52"
          ],
          "font": {
           "color": "#2a3f5f"
          },
          "geo": {
           "bgcolor": "white",
           "lakecolor": "white",
           "landcolor": "#E5ECF6",
           "showlakes": true,
           "showland": true,
           "subunitcolor": "white"
          },
          "hoverlabel": {
           "align": "left"
          },
          "hovermode": "closest",
          "mapbox": {
           "style": "light"
          },
          "paper_bgcolor": "white",
          "plot_bgcolor": "#E5ECF6",
          "polar": {
           "angularaxis": {
            "gridcolor": "white",
            "linecolor": "white",
            "ticks": ""
           },
           "bgcolor": "#E5ECF6",
           "radialaxis": {
            "gridcolor": "white",
            "linecolor": "white",
            "ticks": ""
           }
          },
          "scene": {
           "xaxis": {
            "backgroundcolor": "#E5ECF6",
            "gridcolor": "white",
            "gridwidth": 2,
            "linecolor": "white",
            "showbackground": true,
            "ticks": "",
            "zerolinecolor": "white"
           },
           "yaxis": {
            "backgroundcolor": "#E5ECF6",
            "gridcolor": "white",
            "gridwidth": 2,
            "linecolor": "white",
            "showbackground": true,
            "ticks": "",
            "zerolinecolor": "white"
           },
           "zaxis": {
            "backgroundcolor": "#E5ECF6",
            "gridcolor": "white",
            "gridwidth": 2,
            "linecolor": "white",
            "showbackground": true,
            "ticks": "",
            "zerolinecolor": "white"
           }
          },
          "shapedefaults": {
           "line": {
            "color": "#2a3f5f"
           }
          },
          "ternary": {
           "aaxis": {
            "gridcolor": "white",
            "linecolor": "white",
            "ticks": ""
           },
           "baxis": {
            "gridcolor": "white",
            "linecolor": "white",
            "ticks": ""
           },
           "bgcolor": "#E5ECF6",
           "caxis": {
            "gridcolor": "white",
            "linecolor": "white",
            "ticks": ""
           }
          },
          "title": {
           "x": 0.05
          },
          "xaxis": {
           "automargin": true,
           "gridcolor": "white",
           "linecolor": "white",
           "ticks": "",
           "title": {
            "standoff": 15
           },
           "zerolinecolor": "white",
           "zerolinewidth": 2
          },
          "yaxis": {
           "automargin": true,
           "gridcolor": "white",
           "linecolor": "white",
           "ticks": "",
           "title": {
            "standoff": 15
           },
           "zerolinecolor": "white",
           "zerolinewidth": 2
          }
         }
        }
       }
      },
      "text/html": [
       "<div>                            <div id=\"ed657327-f4a5-4afb-8c11-5654eefc7bc5\" class=\"plotly-graph-div\" style=\"height:525px; width:100%;\"></div>            <script type=\"text/javascript\">                require([\"plotly\"], function(Plotly) {                    window.PLOTLYENV=window.PLOTLYENV || {};                                    if (document.getElementById(\"ed657327-f4a5-4afb-8c11-5654eefc7bc5\")) {                    Plotly.newPlot(                        \"ed657327-f4a5-4afb-8c11-5654eefc7bc5\",                        [{\"fill\":\"toself\",\"name\":\"Cluster 0\",\"r\":[1.4388832193369134,0.003705365943531577,0.31638742218867644,0.44921258973670686,1.5640816173059051,7.267206161708616,0.33773644014605614,2.9207525455046826],\"theta\":[\"BETASTAR\",\"RHOSTAR\",\"EPS\",\"TAUBOHM\",\"KAREA\",\"NEL\",\"TAUTH\",\"RGEO\"],\"type\":\"scatterpolar\"},{\"fill\":\"toself\",\"name\":\"Cluster 1\",\"r\":[1.2409975347455848,0.006394578653803998,0.31973570030023946,0.10958354903555968,1.5802410866941887,6.678899767863673,0.09616044238125371,1.6384447389875938],\"theta\":[\"BETASTAR\",\"RHOSTAR\",\"EPS\",\"TAUBOHM\",\"KAREA\",\"NEL\",\"TAUTH\",\"RGEO\"],\"type\":\"scatterpolar\"},{\"fill\":\"toself\",\"name\":\"Cluster 2\",\"r\":[12.362477681562645,0.019437396528441318,0.7051223075079645,0.008913693911258277,1.877540511131071,5.697497574193549,0.03979973810842479,0.8333487419354839],\"theta\":[\"BETASTAR\",\"RHOSTAR\",\"EPS\",\"TAUBOHM\",\"KAREA\",\"NEL\",\"TAUTH\",\"RGEO\"],\"type\":\"scatterpolar\"},{\"fill\":\"toself\",\"name\":\"Cluster 3\",\"r\":[1.1068605521106576,0.004154748036297192,0.3149603788537872,0.19455221004475085,1.5288126153735548,4.469202447006613,0.1812294207607902,2.916765419771343],\"theta\":[\"BETASTAR\",\"RHOSTAR\",\"EPS\",\"TAUBOHM\",\"KAREA\",\"NEL\",\"TAUTH\",\"RGEO\"],\"type\":\"scatterpolar\"},{\"fill\":\"toself\",\"name\":\"Cluster 4\",\"r\":[1.1208263941940166,0.006301280050939,0.3268141116112899,0.20018080875,1.425,33.802499999999995,0.0751325,0.676225],\"theta\":[\"BETASTAR\",\"RHOSTAR\",\"EPS\",\"TAUBOHM\",\"KAREA\",\"NEL\",\"TAUTH\",\"RGEO\"],\"type\":\"scatterpolar\"}],                        {\"template\":{\"data\":{\"histogram2dcontour\":[{\"type\":\"histogram2dcontour\",\"colorbar\":{\"outlinewidth\":0,\"ticks\":\"\"},\"colorscale\":[[0.0,\"#0d0887\"],[0.1111111111111111,\"#46039f\"],[0.2222222222222222,\"#7201a8\"],[0.3333333333333333,\"#9c179e\"],[0.4444444444444444,\"#bd3786\"],[0.5555555555555556,\"#d8576b\"],[0.6666666666666666,\"#ed7953\"],[0.7777777777777778,\"#fb9f3a\"],[0.8888888888888888,\"#fdca26\"],[1.0,\"#f0f921\"]]}],\"choropleth\":[{\"type\":\"choropleth\",\"colorbar\":{\"outlinewidth\":0,\"ticks\":\"\"}}],\"histogram2d\":[{\"type\":\"histogram2d\",\"colorbar\":{\"outlinewidth\":0,\"ticks\":\"\"},\"colorscale\":[[0.0,\"#0d0887\"],[0.1111111111111111,\"#46039f\"],[0.2222222222222222,\"#7201a8\"],[0.3333333333333333,\"#9c179e\"],[0.4444444444444444,\"#bd3786\"],[0.5555555555555556,\"#d8576b\"],[0.6666666666666666,\"#ed7953\"],[0.7777777777777778,\"#fb9f3a\"],[0.8888888888888888,\"#fdca26\"],[1.0,\"#f0f921\"]]}],\"heatmap\":[{\"type\":\"heatmap\",\"colorbar\":{\"outlinewidth\":0,\"ticks\":\"\"},\"colorscale\":[[0.0,\"#0d0887\"],[0.1111111111111111,\"#46039f\"],[0.2222222222222222,\"#7201a8\"],[0.3333333333333333,\"#9c179e\"],[0.4444444444444444,\"#bd3786\"],[0.5555555555555556,\"#d8576b\"],[0.6666666666666666,\"#ed7953\"],[0.7777777777777778,\"#fb9f3a\"],[0.8888888888888888,\"#fdca26\"],[1.0,\"#f0f921\"]]}],\"heatmapgl\":[{\"type\":\"heatmapgl\",\"colorbar\":{\"outlinewidth\":0,\"ticks\":\"\"},\"colorscale\":[[0.0,\"#0d0887\"],[0.1111111111111111,\"#46039f\"],[0.2222222222222222,\"#7201a8\"],[0.3333333333333333,\"#9c179e\"],[0.4444444444444444,\"#bd3786\"],[0.5555555555555556,\"#d8576b\"],[0.6666666666666666,\"#ed7953\"],[0.7777777777777778,\"#fb9f3a\"],[0.8888888888888888,\"#fdca26\"],[1.0,\"#f0f921\"]]}],\"contourcarpet\":[{\"type\":\"contourcarpet\",\"colorbar\":{\"outlinewidth\":0,\"ticks\":\"\"}}],\"contour\":[{\"type\":\"contour\",\"colorbar\":{\"outlinewidth\":0,\"ticks\":\"\"},\"colorscale\":[[0.0,\"#0d0887\"],[0.1111111111111111,\"#46039f\"],[0.2222222222222222,\"#7201a8\"],[0.3333333333333333,\"#9c179e\"],[0.4444444444444444,\"#bd3786\"],[0.5555555555555556,\"#d8576b\"],[0.6666666666666666,\"#ed7953\"],[0.7777777777777778,\"#fb9f3a\"],[0.8888888888888888,\"#fdca26\"],[1.0,\"#f0f921\"]]}],\"surface\":[{\"type\":\"surface\",\"colorbar\":{\"outlinewidth\":0,\"ticks\":\"\"},\"colorscale\":[[0.0,\"#0d0887\"],[0.1111111111111111,\"#46039f\"],[0.2222222222222222,\"#7201a8\"],[0.3333333333333333,\"#9c179e\"],[0.4444444444444444,\"#bd3786\"],[0.5555555555555556,\"#d8576b\"],[0.6666666666666666,\"#ed7953\"],[0.7777777777777778,\"#fb9f3a\"],[0.8888888888888888,\"#fdca26\"],[1.0,\"#f0f921\"]]}],\"mesh3d\":[{\"type\":\"mesh3d\",\"colorbar\":{\"outlinewidth\":0,\"ticks\":\"\"}}],\"scatter\":[{\"fillpattern\":{\"fillmode\":\"overlay\",\"size\":10,\"solidity\":0.2},\"type\":\"scatter\"}],\"parcoords\":[{\"type\":\"parcoords\",\"line\":{\"colorbar\":{\"outlinewidth\":0,\"ticks\":\"\"}}}],\"scatterpolargl\":[{\"type\":\"scatterpolargl\",\"marker\":{\"colorbar\":{\"outlinewidth\":0,\"ticks\":\"\"}}}],\"bar\":[{\"error_x\":{\"color\":\"#2a3f5f\"},\"error_y\":{\"color\":\"#2a3f5f\"},\"marker\":{\"line\":{\"color\":\"#E5ECF6\",\"width\":0.5},\"pattern\":{\"fillmode\":\"overlay\",\"size\":10,\"solidity\":0.2}},\"type\":\"bar\"}],\"scattergeo\":[{\"type\":\"scattergeo\",\"marker\":{\"colorbar\":{\"outlinewidth\":0,\"ticks\":\"\"}}}],\"scatterpolar\":[{\"type\":\"scatterpolar\",\"marker\":{\"colorbar\":{\"outlinewidth\":0,\"ticks\":\"\"}}}],\"histogram\":[{\"marker\":{\"pattern\":{\"fillmode\":\"overlay\",\"size\":10,\"solidity\":0.2}},\"type\":\"histogram\"}],\"scattergl\":[{\"type\":\"scattergl\",\"marker\":{\"colorbar\":{\"outlinewidth\":0,\"ticks\":\"\"}}}],\"scatter3d\":[{\"type\":\"scatter3d\",\"line\":{\"colorbar\":{\"outlinewidth\":0,\"ticks\":\"\"}},\"marker\":{\"colorbar\":{\"outlinewidth\":0,\"ticks\":\"\"}}}],\"scattermapbox\":[{\"type\":\"scattermapbox\",\"marker\":{\"colorbar\":{\"outlinewidth\":0,\"ticks\":\"\"}}}],\"scatterternary\":[{\"type\":\"scatterternary\",\"marker\":{\"colorbar\":{\"outlinewidth\":0,\"ticks\":\"\"}}}],\"scattercarpet\":[{\"type\":\"scattercarpet\",\"marker\":{\"colorbar\":{\"outlinewidth\":0,\"ticks\":\"\"}}}],\"carpet\":[{\"aaxis\":{\"endlinecolor\":\"#2a3f5f\",\"gridcolor\":\"white\",\"linecolor\":\"white\",\"minorgridcolor\":\"white\",\"startlinecolor\":\"#2a3f5f\"},\"baxis\":{\"endlinecolor\":\"#2a3f5f\",\"gridcolor\":\"white\",\"linecolor\":\"white\",\"minorgridcolor\":\"white\",\"startlinecolor\":\"#2a3f5f\"},\"type\":\"carpet\"}],\"table\":[{\"cells\":{\"fill\":{\"color\":\"#EBF0F8\"},\"line\":{\"color\":\"white\"}},\"header\":{\"fill\":{\"color\":\"#C8D4E3\"},\"line\":{\"color\":\"white\"}},\"type\":\"table\"}],\"barpolar\":[{\"marker\":{\"line\":{\"color\":\"#E5ECF6\",\"width\":0.5},\"pattern\":{\"fillmode\":\"overlay\",\"size\":10,\"solidity\":0.2}},\"type\":\"barpolar\"}],\"pie\":[{\"automargin\":true,\"type\":\"pie\"}]},\"layout\":{\"autotypenumbers\":\"strict\",\"colorway\":[\"#636efa\",\"#EF553B\",\"#00cc96\",\"#ab63fa\",\"#FFA15A\",\"#19d3f3\",\"#FF6692\",\"#B6E880\",\"#FF97FF\",\"#FECB52\"],\"font\":{\"color\":\"#2a3f5f\"},\"hovermode\":\"closest\",\"hoverlabel\":{\"align\":\"left\"},\"paper_bgcolor\":\"white\",\"plot_bgcolor\":\"#E5ECF6\",\"polar\":{\"bgcolor\":\"#E5ECF6\",\"angularaxis\":{\"gridcolor\":\"white\",\"linecolor\":\"white\",\"ticks\":\"\"},\"radialaxis\":{\"gridcolor\":\"white\",\"linecolor\":\"white\",\"ticks\":\"\"}},\"ternary\":{\"bgcolor\":\"#E5ECF6\",\"aaxis\":{\"gridcolor\":\"white\",\"linecolor\":\"white\",\"ticks\":\"\"},\"baxis\":{\"gridcolor\":\"white\",\"linecolor\":\"white\",\"ticks\":\"\"},\"caxis\":{\"gridcolor\":\"white\",\"linecolor\":\"white\",\"ticks\":\"\"}},\"coloraxis\":{\"colorbar\":{\"outlinewidth\":0,\"ticks\":\"\"}},\"colorscale\":{\"sequential\":[[0.0,\"#0d0887\"],[0.1111111111111111,\"#46039f\"],[0.2222222222222222,\"#7201a8\"],[0.3333333333333333,\"#9c179e\"],[0.4444444444444444,\"#bd3786\"],[0.5555555555555556,\"#d8576b\"],[0.6666666666666666,\"#ed7953\"],[0.7777777777777778,\"#fb9f3a\"],[0.8888888888888888,\"#fdca26\"],[1.0,\"#f0f921\"]],\"sequentialminus\":[[0.0,\"#0d0887\"],[0.1111111111111111,\"#46039f\"],[0.2222222222222222,\"#7201a8\"],[0.3333333333333333,\"#9c179e\"],[0.4444444444444444,\"#bd3786\"],[0.5555555555555556,\"#d8576b\"],[0.6666666666666666,\"#ed7953\"],[0.7777777777777778,\"#fb9f3a\"],[0.8888888888888888,\"#fdca26\"],[1.0,\"#f0f921\"]],\"diverging\":[[0,\"#8e0152\"],[0.1,\"#c51b7d\"],[0.2,\"#de77ae\"],[0.3,\"#f1b6da\"],[0.4,\"#fde0ef\"],[0.5,\"#f7f7f7\"],[0.6,\"#e6f5d0\"],[0.7,\"#b8e186\"],[0.8,\"#7fbc41\"],[0.9,\"#4d9221\"],[1,\"#276419\"]]},\"xaxis\":{\"gridcolor\":\"white\",\"linecolor\":\"white\",\"ticks\":\"\",\"title\":{\"standoff\":15},\"zerolinecolor\":\"white\",\"automargin\":true,\"zerolinewidth\":2},\"yaxis\":{\"gridcolor\":\"white\",\"linecolor\":\"white\",\"ticks\":\"\",\"title\":{\"standoff\":15},\"zerolinecolor\":\"white\",\"automargin\":true,\"zerolinewidth\":2},\"scene\":{\"xaxis\":{\"backgroundcolor\":\"#E5ECF6\",\"gridcolor\":\"white\",\"linecolor\":\"white\",\"showbackground\":true,\"ticks\":\"\",\"zerolinecolor\":\"white\",\"gridwidth\":2},\"yaxis\":{\"backgroundcolor\":\"#E5ECF6\",\"gridcolor\":\"white\",\"linecolor\":\"white\",\"showbackground\":true,\"ticks\":\"\",\"zerolinecolor\":\"white\",\"gridwidth\":2},\"zaxis\":{\"backgroundcolor\":\"#E5ECF6\",\"gridcolor\":\"white\",\"linecolor\":\"white\",\"showbackground\":true,\"ticks\":\"\",\"zerolinecolor\":\"white\",\"gridwidth\":2}},\"shapedefaults\":{\"line\":{\"color\":\"#2a3f5f\"}},\"annotationdefaults\":{\"arrowcolor\":\"#2a3f5f\",\"arrowhead\":0,\"arrowwidth\":1},\"geo\":{\"bgcolor\":\"white\",\"landcolor\":\"#E5ECF6\",\"subunitcolor\":\"white\",\"showland\":true,\"showlakes\":true,\"lakecolor\":\"white\"},\"title\":{\"x\":0.05},\"mapbox\":{\"style\":\"light\"}}}},                        {\"responsive\": true}                    ).then(function(){\n",
       "                            \n",
       "var gd = document.getElementById('ed657327-f4a5-4afb-8c11-5654eefc7bc5');\n",
       "var x = new MutationObserver(function (mutations, observer) {{\n",
       "        var display = window.getComputedStyle(gd).display;\n",
       "        if (!display || display === 'none') {{\n",
       "            console.log([gd, 'removed!']);\n",
       "            Plotly.purge(gd);\n",
       "            observer.disconnect();\n",
       "        }}\n",
       "}});\n",
       "\n",
       "// Listen for the removal of the full notebook cells\n",
       "var notebookContainer = gd.closest('#notebook-container');\n",
       "if (notebookContainer) {{\n",
       "    x.observe(notebookContainer, {childList: true});\n",
       "}}\n",
       "\n",
       "// Listen for the clearing of the current output cell\n",
       "var outputEl = gd.closest('.output');\n",
       "if (outputEl) {{\n",
       "    x.observe(outputEl, {childList: true});\n",
       "}}\n",
       "\n",
       "                        })                };                });            </script>        </div>"
      ]
     },
     "metadata": {},
     "output_type": "display_data"
    }
   ],
   "source": [
    "import plotly.graph_objects as go\n",
    "\n",
    "categories = features\n",
    "fig = go.Figure()\n",
    "\n",
    "for i in range(n_clusters):\n",
    "\n",
    "    fig.add_trace(go.Scatterpolar(\n",
    "          r=data_cl_mean[f\"cluster_{i}\"].values,\n",
    "          theta=categories,\n",
    "          fill='toself',\n",
    "          name=f'Cluster {i}'\n",
    "    ))\n",
    "\n",
    "fig.show()"
   ]
  },
  {
   "cell_type": "code",
   "execution_count": null,
   "id": "311074ab",
   "metadata": {},
   "outputs": [],
   "source": []
  },
  {
   "cell_type": "code",
   "execution_count": null,
   "id": "7485eaf4",
   "metadata": {},
   "outputs": [],
   "source": []
  }
 ],
 "metadata": {
  "kernelspec": {
   "display_name": "Python 3 (ipykernel)",
   "language": "python",
   "name": "python3"
  },
  "language_info": {
   "codemirror_mode": {
    "name": "ipython",
    "version": 3
   },
   "file_extension": ".py",
   "mimetype": "text/x-python",
   "name": "python",
   "nbconvert_exporter": "python",
   "pygments_lexer": "ipython3",
   "version": "3.10.7"
  }
 },
 "nbformat": 4,
 "nbformat_minor": 5
}
