{
 "cells": [
  {
   "cell_type": "markdown",
   "id": "81a410de",
   "metadata": {},
   "source": [
    "Karina Chiñas Fuenes | 24/02/2023 | Universiteit Gent"
   ]
  },
  {
   "cell_type": "code",
   "execution_count": 1,
   "id": "6e291939",
   "metadata": {},
   "outputs": [],
   "source": [
    "%load_ext autoreload\n",
    "%autoreload 2"
   ]
  },
  {
   "cell_type": "markdown",
   "id": "b166576a",
   "metadata": {},
   "source": [
    "This notebook is based on the document:\n",
    "\n",
    "* _Feature Selection for Clustering_, [Manoranjan Dash and Huan Liu](https://www.public.asu.edu/~huanliu/papers/pakdd00clu.pdf), 2000."
   ]
  },
  {
   "cell_type": "code",
   "execution_count": 2,
   "id": "ffb9da84",
   "metadata": {},
   "outputs": [],
   "source": [
    "import numpy as np \n",
    "import pandas as pd\n",
    "import matplotlib.pyplot as plt\n",
    "import scipy as sp\n",
    "import statsmodels.api as sm\n",
    "import matplotlib.patches as mpatches\n",
    "\n",
    "import FeatureSelectTK as fs\n",
    "\n",
    "from sklearn.preprocessing import StandardScaler\n",
    "from sklearn.cluster import KMeans\n",
    "from yellowbrick.cluster import KElbowVisualizer\n",
    "from yellowbrick.cluster import SilhouetteVisualizer\n",
    "\n",
    "pd.set_option('display.max_columns', None)\n",
    "path = \"../../data/\""
   ]
  },
  {
   "cell_type": "code",
   "execution_count": 3,
   "id": "21cd04cb",
   "metadata": {},
   "outputs": [],
   "source": [
    "# Reading data and preparing it\n",
    "\n",
    "DB5 = pd.read_csv(path+\"DB5.csv\") #From DB5 dataset | log data\n",
    "subset_ids = pd.read_csv(path+\"id_vs_frequency_decreasing_ds.csv\")\n",
    "data_complete = (DB5[DB5.id.isin(subset_ids.id.values)]).reset_index(drop=True)\n",
    "not_useful_cols = [\n",
    "    'ind', 'id', 'PHASE', 'DATE', 'SHOT', \n",
    "    'TOK','TIME', 'RGEO', 'TAUTH','TAUBOHM'\n",
    "]\n",
    "all_cols = pd.Series(data_complete.columns)\n",
    "data = data_complete[ all_cols[~all_cols.isin(not_useful_cols)].values ]\n",
    "data = data.dropna(axis='columns')"
   ]
  },
  {
   "cell_type": "code",
   "execution_count": 4,
   "id": "ab8db1df",
   "metadata": {},
   "outputs": [],
   "source": [
    "# Standard Scaler\n",
    "X = StandardScaler().fit_transform(data)\n",
    "data = pd.DataFrame(X, columns=data.columns)\n",
    "\n",
    "N,M = data.shape"
   ]
  },
  {
   "cell_type": "markdown",
   "id": "8dab483b",
   "metadata": {},
   "source": [
    "## ENTROPY IN DATASET\n",
    "#### Using the concept of entropy to rank the importance of features.\n",
    "\n",
    "1. Computing the distance between two points with Euclidean distance:\n",
    "\n",
    "$$\n",
    "    D^k_{ij} = \\left( \\frac{ x_{ik} - x_{jk} }{ max(F_k) - min(F_k) } \\right)^2 \n",
    "$$\n",
    "\n",
    "$$\n",
    "    D_{ij} = \\left[ \\sum^M_{k=1} \\: D^k_{ij}\\right]^{1/2}\n",
    "$$\n",
    "\n",
    "Where $F_k$ is the $k$-th column representing the $k$-th feature. With $k=1,\\dots,M$ The $x_{ik}$ is the $i$-th point of the $k$-th feature; the same for $j$. With $i$,$j=1\\ldots,N$. And $N$ being the total points of observations.\n",
    "\n",
    "2. Computing the similarity between two points, as:\n",
    "\n",
    "$$\n",
    "    S_{ij} = e^{-\\alpha \\cdot D_{ij}}\n",
    "$$\n",
    "\n",
    "Where $\\alpha$ is a parameter. Here $\\alpha = 0.5$.\n",
    "\n",
    "3. The entropy of the dataset is thus:\n",
    "\n",
    "$$\n",
    "    E = -\\sum^N_{i=1}\\sum^N_{j=1} E_{ij}= -\\sum^N_{i=1}\\sum^N_{j=1}\\left[ S_{ij}\\cdot\\text{Log}\\left(S_{ij}\\right) +  \\left(1-S_{ij}\\right)\\cdot\\text{Log}\\left(1-S_{ij}\\right) \\right]\n",
    "$$\n",
    "\n",
    "In the expression above, $N$ corresponds to the total number of observations in dataset (rows). \n",
    "\n",
    "The ranking is done in an interative process: eliminate a column at a time and assess the disorder that the removal has caused by calculating the corresponding entropy. Let us sat that $E_{^-F_i} > E_{^-F_j}$ is the statement that the removal of feature $i$ of the dataset caused more disorder than the removal of feature $j$. One can then construct an array $\\vec{E_-} = \\{E_{F_k}\\}$, for $k=1,\\ldots,M$. Thus, the most important feature will be  max$(\\vec{E_-})$."
   ]
  },
  {
   "cell_type": "code",
   "execution_count": 5,
   "id": "66c49454",
   "metadata": {},
   "outputs": [],
   "source": [
    "# ranked features of dataframe based on their entropy of removal\n",
    "features_ranked_entropy = fs.get_ranked_features_log2(data)\n",
    "feature_dic = dict( zip( list(range(M)), data.columns ) )\n",
    "ordered_features = list(features_ranked_entropy.index.map(feature_dic))"
   ]
  },
  {
   "cell_type": "code",
   "execution_count": 6,
   "id": "c5afdb0d",
   "metadata": {},
   "outputs": [
    {
     "data": {
      "text/plain": [
       "{0: 'IP',\n",
       " 1: 'BT',\n",
       " 2: 'NEL',\n",
       " 3: 'PLTH',\n",
       " 4: 'KAREA',\n",
       " 5: 'EPS',\n",
       " 6: 'MEFF',\n",
       " 7: 'Q95',\n",
       " 8: 'AMIN',\n",
       " 9: 'VOL',\n",
       " 10: 'POHM',\n",
       " 11: 'PNBI',\n",
       " 12: 'PICRH',\n",
       " 13: 'PECRH',\n",
       " 14: 'PL',\n",
       " 15: 'PFLOSS',\n",
       " 16: 'TAV',\n",
       " 17: 'LCOULOMB',\n",
       " 18: 'QCYL5',\n",
       " 19: 'RHOSTAR',\n",
       " 20: 'BETASTAR',\n",
       " 21: 'NUSTAR',\n",
       " 22: 'OMEGACYCL'}"
      ]
     },
     "execution_count": 6,
     "metadata": {},
     "output_type": "execute_result"
    }
   ],
   "source": [
    "feature_dic"
   ]
  },
  {
   "cell_type": "code",
   "execution_count": 7,
   "id": "968c49c2",
   "metadata": {},
   "outputs": [
    {
     "data": {
      "image/png": "[encoded data removed]",
      "text/plain": [
       "<Figure size 600x300 with 1 Axes>"
      ]
     },
     "metadata": {},
     "output_type": "display_data"
    }
   ],
   "source": [
    "plt.figure(figsize=(6,3))\n",
    "plt.scatter(features_ranked_entropy.index, features_ranked_entropy.values, c=\"r\")\n",
    "plt.xlabel(\"Removed Feature\")\n",
    "plt.ylabel(\"Entropy of Dataset\");"
   ]
  },
  {
   "cell_type": "code",
   "execution_count": 8,
   "id": "842551a9",
   "metadata": {},
   "outputs": [
    {
     "name": "stdout",
     "output_type": "stream",
     "text": [
      "['RHOSTAR', 'BETASTAR', 'KAREA', 'EPS', 'NEL', 'PFLOSS', 'TAV', 'QCYL5', 'NUSTAR', 'Q95', 'MEFF', 'OMEGACYCL', 'BT', 'POHM', 'PLTH', 'PL', 'LCOULOMB', 'AMIN', 'PECRH', 'PNBI', 'PICRH', 'VOL', 'IP']\n"
     ]
    }
   ],
   "source": [
    "print(ordered_features,)"
   ]
  },
  {
   "cell_type": "code",
   "execution_count": 9,
   "id": "6560a65d",
   "metadata": {},
   "outputs": [
    {
     "data": {
      "text/plain": [
       "19    5.692192e+06\n",
       "20    5.689702e+06\n",
       "4     5.685327e+06\n",
       "5     5.680975e+06\n",
       "2     5.680968e+06\n",
       "15    5.679193e+06\n",
       "16    5.678132e+06\n",
       "18    5.674431e+06\n",
       "21    5.672934e+06\n",
       "7     5.670102e+06\n",
       "6     5.669056e+06\n",
       "22    5.664447e+06\n",
       "1     5.659372e+06\n",
       "10    5.657071e+06\n",
       "3     5.654913e+06\n",
       "14    5.654891e+06\n",
       "17    5.652926e+06\n",
       "8     5.652472e+06\n",
       "13    5.652299e+06\n",
       "11    5.645837e+06\n",
       "12    5.643341e+06\n",
       "9     5.623584e+06\n",
       "0     5.614396e+06\n",
       "dtype: float64"
      ]
     },
     "execution_count": 9,
     "metadata": {},
     "output_type": "execute_result"
    }
   ],
   "source": [
    "features_ranked_entropy"
   ]
  },
  {
   "cell_type": "markdown",
   "id": "bcb1b544",
   "metadata": {},
   "source": [
    "## CHOOSING FEATURES FOR CLUSTERING\n",
    "\n",
    "For this section, I am using K-means with K = 4. If analyses seem favorable, I will extend the study on the variation of K. \n",
    "\n",
    "#### Scattering Criteria \n",
    "\n",
    "This criteria makes use of multiple discriminant analysis to compute the scatter matrices. The scatter matrix for the $j$-th cluster is \n",
    "\n",
    "$$\n",
    "    P_j = \\sum_{x_i\\in\\chi_j}\\left(X_i - m_j\\right)\\left(X_i - m_j\\right)^T\n",
    "$$\n",
    "\n",
    "which is a square matrix of dimensions equal to the total number of observations belonging to the $j$-th clusters. The within-cluster scatter matrix is\n",
    "\n",
    "$$\n",
    "    P_w = \\sum^C_{j=1} P_j\n",
    "$$\n",
    "\n",
    "Where $C$ is the total number of clusters. The between-cluster scatter matrix is\n",
    "\n",
    "$$\n",
    "    P_B = \\sum^C_{j=1} \\left( m_j - m \\right)\\left( m_j - m \\right)^T\n",
    "$$\n",
    "\n",
    "With $m$ being the total mean vector. Then, one computes\n",
    "\n",
    "$$\n",
    "    tr(P^{-1}_wP_B) \n",
    "$$\n",
    "\n",
    "The higher the trace, the higher the quality of the clustering. "
   ]
  },
  {
   "cell_type": "code",
   "execution_count": 10,
   "id": "c1edfcf7",
   "metadata": {},
   "outputs": [
    {
     "ename": "NameError",
     "evalue": "name 'xxxxxxxxxxxxx' is not defined",
     "output_type": "error",
     "traceback": [
      "\u001b[0;31m---------------------------------------------------------------------------\u001b[0m",
      "\u001b[0;31mNameError\u001b[0m                                 Traceback (most recent call last)",
      "Cell \u001b[0;32mIn[10], line 1\u001b[0m\n\u001b[0;32m----> 1\u001b[0m \u001b[43mxxxxxxxxxxxxx\u001b[49m\n",
      "\u001b[0;31mNameError\u001b[0m: name 'xxxxxxxxxxxxx' is not defined"
     ]
    }
   ],
   "source": [
    "xxxxxxxxxxxxx"
   ]
  },
  {
   "cell_type": "code",
   "execution_count": null,
   "id": "df1aba4a",
   "metadata": {},
   "outputs": [],
   "source": [
    "n_clusters = 4\n",
    "Y_lbls = [0]*M\n",
    "\n",
    "for k,feature in enumerate(ordered_features):\n",
    "    X = data[ ordered_features[:k+1] ].to_numpy()\n",
    "    kmeans = KMeans(n_clusters=n_clusters)\n",
    "    kmeans.fit(X)\n",
    "    Y_lbls[k] = kmeans.predict(X)"
   ]
  },
  {
   "cell_type": "code",
   "execution_count": null,
   "id": "5b1403b7",
   "metadata": {},
   "outputs": [],
   "source": [
    "Pw = [0]*n_clusters; dim_per_cluster = [0]*n_clusters\n",
    "for num_cluster in range(n_clusters):\n",
    "    for i in range(M):\n",
    "        x = data[ ordered_features[:i+1] ].to_numpy()\n",
    "        y = Y_lbls[i]\n",
    "        df  = pd.DataFrame(x, columns=ordered_features[:i+1]); df[\"labels\"] = y\n",
    "        df_ = df[df.labels.isin([num_cluster])][ordered_features[:i+1]]\n",
    "        X_m = (df_ - df_.mean()).to_numpy()\n",
    "        Pj_ = np.matmul(X_m, X_m.T )\n",
    "    Pw[num_cluster] = Pj_; \n",
    "    dim_per_cluster[num_cluster] = len(Pj_[0])"
   ]
  },
  {
   "cell_type": "code",
   "execution_count": null,
   "id": "3dab8125",
   "metadata": {},
   "outputs": [],
   "source": [
    "max_dim = max(dim_per_cluster)\n",
    "# How to construct P_w when my clusters have different size??????"
   ]
  }
 ],
 "metadata": {
  "kernelspec": {
   "display_name": "Python 3 (ipykernel)",
   "language": "python",
   "name": "python3"
  },
  "language_info": {
   "codemirror_mode": {
    "name": "ipython",
    "version": 3
   },
   "file_extension": ".py",
   "mimetype": "text/x-python",
   "name": "python",
   "nbconvert_exporter": "python",
   "pygments_lexer": "ipython3",
   "version": "3.10.7"
  }
 },
 "nbformat": 4,
 "nbformat_minor": 5
}
