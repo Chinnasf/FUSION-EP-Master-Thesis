{
 "cells": [
  {
   "cell_type": "markdown",
   "id": "81a410de",
   "metadata": {},
   "source": [
    "Karina Chiñas Fuenes | 24/02/2023 | Universiteit Gent"
   ]
  },
  {
   "cell_type": "code",
   "execution_count": 1,
   "id": "6e291939",
   "metadata": {},
   "outputs": [],
   "source": [
    "%load_ext autoreload\n",
    "%autoreload 2"
   ]
  },
  {
   "cell_type": "markdown",
   "id": "b166576a",
   "metadata": {},
   "source": [
    "This notebook is based on the document:\n",
    "\n",
    "* _Feature Selection for Clustering_, [Manoranjan Dash and Huan Liu](https://www.public.asu.edu/~huanliu/papers/pakdd00clu.pdf), 2000."
   ]
  },
  {
   "cell_type": "code",
   "execution_count": 2,
   "id": "ffb9da84",
   "metadata": {},
   "outputs": [],
   "source": [
    "import numpy as np \n",
    "import pandas as pd\n",
    "import matplotlib.pyplot as plt\n",
    "import scipy as sp\n",
    "import statsmodels.api as sm\n",
    "import matplotlib.patches as mpatches\n",
    "\n",
    "import FeatureSelectTK as fs\n",
    "\n",
    "from sklearn.preprocessing import StandardScaler\n",
    "from sklearn.cluster import KMeans\n",
    "from yellowbrick.cluster import KElbowVisualizer\n",
    "from yellowbrick.cluster import SilhouetteVisualizer\n",
    "\n",
    "pd.set_option('display.max_columns', None)\n",
    "path = \"../../data/\""
   ]
  },
  {
   "cell_type": "code",
   "execution_count": 54,
   "id": "21cd04cb",
   "metadata": {},
   "outputs": [],
   "source": [
    "# Reading data and preparing it\n",
    "\n",
    "DB5 = pd.read_csv(path+\"DB5.csv\") #From DB5 dataset | log data\n",
    "subset_ids = pd.read_csv(path+\"R_ids_alpha_0.6556.csv\")\n",
    "data_complete = (DB5[DB5.id.isin(subset_ids.id.values)]).reset_index(drop=True)\n",
    "\n",
    "not_useful_cols = ['ind', 'id', 'PHASE', 'DATE', 'SHOT', 'TOK']\n",
    "all_cols = pd.Series(data_complete.columns)\n",
    "data = data_complete[ all_cols[~all_cols.isin(not_useful_cols)].values ]\n",
    "data = data.dropna(axis='columns')"
   ]
  },
  {
   "cell_type": "code",
   "execution_count": 55,
   "id": "3077e8d5",
   "metadata": {},
   "outputs": [
    {
     "data": {
      "text/plain": [
       "0       3.400\n",
       "1       2.550\n",
       "2       2.250\n",
       "3       3.350\n",
       "4       3.000\n",
       "        ...  \n",
       "1480    0.041\n",
       "1481    0.041\n",
       "1482    0.042\n",
       "1483    0.043\n",
       "1484    0.043\n",
       "Name: TIME, Length: 1485, dtype: float64"
      ]
     },
     "execution_count": 55,
     "metadata": {},
     "output_type": "execute_result"
    }
   ],
   "source": [
    "data[\"TIME\"]"
   ]
  },
  {
   "cell_type": "code",
   "execution_count": 4,
   "id": "ab8db1df",
   "metadata": {},
   "outputs": [],
   "source": [
    "# Standard Scaler\n",
    "X = StandardScaler().fit_transform(data)\n",
    "data = pd.DataFrame(X, columns=data.columns)\n",
    "\n",
    "N,M = data.shape"
   ]
  },
  {
   "cell_type": "markdown",
   "id": "8dab483b",
   "metadata": {},
   "source": [
    "## ENTROPY IN DATASET\n",
    "#### Using the concept of entropy to rank the importance of features.\n",
    "\n",
    "1. Computing the distance between two points with Euclidean distance:\n",
    "\n",
    "$$\n",
    "    D^k_{ij} = \\left( \\frac{ x_{ik} - x_{jk} }{ max(F_k) - min(F_k) } \\right)^2 \n",
    "$$\n",
    "\n",
    "$$\n",
    "    D_{ij} = \\left[ \\sum^M_{k=1} \\: D^k_{ij}\\right]^{1/2}\n",
    "$$\n",
    "\n",
    "Where $F_k$ is the $k$-th column representing the $k$-th feature. With $k=1,\\dots,M$ The $x_{ik}$ is the $i$-th point of the $k$-th feature; the same for $j$. With $i$,$j=1\\ldots,N$. And $N$ being the total points of observations.\n",
    "\n",
    "2. Computing the similarity between two points, as:\n",
    "\n",
    "$$\n",
    "    S_{ij} = e^{-\\alpha \\cdot D_{ij}}\n",
    "$$\n",
    "\n",
    "Where $\\alpha$ is a parameter. Here $\\alpha = 0.5$.\n",
    "\n",
    "3. The entropy of the dataset is thus:\n",
    "\n",
    "$$\n",
    "    E = -\\sum^N_{i=1}\\sum^N_{j=1} E_{ij}= -\\sum^N_{i=1}\\sum^N_{j=1}\\left[ S_{ij}\\cdot\\text{Log}\\left(S_{ij}\\right) +  \\left(1-S_{ij}\\right)\\cdot\\text{Log}\\left(1-S_{ij}\\right) \\right]\n",
    "$$\n",
    "\n",
    "In the expression above, $N$ corresponds to the total number of observations in dataset (rows). \n",
    "\n",
    "The ranking is done in an interative process: eliminate a column at a time and assess the disorder that the removal has caused by calculating the corresponding entropy. Let us sat that $E_{^-F_i} > E_{^-F_j}$ is the statement that the removal of feature $i$ of the dataset caused more disorder than the removal of feature $j$. One can then construct an array $\\vec{E_-} = \\{E_{F_k}\\}$, for $k=1,\\ldots,M$. Thus, the most important feature will be  max$(\\vec{E_-})$."
   ]
  },
  {
   "cell_type": "code",
   "execution_count": 5,
   "id": "66c49454",
   "metadata": {},
   "outputs": [],
   "source": [
    "# ranked features of dataframe based on their entropy of removal\n",
    "features_ranked_entropy = fs.get_ranked_features(data)\n",
    "feature_dic = dict( zip( list(range(M)), data.columns ) )\n",
    "ordered_features = list(features_ranked_entropy.index.map(feature_dic))"
   ]
  },
  {
   "cell_type": "code",
   "execution_count": 6,
   "id": "968c49c2",
   "metadata": {},
   "outputs": [
    {
     "data": {
      "image/png": "[encoded data removed]",
      "text/plain": [
       "<Figure size 600x300 with 1 Axes>"
      ]
     },
     "metadata": {},
     "output_type": "display_data"
    }
   ],
   "source": [
    "plt.figure(figsize=(6,3))\n",
    "plt.scatter(features_ranked_entropy.index, features_ranked_entropy.values, c=\"r\")\n",
    "plt.xlabel(\"Removed Feature\")\n",
    "plt.ylabel(\"Entropy of Dataset\");"
   ]
  },
  {
   "cell_type": "code",
   "execution_count": 53,
   "id": "842551a9",
   "metadata": {},
   "outputs": [
    {
     "name": "stdout",
     "output_type": "stream",
     "text": [
      "['RGEO', 'VOL', 'AMIN', 'BETASTAR', 'IP', 'RHOSTAR', 'EPS', 'TAUBOHM', 'TAUTH', 'KAREA', 'NEL', 'TIME', 'OMEGACYCL', 'MEFF', 'Q95', 'TAV', 'PLTH', 'QCYL5', 'PL', 'PNBI', 'PICRH', 'NUSTAR', 'LCOULOMB', 'BT', 'POHM', 'PECRH', 'PFLOSS']\n"
     ]
    }
   ],
   "source": [
    "print(ordered_features,)"
   ]
  },
  {
   "cell_type": "markdown",
   "id": "bcb1b544",
   "metadata": {},
   "source": [
    "## CHOOSING FEATURES FOR CLUSTERING\n",
    "\n",
    "For this section, I am using K-means with K = 4. If analyses seem favorable, I will extend the study on the variation of K. \n",
    "\n",
    "#### Scattering Criteria \n",
    "\n",
    "This criteria makes use of multiple discriminant analysis to compute the scatter matrices. The scatter matrix for the $j$-th cluster is \n",
    "\n",
    "$$\n",
    "    P_j = \\sum_{x_i\\in\\chi_j}\\left(X_i - m_j\\right)\\left(X_i - m_j\\right)^T\n",
    "$$\n",
    "\n",
    "which is a square matrix of dimensions equal to the total number of observations belonging to the $j$-th clusters. The within-cluster scatter matrix is\n",
    "\n",
    "$$\n",
    "    P_w = \\sum^C_{j=1} P_j\n",
    "$$\n",
    "\n",
    "Where $C$ is the total number of clusters. The between-cluster scatter matrix is\n",
    "\n",
    "$$\n",
    "    P_B = \\sum^C_{j=1} \\left( m_j - m \\right)\\left( m_j - m \\right)^T\n",
    "$$\n",
    "\n",
    "With $m$ being the total mean vector. Then, one computes\n",
    "\n",
    "$$\n",
    "    tr(P^{-1}_wP_B) \n",
    "$$\n",
    "\n",
    "The higher the trace, the higher the quality of the clustering. "
   ]
  },
  {
   "cell_type": "code",
   "execution_count": 7,
   "id": "df1aba4a",
   "metadata": {},
   "outputs": [],
   "source": [
    "n_clusters = 4\n",
    "Y_lbls = [0]*M\n",
    "\n",
    "for k,feature in enumerate(ordered_features):\n",
    "    X = data[ ordered_features[:k+1] ].to_numpy()\n",
    "    kmeans = KMeans(n_clusters=n_clusters)\n",
    "    kmeans.fit(X)\n",
    "    Y_lbls[k] = kmeans.predict(X)"
   ]
  },
  {
   "cell_type": "code",
   "execution_count": 48,
   "id": "5b1403b7",
   "metadata": {},
   "outputs": [],
   "source": [
    "Pw = [0]*n_clusters; dim_per_cluster = [0]*n_clusters\n",
    "for num_cluster in range(n_clusters):\n",
    "    for i in range(M):\n",
    "        x = data[ ordered_features[:i+1] ].to_numpy()\n",
    "        y = Y_lbls[i]\n",
    "        df  = pd.DataFrame(x, columns=ordered_features[:i+1]); df[\"labels\"] = y\n",
    "        df_ = df[df.labels.isin([num_cluster])][ordered_features[:i+1]]\n",
    "        X_m = (df_ - df_.mean()).to_numpy()\n",
    "        Pj_ = np.matmul(X_m, X_m.T )\n",
    "    Pw[num_cluster] = Pj_; \n",
    "    dim_per_cluster[num_cluster] = len(Pj_[0])"
   ]
  },
  {
   "cell_type": "code",
   "execution_count": 51,
   "id": "3dab8125",
   "metadata": {},
   "outputs": [],
   "source": [
    "max_dim = max(dim_per_cluster)\n",
    "# How to construct P_w when my clusters have different size??????"
   ]
  }
 ],
 "metadata": {
  "kernelspec": {
   "display_name": "Python 3 (ipykernel)",
   "language": "python",
   "name": "python3"
  },
  "language_info": {
   "codemirror_mode": {
    "name": "ipython",
    "version": 3
   },
   "file_extension": ".py",
   "mimetype": "text/x-python",
   "name": "python",
   "nbconvert_exporter": "python",
   "pygments_lexer": "ipython3",
   "version": "3.10.7"
  }
 },
 "nbformat": 4,
 "nbformat_minor": 5
}
