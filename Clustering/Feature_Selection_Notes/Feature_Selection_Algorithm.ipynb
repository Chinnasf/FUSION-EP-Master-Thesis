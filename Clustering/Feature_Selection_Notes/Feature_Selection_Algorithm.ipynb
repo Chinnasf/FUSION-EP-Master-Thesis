{
 "cells": [
  {
   "cell_type": "markdown",
   "id": "81a410de",
   "metadata": {},
   "source": [
    "Karina Chiñas Fuenes | 24/02/2023 | Universiteit Gent"
   ]
  },
  {
   "cell_type": "code",
   "execution_count": 1,
   "id": "6e291939",
   "metadata": {},
   "outputs": [],
   "source": [
    "%load_ext autoreload\n",
    "%autoreload 2"
   ]
  },
  {
   "cell_type": "markdown",
   "id": "b166576a",
   "metadata": {},
   "source": [
    "This notebook is based on the document:\n",
    "\n",
    "* _Feature Selection for Clustering_, [Manoranjan Dash and Huan Liu](https://www.public.asu.edu/~huanliu/papers/pakdd00clu.pdf), 2000."
   ]
  },
  {
   "cell_type": "code",
   "execution_count": 2,
   "id": "ffb9da84",
   "metadata": {},
   "outputs": [],
   "source": [
    "import numpy as np \n",
    "import pandas as pd\n",
    "import matplotlib.pyplot as plt\n",
    "import scipy as sp\n",
    "import statsmodels.api as sm\n",
    "import matplotlib.patches as mpatches\n",
    "\n",
    "import FeatureSelectTK as fs\n",
    "\n",
    "from sklearn.preprocessing import StandardScaler\n",
    "from sklearn.cluster import KMeans\n",
    "from yellowbrick.cluster import KElbowVisualizer\n",
    "from yellowbrick.cluster import SilhouetteVisualizer\n",
    "\n",
    "pd.set_option('display.max_columns', None)\n",
    "path = \"../../data/\""
   ]
  },
  {
   "cell_type": "code",
   "execution_count": 3,
   "id": "21cd04cb",
   "metadata": {},
   "outputs": [],
   "source": [
    "# Reading data and preparing it\n",
    "\n",
    "R = pd.read_csv(path+\"R.csv\") #From DB5 dataset | log data\n",
    "subset_ids = pd.read_csv(path+\"R_ids_alpha_0.6556.csv\")\n",
    "data_complete = (R[R.id.isin(subset_ids.id.values)]).reset_index(drop=True)\n",
    "\n",
    "not_useful_cols = ['ind', 'id', 'PHASE', 'DATE', 'SHOT', 'TOK']\n",
    "all_cols = pd.Series(data_complete.columns)\n",
    "data = data_complete[ all_cols[~all_cols.isin(not_useful_cols)].values ]\n",
    "data = data.dropna(axis='columns')\n",
    "\n",
    "# Standard Scaler\n",
    "X = StandardScaler().fit_transform(data)\n",
    "data = pd.DataFrame(X, columns=data.columns)\n",
    "\n",
    "N,M = data.shape"
   ]
  },
  {
   "cell_type": "markdown",
   "id": "8dab483b",
   "metadata": {},
   "source": [
    "## ENTROPY IN DATASET\n",
    "#### Using the concept of entropy to rank the importance of features.\n",
    "\n",
    "1. Computing the distance between two points with Euclidean distance:\n",
    "\n",
    "$$\n",
    "    D^k_{ij} = \\left( \\frac{ x_{ik} - x_{jk} }{ max(F_k) - min(F_k) } \\right)^2 \n",
    "$$\n",
    "\n",
    "$$\n",
    "    D_{ij} = \\left[ \\sum^M_{k=1} \\: D^k_{ij}\\right]^{1/2}\n",
    "$$\n",
    "\n",
    "Where $F_k$ is the $k$-th column representing the $k$-th feature. With $k=1,\\dots,M$ The $x_{ik}$ is the $i$-th point of the $k$-th feature; the same for $j$. With $i$,$j=1\\ldots,N$. And $N$ being the total points of observations.\n",
    "\n",
    "2. Computing the similarity between two points, as:\n",
    "\n",
    "$$\n",
    "    S_{ij} = e^{-\\alpha \\cdot D_{ij}}\n",
    "$$\n",
    "\n",
    "Where $\\alpha$ is a parameter. Here $\\alpha = 0.5$.\n",
    "\n",
    "3. The entropy of the dataset is thus:\n",
    "\n",
    "$$\n",
    "    E = -\\sum^N_{i=1}\\sum^N_{j=1} E_{ij}= -\\sum^N_{i=1}\\sum^N_{j=1}\\left[ S_{ij}\\cdot\\text{Log}\\left(S_{ij}\\right) +  \\left(1-S_{ij}\\right)\\cdot\\text{Log}\\left(1-S_{ij}\\right) \\right]\n",
    "$$\n",
    "\n",
    "In the expression above, $N$ corresponds to the total number of observations in dataset (rows). \n",
    "\n",
    "The ranking is done in an interative process: eliminate a column at a time and assess the disorder that the removal has caused by calculating the corresponding entropy. Let us sat that $E_{^-F_i} > E_{^-F_j}$ is the statement that the removal of feature $i$ of the dataset caused more disorder than the removal of feature $j$. One can then construct an array $\\vec{E_-} = \\{E_{F_k}\\}$, for $k=1,\\ldots,M$. Thus, the most important feature will be  max$(\\vec{E_-})$."
   ]
  },
  {
   "cell_type": "code",
   "execution_count": 4,
   "id": "66c49454",
   "metadata": {},
   "outputs": [],
   "source": [
    "# ranked features of dataframe based on their entropy of removal\n",
    "features_ranked_entropy = fs.get_ranked_features(data)\n",
    "feature_dic = dict( zip( list(range(M)), data.columns ) )\n",
    "ordered_features = list(features_ranked_entropy.index.map(feature_dic))"
   ]
  },
  {
   "cell_type": "code",
   "execution_count": 5,
   "id": "968c49c2",
   "metadata": {},
   "outputs": [
    {
     "data": {
      "image/png": "[encoded data removed]",
      "text/plain": [
       "<Figure size 600x300 with 1 Axes>"
      ]
     },
     "metadata": {},
     "output_type": "display_data"
    }
   ],
   "source": [
    "plt.figure(figsize=(6,3))\n",
    "plt.scatter(features_ranked_entropy.index, features_ranked_entropy.values, c=\"r\")\n",
    "plt.xlabel(\"Removed Feature\")\n",
    "plt.ylabel(\"Entropy of Dataset\");"
   ]
  },
  {
   "cell_type": "markdown",
   "id": "bcb1b544",
   "metadata": {},
   "source": [
    "## CHOOSING FEATURES FOR CLUSTERING\n",
    "\n",
    "For this section, I am using K-means with K = 4. If analyses seem favorable, I will extend the study on the variation of K. \n",
    "\n",
    "#### Scattering Criteria "
   ]
  },
  {
   "cell_type": "code",
   "execution_count": 7,
   "id": "df1aba4a",
   "metadata": {},
   "outputs": [],
   "source": [
    "n_clusters = 4\n",
    "Y_lbls = [0]*M\n",
    "\n",
    "for k,feature in enumerate(ordered_features):\n",
    "    X = data[ ordered_features[:k+1] ].to_numpy()\n",
    "    kmeans = KMeans(n_clusters=n_clusters)\n",
    "    kmeans.fit(X)\n",
    "    Y_lbls[k] = kmeans.predict(X)"
   ]
  },
  {
   "cell_type": "code",
   "execution_count": 33,
   "id": "f55055d8",
   "metadata": {},
   "outputs": [
    {
     "data": {
      "text/plain": [
       "(568, 568)"
      ]
     },
     "execution_count": 33,
     "metadata": {},
     "output_type": "execute_result"
    }
   ],
   "source": [
    "x = data[ ordered_features[:2] ].to_numpy()\n",
    "y = Y_lbls[1]\n",
    "\n",
    "df = pd.DataFrame(x, columns=ordered_features[:2])\n",
    "df[\"labels\"] = y\n",
    "df_0 = df[df.labels.isin([0])][ordered_features[:2]]\n",
    "df0_subs_mean = df_0 - df_0.mean()\n",
    "P_j0 = np.matmul( df0_subs_mean.to_numpy(), df0_subs_mean.to_numpy().T )\n",
    "P_j0.shape"
   ]
  },
  {
   "cell_type": "code",
   "execution_count": 29,
   "id": "59ec5a0a",
   "metadata": {},
   "outputs": [
    {
     "data": {
      "text/html": [
       "<div>\n",
       "<style scoped>\n",
       "    .dataframe tbody tr th:only-of-type {\n",
       "        vertical-align: middle;\n",
       "    }\n",
       "\n",
       "    .dataframe tbody tr th {\n",
       "        vertical-align: top;\n",
       "    }\n",
       "\n",
       "    .dataframe thead th {\n",
       "        text-align: right;\n",
       "    }\n",
       "</style>\n",
       "<table border=\"1\" class=\"dataframe\">\n",
       "  <thead>\n",
       "    <tr style=\"text-align: right;\">\n",
       "      <th></th>\n",
       "      <th>RGEO</th>\n",
       "      <th>EPS</th>\n",
       "    </tr>\n",
       "  </thead>\n",
       "  <tbody>\n",
       "    <tr>\n",
       "      <th>829</th>\n",
       "      <td>-0.027772</td>\n",
       "      <td>1.031346</td>\n",
       "    </tr>\n",
       "    <tr>\n",
       "      <th>830</th>\n",
       "      <td>-0.027772</td>\n",
       "      <td>1.026820</td>\n",
       "    </tr>\n",
       "    <tr>\n",
       "      <th>831</th>\n",
       "      <td>-0.025906</td>\n",
       "      <td>1.032374</td>\n",
       "    </tr>\n",
       "    <tr>\n",
       "      <th>832</th>\n",
       "      <td>-0.023109</td>\n",
       "      <td>1.022616</td>\n",
       "    </tr>\n",
       "    <tr>\n",
       "      <th>833</th>\n",
       "      <td>-0.022178</td>\n",
       "      <td>1.016346</td>\n",
       "    </tr>\n",
       "    <tr>\n",
       "      <th>...</th>\n",
       "      <td>...</td>\n",
       "      <td>...</td>\n",
       "    </tr>\n",
       "    <tr>\n",
       "      <th>1392</th>\n",
       "      <td>0.347212</td>\n",
       "      <td>-1.208240</td>\n",
       "    </tr>\n",
       "    <tr>\n",
       "      <th>1393</th>\n",
       "      <td>0.363408</td>\n",
       "      <td>-1.189724</td>\n",
       "    </tr>\n",
       "    <tr>\n",
       "      <th>1394</th>\n",
       "      <td>0.363408</td>\n",
       "      <td>-1.201890</td>\n",
       "    </tr>\n",
       "    <tr>\n",
       "      <th>1395</th>\n",
       "      <td>0.363408</td>\n",
       "      <td>-1.183652</td>\n",
       "    </tr>\n",
       "    <tr>\n",
       "      <th>1396</th>\n",
       "      <td>0.363408</td>\n",
       "      <td>-1.183652</td>\n",
       "    </tr>\n",
       "  </tbody>\n",
       "</table>\n",
       "<p>568 rows × 2 columns</p>\n",
       "</div>"
      ],
      "text/plain": [
       "          RGEO       EPS\n",
       "829  -0.027772  1.031346\n",
       "830  -0.027772  1.026820\n",
       "831  -0.025906  1.032374\n",
       "832  -0.023109  1.022616\n",
       "833  -0.022178  1.016346\n",
       "...        ...       ...\n",
       "1392  0.347212 -1.208240\n",
       "1393  0.363408 -1.189724\n",
       "1394  0.363408 -1.201890\n",
       "1395  0.363408 -1.183652\n",
       "1396  0.363408 -1.183652\n",
       "\n",
       "[568 rows x 2 columns]"
      ]
     },
     "execution_count": 29,
     "metadata": {},
     "output_type": "execute_result"
    }
   ],
   "source": []
  },
  {
   "cell_type": "code",
   "execution_count": null,
   "id": "e5fdc38d",
   "metadata": {},
   "outputs": [],
   "source": []
  }
 ],
 "metadata": {
  "kernelspec": {
   "display_name": "Python 3 (ipykernel)",
   "language": "python",
   "name": "python3"
  },
  "language_info": {
   "codemirror_mode": {
    "name": "ipython",
    "version": 3
   },
   "file_extension": ".py",
   "mimetype": "text/x-python",
   "name": "python",
   "nbconvert_exporter": "python",
   "pygments_lexer": "ipython3",
   "version": "3.10.7"
  }
 },
 "nbformat": 4,
 "nbformat_minor": 5
}
