{
 "cells": [
  {
   "cell_type": "code",
   "execution_count": 1,
   "id": "9ad1b24f",
   "metadata": {},
   "outputs": [],
   "source": [
    "%load_ext autoreload\n",
    "%autoreload 2"
   ]
  },
  {
   "cell_type": "code",
   "execution_count": 2,
   "id": "5abf808d",
   "metadata": {},
   "outputs": [],
   "source": [
    "import numpy as np \n",
    "import pandas as pd\n",
    "import matplotlib.pyplot as plt\n",
    "import scipy as sp\n",
    "import statsmodels.api as sm\n",
    "\n",
    "import matplotlib.patches as mpatches\n",
    "\n",
    "from scipy.optimize import curve_fit\n",
    "from sklearn.linear_model import LinearRegression\n",
    "from sklearn.preprocessing import StandardScaler\n",
    "from sklearn.cluster import DBSCAN\n",
    "from collections import Counter\n",
    "\n",
    "pd.set_option('display.max_columns', None)\n",
    "\n",
    "eng_coeffs = ['IP', 'BT', 'NEL', 'PLTH', 'RGEO', 'KAREA', 'EPS', 'MEFF']\n",
    "dmn_coeffs = ['RHOSTAR', 'BETASTAR', 'NUSTAR', 'QCYL5']\n",
    "\n",
    "path=\"../../data/\""
   ]
  },
  {
   "cell_type": "code",
   "execution_count": 3,
   "id": "ca40756b",
   "metadata": {},
   "outputs": [],
   "source": [
    "DB5 = pd.read_csv(path+\"DB5.csv\")\n",
    "\n",
    "subset_ids = pd.read_csv(path+\"R_ids_alpha_0.9998.csv\")"
   ]
  },
  {
   "cell_type": "code",
   "execution_count": 4,
   "id": "cc3b5db8",
   "metadata": {},
   "outputs": [],
   "source": [
    "# Data with columns that can be used for clustering\n",
    "data = DB5[DB5.id.isin(subset_ids.id.values)]\n",
    "data = data[data.columns[4:]]\n",
    "data.drop(['SHOT','TIME','DATE'], axis=1, inplace=True)\n",
    "data.reset_index(drop=True, inplace=True)\n",
    "data.dropna(axis='columns', inplace=True) # Dropping columns with at least one value missing"
   ]
  },
  {
   "cell_type": "code",
   "execution_count": 5,
   "id": "c5d24d88",
   "metadata": {},
   "outputs": [],
   "source": [
    "#features = ['BETASTAR', 'RHOSTAR', 'EPS', 'TAUBOHM', 'KAREA', 'NEL', 'TAUTH', 'RGEO'] # Entropy\n",
    "features = ['TAUTH','NEL','TAV','BT','RHOSTAR','NUSTAR','BETASTAR'] # Research"
   ]
  },
  {
   "cell_type": "code",
   "execution_count": 6,
   "id": "1d35c0b7",
   "metadata": {},
   "outputs": [],
   "source": [
    "data_cl = data[features].apply(np.abs).apply(np.log)\n",
    "data_cl = StandardScaler().fit_transform(data_cl)\n",
    "data_cl = pd.DataFrame(data_cl, columns=features)"
   ]
  },
  {
   "cell_type": "markdown",
   "id": "1b3ea173",
   "metadata": {},
   "source": [
    "Following function based on: [Sushil Deore, 2020](https://sushildeore99.medium.com/really-what-is-hopkins-statistic-bad1265df4b)"
   ]
  },
  {
   "cell_type": "code",
   "execution_count": 7,
   "id": "b7d8d642",
   "metadata": {},
   "outputs": [],
   "source": [
    "from sklearn.neighbors import NearestNeighbors\n",
    "from random import sample\n",
    "from math import isnan\n",
    "\n",
    "np.random.seed(71)\n",
    "\n",
    "def Hopkins_Statistic(X): \n",
    "    \"\"\"\n",
    "    Expects Dataframe.\n",
    "    \n",
    "    Compares given data to random data that contains no cluster tendency,\n",
    "    or properties using NearestNeighbors.  \n",
    "    \n",
    "    The result is a the percentage. This percentage is how differente the\n",
    "    given data is to the random scattered data. \n",
    "    \n",
    "    If H < 0.5: \n",
    "        unlikely that the given data has statistically significant clusters.\n",
    "    Else:\n",
    "        likely that the given data has statistically significant clusters.\n",
    "        \n",
    "    Therefore, if H ~ 1, then the dataset is significantly clusterable. \n",
    "    \"\"\"\n",
    "    n, d = X.shape\n",
    "    m = int(0.1 * n)\n",
    "    nbrs = NearestNeighbors(n_neighbors=1).fit(X.values)\n",
    "    \n",
    "    rand_X = sample(range(0,n,1), m)\n",
    "    \n",
    "    ujd = []\n",
    "    wjd = []\n",
    "    for j in range(0, m):\n",
    "        u_dist, _ = (nbrs.kneighbors(np.random.uniform(np.amin( X, axis=0 ),\n",
    "                                             np.amax( X, axis=0 ),\n",
    "                                             d\n",
    "                                            ).reshape(1, -1), \n",
    "                                     2, \n",
    "                                     return_distance=True)\n",
    "                    )\n",
    "        ujd.append(u_dist[0][1])\n",
    "        w_dist, _ = (nbrs.kneighbors(X.iloc[rand_X[j]].values.reshape(1, -1),\n",
    "                                     2, \n",
    "                                     return_distance=True)\n",
    "                    )\n",
    "        wjd.append(w_dist[0][1])\n",
    "    H = sum(ujd) / (sum(ujd) + sum(wjd))\n",
    "    if isnan(H):\n",
    "        print(ujd, wjd)\n",
    "        H = 0\n",
    "    return H"
   ]
  },
  {
   "cell_type": "code",
   "execution_count": 8,
   "id": "57702048",
   "metadata": {},
   "outputs": [
    {
     "data": {
      "text/plain": [
       "0.9645303529563176"
      ]
     },
     "execution_count": 8,
     "metadata": {},
     "output_type": "execute_result"
    }
   ],
   "source": [
    "# The whole dataset is clusterable\n",
    "Hopkins_Statistic(data)"
   ]
  },
  {
   "cell_type": "code",
   "execution_count": 9,
   "id": "de56ff11",
   "metadata": {},
   "outputs": [
    {
     "data": {
      "text/plain": [
       "0.9486352242984367"
      ]
     },
     "execution_count": 9,
     "metadata": {},
     "output_type": "execute_result"
    }
   ],
   "source": [
    "Hopkins_Statistic(data_cl)"
   ]
  },
  {
   "cell_type": "code",
   "execution_count": 10,
   "id": "ccfc95c0",
   "metadata": {},
   "outputs": [],
   "source": [
    "# Complete Dataset  = 0.9749382627806085 | All numeric\n",
    "\n",
    "# Entropy Features  = 0.9644433188916054\n",
    "\n",
    "# Research Features = 0.9587835352350436"
   ]
  }
 ],
 "metadata": {
  "kernelspec": {
   "display_name": "Python 3 (ipykernel)",
   "language": "python",
   "name": "python3"
  },
  "language_info": {
   "codemirror_mode": {
    "name": "ipython",
    "version": 3
   },
   "file_extension": ".py",
   "mimetype": "text/x-python",
   "name": "python",
   "nbconvert_exporter": "python",
   "pygments_lexer": "ipython3",
   "version": "3.10.7"
  }
 },
 "nbformat": 4,
 "nbformat_minor": 5
}
