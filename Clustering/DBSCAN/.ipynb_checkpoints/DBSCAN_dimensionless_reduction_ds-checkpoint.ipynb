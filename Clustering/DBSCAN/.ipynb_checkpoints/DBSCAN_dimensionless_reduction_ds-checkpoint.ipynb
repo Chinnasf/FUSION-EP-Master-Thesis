{
 "cells": [
  {
   "cell_type": "code",
   "execution_count": 1,
   "id": "4efd0b1c",
   "metadata": {},
   "outputs": [],
   "source": [
    "%load_ext autoreload\n",
    "%autoreload 2"
   ]
  },
  {
   "cell_type": "code",
   "execution_count": 2,
   "id": "4f86e982",
   "metadata": {},
   "outputs": [],
   "source": [
    "import numpy as np \n",
    "import pandas as pd\n",
    "import matplotlib.pyplot as plt\n",
    "import scipy as sp\n",
    "import statsmodels.api as sm\n",
    "\n",
    "import matplotlib.patches as mpatches\n",
    "\n",
    "from scipy.optimize import curve_fit\n",
    "from sklearn.linear_model import LinearRegression\n",
    "from sklearn.preprocessing import StandardScaler\n",
    "from sklearn.neighbors import NearestNeighbors\n",
    "from sklearn.cluster import DBSCAN\n",
    "from collections import Counter\n",
    "\n",
    "from kneebow.rotor import Rotor\n",
    "\n",
    "eng_coeffs = ['IP', 'BT', 'NEL', 'PLTH', 'RGEO', 'KAREA', 'EPS', 'MEFF']\n",
    "dmn_coeffs = ['RHOSTAR', 'BETASTAR', 'NUSTAR', 'QCYL5']"
   ]
  },
  {
   "cell_type": "markdown",
   "id": "95c8aa3c",
   "metadata": {},
   "source": [
    "### DBSCAN Applied only to DB5 Observations"
   ]
  },
  {
   "cell_type": "code",
   "execution_count": 19,
   "id": "158fbc26",
   "metadata": {},
   "outputs": [],
   "source": [
    "R = pd.read_csv(\"../data/R.csv\") #reintroduce dataset | log data\n",
    "subset_ids = pd.read_csv(\"../data/R_ids_alpha_0.6556.csv\")\n",
    "data = R[R.id.isin(subset_ids.id.values)]\n",
    "\n",
    "DB5 = pd.read_csv(\"../data/DB5.csv\")"
   ]
  },
  {
   "cell_type": "code",
   "execution_count": 17,
   "id": "50722b83",
   "metadata": {},
   "outputs": [
    {
     "data": {
      "text/plain": [
       "Index(['ind', 'id', 'PHASE', 'TOK', 'IP', 'BT', 'NEL', 'PLTH', 'RGEO', 'KAREA',\n",
       "       'EPS', 'MEFF', 'TAUTH', 'DATE', 'SHOT', 'TIME', 'Q95', 'ZEFF', 'AMIN',\n",
       "       'VOL', 'POHM', 'PNBI', 'DWDIA', 'DWMHD', 'PICRH', 'PECRH', 'PL',\n",
       "       'PFLOSS', 'TAV', 'LCOULOMB', 'QCYL5', 'TAUBOHM', 'RHOSTAR', 'BETASTAR',\n",
       "       'NUSTAR', 'OMEGACYCL'],\n",
       "      dtype='object')"
      ]
     },
     "execution_count": 17,
     "metadata": {},
     "output_type": "execute_result"
    }
   ],
   "source": [
    "R.columns"
   ]
  },
  {
   "cell_type": "code",
   "execution_count": 20,
   "id": "13b6d371",
   "metadata": {},
   "outputs": [
    {
     "data": {
      "text/plain": [
       "Index(['ind', 'id', 'PHASE', 'TOK', 'IP', 'BT', 'NEL', 'PLTH', 'RGEO', 'KAREA',\n",
       "       'EPS', 'MEFF', 'TAUTH', 'DATE', 'SHOT', 'TIME', 'Q95', 'ZEFF', 'AMIN',\n",
       "       'VOL', 'POHM', 'PNBI', 'DWDIA', 'DWMHD', 'PICRH', 'PECRH', 'PL',\n",
       "       'PFLOSS', 'TAV', 'LCOULOMB', 'QCYL5', 'TAUBOHM', 'RHOSTAR', 'BETASTAR',\n",
       "       'NUSTAR', 'OMEGACYCL'],\n",
       "      dtype='object')"
      ]
     },
     "execution_count": 20,
     "metadata": {},
     "output_type": "execute_result"
    }
   ],
   "source": [
    "DB5.columns"
   ]
  },
  {
   "cell_type": "code",
   "execution_count": 4,
   "id": "f17f4359",
   "metadata": {},
   "outputs": [
    {
     "data": {
      "text/plain": [
       "array(['AUG', 'AUGW', 'CMOD', 'D3D', 'JET', 'JETILW', 'JT60U', 'MAST',\n",
       "       'NSTX', 'START'], dtype=object)"
      ]
     },
     "execution_count": 4,
     "metadata": {},
     "output_type": "execute_result"
    }
   ],
   "source": [
    "# 'MAST', 'NSTX': are spherical tokamaks\n",
    "data.TOK.unique()"
   ]
  },
  {
   "cell_type": "code",
   "execution_count": 5,
   "id": "a8091f6f",
   "metadata": {},
   "outputs": [
    {
     "data": {
      "text/html": [
       "<div>\n",
       "<style scoped>\n",
       "    .dataframe tbody tr th:only-of-type {\n",
       "        vertical-align: middle;\n",
       "    }\n",
       "\n",
       "    .dataframe tbody tr th {\n",
       "        vertical-align: top;\n",
       "    }\n",
       "\n",
       "    .dataframe thead th {\n",
       "        text-align: right;\n",
       "    }\n",
       "</style>\n",
       "<table border=\"1\" class=\"dataframe\">\n",
       "  <thead>\n",
       "    <tr style=\"text-align: right;\">\n",
       "      <th></th>\n",
       "      <th>RHOSTAR</th>\n",
       "      <th>BETASTAR</th>\n",
       "      <th>NUSTAR</th>\n",
       "      <th>QCYL5</th>\n",
       "    </tr>\n",
       "  </thead>\n",
       "  <tbody>\n",
       "    <tr>\n",
       "      <th>0</th>\n",
       "      <td>-0.116968</td>\n",
       "      <td>-0.657922</td>\n",
       "      <td>0.555033</td>\n",
       "      <td>0.198585</td>\n",
       "    </tr>\n",
       "    <tr>\n",
       "      <th>1</th>\n",
       "      <td>-0.155767</td>\n",
       "      <td>-0.241961</td>\n",
       "      <td>1.060010</td>\n",
       "      <td>-0.011418</td>\n",
       "    </tr>\n",
       "    <tr>\n",
       "      <th>2</th>\n",
       "      <td>-0.663607</td>\n",
       "      <td>-1.058601</td>\n",
       "      <td>1.153038</td>\n",
       "      <td>-0.026824</td>\n",
       "    </tr>\n",
       "    <tr>\n",
       "      <th>3</th>\n",
       "      <td>-0.725039</td>\n",
       "      <td>-1.085571</td>\n",
       "      <td>1.260447</td>\n",
       "      <td>-0.016868</td>\n",
       "    </tr>\n",
       "    <tr>\n",
       "      <th>4</th>\n",
       "      <td>0.200436</td>\n",
       "      <td>-0.545521</td>\n",
       "      <td>0.633481</td>\n",
       "      <td>0.244742</td>\n",
       "    </tr>\n",
       "    <tr>\n",
       "      <th>...</th>\n",
       "      <td>...</td>\n",
       "      <td>...</td>\n",
       "      <td>...</td>\n",
       "      <td>...</td>\n",
       "    </tr>\n",
       "    <tr>\n",
       "      <th>1480</th>\n",
       "      <td>4.558633</td>\n",
       "      <td>3.039282</td>\n",
       "      <td>-0.449193</td>\n",
       "      <td>-2.389950</td>\n",
       "    </tr>\n",
       "    <tr>\n",
       "      <th>1481</th>\n",
       "      <td>4.404344</td>\n",
       "      <td>2.880376</td>\n",
       "      <td>-0.160882</td>\n",
       "      <td>-2.019079</td>\n",
       "    </tr>\n",
       "    <tr>\n",
       "      <th>1482</th>\n",
       "      <td>4.554173</td>\n",
       "      <td>2.926243</td>\n",
       "      <td>-0.526049</td>\n",
       "      <td>-2.677121</td>\n",
       "    </tr>\n",
       "    <tr>\n",
       "      <th>1483</th>\n",
       "      <td>4.324162</td>\n",
       "      <td>2.683903</td>\n",
       "      <td>-0.140979</td>\n",
       "      <td>-2.672350</td>\n",
       "    </tr>\n",
       "    <tr>\n",
       "      <th>1484</th>\n",
       "      <td>4.437725</td>\n",
       "      <td>2.524294</td>\n",
       "      <td>-0.517669</td>\n",
       "      <td>-2.547334</td>\n",
       "    </tr>\n",
       "  </tbody>\n",
       "</table>\n",
       "<p>1485 rows × 4 columns</p>\n",
       "</div>"
      ],
      "text/plain": [
       "       RHOSTAR  BETASTAR    NUSTAR     QCYL5\n",
       "0    -0.116968 -0.657922  0.555033  0.198585\n",
       "1    -0.155767 -0.241961  1.060010 -0.011418\n",
       "2    -0.663607 -1.058601  1.153038 -0.026824\n",
       "3    -0.725039 -1.085571  1.260447 -0.016868\n",
       "4     0.200436 -0.545521  0.633481  0.244742\n",
       "...        ...       ...       ...       ...\n",
       "1480  4.558633  3.039282 -0.449193 -2.389950\n",
       "1481  4.404344  2.880376 -0.160882 -2.019079\n",
       "1482  4.554173  2.926243 -0.526049 -2.677121\n",
       "1483  4.324162  2.683903 -0.140979 -2.672350\n",
       "1484  4.437725  2.524294 -0.517669 -2.547334\n",
       "\n",
       "[1485 rows x 4 columns]"
      ]
     },
     "execution_count": 5,
     "metadata": {},
     "output_type": "execute_result"
    }
   ],
   "source": [
    "# Scaled data\n",
    "X = StandardScaler().fit_transform(data[dmn_coeffs])\n",
    "pd.DataFrame(X, columns=dmn_coeffs)"
   ]
  },
  {
   "cell_type": "markdown",
   "id": "69051a80",
   "metadata": {},
   "source": [
    "## The choosing of the parameters\n",
    "\n",
    "* It is recommended that $minPts = 2\\cdot d$; where $d$ is the dimension of the data (Sander et al., 1998).\n",
    "* Now one can use this to determine $\\epsilon$.\n",
    "    1. Calculate the average distance between each point and its k-nearest neighbor: with $k = minPts$. \n",
    "    2. Plot the average distance in ascending order, on a k-distance graph. \n",
    "    3. Optimal value of $\\epsilon$ is the point of maximum curvature.\n",
    "        - This point represents the optimization point where diminishing results are no longer worth the additional cost. This reasoning is valid since the increasment of the number of clusters will lead to a tendency of overfitting.  "
   ]
  },
  {
   "cell_type": "code",
   "execution_count": 6,
   "id": "bdc4f865",
   "metadata": {
    "scrolled": false
   },
   "outputs": [
    {
     "data": {
      "image/png": "[encoded data removed]",
      "text/plain": [
       "<Figure size 640x480 with 1 Axes>"
      ]
     },
     "metadata": {},
     "output_type": "display_data"
    }
   ],
   "source": [
    "### Computing the optimal epsilon\n",
    "\n",
    "#%matplotlib notebook\n",
    "\n",
    "NNeighbours = 2*X.shape[-1]\n",
    "\n",
    "# getting the average distance\n",
    "neighbors = NearestNeighbors(n_neighbors = NNeighbours)\n",
    "neighbors_fit = neighbors.fit(X)\n",
    "distances, indices = neighbors_fit.kneighbors(X)\n",
    "distances = np.sort(distances, axis=0)\n",
    "distances = distances[:,1]\n",
    "\n",
    "x = list(range(len(distances)))\n",
    "\n",
    "plt.scatter(x, distances, s=1)\n",
    "\n",
    "data_elbow = (pd.DataFrame([x, distances]).T).values.tolist()\n",
    "rotor = Rotor()\n",
    "rotor.fit_rotate( data_elbow )\n",
    "elbow_index = rotor.get_elbow_index()\n",
    "plt.axvline(elbow_index, c=\"k\")\n",
    "\n",
    "plt.ylabel(\"Distance\")\n",
    "plt.xlabel(\"Object\")\n",
    "plt.grid();"
   ]
  },
  {
   "cell_type": "code",
   "execution_count": 7,
   "id": "2eb750d8",
   "metadata": {},
   "outputs": [
    {
     "data": {
      "text/plain": [
       "0.26028864834344007"
      ]
     },
     "execution_count": 7,
     "metadata": {},
     "output_type": "execute_result"
    }
   ],
   "source": [
    "distances[elbow_index]"
   ]
  },
  {
   "cell_type": "code",
   "execution_count": 8,
   "id": "fe6376fc",
   "metadata": {},
   "outputs": [
    {
     "data": {
      "text/plain": [
       "Counter({0: 327,\n",
       "         -1: 462,\n",
       "         1: 124,\n",
       "         2: 52,\n",
       "         3: 7,\n",
       "         5: 35,\n",
       "         4: 10,\n",
       "         6: 90,\n",
       "         7: 327,\n",
       "         8: 26,\n",
       "         9: 8,\n",
       "         10: 9,\n",
       "         11: 8})"
      ]
     },
     "execution_count": 8,
     "metadata": {},
     "output_type": "execute_result"
    }
   ],
   "source": [
    "# Label -1 means noise\n",
    "DB = DBSCAN(eps = distances[elbow_index], min_samples=NNeighbours ).fit(X)\n",
    "labels = DB.labels_\n",
    "data.insert(loc=0, column=\"labels\", value=labels)\n",
    "Counter(labels)"
   ]
  },
  {
   "cell_type": "code",
   "execution_count": 9,
   "id": "513251ba",
   "metadata": {},
   "outputs": [],
   "source": [
    "labels_unique = list(range(-1, len(Counter(labels)) -1) )\n",
    "\n",
    "TOKs_per_lbl = [0]*len(labels_unique)\n",
    "for i,lbl in enumerate(labels_unique):\n",
    "    df = data[data.labels.isin([lbl])]\n",
    "    TOKs_per_lbl[i] = df.TOK.unique()"
   ]
  },
  {
   "cell_type": "code",
   "execution_count": 10,
   "id": "185223a0",
   "metadata": {},
   "outputs": [
    {
     "data": {
      "text/html": [
       "<div>\n",
       "<style scoped>\n",
       "    .dataframe tbody tr th:only-of-type {\n",
       "        vertical-align: middle;\n",
       "    }\n",
       "\n",
       "    .dataframe tbody tr th {\n",
       "        vertical-align: top;\n",
       "    }\n",
       "\n",
       "    .dataframe thead th {\n",
       "        text-align: right;\n",
       "    }\n",
       "</style>\n",
       "<table border=\"1\" class=\"dataframe\">\n",
       "  <thead>\n",
       "    <tr style=\"text-align: right;\">\n",
       "      <th></th>\n",
       "      <th>0</th>\n",
       "      <th>1</th>\n",
       "      <th>2</th>\n",
       "      <th>3</th>\n",
       "      <th>4</th>\n",
       "      <th>5</th>\n",
       "      <th>6</th>\n",
       "      <th>7</th>\n",
       "      <th>8</th>\n",
       "    </tr>\n",
       "  </thead>\n",
       "  <tbody>\n",
       "    <tr>\n",
       "      <th>-1</th>\n",
       "      <td>AUG</td>\n",
       "      <td>AUGW</td>\n",
       "      <td>CMOD</td>\n",
       "      <td>D3D</td>\n",
       "      <td>JET</td>\n",
       "      <td>JETILW</td>\n",
       "      <td>MAST</td>\n",
       "      <td>NSTX</td>\n",
       "      <td>START</td>\n",
       "    </tr>\n",
       "    <tr>\n",
       "      <th>0</th>\n",
       "      <td>AUG</td>\n",
       "      <td>AUGW</td>\n",
       "      <td>JET</td>\n",
       "      <td>None</td>\n",
       "      <td>None</td>\n",
       "      <td>None</td>\n",
       "      <td>None</td>\n",
       "      <td>None</td>\n",
       "      <td>None</td>\n",
       "    </tr>\n",
       "    <tr>\n",
       "      <th>1</th>\n",
       "      <td>AUG</td>\n",
       "      <td>AUGW</td>\n",
       "      <td>None</td>\n",
       "      <td>None</td>\n",
       "      <td>None</td>\n",
       "      <td>None</td>\n",
       "      <td>None</td>\n",
       "      <td>None</td>\n",
       "      <td>None</td>\n",
       "    </tr>\n",
       "    <tr>\n",
       "      <th>2</th>\n",
       "      <td>AUG</td>\n",
       "      <td>D3D</td>\n",
       "      <td>None</td>\n",
       "      <td>None</td>\n",
       "      <td>None</td>\n",
       "      <td>None</td>\n",
       "      <td>None</td>\n",
       "      <td>None</td>\n",
       "      <td>None</td>\n",
       "    </tr>\n",
       "    <tr>\n",
       "      <th>3</th>\n",
       "      <td>AUG</td>\n",
       "      <td>None</td>\n",
       "      <td>None</td>\n",
       "      <td>None</td>\n",
       "      <td>None</td>\n",
       "      <td>None</td>\n",
       "      <td>None</td>\n",
       "      <td>None</td>\n",
       "      <td>None</td>\n",
       "    </tr>\n",
       "    <tr>\n",
       "      <th>4</th>\n",
       "      <td>AUG</td>\n",
       "      <td>AUGW</td>\n",
       "      <td>None</td>\n",
       "      <td>None</td>\n",
       "      <td>None</td>\n",
       "      <td>None</td>\n",
       "      <td>None</td>\n",
       "      <td>None</td>\n",
       "      <td>None</td>\n",
       "    </tr>\n",
       "    <tr>\n",
       "      <th>5</th>\n",
       "      <td>AUG</td>\n",
       "      <td>AUGW</td>\n",
       "      <td>None</td>\n",
       "      <td>None</td>\n",
       "      <td>None</td>\n",
       "      <td>None</td>\n",
       "      <td>None</td>\n",
       "      <td>None</td>\n",
       "      <td>None</td>\n",
       "    </tr>\n",
       "    <tr>\n",
       "      <th>6</th>\n",
       "      <td>D3D</td>\n",
       "      <td>None</td>\n",
       "      <td>None</td>\n",
       "      <td>None</td>\n",
       "      <td>None</td>\n",
       "      <td>None</td>\n",
       "      <td>None</td>\n",
       "      <td>None</td>\n",
       "      <td>None</td>\n",
       "    </tr>\n",
       "    <tr>\n",
       "      <th>7</th>\n",
       "      <td>JET</td>\n",
       "      <td>JETILW</td>\n",
       "      <td>None</td>\n",
       "      <td>None</td>\n",
       "      <td>None</td>\n",
       "      <td>None</td>\n",
       "      <td>None</td>\n",
       "      <td>None</td>\n",
       "      <td>None</td>\n",
       "    </tr>\n",
       "    <tr>\n",
       "      <th>8</th>\n",
       "      <td>JET</td>\n",
       "      <td>JETILW</td>\n",
       "      <td>None</td>\n",
       "      <td>None</td>\n",
       "      <td>None</td>\n",
       "      <td>None</td>\n",
       "      <td>None</td>\n",
       "      <td>None</td>\n",
       "      <td>None</td>\n",
       "    </tr>\n",
       "    <tr>\n",
       "      <th>9</th>\n",
       "      <td>JT60U</td>\n",
       "      <td>None</td>\n",
       "      <td>None</td>\n",
       "      <td>None</td>\n",
       "      <td>None</td>\n",
       "      <td>None</td>\n",
       "      <td>None</td>\n",
       "      <td>None</td>\n",
       "      <td>None</td>\n",
       "    </tr>\n",
       "    <tr>\n",
       "      <th>10</th>\n",
       "      <td>NSTX</td>\n",
       "      <td>None</td>\n",
       "      <td>None</td>\n",
       "      <td>None</td>\n",
       "      <td>None</td>\n",
       "      <td>None</td>\n",
       "      <td>None</td>\n",
       "      <td>None</td>\n",
       "      <td>None</td>\n",
       "    </tr>\n",
       "    <tr>\n",
       "      <th>11</th>\n",
       "      <td>NSTX</td>\n",
       "      <td>None</td>\n",
       "      <td>None</td>\n",
       "      <td>None</td>\n",
       "      <td>None</td>\n",
       "      <td>None</td>\n",
       "      <td>None</td>\n",
       "      <td>None</td>\n",
       "      <td>None</td>\n",
       "    </tr>\n",
       "  </tbody>\n",
       "</table>\n",
       "</div>"
      ],
      "text/plain": [
       "         0       1     2     3     4       5     6     7      8\n",
       "-1     AUG    AUGW  CMOD   D3D   JET  JETILW  MAST  NSTX  START\n",
       " 0     AUG    AUGW   JET  None  None    None  None  None   None\n",
       " 1     AUG    AUGW  None  None  None    None  None  None   None\n",
       " 2     AUG     D3D  None  None  None    None  None  None   None\n",
       " 3     AUG    None  None  None  None    None  None  None   None\n",
       " 4     AUG    AUGW  None  None  None    None  None  None   None\n",
       " 5     AUG    AUGW  None  None  None    None  None  None   None\n",
       " 6     D3D    None  None  None  None    None  None  None   None\n",
       " 7     JET  JETILW  None  None  None    None  None  None   None\n",
       " 8     JET  JETILW  None  None  None    None  None  None   None\n",
       " 9   JT60U    None  None  None  None    None  None  None   None\n",
       " 10   NSTX    None  None  None  None    None  None  None   None\n",
       " 11   NSTX    None  None  None  None    None  None  None   None"
      ]
     },
     "execution_count": 10,
     "metadata": {},
     "output_type": "execute_result"
    }
   ],
   "source": [
    "# *** Unique Tokamaks found per label \n",
    "# *** This will allow to discern wether the clustering happened in obvious parameters\n",
    "# Index of the df is the label / columns names can be ignored\n",
    "pd.DataFrame(TOKs_per_lbl, index=labels_unique)"
   ]
  },
  {
   "cell_type": "markdown",
   "id": "4716d3e3",
   "metadata": {},
   "source": [
    "### Cluster Analyses"
   ]
  },
  {
   "cell_type": "code",
   "execution_count": 11,
   "id": "0813dd31",
   "metadata": {},
   "outputs": [
    {
     "name": "stdout",
     "output_type": "stream",
     "text": [
      "\n",
      "Mean values of each feature per cluster\n"
     ]
    },
    {
     "data": {
      "text/html": [
       "<div>\n",
       "<style scoped>\n",
       "    .dataframe tbody tr th:only-of-type {\n",
       "        vertical-align: middle;\n",
       "    }\n",
       "\n",
       "    .dataframe tbody tr th {\n",
       "        vertical-align: top;\n",
       "    }\n",
       "\n",
       "    .dataframe thead th {\n",
       "        text-align: right;\n",
       "    }\n",
       "</style>\n",
       "<table border=\"1\" class=\"dataframe\">\n",
       "  <thead>\n",
       "    <tr style=\"text-align: right;\">\n",
       "      <th>labels</th>\n",
       "      <th>cluster_0</th>\n",
       "      <th>cluster_1</th>\n",
       "      <th>cluster_2</th>\n",
       "      <th>cluster_3</th>\n",
       "      <th>cluster_4</th>\n",
       "      <th>cluster_5</th>\n",
       "      <th>cluster_6</th>\n",
       "      <th>cluster_7</th>\n",
       "      <th>cluster_8</th>\n",
       "      <th>cluster_9</th>\n",
       "      <th>cluster_10</th>\n",
       "      <th>cluster_11</th>\n",
       "    </tr>\n",
       "  </thead>\n",
       "  <tbody>\n",
       "    <tr>\n",
       "      <th>RHOSTAR</th>\n",
       "      <td>-5.343238</td>\n",
       "      <td>-4.821734</td>\n",
       "      <td>-4.727366</td>\n",
       "      <td>-4.722918</td>\n",
       "      <td>-5.181857</td>\n",
       "      <td>-5.203701</td>\n",
       "      <td>-4.616188</td>\n",
       "      <td>-5.562203</td>\n",
       "      <td>-5.789853</td>\n",
       "      <td>-5.491697</td>\n",
       "      <td>-3.900644</td>\n",
       "      <td>-3.942912</td>\n",
       "    </tr>\n",
       "    <tr>\n",
       "      <th>BETASTAR</th>\n",
       "      <td>-0.185300</td>\n",
       "      <td>0.262532</td>\n",
       "      <td>0.634188</td>\n",
       "      <td>0.576003</td>\n",
       "      <td>0.062667</td>\n",
       "      <td>-0.056947</td>\n",
       "      <td>0.954923</td>\n",
       "      <td>0.318504</td>\n",
       "      <td>-0.339969</td>\n",
       "      <td>-0.521462</td>\n",
       "      <td>2.482378</td>\n",
       "      <td>2.476295</td>\n",
       "    </tr>\n",
       "    <tr>\n",
       "      <th>NUSTAR</th>\n",
       "      <td>-0.914663</td>\n",
       "      <td>-3.357544</td>\n",
       "      <td>-3.110524</td>\n",
       "      <td>-2.903278</td>\n",
       "      <td>-0.886004</td>\n",
       "      <td>-0.149408</td>\n",
       "      <td>-4.012335</td>\n",
       "      <td>-2.002044</td>\n",
       "      <td>-1.369472</td>\n",
       "      <td>-1.586984</td>\n",
       "      <td>-3.146286</td>\n",
       "      <td>-2.722930</td>\n",
       "    </tr>\n",
       "    <tr>\n",
       "      <th>QCYL5</th>\n",
       "      <td>1.225779</td>\n",
       "      <td>1.124640</td>\n",
       "      <td>0.966629</td>\n",
       "      <td>0.848612</td>\n",
       "      <td>1.244921</td>\n",
       "      <td>1.292279</td>\n",
       "      <td>0.957009</td>\n",
       "      <td>0.897607</td>\n",
       "      <td>1.168108</td>\n",
       "      <td>1.014929</td>\n",
       "      <td>0.798992</td>\n",
       "      <td>0.952830</td>\n",
       "    </tr>\n",
       "  </tbody>\n",
       "</table>\n",
       "</div>"
      ],
      "text/plain": [
       "labels    cluster_0  cluster_1  cluster_2  cluster_3  cluster_4  cluster_5  \\\n",
       "RHOSTAR   -5.343238  -4.821734  -4.727366  -4.722918  -5.181857  -5.203701   \n",
       "BETASTAR  -0.185300   0.262532   0.634188   0.576003   0.062667  -0.056947   \n",
       "NUSTAR    -0.914663  -3.357544  -3.110524  -2.903278  -0.886004  -0.149408   \n",
       "QCYL5      1.225779   1.124640   0.966629   0.848612   1.244921   1.292279   \n",
       "\n",
       "labels    cluster_6  cluster_7  cluster_8  cluster_9  cluster_10  cluster_11  \n",
       "RHOSTAR   -4.616188  -5.562203  -5.789853  -5.491697   -3.900644   -3.942912  \n",
       "BETASTAR   0.954923   0.318504  -0.339969  -0.521462    2.482378    2.476295  \n",
       "NUSTAR    -4.012335  -2.002044  -1.369472  -1.586984   -3.146286   -2.722930  \n",
       "QCYL5      0.957009   0.897607   1.168108   1.014929    0.798992    0.952830  "
      ]
     },
     "execution_count": 11,
     "metadata": {},
     "output_type": "execute_result"
    }
   ],
   "source": [
    "data_cl = data[~data.labels.isin([-1])][[\"labels\"]+dmn_coeffs]\n",
    "data_cl_mean = data_cl.groupby(\"labels\").mean().T\n",
    "data_cl_mean.columns = \"cluster_\"+data_cl_mean.columns.astype(str)\n",
    "print(\"\\nMean values of each feature per cluster\")\n",
    "data_cl_mean"
   ]
  },
  {
   "cell_type": "code",
   "execution_count": 12,
   "id": "68f3cc28",
   "metadata": {},
   "outputs": [
    {
     "data": {
      "text/plain": [
       "RHOSTAR    -5.202338\n",
       "BETASTAR    0.258486\n",
       "NUSTAR     -1.922173\n",
       "QCYL5       1.063136\n",
       "dtype: float64"
      ]
     },
     "execution_count": 12,
     "metadata": {},
     "output_type": "execute_result"
    }
   ],
   "source": [
    "global_mean = data[dmn_coeffs].mean()\n",
    "global_mean"
   ]
  },
  {
   "cell_type": "code",
   "execution_count": 13,
   "id": "2a9240b1",
   "metadata": {},
   "outputs": [
    {
     "name": "stdout",
     "output_type": "stream",
     "text": [
      "\n",
      "Relative differences (in %) of each feature per cluster to the overall average per feature\n"
     ]
    },
    {
     "data": {
      "text/html": [
       "<div>\n",
       "<style scoped>\n",
       "    .dataframe tbody tr th:only-of-type {\n",
       "        vertical-align: middle;\n",
       "    }\n",
       "\n",
       "    .dataframe tbody tr th {\n",
       "        vertical-align: top;\n",
       "    }\n",
       "\n",
       "    .dataframe thead th {\n",
       "        text-align: right;\n",
       "    }\n",
       "</style>\n",
       "<table border=\"1\" class=\"dataframe\">\n",
       "  <thead>\n",
       "    <tr style=\"text-align: right;\">\n",
       "      <th>labels</th>\n",
       "      <th>cluster_0</th>\n",
       "      <th>cluster_1</th>\n",
       "      <th>cluster_2</th>\n",
       "      <th>cluster_3</th>\n",
       "      <th>cluster_4</th>\n",
       "      <th>cluster_5</th>\n",
       "      <th>cluster_6</th>\n",
       "      <th>cluster_7</th>\n",
       "      <th>cluster_8</th>\n",
       "      <th>cluster_9</th>\n",
       "      <th>cluster_10</th>\n",
       "      <th>cluster_11</th>\n",
       "    </tr>\n",
       "  </thead>\n",
       "  <tbody>\n",
       "    <tr>\n",
       "      <th>RHOSTAR</th>\n",
       "      <td>2.708401</td>\n",
       "      <td>7.316031</td>\n",
       "      <td>9.129970</td>\n",
       "      <td>9.215471</td>\n",
       "      <td>0.393692</td>\n",
       "      <td>0.026202</td>\n",
       "      <td>11.267047</td>\n",
       "      <td>6.917370</td>\n",
       "      <td>11.293283</td>\n",
       "      <td>5.562084</td>\n",
       "      <td>25.021332</td>\n",
       "      <td>24.208846</td>\n",
       "    </tr>\n",
       "    <tr>\n",
       "      <th>BETASTAR</th>\n",
       "      <td>171.686395</td>\n",
       "      <td>1.565188</td>\n",
       "      <td>145.346680</td>\n",
       "      <td>122.836943</td>\n",
       "      <td>75.756016</td>\n",
       "      <td>122.031117</td>\n",
       "      <td>269.428763</td>\n",
       "      <td>23.218985</td>\n",
       "      <td>231.522834</td>\n",
       "      <td>301.736525</td>\n",
       "      <td>860.351259</td>\n",
       "      <td>857.997796</td>\n",
       "    </tr>\n",
       "    <tr>\n",
       "      <th>NUSTAR</th>\n",
       "      <td>52.415138</td>\n",
       "      <td>74.674404</td>\n",
       "      <td>61.823297</td>\n",
       "      <td>51.041429</td>\n",
       "      <td>53.906106</td>\n",
       "      <td>92.227152</td>\n",
       "      <td>108.739558</td>\n",
       "      <td>4.155266</td>\n",
       "      <td>28.753961</td>\n",
       "      <td>17.438002</td>\n",
       "      <td>63.683827</td>\n",
       "      <td>41.658957</td>\n",
       "    </tr>\n",
       "    <tr>\n",
       "      <th>QCYL5</th>\n",
       "      <td>15.298349</td>\n",
       "      <td>5.785172</td>\n",
       "      <td>9.077626</td>\n",
       "      <td>20.178388</td>\n",
       "      <td>17.098922</td>\n",
       "      <td>21.553474</td>\n",
       "      <td>9.982478</td>\n",
       "      <td>15.569880</td>\n",
       "      <td>9.873796</td>\n",
       "      <td>4.534397</td>\n",
       "      <td>24.845777</td>\n",
       "      <td>10.375590</td>\n",
       "    </tr>\n",
       "  </tbody>\n",
       "</table>\n",
       "</div>"
      ],
      "text/plain": [
       "labels     cluster_0  cluster_1   cluster_2   cluster_3  cluster_4  \\\n",
       "RHOSTAR     2.708401   7.316031    9.129970    9.215471   0.393692   \n",
       "BETASTAR  171.686395   1.565188  145.346680  122.836943  75.756016   \n",
       "NUSTAR     52.415138  74.674404   61.823297   51.041429  53.906106   \n",
       "QCYL5      15.298349   5.785172    9.077626   20.178388  17.098922   \n",
       "\n",
       "labels     cluster_5   cluster_6  cluster_7   cluster_8   cluster_9  \\\n",
       "RHOSTAR     0.026202   11.267047   6.917370   11.293283    5.562084   \n",
       "BETASTAR  122.031117  269.428763  23.218985  231.522834  301.736525   \n",
       "NUSTAR     92.227152  108.739558   4.155266   28.753961   17.438002   \n",
       "QCYL5      21.553474    9.982478  15.569880    9.873796    4.534397   \n",
       "\n",
       "labels    cluster_10  cluster_11  \n",
       "RHOSTAR    25.021332   24.208846  \n",
       "BETASTAR  860.351259  857.997796  \n",
       "NUSTAR     63.683827   41.658957  \n",
       "QCYL5      24.845777   10.375590  "
      ]
     },
     "execution_count": 13,
     "metadata": {},
     "output_type": "execute_result"
    }
   ],
   "source": [
    "relative_diff = ((data_cl_mean.sub(global_mean, axis=0)).div(global_mean, axis=0)).div(1/100,axis=0).apply(np.abs)\n",
    "print(\"\\nRelative differences (in %) of each feature per cluster to the overall average per feature\")\n",
    "relative_diff"
   ]
  },
  {
   "cell_type": "code",
   "execution_count": 16,
   "id": "019d53e6",
   "metadata": {},
   "outputs": [
    {
     "data": {
      "application/vnd.plotly.v1+json": {
       "config": {
        "plotlyServerURL": "https://plot.ly"
       },
       "data": [
        {
         "fill": "toself",
         "name": "Cluster 0",
         "r": [
          -5.343238494629663,
          -0.18529965236538962,
          -0.9146633740463078,
          1.2257785157764702
         ],
         "theta": [
          "RHOSTAR",
          "BETASTAR",
          "NUSTAR",
          "QCYL5"
         ],
         "type": "scatterpolar"
        },
        {
         "fill": "toself",
         "name": "Cluster 2",
         "r": [
          -4.727366403719532,
          0.6341880412353684,
          -3.110523722326188,
          0.9666286986709689
         ],
         "theta": [
          "RHOSTAR",
          "BETASTAR",
          "NUSTAR",
          "QCYL5"
         ],
         "type": "scatterpolar"
        },
        {
         "fill": "toself",
         "name": "Cluster 10",
         "r": [
          -3.9006439580715644,
          2.4823783432591453,
          -3.146286330310836,
          0.7989917737422327
         ],
         "theta": [
          "RHOSTAR",
          "BETASTAR",
          "NUSTAR",
          "QCYL5"
         ],
         "type": "scatterpolar"
        },
        {
         "fill": "toself",
         "name": "Cluster 9",
         "r": [
          -5.491696772031852,
          -0.521461680760548,
          -1.586984430069473,
          1.014929417332696
         ],
         "theta": [
          "RHOSTAR",
          "BETASTAR",
          "NUSTAR",
          "QCYL5"
         ],
         "type": "scatterpolar"
        }
       ],
       "layout": {
        "template": {
         "data": {
          "bar": [
           {
            "error_x": {
             "color": "#2a3f5f"
            },
            "error_y": {
             "color": "#2a3f5f"
            },
            "marker": {
             "line": {
              "color": "#E5ECF6",
              "width": 0.5
             },
             "pattern": {
              "fillmode": "overlay",
              "size": 10,
              "solidity": 0.2
             }
            },
            "type": "bar"
           }
          ],
          "barpolar": [
           {
            "marker": {
             "line": {
              "color": "#E5ECF6",
              "width": 0.5
             },
             "pattern": {
              "fillmode": "overlay",
              "size": 10,
              "solidity": 0.2
             }
            },
            "type": "barpolar"
           }
          ],
          "carpet": [
           {
            "aaxis": {
             "endlinecolor": "#2a3f5f",
             "gridcolor": "white",
             "linecolor": "white",
             "minorgridcolor": "white",
             "startlinecolor": "#2a3f5f"
            },
            "baxis": {
             "endlinecolor": "#2a3f5f",
             "gridcolor": "white",
             "linecolor": "white",
             "minorgridcolor": "white",
             "startlinecolor": "#2a3f5f"
            },
            "type": "carpet"
           }
          ],
          "choropleth": [
           {
            "colorbar": {
             "outlinewidth": 0,
             "ticks": ""
            },
            "type": "choropleth"
           }
          ],
          "contour": [
           {
            "colorbar": {
             "outlinewidth": 0,
             "ticks": ""
            },
            "colorscale": [
             [
              0,
              "#0d0887"
             ],
             [
              0.1111111111111111,
              "#46039f"
             ],
             [
              0.2222222222222222,
              "#7201a8"
             ],
             [
              0.3333333333333333,
              "#9c179e"
             ],
             [
              0.4444444444444444,
              "#bd3786"
             ],
             [
              0.5555555555555556,
              "#d8576b"
             ],
             [
              0.6666666666666666,
              "#ed7953"
             ],
             [
              0.7777777777777778,
              "#fb9f3a"
             ],
             [
              0.8888888888888888,
              "#fdca26"
             ],
             [
              1,
              "#f0f921"
             ]
            ],
            "type": "contour"
           }
          ],
          "contourcarpet": [
           {
            "colorbar": {
             "outlinewidth": 0,
             "ticks": ""
            },
            "type": "contourcarpet"
           }
          ],
          "heatmap": [
           {
            "colorbar": {
             "outlinewidth": 0,
             "ticks": ""
            },
            "colorscale": [
             [
              0,
              "#0d0887"
             ],
             [
              0.1111111111111111,
              "#46039f"
             ],
             [
              0.2222222222222222,
              "#7201a8"
             ],
             [
              0.3333333333333333,
              "#9c179e"
             ],
             [
              0.4444444444444444,
              "#bd3786"
             ],
             [
              0.5555555555555556,
              "#d8576b"
             ],
             [
              0.6666666666666666,
              "#ed7953"
             ],
             [
              0.7777777777777778,
              "#fb9f3a"
             ],
             [
              0.8888888888888888,
              "#fdca26"
             ],
             [
              1,
              "#f0f921"
             ]
            ],
            "type": "heatmap"
           }
          ],
          "heatmapgl": [
           {
            "colorbar": {
             "outlinewidth": 0,
             "ticks": ""
            },
            "colorscale": [
             [
              0,
              "#0d0887"
             ],
             [
              0.1111111111111111,
              "#46039f"
             ],
             [
              0.2222222222222222,
              "#7201a8"
             ],
             [
              0.3333333333333333,
              "#9c179e"
             ],
             [
              0.4444444444444444,
              "#bd3786"
             ],
             [
              0.5555555555555556,
              "#d8576b"
             ],
             [
              0.6666666666666666,
              "#ed7953"
             ],
             [
              0.7777777777777778,
              "#fb9f3a"
             ],
             [
              0.8888888888888888,
              "#fdca26"
             ],
             [
              1,
              "#f0f921"
             ]
            ],
            "type": "heatmapgl"
           }
          ],
          "histogram": [
           {
            "marker": {
             "pattern": {
              "fillmode": "overlay",
              "size": 10,
              "solidity": 0.2
             }
            },
            "type": "histogram"
           }
          ],
          "histogram2d": [
           {
            "colorbar": {
             "outlinewidth": 0,
             "ticks": ""
            },
            "colorscale": [
             [
              0,
              "#0d0887"
             ],
             [
              0.1111111111111111,
              "#46039f"
             ],
             [
              0.2222222222222222,
              "#7201a8"
             ],
             [
              0.3333333333333333,
              "#9c179e"
             ],
             [
              0.4444444444444444,
              "#bd3786"
             ],
             [
              0.5555555555555556,
              "#d8576b"
             ],
             [
              0.6666666666666666,
              "#ed7953"
             ],
             [
              0.7777777777777778,
              "#fb9f3a"
             ],
             [
              0.8888888888888888,
              "#fdca26"
             ],
             [
              1,
              "#f0f921"
             ]
            ],
            "type": "histogram2d"
           }
          ],
          "histogram2dcontour": [
           {
            "colorbar": {
             "outlinewidth": 0,
             "ticks": ""
            },
            "colorscale": [
             [
              0,
              "#0d0887"
             ],
             [
              0.1111111111111111,
              "#46039f"
             ],
             [
              0.2222222222222222,
              "#7201a8"
             ],
             [
              0.3333333333333333,
              "#9c179e"
             ],
             [
              0.4444444444444444,
              "#bd3786"
             ],
             [
              0.5555555555555556,
              "#d8576b"
             ],
             [
              0.6666666666666666,
              "#ed7953"
             ],
             [
              0.7777777777777778,
              "#fb9f3a"
             ],
             [
              0.8888888888888888,
              "#fdca26"
             ],
             [
              1,
              "#f0f921"
             ]
            ],
            "type": "histogram2dcontour"
           }
          ],
          "mesh3d": [
           {
            "colorbar": {
             "outlinewidth": 0,
             "ticks": ""
            },
            "type": "mesh3d"
           }
          ],
          "parcoords": [
           {
            "line": {
             "colorbar": {
              "outlinewidth": 0,
              "ticks": ""
             }
            },
            "type": "parcoords"
           }
          ],
          "pie": [
           {
            "automargin": true,
            "type": "pie"
           }
          ],
          "scatter": [
           {
            "fillpattern": {
             "fillmode": "overlay",
             "size": 10,
             "solidity": 0.2
            },
            "type": "scatter"
           }
          ],
          "scatter3d": [
           {
            "line": {
             "colorbar": {
              "outlinewidth": 0,
              "ticks": ""
             }
            },
            "marker": {
             "colorbar": {
              "outlinewidth": 0,
              "ticks": ""
             }
            },
            "type": "scatter3d"
           }
          ],
          "scattercarpet": [
           {
            "marker": {
             "colorbar": {
              "outlinewidth": 0,
              "ticks": ""
             }
            },
            "type": "scattercarpet"
           }
          ],
          "scattergeo": [
           {
            "marker": {
             "colorbar": {
              "outlinewidth": 0,
              "ticks": ""
             }
            },
            "type": "scattergeo"
           }
          ],
          "scattergl": [
           {
            "marker": {
             "colorbar": {
              "outlinewidth": 0,
              "ticks": ""
             }
            },
            "type": "scattergl"
           }
          ],
          "scattermapbox": [
           {
            "marker": {
             "colorbar": {
              "outlinewidth": 0,
              "ticks": ""
             }
            },
            "type": "scattermapbox"
           }
          ],
          "scatterpolar": [
           {
            "marker": {
             "colorbar": {
              "outlinewidth": 0,
              "ticks": ""
             }
            },
            "type": "scatterpolar"
           }
          ],
          "scatterpolargl": [
           {
            "marker": {
             "colorbar": {
              "outlinewidth": 0,
              "ticks": ""
             }
            },
            "type": "scatterpolargl"
           }
          ],
          "scatterternary": [
           {
            "marker": {
             "colorbar": {
              "outlinewidth": 0,
              "ticks": ""
             }
            },
            "type": "scatterternary"
           }
          ],
          "surface": [
           {
            "colorbar": {
             "outlinewidth": 0,
             "ticks": ""
            },
            "colorscale": [
             [
              0,
              "#0d0887"
             ],
             [
              0.1111111111111111,
              "#46039f"
             ],
             [
              0.2222222222222222,
              "#7201a8"
             ],
             [
              0.3333333333333333,
              "#9c179e"
             ],
             [
              0.4444444444444444,
              "#bd3786"
             ],
             [
              0.5555555555555556,
              "#d8576b"
             ],
             [
              0.6666666666666666,
              "#ed7953"
             ],
             [
              0.7777777777777778,
              "#fb9f3a"
             ],
             [
              0.8888888888888888,
              "#fdca26"
             ],
             [
              1,
              "#f0f921"
             ]
            ],
            "type": "surface"
           }
          ],
          "table": [
           {
            "cells": {
             "fill": {
              "color": "#EBF0F8"
             },
             "line": {
              "color": "white"
             }
            },
            "header": {
             "fill": {
              "color": "#C8D4E3"
             },
             "line": {
              "color": "white"
             }
            },
            "type": "table"
           }
          ]
         },
         "layout": {
          "annotationdefaults": {
           "arrowcolor": "#2a3f5f",
           "arrowhead": 0,
           "arrowwidth": 1
          },
          "autotypenumbers": "strict",
          "coloraxis": {
           "colorbar": {
            "outlinewidth": 0,
            "ticks": ""
           }
          },
          "colorscale": {
           "diverging": [
            [
             0,
             "#8e0152"
            ],
            [
             0.1,
             "#c51b7d"
            ],
            [
             0.2,
             "#de77ae"
            ],
            [
             0.3,
             "#f1b6da"
            ],
            [
             0.4,
             "#fde0ef"
            ],
            [
             0.5,
             "#f7f7f7"
            ],
            [
             0.6,
             "#e6f5d0"
            ],
            [
             0.7,
             "#b8e186"
            ],
            [
             0.8,
             "#7fbc41"
            ],
            [
             0.9,
             "#4d9221"
            ],
            [
             1,
             "#276419"
            ]
           ],
           "sequential": [
            [
             0,
             "#0d0887"
            ],
            [
             0.1111111111111111,
             "#46039f"
            ],
            [
             0.2222222222222222,
             "#7201a8"
            ],
            [
             0.3333333333333333,
             "#9c179e"
            ],
            [
             0.4444444444444444,
             "#bd3786"
            ],
            [
             0.5555555555555556,
             "#d8576b"
            ],
            [
             0.6666666666666666,
             "#ed7953"
            ],
            [
             0.7777777777777778,
             "#fb9f3a"
            ],
            [
             0.8888888888888888,
             "#fdca26"
            ],
            [
             1,
             "#f0f921"
            ]
           ],
           "sequentialminus": [
            [
             0,
             "#0d0887"
            ],
            [
             0.1111111111111111,
             "#46039f"
            ],
            [
             0.2222222222222222,
             "#7201a8"
            ],
            [
             0.3333333333333333,
             "#9c179e"
            ],
            [
             0.4444444444444444,
             "#bd3786"
            ],
            [
             0.5555555555555556,
             "#d8576b"
            ],
            [
             0.6666666666666666,
             "#ed7953"
            ],
            [
             0.7777777777777778,
             "#fb9f3a"
            ],
            [
             0.8888888888888888,
             "#fdca26"
            ],
            [
             1,
             "#f0f921"
            ]
           ]
          },
          "colorway": [
           "#636efa",
           "#EF553B",
           "#00cc96",
           "#ab63fa",
           "#FFA15A",
           "#19d3f3",
           "#FF6692",
           "#B6E880",
           "#FF97FF",
           "#FECB52"
          ],
          "font": {
           "color": "#2a3f5f"
          },
          "geo": {
           "bgcolor": "white",
           "lakecolor": "white",
           "landcolor": "#E5ECF6",
           "showlakes": true,
           "showland": true,
           "subunitcolor": "white"
          },
          "hoverlabel": {
           "align": "left"
          },
          "hovermode": "closest",
          "mapbox": {
           "style": "light"
          },
          "paper_bgcolor": "white",
          "plot_bgcolor": "#E5ECF6",
          "polar": {
           "angularaxis": {
            "gridcolor": "white",
            "linecolor": "white",
            "ticks": ""
           },
           "bgcolor": "#E5ECF6",
           "radialaxis": {
            "gridcolor": "white",
            "linecolor": "white",
            "ticks": ""
           }
          },
          "scene": {
           "xaxis": {
            "backgroundcolor": "#E5ECF6",
            "gridcolor": "white",
            "gridwidth": 2,
            "linecolor": "white",
            "showbackground": true,
            "ticks": "",
            "zerolinecolor": "white"
           },
           "yaxis": {
            "backgroundcolor": "#E5ECF6",
            "gridcolor": "white",
            "gridwidth": 2,
            "linecolor": "white",
            "showbackground": true,
            "ticks": "",
            "zerolinecolor": "white"
           },
           "zaxis": {
            "backgroundcolor": "#E5ECF6",
            "gridcolor": "white",
            "gridwidth": 2,
            "linecolor": "white",
            "showbackground": true,
            "ticks": "",
            "zerolinecolor": "white"
           }
          },
          "shapedefaults": {
           "line": {
            "color": "#2a3f5f"
           }
          },
          "ternary": {
           "aaxis": {
            "gridcolor": "white",
            "linecolor": "white",
            "ticks": ""
           },
           "baxis": {
            "gridcolor": "white",
            "linecolor": "white",
            "ticks": ""
           },
           "bgcolor": "#E5ECF6",
           "caxis": {
            "gridcolor": "white",
            "linecolor": "white",
            "ticks": ""
           }
          },
          "title": {
           "x": 0.05
          },
          "xaxis": {
           "automargin": true,
           "gridcolor": "white",
           "linecolor": "white",
           "ticks": "",
           "title": {
            "standoff": 15
           },
           "zerolinecolor": "white",
           "zerolinewidth": 2
          },
          "yaxis": {
           "automargin": true,
           "gridcolor": "white",
           "linecolor": "white",
           "ticks": "",
           "title": {
            "standoff": 15
           },
           "zerolinecolor": "white",
           "zerolinewidth": 2
          }
         }
        }
       }
      },
      "text/html": [
       "<div>                            <div id=\"cc76ca69-71cc-410b-99dc-f9af16dc907f\" class=\"plotly-graph-div\" style=\"height:525px; width:100%;\"></div>            <script type=\"text/javascript\">                require([\"plotly\"], function(Plotly) {                    window.PLOTLYENV=window.PLOTLYENV || {};                                    if (document.getElementById(\"cc76ca69-71cc-410b-99dc-f9af16dc907f\")) {                    Plotly.newPlot(                        \"cc76ca69-71cc-410b-99dc-f9af16dc907f\",                        [{\"fill\":\"toself\",\"name\":\"Cluster 0\",\"r\":[-5.343238494629663,-0.18529965236538962,-0.9146633740463078,1.2257785157764702],\"theta\":[\"RHOSTAR\",\"BETASTAR\",\"NUSTAR\",\"QCYL5\"],\"type\":\"scatterpolar\"},{\"fill\":\"toself\",\"name\":\"Cluster 2\",\"r\":[-4.727366403719532,0.6341880412353684,-3.110523722326188,0.9666286986709689],\"theta\":[\"RHOSTAR\",\"BETASTAR\",\"NUSTAR\",\"QCYL5\"],\"type\":\"scatterpolar\"},{\"fill\":\"toself\",\"name\":\"Cluster 10\",\"r\":[-3.9006439580715644,2.4823783432591453,-3.146286330310836,0.7989917737422327],\"theta\":[\"RHOSTAR\",\"BETASTAR\",\"NUSTAR\",\"QCYL5\"],\"type\":\"scatterpolar\"},{\"fill\":\"toself\",\"name\":\"Cluster 9\",\"r\":[-5.491696772031852,-0.521461680760548,-1.586984430069473,1.014929417332696],\"theta\":[\"RHOSTAR\",\"BETASTAR\",\"NUSTAR\",\"QCYL5\"],\"type\":\"scatterpolar\"}],                        {\"template\":{\"data\":{\"histogram2dcontour\":[{\"type\":\"histogram2dcontour\",\"colorbar\":{\"outlinewidth\":0,\"ticks\":\"\"},\"colorscale\":[[0.0,\"#0d0887\"],[0.1111111111111111,\"#46039f\"],[0.2222222222222222,\"#7201a8\"],[0.3333333333333333,\"#9c179e\"],[0.4444444444444444,\"#bd3786\"],[0.5555555555555556,\"#d8576b\"],[0.6666666666666666,\"#ed7953\"],[0.7777777777777778,\"#fb9f3a\"],[0.8888888888888888,\"#fdca26\"],[1.0,\"#f0f921\"]]}],\"choropleth\":[{\"type\":\"choropleth\",\"colorbar\":{\"outlinewidth\":0,\"ticks\":\"\"}}],\"histogram2d\":[{\"type\":\"histogram2d\",\"colorbar\":{\"outlinewidth\":0,\"ticks\":\"\"},\"colorscale\":[[0.0,\"#0d0887\"],[0.1111111111111111,\"#46039f\"],[0.2222222222222222,\"#7201a8\"],[0.3333333333333333,\"#9c179e\"],[0.4444444444444444,\"#bd3786\"],[0.5555555555555556,\"#d8576b\"],[0.6666666666666666,\"#ed7953\"],[0.7777777777777778,\"#fb9f3a\"],[0.8888888888888888,\"#fdca26\"],[1.0,\"#f0f921\"]]}],\"heatmap\":[{\"type\":\"heatmap\",\"colorbar\":{\"outlinewidth\":0,\"ticks\":\"\"},\"colorscale\":[[0.0,\"#0d0887\"],[0.1111111111111111,\"#46039f\"],[0.2222222222222222,\"#7201a8\"],[0.3333333333333333,\"#9c179e\"],[0.4444444444444444,\"#bd3786\"],[0.5555555555555556,\"#d8576b\"],[0.6666666666666666,\"#ed7953\"],[0.7777777777777778,\"#fb9f3a\"],[0.8888888888888888,\"#fdca26\"],[1.0,\"#f0f921\"]]}],\"heatmapgl\":[{\"type\":\"heatmapgl\",\"colorbar\":{\"outlinewidth\":0,\"ticks\":\"\"},\"colorscale\":[[0.0,\"#0d0887\"],[0.1111111111111111,\"#46039f\"],[0.2222222222222222,\"#7201a8\"],[0.3333333333333333,\"#9c179e\"],[0.4444444444444444,\"#bd3786\"],[0.5555555555555556,\"#d8576b\"],[0.6666666666666666,\"#ed7953\"],[0.7777777777777778,\"#fb9f3a\"],[0.8888888888888888,\"#fdca26\"],[1.0,\"#f0f921\"]]}],\"contourcarpet\":[{\"type\":\"contourcarpet\",\"colorbar\":{\"outlinewidth\":0,\"ticks\":\"\"}}],\"contour\":[{\"type\":\"contour\",\"colorbar\":{\"outlinewidth\":0,\"ticks\":\"\"},\"colorscale\":[[0.0,\"#0d0887\"],[0.1111111111111111,\"#46039f\"],[0.2222222222222222,\"#7201a8\"],[0.3333333333333333,\"#9c179e\"],[0.4444444444444444,\"#bd3786\"],[0.5555555555555556,\"#d8576b\"],[0.6666666666666666,\"#ed7953\"],[0.7777777777777778,\"#fb9f3a\"],[0.8888888888888888,\"#fdca26\"],[1.0,\"#f0f921\"]]}],\"surface\":[{\"type\":\"surface\",\"colorbar\":{\"outlinewidth\":0,\"ticks\":\"\"},\"colorscale\":[[0.0,\"#0d0887\"],[0.1111111111111111,\"#46039f\"],[0.2222222222222222,\"#7201a8\"],[0.3333333333333333,\"#9c179e\"],[0.4444444444444444,\"#bd3786\"],[0.5555555555555556,\"#d8576b\"],[0.6666666666666666,\"#ed7953\"],[0.7777777777777778,\"#fb9f3a\"],[0.8888888888888888,\"#fdca26\"],[1.0,\"#f0f921\"]]}],\"mesh3d\":[{\"type\":\"mesh3d\",\"colorbar\":{\"outlinewidth\":0,\"ticks\":\"\"}}],\"scatter\":[{\"fillpattern\":{\"fillmode\":\"overlay\",\"size\":10,\"solidity\":0.2},\"type\":\"scatter\"}],\"parcoords\":[{\"type\":\"parcoords\",\"line\":{\"colorbar\":{\"outlinewidth\":0,\"ticks\":\"\"}}}],\"scatterpolargl\":[{\"type\":\"scatterpolargl\",\"marker\":{\"colorbar\":{\"outlinewidth\":0,\"ticks\":\"\"}}}],\"bar\":[{\"error_x\":{\"color\":\"#2a3f5f\"},\"error_y\":{\"color\":\"#2a3f5f\"},\"marker\":{\"line\":{\"color\":\"#E5ECF6\",\"width\":0.5},\"pattern\":{\"fillmode\":\"overlay\",\"size\":10,\"solidity\":0.2}},\"type\":\"bar\"}],\"scattergeo\":[{\"type\":\"scattergeo\",\"marker\":{\"colorbar\":{\"outlinewidth\":0,\"ticks\":\"\"}}}],\"scatterpolar\":[{\"type\":\"scatterpolar\",\"marker\":{\"colorbar\":{\"outlinewidth\":0,\"ticks\":\"\"}}}],\"histogram\":[{\"marker\":{\"pattern\":{\"fillmode\":\"overlay\",\"size\":10,\"solidity\":0.2}},\"type\":\"histogram\"}],\"scattergl\":[{\"type\":\"scattergl\",\"marker\":{\"colorbar\":{\"outlinewidth\":0,\"ticks\":\"\"}}}],\"scatter3d\":[{\"type\":\"scatter3d\",\"line\":{\"colorbar\":{\"outlinewidth\":0,\"ticks\":\"\"}},\"marker\":{\"colorbar\":{\"outlinewidth\":0,\"ticks\":\"\"}}}],\"scattermapbox\":[{\"type\":\"scattermapbox\",\"marker\":{\"colorbar\":{\"outlinewidth\":0,\"ticks\":\"\"}}}],\"scatterternary\":[{\"type\":\"scatterternary\",\"marker\":{\"colorbar\":{\"outlinewidth\":0,\"ticks\":\"\"}}}],\"scattercarpet\":[{\"type\":\"scattercarpet\",\"marker\":{\"colorbar\":{\"outlinewidth\":0,\"ticks\":\"\"}}}],\"carpet\":[{\"aaxis\":{\"endlinecolor\":\"#2a3f5f\",\"gridcolor\":\"white\",\"linecolor\":\"white\",\"minorgridcolor\":\"white\",\"startlinecolor\":\"#2a3f5f\"},\"baxis\":{\"endlinecolor\":\"#2a3f5f\",\"gridcolor\":\"white\",\"linecolor\":\"white\",\"minorgridcolor\":\"white\",\"startlinecolor\":\"#2a3f5f\"},\"type\":\"carpet\"}],\"table\":[{\"cells\":{\"fill\":{\"color\":\"#EBF0F8\"},\"line\":{\"color\":\"white\"}},\"header\":{\"fill\":{\"color\":\"#C8D4E3\"},\"line\":{\"color\":\"white\"}},\"type\":\"table\"}],\"barpolar\":[{\"marker\":{\"line\":{\"color\":\"#E5ECF6\",\"width\":0.5},\"pattern\":{\"fillmode\":\"overlay\",\"size\":10,\"solidity\":0.2}},\"type\":\"barpolar\"}],\"pie\":[{\"automargin\":true,\"type\":\"pie\"}]},\"layout\":{\"autotypenumbers\":\"strict\",\"colorway\":[\"#636efa\",\"#EF553B\",\"#00cc96\",\"#ab63fa\",\"#FFA15A\",\"#19d3f3\",\"#FF6692\",\"#B6E880\",\"#FF97FF\",\"#FECB52\"],\"font\":{\"color\":\"#2a3f5f\"},\"hovermode\":\"closest\",\"hoverlabel\":{\"align\":\"left\"},\"paper_bgcolor\":\"white\",\"plot_bgcolor\":\"#E5ECF6\",\"polar\":{\"bgcolor\":\"#E5ECF6\",\"angularaxis\":{\"gridcolor\":\"white\",\"linecolor\":\"white\",\"ticks\":\"\"},\"radialaxis\":{\"gridcolor\":\"white\",\"linecolor\":\"white\",\"ticks\":\"\"}},\"ternary\":{\"bgcolor\":\"#E5ECF6\",\"aaxis\":{\"gridcolor\":\"white\",\"linecolor\":\"white\",\"ticks\":\"\"},\"baxis\":{\"gridcolor\":\"white\",\"linecolor\":\"white\",\"ticks\":\"\"},\"caxis\":{\"gridcolor\":\"white\",\"linecolor\":\"white\",\"ticks\":\"\"}},\"coloraxis\":{\"colorbar\":{\"outlinewidth\":0,\"ticks\":\"\"}},\"colorscale\":{\"sequential\":[[0.0,\"#0d0887\"],[0.1111111111111111,\"#46039f\"],[0.2222222222222222,\"#7201a8\"],[0.3333333333333333,\"#9c179e\"],[0.4444444444444444,\"#bd3786\"],[0.5555555555555556,\"#d8576b\"],[0.6666666666666666,\"#ed7953\"],[0.7777777777777778,\"#fb9f3a\"],[0.8888888888888888,\"#fdca26\"],[1.0,\"#f0f921\"]],\"sequentialminus\":[[0.0,\"#0d0887\"],[0.1111111111111111,\"#46039f\"],[0.2222222222222222,\"#7201a8\"],[0.3333333333333333,\"#9c179e\"],[0.4444444444444444,\"#bd3786\"],[0.5555555555555556,\"#d8576b\"],[0.6666666666666666,\"#ed7953\"],[0.7777777777777778,\"#fb9f3a\"],[0.8888888888888888,\"#fdca26\"],[1.0,\"#f0f921\"]],\"diverging\":[[0,\"#8e0152\"],[0.1,\"#c51b7d\"],[0.2,\"#de77ae\"],[0.3,\"#f1b6da\"],[0.4,\"#fde0ef\"],[0.5,\"#f7f7f7\"],[0.6,\"#e6f5d0\"],[0.7,\"#b8e186\"],[0.8,\"#7fbc41\"],[0.9,\"#4d9221\"],[1,\"#276419\"]]},\"xaxis\":{\"gridcolor\":\"white\",\"linecolor\":\"white\",\"ticks\":\"\",\"title\":{\"standoff\":15},\"zerolinecolor\":\"white\",\"automargin\":true,\"zerolinewidth\":2},\"yaxis\":{\"gridcolor\":\"white\",\"linecolor\":\"white\",\"ticks\":\"\",\"title\":{\"standoff\":15},\"zerolinecolor\":\"white\",\"automargin\":true,\"zerolinewidth\":2},\"scene\":{\"xaxis\":{\"backgroundcolor\":\"#E5ECF6\",\"gridcolor\":\"white\",\"linecolor\":\"white\",\"showbackground\":true,\"ticks\":\"\",\"zerolinecolor\":\"white\",\"gridwidth\":2},\"yaxis\":{\"backgroundcolor\":\"#E5ECF6\",\"gridcolor\":\"white\",\"linecolor\":\"white\",\"showbackground\":true,\"ticks\":\"\",\"zerolinecolor\":\"white\",\"gridwidth\":2},\"zaxis\":{\"backgroundcolor\":\"#E5ECF6\",\"gridcolor\":\"white\",\"linecolor\":\"white\",\"showbackground\":true,\"ticks\":\"\",\"zerolinecolor\":\"white\",\"gridwidth\":2}},\"shapedefaults\":{\"line\":{\"color\":\"#2a3f5f\"}},\"annotationdefaults\":{\"arrowcolor\":\"#2a3f5f\",\"arrowhead\":0,\"arrowwidth\":1},\"geo\":{\"bgcolor\":\"white\",\"landcolor\":\"#E5ECF6\",\"subunitcolor\":\"white\",\"showland\":true,\"showlakes\":true,\"lakecolor\":\"white\"},\"title\":{\"x\":0.05},\"mapbox\":{\"style\":\"light\"}}}},                        {\"responsive\": true}                    ).then(function(){\n",
       "                            \n",
       "var gd = document.getElementById('cc76ca69-71cc-410b-99dc-f9af16dc907f');\n",
       "var x = new MutationObserver(function (mutations, observer) {{\n",
       "        var display = window.getComputedStyle(gd).display;\n",
       "        if (!display || display === 'none') {{\n",
       "            console.log([gd, 'removed!']);\n",
       "            Plotly.purge(gd);\n",
       "            observer.disconnect();\n",
       "        }}\n",
       "}});\n",
       "\n",
       "// Listen for the removal of the full notebook cells\n",
       "var notebookContainer = gd.closest('#notebook-container');\n",
       "if (notebookContainer) {{\n",
       "    x.observe(notebookContainer, {childList: true});\n",
       "}}\n",
       "\n",
       "// Listen for the clearing of the current output cell\n",
       "var outputEl = gd.closest('.output');\n",
       "if (outputEl) {{\n",
       "    x.observe(outputEl, {childList: true});\n",
       "}}\n",
       "\n",
       "                        })                };                });            </script>        </div>"
      ]
     },
     "metadata": {},
     "output_type": "display_data"
    }
   ],
   "source": [
    "import plotly.graph_objects as go\n",
    "\n",
    "categories = dmn_coeffs\n",
    "fig = go.Figure()\n",
    "\n",
    "fig.add_trace(go.Scatterpolar(\n",
    "      r=data_cl_mean[\"cluster_0\"].values,\n",
    "      theta=categories,\n",
    "      fill='toself',\n",
    "      name='Cluster 0'\n",
    "))\n",
    "\n",
    "\n",
    "fig.add_trace(go.Scatterpolar(\n",
    "      r=data_cl_mean[\"cluster_2\"].values,\n",
    "      theta=categories,\n",
    "      fill='toself',\n",
    "      name='Cluster 2'\n",
    "))\n",
    "\n",
    "\n",
    "fig.add_trace(go.Scatterpolar(\n",
    "      r=data_cl_mean[\"cluster_10\"].values,\n",
    "      theta=categories,\n",
    "      fill='toself',\n",
    "      name='Cluster 10'\n",
    "))\n",
    "\n",
    "\n",
    "fig.add_trace(go.Scatterpolar(\n",
    "      r=data_cl_mean[\"cluster_9\"].values,\n",
    "      theta=categories,\n",
    "      fill='toself',\n",
    "      name='Cluster 9'\n",
    "))\n"
   ]
  },
  {
   "cell_type": "code",
   "execution_count": null,
   "id": "cebc6894",
   "metadata": {},
   "outputs": [],
   "source": []
  }
 ],
 "metadata": {
  "kernelspec": {
   "display_name": "Python 3 (ipykernel)",
   "language": "python",
   "name": "python3"
  },
  "language_info": {
   "codemirror_mode": {
    "name": "ipython",
    "version": 3
   },
   "file_extension": ".py",
   "mimetype": "text/x-python",
   "name": "python",
   "nbconvert_exporter": "python",
   "pygments_lexer": "ipython3",
   "version": "3.10.7"
  }
 },
 "nbformat": 4,
 "nbformat_minor": 5
}
