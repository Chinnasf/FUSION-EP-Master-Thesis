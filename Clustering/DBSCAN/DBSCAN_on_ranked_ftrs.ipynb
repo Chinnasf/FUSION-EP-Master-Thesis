{
 "cells": [
  {
   "cell_type": "code",
   "execution_count": 1,
   "id": "449f841c",
   "metadata": {},
   "outputs": [],
   "source": [
    "%load_ext autoreload\n",
    "%autoreload 2"
   ]
  },
  {
   "cell_type": "code",
   "execution_count": 2,
   "id": "a2725409",
   "metadata": {},
   "outputs": [],
   "source": [
    "import numpy as np \n",
    "import pandas as pd\n",
    "import matplotlib.pyplot as plt\n",
    "import scipy as sp\n",
    "import statsmodels.api as sm\n",
    "import matplotlib.patches as mpatches\n",
    "\n",
    "from sklearn.preprocessing import StandardScaler\n",
    "from sklearn.cluster import KMeans\n",
    "from yellowbrick.cluster import KElbowVisualizer\n",
    "from yellowbrick.cluster import SilhouetteVisualizer\n",
    "\n",
    "from sklearn.neighbors import NearestNeighbors\n",
    "from sklearn.cluster import DBSCAN\n",
    "from collections import Counter\n",
    "from kneebow.rotor import Rotor\n",
    "\n",
    "pd.set_option('display.max_columns', None)\n",
    "path = \"../../data/\"\n",
    "\n",
    "\"\"\"ordered_features = ['RGEO', 'VOL', 'AMIN', 'BETASTAR', 'IP', \n",
    "                    'RHOSTAR', 'EPS', 'TAUBOHM', 'TAUTH', 'KAREA', \n",
    "                    'NEL', 'TIME', 'OMEGACYCL', 'MEFF', 'Q95', \n",
    "                    'TAV', 'PLTH', 'QCYL5', 'PL', 'PNBI', 'PICRH', \n",
    "                    'NUSTAR', 'LCOULOMB', 'BT', 'POHM', 'PECRH', 'PFLOSS']\"\"\" #with TIME\n",
    "\n",
    "ordered_features = ['BETASTAR', 'RHOSTAR', 'EPS', 'TAUBOHM', 'KAREA', \n",
    "                     'NEL', 'TAUTH', 'RGEO', 'OMEGACYCL', 'Q95', 'TAV', \n",
    "                     'MEFF', 'AMIN', 'QCYL5', 'IP', 'PLTH', 'PICRH', 'PL', \n",
    "                     'VOL', 'NUSTAR', 'PNBI', 'LCOULOMB', 'BT', 'POHM'\n",
    "                     , 'PECRH', 'PFLOSS'] #within TIME"
   ]
  },
  {
   "cell_type": "code",
   "execution_count": 3,
   "id": "8ad7b842",
   "metadata": {},
   "outputs": [],
   "source": [
    "# Reading data and preparing it\n",
    "\n",
    "DB5 = pd.read_csv(path+\"DB5.csv\") #From DB5 dataset | log data\n",
    "subset_ids = pd.read_csv(path+\"R_ids_alpha_0.6556.csv\")\n",
    "data_ = (DB5[DB5.id.isin(subset_ids.id.values)]).reset_index(drop=True)\n",
    "data_ = data_.dropna(axis='columns')"
   ]
  },
  {
   "cell_type": "code",
   "execution_count": 4,
   "id": "33b9139c",
   "metadata": {},
   "outputs": [],
   "source": [
    "# Standard Scaler\n",
    "X = data_[ordered_features[:10]]\n",
    "X = StandardScaler().fit_transform(X)\n",
    "data = pd.DataFrame(X, columns=ordered_features[:10])\n",
    "data[\"TOK\"] = data_[\"TOK\"]"
   ]
  },
  {
   "cell_type": "code",
   "execution_count": 22,
   "id": "3e0cef1c",
   "metadata": {},
   "outputs": [
    {
     "data": {
      "text/plain": [
       "(1485, 1485)"
      ]
     },
     "execution_count": 22,
     "metadata": {},
     "output_type": "execute_result"
    }
   ],
   "source": [
    "len(data), len(data_)"
   ]
  },
  {
   "cell_type": "code",
   "execution_count": 5,
   "id": "52462b1b",
   "metadata": {},
   "outputs": [
    {
     "data": {
      "image/png": "[encoded data removed]",
      "text/plain": [
       "<Figure size 700x400 with 1 Axes>"
      ]
     },
     "metadata": {},
     "output_type": "display_data"
    }
   ],
   "source": [
    "### Computing the optimal epsilon\n",
    "\n",
    "#%matplotlib notebook\n",
    "\n",
    "NNeighbours = 2*X.shape[-1]\n",
    "\n",
    "# getting the average distance\n",
    "neighbors = NearestNeighbors(n_neighbors = NNeighbours)\n",
    "neighbors_fit = neighbors.fit(X)\n",
    "distances, indices = neighbors_fit.kneighbors(X)\n",
    "distances = np.sort(distances, axis=0)\n",
    "distances = distances[:,1]\n",
    "\n",
    "x = list(range(len(distances)))\n",
    "\n",
    "plt.figure(figsize=(7,4))\n",
    "plt.scatter(x, distances, s=1)\n",
    "\n",
    "data_elbow = (pd.DataFrame([x, distances]).T).values.tolist()\n",
    "rotor = Rotor()\n",
    "rotor.fit_rotate( data_elbow )\n",
    "elbow_index = rotor.get_elbow_index()\n",
    "plt.axvline(elbow_index, c=\"k\")\n",
    "#plt.axvline(1204, c=\"r\")\n",
    "\n",
    "#plt.axis([900, max(x), min(distances), max(distances)])\n",
    "\n",
    "plt.ylabel(\"Distance\")\n",
    "plt.xlabel(\"Object\")\n",
    "plt.grid(True, alpha=0.5);"
   ]
  },
  {
   "cell_type": "code",
   "execution_count": 6,
   "id": "a0ebbf28",
   "metadata": {},
   "outputs": [
    {
     "data": {
      "text/plain": [
       "Counter({0: 252,\n",
       "         -1: 879,\n",
       "         1: 91,\n",
       "         3: 41,\n",
       "         2: 37,\n",
       "         4: 82,\n",
       "         5: 39,\n",
       "         8: 22,\n",
       "         7: 22,\n",
       "         6: 20})"
      ]
     },
     "execution_count": 6,
     "metadata": {},
     "output_type": "execute_result"
    }
   ],
   "source": [
    "# Label -1 means noise\n",
    "DB = DBSCAN(eps = distances[elbow_index], min_samples=NNeighbours ).fit(X)\n",
    "labels = DB.labels_\n",
    "data.insert(loc=0, column=\"labels\", value=labels)\n",
    "Counter(labels)"
   ]
  },
  {
   "cell_type": "code",
   "execution_count": 7,
   "id": "b8f90cd6",
   "metadata": {},
   "outputs": [],
   "source": [
    "labels_unique = list(range(-1, len(Counter(labels)) -1) )\n",
    "\n",
    "TOKs_per_lbl = [0]*len(labels_unique)\n",
    "for i,lbl in enumerate(labels_unique):\n",
    "    df = data[data.labels.isin([lbl])]\n",
    "    TOKs_per_lbl[i] = df.TOK.unique()"
   ]
  },
  {
   "cell_type": "code",
   "execution_count": 8,
   "id": "565263ec",
   "metadata": {},
   "outputs": [
    {
     "data": {
      "text/html": [
       "<div>\n",
       "<style scoped>\n",
       "    .dataframe tbody tr th:only-of-type {\n",
       "        vertical-align: middle;\n",
       "    }\n",
       "\n",
       "    .dataframe tbody tr th {\n",
       "        vertical-align: top;\n",
       "    }\n",
       "\n",
       "    .dataframe thead th {\n",
       "        text-align: right;\n",
       "    }\n",
       "</style>\n",
       "<table border=\"1\" class=\"dataframe\">\n",
       "  <thead>\n",
       "    <tr style=\"text-align: right;\">\n",
       "      <th></th>\n",
       "      <th>0</th>\n",
       "      <th>1</th>\n",
       "      <th>2</th>\n",
       "      <th>3</th>\n",
       "      <th>4</th>\n",
       "      <th>5</th>\n",
       "      <th>6</th>\n",
       "      <th>7</th>\n",
       "      <th>8</th>\n",
       "      <th>9</th>\n",
       "    </tr>\n",
       "  </thead>\n",
       "  <tbody>\n",
       "    <tr>\n",
       "      <th>-1</th>\n",
       "      <td>AUG</td>\n",
       "      <td>AUGW</td>\n",
       "      <td>CMOD</td>\n",
       "      <td>D3D</td>\n",
       "      <td>JET</td>\n",
       "      <td>JETILW</td>\n",
       "      <td>JT60U</td>\n",
       "      <td>MAST</td>\n",
       "      <td>NSTX</td>\n",
       "      <td>START</td>\n",
       "    </tr>\n",
       "    <tr>\n",
       "      <th>0</th>\n",
       "      <td>AUG</td>\n",
       "      <td>AUGW</td>\n",
       "      <td>None</td>\n",
       "      <td>None</td>\n",
       "      <td>None</td>\n",
       "      <td>None</td>\n",
       "      <td>None</td>\n",
       "      <td>None</td>\n",
       "      <td>None</td>\n",
       "      <td>None</td>\n",
       "    </tr>\n",
       "    <tr>\n",
       "      <th>1</th>\n",
       "      <td>AUG</td>\n",
       "      <td>None</td>\n",
       "      <td>None</td>\n",
       "      <td>None</td>\n",
       "      <td>None</td>\n",
       "      <td>None</td>\n",
       "      <td>None</td>\n",
       "      <td>None</td>\n",
       "      <td>None</td>\n",
       "      <td>None</td>\n",
       "    </tr>\n",
       "    <tr>\n",
       "      <th>2</th>\n",
       "      <td>AUG</td>\n",
       "      <td>AUGW</td>\n",
       "      <td>None</td>\n",
       "      <td>None</td>\n",
       "      <td>None</td>\n",
       "      <td>None</td>\n",
       "      <td>None</td>\n",
       "      <td>None</td>\n",
       "      <td>None</td>\n",
       "      <td>None</td>\n",
       "    </tr>\n",
       "    <tr>\n",
       "      <th>3</th>\n",
       "      <td>AUG</td>\n",
       "      <td>None</td>\n",
       "      <td>None</td>\n",
       "      <td>None</td>\n",
       "      <td>None</td>\n",
       "      <td>None</td>\n",
       "      <td>None</td>\n",
       "      <td>None</td>\n",
       "      <td>None</td>\n",
       "      <td>None</td>\n",
       "    </tr>\n",
       "    <tr>\n",
       "      <th>4</th>\n",
       "      <td>D3D</td>\n",
       "      <td>None</td>\n",
       "      <td>None</td>\n",
       "      <td>None</td>\n",
       "      <td>None</td>\n",
       "      <td>None</td>\n",
       "      <td>None</td>\n",
       "      <td>None</td>\n",
       "      <td>None</td>\n",
       "      <td>None</td>\n",
       "    </tr>\n",
       "    <tr>\n",
       "      <th>5</th>\n",
       "      <td>JET</td>\n",
       "      <td>JETILW</td>\n",
       "      <td>None</td>\n",
       "      <td>None</td>\n",
       "      <td>None</td>\n",
       "      <td>None</td>\n",
       "      <td>None</td>\n",
       "      <td>None</td>\n",
       "      <td>None</td>\n",
       "      <td>None</td>\n",
       "    </tr>\n",
       "    <tr>\n",
       "      <th>6</th>\n",
       "      <td>JETILW</td>\n",
       "      <td>None</td>\n",
       "      <td>None</td>\n",
       "      <td>None</td>\n",
       "      <td>None</td>\n",
       "      <td>None</td>\n",
       "      <td>None</td>\n",
       "      <td>None</td>\n",
       "      <td>None</td>\n",
       "      <td>None</td>\n",
       "    </tr>\n",
       "    <tr>\n",
       "      <th>7</th>\n",
       "      <td>JETILW</td>\n",
       "      <td>None</td>\n",
       "      <td>None</td>\n",
       "      <td>None</td>\n",
       "      <td>None</td>\n",
       "      <td>None</td>\n",
       "      <td>None</td>\n",
       "      <td>None</td>\n",
       "      <td>None</td>\n",
       "      <td>None</td>\n",
       "    </tr>\n",
       "    <tr>\n",
       "      <th>8</th>\n",
       "      <td>JET</td>\n",
       "      <td>JETILW</td>\n",
       "      <td>None</td>\n",
       "      <td>None</td>\n",
       "      <td>None</td>\n",
       "      <td>None</td>\n",
       "      <td>None</td>\n",
       "      <td>None</td>\n",
       "      <td>None</td>\n",
       "      <td>None</td>\n",
       "    </tr>\n",
       "  </tbody>\n",
       "</table>\n",
       "</div>"
      ],
      "text/plain": [
       "         0       1     2     3     4       5      6     7     8      9\n",
       "-1     AUG    AUGW  CMOD   D3D   JET  JETILW  JT60U  MAST  NSTX  START\n",
       " 0     AUG    AUGW  None  None  None    None   None  None  None   None\n",
       " 1     AUG    None  None  None  None    None   None  None  None   None\n",
       " 2     AUG    AUGW  None  None  None    None   None  None  None   None\n",
       " 3     AUG    None  None  None  None    None   None  None  None   None\n",
       " 4     D3D    None  None  None  None    None   None  None  None   None\n",
       " 5     JET  JETILW  None  None  None    None   None  None  None   None\n",
       " 6  JETILW    None  None  None  None    None   None  None  None   None\n",
       " 7  JETILW    None  None  None  None    None   None  None  None   None\n",
       " 8     JET  JETILW  None  None  None    None   None  None  None   None"
      ]
     },
     "execution_count": 8,
     "metadata": {},
     "output_type": "execute_result"
    }
   ],
   "source": [
    "# *** Unique Tokamaks found per label \n",
    "# *** This will allow to discern wether the clustering happened in obvious parameters\n",
    "# Index of the df is the label / columns names can be ignored\n",
    "pd.DataFrame(TOKs_per_lbl, index=labels_unique)"
   ]
  },
  {
   "cell_type": "code",
   "execution_count": 9,
   "id": "c1f43ec3",
   "metadata": {},
   "outputs": [
    {
     "name": "stdout",
     "output_type": "stream",
     "text": [
      "Mean values of each feature per cluster\n"
     ]
    },
    {
     "data": {
      "text/html": [
       "<div>\n",
       "<style scoped>\n",
       "    .dataframe tbody tr th:only-of-type {\n",
       "        vertical-align: middle;\n",
       "    }\n",
       "\n",
       "    .dataframe tbody tr th {\n",
       "        vertical-align: top;\n",
       "    }\n",
       "\n",
       "    .dataframe thead th {\n",
       "        text-align: right;\n",
       "    }\n",
       "</style>\n",
       "<table border=\"1\" class=\"dataframe\">\n",
       "  <thead>\n",
       "    <tr style=\"text-align: right;\">\n",
       "      <th>labels</th>\n",
       "      <th>cluster_0</th>\n",
       "      <th>cluster_1</th>\n",
       "      <th>cluster_2</th>\n",
       "      <th>cluster_3</th>\n",
       "      <th>cluster_4</th>\n",
       "      <th>cluster_5</th>\n",
       "      <th>cluster_6</th>\n",
       "      <th>cluster_7</th>\n",
       "      <th>cluster_8</th>\n",
       "    </tr>\n",
       "  </thead>\n",
       "  <tbody>\n",
       "    <tr>\n",
       "      <th>BETASTAR</th>\n",
       "      <td>-0.378794</td>\n",
       "      <td>-0.229452</td>\n",
       "      <td>-0.431406</td>\n",
       "      <td>0.022225</td>\n",
       "      <td>0.275214</td>\n",
       "      <td>-0.235000</td>\n",
       "      <td>-0.430610</td>\n",
       "      <td>-0.189450</td>\n",
       "      <td>-0.291076</td>\n",
       "    </tr>\n",
       "    <tr>\n",
       "      <th>RHOSTAR</th>\n",
       "      <td>-0.356849</td>\n",
       "      <td>0.437918</td>\n",
       "      <td>-0.281113</td>\n",
       "      <td>0.596482</td>\n",
       "      <td>0.815609</td>\n",
       "      <td>-0.679901</td>\n",
       "      <td>-0.716514</td>\n",
       "      <td>-0.533482</td>\n",
       "      <td>-0.364313</td>\n",
       "    </tr>\n",
       "    <tr>\n",
       "      <th>EPS</th>\n",
       "      <td>-0.211740</td>\n",
       "      <td>-0.420547</td>\n",
       "      <td>-0.297907</td>\n",
       "      <td>-0.311380</td>\n",
       "      <td>0.245949</td>\n",
       "      <td>-0.271792</td>\n",
       "      <td>-0.187321</td>\n",
       "      <td>-0.226446</td>\n",
       "      <td>-0.247049</td>\n",
       "    </tr>\n",
       "    <tr>\n",
       "      <th>TAUBOHM</th>\n",
       "      <td>-0.453878</td>\n",
       "      <td>0.109458</td>\n",
       "      <td>-0.680885</td>\n",
       "      <td>-0.479106</td>\n",
       "      <td>-0.309799</td>\n",
       "      <td>1.039894</td>\n",
       "      <td>0.363713</td>\n",
       "      <td>0.541548</td>\n",
       "      <td>-0.200587</td>\n",
       "    </tr>\n",
       "    <tr>\n",
       "      <th>KAREA</th>\n",
       "      <td>-0.012922</td>\n",
       "      <td>0.264824</td>\n",
       "      <td>-0.438958</td>\n",
       "      <td>0.243027</td>\n",
       "      <td>0.183034</td>\n",
       "      <td>-0.324612</td>\n",
       "      <td>-0.856480</td>\n",
       "      <td>-0.382492</td>\n",
       "      <td>-0.552903</td>\n",
       "    </tr>\n",
       "    <tr>\n",
       "      <th>NEL</th>\n",
       "      <td>0.697720</td>\n",
       "      <td>-0.668560</td>\n",
       "      <td>0.007318</td>\n",
       "      <td>-0.318895</td>\n",
       "      <td>-0.713144</td>\n",
       "      <td>0.561161</td>\n",
       "      <td>-0.489556</td>\n",
       "      <td>-0.126152</td>\n",
       "      <td>-1.066218</td>\n",
       "    </tr>\n",
       "    <tr>\n",
       "      <th>TAUTH</th>\n",
       "      <td>-0.587003</td>\n",
       "      <td>0.031159</td>\n",
       "      <td>-0.840355</td>\n",
       "      <td>-0.443428</td>\n",
       "      <td>0.003038</td>\n",
       "      <td>0.922403</td>\n",
       "      <td>0.409648</td>\n",
       "      <td>0.853796</td>\n",
       "      <td>0.092591</td>\n",
       "    </tr>\n",
       "    <tr>\n",
       "      <th>RGEO</th>\n",
       "      <td>-0.649704</td>\n",
       "      <td>-0.614821</td>\n",
       "      <td>-0.642775</td>\n",
       "      <td>-0.622387</td>\n",
       "      <td>-0.589846</td>\n",
       "      <td>1.196359</td>\n",
       "      <td>1.178897</td>\n",
       "      <td>1.190419</td>\n",
       "      <td>1.181644</td>\n",
       "    </tr>\n",
       "    <tr>\n",
       "      <th>OMEGACYCL</th>\n",
       "      <td>0.403949</td>\n",
       "      <td>0.441289</td>\n",
       "      <td>0.392213</td>\n",
       "      <td>-0.268241</td>\n",
       "      <td>-0.741901</td>\n",
       "      <td>0.694052</td>\n",
       "      <td>0.246091</td>\n",
       "      <td>-0.129009</td>\n",
       "      <td>-0.587046</td>\n",
       "    </tr>\n",
       "    <tr>\n",
       "      <th>Q95</th>\n",
       "      <td>0.175914</td>\n",
       "      <td>-0.074594</td>\n",
       "      <td>0.737484</td>\n",
       "      <td>-0.433553</td>\n",
       "      <td>-0.048159</td>\n",
       "      <td>-0.879503</td>\n",
       "      <td>-0.229569</td>\n",
       "      <td>-0.889862</td>\n",
       "      <td>-0.481667</td>\n",
       "    </tr>\n",
       "  </tbody>\n",
       "</table>\n",
       "</div>"
      ],
      "text/plain": [
       "labels     cluster_0  cluster_1  cluster_2  cluster_3  cluster_4  cluster_5  \\\n",
       "BETASTAR   -0.378794  -0.229452  -0.431406   0.022225   0.275214  -0.235000   \n",
       "RHOSTAR    -0.356849   0.437918  -0.281113   0.596482   0.815609  -0.679901   \n",
       "EPS        -0.211740  -0.420547  -0.297907  -0.311380   0.245949  -0.271792   \n",
       "TAUBOHM    -0.453878   0.109458  -0.680885  -0.479106  -0.309799   1.039894   \n",
       "KAREA      -0.012922   0.264824  -0.438958   0.243027   0.183034  -0.324612   \n",
       "NEL         0.697720  -0.668560   0.007318  -0.318895  -0.713144   0.561161   \n",
       "TAUTH      -0.587003   0.031159  -0.840355  -0.443428   0.003038   0.922403   \n",
       "RGEO       -0.649704  -0.614821  -0.642775  -0.622387  -0.589846   1.196359   \n",
       "OMEGACYCL   0.403949   0.441289   0.392213  -0.268241  -0.741901   0.694052   \n",
       "Q95         0.175914  -0.074594   0.737484  -0.433553  -0.048159  -0.879503   \n",
       "\n",
       "labels     cluster_6  cluster_7  cluster_8  \n",
       "BETASTAR   -0.430610  -0.189450  -0.291076  \n",
       "RHOSTAR    -0.716514  -0.533482  -0.364313  \n",
       "EPS        -0.187321  -0.226446  -0.247049  \n",
       "TAUBOHM     0.363713   0.541548  -0.200587  \n",
       "KAREA      -0.856480  -0.382492  -0.552903  \n",
       "NEL        -0.489556  -0.126152  -1.066218  \n",
       "TAUTH       0.409648   0.853796   0.092591  \n",
       "RGEO        1.178897   1.190419   1.181644  \n",
       "OMEGACYCL   0.246091  -0.129009  -0.587046  \n",
       "Q95        -0.229569  -0.889862  -0.481667  "
      ]
     },
     "execution_count": 9,
     "metadata": {},
     "output_type": "execute_result"
    }
   ],
   "source": [
    "data_cl = data[~data.labels.isin([-1])][[\"labels\"]+ordered_features[:10]]\n",
    "data_cl_mean = data_cl.groupby(\"labels\").mean().T\n",
    "data_cl_mean.columns = \"cluster_\"+data_cl_mean.columns.astype(str)\n",
    "print(\"Mean values of each feature per cluster\")\n",
    "data_cl_mean"
   ]
  },
  {
   "cell_type": "code",
   "execution_count": 20,
   "id": "b2860ac3",
   "metadata": {},
   "outputs": [
    {
     "data": {
      "application/vnd.plotly.v1+json": {
       "config": {
        "plotlyServerURL": "https://plot.ly"
       },
       "data": [
        {
         "fill": "toself",
         "name": "Cluster 0",
         "r": [
          -0.3787939452555419,
          -0.3568485217124862,
          -0.21174020110928649,
          -0.45387845593513665,
          -0.012921564868647187,
          0.6977195946858361,
          -0.5870026472740687,
          -0.6497040043094198,
          0.4039494569603597,
          0.17591380240784626
         ],
         "theta": [
          "BETASTAR",
          "RHOSTAR",
          "EPS",
          "TAUBOHM",
          "KAREA",
          "NEL",
          "TAUTH",
          "RGEO",
          "OMEGACYCL",
          "Q95"
         ],
         "type": "scatterpolar"
        },
        {
         "fill": "toself",
         "name": "Cluster 1",
         "r": [
          -0.22945172468763847,
          0.43791829080574957,
          -0.42054722878996276,
          0.10945832311394806,
          0.26482378151831854,
          -0.6685596546096736,
          0.03115948092708441,
          -0.6148214214277344,
          0.441288861406437,
          -0.07459414577053154
         ],
         "theta": [
          "BETASTAR",
          "RHOSTAR",
          "EPS",
          "TAUBOHM",
          "KAREA",
          "NEL",
          "TAUTH",
          "RGEO",
          "OMEGACYCL",
          "Q95"
         ],
         "type": "scatterpolar"
        },
        {
         "fill": "toself",
         "name": "Cluster 2",
         "r": [
          -0.4314063225780319,
          -0.28111339653046435,
          -0.29790745636514543,
          -0.6808850269990845,
          -0.4389577235970958,
          0.007317574682883291,
          -0.840355040465074,
          -0.6427746393957061,
          0.3922130466366586,
          0.7374837066174332
         ],
         "theta": [
          "BETASTAR",
          "RHOSTAR",
          "EPS",
          "TAUBOHM",
          "KAREA",
          "NEL",
          "TAUTH",
          "RGEO",
          "OMEGACYCL",
          "Q95"
         ],
         "type": "scatterpolar"
        },
        {
         "fill": "toself",
         "name": "Cluster 3",
         "r": [
          0.022225476118919115,
          0.5964824368675967,
          -0.31137975423662034,
          -0.47910619055548825,
          0.24302711156910453,
          -0.3188952425129658,
          -0.4434283330929977,
          -0.6223867410754355,
          -0.2682414594290035,
          -0.4335525179648485
         ],
         "theta": [
          "BETASTAR",
          "RHOSTAR",
          "EPS",
          "TAUBOHM",
          "KAREA",
          "NEL",
          "TAUTH",
          "RGEO",
          "OMEGACYCL",
          "Q95"
         ],
         "type": "scatterpolar"
        },
        {
         "fill": "toself",
         "name": "Cluster 4",
         "r": [
          0.27521357997050505,
          0.8156086201271896,
          0.2459485594287875,
          -0.30979939913983834,
          0.1830335344304101,
          -0.7131444826230682,
          0.003038329930159902,
          -0.5898457027918906,
          -0.7419008300561178,
          -0.04815942066414295
         ],
         "theta": [
          "BETASTAR",
          "RHOSTAR",
          "EPS",
          "TAUBOHM",
          "KAREA",
          "NEL",
          "TAUTH",
          "RGEO",
          "OMEGACYCL",
          "Q95"
         ],
         "type": "scatterpolar"
        },
        {
         "fill": "toself",
         "name": "Cluster 5",
         "r": [
          -0.23500003179032092,
          -0.6799010528670717,
          -0.27179211538029807,
          1.0398940277598963,
          -0.32461180827476777,
          0.5611610442575046,
          0.9224029033751879,
          1.1963587138213314,
          0.6940515894948573,
          -0.8795025858473591
         ],
         "theta": [
          "BETASTAR",
          "RHOSTAR",
          "EPS",
          "TAUBOHM",
          "KAREA",
          "NEL",
          "TAUTH",
          "RGEO",
          "OMEGACYCL",
          "Q95"
         ],
         "type": "scatterpolar"
        },
        {
         "fill": "toself",
         "name": "Cluster 6",
         "r": [
          -0.4306103191695989,
          -0.7165143776940132,
          -0.18732116937919588,
          0.36371313380328846,
          -0.8564799443799596,
          -0.48955555053540395,
          0.4096482812967551,
          1.1788966065430275,
          0.24609112028851693,
          -0.22956944995046155
         ],
         "theta": [
          "BETASTAR",
          "RHOSTAR",
          "EPS",
          "TAUBOHM",
          "KAREA",
          "NEL",
          "TAUTH",
          "RGEO",
          "OMEGACYCL",
          "Q95"
         ],
         "type": "scatterpolar"
        },
        {
         "fill": "toself",
         "name": "Cluster 7",
         "r": [
          -0.18945009136829452,
          -0.5334824152047992,
          -0.22644569944316073,
          0.5415478709290005,
          -0.38249195596727054,
          -0.12615187534014605,
          0.8537964192712426,
          1.1904194835067394,
          -0.12900909430382415,
          -0.8898618235859995
         ],
         "theta": [
          "BETASTAR",
          "RHOSTAR",
          "EPS",
          "TAUBOHM",
          "KAREA",
          "NEL",
          "TAUTH",
          "RGEO",
          "OMEGACYCL",
          "Q95"
         ],
         "type": "scatterpolar"
        },
        {
         "fill": "toself",
         "name": "Cluster 8",
         "r": [
          -0.2910764786523308,
          -0.3643133173161423,
          -0.24704914173344014,
          -0.20058727782231162,
          -0.5529033459528329,
          -1.0662175521926234,
          0.09259138771580257,
          1.181643930933638,
          -0.5870461344412814,
          -0.48166672201607513
         ],
         "theta": [
          "BETASTAR",
          "RHOSTAR",
          "EPS",
          "TAUBOHM",
          "KAREA",
          "NEL",
          "TAUTH",
          "RGEO",
          "OMEGACYCL",
          "Q95"
         ],
         "type": "scatterpolar"
        }
       ],
       "layout": {
        "template": {
         "data": {
          "bar": [
           {
            "error_x": {
             "color": "#2a3f5f"
            },
            "error_y": {
             "color": "#2a3f5f"
            },
            "marker": {
             "line": {
              "color": "#E5ECF6",
              "width": 0.5
             },
             "pattern": {
              "fillmode": "overlay",
              "size": 10,
              "solidity": 0.2
             }
            },
            "type": "bar"
           }
          ],
          "barpolar": [
           {
            "marker": {
             "line": {
              "color": "#E5ECF6",
              "width": 0.5
             },
             "pattern": {
              "fillmode": "overlay",
              "size": 10,
              "solidity": 0.2
             }
            },
            "type": "barpolar"
           }
          ],
          "carpet": [
           {
            "aaxis": {
             "endlinecolor": "#2a3f5f",
             "gridcolor": "white",
             "linecolor": "white",
             "minorgridcolor": "white",
             "startlinecolor": "#2a3f5f"
            },
            "baxis": {
             "endlinecolor": "#2a3f5f",
             "gridcolor": "white",
             "linecolor": "white",
             "minorgridcolor": "white",
             "startlinecolor": "#2a3f5f"
            },
            "type": "carpet"
           }
          ],
          "choropleth": [
           {
            "colorbar": {
             "outlinewidth": 0,
             "ticks": ""
            },
            "type": "choropleth"
           }
          ],
          "contour": [
           {
            "colorbar": {
             "outlinewidth": 0,
             "ticks": ""
            },
            "colorscale": [
             [
              0,
              "#0d0887"
             ],
             [
              0.1111111111111111,
              "#46039f"
             ],
             [
              0.2222222222222222,
              "#7201a8"
             ],
             [
              0.3333333333333333,
              "#9c179e"
             ],
             [
              0.4444444444444444,
              "#bd3786"
             ],
             [
              0.5555555555555556,
              "#d8576b"
             ],
             [
              0.6666666666666666,
              "#ed7953"
             ],
             [
              0.7777777777777778,
              "#fb9f3a"
             ],
             [
              0.8888888888888888,
              "#fdca26"
             ],
             [
              1,
              "#f0f921"
             ]
            ],
            "type": "contour"
           }
          ],
          "contourcarpet": [
           {
            "colorbar": {
             "outlinewidth": 0,
             "ticks": ""
            },
            "type": "contourcarpet"
           }
          ],
          "heatmap": [
           {
            "colorbar": {
             "outlinewidth": 0,
             "ticks": ""
            },
            "colorscale": [
             [
              0,
              "#0d0887"
             ],
             [
              0.1111111111111111,
              "#46039f"
             ],
             [
              0.2222222222222222,
              "#7201a8"
             ],
             [
              0.3333333333333333,
              "#9c179e"
             ],
             [
              0.4444444444444444,
              "#bd3786"
             ],
             [
              0.5555555555555556,
              "#d8576b"
             ],
             [
              0.6666666666666666,
              "#ed7953"
             ],
             [
              0.7777777777777778,
              "#fb9f3a"
             ],
             [
              0.8888888888888888,
              "#fdca26"
             ],
             [
              1,
              "#f0f921"
             ]
            ],
            "type": "heatmap"
           }
          ],
          "heatmapgl": [
           {
            "colorbar": {
             "outlinewidth": 0,
             "ticks": ""
            },
            "colorscale": [
             [
              0,
              "#0d0887"
             ],
             [
              0.1111111111111111,
              "#46039f"
             ],
             [
              0.2222222222222222,
              "#7201a8"
             ],
             [
              0.3333333333333333,
              "#9c179e"
             ],
             [
              0.4444444444444444,
              "#bd3786"
             ],
             [
              0.5555555555555556,
              "#d8576b"
             ],
             [
              0.6666666666666666,
              "#ed7953"
             ],
             [
              0.7777777777777778,
              "#fb9f3a"
             ],
             [
              0.8888888888888888,
              "#fdca26"
             ],
             [
              1,
              "#f0f921"
             ]
            ],
            "type": "heatmapgl"
           }
          ],
          "histogram": [
           {
            "marker": {
             "pattern": {
              "fillmode": "overlay",
              "size": 10,
              "solidity": 0.2
             }
            },
            "type": "histogram"
           }
          ],
          "histogram2d": [
           {
            "colorbar": {
             "outlinewidth": 0,
             "ticks": ""
            },
            "colorscale": [
             [
              0,
              "#0d0887"
             ],
             [
              0.1111111111111111,
              "#46039f"
             ],
             [
              0.2222222222222222,
              "#7201a8"
             ],
             [
              0.3333333333333333,
              "#9c179e"
             ],
             [
              0.4444444444444444,
              "#bd3786"
             ],
             [
              0.5555555555555556,
              "#d8576b"
             ],
             [
              0.6666666666666666,
              "#ed7953"
             ],
             [
              0.7777777777777778,
              "#fb9f3a"
             ],
             [
              0.8888888888888888,
              "#fdca26"
             ],
             [
              1,
              "#f0f921"
             ]
            ],
            "type": "histogram2d"
           }
          ],
          "histogram2dcontour": [
           {
            "colorbar": {
             "outlinewidth": 0,
             "ticks": ""
            },
            "colorscale": [
             [
              0,
              "#0d0887"
             ],
             [
              0.1111111111111111,
              "#46039f"
             ],
             [
              0.2222222222222222,
              "#7201a8"
             ],
             [
              0.3333333333333333,
              "#9c179e"
             ],
             [
              0.4444444444444444,
              "#bd3786"
             ],
             [
              0.5555555555555556,
              "#d8576b"
             ],
             [
              0.6666666666666666,
              "#ed7953"
             ],
             [
              0.7777777777777778,
              "#fb9f3a"
             ],
             [
              0.8888888888888888,
              "#fdca26"
             ],
             [
              1,
              "#f0f921"
             ]
            ],
            "type": "histogram2dcontour"
           }
          ],
          "mesh3d": [
           {
            "colorbar": {
             "outlinewidth": 0,
             "ticks": ""
            },
            "type": "mesh3d"
           }
          ],
          "parcoords": [
           {
            "line": {
             "colorbar": {
              "outlinewidth": 0,
              "ticks": ""
             }
            },
            "type": "parcoords"
           }
          ],
          "pie": [
           {
            "automargin": true,
            "type": "pie"
           }
          ],
          "scatter": [
           {
            "fillpattern": {
             "fillmode": "overlay",
             "size": 10,
             "solidity": 0.2
            },
            "type": "scatter"
           }
          ],
          "scatter3d": [
           {
            "line": {
             "colorbar": {
              "outlinewidth": 0,
              "ticks": ""
             }
            },
            "marker": {
             "colorbar": {
              "outlinewidth": 0,
              "ticks": ""
             }
            },
            "type": "scatter3d"
           }
          ],
          "scattercarpet": [
           {
            "marker": {
             "colorbar": {
              "outlinewidth": 0,
              "ticks": ""
             }
            },
            "type": "scattercarpet"
           }
          ],
          "scattergeo": [
           {
            "marker": {
             "colorbar": {
              "outlinewidth": 0,
              "ticks": ""
             }
            },
            "type": "scattergeo"
           }
          ],
          "scattergl": [
           {
            "marker": {
             "colorbar": {
              "outlinewidth": 0,
              "ticks": ""
             }
            },
            "type": "scattergl"
           }
          ],
          "scattermapbox": [
           {
            "marker": {
             "colorbar": {
              "outlinewidth": 0,
              "ticks": ""
             }
            },
            "type": "scattermapbox"
           }
          ],
          "scatterpolar": [
           {
            "marker": {
             "colorbar": {
              "outlinewidth": 0,
              "ticks": ""
             }
            },
            "type": "scatterpolar"
           }
          ],
          "scatterpolargl": [
           {
            "marker": {
             "colorbar": {
              "outlinewidth": 0,
              "ticks": ""
             }
            },
            "type": "scatterpolargl"
           }
          ],
          "scatterternary": [
           {
            "marker": {
             "colorbar": {
              "outlinewidth": 0,
              "ticks": ""
             }
            },
            "type": "scatterternary"
           }
          ],
          "surface": [
           {
            "colorbar": {
             "outlinewidth": 0,
             "ticks": ""
            },
            "colorscale": [
             [
              0,
              "#0d0887"
             ],
             [
              0.1111111111111111,
              "#46039f"
             ],
             [
              0.2222222222222222,
              "#7201a8"
             ],
             [
              0.3333333333333333,
              "#9c179e"
             ],
             [
              0.4444444444444444,
              "#bd3786"
             ],
             [
              0.5555555555555556,
              "#d8576b"
             ],
             [
              0.6666666666666666,
              "#ed7953"
             ],
             [
              0.7777777777777778,
              "#fb9f3a"
             ],
             [
              0.8888888888888888,
              "#fdca26"
             ],
             [
              1,
              "#f0f921"
             ]
            ],
            "type": "surface"
           }
          ],
          "table": [
           {
            "cells": {
             "fill": {
              "color": "#EBF0F8"
             },
             "line": {
              "color": "white"
             }
            },
            "header": {
             "fill": {
              "color": "#C8D4E3"
             },
             "line": {
              "color": "white"
             }
            },
            "type": "table"
           }
          ]
         },
         "layout": {
          "annotationdefaults": {
           "arrowcolor": "#2a3f5f",
           "arrowhead": 0,
           "arrowwidth": 1
          },
          "autotypenumbers": "strict",
          "coloraxis": {
           "colorbar": {
            "outlinewidth": 0,
            "ticks": ""
           }
          },
          "colorscale": {
           "diverging": [
            [
             0,
             "#8e0152"
            ],
            [
             0.1,
             "#c51b7d"
            ],
            [
             0.2,
             "#de77ae"
            ],
            [
             0.3,
             "#f1b6da"
            ],
            [
             0.4,
             "#fde0ef"
            ],
            [
             0.5,
             "#f7f7f7"
            ],
            [
             0.6,
             "#e6f5d0"
            ],
            [
             0.7,
             "#b8e186"
            ],
            [
             0.8,
             "#7fbc41"
            ],
            [
             0.9,
             "#4d9221"
            ],
            [
             1,
             "#276419"
            ]
           ],
           "sequential": [
            [
             0,
             "#0d0887"
            ],
            [
             0.1111111111111111,
             "#46039f"
            ],
            [
             0.2222222222222222,
             "#7201a8"
            ],
            [
             0.3333333333333333,
             "#9c179e"
            ],
            [
             0.4444444444444444,
             "#bd3786"
            ],
            [
             0.5555555555555556,
             "#d8576b"
            ],
            [
             0.6666666666666666,
             "#ed7953"
            ],
            [
             0.7777777777777778,
             "#fb9f3a"
            ],
            [
             0.8888888888888888,
             "#fdca26"
            ],
            [
             1,
             "#f0f921"
            ]
           ],
           "sequentialminus": [
            [
             0,
             "#0d0887"
            ],
            [
             0.1111111111111111,
             "#46039f"
            ],
            [
             0.2222222222222222,
             "#7201a8"
            ],
            [
             0.3333333333333333,
             "#9c179e"
            ],
            [
             0.4444444444444444,
             "#bd3786"
            ],
            [
             0.5555555555555556,
             "#d8576b"
            ],
            [
             0.6666666666666666,
             "#ed7953"
            ],
            [
             0.7777777777777778,
             "#fb9f3a"
            ],
            [
             0.8888888888888888,
             "#fdca26"
            ],
            [
             1,
             "#f0f921"
            ]
           ]
          },
          "colorway": [
           "#636efa",
           "#EF553B",
           "#00cc96",
           "#ab63fa",
           "#FFA15A",
           "#19d3f3",
           "#FF6692",
           "#B6E880",
           "#FF97FF",
           "#FECB52"
          ],
          "font": {
           "color": "#2a3f5f"
          },
          "geo": {
           "bgcolor": "white",
           "lakecolor": "white",
           "landcolor": "#E5ECF6",
           "showlakes": true,
           "showland": true,
           "subunitcolor": "white"
          },
          "hoverlabel": {
           "align": "left"
          },
          "hovermode": "closest",
          "mapbox": {
           "style": "light"
          },
          "paper_bgcolor": "white",
          "plot_bgcolor": "#E5ECF6",
          "polar": {
           "angularaxis": {
            "gridcolor": "white",
            "linecolor": "white",
            "ticks": ""
           },
           "bgcolor": "#E5ECF6",
           "radialaxis": {
            "gridcolor": "white",
            "linecolor": "white",
            "ticks": ""
           }
          },
          "scene": {
           "xaxis": {
            "backgroundcolor": "#E5ECF6",
            "gridcolor": "white",
            "gridwidth": 2,
            "linecolor": "white",
            "showbackground": true,
            "ticks": "",
            "zerolinecolor": "white"
           },
           "yaxis": {
            "backgroundcolor": "#E5ECF6",
            "gridcolor": "white",
            "gridwidth": 2,
            "linecolor": "white",
            "showbackground": true,
            "ticks": "",
            "zerolinecolor": "white"
           },
           "zaxis": {
            "backgroundcolor": "#E5ECF6",
            "gridcolor": "white",
            "gridwidth": 2,
            "linecolor": "white",
            "showbackground": true,
            "ticks": "",
            "zerolinecolor": "white"
           }
          },
          "shapedefaults": {
           "line": {
            "color": "#2a3f5f"
           }
          },
          "ternary": {
           "aaxis": {
            "gridcolor": "white",
            "linecolor": "white",
            "ticks": ""
           },
           "baxis": {
            "gridcolor": "white",
            "linecolor": "white",
            "ticks": ""
           },
           "bgcolor": "#E5ECF6",
           "caxis": {
            "gridcolor": "white",
            "linecolor": "white",
            "ticks": ""
           }
          },
          "title": {
           "x": 0.05
          },
          "xaxis": {
           "automargin": true,
           "gridcolor": "white",
           "linecolor": "white",
           "ticks": "",
           "title": {
            "standoff": 15
           },
           "zerolinecolor": "white",
           "zerolinewidth": 2
          },
          "yaxis": {
           "automargin": true,
           "gridcolor": "white",
           "linecolor": "white",
           "ticks": "",
           "title": {
            "standoff": 15
           },
           "zerolinecolor": "white",
           "zerolinewidth": 2
          }
         }
        }
       }
      },
      "text/html": [
       "<div>                            <div id=\"4d90bd65-e656-4152-b4c7-5c10a6a6574f\" class=\"plotly-graph-div\" style=\"height:525px; width:100%;\"></div>            <script type=\"text/javascript\">                require([\"plotly\"], function(Plotly) {                    window.PLOTLYENV=window.PLOTLYENV || {};                                    if (document.getElementById(\"4d90bd65-e656-4152-b4c7-5c10a6a6574f\")) {                    Plotly.newPlot(                        \"4d90bd65-e656-4152-b4c7-5c10a6a6574f\",                        [{\"fill\":\"toself\",\"name\":\"Cluster 0\",\"r\":[-0.3787939452555419,-0.3568485217124862,-0.21174020110928649,-0.45387845593513665,-0.012921564868647187,0.6977195946858361,-0.5870026472740687,-0.6497040043094198,0.4039494569603597,0.17591380240784626],\"theta\":[\"BETASTAR\",\"RHOSTAR\",\"EPS\",\"TAUBOHM\",\"KAREA\",\"NEL\",\"TAUTH\",\"RGEO\",\"OMEGACYCL\",\"Q95\"],\"type\":\"scatterpolar\"},{\"fill\":\"toself\",\"name\":\"Cluster 1\",\"r\":[-0.22945172468763847,0.43791829080574957,-0.42054722878996276,0.10945832311394806,0.26482378151831854,-0.6685596546096736,0.03115948092708441,-0.6148214214277344,0.441288861406437,-0.07459414577053154],\"theta\":[\"BETASTAR\",\"RHOSTAR\",\"EPS\",\"TAUBOHM\",\"KAREA\",\"NEL\",\"TAUTH\",\"RGEO\",\"OMEGACYCL\",\"Q95\"],\"type\":\"scatterpolar\"},{\"fill\":\"toself\",\"name\":\"Cluster 2\",\"r\":[-0.4314063225780319,-0.28111339653046435,-0.29790745636514543,-0.6808850269990845,-0.4389577235970958,0.007317574682883291,-0.840355040465074,-0.6427746393957061,0.3922130466366586,0.7374837066174332],\"theta\":[\"BETASTAR\",\"RHOSTAR\",\"EPS\",\"TAUBOHM\",\"KAREA\",\"NEL\",\"TAUTH\",\"RGEO\",\"OMEGACYCL\",\"Q95\"],\"type\":\"scatterpolar\"},{\"fill\":\"toself\",\"name\":\"Cluster 3\",\"r\":[0.022225476118919115,0.5964824368675967,-0.31137975423662034,-0.47910619055548825,0.24302711156910453,-0.3188952425129658,-0.4434283330929977,-0.6223867410754355,-0.2682414594290035,-0.4335525179648485],\"theta\":[\"BETASTAR\",\"RHOSTAR\",\"EPS\",\"TAUBOHM\",\"KAREA\",\"NEL\",\"TAUTH\",\"RGEO\",\"OMEGACYCL\",\"Q95\"],\"type\":\"scatterpolar\"},{\"fill\":\"toself\",\"name\":\"Cluster 4\",\"r\":[0.27521357997050505,0.8156086201271896,0.2459485594287875,-0.30979939913983834,0.1830335344304101,-0.7131444826230682,0.003038329930159902,-0.5898457027918906,-0.7419008300561178,-0.04815942066414295],\"theta\":[\"BETASTAR\",\"RHOSTAR\",\"EPS\",\"TAUBOHM\",\"KAREA\",\"NEL\",\"TAUTH\",\"RGEO\",\"OMEGACYCL\",\"Q95\"],\"type\":\"scatterpolar\"},{\"fill\":\"toself\",\"name\":\"Cluster 5\",\"r\":[-0.23500003179032092,-0.6799010528670717,-0.27179211538029807,1.0398940277598963,-0.32461180827476777,0.5611610442575046,0.9224029033751879,1.1963587138213314,0.6940515894948573,-0.8795025858473591],\"theta\":[\"BETASTAR\",\"RHOSTAR\",\"EPS\",\"TAUBOHM\",\"KAREA\",\"NEL\",\"TAUTH\",\"RGEO\",\"OMEGACYCL\",\"Q95\"],\"type\":\"scatterpolar\"},{\"fill\":\"toself\",\"name\":\"Cluster 6\",\"r\":[-0.4306103191695989,-0.7165143776940132,-0.18732116937919588,0.36371313380328846,-0.8564799443799596,-0.48955555053540395,0.4096482812967551,1.1788966065430275,0.24609112028851693,-0.22956944995046155],\"theta\":[\"BETASTAR\",\"RHOSTAR\",\"EPS\",\"TAUBOHM\",\"KAREA\",\"NEL\",\"TAUTH\",\"RGEO\",\"OMEGACYCL\",\"Q95\"],\"type\":\"scatterpolar\"},{\"fill\":\"toself\",\"name\":\"Cluster 7\",\"r\":[-0.18945009136829452,-0.5334824152047992,-0.22644569944316073,0.5415478709290005,-0.38249195596727054,-0.12615187534014605,0.8537964192712426,1.1904194835067394,-0.12900909430382415,-0.8898618235859995],\"theta\":[\"BETASTAR\",\"RHOSTAR\",\"EPS\",\"TAUBOHM\",\"KAREA\",\"NEL\",\"TAUTH\",\"RGEO\",\"OMEGACYCL\",\"Q95\"],\"type\":\"scatterpolar\"},{\"fill\":\"toself\",\"name\":\"Cluster 8\",\"r\":[-0.2910764786523308,-0.3643133173161423,-0.24704914173344014,-0.20058727782231162,-0.5529033459528329,-1.0662175521926234,0.09259138771580257,1.181643930933638,-0.5870461344412814,-0.48166672201607513],\"theta\":[\"BETASTAR\",\"RHOSTAR\",\"EPS\",\"TAUBOHM\",\"KAREA\",\"NEL\",\"TAUTH\",\"RGEO\",\"OMEGACYCL\",\"Q95\"],\"type\":\"scatterpolar\"}],                        {\"template\":{\"data\":{\"histogram2dcontour\":[{\"type\":\"histogram2dcontour\",\"colorbar\":{\"outlinewidth\":0,\"ticks\":\"\"},\"colorscale\":[[0.0,\"#0d0887\"],[0.1111111111111111,\"#46039f\"],[0.2222222222222222,\"#7201a8\"],[0.3333333333333333,\"#9c179e\"],[0.4444444444444444,\"#bd3786\"],[0.5555555555555556,\"#d8576b\"],[0.6666666666666666,\"#ed7953\"],[0.7777777777777778,\"#fb9f3a\"],[0.8888888888888888,\"#fdca26\"],[1.0,\"#f0f921\"]]}],\"choropleth\":[{\"type\":\"choropleth\",\"colorbar\":{\"outlinewidth\":0,\"ticks\":\"\"}}],\"histogram2d\":[{\"type\":\"histogram2d\",\"colorbar\":{\"outlinewidth\":0,\"ticks\":\"\"},\"colorscale\":[[0.0,\"#0d0887\"],[0.1111111111111111,\"#46039f\"],[0.2222222222222222,\"#7201a8\"],[0.3333333333333333,\"#9c179e\"],[0.4444444444444444,\"#bd3786\"],[0.5555555555555556,\"#d8576b\"],[0.6666666666666666,\"#ed7953\"],[0.7777777777777778,\"#fb9f3a\"],[0.8888888888888888,\"#fdca26\"],[1.0,\"#f0f921\"]]}],\"heatmap\":[{\"type\":\"heatmap\",\"colorbar\":{\"outlinewidth\":0,\"ticks\":\"\"},\"colorscale\":[[0.0,\"#0d0887\"],[0.1111111111111111,\"#46039f\"],[0.2222222222222222,\"#7201a8\"],[0.3333333333333333,\"#9c179e\"],[0.4444444444444444,\"#bd3786\"],[0.5555555555555556,\"#d8576b\"],[0.6666666666666666,\"#ed7953\"],[0.7777777777777778,\"#fb9f3a\"],[0.8888888888888888,\"#fdca26\"],[1.0,\"#f0f921\"]]}],\"heatmapgl\":[{\"type\":\"heatmapgl\",\"colorbar\":{\"outlinewidth\":0,\"ticks\":\"\"},\"colorscale\":[[0.0,\"#0d0887\"],[0.1111111111111111,\"#46039f\"],[0.2222222222222222,\"#7201a8\"],[0.3333333333333333,\"#9c179e\"],[0.4444444444444444,\"#bd3786\"],[0.5555555555555556,\"#d8576b\"],[0.6666666666666666,\"#ed7953\"],[0.7777777777777778,\"#fb9f3a\"],[0.8888888888888888,\"#fdca26\"],[1.0,\"#f0f921\"]]}],\"contourcarpet\":[{\"type\":\"contourcarpet\",\"colorbar\":{\"outlinewidth\":0,\"ticks\":\"\"}}],\"contour\":[{\"type\":\"contour\",\"colorbar\":{\"outlinewidth\":0,\"ticks\":\"\"},\"colorscale\":[[0.0,\"#0d0887\"],[0.1111111111111111,\"#46039f\"],[0.2222222222222222,\"#7201a8\"],[0.3333333333333333,\"#9c179e\"],[0.4444444444444444,\"#bd3786\"],[0.5555555555555556,\"#d8576b\"],[0.6666666666666666,\"#ed7953\"],[0.7777777777777778,\"#fb9f3a\"],[0.8888888888888888,\"#fdca26\"],[1.0,\"#f0f921\"]]}],\"surface\":[{\"type\":\"surface\",\"colorbar\":{\"outlinewidth\":0,\"ticks\":\"\"},\"colorscale\":[[0.0,\"#0d0887\"],[0.1111111111111111,\"#46039f\"],[0.2222222222222222,\"#7201a8\"],[0.3333333333333333,\"#9c179e\"],[0.4444444444444444,\"#bd3786\"],[0.5555555555555556,\"#d8576b\"],[0.6666666666666666,\"#ed7953\"],[0.7777777777777778,\"#fb9f3a\"],[0.8888888888888888,\"#fdca26\"],[1.0,\"#f0f921\"]]}],\"mesh3d\":[{\"type\":\"mesh3d\",\"colorbar\":{\"outlinewidth\":0,\"ticks\":\"\"}}],\"scatter\":[{\"fillpattern\":{\"fillmode\":\"overlay\",\"size\":10,\"solidity\":0.2},\"type\":\"scatter\"}],\"parcoords\":[{\"type\":\"parcoords\",\"line\":{\"colorbar\":{\"outlinewidth\":0,\"ticks\":\"\"}}}],\"scatterpolargl\":[{\"type\":\"scatterpolargl\",\"marker\":{\"colorbar\":{\"outlinewidth\":0,\"ticks\":\"\"}}}],\"bar\":[{\"error_x\":{\"color\":\"#2a3f5f\"},\"error_y\":{\"color\":\"#2a3f5f\"},\"marker\":{\"line\":{\"color\":\"#E5ECF6\",\"width\":0.5},\"pattern\":{\"fillmode\":\"overlay\",\"size\":10,\"solidity\":0.2}},\"type\":\"bar\"}],\"scattergeo\":[{\"type\":\"scattergeo\",\"marker\":{\"colorbar\":{\"outlinewidth\":0,\"ticks\":\"\"}}}],\"scatterpolar\":[{\"type\":\"scatterpolar\",\"marker\":{\"colorbar\":{\"outlinewidth\":0,\"ticks\":\"\"}}}],\"histogram\":[{\"marker\":{\"pattern\":{\"fillmode\":\"overlay\",\"size\":10,\"solidity\":0.2}},\"type\":\"histogram\"}],\"scattergl\":[{\"type\":\"scattergl\",\"marker\":{\"colorbar\":{\"outlinewidth\":0,\"ticks\":\"\"}}}],\"scatter3d\":[{\"type\":\"scatter3d\",\"line\":{\"colorbar\":{\"outlinewidth\":0,\"ticks\":\"\"}},\"marker\":{\"colorbar\":{\"outlinewidth\":0,\"ticks\":\"\"}}}],\"scattermapbox\":[{\"type\":\"scattermapbox\",\"marker\":{\"colorbar\":{\"outlinewidth\":0,\"ticks\":\"\"}}}],\"scatterternary\":[{\"type\":\"scatterternary\",\"marker\":{\"colorbar\":{\"outlinewidth\":0,\"ticks\":\"\"}}}],\"scattercarpet\":[{\"type\":\"scattercarpet\",\"marker\":{\"colorbar\":{\"outlinewidth\":0,\"ticks\":\"\"}}}],\"carpet\":[{\"aaxis\":{\"endlinecolor\":\"#2a3f5f\",\"gridcolor\":\"white\",\"linecolor\":\"white\",\"minorgridcolor\":\"white\",\"startlinecolor\":\"#2a3f5f\"},\"baxis\":{\"endlinecolor\":\"#2a3f5f\",\"gridcolor\":\"white\",\"linecolor\":\"white\",\"minorgridcolor\":\"white\",\"startlinecolor\":\"#2a3f5f\"},\"type\":\"carpet\"}],\"table\":[{\"cells\":{\"fill\":{\"color\":\"#EBF0F8\"},\"line\":{\"color\":\"white\"}},\"header\":{\"fill\":{\"color\":\"#C8D4E3\"},\"line\":{\"color\":\"white\"}},\"type\":\"table\"}],\"barpolar\":[{\"marker\":{\"line\":{\"color\":\"#E5ECF6\",\"width\":0.5},\"pattern\":{\"fillmode\":\"overlay\",\"size\":10,\"solidity\":0.2}},\"type\":\"barpolar\"}],\"pie\":[{\"automargin\":true,\"type\":\"pie\"}]},\"layout\":{\"autotypenumbers\":\"strict\",\"colorway\":[\"#636efa\",\"#EF553B\",\"#00cc96\",\"#ab63fa\",\"#FFA15A\",\"#19d3f3\",\"#FF6692\",\"#B6E880\",\"#FF97FF\",\"#FECB52\"],\"font\":{\"color\":\"#2a3f5f\"},\"hovermode\":\"closest\",\"hoverlabel\":{\"align\":\"left\"},\"paper_bgcolor\":\"white\",\"plot_bgcolor\":\"#E5ECF6\",\"polar\":{\"bgcolor\":\"#E5ECF6\",\"angularaxis\":{\"gridcolor\":\"white\",\"linecolor\":\"white\",\"ticks\":\"\"},\"radialaxis\":{\"gridcolor\":\"white\",\"linecolor\":\"white\",\"ticks\":\"\"}},\"ternary\":{\"bgcolor\":\"#E5ECF6\",\"aaxis\":{\"gridcolor\":\"white\",\"linecolor\":\"white\",\"ticks\":\"\"},\"baxis\":{\"gridcolor\":\"white\",\"linecolor\":\"white\",\"ticks\":\"\"},\"caxis\":{\"gridcolor\":\"white\",\"linecolor\":\"white\",\"ticks\":\"\"}},\"coloraxis\":{\"colorbar\":{\"outlinewidth\":0,\"ticks\":\"\"}},\"colorscale\":{\"sequential\":[[0.0,\"#0d0887\"],[0.1111111111111111,\"#46039f\"],[0.2222222222222222,\"#7201a8\"],[0.3333333333333333,\"#9c179e\"],[0.4444444444444444,\"#bd3786\"],[0.5555555555555556,\"#d8576b\"],[0.6666666666666666,\"#ed7953\"],[0.7777777777777778,\"#fb9f3a\"],[0.8888888888888888,\"#fdca26\"],[1.0,\"#f0f921\"]],\"sequentialminus\":[[0.0,\"#0d0887\"],[0.1111111111111111,\"#46039f\"],[0.2222222222222222,\"#7201a8\"],[0.3333333333333333,\"#9c179e\"],[0.4444444444444444,\"#bd3786\"],[0.5555555555555556,\"#d8576b\"],[0.6666666666666666,\"#ed7953\"],[0.7777777777777778,\"#fb9f3a\"],[0.8888888888888888,\"#fdca26\"],[1.0,\"#f0f921\"]],\"diverging\":[[0,\"#8e0152\"],[0.1,\"#c51b7d\"],[0.2,\"#de77ae\"],[0.3,\"#f1b6da\"],[0.4,\"#fde0ef\"],[0.5,\"#f7f7f7\"],[0.6,\"#e6f5d0\"],[0.7,\"#b8e186\"],[0.8,\"#7fbc41\"],[0.9,\"#4d9221\"],[1,\"#276419\"]]},\"xaxis\":{\"gridcolor\":\"white\",\"linecolor\":\"white\",\"ticks\":\"\",\"title\":{\"standoff\":15},\"zerolinecolor\":\"white\",\"automargin\":true,\"zerolinewidth\":2},\"yaxis\":{\"gridcolor\":\"white\",\"linecolor\":\"white\",\"ticks\":\"\",\"title\":{\"standoff\":15},\"zerolinecolor\":\"white\",\"automargin\":true,\"zerolinewidth\":2},\"scene\":{\"xaxis\":{\"backgroundcolor\":\"#E5ECF6\",\"gridcolor\":\"white\",\"linecolor\":\"white\",\"showbackground\":true,\"ticks\":\"\",\"zerolinecolor\":\"white\",\"gridwidth\":2},\"yaxis\":{\"backgroundcolor\":\"#E5ECF6\",\"gridcolor\":\"white\",\"linecolor\":\"white\",\"showbackground\":true,\"ticks\":\"\",\"zerolinecolor\":\"white\",\"gridwidth\":2},\"zaxis\":{\"backgroundcolor\":\"#E5ECF6\",\"gridcolor\":\"white\",\"linecolor\":\"white\",\"showbackground\":true,\"ticks\":\"\",\"zerolinecolor\":\"white\",\"gridwidth\":2}},\"shapedefaults\":{\"line\":{\"color\":\"#2a3f5f\"}},\"annotationdefaults\":{\"arrowcolor\":\"#2a3f5f\",\"arrowhead\":0,\"arrowwidth\":1},\"geo\":{\"bgcolor\":\"white\",\"landcolor\":\"#E5ECF6\",\"subunitcolor\":\"white\",\"showland\":true,\"showlakes\":true,\"lakecolor\":\"white\"},\"title\":{\"x\":0.05},\"mapbox\":{\"style\":\"light\"}}}},                        {\"responsive\": true}                    ).then(function(){\n",
       "                            \n",
       "var gd = document.getElementById('4d90bd65-e656-4152-b4c7-5c10a6a6574f');\n",
       "var x = new MutationObserver(function (mutations, observer) {{\n",
       "        var display = window.getComputedStyle(gd).display;\n",
       "        if (!display || display === 'none') {{\n",
       "            console.log([gd, 'removed!']);\n",
       "            Plotly.purge(gd);\n",
       "            observer.disconnect();\n",
       "        }}\n",
       "}});\n",
       "\n",
       "// Listen for the removal of the full notebook cells\n",
       "var notebookContainer = gd.closest('#notebook-container');\n",
       "if (notebookContainer) {{\n",
       "    x.observe(notebookContainer, {childList: true});\n",
       "}}\n",
       "\n",
       "// Listen for the clearing of the current output cell\n",
       "var outputEl = gd.closest('.output');\n",
       "if (outputEl) {{\n",
       "    x.observe(outputEl, {childList: true});\n",
       "}}\n",
       "\n",
       "                        })                };                });            </script>        </div>"
      ]
     },
     "metadata": {},
     "output_type": "display_data"
    }
   ],
   "source": [
    "import plotly.graph_objects as go\n",
    "\n",
    "categories = ordered_features[:10]\n",
    "fig = go.Figure()\n",
    "\n",
    "for i in range(len(Counter(labels))-1):\n",
    "\n",
    "    fig.add_trace(go.Scatterpolar(\n",
    "          r=data_cl_mean[f\"cluster_{i}\"].values,\n",
    "          theta=categories,\n",
    "          fill='toself',\n",
    "          name=f'Cluster {i}'\n",
    "    ))\n",
    "\n",
    "\n",
    "\n",
    "fig.show()"
   ]
  },
  {
   "cell_type": "code",
   "execution_count": null,
   "id": "09d3d110",
   "metadata": {},
   "outputs": [],
   "source": []
  }
 ],
 "metadata": {
  "kernelspec": {
   "display_name": "Python 3 (ipykernel)",
   "language": "python",
   "name": "python3"
  },
  "language_info": {
   "codemirror_mode": {
    "name": "ipython",
    "version": 3
   },
   "file_extension": ".py",
   "mimetype": "text/x-python",
   "name": "python",
   "nbconvert_exporter": "python",
   "pygments_lexer": "ipython3",
   "version": "3.10.7"
  }
 },
 "nbformat": 4,
 "nbformat_minor": 5
}
