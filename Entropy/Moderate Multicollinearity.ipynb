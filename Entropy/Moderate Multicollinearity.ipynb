{
 "cells": [
  {
   "cell_type": "markdown",
   "id": "81a410de",
   "metadata": {},
   "source": [
    "Karina Chiñas Fuenes | 18/04/2023 | Universiteit Gent"
   ]
  },
  {
   "cell_type": "code",
   "execution_count": 1,
   "id": "6e291939",
   "metadata": {},
   "outputs": [],
   "source": [
    "%load_ext autoreload\n",
    "%autoreload 2"
   ]
  },
  {
   "cell_type": "markdown",
   "id": "b166576a",
   "metadata": {},
   "source": [
    "This notebook is based on the document:\n",
    "\n",
    "* _Feature Selection for Clustering_, [Manoranjan Dash and Huan Liu](https://www.public.asu.edu/~huanliu/papers/pakdd00clu.pdf), 2000."
   ]
  },
  {
   "cell_type": "markdown",
   "id": "d6c10c77",
   "metadata": {},
   "source": [
    "# ENTROPY | MODERATE MULTICOLLINEARITY\n",
    "VIF < 10"
   ]
  },
  {
   "cell_type": "code",
   "execution_count": 2,
   "id": "ffb9da84",
   "metadata": {},
   "outputs": [],
   "source": [
    "import sys\n",
    "sys.path.append('../')\n",
    "import tokamakTK\n",
    "from tokamakTK import get_regression\n",
    "\n",
    "import numpy as np \n",
    "import pandas as pd\n",
    "import matplotlib.pyplot as plt\n",
    "import scipy as sp\n",
    "import statsmodels.api as sm\n",
    "import matplotlib.patches as mpatches\n",
    "\n",
    "from collections import Counter\n",
    "\n",
    "from sklearn.preprocessing import StandardScaler\n",
    "from sklearn.cluster import KMeans\n",
    "from yellowbrick.cluster import KElbowVisualizer\n",
    "from yellowbrick.cluster import SilhouetteVisualizer\n",
    "\n",
    "pd.set_option('display.max_columns', None)\n",
    "path = \"../data/\"\n",
    "fig_path = \"../../../LATEX/Latex Images/\"\n",
    "\n",
    "sstyle = 'seaborn-v0_8-poster'\n",
    "plt.style.use(sstyle)\n",
    "plt.rc('font',family = 'serif')"
   ]
  },
  {
   "cell_type": "code",
   "execution_count": 3,
   "id": "21cd04cb",
   "metadata": {},
   "outputs": [
    {
     "name": "stdout",
     "output_type": "stream",
     "text": [
      "23.45% of the data decreased alpha_R\n",
      "76.55% of the data did not decrease alpha_R\n"
     ]
    }
   ],
   "source": [
    "# Obtained from Optimization\n",
    "min_subset_ids = pd.read_csv(path+\"R_ids_alpha_0.6357.csv\")\n",
    "\n",
    "DB2 = pd.read_csv(path+\"DB2P8.csv\")\n",
    "DB5 = pd.read_csv(path+\"SELDB5_SVD.csv\", low_memory=False) \n",
    "\n",
    "# Setting ELMy Dataset\n",
    "DB5 = DB5[DB5[\"PHASE\"].isin(['HGELM', 'HSELM', 'HGELMH', 'HSELMH'])]\n",
    "\n",
    "# There is two shots from DB2P8 missing in DB5\n",
    "missing_shots = DB2[~DB2.id.isin( DB5.id.values )].reset_index(drop=True)\n",
    "DB5 = pd.concat([DB5, missing_shots], axis=0, ignore_index=True)\n",
    "\n",
    "# Labeling shots that had great impact in decreasing alpha_R\n",
    "DB5.insert(loc=2,column=\"label\",value=[0]*len(DB5))\n",
    "DB5.loc[(DB5[DB5.id.isin(min_subset_ids.id)].index), \"label\"] = 1\n",
    "\n",
    "\n",
    "print(\n",
    "    f\"{ round( (len(min_subset_ids)/len(DB5))*100     ,2)  }% of the data decreased alpha_R\\n\" + \n",
    "    f\"{ round( (1 - len(min_subset_ids)/len(DB5))*100 ,2)  }% of the data did not decrease alpha_R\"\n",
    ")"
   ]
  },
  {
   "cell_type": "code",
   "execution_count": 4,
   "id": "5ef6a5de",
   "metadata": {},
   "outputs": [
    {
     "data": {
      "text/html": [
       "<table class=\"simpletable\">\n",
       "<caption>OLS Regression Results</caption>\n",
       "<tr>\n",
       "  <th>Dep. Variable:</th>            <td>y</td>        <th>  R-squared:         </th> <td>   0.939</td>\n",
       "</tr>\n",
       "<tr>\n",
       "  <th>Model:</th>                   <td>OLS</td>       <th>  Adj. R-squared:    </th> <td>   0.939</td>\n",
       "</tr>\n",
       "<tr>\n",
       "  <th>Method:</th>             <td>Least Squares</td>  <th>  F-statistic:       </th> <td>   5363.</td>\n",
       "</tr>\n",
       "<tr>\n",
       "  <th>Date:</th>             <td>Thu, 04 May 2023</td> <th>  Prob (F-statistic):</th>  <td>  0.00</td> \n",
       "</tr>\n",
       "<tr>\n",
       "  <th>Time:</th>                 <td>21:39:35</td>     <th>  Log-Likelihood:    </th> <td>  461.74</td>\n",
       "</tr>\n",
       "<tr>\n",
       "  <th>No. Observations:</th>      <td>  2776</td>      <th>  AIC:               </th> <td>  -905.5</td>\n",
       "</tr>\n",
       "<tr>\n",
       "  <th>Df Residuals:</th>          <td>  2767</td>      <th>  BIC:               </th> <td>  -852.1</td>\n",
       "</tr>\n",
       "<tr>\n",
       "  <th>Df Model:</th>              <td>     8</td>      <th>                     </th>     <td> </td>   \n",
       "</tr>\n",
       "<tr>\n",
       "  <th>Covariance Type:</th>      <td>nonrobust</td>    <th>                     </th>     <td> </td>   \n",
       "</tr>\n",
       "</table>\n",
       "<table class=\"simpletable\">\n",
       "<tr>\n",
       "    <td></td>       <th>coef</th>     <th>std err</th>      <th>t</th>      <th>P>|t|</th>  <th>[0.025</th>    <th>0.975]</th>  \n",
       "</tr>\n",
       "<tr>\n",
       "  <th>const</th> <td>   -2.2596</td> <td>    0.037</td> <td>  -60.302</td> <td> 0.000</td> <td>   -2.333</td> <td>   -2.186</td>\n",
       "</tr>\n",
       "<tr>\n",
       "  <th>x1</th>    <td>    1.4219</td> <td>    0.022</td> <td>   64.538</td> <td> 0.000</td> <td>    1.379</td> <td>    1.465</td>\n",
       "</tr>\n",
       "<tr>\n",
       "  <th>x2</th>    <td>    0.0199</td> <td>    0.020</td> <td>    1.006</td> <td> 0.315</td> <td>   -0.019</td> <td>    0.059</td>\n",
       "</tr>\n",
       "<tr>\n",
       "  <th>x3</th>    <td>   -0.1361</td> <td>    0.015</td> <td>   -9.257</td> <td> 0.000</td> <td>   -0.165</td> <td>   -0.107</td>\n",
       "</tr>\n",
       "<tr>\n",
       "  <th>x4</th>    <td>   -0.5290</td> <td>    0.012</td> <td>  -44.915</td> <td> 0.000</td> <td>   -0.552</td> <td>   -0.506</td>\n",
       "</tr>\n",
       "<tr>\n",
       "  <th>x5</th>    <td>    0.6358</td> <td>    0.037</td> <td>   17.157</td> <td> 0.000</td> <td>    0.563</td> <td>    0.708</td>\n",
       "</tr>\n",
       "<tr>\n",
       "  <th>x6</th>    <td>   -0.0017</td> <td>    0.037</td> <td>   -0.044</td> <td> 0.965</td> <td>   -0.075</td> <td>    0.071</td>\n",
       "</tr>\n",
       "<tr>\n",
       "  <th>x7</th>    <td>   -0.5566</td> <td>    0.048</td> <td>  -11.702</td> <td> 0.000</td> <td>   -0.650</td> <td>   -0.463</td>\n",
       "</tr>\n",
       "<tr>\n",
       "  <th>x8</th>    <td>    0.1296</td> <td>    0.026</td> <td>    5.050</td> <td> 0.000</td> <td>    0.079</td> <td>    0.180</td>\n",
       "</tr>\n",
       "</table>\n",
       "<table class=\"simpletable\">\n",
       "<tr>\n",
       "  <th>Omnibus:</th>       <td>29.156</td> <th>  Durbin-Watson:     </th> <td>   0.611</td>\n",
       "</tr>\n",
       "<tr>\n",
       "  <th>Prob(Omnibus):</th> <td> 0.000</td> <th>  Jarque-Bera (JB):  </th> <td>  47.712</td>\n",
       "</tr>\n",
       "<tr>\n",
       "  <th>Skew:</th>          <td> 0.026</td> <th>  Prob(JB):          </th> <td>4.36e-11</td>\n",
       "</tr>\n",
       "<tr>\n",
       "  <th>Kurtosis:</th>      <td> 3.640</td> <th>  Cond. No.          </th> <td>    53.4</td>\n",
       "</tr>\n",
       "</table><br/><br/>Notes:<br/>[1] Standard Errors assume that the covariance matrix of the errors is correctly specified."
      ],
      "text/plain": [
       "<class 'statsmodels.iolib.summary.Summary'>\n",
       "\"\"\"\n",
       "                            OLS Regression Results                            \n",
       "==============================================================================\n",
       "Dep. Variable:                      y   R-squared:                       0.939\n",
       "Model:                            OLS   Adj. R-squared:                  0.939\n",
       "Method:                 Least Squares   F-statistic:                     5363.\n",
       "Date:                Thu, 04 May 2023   Prob (F-statistic):               0.00\n",
       "Time:                        21:39:35   Log-Likelihood:                 461.74\n",
       "No. Observations:                2776   AIC:                            -905.5\n",
       "Df Residuals:                    2767   BIC:                            -852.1\n",
       "Df Model:                           8                                         \n",
       "Covariance Type:            nonrobust                                         \n",
       "==============================================================================\n",
       "                 coef    std err          t      P>|t|      [0.025      0.975]\n",
       "------------------------------------------------------------------------------\n",
       "const         -2.2596      0.037    -60.302      0.000      -2.333      -2.186\n",
       "x1             1.4219      0.022     64.538      0.000       1.379       1.465\n",
       "x2             0.0199      0.020      1.006      0.315      -0.019       0.059\n",
       "x3            -0.1361      0.015     -9.257      0.000      -0.165      -0.107\n",
       "x4            -0.5290      0.012    -44.915      0.000      -0.552      -0.506\n",
       "x5             0.6358      0.037     17.157      0.000       0.563       0.708\n",
       "x6            -0.0017      0.037     -0.044      0.965      -0.075       0.071\n",
       "x7            -0.5566      0.048    -11.702      0.000      -0.650      -0.463\n",
       "x8             0.1296      0.026      5.050      0.000       0.079       0.180\n",
       "==============================================================================\n",
       "Omnibus:                       29.156   Durbin-Watson:                   0.611\n",
       "Prob(Omnibus):                  0.000   Jarque-Bera (JB):               47.712\n",
       "Skew:                           0.026   Prob(JB):                     4.36e-11\n",
       "Kurtosis:                       3.640   Cond. No.                         53.4\n",
       "==============================================================================\n",
       "\n",
       "Notes:\n",
       "[1] Standard Errors assume that the covariance matrix of the errors is correctly specified.\n",
       "\"\"\""
      ]
     },
     "execution_count": 4,
     "metadata": {},
     "output_type": "execute_result"
    }
   ],
   "source": [
    "get_regression( DB5[DB5.label.isin([1])], DB2  )[1].summary()"
   ]
  },
  {
   "cell_type": "markdown",
   "id": "7c5c6703",
   "metadata": {},
   "source": [
    "## Treatment to Data and Setting Features of Interest"
   ]
  },
  {
   "cell_type": "code",
   "execution_count": 5,
   "id": "74944039",
   "metadata": {},
   "outputs": [],
   "source": [
    "features = ['QCYL5', 'BEIMHD', 'PREMAG', 'LHTIME', 'HYBRID', 'CONFIG', 'DWDIA', \n",
    "            'WMHD', 'TORQ', 'KAREA', 'EPS', 'MEFF', 'LCOULOMB', \n",
    "            'RHOSTAR', 'NUSTAR', 'BETASTAR', 'TOK', 'DIVNAME', 'WALMAT', 'DIVMAT', \n",
    "            'LIMMAT', 'BT', 'ELMTYPE', 'ELMFREQ', 'PECRH', 'PICRH', 'ICSCHEME', \n",
    "            'AUXHEAT', 'ECHMODE', 'PELLET', 'EVAP', 'ZEFF', 'ZEFFNEO', 'PRAD', 'POHM', \n",
    "            'ENBI', 'PFLOSS', 'TEV', 'NESOL', 'WFFORM', 'WFICFORM', 'NEL']"
   ]
  },
  {
   "cell_type": "code",
   "execution_count": 6,
   "id": "1a85e78c",
   "metadata": {},
   "outputs": [],
   "source": [
    "data = DB5[DB5.label.isin([1])].copy()\n",
    "data = data[features+[\"DATE\"]].reset_index(drop=True)\n",
    "\n",
    "# Needed to respectively clean each dtype\n",
    "num_features = data.select_dtypes(include=['int', 'float']).columns.tolist()\n",
    "cat_features = data.select_dtypes(include=['object']).columns.tolist()\n",
    "cat_features = cat_features[:-1] # Removing \"DATE\"\n",
    "\n",
    "data_num = data[num_features+[\"TOK\"]]\n",
    "data_cat = data[cat_features]"
   ]
  },
  {
   "cell_type": "code",
   "execution_count": 7,
   "id": "7295b5c9",
   "metadata": {},
   "outputs": [],
   "source": [
    "DB5 = tokamakTK.clean_categorical_data(DB5)\n",
    "\n",
    "# Needed to respectively clean each dtype\n",
    "num_features = DB5[features].select_dtypes(include=['int', 'float']).columns.tolist()\n",
    "cat_features = DB5[features].select_dtypes(include=['object']).columns.tolist()\n",
    "\n",
    "data_num = DB5[num_features+[\"TOK\",\"DATE\"]]\n",
    "data_cat = DB5[cat_features]\n",
    "\n",
    "data_num = tokamakTK.clean_numerical_data(data_num)\n",
    "data = pd.concat([data_cat, data_num], axis=1)\n",
    "\n",
    "data = data[sorted(data.columns)]"
   ]
  },
  {
   "cell_type": "code",
   "execution_count": 8,
   "id": "a29f809c",
   "metadata": {},
   "outputs": [],
   "source": [
    "N,M = data.shape\n",
    "\n",
    "# used to get feature ranking\n",
    "feature_dic = dict( zip( list(range(M)), data.columns ) )"
   ]
  },
  {
   "cell_type": "markdown",
   "id": "8dab483b",
   "metadata": {},
   "source": [
    "## ENTROPY IN DATASET | Categorical\n",
    "#### Using the concept of entropy to rank the importance of features.\n",
    "\n",
    "0. Computing the distance between two points\n",
    "\n",
    "Euclidean distance:\n",
    "\n",
    "$$\n",
    "    D^k_{ij} = \\left( \\frac{ x_{ik} - x_{jk} }{ max(F_k) - min(F_k) } \\right)^2 \n",
    "$$\n",
    "\n",
    "$$\n",
    "    D_{ij} = \\left[ \\sum^M_{k=1} \\: D^k_{ij}\\right]^{1/2}\n",
    "$$\n",
    "\n",
    "Where $F_k$ is the $k$-th column representing the $k$-th feature. With $k=1,\\dots,M$ The $x_{ik}$ is the $i$-th point of the $k$-th feature; the same for $j$. With $i$,$j=1\\ldots,N$. And $N$ being the total points of observations. Thus the similarity between two points\n",
    "\n",
    "Defined as:\n",
    "\n",
    "$$\n",
    "    S_{ij} = e^{-\\alpha \\cdot D_{ij}}\n",
    "$$\n",
    "\n",
    "Where $\\alpha$ is a parameter. Here $\\alpha = 0.5$. According to [Manoranjan Dash and Huan Liu](https://www.public.asu.edu/~huanliu/papers/pakdd00clu.pdf), If one plots similarity vs distance, the curve will have a biggercurvature for a larger $\\alpha$. \n",
    "\n",
    "1. Computing the similarity between two points with Humming distance:\n",
    "\n",
    "\\begin{equation}\n",
    "        S_{ij} = \\frac{1}{M}\\sum^M_{k=1} \\delta_{ij}(x^k); \\quad \\text{with} \\:\\: \\delta_{ij}(x^k) = \\begin{cases}\n",
    "    1,\\:\\text{if}\\:\\: x^k_i = x^k_j\\\\\n",
    "    0,\\:\\text{if}\\:\\: x^k_i \\neq x^k_j\n",
    "    \\end{cases}\n",
    "\\end{equation}\n",
    "\n",
    "With $M$ being the total number of features.\n",
    "\n",
    "\n",
    "2. The entropy of the dataset is:\n",
    "\n",
    "$$\n",
    "    E = -\\sum^N_{i=1}\\sum^N_{j=1} E_{ij}= -\\sum^N_{i=1}\\sum^N_{j=1}\\left[ S_{ij}\\cdot\\text{Log}\\left(S_{ij}\\right) +  \\left(1-S_{ij}\\right)\\cdot\\text{Log}\\left(1-S_{ij}\\right) \\right]\n",
    "$$\n",
    "\n",
    "In the expression above, $N$ corresponds to the total number of observations in dataset (rows). \n",
    "\n",
    "The ranking is done in an interative process: eliminate a column at a time and assess the disorder that the removal has caused by calculating the corresponding entropy. Let us sat that $E_{^-F_i} > E_{^-F_j}$ is the statement that the removal of feature $i$ of the dataset caused more disorder than the removal of feature $j$. One can then construct an array $\\vec{E_-} = \\{E_{F_k}\\}$, for $k=1,\\ldots,M$. Thus, the most important feature will be  max$(\\vec{E_-})$."
   ]
  },
  {
   "cell_type": "markdown",
   "id": "4873807d",
   "metadata": {},
   "source": [
    "$\\delta_{ij}(x^k)\\:\\rightarrow$ `np.frompyfunc( lambda x,y: x==y, 2, 1).reduce( np.array( np.meshgrid(F_k,F_k) ) )`"
   ]
  },
  {
   "cell_type": "code",
   "execution_count": 9,
   "id": "919f199c",
   "metadata": {
    "scrolled": false
   },
   "outputs": [],
   "source": [
    "features_ranked_entropy = tokamakTK.get_ranked_features(data)\n",
    "ordered_features = list(features_ranked_entropy.index.map(feature_dic))"
   ]
  },
  {
   "cell_type": "code",
   "execution_count": 10,
   "id": "62e6ce57",
   "metadata": {},
   "outputs": [
    {
     "data": {
      "image/png": "[encoded data removed]",
      "text/plain": [
       "<Figure size 800x600 with 1 Axes>"
      ]
     },
     "metadata": {},
     "output_type": "display_data"
    }
   ],
   "source": [
    "plt.figure(figsize=(8,6))\n",
    "plt.scatter(features_ranked_entropy.index, features_ranked_entropy.values,\n",
    "            c=\"#A84547\", s=75, edgecolors='black'\n",
    "           )\n",
    "plt.xlabel(\"Index of Removed Feature\")\n",
    "plt.ylabel(\"Entropy of Dataset [bit]\");\n",
    "\n",
    "plt.savefig(fig_path+\"entropy_all_variables.pdf\", format=\"pdf\", dpi=800, bbox_inches='tight');"
   ]
  },
  {
   "cell_type": "code",
   "execution_count": 12,
   "id": "09cfeff9",
   "metadata": {},
   "outputs": [
    {
     "name": "stdout",
     "output_type": "stream",
     "text": [
      "['WFICFORM', 'ZEFFNEO', 'DWDIA', 'WFFORM', 'RHOSTAR', 'POHM', 'BETASTAR', 'NUSTAR', 'NEL', 'PFLOSS', 'EPS', 'QCYL5', 'MEFF', 'PICRH', 'KAREA', 'LCOULOMB', 'PECRH', 'WMHD', 'DIVNAME', 'TEV', 'ELMFREQ', 'TOK', 'ZEFF', 'PRAD', 'NESOL', 'ENBI', 'WALMAT', 'BEIMHD', 'BT', 'TORQ', 'EVAP', 'PREMAG', 'LHTIME', 'LIMMAT', 'HYBRID', 'DIVMAT', 'ELMTYPE', 'ECHMODE', 'ICSCHEME', 'PELLET', 'CONFIG', 'AUXHEAT']\n"
     ]
    }
   ],
   "source": [
    "print(ordered_features,)"
   ]
  },
  {
   "cell_type": "code",
   "execution_count": null,
   "id": "eafc7e39",
   "metadata": {},
   "outputs": [],
   "source": []
  }
 ],
 "metadata": {
  "kernelspec": {
   "display_name": "Python 3 (ipykernel)",
   "language": "python",
   "name": "python3"
  },
  "language_info": {
   "codemirror_mode": {
    "name": "ipython",
    "version": 3
   },
   "file_extension": ".py",
   "mimetype": "text/x-python",
   "name": "python",
   "nbconvert_exporter": "python",
   "pygments_lexer": "ipython3",
   "version": "3.10.11"
  }
 },
 "nbformat": 4,
 "nbformat_minor": 5
}
