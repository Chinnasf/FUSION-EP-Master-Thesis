{
 "cells": [
  {
   "cell_type": "code",
   "execution_count": 1,
   "id": "898a73b9",
   "metadata": {},
   "outputs": [],
   "source": [
    "import sys\n",
    "sys.path.append('../')\n",
    "import tokamakTK\n",
    "\n",
    "from tokamakTK import get_ECT_regression\n",
    "\n",
    "import numpy as np \n",
    "import pandas as pd\n",
    "import matplotlib.pyplot as plt\n",
    "import scipy as sp\n",
    "import statsmodels.api as sm\n",
    "import matplotlib.patches as mpatches\n",
    "\n",
    "pd.set_option('display.max_columns', None)\n",
    "plt.rc('font',family = 'serif')\n",
    "plt.rc('axes', axisbelow=True)\n",
    "\n",
    "path = \"../data/\"\n",
    "fig_path = \"../../../LATEX/Latex Images/\"\n",
    "plt.rcParams[\"mathtext.fontset\"] = \"cm\""
   ]
  },
  {
   "cell_type": "markdown",
   "id": "be4088f8",
   "metadata": {},
   "source": [
    "[Notes based on: Sarazin, et al. 2019](https://iopscience.iop.org/article/10.1088/1741-4326/ab48a5/meta)"
   ]
  },
  {
   "cell_type": "code",
   "execution_count": 2,
   "id": "66ee799d",
   "metadata": {},
   "outputs": [],
   "source": [
    "esqueleto = {\n",
    "    \"TAUTH\":None, \n",
    "    \"BETASTAR\":None,        \n",
    "    \"RGEO\":None,  \n",
    "    \"BT\":None,    \n",
    "    \"NEL\":None,   \n",
    "    \"TAV\":None,  \n",
    "    \"IP\":None,   \n",
    "    \"PLTH\":None,\n",
    "    \"Q95\":None,\n",
    "    \"KAREA\":None,\n",
    "    \"EPS\":None,\n",
    "    \"MEFF\":None\n",
    "}\n",
    "\n",
    "\n",
    "# IPB98(y,2)\n",
    "DEMO = {\"TAUTH\":4.6, # s\n",
    "        \"BETASTAR\":2.2, # 2.2\n",
    "        \"RGEO\":9.1,  # m # Some say 7.5\n",
    "        \"BT\":5.6,    # T\n",
    "        \"NEL\":8.7,   # 10^19\n",
    "        \"TAV\":12.9,  # keV\n",
    "        \"IP\":19.6,   # MA\n",
    "        \"PLTH\":157.5,# MW\n",
    "        \"Q95\":3.2,\n",
    "        \"KAREA\":1.59,\n",
    "        \"EPS\":3.1,\n",
    "        \"MEFF\":2.67\n",
    "       }\n",
    "\n",
    "ITER = {\"TAUTH\":3.1, # s\n",
    "        \"BETASTAR\":2.43,# 2.2\n",
    "        \"RGEO\":6.2,  # m\n",
    "        \"BT\":4.42,   # T\n",
    "        \"NEL\":8.4,   # 10^19\n",
    "        \"TAV\":10.7,  # keV\n",
    "        \"IP\":12.5,   # MA\n",
    "        \"PLTH\": 106, # MW\n",
    "        \"Q95\":3,\n",
    "        \"KAREA\":1.7,\n",
    "        \"EPS\":3.1,\n",
    "        \"MEFF\":2.554\n",
    "       }\n",
    "\n",
    "# NBI-LHW Database\n",
    "EAST = {\"TAUTH\":0.05647, # s\n",
    "        \"BETASTAR\":None,# 2.2\n",
    "        \"RGEO\":1.86,  # m\n",
    "        \"BT\":1.97,   # T\n",
    "        \"NEL\":3.36,   # 10^19\n",
    "        \"TAV\":None,  # keV\n",
    "        \"IP\":0.42,   # MA\n",
    "        \"PLTH\":2.26, # MW\n",
    "        \"Q95\":5.06,\n",
    "        \"KAREA\":1.51,\n",
    "        \"EPS\":0.44/1.86,\n",
    "        \"MEFF\": 2.5 # THIS IS MY GUESSSSSSSSSSSSSSSSSSSSSSSSSS\n",
    "       }\n",
    "\n",
    "ST40 = {\n",
    "    \"TAUTH\":None, \n",
    "    \"BETASTAR\":None,        \n",
    "    \"RGEO\":0.4,  \n",
    "    \"BT\":3,    \n",
    "    \"NEL\":None,   \n",
    "    \"TAV\":None,  \n",
    "    \"IP\":2,   \n",
    "    \"PLTH\":None,\n",
    "    \"Q95\":1.8,\n",
    "    \"KAREA\":2.6,\n",
    "    \"EPS\":0.2/0.4,\n",
    "    \"MEFF\":None,\n",
    "    \"Greewald\":0.8,\n",
    "    \"MDG_beta\":0.9\n",
    "    \n",
    "}\n",
    "\n",
    "\n",
    "MAST_U = {\n",
    "    \"TAUTH\":5,    # Changed to 2 in 2020\n",
    "    \"BETASTAR\":None,        \n",
    "    \"RGEO\":0.85,  \n",
    "    \"BT\":0.75,  # Changed to 0.6 in 2020  \n",
    "    \"NEL\":None,   \n",
    "    \"TAV\":None,  \n",
    "    \"IP\":2, # Changed to 1 in 2020\n",
    "    \"PLTH\":None,\n",
    "    \"Q95\":None,\n",
    "    \"KAREA\":None,\n",
    "    \"EPS\":0.65/0.85,\n",
    "    \"MEFF\":None\n",
    "}\n",
    "\n",
    "MASTU_ICTP = {\n",
    "    \"TAUTH\":0.055,    # Changed to 2 in 2020\n",
    "    \"BETASTAR\":3.7,        \n",
    "    \"RGEO\":0.85,  \n",
    "    \"BT\":0.75,  # Changed to 0.6 in 2020  \n",
    "    \"NEL\":4.55,   \n",
    "    \"TAV\":1.41,  \n",
    "    \"IP\":0.53, # Changed to 1 in 2020\n",
    "    \"PLTH\":None,\n",
    "    \"Q95\":None, #B_θ = 0.44T\n",
    "    \"KAREA\":2.01,\n",
    "    \"EPS\":0.65/0.85,\n",
    "    \"MEFF\":None\n",
    "}\n",
    "\n",
    "ST_CTF = {\n",
    "    \"TAUTH\":None,\n",
    "    \"BETASTAR\":None,        \n",
    "    \"RGEO\":0.84,  \n",
    "    \"BT\":2.5,    \n",
    "    \"NEL\":None,   \n",
    "    \"TAV\":None,  \n",
    "    \"IP\":6.5,   \n",
    "    \"PLTH\":None,\n",
    "    \"Q95\":None,\n",
    "    \"KAREA\":None,\n",
    "    \"EPS\":None,\n",
    "    \"MEFF\":None\n",
    "}"
   ]
  },
  {
   "cell_type": "code",
   "execution_count": 3,
   "id": "5696ebce",
   "metadata": {},
   "outputs": [
    {
     "name": "stdout",
     "output_type": "stream",
     "text": [
      "  Subset that decrease alpha-R to 0.6357\n",
      "--------\n",
      "23.45% affected alpha_R\n",
      "76.55% did not affect alpha_R\n",
      "\n",
      "\n",
      "  Subset that decrease alpha-R to 0.9998\n",
      "--------\n",
      "9.88% affected alpha_R\n",
      "90.12% did not affect alpha_R\n",
      "\n",
      "\n",
      "  Subset given by Joseph Hall           \n",
      "--------\n",
      "18.46% affected alpha_R\n",
      "81.54% did not affect alpha_R\n"
     ]
    }
   ],
   "source": [
    "# Obtained from Optimization\n",
    "\n",
    "min_subset_ids_6357 = pd.read_csv(path+\"R_ids_alpha_0.6357.csv\")\n",
    "min_subset_ids_9998 = pd.read_csv(path+\"R_ids_alpha_0.9998.csv\")\n",
    "min_subset_ids_joe  = pd.read_csv(path+\"deviation_id.csv\")\n",
    "\n",
    "DB2 = pd.read_csv(path+\"DB2P8.csv\")\n",
    "DB5 = pd.read_csv(path+\"SELDB5_SVD.csv\", low_memory=False) \n",
    "\n",
    "# Setting ELMy Dataset\n",
    "DB5 = DB5[DB5[\"PHASE\"].isin(['HGELM', 'HSELM', 'HGELMH', 'HSELMH'])]\n",
    "\n",
    "# Removing Spherical TOKAMAKS\n",
    "#DB5 = DB5[~DB5[\"TOK\"].isin(['START','MAST','NSTX'])]\n",
    "\n",
    "# There is two shots from DB2P8 missing in DB5\n",
    "missing_shots = DB2[~DB2.id.isin( DB5.id.values )].reset_index(drop=True)\n",
    "DB5 = pd.concat([DB5, missing_shots], axis=0, ignore_index=True)\n",
    "\n",
    "# Labeling shots that had great impact in decreasing alpha_R\n",
    "DB5.insert(loc=2,column=\"label_6357\",value=[\"Unaffected\"]*len(DB5))\n",
    "DB5.loc[(DB5[DB5.id.isin(min_subset_ids_6357.id)].index), \"label_6357\"] = \"Decreasing\"\n",
    "\n",
    "DB5.insert(loc=2,column=\"label_9998\",value=[\"Unaffected\"]*len(DB5))\n",
    "DB5.loc[(DB5[DB5.id.isin(min_subset_ids_9998.id)].index), \"label_9998\"] = \"Decreasing\"\n",
    "\n",
    "DB5.insert(loc=2,column=\"label_joe\",value=[\"Unaffected\"]*len(DB5))\n",
    "DB5.loc[(DB5[DB5.id.isin(min_subset_ids_joe.id)].index), \"label_joe\"] = \"Decreasing\"\n",
    "\n",
    "DB5.insert(loc=2,column=\"Spherical\",value=[\"False\"]*len(DB5))\n",
    "DB5.loc[(DB5[DB5.TOK.isin(['START','MAST','NSTX'])].index), \"Spherical\"] = \"True\"\n",
    "\n",
    "DB5.insert(0, 'intercept', np.ones(len(DB5)))\n",
    "\n",
    "\n",
    "print(\n",
    "    \"  Subset that decrease alpha-R to 0.6357\\n--------\\n\" +\n",
    "    f\"{ round( (len(min_subset_ids_6357)/len(DB5))*100     ,2)  }% affected alpha_R\\n\" + \n",
    "    f\"{ round( (1 - len(min_subset_ids_6357)/len(DB5))*100 ,2)  }% did not affect alpha_R\" +\n",
    "    \"\\n\\n\\n  Subset that decrease alpha-R to 0.9998\\n--------\\n\" +\n",
    "    f\"{ round( (len(min_subset_ids_9998)/len(DB5))*100     ,2)  }% affected alpha_R\\n\" + \n",
    "    f\"{ round( (1 - len(min_subset_ids_9998)/len(DB5))*100 ,2)  }% did not affect alpha_R\"\n",
    "    \"\\n\\n\\n  Subset given by Joseph Hall           \\n--------\\n\" +\n",
    "    f\"{ round( (len(min_subset_ids_joe)/len(DB5))*100     ,2)  }% affected alpha_R\\n\" + \n",
    "    f\"{ round( (1 - len(min_subset_ids_joe)/len(DB5))*100 ,2)  }% did not affect alpha_R\"\n",
    ")"
   ]
  },
  {
   "cell_type": "code",
   "execution_count": 4,
   "id": "39bb0908",
   "metadata": {},
   "outputs": [
    {
     "data": {
      "text/html": [
       "<div>\n",
       "<style scoped>\n",
       "    .dataframe tbody tr th:only-of-type {\n",
       "        vertical-align: middle;\n",
       "    }\n",
       "\n",
       "    .dataframe tbody tr th {\n",
       "        vertical-align: top;\n",
       "    }\n",
       "\n",
       "    .dataframe thead th {\n",
       "        text-align: right;\n",
       "    }\n",
       "</style>\n",
       "<table border=\"1\" class=\"dataframe\">\n",
       "  <thead>\n",
       "    <tr style=\"text-align: right;\">\n",
       "      <th></th>\n",
       "      <th>IP</th>\n",
       "      <th>BT</th>\n",
       "      <th>NEL</th>\n",
       "      <th>PLTH</th>\n",
       "      <th>RGEO</th>\n",
       "      <th>KAREA</th>\n",
       "      <th>EPS</th>\n",
       "      <th>MEFF</th>\n",
       "      <th>A</th>\n",
       "      <th>RHOSTAR</th>\n",
       "      <th>BETASTAR</th>\n",
       "      <th>NUSTAR</th>\n",
       "      <th>QCYL5</th>\n",
       "      <th>Q95</th>\n",
       "      <th>TAUTH_exp</th>\n",
       "      <th>TAUTH_pred</th>\n",
       "    </tr>\n",
       "    <tr>\n",
       "      <th>TOK</th>\n",
       "      <th></th>\n",
       "      <th></th>\n",
       "      <th></th>\n",
       "      <th></th>\n",
       "      <th></th>\n",
       "      <th></th>\n",
       "      <th></th>\n",
       "      <th></th>\n",
       "      <th></th>\n",
       "      <th></th>\n",
       "      <th></th>\n",
       "      <th></th>\n",
       "      <th></th>\n",
       "      <th></th>\n",
       "      <th></th>\n",
       "      <th></th>\n",
       "    </tr>\n",
       "  </thead>\n",
       "  <tbody>\n",
       "    <tr>\n",
       "      <th>ITER</th>\n",
       "      <td>15.0</td>\n",
       "      <td>5.3</td>\n",
       "      <td>1.03</td>\n",
       "      <td>87</td>\n",
       "      <td>6.20</td>\n",
       "      <td>1.80</td>\n",
       "      <td>0.322581</td>\n",
       "      <td>2.5</td>\n",
       "      <td>2.00</td>\n",
       "      <td>0.0020</td>\n",
       "      <td>2.24</td>\n",
       "      <td>0.014</td>\n",
       "      <td>1.94</td>\n",
       "      <td>3.0</td>\n",
       "      <td>3.50</td>\n",
       "      <td>2.94</td>\n",
       "    </tr>\n",
       "    <tr>\n",
       "      <th>SPARC</th>\n",
       "      <td>8.7</td>\n",
       "      <td>12.2</td>\n",
       "      <td>3.10</td>\n",
       "      <td>25</td>\n",
       "      <td>1.85</td>\n",
       "      <td>1.97</td>\n",
       "      <td>0.308108</td>\n",
       "      <td>2.5</td>\n",
       "      <td>0.57</td>\n",
       "      <td>0.0027</td>\n",
       "      <td>1.20</td>\n",
       "      <td>0.029</td>\n",
       "      <td>2.46</td>\n",
       "      <td>NaN</td>\n",
       "      <td>0.77</td>\n",
       "      <td>0.73</td>\n",
       "    </tr>\n",
       "  </tbody>\n",
       "</table>\n",
       "</div>"
      ],
      "text/plain": [
       "         IP    BT   NEL  PLTH  RGEO  KAREA       EPS  MEFF     A  RHOSTAR  \\\n",
       "TOK                                                                         \n",
       "ITER   15.0   5.3  1.03    87  6.20   1.80  0.322581   2.5  2.00   0.0020   \n",
       "SPARC   8.7  12.2  3.10    25  1.85   1.97  0.308108   2.5  0.57   0.0027   \n",
       "\n",
       "       BETASTAR  NUSTAR  QCYL5  Q95  TAUTH_exp  TAUTH_pred  \n",
       "TOK                                                         \n",
       "ITER       2.24   0.014   1.94  3.0       3.50        2.94  \n",
       "SPARC      1.20   0.029   2.46  NaN       0.77        0.73  "
      ]
     },
     "execution_count": 4,
     "metadata": {},
     "output_type": "execute_result"
    }
   ],
   "source": [
    "new_observations = pd.read_csv(path+\"new_machines.csv\").set_index(\"TOK\")\n",
    "new_observations"
   ]
  },
  {
   "cell_type": "code",
   "execution_count": null,
   "id": "22dbad4c",
   "metadata": {},
   "outputs": [],
   "source": []
  },
  {
   "cell_type": "code",
   "execution_count": 5,
   "id": "cf9ded9e",
   "metadata": {},
   "outputs": [],
   "source": [
    "DB2prms = get_ECT_regression(DB2).params.to_dict()\n",
    "DB2prms['const'] = np.exp(DB2prms['const'])"
   ]
  },
  {
   "cell_type": "code",
   "execution_count": 6,
   "id": "b7c57dea",
   "metadata": {},
   "outputs": [],
   "source": [
    "DB5prms = get_ECT_regression(DB5).params.to_dict()\n",
    "DB5prms['const'] = np.exp(DB5prms['const'])"
   ]
  },
  {
   "cell_type": "code",
   "execution_count": 7,
   "id": "247aeef5",
   "metadata": {},
   "outputs": [],
   "source": [
    "DDsprms = get_ECT_regression(DB5[DB5.id.isin(min_subset_ids_6357.id.values) | \n",
    "                                 DB5.id.isin(DB2.id.values)\n",
    "                                ]).params.to_dict()\n",
    "DDsprms['const'] = np.exp(DDsprms['const'])\n",
    "\n",
    "UDsprms = get_ECT_regression(DB5[~DB5.id.isin(min_subset_ids_6357.id.values)]).params.to_dict()\n",
    "UDsprms['const'] = np.exp(UDsprms['const'])"
   ]
  },
  {
   "cell_type": "code",
   "execution_count": 8,
   "id": "6453e1ba",
   "metadata": {},
   "outputs": [],
   "source": [
    "DDsprms_9 = get_ECT_regression(DB5[DB5.id.isin(min_subset_ids_9998.id.values) | \n",
    "                                 DB5.id.isin(DB2.id.values)\n",
    "                                ]).params.to_dict()\n",
    "DDsprms_9['const'] = np.exp(DDsprms_9['const'])\n",
    "\n",
    "UDsprms_9 = get_ECT_regression(DB5[~DB5.id.isin(min_subset_ids_9998.id.values)]).params.to_dict()\n",
    "UDsprms_9['const'] = np.exp(UDsprms_9['const'])"
   ]
  },
  {
   "cell_type": "code",
   "execution_count": 9,
   "id": "34052697",
   "metadata": {},
   "outputs": [],
   "source": [
    "DB2ITERy2 = {'const':0.0562,\n",
    "             'IP':0.93,\n",
    "             'BT':0.15,\n",
    "             'NEL':0.41,\n",
    "             'PLTH':-0.69,\n",
    "             'RGEO':1.97,\n",
    "             'KAREA':0.78,\n",
    "             'EPS':0.58,\n",
    "             'MEFF':0.19\n",
    "            }"
   ]
  },
  {
   "cell_type": "code",
   "execution_count": 10,
   "id": "c2230609",
   "metadata": {},
   "outputs": [
    {
     "data": {
      "text/plain": [
       "{'const': 0.07543874049968176,\n",
       " 'IP': 0.7818564549785937,\n",
       " 'BT': 0.24388542411978847,\n",
       " 'NEL': 0.41145103200443656,\n",
       " 'PLTH': -0.7532206371481888,\n",
       " 'RGEO': 2.155963618372499,\n",
       " 'KAREA': 0.5002957204679769,\n",
       " 'EPS': 0.7989791985662811,\n",
       " 'MEFF': 0.2189922745716312}"
      ]
     },
     "execution_count": 10,
     "metadata": {},
     "output_type": "execute_result"
    }
   ],
   "source": [
    "UDsprms"
   ]
  },
  {
   "cell_type": "markdown",
   "id": "bf264993",
   "metadata": {},
   "source": [
    "$$\n",
    "    \\tau_{E,th} = \\alpha_0\\cdot I_P^{\\alpha_I}\\cdot B^{\\alpha_B}_t\\cdot \\bar{n}^{\\alpha_n}_e  \\cdot P^{\\alpha_P}_{l,th}\\cdot R^{\\alpha_R}_{geo}\\cdot \\kappa^{\\alpha_\\kappa}_a\\cdot \\epsilon^{\\alpha_\\epsilon}\\cdot M^{\\alpha_M}_{eff}\n",
    "$$"
   ]
  },
  {
   "cell_type": "code",
   "execution_count": 11,
   "id": "91dd702a",
   "metadata": {},
   "outputs": [],
   "source": [
    "def predict_TauE(Mprms, Dprms):\n",
    "    \"\"\"\n",
    "    Model parameters (Mprms)\n",
    "    Device parameters (Dprms)\n",
    "    \"\"\"\n",
    "    tau = (Mprms['const'] * (Dprms[\"IP\"]**Mprms[\"IP\"]) * (Dprms[\"BT\"]**Mprms[\"BT\"]) *\n",
    "          (Dprms[\"NEL\"]**Mprms[\"NEL\"]) * (Dprms[\"PLTH\"]**Mprms[\"PLTH\"]) * (Dprms[\"RGEO\"]**Mprms[\"RGEO\"]) *\n",
    "          (Dprms[\"KAREA\"]**Mprms[\"KAREA\"]) * (Dprms[\"EPS\"]**Mprms[\"EPS\"]) * (Dprms[\"MEFF\"]**Mprms[\"MEFF\"])\n",
    "          )\n",
    "    return tau\n",
    "\n",
    "def get_rho_exponent(Mprms):\n",
    "    const, Ip, Bt, ne, Pl, R, k, e, M = (Mprms['const'], Mprms[\"IP\"], Mprms[\"BT\"], Mprms[\"NEL\"], \n",
    "                                         Mprms[\"PLTH\"],Mprms[\"RGEO\"], Mprms[\"KAREA\"], Mprms[\"EPS\"], \n",
    "                                         Mprms[\"MEFF\"]\n",
    "                                        )\n",
    "    return (2*(-3*R - 3*Ip -9*Pl + ne)) / (5*(1+Pl))"
   ]
  },
  {
   "cell_type": "markdown",
   "id": "5080006b",
   "metadata": {},
   "source": [
    "### DB2 and DB5"
   ]
  },
  {
   "cell_type": "code",
   "execution_count": 12,
   "id": "8a6ff096",
   "metadata": {},
   "outputs": [
    {
     "data": {
      "text/plain": [
       "(0.0010709519739761808, 7.985277179384644)"
      ]
     },
     "execution_count": 12,
     "metadata": {},
     "output_type": "execute_result"
    }
   ],
   "source": [
    "xp1, xp2 = -(np.round(get_rho_exponent(DB2prms),5)+2), -(np.round(get_rho_exponent(DB5prms),5)+2)\n",
    "rho_ITER = new_observations.loc[\"ITER\"][\"RHOSTAR\"]\n",
    "a_ITER   = new_observations.loc[\"ITER\"][\"A\"]\n",
    "\n",
    "ell1 = ( rho_ITER**xp1 ) * ( a_ITER**(1-xp1) )\n",
    "ell2 = ( rho_ITER**xp2 ) * ( a_ITER**(1-xp2) )\n",
    "\n",
    "ell1, ell2"
   ]
  },
  {
   "cell_type": "code",
   "execution_count": 13,
   "id": "3bdaa02b",
   "metadata": {},
   "outputs": [
    {
     "data": {
      "text/plain": [
       "(0.0016641078576201647, 1.6663006688105708)"
      ]
     },
     "execution_count": 13,
     "metadata": {},
     "output_type": "execute_result"
    }
   ],
   "source": [
    "xp1, xp2  = -(np.round(get_rho_exponent(DB2prms),5)+2), -(np.round(get_rho_exponent(DB5prms),5)+2)\n",
    "rho_SPARC = new_observations.loc[\"SPARC\"][\"RHOSTAR\"]\n",
    "a_SPARC   = new_observations.loc[\"SPARC\"][\"A\"]\n",
    "\n",
    "ell1 = ( rho_SPARC**xp1 ) * ( a_SPARC**(1-xp1) )\n",
    "ell2 = ( rho_SPARC**xp2 ) * ( a_SPARC**(1-xp2) )\n",
    "\n",
    "ell1, ell2"
   ]
  },
  {
   "cell_type": "code",
   "execution_count": 14,
   "id": "af3003e9",
   "metadata": {},
   "outputs": [
    {
     "data": {
      "text/plain": [
       "(1.09042, -0.20042000000000004)"
      ]
     },
     "execution_count": 14,
     "metadata": {},
     "output_type": "execute_result"
    }
   ],
   "source": [
    "xp1, xp2"
   ]
  },
  {
   "cell_type": "markdown",
   "id": "e88d2ec8",
   "metadata": {},
   "source": [
    "### Big Dataset"
   ]
  },
  {
   "cell_type": "code",
   "execution_count": 16,
   "id": "d59b636a",
   "metadata": {},
   "outputs": [
    {
     "data": {
      "text/plain": [
       "(227.42593855759998, 0.02563539394104549)"
      ]
     },
     "execution_count": 16,
     "metadata": {},
     "output_type": "execute_result"
    }
   ],
   "source": [
    "xp1, xp2 = -(np.round(get_rho_exponent(DDsprms),5)+2), -(np.round(get_rho_exponent(UDsprms),5)+2)\n",
    "rho_ITER = new_observations.loc[\"ITER\"][\"RHOSTAR\"]\n",
    "a_ITER   = new_observations.loc[\"ITER\"][\"A\"]\n",
    "\n",
    "ell1 = ( rho_ITER**xp1 ) * ( a_ITER**(1-xp1) )\n",
    "ell2 = ( rho_ITER**xp2 ) * ( a_ITER**(1-xp2) )\n",
    "\n",
    "ell1, ell2"
   ]
  },
  {
   "cell_type": "code",
   "execution_count": 17,
   "id": "87431bde",
   "metadata": {},
   "outputs": [
    {
     "data": {
      "text/plain": [
       "(22.325056740804328, 0.01948659571075577)"
      ]
     },
     "execution_count": 17,
     "metadata": {},
     "output_type": "execute_result"
    }
   ],
   "source": [
    "xp1, xp2 = -(np.round(get_rho_exponent(DDsprms),5)+2), -(np.round(get_rho_exponent(UDsprms),5)+2)\n",
    "rho_SPARC = new_observations.loc[\"SPARC\"][\"RHOSTAR\"]\n",
    "a_SPARC   = new_observations.loc[\"SPARC\"][\"A\"]\n",
    "\n",
    "ell1 = ( rho_SPARC**xp1 ) * ( a_SPARC**(1-xp1) )\n",
    "ell2 = ( rho_SPARC**xp2 ) * ( a_SPARC**(1-xp2) )\n",
    "\n",
    "ell1, ell2"
   ]
  },
  {
   "cell_type": "code",
   "execution_count": 18,
   "id": "e06e4537",
   "metadata": {},
   "outputs": [
    {
     "data": {
      "text/plain": [
       "(-0.68527, 0.6307299999999998)"
      ]
     },
     "execution_count": 18,
     "metadata": {},
     "output_type": "execute_result"
    }
   ],
   "source": [
    "xp1, xp2"
   ]
  },
  {
   "cell_type": "markdown",
   "id": "b2ffd88b",
   "metadata": {},
   "source": [
    "### Small Dataset"
   ]
  },
  {
   "cell_type": "code",
   "execution_count": 19,
   "id": "6a879caf",
   "metadata": {},
   "outputs": [
    {
     "data": {
      "text/plain": [
       "(64.98602834792347, 1.1524709728188498)"
      ]
     },
     "execution_count": 19,
     "metadata": {},
     "output_type": "execute_result"
    }
   ],
   "source": [
    "xp1, xp2 = -(np.round(get_rho_exponent(DDsprms_9),5) +2), -(np.round(get_rho_exponent(UDsprms_9),5) + 2)\n",
    "rho_ITER = new_observations.loc[\"ITER\"][\"RHOSTAR\"]\n",
    "a_ITER   = new_observations.loc[\"ITER\"][\"A\"]\n",
    "\n",
    "ell1 = ( rho_ITER**xp1 ) * ( a_ITER**(1-xp1) )\n",
    "ell2 = ( rho_ITER**xp2 ) * ( a_ITER**(1-xp2) )\n",
    "\n",
    "ell1, ell2"
   ]
  },
  {
   "cell_type": "code",
   "execution_count": 20,
   "id": "e493cf71",
   "metadata": {},
   "outputs": [
    {
     "data": {
      "text/plain": [
       "(8.457962007894913, 0.37185949106114174)"
      ]
     },
     "execution_count": 20,
     "metadata": {},
     "output_type": "execute_result"
    }
   ],
   "source": [
    "xp1, xp2  = -(np.round(get_rho_exponent(DDsprms_9),5) +2), -(np.round(get_rho_exponent(UDsprms_9),5) + 2)\n",
    "rho_SPARC = new_observations.loc[\"SPARC\"][\"RHOSTAR\"]\n",
    "a_SPARC   = new_observations.loc[\"SPARC\"][\"A\"]\n",
    "\n",
    "ell1 = ( rho_SPARC**xp1 ) * ( a_SPARC**(1-xp1) )\n",
    "ell2 = ( rho_SPARC**xp2 ) * ( a_SPARC**(1-xp2) )\n",
    "\n",
    "ell1, ell2"
   ]
  },
  {
   "cell_type": "code",
   "execution_count": 21,
   "id": "d48ad013",
   "metadata": {},
   "outputs": [
    {
     "data": {
      "text/plain": [
       "(-0.50393, 0.0798000000000001)"
      ]
     },
     "execution_count": 21,
     "metadata": {},
     "output_type": "execute_result"
    }
   ],
   "source": [
    "xp1, xp2"
   ]
  },
  {
   "cell_type": "code",
   "execution_count": 22,
   "id": "1533eb0b",
   "metadata": {},
   "outputs": [
    {
     "data": {
      "text/html": [
       "<div>\n",
       "<style scoped>\n",
       "    .dataframe tbody tr th:only-of-type {\n",
       "        vertical-align: middle;\n",
       "    }\n",
       "\n",
       "    .dataframe tbody tr th {\n",
       "        vertical-align: top;\n",
       "    }\n",
       "\n",
       "    .dataframe thead th {\n",
       "        text-align: right;\n",
       "    }\n",
       "</style>\n",
       "<table border=\"1\" class=\"dataframe\">\n",
       "  <thead>\n",
       "    <tr style=\"text-align: right;\">\n",
       "      <th></th>\n",
       "      <th>IP</th>\n",
       "      <th>BT</th>\n",
       "      <th>NEL</th>\n",
       "      <th>PLTH</th>\n",
       "      <th>RGEO</th>\n",
       "      <th>KAREA</th>\n",
       "      <th>EPS</th>\n",
       "      <th>MEFF</th>\n",
       "      <th>A</th>\n",
       "      <th>RHOSTAR</th>\n",
       "      <th>BETASTAR</th>\n",
       "      <th>NUSTAR</th>\n",
       "      <th>QCYL5</th>\n",
       "      <th>Q95</th>\n",
       "      <th>TAUTH_exp</th>\n",
       "      <th>TAUTH_pred</th>\n",
       "    </tr>\n",
       "    <tr>\n",
       "      <th>TOK</th>\n",
       "      <th></th>\n",
       "      <th></th>\n",
       "      <th></th>\n",
       "      <th></th>\n",
       "      <th></th>\n",
       "      <th></th>\n",
       "      <th></th>\n",
       "      <th></th>\n",
       "      <th></th>\n",
       "      <th></th>\n",
       "      <th></th>\n",
       "      <th></th>\n",
       "      <th></th>\n",
       "      <th></th>\n",
       "      <th></th>\n",
       "      <th></th>\n",
       "    </tr>\n",
       "  </thead>\n",
       "  <tbody>\n",
       "    <tr>\n",
       "      <th>ITER</th>\n",
       "      <td>15.0</td>\n",
       "      <td>5.3</td>\n",
       "      <td>1.03</td>\n",
       "      <td>87</td>\n",
       "      <td>6.20</td>\n",
       "      <td>1.80</td>\n",
       "      <td>0.322581</td>\n",
       "      <td>2.5</td>\n",
       "      <td>2.00</td>\n",
       "      <td>0.0020</td>\n",
       "      <td>2.24</td>\n",
       "      <td>0.014</td>\n",
       "      <td>1.94</td>\n",
       "      <td>3.0</td>\n",
       "      <td>3.50</td>\n",
       "      <td>2.94</td>\n",
       "    </tr>\n",
       "    <tr>\n",
       "      <th>SPARC</th>\n",
       "      <td>8.7</td>\n",
       "      <td>12.2</td>\n",
       "      <td>3.10</td>\n",
       "      <td>25</td>\n",
       "      <td>1.85</td>\n",
       "      <td>1.97</td>\n",
       "      <td>0.308108</td>\n",
       "      <td>2.5</td>\n",
       "      <td>0.57</td>\n",
       "      <td>0.0027</td>\n",
       "      <td>1.20</td>\n",
       "      <td>0.029</td>\n",
       "      <td>2.46</td>\n",
       "      <td>NaN</td>\n",
       "      <td>0.77</td>\n",
       "      <td>0.73</td>\n",
       "    </tr>\n",
       "  </tbody>\n",
       "</table>\n",
       "</div>"
      ],
      "text/plain": [
       "         IP    BT   NEL  PLTH  RGEO  KAREA       EPS  MEFF     A  RHOSTAR  \\\n",
       "TOK                                                                         \n",
       "ITER   15.0   5.3  1.03    87  6.20   1.80  0.322581   2.5  2.00   0.0020   \n",
       "SPARC   8.7  12.2  3.10    25  1.85   1.97  0.308108   2.5  0.57   0.0027   \n",
       "\n",
       "       BETASTAR  NUSTAR  QCYL5  Q95  TAUTH_exp  TAUTH_pred  \n",
       "TOK                                                         \n",
       "ITER       2.24   0.014   1.94  3.0       3.50        2.94  \n",
       "SPARC      1.20   0.029   2.46  NaN       0.77        0.73  "
      ]
     },
     "execution_count": 22,
     "metadata": {},
     "output_type": "execute_result"
    }
   ],
   "source": [
    "new_observations"
   ]
  },
  {
   "cell_type": "code",
   "execution_count": 24,
   "id": "1a0737df",
   "metadata": {},
   "outputs": [
    {
     "data": {
      "text/plain": [
       "{'IP': 15.0,\n",
       " 'BT': 5.3,\n",
       " 'NEL': 1.03,\n",
       " 'PLTH': 87.0,\n",
       " 'RGEO': 6.2,\n",
       " 'KAREA': 1.8,\n",
       " 'EPS': 0.322581,\n",
       " 'MEFF': 2.5,\n",
       " 'A': 2.0,\n",
       " 'RHOSTAR': 0.002,\n",
       " 'BETASTAR': 2.24,\n",
       " 'NUSTAR': 0.014,\n",
       " 'QCYL5': 1.94,\n",
       " 'Q95': 3.0,\n",
       " 'TAUTH_exp': 3.5,\n",
       " 'TAUTH_pred': 2.94}"
      ]
     },
     "execution_count": 24,
     "metadata": {},
     "output_type": "execute_result"
    }
   ],
   "source": []
  },
  {
   "cell_type": "code",
   "execution_count": 25,
   "id": "1afa2eb3",
   "metadata": {},
   "outputs": [
    {
     "data": {
      "text/plain": [
       "1.1189303507734587"
      ]
     },
     "execution_count": 25,
     "metadata": {},
     "output_type": "execute_result"
    }
   ],
   "source": [
    "predict_TauE(UDsprms, new_observations.loc[\"ITER\"].to_dict())"
   ]
  },
  {
   "cell_type": "code",
   "execution_count": 26,
   "id": "22feb617",
   "metadata": {},
   "outputs": [
    {
     "data": {
      "text/plain": [
       "0.26809442353056073"
      ]
     },
     "execution_count": 26,
     "metadata": {},
     "output_type": "execute_result"
    }
   ],
   "source": [
    "predict_TauE(UDsprms, new_observations.loc[\"SPARC\"].to_dict())"
   ]
  },
  {
   "cell_type": "code",
   "execution_count": 27,
   "id": "2e1c67ca",
   "metadata": {},
   "outputs": [
    {
     "data": {
      "text/plain": [
       "68.0"
      ]
     },
     "execution_count": 27,
     "metadata": {},
     "output_type": "execute_result"
    }
   ],
   "source": [
    "(3.5-1.12)*100/3.5"
   ]
  },
  {
   "cell_type": "code",
   "execution_count": 28,
   "id": "c86fc9da",
   "metadata": {},
   "outputs": [
    {
     "data": {
      "text/plain": [
       "64.93506493506493"
      ]
     },
     "execution_count": 28,
     "metadata": {},
     "output_type": "execute_result"
    }
   ],
   "source": [
    "(0.77-0.27)*100/0.77"
   ]
  },
  {
   "cell_type": "code",
   "execution_count": 30,
   "id": "e516a11c",
   "metadata": {},
   "outputs": [
    {
     "data": {
      "text/html": [
       "<div>\n",
       "<style scoped>\n",
       "    .dataframe tbody tr th:only-of-type {\n",
       "        vertical-align: middle;\n",
       "    }\n",
       "\n",
       "    .dataframe tbody tr th {\n",
       "        vertical-align: top;\n",
       "    }\n",
       "\n",
       "    .dataframe thead th {\n",
       "        text-align: right;\n",
       "    }\n",
       "</style>\n",
       "<table border=\"1\" class=\"dataframe\">\n",
       "  <thead>\n",
       "    <tr style=\"text-align: right;\">\n",
       "      <th></th>\n",
       "      <th>Q95</th>\n",
       "    </tr>\n",
       "  </thead>\n",
       "  <tbody>\n",
       "    <tr>\n",
       "      <th>count</th>\n",
       "      <td>236.000000</td>\n",
       "    </tr>\n",
       "    <tr>\n",
       "      <th>mean</th>\n",
       "      <td>7.457679</td>\n",
       "    </tr>\n",
       "    <tr>\n",
       "      <th>std</th>\n",
       "      <td>1.607156</td>\n",
       "    </tr>\n",
       "    <tr>\n",
       "      <th>min</th>\n",
       "      <td>3.256670</td>\n",
       "    </tr>\n",
       "    <tr>\n",
       "      <th>25%</th>\n",
       "      <td>6.262387</td>\n",
       "    </tr>\n",
       "    <tr>\n",
       "      <th>50%</th>\n",
       "      <td>7.475000</td>\n",
       "    </tr>\n",
       "    <tr>\n",
       "      <th>75%</th>\n",
       "      <td>8.616250</td>\n",
       "    </tr>\n",
       "    <tr>\n",
       "      <th>max</th>\n",
       "      <td>11.310000</td>\n",
       "    </tr>\n",
       "  </tbody>\n",
       "</table>\n",
       "</div>"
      ],
      "text/plain": [
       "              Q95\n",
       "count  236.000000\n",
       "mean     7.457679\n",
       "std      1.607156\n",
       "min      3.256670\n",
       "25%      6.262387\n",
       "50%      7.475000\n",
       "75%      8.616250\n",
       "max     11.310000"
      ]
     },
     "execution_count": 30,
     "metadata": {},
     "output_type": "execute_result"
    }
   ],
   "source": [
    "DB5[DB5.Spherical.isin([\"True\"])][[\"Q95\"]].describe()"
   ]
  },
  {
   "cell_type": "code",
   "execution_count": 31,
   "id": "f9c3a173",
   "metadata": {},
   "outputs": [
    {
     "data": {
      "text/html": [
       "<div>\n",
       "<style scoped>\n",
       "    .dataframe tbody tr th:only-of-type {\n",
       "        vertical-align: middle;\n",
       "    }\n",
       "\n",
       "    .dataframe tbody tr th {\n",
       "        vertical-align: top;\n",
       "    }\n",
       "\n",
       "    .dataframe thead th {\n",
       "        text-align: right;\n",
       "    }\n",
       "</style>\n",
       "<table border=\"1\" class=\"dataframe\">\n",
       "  <thead>\n",
       "    <tr style=\"text-align: right;\">\n",
       "      <th></th>\n",
       "      <th>Q95</th>\n",
       "    </tr>\n",
       "  </thead>\n",
       "  <tbody>\n",
       "    <tr>\n",
       "      <th>count</th>\n",
       "      <td>6001.000000</td>\n",
       "    </tr>\n",
       "    <tr>\n",
       "      <th>mean</th>\n",
       "      <td>3.828896</td>\n",
       "    </tr>\n",
       "    <tr>\n",
       "      <th>std</th>\n",
       "      <td>0.878158</td>\n",
       "    </tr>\n",
       "    <tr>\n",
       "      <th>min</th>\n",
       "      <td>1.873000</td>\n",
       "    </tr>\n",
       "    <tr>\n",
       "      <th>25%</th>\n",
       "      <td>3.214000</td>\n",
       "    </tr>\n",
       "    <tr>\n",
       "      <th>50%</th>\n",
       "      <td>3.641960</td>\n",
       "    </tr>\n",
       "    <tr>\n",
       "      <th>75%</th>\n",
       "      <td>4.252000</td>\n",
       "    </tr>\n",
       "    <tr>\n",
       "      <th>max</th>\n",
       "      <td>11.130000</td>\n",
       "    </tr>\n",
       "  </tbody>\n",
       "</table>\n",
       "</div>"
      ],
      "text/plain": [
       "               Q95\n",
       "count  6001.000000\n",
       "mean      3.828896\n",
       "std       0.878158\n",
       "min       1.873000\n",
       "25%       3.214000\n",
       "50%       3.641960\n",
       "75%       4.252000\n",
       "max      11.130000"
      ]
     },
     "execution_count": 31,
     "metadata": {},
     "output_type": "execute_result"
    }
   ],
   "source": [
    "DB5[DB5.Spherical.isin([\"False\"])][[\"Q95\"]].describe()"
   ]
  },
  {
   "cell_type": "code",
   "execution_count": null,
   "id": "b333832d",
   "metadata": {},
   "outputs": [],
   "source": []
  }
 ],
 "metadata": {
  "kernelspec": {
   "display_name": "Python 3 (ipykernel)",
   "language": "python",
   "name": "python3"
  },
  "language_info": {
   "codemirror_mode": {
    "name": "ipython",
    "version": 3
   },
   "file_extension": ".py",
   "mimetype": "text/x-python",
   "name": "python",
   "nbconvert_exporter": "python",
   "pygments_lexer": "ipython3",
   "version": "3.10.11"
  }
 },
 "nbformat": 4,
 "nbformat_minor": 5
}
