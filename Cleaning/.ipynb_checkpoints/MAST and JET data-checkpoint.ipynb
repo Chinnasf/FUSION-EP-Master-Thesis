{
 "cells": [
  {
   "cell_type": "code",
   "execution_count": 1,
   "id": "c93c1c66",
   "metadata": {},
   "outputs": [],
   "source": [
    "%load_ext autoreload\n",
    "%autoreload 2"
   ]
  },
  {
   "cell_type": "code",
   "execution_count": 2,
   "id": "3f862841",
   "metadata": {},
   "outputs": [],
   "source": [
    "import sys\n",
    "sys.path.append('../')\n",
    "import tokamakTK\n",
    "\n",
    "import seaborn as sns\n",
    "import numpy as np \n",
    "import pandas as pd\n",
    "import matplotlib.pyplot as plt\n",
    "import scipy as sp\n",
    "import statsmodels.api as sm\n",
    "import matplotlib.patches as mpatches\n",
    "\n",
    "from sklearn.preprocessing import StandardScaler\n",
    "from sklearn.ensemble import RandomForestClassifier\n",
    "from sklearn.model_selection import train_test_split\n",
    "from sklearn.metrics import precision_recall_curve, precision_recall_fscore_support\n",
    "\n",
    "pd.set_option('display.max_columns', None)\n",
    "path = \"../data/\""
   ]
  },
  {
   "cell_type": "code",
   "execution_count": 3,
   "id": "3546c378",
   "metadata": {},
   "outputs": [],
   "source": [
    "# Obtained from Optimization\n",
    "\n",
    "min_subset_ids = pd.read_csv(path+\"R_ids_alpha_0.6357.csv\")\n",
    "\n",
    "DB2 = pd.read_csv(path+\"DB2P8.csv\")\n",
    "DB5 = pd.read_csv(path+\"SELDB5_SVD.csv\", low_memory=False) \n",
    "\n",
    "# Setting ELMy Dataset\n",
    "DB5 = DB5[DB5[\"PHASE\"].isin(['HGELM', 'HSELM', 'HGELMH', 'HSELMH'])]\n",
    "\n",
    "# REMOVING SPHERICAL TOKAMAKS\n",
    "#DB5 = DB5[~DB5.TOK.isin(['MAST', 'NSTX', 'START'])]\n",
    "\n",
    "\n",
    "# There is two shots from DB2P8 missing in DB5\n",
    "missing_shots = DB2[~DB2.id.isin( DB5.id.values )].reset_index(drop=True)\n",
    "DB5 = pd.concat([DB5, missing_shots], axis=0, ignore_index=True)\n",
    "\n",
    "# Labeling shots that had great impact in decreasing alpha_R\n",
    "DB5.insert(loc=2,column=\"label\",value=[\"unaffected\"]*len(DB5))\n",
    "DB5.loc[(DB5[DB5.id.isin(min_subset_ids.id)].index), \"label\"] = \"decreasing\""
   ]
  },
  {
   "cell_type": "code",
   "execution_count": 41,
   "id": "80ce6696",
   "metadata": {},
   "outputs": [
    {
     "data": {
      "text/plain": [
       "array(['ASDEX', 'AUG', 'AUGW', 'CMOD', 'COMPASS', 'D3D', 'JET', 'JETILW',\n",
       "       'JFT2M', 'JT60U', 'MAST', 'NSTX', 'PBXM', 'PDX', 'START', 'TCV',\n",
       "       'TDEV', 'TFTR'], dtype=object)"
      ]
     },
     "execution_count": 41,
     "metadata": {},
     "output_type": "execute_result"
    }
   ],
   "source": [
    "DB5.TOK.unique()"
   ]
  },
  {
   "cell_type": "code",
   "execution_count": 37,
   "id": "ce01ad6e",
   "metadata": {},
   "outputs": [],
   "source": [
    "MAST = DB5[DB5.TOK.isin([\"MAST\"])]\n",
    "JET = DB5[DB5.TOK.isin([\"JET\"])]\n",
    "D3D = DB5[DB5.TOK.isin([\"D3D\"])]"
   ]
  },
  {
   "cell_type": "code",
   "execution_count": 18,
   "id": "75488be2",
   "metadata": {},
   "outputs": [],
   "source": [
    "plasma_characteristics = [\"QCYL5\",\"BEIMHD\",\"PREMAG\",\"LHTIME\",\"HYBRID\",\n",
    "                          \"CONFIG\",\"DWDIA\",\"WMHD\",\"TORQ\",\"KAREA\", \"EPS\",\"MEFF\",\"VOL\",\"LCOULOMB\",\n",
    "                          \"IP\",\"RHOSTAR\",\"NUSTAR\",\"BETASTAR\"] \n",
    "TOK_characteristics = [\"TOK\",\"DIVNAME\",\"WALMAT\",\"DIVMAT\",\"LIMMAT\",\"AMIN\",\"BT\"]\n",
    "ELM = [\"ELMTYPE\",\"ELMFREQ\"]\n",
    "heating = [\"PECRH\", \"PICRH\", \"ICSCHEME\",\"AUXHEAT\",\"ECHMODE\",\"PELLET\"]\n",
    "impurities = [\"EVAP\",\"ZEFF\",\"ZEFFNEO\",\"PRAD\",\"POHM\",\"ENBI\",\"PNBI\"]\n",
    "power = [\"PLTH\",\"PFLOSS\"]\n",
    "temperatures = [\"TAV\",\"TEV\",\"TIV\"]\n",
    "features = ['NUSTAR', 'BETASTAR', 'QCYL5', 'HYBRID', 'ENBI', 'VOL', 'POHM',\n",
    "            'PNBI', 'DWDIA', 'BT', 'NEL', 'PFLOSS', 'KAREA', 'MEFF', 'WFICFORM', 'IP']\n",
    "fast_particles = [\"NESOL\",\"WFFORM\",\"WFICFORM\",\"OMEGACYCL\",\"NEL\"] \n",
    "\n",
    "\n",
    "features = list(plasma_characteristics + TOK_characteristics + ELM + heating + \\\n",
    "                       impurities + power + temperatures  + fast_particles)\n",
    "\n",
    "cat_features = DB5[features].select_dtypes(include=['object']).columns.tolist()"
   ]
  },
  {
   "cell_type": "code",
   "execution_count": 19,
   "id": "5ed59cad",
   "metadata": {},
   "outputs": [
    {
     "data": {
      "text/plain": [
       "['PREMAG',\n",
       " 'HYBRID',\n",
       " 'CONFIG',\n",
       " 'TOK',\n",
       " 'DIVNAME',\n",
       " 'WALMAT',\n",
       " 'DIVMAT',\n",
       " 'LIMMAT',\n",
       " 'ELMTYPE',\n",
       " 'ICSCHEME',\n",
       " 'AUXHEAT',\n",
       " 'ECHMODE',\n",
       " 'PELLET',\n",
       " 'EVAP']"
      ]
     },
     "execution_count": 19,
     "metadata": {},
     "output_type": "execute_result"
    }
   ],
   "source": [
    "cat_features"
   ]
  },
  {
   "cell_type": "markdown",
   "id": "4a5aa1b7",
   "metadata": {},
   "source": [
    "## MAST"
   ]
  },
  {
   "cell_type": "code",
   "execution_count": 51,
   "id": "50d055cb",
   "metadata": {},
   "outputs": [
    {
     "name": "stdout",
     "output_type": "stream",
     "text": [
      "2002-05-08 00:00:00 - 2005-11-11 00:00:00\n"
     ]
    }
   ],
   "source": [
    "print(pd.to_datetime(MAST.DATE.sort_values(ascending=True), format=\"%Y%m%d\").iloc[0], \"-\", \n",
    "      pd.to_datetime(MAST.DATE.sort_values(ascending=True), format=\"%Y%m%d\").iloc[-1])"
   ]
  },
  {
   "cell_type": "code",
   "execution_count": 8,
   "id": "ff0d24c3",
   "metadata": {},
   "outputs": [
    {
     "data": {
      "text/plain": [
       "array(['RIB', 'PLATES1'], dtype=object)"
      ]
     },
     "execution_count": 8,
     "metadata": {},
     "output_type": "execute_result"
    }
   ],
   "source": [
    "MAST.DIVNAME.unique()"
   ]
  },
  {
   "cell_type": "code",
   "execution_count": 15,
   "id": "f669e297",
   "metadata": {},
   "outputs": [
    {
     "data": {
      "text/plain": [
       "array(['SS', 'C'], dtype=object)"
      ]
     },
     "execution_count": 15,
     "metadata": {},
     "output_type": "execute_result"
    }
   ],
   "source": [
    "MAST.WALMAT.unique()"
   ]
  },
  {
   "cell_type": "code",
   "execution_count": 16,
   "id": "ec8464b1",
   "metadata": {},
   "outputs": [
    {
     "data": {
      "text/plain": [
       "array(['C'], dtype=object)"
      ]
     },
     "execution_count": 16,
     "metadata": {},
     "output_type": "execute_result"
    }
   ],
   "source": [
    "MAST.DIVMAT.unique()"
   ]
  },
  {
   "cell_type": "code",
   "execution_count": 20,
   "id": "fe84dbd0",
   "metadata": {},
   "outputs": [
    {
     "data": {
      "text/plain": [
       "array(['C'], dtype=object)"
      ]
     },
     "execution_count": 20,
     "metadata": {},
     "output_type": "execute_result"
    }
   ],
   "source": [
    "MAST.LIMMAT.unique()"
   ]
  },
  {
   "cell_type": "markdown",
   "id": "f45a4ee1",
   "metadata": {},
   "source": [
    "## JET"
   ]
  },
  {
   "cell_type": "code",
   "execution_count": 52,
   "id": "7668f2aa",
   "metadata": {},
   "outputs": [
    {
     "name": "stdout",
     "output_type": "stream",
     "text": [
      "1988-04-22 00:00:00 - 2004-03-03 00:00:00\n"
     ]
    }
   ],
   "source": [
    "print(pd.to_datetime(JET.DATE.sort_values(ascending=True), format=\"%Y%m%d\").iloc[0], \"-\", \n",
    "      pd.to_datetime(JET.DATE.sort_values(ascending=True), format=\"%Y%m%d\").iloc[-1])"
   ]
  },
  {
   "cell_type": "code",
   "execution_count": 17,
   "id": "2999b6ed",
   "metadata": {},
   "outputs": [
    {
     "data": {
      "text/plain": [
       "array(['MARK0', 'MARKI', 'MARKIIA', 'MARKIIAP', 'MARKGB', 'MARKGBSR'],\n",
       "      dtype=object)"
      ]
     },
     "execution_count": 17,
     "metadata": {},
     "output_type": "execute_result"
    }
   ],
   "source": [
    "JET.DIVNAME.unique()"
   ]
  },
  {
   "cell_type": "code",
   "execution_count": 11,
   "id": "a563d714",
   "metadata": {},
   "outputs": [
    {
     "data": {
      "text/plain": [
       "array(['C', 'C/BE'], dtype=object)"
      ]
     },
     "execution_count": 11,
     "metadata": {},
     "output_type": "execute_result"
    }
   ],
   "source": [
    "JET.DIVMAT.unique()"
   ]
  },
  {
   "cell_type": "code",
   "execution_count": 13,
   "id": "9690cecf",
   "metadata": {},
   "outputs": [
    {
     "data": {
      "text/plain": [
       "array(['IN/C', 'IN'], dtype=object)"
      ]
     },
     "execution_count": 13,
     "metadata": {},
     "output_type": "execute_result"
    }
   ],
   "source": [
    "JET.WALMAT.unique()"
   ]
  },
  {
   "cell_type": "code",
   "execution_count": 21,
   "id": "fdc35a2c",
   "metadata": {},
   "outputs": [
    {
     "data": {
      "text/plain": [
       "array(['C', 'BE'], dtype=object)"
      ]
     },
     "execution_count": 21,
     "metadata": {},
     "output_type": "execute_result"
    }
   ],
   "source": [
    "JET.LIMMAT.unique()"
   ]
  },
  {
   "cell_type": "markdown",
   "id": "b4920849",
   "metadata": {},
   "source": [
    "## DIII-D * \n",
    "\n",
    "[Importance when using Moderate MCL](https://github.com/Chinnasf/Thesis/blob/main/Classification/Sklearn%20Tuning/RF_Moderate_Multicollinearity.ipynb)"
   ]
  },
  {
   "cell_type": "code",
   "execution_count": 53,
   "id": "c7e4132e",
   "metadata": {},
   "outputs": [
    {
     "name": "stdout",
     "output_type": "stream",
     "text": [
      "1987-10-09 00:00:00 - 2004-07-29 00:00:00\n"
     ]
    }
   ],
   "source": [
    "print(pd.to_datetime(D3D.DATE.sort_values(ascending=True), format=\"%Y%m%d\").iloc[0], \"-\", \n",
    "      pd.to_datetime(D3D.DATE.sort_values(ascending=True), format=\"%Y%m%d\").iloc[-1])"
   ]
  },
  {
   "cell_type": "code",
   "execution_count": 38,
   "id": "055cc425",
   "metadata": {},
   "outputs": [
    {
     "data": {
      "text/plain": [
       "array(['OPEN', 'ADP', 'RDP'], dtype=object)"
      ]
     },
     "execution_count": 38,
     "metadata": {},
     "output_type": "execute_result"
    }
   ],
   "source": [
    "D3D.DIVNAME.unique() # ******* RDP **********"
   ]
  },
  {
   "cell_type": "code",
   "execution_count": 39,
   "id": "16a1c546",
   "metadata": {},
   "outputs": [
    {
     "data": {
      "text/plain": [
       "array(['C'], dtype=object)"
      ]
     },
     "execution_count": 39,
     "metadata": {},
     "output_type": "execute_result"
    }
   ],
   "source": [
    "D3D.DIVMAT.unique()"
   ]
  },
  {
   "cell_type": "code",
   "execution_count": 40,
   "id": "36c1820a",
   "metadata": {},
   "outputs": [
    {
     "data": {
      "text/plain": [
       "array(['IN'], dtype=object)"
      ]
     },
     "execution_count": 40,
     "metadata": {},
     "output_type": "execute_result"
    }
   ],
   "source": [
    "D3D.WALMAT.unique()"
   ]
  },
  {
   "cell_type": "markdown",
   "id": "3f1d2844",
   "metadata": {},
   "source": [
    "## DB5"
   ]
  },
  {
   "cell_type": "code",
   "execution_count": 23,
   "id": "0a0bc37f",
   "metadata": {},
   "outputs": [
    {
     "data": {
      "text/plain": [
       "array(['NONE', 'CARBH', 'BOROA', 'BOROB', 'SILICON', 'BOR', 'BOROX', 'BO',\n",
       "       'CARB', 'BOROC', 'BE', nan, 'TI', 'DECABORA'], dtype=object)"
      ]
     },
     "execution_count": 23,
     "metadata": {},
     "output_type": "execute_result"
    }
   ],
   "source": [
    "DB5[\"EVAP\"].unique()"
   ]
  },
  {
   "cell_type": "code",
   "execution_count": 24,
   "id": "27d94490",
   "metadata": {},
   "outputs": [
    {
     "data": {
      "text/plain": [
       "array(['TI2', 'TI1', 'CC', 'C', 'W', 'C-W', 'MO', 'C/BE', 'SS', 'IN',\n",
       "       'NONE', nan], dtype=object)"
      ]
     },
     "execution_count": 24,
     "metadata": {},
     "output_type": "execute_result"
    }
   ],
   "source": [
    "DB5[\"DIVMAT\"].unique()"
   ]
  },
  {
   "cell_type": "code",
   "execution_count": null,
   "id": "6676081c",
   "metadata": {},
   "outputs": [],
   "source": [
    "# IN ~ Inconel 625 stainless steel"
   ]
  },
  {
   "cell_type": "code",
   "execution_count": 34,
   "id": "b92a6340",
   "metadata": {},
   "outputs": [
    {
     "data": {
      "text/plain": [
       "array(['D3D'], dtype=object)"
      ]
     },
     "execution_count": 34,
     "metadata": {},
     "output_type": "execute_result"
    }
   ],
   "source": [
    "DB5[DB5[\"DIVNAME\"].isin(['RDP'])].TOK.unique()"
   ]
  },
  {
   "cell_type": "code",
   "execution_count": 55,
   "id": "9cceb624",
   "metadata": {},
   "outputs": [
    {
     "data": {
      "text/plain": [
       "array(['DV-IPRE', 'DV-IPOST', 'DV-II-C', 'DIV-I', 'DIV-II', 'DIV-IIb',\n",
       "       'DIV-IIc', 'DIV-IId', 'DIV-III', nan], dtype=object)"
      ]
     },
     "execution_count": 55,
     "metadata": {},
     "output_type": "execute_result"
    }
   ],
   "source": [
    "DB5[DB5.TOK.isin([\"AUGW\",\"ASDEX\",\"AUG\"])].DIVNAME.unique()"
   ]
  },
  {
   "cell_type": "code",
   "execution_count": null,
   "id": "7062a230",
   "metadata": {},
   "outputs": [],
   "source": []
  }
 ],
 "metadata": {
  "kernelspec": {
   "display_name": "Python 3 (ipykernel)",
   "language": "python",
   "name": "python3"
  },
  "language_info": {
   "codemirror_mode": {
    "name": "ipython",
    "version": 3
   },
   "file_extension": ".py",
   "mimetype": "text/x-python",
   "name": "python",
   "nbconvert_exporter": "python",
   "pygments_lexer": "ipython3",
   "version": "3.10.11"
  }
 },
 "nbformat": 4,
 "nbformat_minor": 5
}
