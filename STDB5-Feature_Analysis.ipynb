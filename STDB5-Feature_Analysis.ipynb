{
 "cells": [
  {
   "cell_type": "code",
   "execution_count": 1,
   "id": "3f691e30",
   "metadata": {},
   "outputs": [],
   "source": [
    "%load_ext autoreload\n",
    "%autoreload 2"
   ]
  },
  {
   "cell_type": "markdown",
   "id": "91c9dce4",
   "metadata": {},
   "source": [
    "With this notebook, I intend to clean DB5 and discern which features are of interest for the follow-up of the analyses. Once the optimization is done, and potential algorithms for clustering and classification are developed, the next step would be to subject these features to examination."
   ]
  },
  {
   "cell_type": "code",
   "execution_count": 2,
   "id": "4f834bdc",
   "metadata": {},
   "outputs": [],
   "source": [
    "import numpy as np \n",
    "import pandas as pd\n",
    "import matplotlib.pyplot as plt\n",
    "import scipy as sp\n",
    "import statsmodels.api as sm\n",
    "import matplotlib.patches as mpatches\n",
    "\n",
    "from sklearn.ensemble import RandomForestClassifier\n",
    "from sklearn.model_selection import train_test_split, cross_val_score, RepeatedStratifiedKFold\n",
    "from sklearn.preprocessing import StandardScaler\n",
    "from sklearn.metrics import precision_recall_curve, precision_recall_fscore_support\n",
    "\n",
    "pd.set_option('display.max_columns', None)\n",
    "path = \"data/\""
   ]
  },
  {
   "cell_type": "code",
   "execution_count": 3,
   "id": "b09db631",
   "metadata": {},
   "outputs": [
    {
     "name": "stdout",
     "output_type": "stream",
     "text": [
      "40.69% of the data decreased alpha_R\n",
      "59.31% of the data did not decrease alpha_R\n"
     ]
    }
   ],
   "source": [
    "# Obtained from Optimization\n",
    "min_subset_ids = pd.read_csv(path+\"id_vs_frequency_decreasing_ds.csv\")\n",
    "\n",
    "DB2 = pd.read_csv(path+\"DB2P8.csv\")\n",
    "DB5 = pd.read_csv(path+\"SELDB5_SVD.csv\", low_memory=False) \n",
    "DB5 = DB5[DB5[\"PHASE\"].isin(['HGELM', 'HSELM', 'HGELMH', 'HSELMH'])]\n",
    "\n",
    "# There are shots missing in DB5 from DB2P8\n",
    "missing_shots = DB2[~DB2.id.isin( DB5.id.values )].reset_index(drop=True)\n",
    "DB5 = pd.concat([DB5, missing_shots], axis=0, ignore_index=True)\n",
    "\n",
    "# Labeling shots that had great impact in decreasing alpha_R\n",
    "DB5.insert(loc=2,column=\"label\",value=[0]*len(DB5))\n",
    "DB5.loc[(DB5[DB5.id.isin(min_subset_ids.id)].index), \"label\"] = 1\n",
    "\n",
    "print(\n",
    "    f\"{ round( (len(min_subset_ids)/len(DB5))*100     ,2)  }% of the data decreased alpha_R\\n\" + \n",
    "    f\"{ round( (1 - len(min_subset_ids)/len(DB5))*100 ,2)  }% of the data did not decrease alpha_R\"\n",
    ")"
   ]
  },
  {
   "cell_type": "code",
   "execution_count": 4,
   "id": "7480b018",
   "metadata": {},
   "outputs": [
    {
     "data": {
      "text/plain": [
       "6252"
      ]
     },
     "execution_count": 4,
     "metadata": {},
     "output_type": "execute_result"
    }
   ],
   "source": [
    "len(DB5)"
   ]
  },
  {
   "cell_type": "markdown",
   "id": "e728ee14",
   "metadata": {},
   "source": [
    "# INFORMATION IN THE DATABASE\n",
    "\n",
    "[Description of Features](https://docs.google.com/document/d/19iVcGGwQGzrTmRmv6QWqR_BRhZhJrsfM/edit?usp=sharing&ouid=108518602132499005107&rtpof=true&sd=true)\n",
    "\n",
    "IMPORTANT\n",
    "\n",
    "* For all registers, there is no internal transport barrier registered.\n",
    "* Not all columns might have the same units even if the represent the same; z.B.: Power. \n",
    "\n",
    "\n",
    "**IDEA** Make a note on the TOKAMAKS that use a Limiter and the ones that don't. I think not all Tokamaks have a Divertor as well. Check that. :P \n",
    "\n",
    "* Apparently, `TFTR` doesn't have a Divertor; but, it is hard to tell. "
   ]
  },
  {
   "cell_type": "markdown",
   "id": "a1cc89c5",
   "metadata": {},
   "source": [
    "#### NOTE ON HEATING AND DIVERTORS\n",
    "\n",
    "Obtained from: **ADX: a high field, high power density, advanced divertor and RF tokamak** \n",
    "\n",
    "[[B. LaBombard, E. Marmar, J. Irby, T. Rognlien, M.Umansky, 2017]](https://www.osti.gov/pages/biblio/1463827)\n",
    "\n",
    "<img src=\"data/Images/ADX: a high field-high power_ICRH.png\" class=\"center\" width=600>"
   ]
  },
  {
   "cell_type": "code",
   "execution_count": 1,
   "id": "9ae01609",
   "metadata": {},
   "outputs": [],
   "source": [
    "# DWMHD = DWDIA\n",
    "plasma_characteristics = [\"QCYL5\",\"BEIMHD\",\"PREMAG\",\"LHTIME\",\"HYBRID\",\n",
    "                          \"CONFIG\",\"DWDIA\",\"WMHD\",\"TORQ\"\n",
    "                         ] \n",
    "TOK_characteristics = [\"TOK\",\"DIVNAME\",\"WALMAT\",\"DIVMAT\",\"LIMMAT\"]\n",
    "ELM = [\"ELMTYPE\",\"ELMFREQ\"]\n",
    "heating = [\"PECRH\", \"PICRH\", \"ICSCHEME\",\"AUXHEAT\",\"ENBI\"]\n",
    "impurities = [\"EVAP\",\"ZEFF\",\"ZEFFNEO\",\"PRAD\",]\n",
    " # corrections on power loss | NBI Power lost by unconfined orbits\n",
    "power = [\"PLTH\",\"PFLOSS\",\"POHM\"]\n",
    "temperatures = [\"TAV\",\"TEV\",\"TIV\"]\n",
    "# e-density in SOL | total due to NBI| total due to ICRH\n",
    "fast_particles = [\"NESOL\",\"WFFORM\",\"WFICFORM\"] \n",
    "\n",
    "interesting_features = plasma_characteristics + TOK_characteristics + ELM + heating + \\\n",
    "                       impurities + power + temperatures + fast_particles"
   ]
  },
  {
   "cell_type": "code",
   "execution_count": 6,
   "id": "ecce5188",
   "metadata": {},
   "outputs": [],
   "source": [
    "physical_variables = [\"RHOSTAR\",\"BETASTAR\",\"NUSTAR\"]\n",
    "engineering_variables = [\"KAREA\",\"EPS\",\"NEL\",\"IP\",\"MEFF\",\"BT\",\"PLTH\",\"RGEO\"]\n",
    "\n",
    "entropy_features = ['RHOSTAR', 'BETASTAR', 'KAREA', 'EPS', 'NEL', 'TAV', 'QCYL5', 'NUSTAR']\n",
    "research_features = ['TAUTH','NEL','TAV','BT','RHOSTAR','NUSTAR','BETASTAR']"
   ]
  },
  {
   "cell_type": "code",
   "execution_count": 7,
   "id": "5da1721c",
   "metadata": {},
   "outputs": [],
   "source": [
    "categorical = [\"PREMAG\",\"HYBRID\",\"CONFIG\",\"ELMTYPE\",\n",
    "               \"ICSCHEME\",\"AUXHEAT\",\"EVAP\"] + TOK_characteristics "
   ]
  },
  {
   "cell_type": "code",
   "execution_count": 4,
   "id": "56b2c4a9",
   "metadata": {},
   "outputs": [
    {
     "data": {
      "text/plain": [
       "48"
      ]
     },
     "execution_count": 4,
     "metadata": {},
     "output_type": "execute_result"
    }
   ],
   "source": [
    "plasma_characteristics = [\"QCYL5\",\"BEIMHD\",\"PREMAG\",\"LHTIME\",\"HYBRID\",\n",
    "                          \"CONFIG\",\"DWDIA\",\"WMHD\",\"TORQ\",\"KAREA\", \"EPS\",\"MEFF\",\"VOL\",\"LCOULOMB\"] \n",
    "TOK_characteristics = [\"TOK\",\"DIVNAME\",\"WALMAT\",\"DIVMAT\",\"LIMMAT\",\"AMIN\",\"IP\"]\n",
    "ELM = [\"ELMTYPE\",\"ELMFREQ\"]\n",
    "heating = [\"PECRH\", \"PICRH\", \"ICSCHEME\",\"AUXHEAT\",\"ECHMODE\",\"PELLET\"]\n",
    "impurities = [\"EVAP\",\"ZEFF\",\"ZEFFNEO\",\"PRAD\",\"POHM\",\"ENBI\",\"PNBI\"]\n",
    "power = [\"PLTH\",\"PFLOSS\"]\n",
    "temperatures = [\"TAV\",\"TEV\",\"TIV\"]\n",
    "fast_particles = [\"NESOL\",\"WFFORM\",\"WFICFORM\",\"OMEGACYCL\"] \n",
    "research_features = ['NEL','TAV','BT','RHOSTAR','NUSTAR','BETASTAR']\n",
    "\n",
    "\n",
    "features = list(set(plasma_characteristics + TOK_characteristics + ELM + heating + \\\n",
    "                       impurities + power  + fast_particles + research_features))\n",
    "len(features)"
   ]
  },
  {
   "cell_type": "markdown",
   "id": "fedcecbc",
   "metadata": {},
   "source": [
    "### TREATMENT TO CATEGORICAL DATA\n",
    "\n",
    "#### Replacement of NaN to UNKNOWN"
   ]
  },
  {
   "cell_type": "code",
   "execution_count": 8,
   "id": "30918416",
   "metadata": {},
   "outputs": [],
   "source": [
    "DB5[categorical] = DB5[categorical].fillna('UNKNOWN')\n",
    "DB5[\"ICSCHEME\"]   = DB5[\"ICSCHEME\"].str.replace(\"OFF\",\"NONE\",regex=False)"
   ]
  },
  {
   "cell_type": "code",
   "execution_count": 9,
   "id": "c1294ebb",
   "metadata": {},
   "outputs": [
    {
     "data": {
      "text/plain": [
       "array(['ASDEX', 'AUG', 'AUGW', 'CMOD', 'COMPASS', 'D3D', 'JET', 'JETILW',\n",
       "       'JFT2M', 'JT60U', 'MAST', 'NSTX', 'PBXM', 'PDX', 'START', 'TCV',\n",
       "       'TDEV', 'TFTR'], dtype=object)"
      ]
     },
     "execution_count": 9,
     "metadata": {},
     "output_type": "execute_result"
    }
   ],
   "source": [
    "DB5.TOK.unique()"
   ]
  },
  {
   "cell_type": "code",
   "execution_count": 10,
   "id": "b923fb1b",
   "metadata": {},
   "outputs": [
    {
     "data": {
      "text/plain": [
       "array(['DV-IPRE', 'DV-IPOST', 'DV-II-C', 'DIV-I', 'DIV-II', 'DIV-IIb',\n",
       "       'DIV-IIc', 'DIV-IId', 'DIV-III', 'NONAME', 'DIV1', 'OPEN', 'ADP',\n",
       "       'RDP', 'MARK0', 'MARKI', 'MARKIIA', 'MARKIIAP', 'MARKGB',\n",
       "       'MARKGBSR', 'ILW', 'RIB', 'PLATES1', 'UNKNOWN'], dtype=object)"
      ]
     },
     "execution_count": 10,
     "metadata": {},
     "output_type": "execute_result"
    }
   ],
   "source": [
    "DB5[\"DIVNAME\"].unique()"
   ]
  },
  {
   "cell_type": "code",
   "execution_count": 17,
   "id": "b954b6bf",
   "metadata": {},
   "outputs": [
    {
     "data": {
      "text/plain": [
       "array(['DV-I', 'DV-II', 'DV-III', 'NONAME', 'DIV1', 'OPEN', 'ADP', 'RDP',\n",
       "       'MARK', 'ILW', 'RIB', 'PLATES1', 'UNKNOWN'], dtype=object)"
      ]
     },
     "execution_count": 17,
     "metadata": {},
     "output_type": "execute_result"
    }
   ],
   "source": [
    "DB5[\"DIVNAME\"] = DB5[\"DIVNAME\"].str.replace(\"(DIV-I)|(DV-IPRE)|(DV-IPOST)\",\n",
    "                                            \"DV-I\",regex=True)\n",
    "DB5[\"DIVNAME\"] = DB5[\"DIVNAME\"].str.replace(\"(DIV-II)|(DV-IIc)|(DV-II-C)|(DV-IIb)|(DV-IIc)|(DV-IId)|(DV-IId)\",\n",
    "                                            \"DV-II\",regex=True)\n",
    "DB5[\"DIVNAME\"] = DB5[\"DIVNAME\"].str.replace(\"(MARK0)|(MARKI)|(MARKIIA)|(MARKGB)|(MARKGBSR)|\"+\n",
    "                                            \"(MARKIA)|(MARKIAP)|(MARKSR)|(MARKA)|(MARKP)\",\n",
    "                                            \"MARK\",regex=True)\n",
    "DB5[\"DIVNAME\"].unique()"
   ]
  },
  {
   "cell_type": "code",
   "execution_count": 12,
   "id": "62af61e3",
   "metadata": {},
   "outputs": [
    {
     "data": {
      "text/plain": [
       "array(['DV-I', 'DV-II', 'DV-IIb', 'DV-IIc', 'DV-IId', 'DV-III', 'NONAME',\n",
       "       'DIV1', 'OPEN', 'ADP', 'RDP', 'MARK', 'MARKIA', 'MARKIAP',\n",
       "       'MARKSR', 'ILW', 'RIB', 'PLATES1', 'UNKNOWN'], dtype=object)"
      ]
     },
     "execution_count": 12,
     "metadata": {},
     "output_type": "execute_result"
    }
   ],
   "source": [
    "DB5[\"DIVNAME\"].unique()"
   ]
  },
  {
   "cell_type": "code",
   "execution_count": 3,
   "id": "021cfa76",
   "metadata": {},
   "outputs": [],
   "source": [
    "power = [\"PLTH\",\"PFLOSS\"]\n",
    "temperatures = [\"TAV\",\"TEV\",\"TIV\"]\n",
    "fast_particles = [\"NESOL\",\"WFFORM\",\"WFICFORM\",\"OMEGACYCL\",\"NEL\"] "
   ]
  },
  {
   "cell_type": "code",
   "execution_count": 10,
   "id": "9c0c63bc",
   "metadata": {},
   "outputs": [
    {
     "data": {
      "text/plain": [
       "['NEL', 'NESOL', 'OMEGACYCL', 'WFFORM', 'WFICFORM']"
      ]
     },
     "execution_count": 10,
     "metadata": {},
     "output_type": "execute_result"
    }
   ],
   "source": [
    "sorted(fast_particles)"
   ]
  },
  {
   "cell_type": "code",
   "execution_count": 11,
   "id": "48f038f5",
   "metadata": {},
   "outputs": [
    {
     "data": {
      "text/plain": [
       "5"
      ]
     },
     "execution_count": 11,
     "metadata": {},
     "output_type": "execute_result"
    }
   ],
   "source": [
    "len(fast_particles)"
   ]
  },
  {
   "cell_type": "code",
   "execution_count": null,
   "id": "e75c1b7b",
   "metadata": {},
   "outputs": [],
   "source": []
  }
 ],
 "metadata": {
  "kernelspec": {
   "display_name": "Python 3 (ipykernel)",
   "language": "python",
   "name": "python3"
  },
  "language_info": {
   "codemirror_mode": {
    "name": "ipython",
    "version": 3
   },
   "file_extension": ".py",
   "mimetype": "text/x-python",
   "name": "python",
   "nbconvert_exporter": "python",
   "pygments_lexer": "ipython3",
   "version": "3.10.11"
  }
 },
 "nbformat": 4,
 "nbformat_minor": 5
}
