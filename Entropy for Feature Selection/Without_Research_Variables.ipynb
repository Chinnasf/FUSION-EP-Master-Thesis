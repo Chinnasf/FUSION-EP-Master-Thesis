{
 "cells": [
  {
   "cell_type": "markdown",
   "id": "81a410de",
   "metadata": {},
   "source": [
    "Karina Chiñas Fuenes | 18/04/2023 | Universiteit Gent"
   ]
  },
  {
   "cell_type": "code",
   "execution_count": 1,
   "id": "6e291939",
   "metadata": {},
   "outputs": [],
   "source": [
    "%load_ext autoreload\n",
    "%autoreload 2"
   ]
  },
  {
   "cell_type": "markdown",
   "id": "b166576a",
   "metadata": {},
   "source": [
    "This notebook is based on the document:\n",
    "\n",
    "* _Feature Selection for Clustering_, [Manoranjan Dash and Huan Liu](https://www.public.asu.edu/~huanliu/papers/pakdd00clu.pdf), 2000."
   ]
  },
  {
   "cell_type": "markdown",
   "id": "d6c10c77",
   "metadata": {},
   "source": [
    "# WITHOUT RESEARCH VARIABLES"
   ]
  },
  {
   "cell_type": "code",
   "execution_count": 2,
   "id": "ffb9da84",
   "metadata": {},
   "outputs": [],
   "source": [
    "import sys\n",
    "sys.path.append('../')\n",
    "\n",
    "import numpy as np \n",
    "import pandas as pd\n",
    "import matplotlib.pyplot as plt\n",
    "import scipy as sp\n",
    "import statsmodels.api as sm\n",
    "import matplotlib.patches as mpatches\n",
    "\n",
    "import tokamakTK\n",
    "from tokamakTK import get_regression\n",
    "\n",
    "from collections import Counter\n",
    "\n",
    "from sklearn.preprocessing import StandardScaler\n",
    "from sklearn.cluster import KMeans\n",
    "from yellowbrick.cluster import KElbowVisualizer\n",
    "from yellowbrick.cluster import SilhouetteVisualizer\n",
    "\n",
    "\n",
    "\n",
    "pd.set_option('display.max_columns', None)\n",
    "path = \"../data/\""
   ]
  },
  {
   "cell_type": "code",
   "execution_count": 3,
   "id": "21cd04cb",
   "metadata": {},
   "outputs": [
    {
     "name": "stdout",
     "output_type": "stream",
     "text": [
      "23.77% of the data decreased alpha_R\n",
      "76.23% of the data did not decrease alpha_R\n"
     ]
    }
   ],
   "source": [
    "# Obtained from Optimization\n",
    "\n",
    "min_subset_ids = pd.read_csv(path+\"id_vs_frequency_decreasing_ds.csv\")\n",
    "min_subset_ids = min_subset_ids[min_subset_ids.frequency > 0] # otherwise alpha-R ~ 1\n",
    "\n",
    "DB2 = pd.read_csv(path+\"DB2P8.csv\")\n",
    "DB5 = pd.read_csv(path+\"SELDB5_SVD.csv\", low_memory=False) \n",
    "DB5 = DB5[DB5[\"PHASE\"].isin(['HGELM', 'HSELM', 'HGELMH', 'HSELMH'])]\n",
    "\n",
    "DB5[\"DATE\"] = DB5[\"DATE\"].astype(str).replace(r\"(\\d{6})00\", r\"\\g<1>01\", regex=True)\n",
    "DB5[\"DATE\"] = pd.to_datetime(DB5[\"DATE\"], format=\"%Y%m%d\")\n",
    "\n",
    "# There is two shots from DB2P8 missing in DB5\n",
    "missing_shots = DB2[~DB2.id.isin( DB5.id.values )].reset_index(drop=True)\n",
    "DB5 = pd.concat([DB5, missing_shots], axis=0, ignore_index=True)\n",
    "\n",
    "# Labeling shots that had great impact in decreasing alpha_R\n",
    "DB5.insert(loc=2,column=\"label\",value=[0]*len(DB5))\n",
    "DB5.loc[(DB5[DB5.id.isin(min_subset_ids.id)].index), \"label\"] = 1\n",
    "\n",
    "print(\n",
    "    f\"{ round( (len(min_subset_ids)/len(DB5))*100     ,2)  }% of the data decreased alpha_R\\n\" + \n",
    "    f\"{ round( (1 - len(min_subset_ids)/len(DB5))*100 ,2)  }% of the data did not decrease alpha_R\"\n",
    ")"
   ]
  },
  {
   "cell_type": "code",
   "execution_count": 4,
   "id": "1383a177",
   "metadata": {},
   "outputs": [
    {
     "data": {
      "text/html": [
       "<table class=\"simpletable\">\n",
       "<caption>OLS Regression Results</caption>\n",
       "<tr>\n",
       "  <th>Dep. Variable:</th>            <td>y</td>        <th>  R-squared:         </th> <td>   0.940</td>\n",
       "</tr>\n",
       "<tr>\n",
       "  <th>Model:</th>                   <td>OLS</td>       <th>  Adj. R-squared:    </th> <td>   0.939</td>\n",
       "</tr>\n",
       "<tr>\n",
       "  <th>Method:</th>             <td>Least Squares</td>  <th>  F-statistic:       </th> <td>   5422.</td>\n",
       "</tr>\n",
       "<tr>\n",
       "  <th>Date:</th>             <td>Tue, 18 Apr 2023</td> <th>  Prob (F-statistic):</th>  <td>  0.00</td> \n",
       "</tr>\n",
       "<tr>\n",
       "  <th>Time:</th>                 <td>22:16:03</td>     <th>  Log-Likelihood:    </th> <td>  452.67</td>\n",
       "</tr>\n",
       "<tr>\n",
       "  <th>No. Observations:</th>      <td>  2796</td>      <th>  AIC:               </th> <td>  -887.3</td>\n",
       "</tr>\n",
       "<tr>\n",
       "  <th>Df Residuals:</th>          <td>  2787</td>      <th>  BIC:               </th> <td>  -833.9</td>\n",
       "</tr>\n",
       "<tr>\n",
       "  <th>Df Model:</th>              <td>     8</td>      <th>                     </th>     <td> </td>   \n",
       "</tr>\n",
       "<tr>\n",
       "  <th>Covariance Type:</th>      <td>nonrobust</td>    <th>                     </th>     <td> </td>   \n",
       "</tr>\n",
       "</table>\n",
       "<table class=\"simpletable\">\n",
       "<tr>\n",
       "    <td></td>       <th>coef</th>     <th>std err</th>      <th>t</th>      <th>P>|t|</th>  <th>[0.025</th>    <th>0.975]</th>  \n",
       "</tr>\n",
       "<tr>\n",
       "  <th>const</th> <td>   -2.2798</td> <td>    0.037</td> <td>  -60.861</td> <td> 0.000</td> <td>   -2.353</td> <td>   -2.206</td>\n",
       "</tr>\n",
       "<tr>\n",
       "  <th>x1</th>    <td>    1.4158</td> <td>    0.022</td> <td>   64.323</td> <td> 0.000</td> <td>    1.373</td> <td>    1.459</td>\n",
       "</tr>\n",
       "<tr>\n",
       "  <th>x2</th>    <td>    0.0284</td> <td>    0.020</td> <td>    1.438</td> <td> 0.150</td> <td>   -0.010</td> <td>    0.067</td>\n",
       "</tr>\n",
       "<tr>\n",
       "  <th>x3</th>    <td>   -0.1323</td> <td>    0.015</td> <td>   -8.997</td> <td> 0.000</td> <td>   -0.161</td> <td>   -0.103</td>\n",
       "</tr>\n",
       "<tr>\n",
       "  <th>x4</th>    <td>   -0.5320</td> <td>    0.012</td> <td>  -45.133</td> <td> 0.000</td> <td>   -0.555</td> <td>   -0.509</td>\n",
       "</tr>\n",
       "<tr>\n",
       "  <th>x5</th>    <td>    0.6558</td> <td>    0.037</td> <td>   17.770</td> <td> 0.000</td> <td>    0.583</td> <td>    0.728</td>\n",
       "</tr>\n",
       "<tr>\n",
       "  <th>x6</th>    <td>    0.0091</td> <td>    0.037</td> <td>    0.244</td> <td> 0.807</td> <td>   -0.064</td> <td>    0.082</td>\n",
       "</tr>\n",
       "<tr>\n",
       "  <th>x7</th>    <td>   -0.5508</td> <td>    0.048</td> <td>  -11.567</td> <td> 0.000</td> <td>   -0.644</td> <td>   -0.457</td>\n",
       "</tr>\n",
       "<tr>\n",
       "  <th>x8</th>    <td>    0.1324</td> <td>    0.026</td> <td>    5.154</td> <td> 0.000</td> <td>    0.082</td> <td>    0.183</td>\n",
       "</tr>\n",
       "</table>\n",
       "<table class=\"simpletable\">\n",
       "<tr>\n",
       "  <th>Omnibus:</th>       <td>34.539</td> <th>  Durbin-Watson:     </th> <td>   0.600</td>\n",
       "</tr>\n",
       "<tr>\n",
       "  <th>Prob(Omnibus):</th> <td> 0.000</td> <th>  Jarque-Bera (JB):  </th> <td>  60.020</td>\n",
       "</tr>\n",
       "<tr>\n",
       "  <th>Skew:</th>          <td>-0.003</td> <th>  Prob(JB):          </th> <td>9.27e-14</td>\n",
       "</tr>\n",
       "<tr>\n",
       "  <th>Kurtosis:</th>      <td> 3.718</td> <th>  Cond. No.          </th> <td>    53.4</td>\n",
       "</tr>\n",
       "</table><br/><br/>Notes:<br/>[1] Standard Errors assume that the covariance matrix of the errors is correctly specified."
      ],
      "text/plain": [
       "<class 'statsmodels.iolib.summary.Summary'>\n",
       "\"\"\"\n",
       "                            OLS Regression Results                            \n",
       "==============================================================================\n",
       "Dep. Variable:                      y   R-squared:                       0.940\n",
       "Model:                            OLS   Adj. R-squared:                  0.939\n",
       "Method:                 Least Squares   F-statistic:                     5422.\n",
       "Date:                Tue, 18 Apr 2023   Prob (F-statistic):               0.00\n",
       "Time:                        22:16:03   Log-Likelihood:                 452.67\n",
       "No. Observations:                2796   AIC:                            -887.3\n",
       "Df Residuals:                    2787   BIC:                            -833.9\n",
       "Df Model:                           8                                         \n",
       "Covariance Type:            nonrobust                                         \n",
       "==============================================================================\n",
       "                 coef    std err          t      P>|t|      [0.025      0.975]\n",
       "------------------------------------------------------------------------------\n",
       "const         -2.2798      0.037    -60.861      0.000      -2.353      -2.206\n",
       "x1             1.4158      0.022     64.323      0.000       1.373       1.459\n",
       "x2             0.0284      0.020      1.438      0.150      -0.010       0.067\n",
       "x3            -0.1323      0.015     -8.997      0.000      -0.161      -0.103\n",
       "x4            -0.5320      0.012    -45.133      0.000      -0.555      -0.509\n",
       "x5             0.6558      0.037     17.770      0.000       0.583       0.728\n",
       "x6             0.0091      0.037      0.244      0.807      -0.064       0.082\n",
       "x7            -0.5508      0.048    -11.567      0.000      -0.644      -0.457\n",
       "x8             0.1324      0.026      5.154      0.000       0.082       0.183\n",
       "==============================================================================\n",
       "Omnibus:                       34.539   Durbin-Watson:                   0.600\n",
       "Prob(Omnibus):                  0.000   Jarque-Bera (JB):               60.020\n",
       "Skew:                          -0.003   Prob(JB):                     9.27e-14\n",
       "Kurtosis:                       3.718   Cond. No.                         53.4\n",
       "==============================================================================\n",
       "\n",
       "Notes:\n",
       "[1] Standard Errors assume that the covariance matrix of the errors is correctly specified.\n",
       "\"\"\""
      ]
     },
     "execution_count": 4,
     "metadata": {},
     "output_type": "execute_result"
    }
   ],
   "source": [
    "get_regression( DB5[DB5.label.isin([1])]  )[1].summary()"
   ]
  },
  {
   "cell_type": "markdown",
   "id": "7c5c6703",
   "metadata": {},
   "source": [
    "## Setting Features of Interest"
   ]
  },
  {
   "cell_type": "code",
   "execution_count": 5,
   "id": "1a85e78c",
   "metadata": {},
   "outputs": [],
   "source": [
    "plasma_characteristics = [\"QCYL5\",\"BEIMHD\",\"PREMAG\",\"LHTIME\",\"HYBRID\",\n",
    "                          \"CONFIG\",\"DWDIA\",\"WMHD\",\"TORQ\"\n",
    "                         ] \n",
    "TOK_characteristics = [\"TOK\",\"DIVNAME\",\"WALMAT\",\"DIVMAT\",\"LIMMAT\"]\n",
    "ELM = [\"ELMTYPE\",\"ELMFREQ\"]\n",
    "heating = [\"PECRH\", \"PICRH\", \"ICSCHEME\",\"AUXHEAT\",\"ECHMODE\",\"PELLET\"]\n",
    "impurities = [\"EVAP\",\"ZEFF\",\"ZEFFNEO\",\"PRAD\",\"POHM\",\"ENBI\"]\n",
    " # corrections on power loss | NBI Power lost by unconfined orbits\n",
    "power = [\"PLTH\",\"PFLOSS\"]\n",
    "temperatures = [\"TAV\",\"TEV\",\"TIV\"]\n",
    "# e-density in SOL | total due to NBI| total due to ICRH\n",
    "fast_particles = [\"NESOL\",\"WFFORM\",\"WFICFORM\"] \n",
    "research_features = ['NEL','TAV','BT','RHOSTAR','NUSTAR','BETASTAR']\n",
    "\n",
    "interesting_features = set(plasma_characteristics + TOK_characteristics + ELM + heating + \\\n",
    "                       impurities + power  + fast_particles)\n",
    "\n",
    "data = DB5[DB5.label.isin([1])].copy()\n",
    "data = data[list(interesting_features)+[\"DATE\"]].reset_index(drop=True)\n",
    "\n",
    "# Needed to respectively clean each dtype\n",
    "num_features = data.select_dtypes(include=['int', 'float']).columns.tolist()\n",
    "cat_features = data.select_dtypes(include=['object']).columns.tolist()\n",
    "cat_features = cat_features[:-1] # Removing \"DATE\"\n",
    "\n",
    "data_num = data[num_features+[\"DATE\", \"TOK\"]]\n",
    "data_cat = data[cat_features]"
   ]
  },
  {
   "cell_type": "markdown",
   "id": "3414f078",
   "metadata": {},
   "source": [
    "## Treatment to Categorical and Numerical Data"
   ]
  },
  {
   "cell_type": "code",
   "execution_count": 6,
   "id": "7fa84ef9",
   "metadata": {},
   "outputs": [],
   "source": [
    "data_cat = tokamakTK.clean_categorical_data(data_cat)\n",
    "data_num = tokamakTK.clean_numerical_data(data_num)"
   ]
  },
  {
   "cell_type": "code",
   "execution_count": 7,
   "id": "a29f809c",
   "metadata": {},
   "outputs": [],
   "source": [
    "data = pd.concat([data_cat, data_num], axis=1)\n",
    "N,M = data.shape\n",
    "\n",
    "# used to get feature ranking\n",
    "feature_dic = dict( zip( list(range(M)), data.columns ) )"
   ]
  },
  {
   "cell_type": "markdown",
   "id": "8dab483b",
   "metadata": {},
   "source": [
    "## ENTROPY IN DATASET | Categorical\n",
    "#### Using the concept of entropy to rank the importance of features.\n",
    "\n",
    "0. Computing the distance between two points\n",
    "\n",
    "Euclidean distance:\n",
    "\n",
    "$$\n",
    "    D^k_{ij} = \\left( \\frac{ x_{ik} - x_{jk} }{ max(F_k) - min(F_k) } \\right)^2 \n",
    "$$\n",
    "\n",
    "$$\n",
    "    D_{ij} = \\left[ \\sum^M_{k=1} \\: D^k_{ij}\\right]^{1/2}\n",
    "$$\n",
    "\n",
    "Where $F_k$ is the $k$-th column representing the $k$-th feature. With $k=1,\\dots,M$ The $x_{ik}$ is the $i$-th point of the $k$-th feature; the same for $j$. With $i$,$j=1\\ldots,N$. And $N$ being the total points of observations. Thus the similarity between two points\n",
    "\n",
    "Defined as:\n",
    "\n",
    "$$\n",
    "    S_{ij} = e^{-\\alpha \\cdot D_{ij}}\n",
    "$$\n",
    "\n",
    "Where $\\alpha$ is a parameter. Here $\\alpha = 0.5$. According to [Manoranjan Dash and Huan Liu](https://www.public.asu.edu/~huanliu/papers/pakdd00clu.pdf), If one plots similarity vs distance, the curve will have a biggercurvature for a larger $\\alpha$. \n",
    "\n",
    "1. Computing the similarity between two points with Humming distance:\n",
    "\n",
    "\\begin{equation}\n",
    "        S_{ij} = \\frac{1}{M}\\sum^M_{k=1} \\delta_{ij}(x^k); \\quad \\text{with} \\:\\: \\delta_{ij}(x^k) = \\begin{cases}\n",
    "    1,\\:\\text{if}\\:\\: x^k_i = x^k_j\\\\\n",
    "    0,\\:\\text{if}\\:\\: x^k_i \\neq x^k_j\n",
    "    \\end{cases}\n",
    "\\end{equation}\n",
    "\n",
    "With $M$ being the total number of features.\n",
    "\n",
    "\n",
    "2. The entropy of the dataset is:\n",
    "\n",
    "$$\n",
    "    E = -\\sum^N_{i=1}\\sum^N_{j=1} E_{ij}= -\\sum^N_{i=1}\\sum^N_{j=1}\\left[ S_{ij}\\cdot\\text{Log}\\left(S_{ij}\\right) +  \\left(1-S_{ij}\\right)\\cdot\\text{Log}\\left(1-S_{ij}\\right) \\right]\n",
    "$$\n",
    "\n",
    "In the expression above, $N$ corresponds to the total number of observations in dataset (rows). \n",
    "\n",
    "The ranking is done in an interative process: eliminate a column at a time and assess the disorder that the removal has caused by calculating the corresponding entropy. Let us sat that $E_{^-F_i} > E_{^-F_j}$ is the statement that the removal of feature $i$ of the dataset caused more disorder than the removal of feature $j$. One can then construct an array $\\vec{E_-} = \\{E_{F_k}\\}$, for $k=1,\\ldots,M$. Thus, the most important feature will be  max$(\\vec{E_-})$."
   ]
  },
  {
   "cell_type": "markdown",
   "id": "4873807d",
   "metadata": {},
   "source": [
    "$\\delta_{ij}(x^k)\\:\\rightarrow$ `np.frompyfunc( lambda x,y: x-y, 2, 1).reduce( np.array( np.meshgrid(F_k,F_k) ) )`"
   ]
  },
  {
   "cell_type": "code",
   "execution_count": 8,
   "id": "919f199c",
   "metadata": {
    "scrolled": false
   },
   "outputs": [],
   "source": [
    "features_ranked_entropy = tokamakTK.get_ranked_features(data)\n",
    "ordered_features = list(features_ranked_entropy.index.map(feature_dic))"
   ]
  },
  {
   "cell_type": "code",
   "execution_count": 9,
   "id": "62e6ce57",
   "metadata": {},
   "outputs": [
    {
     "data": {
      "image/png": "[encoded data removed]",
      "text/plain": [
       "<Figure size 600x300 with 1 Axes>"
      ]
     },
     "metadata": {},
     "output_type": "display_data"
    }
   ],
   "source": [
    "plt.figure(figsize=(6,3))\n",
    "plt.scatter(features_ranked_entropy.index, features_ranked_entropy.values, c=\"r\")\n",
    "plt.xlabel(\"Removed Feature\")\n",
    "plt.ylabel(\"Entropy of Dataset\");"
   ]
  },
  {
   "cell_type": "code",
   "execution_count": 10,
   "id": "09cfeff9",
   "metadata": {},
   "outputs": [
    {
     "name": "stdout",
     "output_type": "stream",
     "text": [
      "['ZEFFNEO', 'WFICFORM', 'DWDIA', 'ENBI', 'WMHD', 'WFFORM', 'PICRH', 'QCYL5', 'PECRH', 'ZEFF', 'TOK', 'BEIMHD', 'PFLOSS', 'PLTH', 'POHM', 'WALMAT', 'ELMFREQ', 'DIVNAME', 'LHTIME', 'PRAD', 'NESOL', 'TORQ', 'LIMMAT', 'HYBRID', 'EVAP', 'PREMAG', 'ECHMODE', 'DIVMAT', 'PELLET', 'ELMTYPE', 'ICSCHEME', 'AUXHEAT', 'CONFIG']\n"
     ]
    }
   ],
   "source": [
    "print(ordered_features,)"
   ]
  },
  {
   "cell_type": "markdown",
   "id": "08de1222",
   "metadata": {},
   "source": [
    "### Comparing with the case containing research variables\n",
    "\n",
    "```Python\n",
    "['ZEFFNEO', 'WFICFORM', 'DWDIA', 'RHOSTAR', 'NEL', 'ENBI', 'WMHD', 'TAV', 'BETASTAR', 'WFFORM', 'NUSTAR', 'PICRH', 'QCYL5', 'PECRH', 'ZEFF', 'BEIMHD', 'PFLOSS', 'BT', 'PLTH', 'POHM', 'TOK', 'PRAD', 'LHTIME', 'ELMFREQ', 'WALMAT', 'DIVNAME', 'NESOL', 'TORQ', 'LIMMAT', 'HYBRID', 'EVAP', 'ECHMODE', 'PREMAG', 'DIVMAT', 'PELLET', 'ELMTYPE', 'ICSCHEME', 'AUXHEAT', 'CONFIG']\n",
    "```"
   ]
  },
  {
   "cell_type": "code",
   "execution_count": null,
   "id": "98ec8af4",
   "metadata": {},
   "outputs": [],
   "source": []
  }
 ],
 "metadata": {
  "kernelspec": {
   "display_name": "Python 3 (ipykernel)",
   "language": "python",
   "name": "python3"
  },
  "language_info": {
   "codemirror_mode": {
    "name": "ipython",
    "version": 3
   },
   "file_extension": ".py",
   "mimetype": "text/x-python",
   "name": "python",
   "nbconvert_exporter": "python",
   "pygments_lexer": "ipython3",
   "version": "3.10.10"
  }
 },
 "nbformat": 4,
 "nbformat_minor": 5
}
